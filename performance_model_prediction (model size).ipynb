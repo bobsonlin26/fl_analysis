{
 "cells": [
  {
   "cell_type": "code",
   "execution_count": 58,
   "metadata": {},
   "outputs": [],
   "source": [
    "import math"
   ]
  },
  {
   "cell_type": "code",
   "execution_count": 59,
   "metadata": {},
   "outputs": [],
   "source": [
    "from thop import profile"
   ]
  },
  {
   "cell_type": "markdown",
   "metadata": {},
   "source": [
    "## Setup"
   ]
  },
  {
   "cell_type": "code",
   "execution_count": 60,
   "metadata": {},
   "outputs": [],
   "source": [
    "# # original\n",
    "# model_size = 431080 * 4 * 8\n",
    "# param_size = round(model_size / 32)\n",
    "# add_p = 0.0014\n",
    "# add_time_per_million = 0.012\n",
    "# mul_time_per_million = 0\n",
    "\n",
    "# nr_layer = 4\n",
    "# nr_worker = 3\n",
    "# recv_ratio = (98.65)/100\n",
    "\n",
    "# bandwidth_dict = {}\n",
    "# bandwidth_dict[\"s2c\"] = 47.2 * 1000 * 1000\n",
    "# bandwidth_dict[\"c2c\"] = 48.97 * 1000 * 1000\n",
    "# bandwidth_dict[\"c2w\"] = 465 * 1000 * 1000\n",
    "\n",
    "# time_cmd = 0.002\n",
    "\n",
    "# gis_real_value = 0.32\n",
    "# emp_real_value = 2.74\n",
    "# agg_real_value = 0.1\n",
    "# dec_real_value = 0.1774"
   ]
  },
  {
   "cell_type": "code",
   "execution_count": 61,
   "metadata": {},
   "outputs": [],
   "source": [
    "# resnet 18\n",
    "model_size = 46189135 * 8\n",
    "param_size = round(model_size / 32)\n",
    "add_p = 0.0014\n",
    "add_time_per_million = 0.012\n",
    "mul_time_per_million = 0\n",
    "\n",
    "nr_layer = 5\n",
    "nr_worker = 3\n",
    "recv_ratio = 91.55/100\n",
    "\n",
    "bandwidth_dict = {}\n",
    "bandwidth_dict[\"s2c\"] = 47.2 * 1000 * 1000\n",
    "bandwidth_dict[\"c2c\"] = 48.97 * 1000 * 1000\n",
    "bandwidth_dict[\"c2w\"] = 465 * 1000 * 1000\n",
    "\n",
    "time_cmd = 0.002\n",
    "\n",
    "gis_real_value = 8.66\n",
    "emp_real_value = 58\n",
    "agg_real_value = 0.23\n",
    "dec_real_value = 5.166"
   ]
  },
  {
   "cell_type": "code",
   "execution_count": 62,
   "metadata": {},
   "outputs": [],
   "source": [
    "# # resnet 34\n",
    "# model_size = 87563522 * 8\n",
    "# param_size = round(model_size / 32)\n",
    "# add_p = 0.0014\n",
    "# mul_time_per_million = 0\n",
    "# # mul_time_per_million = 0.636\n",
    "\n",
    "# nr_layer = 5\n",
    "# nr_worker = 3\n",
    "# recv_ratio = 91.55/100\n",
    "\n",
    "# bandwidth_dict = {}\n",
    "# bandwidth_dict[\"s2c\"] = 47.2 * 1000 * 1000\n",
    "# bandwidth_dict[\"c2c\"] = 48.97 * 1000 * 1000\n",
    "# bandwidth_dict[\"c2w\"] = 465 * 1000 * 1000\n",
    "\n",
    "# time_cmd = 0.002\n",
    "\n",
    "# gis_real_value = 16.4\n",
    "# emp_real_value = 114.9\n",
    "# agg_real_value = 0.35\n",
    "# dec_real_value = 10.04"
   ]
  },
  {
   "cell_type": "code",
   "execution_count": 63,
   "metadata": {},
   "outputs": [],
   "source": [
    "# # resnet 50\n",
    "# model_size = 94329249 * 8\n",
    "# param_size = round(model_size / 32)\n",
    "# add_p = 0.0014\n",
    "# mul_time_per_million = 0\n",
    "\n",
    "# nr_layer = 5\n",
    "# nr_worker = 3\n",
    "# recv_ratio = 91.55/100\n",
    "# # recv_ratio = (100-8.33)/100\n",
    "\n",
    "# bandwidth_dict = {}\n",
    "# bandwidth_dict[\"s2c\"] = 47.2 * 1000 * 1000\n",
    "# bandwidth_dict[\"c2c\"] = 48.97 * 1000 * 1000\n",
    "# bandwidth_dict[\"c2w\"] = 465 * 1000 * 1000\n",
    "\n",
    "# time_cmd = 0.002\n",
    "\n",
    "# gis_real_value = 17.6\n",
    "# emp_real_value = 127.7\n",
    "# agg_real_value = 0.364\n",
    "# dec_real_value = 10.78"
   ]
  },
  {
   "cell_type": "code",
   "execution_count": 64,
   "metadata": {},
   "outputs": [],
   "source": [
    "def ratio(pred_value, real_value):\n",
    "    return pred_value / real_value"
   ]
  },
  {
   "cell_type": "code",
   "execution_count": 65,
   "metadata": {},
   "outputs": [],
   "source": [
    "\"\"\"\n",
    "data_kargs:\n",
    "    * data.shape: List\n",
    "    * nr_bits for the type of data: int\n",
    "    * label.shape: List\n",
    "    * nr_bits for the type of label: int\n",
    "fb_kargs:\n",
    "    * bandwidth (Mbps): float\n",
    "    * constant: float\n",
    "cmp_kargs:\n",
    "    * gflops: float\n",
    "    * constant: float\n",
    "\"\"\"\n",
    "def local_training_predictor(model_flops, data_kargs, fb_kargs, cmp_kargs):\n",
    "    nr_data_element = 1\n",
    "    for nr in data_kargs[\"data\"][\"shape\"]:\n",
    "        nr_data_element = nr * nr_data_element\n",
    "        \n",
    "    nr_data_bits = nr_data_element * data_kargs[\"data\"][\"type_bits\"]\n",
    "    \n",
    "    nr_label_element = 1\n",
    "    for nr in data_kargs[\"label\"][\"shape\"]:\n",
    "        nr_label_element = nr * nr_label_element\n",
    "        \n",
    "    nr_label_bits = nr_label_element * data_kargs[\"label\"][\"type_bits\"]\n",
    "    \n",
    "    nr_batch_bits = data_kargs[\"batch_size\"] * (nr_label_bits + nr_data_bits)\n",
    "    nr_batch = math.ceil(data_kargs[\"data_size\"] / data_kargs[\"batch_size\"])\n",
    "    fetch_batch_time = nr_batch_bits / (fb_kargs[\"mbps\"] * 1024 * 1024) + fb_kargs[\"constant\"]\n",
    "    comp_batch_time = (data_kargs[\"batch_size\"] * model_flops) / (cmp_kargs[\"gflops\"] * 1024 * 1024 * 1024) + cmp_kargs[\"constant\"]\n",
    "    \n",
    "    predict_value = nr_batch * (fetch_batch_time + comp_batch_time)\n",
    "    \n",
    "    return fetch_batch_time, comp_batch_time, predict_value"
   ]
  },
  {
   "cell_type": "markdown",
   "metadata": {},
   "source": [
    "## LT prediction"
   ]
  },
  {
   "cell_type": "code",
   "execution_count": 66,
   "metadata": {},
   "outputs": [],
   "source": [
    "label_name = \"resnet_18\"\n",
    "\n",
    "model_flops_dict = {\n",
    "    \"original\": 2307720 * 2 * 3,\n",
    "    \"resnet_18\": 13412720 * 2 * 3,\n",
    "    \"resnet_34\": 23747720 * 2 * 3,\n",
    "    \"resnet_50\": 25437720 * 2 * 3\n",
    "}\n",
    "\n",
    "lt_real_value_dict = {\n",
    "    \"original\": 13.57,\n",
    "    \"resnet_18\": 26.76,\n",
    "    \"resnet_34\": 42.67,\n",
    "    \"resnet_50\": 45.167\n",
    "}\n",
    "\n",
    "model_flops = model_flops_dict[label_name]\n",
    "\n",
    "data_kargs = {}\n",
    "data_kargs[\"data\"] = {}\n",
    "data_kargs[\"label\"] = {}\n",
    "data_kargs[\"data_size\"] = 24754\n",
    "data_kargs[\"batch_size\"] = 64\n",
    "data_kargs[\"data\"][\"shape\"] = [28, 28]\n",
    "data_kargs[\"data\"][\"type_bits\"] = 32\n",
    "data_kargs[\"label\"][\"shape\"] = [1]\n",
    "data_kargs[\"label\"][\"type_bits\"] = 64\n",
    "\n",
    "fb_kargs = {}\n",
    "fb_kargs[\"mbps\"] = 186.615\n",
    "fb_kargs[\"constant\"] = 0.0138\n",
    "\n",
    "cmp_kargs = {}\n",
    "cmp_kargs[\"gflops\"] = 94.86\n",
    "cmp_kargs[\"constant\"] = 0.016\n",
    "\n",
    "lt_real_value = lt_real_value_dict[label_name]"
   ]
  },
  {
   "cell_type": "code",
   "execution_count": 67,
   "metadata": {},
   "outputs": [
    {
     "data": {
      "text/plain": [
       "80476320"
      ]
     },
     "execution_count": 67,
     "metadata": {},
     "output_type": "execute_result"
    }
   ],
   "source": [
    "model_flops"
   ]
  },
  {
   "cell_type": "code",
   "execution_count": 68,
   "metadata": {},
   "outputs": [],
   "source": [
    "_, _, pred_time = local_training_predictor(model_flops, data_kargs, fb_kargs, cmp_kargs)"
   ]
  },
  {
   "cell_type": "code",
   "execution_count": 69,
   "metadata": {},
   "outputs": [
    {
     "data": {
      "text/plain": [
       "34.28552358073673"
      ]
     },
     "execution_count": 69,
     "metadata": {},
     "output_type": "execute_result"
    }
   ],
   "source": [
    "pred_time"
   ]
  },
  {
   "cell_type": "code",
   "execution_count": 70,
   "metadata": {},
   "outputs": [
    {
     "data": {
      "text/plain": [
       "1.2812228542876205"
      ]
     },
     "execution_count": 70,
     "metadata": {},
     "output_type": "execute_result"
    }
   ],
   "source": [
    "pred_time / lt_real_value"
   ]
  },
  {
   "cell_type": "markdown",
   "metadata": {},
   "source": [
    "## GIS Prediction"
   ]
  },
  {
   "cell_type": "code",
   "execution_count": 71,
   "metadata": {},
   "outputs": [],
   "source": [
    "def gis_prediction():\n",
    "    return model_size / bandwidth_dict[\"s2c\"] + model_size / bandwidth_dict[\"s2c\"] * (1-recv_ratio) * (nr_worker-1)"
   ]
  },
  {
   "cell_type": "code",
   "execution_count": 72,
   "metadata": {},
   "outputs": [
    {
     "data": {
      "text/plain": [
       "9.151711663559322"
      ]
     },
     "execution_count": 72,
     "metadata": {},
     "output_type": "execute_result"
    }
   ],
   "source": [
    "gis_prediction()"
   ]
  },
  {
   "cell_type": "code",
   "execution_count": 73,
   "metadata": {},
   "outputs": [
    {
     "data": {
      "text/plain": [
       "1.056779637824402"
      ]
     },
     "execution_count": 73,
     "metadata": {},
     "output_type": "execute_result"
    }
   ],
   "source": [
    "ratio(gis_prediction(), gis_real_value)"
   ]
  },
  {
   "cell_type": "markdown",
   "metadata": {},
   "source": [
    "## Local Training Prediction"
   ]
  },
  {
   "cell_type": "markdown",
   "metadata": {},
   "source": [
    "## EMP"
   ]
  },
  {
   "cell_type": "code",
   "execution_count": 74,
   "metadata": {},
   "outputs": [],
   "source": [
    "def emp_prediction():\n",
    "    time_fixed_model = (2 * model_size) / bandwidth_dict[\"c2c\"]\n",
    "    return (nr_worker - 1) * (1 + recv_ratio) * time_fixed_model + mul_time_per_million * (param_size/1000000)"
   ]
  },
  {
   "cell_type": "code",
   "execution_count": 75,
   "metadata": {},
   "outputs": [
    {
     "data": {
      "text/plain": [
       "57.81517702593424"
      ]
     },
     "execution_count": 75,
     "metadata": {},
     "output_type": "execute_result"
    }
   ],
   "source": [
    "emp_prediction()"
   ]
  },
  {
   "cell_type": "code",
   "execution_count": 76,
   "metadata": {},
   "outputs": [
    {
     "data": {
      "text/plain": [
       "58"
      ]
     },
     "execution_count": 76,
     "metadata": {},
     "output_type": "execute_result"
    }
   ],
   "source": [
    "emp_real_value"
   ]
  },
  {
   "cell_type": "code",
   "execution_count": 77,
   "metadata": {},
   "outputs": [
    {
     "data": {
      "text/plain": [
       "0.9968133969988662"
      ]
     },
     "execution_count": 77,
     "metadata": {},
     "output_type": "execute_result"
    }
   ],
   "source": [
    "ratio(emp_prediction(), emp_real_value)"
   ]
  },
  {
   "cell_type": "code",
   "execution_count": null,
   "metadata": {},
   "outputs": [],
   "source": []
  },
  {
   "cell_type": "markdown",
   "metadata": {},
   "source": [
    "## Aggregation prediction"
   ]
  },
  {
   "cell_type": "code",
   "execution_count": 78,
   "metadata": {},
   "outputs": [],
   "source": [
    "def agg_prediction():\n",
    "    return 2 * nr_layer * ((nr_worker - 1) * (nr_worker * time_cmd)) + (nr_worker - 1) * nr_worker *  (param_size/1000000) * add_p"
   ]
  },
  {
   "cell_type": "code",
   "execution_count": 79,
   "metadata": {},
   "outputs": [],
   "source": [
    "# def agg_prediction():\n",
    "#     return 2 * nr_layer * ((nr_worker - 1) * (nr_worker * time_cmd)) + (nr_worker - 1) *  (param_size/1000000) * add_p"
   ]
  },
  {
   "cell_type": "code",
   "execution_count": 80,
   "metadata": {},
   "outputs": [],
   "source": [
    "# def agg_prediction():\n",
    "#     return 2 * nr_layer * ((nr_worker - 1) * nr_worker * time_cmd) + (param_size/1000000) * add_time_per_million"
   ]
  },
  {
   "cell_type": "code",
   "execution_count": 81,
   "metadata": {},
   "outputs": [
    {
     "data": {
      "text/plain": [
       "0.21699718559999998"
      ]
     },
     "execution_count": 81,
     "metadata": {},
     "output_type": "execute_result"
    }
   ],
   "source": [
    "agg_prediction()"
   ]
  },
  {
   "cell_type": "code",
   "execution_count": 82,
   "metadata": {},
   "outputs": [
    {
     "data": {
      "text/plain": [
       "0.9434660243478259"
      ]
     },
     "execution_count": 82,
     "metadata": {},
     "output_type": "execute_result"
    }
   ],
   "source": [
    "ratio(agg_prediction(), agg_real_value)"
   ]
  },
  {
   "cell_type": "code",
   "execution_count": 83,
   "metadata": {},
   "outputs": [
    {
     "data": {
      "text/plain": [
       "0.9434660243478259"
      ]
     },
     "execution_count": 83,
     "metadata": {},
     "output_type": "execute_result"
    }
   ],
   "source": [
    "ratio(agg_prediction(), agg_real_value)"
   ]
  },
  {
   "cell_type": "markdown",
   "metadata": {},
   "source": [
    "## Decryption prediction"
   ]
  },
  {
   "cell_type": "code",
   "execution_count": 84,
   "metadata": {},
   "outputs": [],
   "source": [
    "def dec_prediction():\n",
    "    return nr_worker * (model_size * 2 / bandwidth_dict[\"c2w\"])"
   ]
  },
  {
   "cell_type": "code",
   "execution_count": 85,
   "metadata": {},
   "outputs": [
    {
     "data": {
      "text/plain": [
       "4.76791070967742"
      ]
     },
     "execution_count": 85,
     "metadata": {},
     "output_type": "execute_result"
    }
   ],
   "source": [
    "dec_prediction()"
   ]
  },
  {
   "cell_type": "code",
   "execution_count": 86,
   "metadata": {},
   "outputs": [
    {
     "data": {
      "text/plain": [
       "5.166"
      ]
     },
     "execution_count": 86,
     "metadata": {},
     "output_type": "execute_result"
    }
   ],
   "source": [
    "dec_real_value"
   ]
  },
  {
   "cell_type": "code",
   "execution_count": 87,
   "metadata": {},
   "outputs": [
    {
     "data": {
      "text/plain": [
       "0.9229405167784397"
      ]
     },
     "execution_count": 87,
     "metadata": {},
     "output_type": "execute_result"
    }
   ],
   "source": [
    "ratio(dec_prediction(), dec_real_value)"
   ]
  },
  {
   "cell_type": "code",
   "execution_count": null,
   "metadata": {},
   "outputs": [],
   "source": []
  },
  {
   "cell_type": "code",
   "execution_count": null,
   "metadata": {},
   "outputs": [],
   "source": []
  },
  {
   "cell_type": "raw",
   "metadata": {},
   "source": []
  },
  {
   "cell_type": "code",
   "execution_count": 49,
   "metadata": {},
   "outputs": [
    {
     "data": {
      "text/plain": [
       "0.559809258643617"
      ]
     },
     "execution_count": 49,
     "metadata": {},
     "output_type": "execute_result"
    }
   ],
   "source": [
    "(13794560 * 2) / (47 * 1024 * 1024)"
   ]
  },
  {
   "cell_type": "code",
   "execution_count": 50,
   "metadata": {},
   "outputs": [
    {
     "data": {
      "text/plain": [
       "2.1272399999999996"
      ]
     },
     "execution_count": 50,
     "metadata": {},
     "output_type": "execute_result"
    }
   ],
   "source": [
    "(0.5598 + 0.5598 * 0.9) * 2"
   ]
  },
  {
   "cell_type": "code",
   "execution_count": 51,
   "metadata": {},
   "outputs": [
    {
     "data": {
      "text/plain": [
       "2.1272399999999996"
      ]
     },
     "execution_count": 51,
     "metadata": {},
     "output_type": "execute_result"
    }
   ],
   "source": [
    "2 * 1.9 * 0.5598"
   ]
  },
  {
   "cell_type": "code",
   "execution_count": 52,
   "metadata": {},
   "outputs": [
    {
     "data": {
      "text/plain": [
       "-0.18192307692307705"
      ]
     },
     "execution_count": 52,
     "metadata": {},
     "output_type": "execute_result"
    }
   ],
   "source": [
    "(2.127 - 2.6) / 2.6"
   ]
  },
  {
   "cell_type": "code",
   "execution_count": 53,
   "metadata": {},
   "outputs": [
    {
     "data": {
      "text/plain": [
       "0.096"
      ]
     },
     "execution_count": 53,
     "metadata": {},
     "output_type": "execute_result"
    }
   ],
   "source": [
    "8 * (2 * 3 * 0.002)"
   ]
  },
  {
   "cell_type": "code",
   "execution_count": 54,
   "metadata": {},
   "outputs": [
    {
     "data": {
      "text/plain": [
       "-0.040000000000000036"
      ]
     },
     "execution_count": 54,
     "metadata": {},
     "output_type": "execute_result"
    }
   ],
   "source": [
    "(0.096 - 0.1) / 0.1"
   ]
  },
  {
   "cell_type": "code",
   "execution_count": 56,
   "metadata": {},
   "outputs": [
    {
     "data": {
      "text/plain": [
       "0.17882848607523957"
      ]
     },
     "execution_count": 56,
     "metadata": {},
     "output_type": "execute_result"
    }
   ],
   "source": [
    "3 * (2 * 13794560 / (441.39 * 1024 * 1024))"
   ]
  },
  {
   "cell_type": "code",
   "execution_count": 57,
   "metadata": {},
   "outputs": [
    {
     "data": {
      "text/plain": [
       "-0.0066666666666667035"
      ]
     },
     "execution_count": 57,
     "metadata": {},
     "output_type": "execute_result"
    }
   ],
   "source": [
    "(0.1788 - 0.18) / 0.18"
   ]
  },
  {
   "cell_type": "code",
   "execution_count": null,
   "metadata": {},
   "outputs": [],
   "source": []
  },
  {
   "cell_type": "code",
   "execution_count": 74,
   "metadata": {},
   "outputs": [
    {
     "data": {
      "text/plain": [
       "0.08370424758085895"
      ]
     },
     "execution_count": 74,
     "metadata": {},
     "output_type": "execute_result"
    }
   ],
   "source": [
    "3 * (2 * 13794560 / (943 * 1024 * 1024))"
   ]
  },
  {
   "cell_type": "code",
   "execution_count": 75,
   "metadata": {},
   "outputs": [
    {
     "data": {
      "text/plain": [
       "-0.535"
      ]
     },
     "execution_count": 75,
     "metadata": {},
     "output_type": "execute_result"
    }
   ],
   "source": [
    "(0.0837 - 0.18) / 0.18"
   ]
  },
  {
   "cell_type": "code",
   "execution_count": 77,
   "metadata": {},
   "outputs": [
    {
     "data": {
      "text/plain": [
       "0.10602538026908802"
      ]
     },
     "execution_count": 77,
     "metadata": {},
     "output_type": "execute_result"
    }
   ],
   "source": [
    "2 * 1.9 * (2 * 13794560 / (943 * 1024 * 1024))"
   ]
  },
  {
   "cell_type": "code",
   "execution_count": 78,
   "metadata": {},
   "outputs": [
    {
     "data": {
      "text/plain": [
       "-0.9592307692307693"
      ]
     },
     "execution_count": 78,
     "metadata": {},
     "output_type": "execute_result"
    }
   ],
   "source": [
    "(0.106 - 2.6) / 2.6"
   ]
  },
  {
   "cell_type": "code",
   "execution_count": null,
   "metadata": {},
   "outputs": [],
   "source": []
  }
 ],
 "metadata": {
  "kernelspec": {
   "display_name": "Python 3",
   "language": "python",
   "name": "python3"
  },
  "language_info": {
   "codemirror_mode": {
    "name": "ipython",
    "version": 3
   },
   "file_extension": ".py",
   "mimetype": "text/x-python",
   "name": "python",
   "nbconvert_exporter": "python",
   "pygments_lexer": "ipython3",
   "version": "3.6.10"
  }
 },
 "nbformat": 4,
 "nbformat_minor": 4
}

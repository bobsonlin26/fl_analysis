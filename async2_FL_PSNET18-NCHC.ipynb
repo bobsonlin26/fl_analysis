{
 "cells": [
  {
   "cell_type": "code",
   "execution_count": 107,
   "metadata": {},
   "outputs": [],
   "source": [
    "import pandas as pd\n",
    "from io import StringIO\n",
    "import os"
   ]
  },
  {
   "cell_type": "markdown",
   "metadata": {},
   "source": [
    "## Read trace"
   ]
  },
  {
   "cell_type": "code",
   "execution_count": 108,
   "metadata": {},
   "outputs": [],
   "source": [
    "def read_trace(trace_dir, trace_file, worker_id=None):\n",
    "    trace_filepath = os.path.join(trace_dir, trace_file)\n",
    "    \n",
    "    with open(trace_filepath,\"r\") as rf:\n",
    "        new_trace = StringIO()\n",
    "        line = rf.readline()\n",
    "        while line:\n",
    "            line_list = line.split()\n",
    "            if line_list[0] == \"[trace]\":\n",
    "                new_trace.write(line)\n",
    "            line = rf.readline()\n",
    "       \n",
    "    new_trace.seek(0)\n",
    "    df = pd.read_csv(new_trace, sep=\" \", names=[\"InfoType\", \"EventType\", \"EventState\", \"ID\", \"Time\"])\n",
    "    del df[\"InfoType\"]\n",
    "    \n",
    "    if worker_id is not None:\n",
    "        df.insert(0, \"WorkerID\", worker_id)\n",
    "        \n",
    "    new_trace.close()\n",
    "    \n",
    "    return df"
   ]
  },
  {
   "cell_type": "markdown",
   "metadata": {},
   "source": [
    "### COORD"
   ]
  },
  {
   "cell_type": "code",
   "execution_count": 109,
   "metadata": {},
   "outputs": [],
   "source": [
    "nr_worker = 12\n",
    "sub_dir = str(nr_worker) + \"rm\"\n",
    "trace_dir = \"/home/posheng/billy_ws/fl_025/fl_experiment_trace/nchc/\" + sub_dir + \"/psnet_18\"\n",
    "coord_trace_file = \"coord.txt\"\n",
    "\n",
    "worker_files = []\n",
    "for i in range(2, 2+nr_worker):\n",
    "    worker_files.append(\"flvm-{}.txt\".format(i))\n",
    "\n",
    "# hpc0_trace_file = \"hpc0.txt\"\n",
    "# hpc1_trace_file = \"hpc1.txt\"\n",
    "# hpc2_trace_file = \"hpc2.txt\"\n",
    "# hpc3_trace_file = \"hpc3_trace.txt\""
   ]
  },
  {
   "cell_type": "code",
   "execution_count": 110,
   "metadata": {},
   "outputs": [],
   "source": [
    "# coord_df = read_trace(trace_dir, coord_trace_file)\n",
    "# hpc1_df = read_trace(trace_dir, hpc1_trace_file, \"alice\")\n",
    "# hpc2_df = read_trace(trace_dir, hpc2_trace_file, \"bob\")\n",
    "# hpc3_df = read_trace(trace_dir, hpc3_trace_file, \"charlie\")\n",
    "\n",
    "coord_df = read_trace(trace_dir, coord_trace_file)\n",
    "# w0_df = read_trace(trace_dir, hpc0_trace_file, \"alice\")\n",
    "# w1_df = read_trace(trace_dir, hpc1_trace_file, \"bob\")\n",
    "# w2_df = read_trace(trace_dir, hpc2_trace_file, \"charlie\")\n",
    "\n",
    "worker_dfs = {}\n",
    "for i in range(len(worker_files)):\n",
    "    worker_df = read_trace(trace_dir, worker_files[i], worker_files[i].split(\".\")[0])\n",
    "    worker_dfs[worker_files[i].split(\".\")[0]] = worker_df"
   ]
  },
  {
   "cell_type": "markdown",
   "metadata": {},
   "source": [
    "## Duration"
   ]
  },
  {
   "cell_type": "code",
   "execution_count": 111,
   "metadata": {},
   "outputs": [],
   "source": [
    "def get_worker_duration(worker_id, worker_dfs, event_type):\n",
    "    worker_df = worker_dfs[worker_id]\n",
    "    worker_event_df = worker_df[worker_df[\"EventType\"].str.contains(event_type, regex=False)]\n",
    "    worker_event_df = worker_event_df.reset_index()\n",
    "    \n",
    "    del worker_event_df['index']\n",
    "    del worker_event_df['ID']\n",
    "    \n",
    "    return worker_event_df"
   ]
  },
  {
   "cell_type": "code",
   "execution_count": 112,
   "metadata": {},
   "outputs": [],
   "source": [
    "def get_coord_duration(coord_df, event_type):\n",
    "    coord_event_df = coord_df[coord_df[\"EventType\"].str.contains(event_type, regex=False)]\n",
    "    coord_event_df = coord_event_df.reset_index()\n",
    "    \n",
    "    del coord_event_df['index']\n",
    "    del coord_event_df['ID']\n",
    "    \n",
    "    return coord_event_df"
   ]
  },
  {
   "cell_type": "code",
   "execution_count": 113,
   "metadata": {},
   "outputs": [],
   "source": [
    "def calculate_duration(event_type, df):\n",
    "    event_df = df[df[\"EventType\"] == event_type][[\"EventType\", \"EventState\", \"ID\", \"Time\"]]\n",
    "    event_start_df = event_df[event_df[\"EventState\"] == \"start\"][[\"ID\", \"Time\"]]\n",
    "    event_start_df = event_start_df.reset_index()\n",
    "\n",
    "    event_end_df = event_df[event_df[\"EventState\"] == \"end\"][[\"Time\"]]\n",
    "    event_end_df = event_end_df.reset_index()\n",
    "    \n",
    "    event_df_cat = pd.concat([event_start_df, event_end_df], axis=1)\n",
    "    del event_df_cat['index']\n",
    "    event_df_cat.columns = [\"ID\", \"StartTime\", \"EndTime\"]\n",
    "    \n",
    "    event_df_cat[\"Duration\"] = event_df_cat.apply(lambda x: x[\"EndTime\"] - x[\"StartTime\"], axis=1)\n",
    "    event_df_cat.insert(0, \"EventType\", event_type)\n",
    "    return event_df_cat\n"
   ]
  },
  {
   "cell_type": "code",
   "execution_count": 114,
   "metadata": {},
   "outputs": [],
   "source": [
    "GlobalModelSendDuration = calculate_duration(\"GlobalModelSend\", coord_df)"
   ]
  },
  {
   "cell_type": "code",
   "execution_count": 115,
   "metadata": {},
   "outputs": [],
   "source": [
    "LossFuncSendDuration = calculate_duration(\"LossFuncSend\", coord_df)"
   ]
  },
  {
   "cell_type": "code",
   "execution_count": 116,
   "metadata": {},
   "outputs": [],
   "source": [
    "ModelConfigSendDuration = calculate_duration(\"ModelConfigSend\", coord_df)"
   ]
  },
  {
   "cell_type": "markdown",
   "metadata": {},
   "source": [
    "### GlobalModelSendDuration"
   ]
  },
  {
   "cell_type": "code",
   "execution_count": 117,
   "metadata": {},
   "outputs": [
    {
     "name": "stdout",
     "output_type": "stream",
     "text": [
      "GlobalModelSendDuration flvm-2 7.667613196372986\n",
      "GlobalModelSendDuration flvm-3 7.564564967155457\n",
      "GlobalModelSendDuration flvm-4 7.340527379512787\n",
      "GlobalModelSendDuration flvm-5 7.530710542201996\n",
      "GlobalModelSendDuration flvm-6 7.478069269657135\n",
      "GlobalModelSendDuration flvm-7 7.19609557390213\n",
      "GlobalModelSendDuration flvm-8 7.449051940441132\n",
      "GlobalModelSendDuration flvm-9 7.649378037452697\n",
      "GlobalModelSendDuration flvm-10 7.988063013553619\n",
      "GlobalModelSendDuration flvm-11 7.513224577903747\n",
      "GlobalModelSendDuration flvm-12 7.397032868862152\n",
      "GlobalModelSendDuration flvm-13 7.418291425704956\n"
     ]
    }
   ],
   "source": [
    "for worker_id in worker_dfs.keys():\n",
    "    gms_mean = GlobalModelSendDuration[GlobalModelSendDuration[\"ID\"] == worker_id][1:]['Duration'].mean()\n",
    "    print(\"GlobalModelSendDuration\", worker_id, gms_mean)"
   ]
  },
  {
   "cell_type": "markdown",
   "metadata": {},
   "source": [
    "### LossFuncSendDuration"
   ]
  },
  {
   "cell_type": "code",
   "execution_count": 118,
   "metadata": {},
   "outputs": [
    {
     "name": "stdout",
     "output_type": "stream",
     "text": [
      "LossFuncSendDuration flvm-2 0.0020514011383056642\n",
      "LossFuncSendDuration flvm-3 0.0013728737831115723\n",
      "LossFuncSendDuration flvm-4 0.0014841556549072266\n",
      "LossFuncSendDuration flvm-5 0.0014796257019042969\n",
      "LossFuncSendDuration flvm-6 0.0016753196716308594\n",
      "LossFuncSendDuration flvm-7 0.0013574123382568359\n",
      "LossFuncSendDuration flvm-8 0.0018759965896606445\n",
      "LossFuncSendDuration flvm-9 0.0015209078788757323\n",
      "LossFuncSendDuration flvm-10 0.0017450809478759765\n",
      "LossFuncSendDuration flvm-11 0.0014450907707214355\n",
      "LossFuncSendDuration flvm-12 0.0016813278198242188\n",
      "LossFuncSendDuration flvm-13 0.0020964622497558595\n"
     ]
    }
   ],
   "source": [
    "for worker_id in worker_dfs.keys():\n",
    "    lfs_mean = LossFuncSendDuration[LossFuncSendDuration[\"ID\"] == worker_id][1:]['Duration'].mean()\n",
    "    print(\"LossFuncSendDuration\", worker_id, lfs_mean)"
   ]
  },
  {
   "cell_type": "markdown",
   "metadata": {},
   "source": [
    "### ModelConfigSendDuration"
   ]
  },
  {
   "cell_type": "code",
   "execution_count": 119,
   "metadata": {},
   "outputs": [
    {
     "name": "stdout",
     "output_type": "stream",
     "text": [
      "ModelConfigSendDuration flvm-2 0.0009002804756164551\n",
      "ModelConfigSendDuration flvm-3 0.001006174087524414\n",
      "ModelConfigSendDuration flvm-4 0.0008531928062438965\n",
      "ModelConfigSendDuration flvm-5 0.000994265079498291\n",
      "ModelConfigSendDuration flvm-6 0.0011876583099365234\n",
      "ModelConfigSendDuration flvm-7 0.0008446574211120605\n",
      "ModelConfigSendDuration flvm-8 0.0009863853454589843\n",
      "ModelConfigSendDuration flvm-9 0.0006768941879272461\n",
      "ModelConfigSendDuration flvm-10 0.0008260488510131836\n",
      "ModelConfigSendDuration flvm-11 0.0008796811103820801\n",
      "ModelConfigSendDuration flvm-12 0.0009310960769653321\n",
      "ModelConfigSendDuration flvm-13 0.00095595121383667\n"
     ]
    }
   ],
   "source": [
    "for worker_id in worker_dfs.keys():\n",
    "    mcs_mean = ModelConfigSendDuration[ModelConfigSendDuration[\"ID\"] == worker_id][1:]['Duration'].mean()\n",
    "    print(\"ModelConfigSendDuration\", worker_id, mcs_mean)"
   ]
  },
  {
   "cell_type": "markdown",
   "metadata": {},
   "source": [
    "## GlobalInformationSend Duration"
   ]
  },
  {
   "cell_type": "code",
   "execution_count": 120,
   "metadata": {},
   "outputs": [],
   "source": [
    "def get_coord_global_send_duration(coord_df, worker_id):\n",
    "    coord_event_df = coord_df[coord_df[\"EventType\"].str.contains(\"GlobalInformationSend\", regex=False)]\n",
    "    coord_event_df = coord_event_df[coord_event_df[\"ID\"] == worker_id]\n",
    "    coord_event_df = coord_event_df.reset_index()\n",
    "    \n",
    "    del coord_event_df['index']\n",
    "    \n",
    "    return coord_event_df"
   ]
  },
  {
   "cell_type": "code",
   "execution_count": 121,
   "metadata": {},
   "outputs": [
    {
     "name": "stdout",
     "output_type": "stream",
     "text": [
      "GlobalInformationSend flvm-2 7.684575390815735\n",
      "GlobalInformationSend flvm-3 7.478808724880219\n",
      "GlobalInformationSend flvm-4 7.486561417579651\n",
      "GlobalInformationSend flvm-5 7.617390298843384\n",
      "GlobalInformationSend flvm-6 7.491522705554962\n",
      "GlobalInformationSend flvm-7 6.953656399250031\n",
      "GlobalInformationSend flvm-8 7.3916141271591185\n",
      "GlobalInformationSend flvm-9 7.510558927059174\n",
      "GlobalInformationSend flvm-10 8.240407633781434\n",
      "GlobalInformationSend flvm-11 7.765078496932984\n",
      "GlobalInformationSend flvm-12 7.200858151912689\n",
      "GlobalInformationSend flvm-13 7.402940428256988\n"
     ]
    }
   ],
   "source": [
    "for worker_id in worker_dfs.keys():\n",
    "    gs_df = get_coord_global_send_duration(coord_df, worker_id)\n",
    "    print(\"GlobalInformationSend\", worker_id, gs_df['Time'][1:].mean())"
   ]
  },
  {
   "cell_type": "markdown",
   "metadata": {},
   "source": [
    "## Send Time"
   ]
  },
  {
   "cell_type": "code",
   "execution_count": 122,
   "metadata": {},
   "outputs": [],
   "source": [
    "## EventType:\n",
    "##     * GlobalModelSend\n",
    "##     * LossFuncSend\n",
    "##     * ModelConfigSend\n",
    "def calculate_send_time(coord_df, worker_dfs, event_type):\n",
    "    event_start_df = coord_df[(coord_df[\"EventType\"] == event_type) & (coord_df[\"EventState\"] == \"start\")]\n",
    "    worker_event_send_time_dfs = {}\n",
    "    \n",
    "    for worker_id in worker_dfs.keys():\n",
    "        worker_event_start_df = event_start_df[event_start_df[\"ID\"] == worker_id]\n",
    "        worker_event_start_df = worker_event_start_df.reset_index()\n",
    "        del worker_event_start_df['index']\n",
    "        worker_event_start_df.columns = [\"EventType\", \"EventState\", \"ID\", \"StartTime\"]\n",
    "        \n",
    "        worker_df = worker_dfs[worker_id]\n",
    "        worker_event_recv_df = worker_df[worker_df[\"EventType\"] == event_type]\n",
    "        worker_event_recv_df = worker_event_recv_df.reset_index()\n",
    "        del worker_event_recv_df['index']\n",
    "        worker_event_recv_df.columns = [\"WorkerID\", \"EventType\", \"EventState\", \"ID\", \"RecvTime\"]\n",
    "        \n",
    "        worker_recv_time_series = worker_event_recv_df[\"RecvTime\"]\n",
    "        worker_event_send_time_df = pd.concat([worker_event_start_df, worker_recv_time_series], axis=1)\n",
    "        worker_event_send_time_df[\"SendTime\"] = worker_event_send_time_df.apply(lambda x: x[\"RecvTime\"] - x[\"StartTime\"], axis=1)\n",
    "        del worker_event_send_time_df[\"EventState\"]\n",
    "        \n",
    "        worker_event_send_time_dfs[worker_id] = worker_event_send_time_df\n",
    "        \n",
    "    return worker_event_send_time_dfs"
   ]
  },
  {
   "cell_type": "code",
   "execution_count": 123,
   "metadata": {},
   "outputs": [],
   "source": [
    "# worker_gms_send_time_dfs = calculate_send_time(coord_df, worker_dfs, \"GlobalModelSend\")"
   ]
  },
  {
   "cell_type": "code",
   "execution_count": 124,
   "metadata": {},
   "outputs": [],
   "source": [
    "# worker_gms_send_time_dfs['alice']['SendTime'].mean()"
   ]
  },
  {
   "cell_type": "code",
   "execution_count": 125,
   "metadata": {},
   "outputs": [],
   "source": [
    "# worker_gms_send_time_dfs['alice']"
   ]
  },
  {
   "cell_type": "code",
   "execution_count": 126,
   "metadata": {},
   "outputs": [],
   "source": [
    "# worker_gms_send_time_dfs['charlie']['SendTime'].mean()"
   ]
  },
  {
   "cell_type": "code",
   "execution_count": 127,
   "metadata": {},
   "outputs": [],
   "source": [
    "# coord_df = read_trace(trace_dir, coord_trace_file)\n",
    "# hpc1_df = read_trace(trace_dir, hpc1_trace_file, \"alice\")\n",
    "# hpc2_df = read_trace(trace_dir, hpc2_trace_file, \"bob\")\n",
    "# hpc3_df = read_trace(trace_dir, hpc3_trace_file, \"charlie\")"
   ]
  },
  {
   "cell_type": "markdown",
   "metadata": {},
   "source": [
    "## LocalTraining Duration"
   ]
  },
  {
   "cell_type": "code",
   "execution_count": 128,
   "metadata": {},
   "outputs": [
    {
     "name": "stdout",
     "output_type": "stream",
     "text": [
      "LocalTrainingDuration flvm-2 14.527965557575225\n",
      "LocalTrainingDuration flvm-3 20.60708519220352\n",
      "LocalTrainingDuration flvm-4 13.968101966381074\n",
      "LocalTrainingDuration flvm-5 15.080920398235321\n",
      "LocalTrainingDuration flvm-6 18.214482486248016\n",
      "LocalTrainingDuration flvm-7 12.160878157615661\n",
      "LocalTrainingDuration flvm-8 15.166603779792785\n",
      "LocalTrainingDuration flvm-9 18.18548139333725\n",
      "LocalTrainingDuration flvm-10 12.551630294322967\n",
      "LocalTrainingDuration flvm-11 16.007501304149628\n",
      "LocalTrainingDuration flvm-12 19.544489133358002\n",
      "LocalTrainingDuration flvm-13 14.986537373065948\n"
     ]
    }
   ],
   "source": [
    "for worker_id in worker_dfs.keys():\n",
    "    lt_df = get_worker_duration(worker_id, worker_dfs, \"LocalTraining\")\n",
    "    print(\"LocalTrainingDuration\", worker_id, lt_df['Time'][1:].mean())"
   ]
  },
  {
   "cell_type": "markdown",
   "metadata": {},
   "source": [
    "## FitSagg Duration"
   ]
  },
  {
   "cell_type": "code",
   "execution_count": 129,
   "metadata": {},
   "outputs": [],
   "source": [
    "def get_coord_fitsagg_duration(coord_df, worker_id):\n",
    "    coord_event_df = coord_df[coord_df[\"EventType\"].str.contains(\"FitSagg\", regex=False)]\n",
    "    coord_event_df = coord_event_df[coord_event_df[\"ID\"] == worker_id]\n",
    "    coord_event_df = coord_event_df.reset_index()\n",
    "    \n",
    "    del coord_event_df['index']\n",
    "    \n",
    "    return coord_event_df"
   ]
  },
  {
   "cell_type": "code",
   "execution_count": 130,
   "metadata": {},
   "outputs": [
    {
     "name": "stdout",
     "output_type": "stream",
     "text": [
      "FitSaggDuration flvm-2 344.3517149567604\n",
      "FitSaggDuration flvm-3 341.0779214501381\n",
      "FitSaggDuration flvm-4 337.4497375488281\n",
      "FitSaggDuration flvm-5 337.26308304071426\n",
      "FitSaggDuration flvm-6 338.0131596684456\n",
      "FitSaggDuration flvm-7 337.6765790462494\n",
      "FitSaggDuration flvm-8 340.7274755716324\n",
      "FitSaggDuration flvm-9 339.9393992185593\n",
      "FitSaggDuration flvm-10 341.5855336070061\n",
      "FitSaggDuration flvm-11 343.0197478055954\n",
      "FitSaggDuration flvm-12 343.2106821775436\n",
      "FitSaggDuration flvm-13 343.2384354233742\n"
     ]
    }
   ],
   "source": [
    "for worker_id in worker_dfs.keys():\n",
    "    fs_df = get_coord_fitsagg_duration(coord_df, worker_id)\n",
    "    print(\"FitSaggDuration\", worker_id, fs_df['Time'][1:].mean())"
   ]
  },
  {
   "cell_type": "markdown",
   "metadata": {},
   "source": [
    "## EncryptMultiply Duration"
   ]
  },
  {
   "cell_type": "code",
   "execution_count": 131,
   "metadata": {},
   "outputs": [
    {
     "name": "stdout",
     "output_type": "stream",
     "text": [
      "EncryptMultiplyDuration flvm-2 320.69002866744995\n",
      "EncryptMultiplyDuration flvm-3 311.44677129983904\n",
      "EncryptMultiplyDuration flvm-4 314.1710296034813\n",
      "EncryptMultiplyDuration flvm-5 312.9767508506775\n",
      "EncryptMultiplyDuration flvm-6 310.6534842014313\n",
      "EncryptMultiplyDuration flvm-7 316.5576479554176\n",
      "EncryptMultiplyDuration flvm-8 316.4881857872009\n",
      "EncryptMultiplyDuration flvm-9 312.82067815065386\n",
      "EncryptMultiplyDuration flvm-10 319.56651624441145\n",
      "EncryptMultiplyDuration flvm-11 317.62938759326937\n",
      "EncryptMultiplyDuration flvm-12 314.5029323339462\n",
      "EncryptMultiplyDuration flvm-13 319.10074441432954\n"
     ]
    }
   ],
   "source": [
    "for worker_id in worker_dfs.keys():\n",
    "    em_df = get_worker_duration(worker_id, worker_dfs, \"EncryptMultiply\")\n",
    "    print(\"EncryptMultiplyDuration\", worker_id, em_df['Time'][1:].mean())"
   ]
  },
  {
   "cell_type": "markdown",
   "metadata": {},
   "source": [
    "## MultiplyParameter Duration"
   ]
  },
  {
   "cell_type": "code",
   "execution_count": 133,
   "metadata": {},
   "outputs": [],
   "source": [
    "def get_multiply_parameter_duration(worker_id, worker_dfs):\n",
    "    worker_df = worker_dfs[worker_id]\n",
    "    worker_ep_df = worker_df[worker_df[\"EventType\"].str.contains('MultiplyParameter', regex=False)]\n",
    "    worker_ep_df = worker_ep_df.reset_index()\n",
    "    \n",
    "    del worker_ep_df[\"index\"]\n",
    "    del worker_ep_df[\"ID\"]\n",
    "    \n",
    "    return worker_ep_df"
   ]
  },
  {
   "cell_type": "code",
   "execution_count": 152,
   "metadata": {},
   "outputs": [
    {
     "name": "stdout",
     "output_type": "stream",
     "text": [
      "MultiplyParameter 79.57001128650847\n",
      "MultiplyParameter 65.53368283453442\n",
      "MultiplyParameter 61.012371528716315\n",
      "MultiplyParameter 60.71301301320394\n",
      "MultiplyParameter 68.67875796272641\n",
      "MultiplyParameter 70.11277345248631\n",
      "MultiplyParameter 64.23990440368652\n",
      "MultiplyParameter 76.55564148085458\n",
      "MultiplyParameter 67.41831664811997\n",
      "MultiplyParameter 60.82816811970302\n",
      "MultiplyParameter 57.50939080828712\n",
      "MultiplyParameter 55.98325829278855\n"
     ]
    }
   ],
   "source": [
    "for worker_id in worker_dfs.keys():\n",
    "    mul_df = get_worker_duration(worker_id, worker_dfs, \"MultiplyParameter\")\n",
    "    start_indices = list(mul_df[mul_df[\"EventType\"] == \"MultiplyParameter0\"].index)\n",
    "    \n",
    "    multime_list = []\n",
    "    for start_index in start_indices:\n",
    "        multime = mul_df[start_index:start_index+10][\"Time\"].sum()\n",
    "        multime_list.append(multime)\n",
    "    print(\"MultiplyParameter\", sum(multime_list) / len(multime_list))"
   ]
  },
  {
   "cell_type": "code",
   "execution_count": 134,
   "metadata": {},
   "outputs": [
    {
     "data": {
      "text/plain": [
       "dict_keys(['flvm-2', 'flvm-3', 'flvm-4', 'flvm-5', 'flvm-6', 'flvm-7', 'flvm-8', 'flvm-9', 'flvm-10', 'flvm-11', 'flvm-12', 'flvm-13'])"
      ]
     },
     "execution_count": 134,
     "metadata": {},
     "output_type": "execute_result"
    }
   ],
   "source": [
    "worker_dfs.keys()"
   ]
  },
  {
   "cell_type": "code",
   "execution_count": 153,
   "metadata": {},
   "outputs": [],
   "source": [
    "mul_df = get_worker_duration('flvm-3', worker_dfs, \"MultiplyParameter\")"
   ]
  },
  {
   "cell_type": "code",
   "execution_count": 154,
   "metadata": {},
   "outputs": [],
   "source": [
    "start_indices = list(mul_df[mul_df[\"EventType\"] == \"MultiplyParameter0\"].index)"
   ]
  },
  {
   "cell_type": "code",
   "execution_count": 155,
   "metadata": {},
   "outputs": [
    {
     "data": {
      "text/plain": [
       "20"
      ]
     },
     "execution_count": 155,
     "metadata": {},
     "output_type": "execute_result"
    }
   ],
   "source": [
    "start_indices[2]"
   ]
  },
  {
   "cell_type": "code",
   "execution_count": 156,
   "metadata": {},
   "outputs": [],
   "source": [
    "multime = mul_df[20:20+10][\"Time\"].sum()"
   ]
  },
  {
   "cell_type": "code",
   "execution_count": 160,
   "metadata": {},
   "outputs": [
    {
     "data": {
      "text/html": [
       "<div>\n",
       "<style scoped>\n",
       "    .dataframe tbody tr th:only-of-type {\n",
       "        vertical-align: middle;\n",
       "    }\n",
       "\n",
       "    .dataframe tbody tr th {\n",
       "        vertical-align: top;\n",
       "    }\n",
       "\n",
       "    .dataframe thead th {\n",
       "        text-align: right;\n",
       "    }\n",
       "</style>\n",
       "<table border=\"1\" class=\"dataframe\">\n",
       "  <thead>\n",
       "    <tr style=\"text-align: right;\">\n",
       "      <th></th>\n",
       "      <th>WorkerID</th>\n",
       "      <th>EventType</th>\n",
       "      <th>EventState</th>\n",
       "      <th>Time</th>\n",
       "    </tr>\n",
       "  </thead>\n",
       "  <tbody>\n",
       "    <tr>\n",
       "      <th>40</th>\n",
       "      <td>flvm-3</td>\n",
       "      <td>MultiplyParameter0</td>\n",
       "      <td>duration</td>\n",
       "      <td>0.014828</td>\n",
       "    </tr>\n",
       "    <tr>\n",
       "      <th>41</th>\n",
       "      <td>flvm-3</td>\n",
       "      <td>MultiplyParameter1</td>\n",
       "      <td>duration</td>\n",
       "      <td>0.012037</td>\n",
       "    </tr>\n",
       "    <tr>\n",
       "      <th>42</th>\n",
       "      <td>flvm-3</td>\n",
       "      <td>MultiplyParameter2</td>\n",
       "      <td>duration</td>\n",
       "      <td>0.083364</td>\n",
       "    </tr>\n",
       "    <tr>\n",
       "      <th>43</th>\n",
       "      <td>flvm-3</td>\n",
       "      <td>MultiplyParameter3</td>\n",
       "      <td>duration</td>\n",
       "      <td>2.173817</td>\n",
       "    </tr>\n",
       "    <tr>\n",
       "      <th>44</th>\n",
       "      <td>flvm-3</td>\n",
       "      <td>MultiplyParameter4</td>\n",
       "      <td>duration</td>\n",
       "      <td>14.265539</td>\n",
       "    </tr>\n",
       "    <tr>\n",
       "      <th>45</th>\n",
       "      <td>flvm-3</td>\n",
       "      <td>MultiplyParameter5</td>\n",
       "      <td>duration</td>\n",
       "      <td>7.227415</td>\n",
       "    </tr>\n",
       "    <tr>\n",
       "      <th>46</th>\n",
       "      <td>flvm-3</td>\n",
       "      <td>MultiplyParameter6</td>\n",
       "      <td>duration</td>\n",
       "      <td>9.680954</td>\n",
       "    </tr>\n",
       "    <tr>\n",
       "      <th>47</th>\n",
       "      <td>flvm-3</td>\n",
       "      <td>MultiplyParameter7</td>\n",
       "      <td>duration</td>\n",
       "      <td>5.229823</td>\n",
       "    </tr>\n",
       "    <tr>\n",
       "      <th>48</th>\n",
       "      <td>flvm-3</td>\n",
       "      <td>MultiplyParameter8</td>\n",
       "      <td>duration</td>\n",
       "      <td>4.207125</td>\n",
       "    </tr>\n",
       "    <tr>\n",
       "      <th>49</th>\n",
       "      <td>flvm-3</td>\n",
       "      <td>MultiplyParameter9</td>\n",
       "      <td>duration</td>\n",
       "      <td>4.457625</td>\n",
       "    </tr>\n",
       "  </tbody>\n",
       "</table>\n",
       "</div>"
      ],
      "text/plain": [
       "   WorkerID           EventType EventState       Time\n",
       "40   flvm-3  MultiplyParameter0   duration   0.014828\n",
       "41   flvm-3  MultiplyParameter1   duration   0.012037\n",
       "42   flvm-3  MultiplyParameter2   duration   0.083364\n",
       "43   flvm-3  MultiplyParameter3   duration   2.173817\n",
       "44   flvm-3  MultiplyParameter4   duration  14.265539\n",
       "45   flvm-3  MultiplyParameter5   duration   7.227415\n",
       "46   flvm-3  MultiplyParameter6   duration   9.680954\n",
       "47   flvm-3  MultiplyParameter7   duration   5.229823\n",
       "48   flvm-3  MultiplyParameter8   duration   4.207125\n",
       "49   flvm-3  MultiplyParameter9   duration   4.457625"
      ]
     },
     "execution_count": 160,
     "metadata": {},
     "output_type": "execute_result"
    }
   ],
   "source": [
    "mul_df[40:40+10]"
   ]
  },
  {
   "cell_type": "code",
   "execution_count": 87,
   "metadata": {},
   "outputs": [],
   "source": [
    "# # hpc1_mp_df = get_multiply_parameter_duration(\"alice\", worker_dfs)\n",
    "# hpc1_mp_df = get_worker_duration(\"alice\", worker_dfs, \"MultiplyParameter\")\n",
    "# hpc2_mp_df = get_worker_duration(\"bob\", worker_dfs, \"MultiplyParameter\")\n",
    "# hpc3_mp_df = get_worker_duration(\"charlie\", worker_dfs, \"MultiplyParameter\")"
   ]
  },
  {
   "cell_type": "code",
   "execution_count": 88,
   "metadata": {},
   "outputs": [],
   "source": [
    "# hpc1_mp_df[:8]"
   ]
  },
  {
   "cell_type": "code",
   "execution_count": 89,
   "metadata": {},
   "outputs": [],
   "source": [
    "# hpc1_mp_df[:8][\"Time\"].sum()"
   ]
  },
  {
   "cell_type": "markdown",
   "metadata": {},
   "source": [
    "## RetrieveTime duration"
   ]
  },
  {
   "cell_type": "code",
   "execution_count": 90,
   "metadata": {},
   "outputs": [],
   "source": [
    "def get_coord_retrieve_duration(coord_df, worker_id):\n",
    "    coord_event_df = coord_df[coord_df[\"EventType\"].str.contains(\"RetrieveTime\", regex=False)]\n",
    "    coord_event_df = coord_event_df[coord_event_df[\"ID\"] == worker_id]\n",
    "    coord_event_df = coord_event_df.reset_index()\n",
    "    \n",
    "    del coord_event_df['index']\n",
    "    \n",
    "    return coord_event_df"
   ]
  },
  {
   "cell_type": "code",
   "execution_count": 91,
   "metadata": {},
   "outputs": [
    {
     "name": "stdout",
     "output_type": "stream",
     "text": [
      "RetrieveTimeDuration flvm-2 0.014584219455718994\n",
      "RetrieveTimeDuration flvm-3 0.016673183441162108\n",
      "RetrieveTimeDuration flvm-4 0.01969914436340332\n",
      "RetrieveTimeDuration flvm-5 0.016743409633636474\n",
      "RetrieveTimeDuration flvm-6 0.015228724479675293\n",
      "RetrieveTimeDuration flvm-7 0.014920151233673096\n",
      "RetrieveTimeDuration flvm-8 0.017406320571899413\n",
      "RetrieveTimeDuration flvm-9 0.016465139389038087\n",
      "RetrieveTimeDuration flvm-10 0.015398812294006348\n",
      "RetrieveTimeDuration flvm-11 0.014381778240203858\n",
      "RetrieveTimeDuration flvm-12 0.015300965309143067\n",
      "RetrieveTimeDuration flvm-13 0.014986717700958252\n"
     ]
    }
   ],
   "source": [
    "for worker_id in worker_dfs.keys():\n",
    "    ret_df = get_coord_retrieve_duration(coord_df, worker_id)\n",
    "    print(\"RetrieveTimeDuration\", worker_id, ret_df[\"Time\"][1:].mean())"
   ]
  },
  {
   "cell_type": "markdown",
   "metadata": {},
   "source": [
    "## ShareSend Duration"
   ]
  },
  {
   "cell_type": "code",
   "execution_count": 92,
   "metadata": {},
   "outputs": [],
   "source": [
    "def calculate_share_send_duration(worker_id, worker_dfs, nr_parameters):\n",
    "    worker_df = worker_dfs[worker_id]\n",
    "    worker_send_share_df = worker_df[worker_df[\"EventType\"].str.contains('SendShare', regex=False)]\n",
    "    \n",
    "    worker_send_share_start_df = worker_send_share_df[worker_send_share_df[\"EventState\"] == 'start']\n",
    "    worker_send_share_start_df = worker_send_share_start_df.reset_index()\n",
    "    worker_send_share_start_df = worker_send_share_start_df[[\"WorkerID\", \"EventType\", \"ID\", \"Time\"]]\n",
    "    worker_send_share_start_df.columns = [\"WorkerID\", \"EventType\", \"ID\", \"StartTime\"]\n",
    "    \n",
    "    worker_send_share_end_df = worker_send_share_df[worker_send_share_df[\"EventState\"] == 'end']\n",
    "    worker_send_share_end_df = worker_send_share_end_df.reset_index()\n",
    "    \n",
    "    send_share_df_cat = pd.concat([worker_send_share_start_df, worker_send_share_end_df[\"Time\"]], axis=1)\n",
    "    send_share_df_cat.columns = [\"WorkerID\", \"EventType\", \"ID\", \"StartTime\", \"EndTime\"]\n",
    "    send_share_df_cat[\"Duration\"] = send_share_df_cat.apply(lambda x: x[\"EndTime\"] - x[\"StartTime\"], axis=1)\n",
    "    \n",
    "    parameter_index = []\n",
    "    nr_worker = len(worker_dfs)\n",
    "    p_index = -1\n",
    "\n",
    "    for i in range(len(send_share_df_cat)):\n",
    "        tmp_index = (i%nr_worker)\n",
    "        if tmp_index == 0:\n",
    "            p_index += 1\n",
    "            p_index = p_index % nr_parameters\n",
    "        parameter_index.append(p_index)\n",
    "        \n",
    "    send_share_df_cat.insert(2, \"p_idx\", parameter_index)\n",
    "    obj_id_list = send_share_df_cat.apply(lambda x: x[\"EventType\"].split(\"_\")[1], axis=1)\n",
    "    send_share_df_cat.insert(2, \"obj_id\", obj_id_list)\n",
    "    \n",
    "    del send_share_df_cat[\"EventType\"]\n",
    "    send_share_df_cat.insert(1, \"EventType\", \"SendShare\")\n",
    "    \n",
    "    return send_share_df_cat\n"
   ]
  },
  {
   "cell_type": "code",
   "execution_count": 93,
   "metadata": {},
   "outputs": [],
   "source": [
    "# alice_send_share_df_cat = calculate_share_send_duration(\"alice\", worker_dfs, 8)\n",
    "# bob_send_share_df_cat = calculate_share_send_duration(\"bob\", worker_dfs, 8)\n",
    "# charlie_send_share_df_cat = calculate_share_send_duration(\"charlie\", worker_dfs, 8)"
   ]
  },
  {
   "cell_type": "markdown",
   "metadata": {},
   "source": [
    "## ShareSend Send Time"
   ]
  },
  {
   "cell_type": "code",
   "execution_count": 94,
   "metadata": {},
   "outputs": [],
   "source": [
    "def calculate_share_send_time(sender_id, receiver_id, worker_dfs, nr_parameter):\n",
    "    sender_df = worker_dfs[sender_id]\n",
    "    receiver_df = worker_dfs[receiver_id]\n",
    "    \n",
    "    sender_send_share_df = sender_df[sender_df[\"EventType\"].str.contains('SendShare', regex=False)]\n",
    "    receiver_get_share_df = receiver_df[receiver_df[\"EventType\"].str.contains('GetShare', regex=False)]\n",
    "    \n",
    "    send_share_start_df = sender_send_share_df[(sender_send_share_df[\"ID\"] == receiver_id) & (sender_send_share_df[\"EventState\"] == 'start')]\n",
    "    get_share_df = receiver_get_share_df[receiver_get_share_df[\"ID\"] == sender_id]\n",
    "    send_share_start_df = send_share_start_df.reset_index()\n",
    "    get_share_df = get_share_df.reset_index()\n",
    "    \n",
    "    del send_share_start_df['index']\n",
    "    del send_share_start_df['EventState']\n",
    "    \n",
    "    send_time_df = pd.concat([send_share_start_df, get_share_df[\"Time\"]], axis=1)\n",
    "    send_time_df.columns = [\"WorkerID\", \"EventType\", \"ID\", \"StartTime\", \"RecvTime\"]\n",
    "    send_time_df[\"SendTime\"] = send_time_df.apply(lambda x: x[\"RecvTime\"] - x[\"StartTime\"], axis=1)\n",
    "    \n",
    "    nr_parameter = 8\n",
    "    parameter_index = []\n",
    "\n",
    "    for i in range(len(send_time_df)):\n",
    "        tmp_index = (i%nr_parameter)\n",
    "        parameter_index.append(tmp_index)\n",
    "        \n",
    "    send_time_df.insert(2, \"p_idx\", parameter_index)\n",
    "    \n",
    "    obj_id_list = send_time_df.apply(lambda x: x[\"EventType\"].split(\"_\")[1], axis=1)\n",
    "    send_time_df.insert(2, \"obj_id\", obj_id_list)\n",
    "    \n",
    "    del send_time_df[\"EventType\"]\n",
    "    send_time_df.insert(1, \"EventType\", \"SendShare\")\n",
    "    \n",
    "    return send_time_df"
   ]
  },
  {
   "cell_type": "code",
   "execution_count": 95,
   "metadata": {},
   "outputs": [],
   "source": [
    "# send_time_df = calculate_share_send_time(\"alice\", \"bob\", worker_dfs, 8)"
   ]
  },
  {
   "cell_type": "markdown",
   "metadata": {},
   "source": [
    "## AllWorkersTrainingTime Duration"
   ]
  },
  {
   "cell_type": "code",
   "execution_count": 96,
   "metadata": {},
   "outputs": [],
   "source": [
    "coord_awtt_df = get_coord_duration(coord_df, \"AllWorkersTrainingTime\")"
   ]
  },
  {
   "cell_type": "code",
   "execution_count": 97,
   "metadata": {},
   "outputs": [
    {
     "data": {
      "text/plain": [
       "344.49829359054564"
      ]
     },
     "execution_count": 97,
     "metadata": {},
     "output_type": "execute_result"
    }
   ],
   "source": [
    "coord_awtt_df['Time'][1:].mean()"
   ]
  },
  {
   "cell_type": "code",
   "execution_count": 98,
   "metadata": {},
   "outputs": [
    {
     "data": {
      "text/html": [
       "<div>\n",
       "<style scoped>\n",
       "    .dataframe tbody tr th:only-of-type {\n",
       "        vertical-align: middle;\n",
       "    }\n",
       "\n",
       "    .dataframe tbody tr th {\n",
       "        vertical-align: top;\n",
       "    }\n",
       "\n",
       "    .dataframe thead th {\n",
       "        text-align: right;\n",
       "    }\n",
       "</style>\n",
       "<table border=\"1\" class=\"dataframe\">\n",
       "  <thead>\n",
       "    <tr style=\"text-align: right;\">\n",
       "      <th></th>\n",
       "      <th>EventType</th>\n",
       "      <th>EventState</th>\n",
       "      <th>Time</th>\n",
       "    </tr>\n",
       "  </thead>\n",
       "  <tbody>\n",
       "    <tr>\n",
       "      <th>0</th>\n",
       "      <td>AllWorkersTrainingTime</td>\n",
       "      <td>duration</td>\n",
       "      <td>341.686553</td>\n",
       "    </tr>\n",
       "    <tr>\n",
       "      <th>1</th>\n",
       "      <td>AllWorkersTrainingTime</td>\n",
       "      <td>duration</td>\n",
       "      <td>344.912729</td>\n",
       "    </tr>\n",
       "    <tr>\n",
       "      <th>2</th>\n",
       "      <td>AllWorkersTrainingTime</td>\n",
       "      <td>duration</td>\n",
       "      <td>338.530960</td>\n",
       "    </tr>\n",
       "    <tr>\n",
       "      <th>3</th>\n",
       "      <td>AllWorkersTrainingTime</td>\n",
       "      <td>duration</td>\n",
       "      <td>351.730963</td>\n",
       "    </tr>\n",
       "    <tr>\n",
       "      <th>4</th>\n",
       "      <td>AllWorkersTrainingTime</td>\n",
       "      <td>duration</td>\n",
       "      <td>340.165231</td>\n",
       "    </tr>\n",
       "    <tr>\n",
       "      <th>5</th>\n",
       "      <td>AllWorkersTrainingTime</td>\n",
       "      <td>duration</td>\n",
       "      <td>353.559435</td>\n",
       "    </tr>\n",
       "    <tr>\n",
       "      <th>6</th>\n",
       "      <td>AllWorkersTrainingTime</td>\n",
       "      <td>duration</td>\n",
       "      <td>343.004569</td>\n",
       "    </tr>\n",
       "    <tr>\n",
       "      <th>7</th>\n",
       "      <td>AllWorkersTrainingTime</td>\n",
       "      <td>duration</td>\n",
       "      <td>348.142894</td>\n",
       "    </tr>\n",
       "    <tr>\n",
       "      <th>8</th>\n",
       "      <td>AllWorkersTrainingTime</td>\n",
       "      <td>duration</td>\n",
       "      <td>344.046976</td>\n",
       "    </tr>\n",
       "    <tr>\n",
       "      <th>9</th>\n",
       "      <td>AllWorkersTrainingTime</td>\n",
       "      <td>duration</td>\n",
       "      <td>340.914059</td>\n",
       "    </tr>\n",
       "    <tr>\n",
       "      <th>10</th>\n",
       "      <td>AllWorkersTrainingTime</td>\n",
       "      <td>duration</td>\n",
       "      <td>340.936974</td>\n",
       "    </tr>\n",
       "    <tr>\n",
       "      <th>11</th>\n",
       "      <td>AllWorkersTrainingTime</td>\n",
       "      <td>duration</td>\n",
       "      <td>346.324577</td>\n",
       "    </tr>\n",
       "    <tr>\n",
       "      <th>12</th>\n",
       "      <td>AllWorkersTrainingTime</td>\n",
       "      <td>duration</td>\n",
       "      <td>355.688667</td>\n",
       "    </tr>\n",
       "    <tr>\n",
       "      <th>13</th>\n",
       "      <td>AllWorkersTrainingTime</td>\n",
       "      <td>duration</td>\n",
       "      <td>335.201141</td>\n",
       "    </tr>\n",
       "    <tr>\n",
       "      <th>14</th>\n",
       "      <td>AllWorkersTrainingTime</td>\n",
       "      <td>duration</td>\n",
       "      <td>343.305009</td>\n",
       "    </tr>\n",
       "    <tr>\n",
       "      <th>15</th>\n",
       "      <td>AllWorkersTrainingTime</td>\n",
       "      <td>duration</td>\n",
       "      <td>339.941245</td>\n",
       "    </tr>\n",
       "    <tr>\n",
       "      <th>16</th>\n",
       "      <td>AllWorkersTrainingTime</td>\n",
       "      <td>duration</td>\n",
       "      <td>348.757120</td>\n",
       "    </tr>\n",
       "    <tr>\n",
       "      <th>17</th>\n",
       "      <td>AllWorkersTrainingTime</td>\n",
       "      <td>duration</td>\n",
       "      <td>339.220671</td>\n",
       "    </tr>\n",
       "    <tr>\n",
       "      <th>18</th>\n",
       "      <td>AllWorkersTrainingTime</td>\n",
       "      <td>duration</td>\n",
       "      <td>332.204862</td>\n",
       "    </tr>\n",
       "    <tr>\n",
       "      <th>19</th>\n",
       "      <td>AllWorkersTrainingTime</td>\n",
       "      <td>duration</td>\n",
       "      <td>351.101525</td>\n",
       "    </tr>\n",
       "    <tr>\n",
       "      <th>20</th>\n",
       "      <td>AllWorkersTrainingTime</td>\n",
       "      <td>duration</td>\n",
       "      <td>352.276265</td>\n",
       "    </tr>\n",
       "  </tbody>\n",
       "</table>\n",
       "</div>"
      ],
      "text/plain": [
       "                 EventType EventState        Time\n",
       "0   AllWorkersTrainingTime   duration  341.686553\n",
       "1   AllWorkersTrainingTime   duration  344.912729\n",
       "2   AllWorkersTrainingTime   duration  338.530960\n",
       "3   AllWorkersTrainingTime   duration  351.730963\n",
       "4   AllWorkersTrainingTime   duration  340.165231\n",
       "5   AllWorkersTrainingTime   duration  353.559435\n",
       "6   AllWorkersTrainingTime   duration  343.004569\n",
       "7   AllWorkersTrainingTime   duration  348.142894\n",
       "8   AllWorkersTrainingTime   duration  344.046976\n",
       "9   AllWorkersTrainingTime   duration  340.914059\n",
       "10  AllWorkersTrainingTime   duration  340.936974\n",
       "11  AllWorkersTrainingTime   duration  346.324577\n",
       "12  AllWorkersTrainingTime   duration  355.688667\n",
       "13  AllWorkersTrainingTime   duration  335.201141\n",
       "14  AllWorkersTrainingTime   duration  343.305009\n",
       "15  AllWorkersTrainingTime   duration  339.941245\n",
       "16  AllWorkersTrainingTime   duration  348.757120\n",
       "17  AllWorkersTrainingTime   duration  339.220671\n",
       "18  AllWorkersTrainingTime   duration  332.204862\n",
       "19  AllWorkersTrainingTime   duration  351.101525\n",
       "20  AllWorkersTrainingTime   duration  352.276265"
      ]
     },
     "execution_count": 98,
     "metadata": {},
     "output_type": "execute_result"
    }
   ],
   "source": [
    "coord_awtt_df"
   ]
  },
  {
   "cell_type": "markdown",
   "metadata": {},
   "source": [
    "## AggregationTime"
   ]
  },
  {
   "cell_type": "code",
   "execution_count": 99,
   "metadata": {},
   "outputs": [],
   "source": [
    "coord_aggt_df = get_coord_duration(coord_df, \"AggregationTime\")"
   ]
  },
  {
   "cell_type": "code",
   "execution_count": 100,
   "metadata": {},
   "outputs": [
    {
     "data": {
      "text/plain": [
       "5.619293081760406"
      ]
     },
     "execution_count": 100,
     "metadata": {},
     "output_type": "execute_result"
    }
   ],
   "source": [
    "coord_aggt_df[\"Time\"][1:].mean()"
   ]
  },
  {
   "cell_type": "code",
   "execution_count": 101,
   "metadata": {},
   "outputs": [
    {
     "data": {
      "text/html": [
       "<div>\n",
       "<style scoped>\n",
       "    .dataframe tbody tr th:only-of-type {\n",
       "        vertical-align: middle;\n",
       "    }\n",
       "\n",
       "    .dataframe tbody tr th {\n",
       "        vertical-align: top;\n",
       "    }\n",
       "\n",
       "    .dataframe thead th {\n",
       "        text-align: right;\n",
       "    }\n",
       "</style>\n",
       "<table border=\"1\" class=\"dataframe\">\n",
       "  <thead>\n",
       "    <tr style=\"text-align: right;\">\n",
       "      <th></th>\n",
       "      <th>EventType</th>\n",
       "      <th>EventState</th>\n",
       "      <th>Time</th>\n",
       "    </tr>\n",
       "  </thead>\n",
       "  <tbody>\n",
       "    <tr>\n",
       "      <th>0</th>\n",
       "      <td>AggregationTime</td>\n",
       "      <td>duration</td>\n",
       "      <td>7.071469</td>\n",
       "    </tr>\n",
       "    <tr>\n",
       "      <th>1</th>\n",
       "      <td>AggregationTime</td>\n",
       "      <td>duration</td>\n",
       "      <td>5.491187</td>\n",
       "    </tr>\n",
       "    <tr>\n",
       "      <th>2</th>\n",
       "      <td>AggregationTime</td>\n",
       "      <td>duration</td>\n",
       "      <td>5.309349</td>\n",
       "    </tr>\n",
       "    <tr>\n",
       "      <th>3</th>\n",
       "      <td>AggregationTime</td>\n",
       "      <td>duration</td>\n",
       "      <td>5.624215</td>\n",
       "    </tr>\n",
       "    <tr>\n",
       "      <th>4</th>\n",
       "      <td>AggregationTime</td>\n",
       "      <td>duration</td>\n",
       "      <td>5.516984</td>\n",
       "    </tr>\n",
       "    <tr>\n",
       "      <th>5</th>\n",
       "      <td>AggregationTime</td>\n",
       "      <td>duration</td>\n",
       "      <td>6.238954</td>\n",
       "    </tr>\n",
       "    <tr>\n",
       "      <th>6</th>\n",
       "      <td>AggregationTime</td>\n",
       "      <td>duration</td>\n",
       "      <td>5.858265</td>\n",
       "    </tr>\n",
       "    <tr>\n",
       "      <th>7</th>\n",
       "      <td>AggregationTime</td>\n",
       "      <td>duration</td>\n",
       "      <td>6.059559</td>\n",
       "    </tr>\n",
       "    <tr>\n",
       "      <th>8</th>\n",
       "      <td>AggregationTime</td>\n",
       "      <td>duration</td>\n",
       "      <td>5.730962</td>\n",
       "    </tr>\n",
       "    <tr>\n",
       "      <th>9</th>\n",
       "      <td>AggregationTime</td>\n",
       "      <td>duration</td>\n",
       "      <td>5.468255</td>\n",
       "    </tr>\n",
       "    <tr>\n",
       "      <th>10</th>\n",
       "      <td>AggregationTime</td>\n",
       "      <td>duration</td>\n",
       "      <td>5.335711</td>\n",
       "    </tr>\n",
       "    <tr>\n",
       "      <th>11</th>\n",
       "      <td>AggregationTime</td>\n",
       "      <td>duration</td>\n",
       "      <td>5.784231</td>\n",
       "    </tr>\n",
       "    <tr>\n",
       "      <th>12</th>\n",
       "      <td>AggregationTime</td>\n",
       "      <td>duration</td>\n",
       "      <td>5.645121</td>\n",
       "    </tr>\n",
       "    <tr>\n",
       "      <th>13</th>\n",
       "      <td>AggregationTime</td>\n",
       "      <td>duration</td>\n",
       "      <td>5.423778</td>\n",
       "    </tr>\n",
       "    <tr>\n",
       "      <th>14</th>\n",
       "      <td>AggregationTime</td>\n",
       "      <td>duration</td>\n",
       "      <td>5.566284</td>\n",
       "    </tr>\n",
       "    <tr>\n",
       "      <th>15</th>\n",
       "      <td>AggregationTime</td>\n",
       "      <td>duration</td>\n",
       "      <td>5.634159</td>\n",
       "    </tr>\n",
       "    <tr>\n",
       "      <th>16</th>\n",
       "      <td>AggregationTime</td>\n",
       "      <td>duration</td>\n",
       "      <td>5.703602</td>\n",
       "    </tr>\n",
       "    <tr>\n",
       "      <th>17</th>\n",
       "      <td>AggregationTime</td>\n",
       "      <td>duration</td>\n",
       "      <td>5.899294</td>\n",
       "    </tr>\n",
       "    <tr>\n",
       "      <th>18</th>\n",
       "      <td>AggregationTime</td>\n",
       "      <td>duration</td>\n",
       "      <td>5.915777</td>\n",
       "    </tr>\n",
       "    <tr>\n",
       "      <th>19</th>\n",
       "      <td>AggregationTime</td>\n",
       "      <td>duration</td>\n",
       "      <td>5.015755</td>\n",
       "    </tr>\n",
       "    <tr>\n",
       "      <th>20</th>\n",
       "      <td>AggregationTime</td>\n",
       "      <td>duration</td>\n",
       "      <td>5.164419</td>\n",
       "    </tr>\n",
       "  </tbody>\n",
       "</table>\n",
       "</div>"
      ],
      "text/plain": [
       "          EventType EventState      Time\n",
       "0   AggregationTime   duration  7.071469\n",
       "1   AggregationTime   duration  5.491187\n",
       "2   AggregationTime   duration  5.309349\n",
       "3   AggregationTime   duration  5.624215\n",
       "4   AggregationTime   duration  5.516984\n",
       "5   AggregationTime   duration  6.238954\n",
       "6   AggregationTime   duration  5.858265\n",
       "7   AggregationTime   duration  6.059559\n",
       "8   AggregationTime   duration  5.730962\n",
       "9   AggregationTime   duration  5.468255\n",
       "10  AggregationTime   duration  5.335711\n",
       "11  AggregationTime   duration  5.784231\n",
       "12  AggregationTime   duration  5.645121\n",
       "13  AggregationTime   duration  5.423778\n",
       "14  AggregationTime   duration  5.566284\n",
       "15  AggregationTime   duration  5.634159\n",
       "16  AggregationTime   duration  5.703602\n",
       "17  AggregationTime   duration  5.899294\n",
       "18  AggregationTime   duration  5.915777\n",
       "19  AggregationTime   duration  5.015755\n",
       "20  AggregationTime   duration  5.164419"
      ]
     },
     "execution_count": 101,
     "metadata": {},
     "output_type": "execute_result"
    }
   ],
   "source": [
    "coord_aggt_df"
   ]
  },
  {
   "cell_type": "markdown",
   "metadata": {},
   "source": [
    "## DecryptionTime"
   ]
  },
  {
   "cell_type": "code",
   "execution_count": 102,
   "metadata": {},
   "outputs": [],
   "source": [
    "coord_decrypt_df = get_coord_duration(coord_df, \"DecryptionTime\")"
   ]
  },
  {
   "cell_type": "code",
   "execution_count": 103,
   "metadata": {},
   "outputs": [
    {
     "data": {
      "text/plain": [
       "10.202981901168823"
      ]
     },
     "execution_count": 103,
     "metadata": {},
     "output_type": "execute_result"
    }
   ],
   "source": [
    "coord_decrypt_df['Time'][1:].mean()"
   ]
  },
  {
   "cell_type": "code",
   "execution_count": 104,
   "metadata": {},
   "outputs": [
    {
     "data": {
      "text/html": [
       "<div>\n",
       "<style scoped>\n",
       "    .dataframe tbody tr th:only-of-type {\n",
       "        vertical-align: middle;\n",
       "    }\n",
       "\n",
       "    .dataframe tbody tr th {\n",
       "        vertical-align: top;\n",
       "    }\n",
       "\n",
       "    .dataframe thead th {\n",
       "        text-align: right;\n",
       "    }\n",
       "</style>\n",
       "<table border=\"1\" class=\"dataframe\">\n",
       "  <thead>\n",
       "    <tr style=\"text-align: right;\">\n",
       "      <th></th>\n",
       "      <th>EventType</th>\n",
       "      <th>EventState</th>\n",
       "      <th>Time</th>\n",
       "    </tr>\n",
       "  </thead>\n",
       "  <tbody>\n",
       "    <tr>\n",
       "      <th>0</th>\n",
       "      <td>DecryptionTime</td>\n",
       "      <td>duration</td>\n",
       "      <td>12.183914</td>\n",
       "    </tr>\n",
       "    <tr>\n",
       "      <th>1</th>\n",
       "      <td>DecryptionTime</td>\n",
       "      <td>duration</td>\n",
       "      <td>9.268958</td>\n",
       "    </tr>\n",
       "    <tr>\n",
       "      <th>2</th>\n",
       "      <td>DecryptionTime</td>\n",
       "      <td>duration</td>\n",
       "      <td>9.954067</td>\n",
       "    </tr>\n",
       "    <tr>\n",
       "      <th>3</th>\n",
       "      <td>DecryptionTime</td>\n",
       "      <td>duration</td>\n",
       "      <td>10.254532</td>\n",
       "    </tr>\n",
       "    <tr>\n",
       "      <th>4</th>\n",
       "      <td>DecryptionTime</td>\n",
       "      <td>duration</td>\n",
       "      <td>10.850176</td>\n",
       "    </tr>\n",
       "    <tr>\n",
       "      <th>5</th>\n",
       "      <td>DecryptionTime</td>\n",
       "      <td>duration</td>\n",
       "      <td>10.641851</td>\n",
       "    </tr>\n",
       "    <tr>\n",
       "      <th>6</th>\n",
       "      <td>DecryptionTime</td>\n",
       "      <td>duration</td>\n",
       "      <td>9.928556</td>\n",
       "    </tr>\n",
       "    <tr>\n",
       "      <th>7</th>\n",
       "      <td>DecryptionTime</td>\n",
       "      <td>duration</td>\n",
       "      <td>9.414763</td>\n",
       "    </tr>\n",
       "    <tr>\n",
       "      <th>8</th>\n",
       "      <td>DecryptionTime</td>\n",
       "      <td>duration</td>\n",
       "      <td>10.466369</td>\n",
       "    </tr>\n",
       "    <tr>\n",
       "      <th>9</th>\n",
       "      <td>DecryptionTime</td>\n",
       "      <td>duration</td>\n",
       "      <td>10.453001</td>\n",
       "    </tr>\n",
       "    <tr>\n",
       "      <th>10</th>\n",
       "      <td>DecryptionTime</td>\n",
       "      <td>duration</td>\n",
       "      <td>9.818197</td>\n",
       "    </tr>\n",
       "    <tr>\n",
       "      <th>11</th>\n",
       "      <td>DecryptionTime</td>\n",
       "      <td>duration</td>\n",
       "      <td>10.347417</td>\n",
       "    </tr>\n",
       "    <tr>\n",
       "      <th>12</th>\n",
       "      <td>DecryptionTime</td>\n",
       "      <td>duration</td>\n",
       "      <td>10.898739</td>\n",
       "    </tr>\n",
       "    <tr>\n",
       "      <th>13</th>\n",
       "      <td>DecryptionTime</td>\n",
       "      <td>duration</td>\n",
       "      <td>9.855528</td>\n",
       "    </tr>\n",
       "    <tr>\n",
       "      <th>14</th>\n",
       "      <td>DecryptionTime</td>\n",
       "      <td>duration</td>\n",
       "      <td>9.935219</td>\n",
       "    </tr>\n",
       "    <tr>\n",
       "      <th>15</th>\n",
       "      <td>DecryptionTime</td>\n",
       "      <td>duration</td>\n",
       "      <td>10.298238</td>\n",
       "    </tr>\n",
       "    <tr>\n",
       "      <th>16</th>\n",
       "      <td>DecryptionTime</td>\n",
       "      <td>duration</td>\n",
       "      <td>10.754285</td>\n",
       "    </tr>\n",
       "    <tr>\n",
       "      <th>17</th>\n",
       "      <td>DecryptionTime</td>\n",
       "      <td>duration</td>\n",
       "      <td>10.428541</td>\n",
       "    </tr>\n",
       "    <tr>\n",
       "      <th>18</th>\n",
       "      <td>DecryptionTime</td>\n",
       "      <td>duration</td>\n",
       "      <td>10.130363</td>\n",
       "    </tr>\n",
       "    <tr>\n",
       "      <th>19</th>\n",
       "      <td>DecryptionTime</td>\n",
       "      <td>duration</td>\n",
       "      <td>10.325348</td>\n",
       "    </tr>\n",
       "    <tr>\n",
       "      <th>20</th>\n",
       "      <td>DecryptionTime</td>\n",
       "      <td>duration</td>\n",
       "      <td>10.035490</td>\n",
       "    </tr>\n",
       "  </tbody>\n",
       "</table>\n",
       "</div>"
      ],
      "text/plain": [
       "         EventType EventState       Time\n",
       "0   DecryptionTime   duration  12.183914\n",
       "1   DecryptionTime   duration   9.268958\n",
       "2   DecryptionTime   duration   9.954067\n",
       "3   DecryptionTime   duration  10.254532\n",
       "4   DecryptionTime   duration  10.850176\n",
       "5   DecryptionTime   duration  10.641851\n",
       "6   DecryptionTime   duration   9.928556\n",
       "7   DecryptionTime   duration   9.414763\n",
       "8   DecryptionTime   duration  10.466369\n",
       "9   DecryptionTime   duration  10.453001\n",
       "10  DecryptionTime   duration   9.818197\n",
       "11  DecryptionTime   duration  10.347417\n",
       "12  DecryptionTime   duration  10.898739\n",
       "13  DecryptionTime   duration   9.855528\n",
       "14  DecryptionTime   duration   9.935219\n",
       "15  DecryptionTime   duration  10.298238\n",
       "16  DecryptionTime   duration  10.754285\n",
       "17  DecryptionTime   duration  10.428541\n",
       "18  DecryptionTime   duration  10.130363\n",
       "19  DecryptionTime   duration  10.325348\n",
       "20  DecryptionTime   duration  10.035490"
      ]
     },
     "execution_count": 104,
     "metadata": {},
     "output_type": "execute_result"
    }
   ],
   "source": [
    "coord_decrypt_df"
   ]
  },
  {
   "cell_type": "markdown",
   "metadata": {},
   "source": [
    "## RoundTime"
   ]
  },
  {
   "cell_type": "code",
   "execution_count": 105,
   "metadata": {},
   "outputs": [],
   "source": [
    "coord_round_time_df = get_coord_duration(coord_df, \"RoundTime\")"
   ]
  },
  {
   "cell_type": "code",
   "execution_count": 106,
   "metadata": {},
   "outputs": [
    {
     "data": {
      "text/plain": [
       "361.98342418670654"
      ]
     },
     "execution_count": 106,
     "metadata": {},
     "output_type": "execute_result"
    }
   ],
   "source": [
    "coord_round_time_df[\"Time\"].mean()"
   ]
  },
  {
   "cell_type": "code",
   "execution_count": 53,
   "metadata": {},
   "outputs": [
    {
     "data": {
      "text/html": [
       "<div>\n",
       "<style scoped>\n",
       "    .dataframe tbody tr th:only-of-type {\n",
       "        vertical-align: middle;\n",
       "    }\n",
       "\n",
       "    .dataframe tbody tr th {\n",
       "        vertical-align: top;\n",
       "    }\n",
       "\n",
       "    .dataframe thead th {\n",
       "        text-align: right;\n",
       "    }\n",
       "</style>\n",
       "<table border=\"1\" class=\"dataframe\">\n",
       "  <thead>\n",
       "    <tr style=\"text-align: right;\">\n",
       "      <th></th>\n",
       "      <th>EventType</th>\n",
       "      <th>EventState</th>\n",
       "      <th>Time</th>\n",
       "    </tr>\n",
       "  </thead>\n",
       "  <tbody>\n",
       "    <tr>\n",
       "      <th>0</th>\n",
       "      <td>RoundTime</td>\n",
       "      <td>duration</td>\n",
       "      <td>360.942077</td>\n",
       "    </tr>\n",
       "    <tr>\n",
       "      <th>1</th>\n",
       "      <td>RoundTime</td>\n",
       "      <td>duration</td>\n",
       "      <td>361.252839</td>\n",
       "    </tr>\n",
       "    <tr>\n",
       "      <th>2</th>\n",
       "      <td>RoundTime</td>\n",
       "      <td>duration</td>\n",
       "      <td>355.425129</td>\n",
       "    </tr>\n",
       "    <tr>\n",
       "      <th>3</th>\n",
       "      <td>RoundTime</td>\n",
       "      <td>duration</td>\n",
       "      <td>369.375824</td>\n",
       "    </tr>\n",
       "    <tr>\n",
       "      <th>4</th>\n",
       "      <td>RoundTime</td>\n",
       "      <td>duration</td>\n",
       "      <td>358.250212</td>\n",
       "    </tr>\n",
       "    <tr>\n",
       "      <th>5</th>\n",
       "      <td>RoundTime</td>\n",
       "      <td>duration</td>\n",
       "      <td>372.122801</td>\n",
       "    </tr>\n",
       "    <tr>\n",
       "      <th>6</th>\n",
       "      <td>RoundTime</td>\n",
       "      <td>duration</td>\n",
       "      <td>360.545349</td>\n",
       "    </tr>\n",
       "    <tr>\n",
       "      <th>7</th>\n",
       "      <td>RoundTime</td>\n",
       "      <td>duration</td>\n",
       "      <td>365.255847</td>\n",
       "    </tr>\n",
       "    <tr>\n",
       "      <th>8</th>\n",
       "      <td>RoundTime</td>\n",
       "      <td>duration</td>\n",
       "      <td>361.979611</td>\n",
       "    </tr>\n",
       "    <tr>\n",
       "      <th>9</th>\n",
       "      <td>RoundTime</td>\n",
       "      <td>duration</td>\n",
       "      <td>358.448572</td>\n",
       "    </tr>\n",
       "    <tr>\n",
       "      <th>10</th>\n",
       "      <td>RoundTime</td>\n",
       "      <td>duration</td>\n",
       "      <td>357.773277</td>\n",
       "    </tr>\n",
       "    <tr>\n",
       "      <th>11</th>\n",
       "      <td>RoundTime</td>\n",
       "      <td>duration</td>\n",
       "      <td>364.235158</td>\n",
       "    </tr>\n",
       "    <tr>\n",
       "      <th>12</th>\n",
       "      <td>RoundTime</td>\n",
       "      <td>duration</td>\n",
       "      <td>373.977237</td>\n",
       "    </tr>\n",
       "    <tr>\n",
       "      <th>13</th>\n",
       "      <td>RoundTime</td>\n",
       "      <td>duration</td>\n",
       "      <td>352.190895</td>\n",
       "    </tr>\n",
       "    <tr>\n",
       "      <th>14</th>\n",
       "      <td>RoundTime</td>\n",
       "      <td>duration</td>\n",
       "      <td>360.469504</td>\n",
       "    </tr>\n",
       "    <tr>\n",
       "      <th>15</th>\n",
       "      <td>RoundTime</td>\n",
       "      <td>duration</td>\n",
       "      <td>357.694279</td>\n",
       "    </tr>\n",
       "    <tr>\n",
       "      <th>16</th>\n",
       "      <td>RoundTime</td>\n",
       "      <td>duration</td>\n",
       "      <td>366.941201</td>\n",
       "    </tr>\n",
       "    <tr>\n",
       "      <th>17</th>\n",
       "      <td>RoundTime</td>\n",
       "      <td>duration</td>\n",
       "      <td>357.238217</td>\n",
       "    </tr>\n",
       "    <tr>\n",
       "      <th>18</th>\n",
       "      <td>RoundTime</td>\n",
       "      <td>duration</td>\n",
       "      <td>350.032265</td>\n",
       "    </tr>\n",
       "    <tr>\n",
       "      <th>19</th>\n",
       "      <td>RoundTime</td>\n",
       "      <td>duration</td>\n",
       "      <td>368.259899</td>\n",
       "    </tr>\n",
       "    <tr>\n",
       "      <th>20</th>\n",
       "      <td>RoundTime</td>\n",
       "      <td>duration</td>\n",
       "      <td>369.241714</td>\n",
       "    </tr>\n",
       "  </tbody>\n",
       "</table>\n",
       "</div>"
      ],
      "text/plain": [
       "    EventType EventState        Time\n",
       "0   RoundTime   duration  360.942077\n",
       "1   RoundTime   duration  361.252839\n",
       "2   RoundTime   duration  355.425129\n",
       "3   RoundTime   duration  369.375824\n",
       "4   RoundTime   duration  358.250212\n",
       "5   RoundTime   duration  372.122801\n",
       "6   RoundTime   duration  360.545349\n",
       "7   RoundTime   duration  365.255847\n",
       "8   RoundTime   duration  361.979611\n",
       "9   RoundTime   duration  358.448572\n",
       "10  RoundTime   duration  357.773277\n",
       "11  RoundTime   duration  364.235158\n",
       "12  RoundTime   duration  373.977237\n",
       "13  RoundTime   duration  352.190895\n",
       "14  RoundTime   duration  360.469504\n",
       "15  RoundTime   duration  357.694279\n",
       "16  RoundTime   duration  366.941201\n",
       "17  RoundTime   duration  357.238217\n",
       "18  RoundTime   duration  350.032265\n",
       "19  RoundTime   duration  368.259899\n",
       "20  RoundTime   duration  369.241714"
      ]
     },
     "execution_count": 53,
     "metadata": {},
     "output_type": "execute_result"
    }
   ],
   "source": [
    "coord_round_time_df"
   ]
  },
  {
   "cell_type": "code",
   "execution_count": null,
   "metadata": {},
   "outputs": [],
   "source": []
  },
  {
   "cell_type": "code",
   "execution_count": null,
   "metadata": {},
   "outputs": [],
   "source": []
  }
 ],
 "metadata": {
  "kernelspec": {
   "display_name": "Python 3",
   "language": "python",
   "name": "python3"
  },
  "language_info": {
   "codemirror_mode": {
    "name": "ipython",
    "version": 3
   },
   "file_extension": ".py",
   "mimetype": "text/x-python",
   "name": "python",
   "nbconvert_exporter": "python",
   "pygments_lexer": "ipython3",
   "version": "3.6.10"
  }
 },
 "nbformat": 4,
 "nbformat_minor": 4
}

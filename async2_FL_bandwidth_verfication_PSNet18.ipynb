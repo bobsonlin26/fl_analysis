{
 "cells": [
  {
   "cell_type": "code",
   "execution_count": 1,
   "metadata": {},
   "outputs": [],
   "source": [
    "import pandas as pd\n",
    "from io import StringIO\n",
    "import os"
   ]
  },
  {
   "cell_type": "markdown",
   "metadata": {},
   "source": [
    "## Read trace"
   ]
  },
  {
   "cell_type": "code",
   "execution_count": 2,
   "metadata": {},
   "outputs": [],
   "source": [
    "def read_trace(trace_dir, trace_file, worker_id=None):\n",
    "    trace_filepath = os.path.join(trace_dir, trace_file)\n",
    "    \n",
    "    with open(trace_filepath,\"r\") as rf:\n",
    "        new_trace = StringIO()\n",
    "        line = rf.readline()\n",
    "        while line:\n",
    "            line_list = line.split()\n",
    "            if line_list[0] == \"[trace]\":\n",
    "                new_trace.write(line)\n",
    "            line = rf.readline()\n",
    "       \n",
    "    new_trace.seek(0)\n",
    "    df = pd.read_csv(new_trace, sep=\" \", names=[\"InfoType\", \"EventType\", \"EventState\", \"ID\", \"Time\"])\n",
    "    del df[\"InfoType\"]\n",
    "    \n",
    "    if worker_id is not None:\n",
    "        df.insert(0, \"WorkerID\", worker_id)\n",
    "        \n",
    "    new_trace.close()\n",
    "    \n",
    "    return df"
   ]
  },
  {
   "cell_type": "markdown",
   "metadata": {},
   "source": [
    "### COORD"
   ]
  },
  {
   "cell_type": "code",
   "execution_count": 3,
   "metadata": {},
   "outputs": [],
   "source": [
    "trace_dir = \"/home/posheng/billy_ws/fl_025/paslab/trace/async2_fl_bw2_3rm/100mbps\"\n",
    "coord_trace_file = \"coord.txt\"\n",
    "hpc0_trace_file = \"hpc0.txt\"\n",
    "hpc1_trace_file = \"hpc1.txt\"\n",
    "hpc2_trace_file = \"hpc2.txt\"\n",
    "# hpc3_trace_file = \"hpc3_trace.txt\""
   ]
  },
  {
   "cell_type": "code",
   "execution_count": 4,
   "metadata": {},
   "outputs": [],
   "source": [
    "# coord_df = read_trace(trace_dir, coord_trace_file)\n",
    "# hpc1_df = read_trace(trace_dir, hpc1_trace_file, \"alice\")\n",
    "# hpc2_df = read_trace(trace_dir, hpc2_trace_file, \"bob\")\n",
    "# hpc3_df = read_trace(trace_dir, hpc3_trace_file, \"charlie\")\n",
    "\n",
    "coord_df = read_trace(trace_dir, coord_trace_file)\n",
    "w0_df = read_trace(trace_dir, hpc0_trace_file, \"alice\")\n",
    "w1_df = read_trace(trace_dir, hpc1_trace_file, \"bob\")\n",
    "w2_df = read_trace(trace_dir, hpc2_trace_file, \"charlie\")"
   ]
  },
  {
   "cell_type": "code",
   "execution_count": 5,
   "metadata": {},
   "outputs": [],
   "source": [
    "hpc1_df = w0_df\n",
    "hpc2_df = w1_df\n",
    "hpc3_df = w2_df"
   ]
  },
  {
   "cell_type": "code",
   "execution_count": 6,
   "metadata": {},
   "outputs": [],
   "source": [
    "worker_dfs = {\n",
    "    \"alice\": hpc1_df,\n",
    "    \"bob\": hpc2_df,\n",
    "    \"charlie\": hpc3_df\n",
    "}"
   ]
  },
  {
   "cell_type": "markdown",
   "metadata": {},
   "source": [
    "## Duration"
   ]
  },
  {
   "cell_type": "code",
   "execution_count": 7,
   "metadata": {},
   "outputs": [],
   "source": [
    "def get_worker_duration(worker_id, worker_dfs, event_type):\n",
    "    worker_df = worker_dfs[worker_id]\n",
    "    worker_event_df = worker_df[worker_df[\"EventType\"].str.contains(event_type, regex=False)]\n",
    "    worker_event_df = worker_event_df.reset_index()\n",
    "    \n",
    "    del worker_event_df['index']\n",
    "    del worker_event_df['ID']\n",
    "    \n",
    "    return worker_event_df"
   ]
  },
  {
   "cell_type": "code",
   "execution_count": 8,
   "metadata": {},
   "outputs": [],
   "source": [
    "def get_coord_duration(coord_df, event_type):\n",
    "    coord_event_df = coord_df[coord_df[\"EventType\"].str.contains(event_type, regex=False)]\n",
    "    coord_event_df = coord_event_df.reset_index()\n",
    "    \n",
    "    del coord_event_df['index']\n",
    "    del coord_event_df['ID']\n",
    "    \n",
    "    return coord_event_df"
   ]
  },
  {
   "cell_type": "code",
   "execution_count": 9,
   "metadata": {},
   "outputs": [],
   "source": [
    "def calculate_duration(event_type, df):\n",
    "    event_df = df[df[\"EventType\"] == event_type][[\"EventType\", \"EventState\", \"ID\", \"Time\"]]\n",
    "    event_start_df = event_df[event_df[\"EventState\"] == \"start\"][[\"ID\", \"Time\"]]\n",
    "    event_start_df = event_start_df.reset_index()\n",
    "\n",
    "    event_end_df = event_df[event_df[\"EventState\"] == \"end\"][[\"Time\"]]\n",
    "    event_end_df = event_end_df.reset_index()\n",
    "    \n",
    "    event_df_cat = pd.concat([event_start_df, event_end_df], axis=1)\n",
    "    del event_df_cat['index']\n",
    "    event_df_cat.columns = [\"ID\", \"StartTime\", \"EndTime\"]\n",
    "    \n",
    "    event_df_cat[\"Duration\"] = event_df_cat.apply(lambda x: x[\"EndTime\"] - x[\"StartTime\"], axis=1)\n",
    "    event_df_cat.insert(0, \"EventType\", event_type)\n",
    "    return event_df_cat\n"
   ]
  },
  {
   "cell_type": "code",
   "execution_count": 10,
   "metadata": {},
   "outputs": [],
   "source": [
    "GlobalModelSendDuration = calculate_duration(\"GlobalModelSend\", coord_df)"
   ]
  },
  {
   "cell_type": "code",
   "execution_count": 11,
   "metadata": {},
   "outputs": [],
   "source": [
    "LossFuncSendDuration = calculate_duration(\"LossFuncSend\", coord_df)"
   ]
  },
  {
   "cell_type": "code",
   "execution_count": 12,
   "metadata": {},
   "outputs": [],
   "source": [
    "ModelConfigSendDuration = calculate_duration(\"ModelConfigSend\", coord_df)"
   ]
  },
  {
   "cell_type": "markdown",
   "metadata": {},
   "source": [
    "### GlobalModelSendDuration"
   ]
  },
  {
   "cell_type": "code",
   "execution_count": 13,
   "metadata": {
    "scrolled": true
   },
   "outputs": [
    {
     "data": {
      "text/plain": [
       "18.472403264045717"
      ]
     },
     "execution_count": 13,
     "metadata": {},
     "output_type": "execute_result"
    }
   ],
   "source": [
    "GlobalModelSendDuration[GlobalModelSendDuration[\"ID\"] == \"alice\"][1:]['Duration'].mean()"
   ]
  },
  {
   "cell_type": "code",
   "execution_count": 14,
   "metadata": {},
   "outputs": [
    {
     "data": {
      "text/plain": [
       "18.242636680603027"
      ]
     },
     "execution_count": 14,
     "metadata": {},
     "output_type": "execute_result"
    }
   ],
   "source": [
    "GlobalModelSendDuration[GlobalModelSendDuration[\"ID\"] == \"bob\"][1:]['Duration'].mean()"
   ]
  },
  {
   "cell_type": "code",
   "execution_count": 15,
   "metadata": {},
   "outputs": [
    {
     "data": {
      "text/plain": [
       "18.31258895397186"
      ]
     },
     "execution_count": 15,
     "metadata": {},
     "output_type": "execute_result"
    }
   ],
   "source": [
    "GlobalModelSendDuration[GlobalModelSendDuration[\"ID\"] == \"charlie\"][1:]['Duration'].mean()"
   ]
  },
  {
   "cell_type": "markdown",
   "metadata": {},
   "source": [
    "### LossFuncSendDuration"
   ]
  },
  {
   "cell_type": "code",
   "execution_count": 16,
   "metadata": {},
   "outputs": [
    {
     "data": {
      "text/plain": [
       "0.0017537832260131835"
      ]
     },
     "execution_count": 16,
     "metadata": {},
     "output_type": "execute_result"
    }
   ],
   "source": [
    "LossFuncSendDuration[LossFuncSendDuration[\"ID\"] == \"alice\"][1:]['Duration'].mean()"
   ]
  },
  {
   "cell_type": "code",
   "execution_count": 17,
   "metadata": {},
   "outputs": [
    {
     "data": {
      "text/plain": [
       "0.0015879154205322265"
      ]
     },
     "execution_count": 17,
     "metadata": {},
     "output_type": "execute_result"
    }
   ],
   "source": [
    "LossFuncSendDuration[LossFuncSendDuration[\"ID\"] == \"bob\"][1:]['Duration'].mean()"
   ]
  },
  {
   "cell_type": "code",
   "execution_count": 18,
   "metadata": {},
   "outputs": [
    {
     "data": {
      "text/plain": [
       "0.001598525047302246"
      ]
     },
     "execution_count": 18,
     "metadata": {},
     "output_type": "execute_result"
    }
   ],
   "source": [
    "LossFuncSendDuration[LossFuncSendDuration[\"ID\"] == \"charlie\"][1:]['Duration'].mean()"
   ]
  },
  {
   "cell_type": "markdown",
   "metadata": {},
   "source": [
    "### ModelConfigSendDuration"
   ]
  },
  {
   "cell_type": "code",
   "execution_count": 19,
   "metadata": {},
   "outputs": [
    {
     "data": {
      "text/plain": [
       "0.001003122329711914"
      ]
     },
     "execution_count": 19,
     "metadata": {},
     "output_type": "execute_result"
    }
   ],
   "source": [
    "ModelConfigSendDuration[ModelConfigSendDuration[\"ID\"] == \"alice\"][1:]['Duration'].mean()"
   ]
  },
  {
   "cell_type": "code",
   "execution_count": 20,
   "metadata": {},
   "outputs": [
    {
     "data": {
      "text/plain": [
       "0.0009503006935119629"
      ]
     },
     "execution_count": 20,
     "metadata": {},
     "output_type": "execute_result"
    }
   ],
   "source": [
    "ModelConfigSendDuration[ModelConfigSendDuration[\"ID\"] == \"bob\"][1:]['Duration'].mean()"
   ]
  },
  {
   "cell_type": "code",
   "execution_count": 21,
   "metadata": {},
   "outputs": [
    {
     "data": {
      "text/plain": [
       "0.0009734392166137696"
      ]
     },
     "execution_count": 21,
     "metadata": {},
     "output_type": "execute_result"
    }
   ],
   "source": [
    "ModelConfigSendDuration[ModelConfigSendDuration[\"ID\"] == \"charlie\"][1:]['Duration'].mean()"
   ]
  },
  {
   "cell_type": "markdown",
   "metadata": {},
   "source": [
    "## GlobalInformationSend Duration"
   ]
  },
  {
   "cell_type": "code",
   "execution_count": 22,
   "metadata": {},
   "outputs": [],
   "source": [
    "def get_coord_global_send_duration(coord_df, worker_id):\n",
    "    coord_event_df = coord_df[coord_df[\"EventType\"].str.contains(\"GlobalInformationSend\", regex=False)]\n",
    "    coord_event_df = coord_event_df[coord_event_df[\"ID\"] == worker_id]\n",
    "    coord_event_df = coord_event_df.reset_index()\n",
    "    \n",
    "    del coord_event_df['index']\n",
    "    \n",
    "    return coord_event_df"
   ]
  },
  {
   "cell_type": "code",
   "execution_count": 23,
   "metadata": {},
   "outputs": [
    {
     "data": {
      "text/plain": [
       "0.016039609909057617"
      ]
     },
     "execution_count": 23,
     "metadata": {},
     "output_type": "execute_result"
    }
   ],
   "source": [
    "1602055807.1283371 - 1602055807.1122975"
   ]
  },
  {
   "cell_type": "code",
   "execution_count": 24,
   "metadata": {},
   "outputs": [],
   "source": [
    "hpc1_gs_df = get_coord_global_send_duration(coord_df, \"alice\")"
   ]
  },
  {
   "cell_type": "code",
   "execution_count": 25,
   "metadata": {},
   "outputs": [],
   "source": [
    "hpc2_gs_df = get_coord_global_send_duration(coord_df, \"bob\")"
   ]
  },
  {
   "cell_type": "code",
   "execution_count": 26,
   "metadata": {},
   "outputs": [],
   "source": [
    "hpc3_gs_df = get_coord_global_send_duration(coord_df, \"charlie\")"
   ]
  },
  {
   "cell_type": "code",
   "execution_count": 27,
   "metadata": {},
   "outputs": [
    {
     "data": {
      "text/plain": [
       "0      9.382159\n",
       "1      9.409346\n",
       "2      9.946156\n",
       "3      9.417216\n",
       "4      9.657422\n",
       "5      9.642013\n",
       "6      9.270397\n",
       "7     10.075539\n",
       "8      9.744531\n",
       "9      9.704500\n",
       "10     9.322534\n",
       "11     9.339094\n",
       "12    10.123769\n",
       "13     9.668732\n",
       "14     9.870749\n",
       "15     9.661352\n",
       "16     9.287037\n",
       "17     9.849598\n",
       "18     9.943597\n",
       "19     9.580856\n",
       "20     9.506539\n",
       "Name: Time, dtype: float64"
      ]
     },
     "execution_count": 27,
     "metadata": {},
     "output_type": "execute_result"
    }
   ],
   "source": [
    "hpc1_gs_df['Time']"
   ]
  },
  {
   "cell_type": "code",
   "execution_count": 28,
   "metadata": {},
   "outputs": [
    {
     "data": {
      "text/plain": [
       "9.651048886775971"
      ]
     },
     "execution_count": 28,
     "metadata": {},
     "output_type": "execute_result"
    }
   ],
   "source": [
    "hpc1_gs_df['Time'][1:].mean()"
   ]
  },
  {
   "cell_type": "code",
   "execution_count": 29,
   "metadata": {},
   "outputs": [
    {
     "data": {
      "text/plain": [
       "9.778961324691773"
      ]
     },
     "execution_count": 29,
     "metadata": {},
     "output_type": "execute_result"
    }
   ],
   "source": [
    "hpc2_gs_df['Time'][1:].mean()"
   ]
  },
  {
   "cell_type": "code",
   "execution_count": 30,
   "metadata": {},
   "outputs": [
    {
     "data": {
      "text/plain": [
       "9.70000067949295"
      ]
     },
     "execution_count": 30,
     "metadata": {},
     "output_type": "execute_result"
    }
   ],
   "source": [
    "hpc3_gs_df['Time'][1:].mean()"
   ]
  },
  {
   "cell_type": "markdown",
   "metadata": {},
   "source": [
    "## Send Time"
   ]
  },
  {
   "cell_type": "code",
   "execution_count": 31,
   "metadata": {},
   "outputs": [],
   "source": [
    "## EventType:\n",
    "##     * GlobalModelSend\n",
    "##     * LossFuncSend\n",
    "##     * ModelConfigSend\n",
    "def calculate_send_time(coord_df, worker_dfs, event_type):\n",
    "    event_start_df = coord_df[(coord_df[\"EventType\"] == event_type) & (coord_df[\"EventState\"] == \"start\")]\n",
    "    worker_event_send_time_dfs = {}\n",
    "    \n",
    "    for worker_id in worker_dfs.keys():\n",
    "        worker_event_start_df = event_start_df[event_start_df[\"ID\"] == worker_id]\n",
    "        worker_event_start_df = worker_event_start_df.reset_index()\n",
    "        del worker_event_start_df['index']\n",
    "        worker_event_start_df.columns = [\"EventType\", \"EventState\", \"ID\", \"StartTime\"]\n",
    "        \n",
    "        worker_df = worker_dfs[worker_id]\n",
    "        worker_event_recv_df = worker_df[worker_df[\"EventType\"] == event_type]\n",
    "        worker_event_recv_df = worker_event_recv_df.reset_index()\n",
    "        del worker_event_recv_df['index']\n",
    "        worker_event_recv_df.columns = [\"WorkerID\", \"EventType\", \"EventState\", \"ID\", \"RecvTime\"]\n",
    "        \n",
    "        worker_recv_time_series = worker_event_recv_df[\"RecvTime\"]\n",
    "        worker_event_send_time_df = pd.concat([worker_event_start_df, worker_recv_time_series], axis=1)\n",
    "        worker_event_send_time_df[\"SendTime\"] = worker_event_send_time_df.apply(lambda x: x[\"RecvTime\"] - x[\"StartTime\"], axis=1)\n",
    "        del worker_event_send_time_df[\"EventState\"]\n",
    "        \n",
    "        worker_event_send_time_dfs[worker_id] = worker_event_send_time_df\n",
    "        \n",
    "    return worker_event_send_time_dfs"
   ]
  },
  {
   "cell_type": "code",
   "execution_count": 32,
   "metadata": {},
   "outputs": [],
   "source": [
    "worker_gms_send_time_dfs = calculate_send_time(coord_df, worker_dfs, \"GlobalModelSend\")"
   ]
  },
  {
   "cell_type": "code",
   "execution_count": 33,
   "metadata": {},
   "outputs": [
    {
     "data": {
      "text/plain": [
       "9.644562516893659"
      ]
     },
     "execution_count": 33,
     "metadata": {},
     "output_type": "execute_result"
    }
   ],
   "source": [
    "worker_gms_send_time_dfs['alice']['SendTime'].mean()"
   ]
  },
  {
   "cell_type": "code",
   "execution_count": 34,
   "metadata": {},
   "outputs": [
    {
     "data": {
      "text/html": [
       "<div>\n",
       "<style scoped>\n",
       "    .dataframe tbody tr th:only-of-type {\n",
       "        vertical-align: middle;\n",
       "    }\n",
       "\n",
       "    .dataframe tbody tr th {\n",
       "        vertical-align: top;\n",
       "    }\n",
       "\n",
       "    .dataframe thead th {\n",
       "        text-align: right;\n",
       "    }\n",
       "</style>\n",
       "<table border=\"1\" class=\"dataframe\">\n",
       "  <thead>\n",
       "    <tr style=\"text-align: right;\">\n",
       "      <th></th>\n",
       "      <th>EventType</th>\n",
       "      <th>ID</th>\n",
       "      <th>StartTime</th>\n",
       "      <th>RecvTime</th>\n",
       "      <th>SendTime</th>\n",
       "    </tr>\n",
       "  </thead>\n",
       "  <tbody>\n",
       "    <tr>\n",
       "      <th>0</th>\n",
       "      <td>GlobalModelSend</td>\n",
       "      <td>alice</td>\n",
       "      <td>1.603614e+09</td>\n",
       "      <td>1.603614e+09</td>\n",
       "      <td>9.385497</td>\n",
       "    </tr>\n",
       "    <tr>\n",
       "      <th>1</th>\n",
       "      <td>GlobalModelSend</td>\n",
       "      <td>alice</td>\n",
       "      <td>1.603614e+09</td>\n",
       "      <td>1.603614e+09</td>\n",
       "      <td>9.414423</td>\n",
       "    </tr>\n",
       "    <tr>\n",
       "      <th>2</th>\n",
       "      <td>GlobalModelSend</td>\n",
       "      <td>alice</td>\n",
       "      <td>1.603614e+09</td>\n",
       "      <td>1.603614e+09</td>\n",
       "      <td>9.952540</td>\n",
       "    </tr>\n",
       "    <tr>\n",
       "      <th>3</th>\n",
       "      <td>GlobalModelSend</td>\n",
       "      <td>alice</td>\n",
       "      <td>1.603614e+09</td>\n",
       "      <td>1.603614e+09</td>\n",
       "      <td>9.424333</td>\n",
       "    </tr>\n",
       "    <tr>\n",
       "      <th>4</th>\n",
       "      <td>GlobalModelSend</td>\n",
       "      <td>alice</td>\n",
       "      <td>1.603614e+09</td>\n",
       "      <td>1.603614e+09</td>\n",
       "      <td>9.663048</td>\n",
       "    </tr>\n",
       "    <tr>\n",
       "      <th>5</th>\n",
       "      <td>GlobalModelSend</td>\n",
       "      <td>alice</td>\n",
       "      <td>1.603615e+09</td>\n",
       "      <td>1.603615e+09</td>\n",
       "      <td>9.648370</td>\n",
       "    </tr>\n",
       "    <tr>\n",
       "      <th>6</th>\n",
       "      <td>GlobalModelSend</td>\n",
       "      <td>alice</td>\n",
       "      <td>1.603615e+09</td>\n",
       "      <td>1.603615e+09</td>\n",
       "      <td>9.277519</td>\n",
       "    </tr>\n",
       "    <tr>\n",
       "      <th>7</th>\n",
       "      <td>GlobalModelSend</td>\n",
       "      <td>alice</td>\n",
       "      <td>1.603615e+09</td>\n",
       "      <td>1.603615e+09</td>\n",
       "      <td>10.081920</td>\n",
       "    </tr>\n",
       "    <tr>\n",
       "      <th>8</th>\n",
       "      <td>GlobalModelSend</td>\n",
       "      <td>alice</td>\n",
       "      <td>1.603615e+09</td>\n",
       "      <td>1.603615e+09</td>\n",
       "      <td>9.751221</td>\n",
       "    </tr>\n",
       "    <tr>\n",
       "      <th>9</th>\n",
       "      <td>GlobalModelSend</td>\n",
       "      <td>alice</td>\n",
       "      <td>1.603615e+09</td>\n",
       "      <td>1.603615e+09</td>\n",
       "      <td>9.709507</td>\n",
       "    </tr>\n",
       "    <tr>\n",
       "      <th>10</th>\n",
       "      <td>GlobalModelSend</td>\n",
       "      <td>alice</td>\n",
       "      <td>1.603615e+09</td>\n",
       "      <td>1.603615e+09</td>\n",
       "      <td>9.329822</td>\n",
       "    </tr>\n",
       "    <tr>\n",
       "      <th>11</th>\n",
       "      <td>GlobalModelSend</td>\n",
       "      <td>alice</td>\n",
       "      <td>1.603615e+09</td>\n",
       "      <td>1.603615e+09</td>\n",
       "      <td>9.344796</td>\n",
       "    </tr>\n",
       "    <tr>\n",
       "      <th>12</th>\n",
       "      <td>GlobalModelSend</td>\n",
       "      <td>alice</td>\n",
       "      <td>1.603615e+09</td>\n",
       "      <td>1.603615e+09</td>\n",
       "      <td>10.130224</td>\n",
       "    </tr>\n",
       "    <tr>\n",
       "      <th>13</th>\n",
       "      <td>GlobalModelSend</td>\n",
       "      <td>alice</td>\n",
       "      <td>1.603615e+09</td>\n",
       "      <td>1.603615e+09</td>\n",
       "      <td>9.676443</td>\n",
       "    </tr>\n",
       "    <tr>\n",
       "      <th>14</th>\n",
       "      <td>GlobalModelSend</td>\n",
       "      <td>alice</td>\n",
       "      <td>1.603616e+09</td>\n",
       "      <td>1.603616e+09</td>\n",
       "      <td>9.876982</td>\n",
       "    </tr>\n",
       "    <tr>\n",
       "      <th>15</th>\n",
       "      <td>GlobalModelSend</td>\n",
       "      <td>alice</td>\n",
       "      <td>1.603616e+09</td>\n",
       "      <td>1.603616e+09</td>\n",
       "      <td>9.666756</td>\n",
       "    </tr>\n",
       "    <tr>\n",
       "      <th>16</th>\n",
       "      <td>GlobalModelSend</td>\n",
       "      <td>alice</td>\n",
       "      <td>1.603616e+09</td>\n",
       "      <td>1.603616e+09</td>\n",
       "      <td>9.294221</td>\n",
       "    </tr>\n",
       "    <tr>\n",
       "      <th>17</th>\n",
       "      <td>GlobalModelSend</td>\n",
       "      <td>alice</td>\n",
       "      <td>1.603616e+09</td>\n",
       "      <td>1.603616e+09</td>\n",
       "      <td>9.855490</td>\n",
       "    </tr>\n",
       "    <tr>\n",
       "      <th>18</th>\n",
       "      <td>GlobalModelSend</td>\n",
       "      <td>alice</td>\n",
       "      <td>1.603616e+09</td>\n",
       "      <td>1.603616e+09</td>\n",
       "      <td>9.950062</td>\n",
       "    </tr>\n",
       "    <tr>\n",
       "      <th>19</th>\n",
       "      <td>GlobalModelSend</td>\n",
       "      <td>alice</td>\n",
       "      <td>1.603616e+09</td>\n",
       "      <td>1.603616e+09</td>\n",
       "      <td>9.588754</td>\n",
       "    </tr>\n",
       "    <tr>\n",
       "      <th>20</th>\n",
       "      <td>GlobalModelSend</td>\n",
       "      <td>alice</td>\n",
       "      <td>1.603616e+09</td>\n",
       "      <td>1.603616e+09</td>\n",
       "      <td>9.513884</td>\n",
       "    </tr>\n",
       "  </tbody>\n",
       "</table>\n",
       "</div>"
      ],
      "text/plain": [
       "          EventType     ID     StartTime      RecvTime   SendTime\n",
       "0   GlobalModelSend  alice  1.603614e+09  1.603614e+09   9.385497\n",
       "1   GlobalModelSend  alice  1.603614e+09  1.603614e+09   9.414423\n",
       "2   GlobalModelSend  alice  1.603614e+09  1.603614e+09   9.952540\n",
       "3   GlobalModelSend  alice  1.603614e+09  1.603614e+09   9.424333\n",
       "4   GlobalModelSend  alice  1.603614e+09  1.603614e+09   9.663048\n",
       "5   GlobalModelSend  alice  1.603615e+09  1.603615e+09   9.648370\n",
       "6   GlobalModelSend  alice  1.603615e+09  1.603615e+09   9.277519\n",
       "7   GlobalModelSend  alice  1.603615e+09  1.603615e+09  10.081920\n",
       "8   GlobalModelSend  alice  1.603615e+09  1.603615e+09   9.751221\n",
       "9   GlobalModelSend  alice  1.603615e+09  1.603615e+09   9.709507\n",
       "10  GlobalModelSend  alice  1.603615e+09  1.603615e+09   9.329822\n",
       "11  GlobalModelSend  alice  1.603615e+09  1.603615e+09   9.344796\n",
       "12  GlobalModelSend  alice  1.603615e+09  1.603615e+09  10.130224\n",
       "13  GlobalModelSend  alice  1.603615e+09  1.603615e+09   9.676443\n",
       "14  GlobalModelSend  alice  1.603616e+09  1.603616e+09   9.876982\n",
       "15  GlobalModelSend  alice  1.603616e+09  1.603616e+09   9.666756\n",
       "16  GlobalModelSend  alice  1.603616e+09  1.603616e+09   9.294221\n",
       "17  GlobalModelSend  alice  1.603616e+09  1.603616e+09   9.855490\n",
       "18  GlobalModelSend  alice  1.603616e+09  1.603616e+09   9.950062\n",
       "19  GlobalModelSend  alice  1.603616e+09  1.603616e+09   9.588754\n",
       "20  GlobalModelSend  alice  1.603616e+09  1.603616e+09   9.513884"
      ]
     },
     "execution_count": 34,
     "metadata": {},
     "output_type": "execute_result"
    }
   ],
   "source": [
    "worker_gms_send_time_dfs['alice']"
   ]
  },
  {
   "cell_type": "code",
   "execution_count": 35,
   "metadata": {},
   "outputs": [
    {
     "data": {
      "text/plain": [
       "9.729148558207921"
      ]
     },
     "execution_count": 35,
     "metadata": {},
     "output_type": "execute_result"
    }
   ],
   "source": [
    "worker_gms_send_time_dfs['charlie']['SendTime'].mean()"
   ]
  },
  {
   "cell_type": "code",
   "execution_count": 36,
   "metadata": {},
   "outputs": [],
   "source": [
    "# coord_df = read_trace(trace_dir, coord_trace_file)\n",
    "# hpc1_df = read_trace(trace_dir, hpc1_trace_file, \"alice\")\n",
    "# hpc2_df = read_trace(trace_dir, hpc2_trace_file, \"bob\")\n",
    "# hpc3_df = read_trace(trace_dir, hpc3_trace_file, \"charlie\")"
   ]
  },
  {
   "cell_type": "markdown",
   "metadata": {},
   "source": [
    "## LocalTraining Duration"
   ]
  },
  {
   "cell_type": "code",
   "execution_count": 37,
   "metadata": {},
   "outputs": [],
   "source": [
    "hpc1_lt_df = get_worker_duration(\"alice\", worker_dfs, \"LocalTraining\")"
   ]
  },
  {
   "cell_type": "code",
   "execution_count": 38,
   "metadata": {},
   "outputs": [],
   "source": [
    "hpc2_lt_df = get_worker_duration(\"bob\", worker_dfs, \"LocalTraining\")"
   ]
  },
  {
   "cell_type": "code",
   "execution_count": 39,
   "metadata": {},
   "outputs": [],
   "source": [
    "hpc3_lt_df = get_worker_duration(\"charlie\", worker_dfs, \"LocalTraining\")"
   ]
  },
  {
   "cell_type": "code",
   "execution_count": 40,
   "metadata": {},
   "outputs": [
    {
     "data": {
      "text/plain": [
       "26.888133311271666"
      ]
     },
     "execution_count": 40,
     "metadata": {},
     "output_type": "execute_result"
    }
   ],
   "source": [
    "hpc1_lt_df['Time'][1:].mean()"
   ]
  },
  {
   "cell_type": "code",
   "execution_count": 41,
   "metadata": {},
   "outputs": [
    {
     "data": {
      "text/plain": [
       "18.266179859638214"
      ]
     },
     "execution_count": 41,
     "metadata": {},
     "output_type": "execute_result"
    }
   ],
   "source": [
    "hpc2_lt_df['Time'][1:].mean()"
   ]
  },
  {
   "cell_type": "code",
   "execution_count": 42,
   "metadata": {},
   "outputs": [
    {
     "data": {
      "text/plain": [
       "19.399863994121553"
      ]
     },
     "execution_count": 42,
     "metadata": {},
     "output_type": "execute_result"
    }
   ],
   "source": [
    "hpc3_lt_df['Time'][1:].mean()"
   ]
  },
  {
   "cell_type": "code",
   "execution_count": 43,
   "metadata": {},
   "outputs": [
    {
     "data": {
      "text/html": [
       "<div>\n",
       "<style scoped>\n",
       "    .dataframe tbody tr th:only-of-type {\n",
       "        vertical-align: middle;\n",
       "    }\n",
       "\n",
       "    .dataframe tbody tr th {\n",
       "        vertical-align: top;\n",
       "    }\n",
       "\n",
       "    .dataframe thead th {\n",
       "        text-align: right;\n",
       "    }\n",
       "</style>\n",
       "<table border=\"1\" class=\"dataframe\">\n",
       "  <thead>\n",
       "    <tr style=\"text-align: right;\">\n",
       "      <th></th>\n",
       "      <th>WorkerID</th>\n",
       "      <th>EventType</th>\n",
       "      <th>EventState</th>\n",
       "      <th>Time</th>\n",
       "    </tr>\n",
       "  </thead>\n",
       "  <tbody>\n",
       "    <tr>\n",
       "      <th>0</th>\n",
       "      <td>alice</td>\n",
       "      <td>LocalTraining</td>\n",
       "      <td>duration</td>\n",
       "      <td>26.827748</td>\n",
       "    </tr>\n",
       "    <tr>\n",
       "      <th>1</th>\n",
       "      <td>alice</td>\n",
       "      <td>LocalTraining</td>\n",
       "      <td>duration</td>\n",
       "      <td>26.892097</td>\n",
       "    </tr>\n",
       "    <tr>\n",
       "      <th>2</th>\n",
       "      <td>alice</td>\n",
       "      <td>LocalTraining</td>\n",
       "      <td>duration</td>\n",
       "      <td>26.863703</td>\n",
       "    </tr>\n",
       "    <tr>\n",
       "      <th>3</th>\n",
       "      <td>alice</td>\n",
       "      <td>LocalTraining</td>\n",
       "      <td>duration</td>\n",
       "      <td>26.661787</td>\n",
       "    </tr>\n",
       "    <tr>\n",
       "      <th>4</th>\n",
       "      <td>alice</td>\n",
       "      <td>LocalTraining</td>\n",
       "      <td>duration</td>\n",
       "      <td>26.972345</td>\n",
       "    </tr>\n",
       "    <tr>\n",
       "      <th>5</th>\n",
       "      <td>alice</td>\n",
       "      <td>LocalTraining</td>\n",
       "      <td>duration</td>\n",
       "      <td>26.856486</td>\n",
       "    </tr>\n",
       "    <tr>\n",
       "      <th>6</th>\n",
       "      <td>alice</td>\n",
       "      <td>LocalTraining</td>\n",
       "      <td>duration</td>\n",
       "      <td>27.062217</td>\n",
       "    </tr>\n",
       "    <tr>\n",
       "      <th>7</th>\n",
       "      <td>alice</td>\n",
       "      <td>LocalTraining</td>\n",
       "      <td>duration</td>\n",
       "      <td>26.515647</td>\n",
       "    </tr>\n",
       "    <tr>\n",
       "      <th>8</th>\n",
       "      <td>alice</td>\n",
       "      <td>LocalTraining</td>\n",
       "      <td>duration</td>\n",
       "      <td>26.919083</td>\n",
       "    </tr>\n",
       "    <tr>\n",
       "      <th>9</th>\n",
       "      <td>alice</td>\n",
       "      <td>LocalTraining</td>\n",
       "      <td>duration</td>\n",
       "      <td>26.799654</td>\n",
       "    </tr>\n",
       "    <tr>\n",
       "      <th>10</th>\n",
       "      <td>alice</td>\n",
       "      <td>LocalTraining</td>\n",
       "      <td>duration</td>\n",
       "      <td>26.717546</td>\n",
       "    </tr>\n",
       "    <tr>\n",
       "      <th>11</th>\n",
       "      <td>alice</td>\n",
       "      <td>LocalTraining</td>\n",
       "      <td>duration</td>\n",
       "      <td>27.077057</td>\n",
       "    </tr>\n",
       "    <tr>\n",
       "      <th>12</th>\n",
       "      <td>alice</td>\n",
       "      <td>LocalTraining</td>\n",
       "      <td>duration</td>\n",
       "      <td>26.839693</td>\n",
       "    </tr>\n",
       "    <tr>\n",
       "      <th>13</th>\n",
       "      <td>alice</td>\n",
       "      <td>LocalTraining</td>\n",
       "      <td>duration</td>\n",
       "      <td>26.687848</td>\n",
       "    </tr>\n",
       "    <tr>\n",
       "      <th>14</th>\n",
       "      <td>alice</td>\n",
       "      <td>LocalTraining</td>\n",
       "      <td>duration</td>\n",
       "      <td>27.065615</td>\n",
       "    </tr>\n",
       "    <tr>\n",
       "      <th>15</th>\n",
       "      <td>alice</td>\n",
       "      <td>LocalTraining</td>\n",
       "      <td>duration</td>\n",
       "      <td>26.890296</td>\n",
       "    </tr>\n",
       "    <tr>\n",
       "      <th>16</th>\n",
       "      <td>alice</td>\n",
       "      <td>LocalTraining</td>\n",
       "      <td>duration</td>\n",
       "      <td>26.845508</td>\n",
       "    </tr>\n",
       "    <tr>\n",
       "      <th>17</th>\n",
       "      <td>alice</td>\n",
       "      <td>LocalTraining</td>\n",
       "      <td>duration</td>\n",
       "      <td>26.887716</td>\n",
       "    </tr>\n",
       "    <tr>\n",
       "      <th>18</th>\n",
       "      <td>alice</td>\n",
       "      <td>LocalTraining</td>\n",
       "      <td>duration</td>\n",
       "      <td>26.995471</td>\n",
       "    </tr>\n",
       "    <tr>\n",
       "      <th>19</th>\n",
       "      <td>alice</td>\n",
       "      <td>LocalTraining</td>\n",
       "      <td>duration</td>\n",
       "      <td>27.302747</td>\n",
       "    </tr>\n",
       "    <tr>\n",
       "      <th>20</th>\n",
       "      <td>alice</td>\n",
       "      <td>LocalTraining</td>\n",
       "      <td>duration</td>\n",
       "      <td>26.910153</td>\n",
       "    </tr>\n",
       "  </tbody>\n",
       "</table>\n",
       "</div>"
      ],
      "text/plain": [
       "   WorkerID      EventType EventState       Time\n",
       "0     alice  LocalTraining   duration  26.827748\n",
       "1     alice  LocalTraining   duration  26.892097\n",
       "2     alice  LocalTraining   duration  26.863703\n",
       "3     alice  LocalTraining   duration  26.661787\n",
       "4     alice  LocalTraining   duration  26.972345\n",
       "5     alice  LocalTraining   duration  26.856486\n",
       "6     alice  LocalTraining   duration  27.062217\n",
       "7     alice  LocalTraining   duration  26.515647\n",
       "8     alice  LocalTraining   duration  26.919083\n",
       "9     alice  LocalTraining   duration  26.799654\n",
       "10    alice  LocalTraining   duration  26.717546\n",
       "11    alice  LocalTraining   duration  27.077057\n",
       "12    alice  LocalTraining   duration  26.839693\n",
       "13    alice  LocalTraining   duration  26.687848\n",
       "14    alice  LocalTraining   duration  27.065615\n",
       "15    alice  LocalTraining   duration  26.890296\n",
       "16    alice  LocalTraining   duration  26.845508\n",
       "17    alice  LocalTraining   duration  26.887716\n",
       "18    alice  LocalTraining   duration  26.995471\n",
       "19    alice  LocalTraining   duration  27.302747\n",
       "20    alice  LocalTraining   duration  26.910153"
      ]
     },
     "execution_count": 43,
     "metadata": {},
     "output_type": "execute_result"
    }
   ],
   "source": [
    "hpc1_lt_df"
   ]
  },
  {
   "cell_type": "markdown",
   "metadata": {},
   "source": [
    "## FitSagg Duration"
   ]
  },
  {
   "cell_type": "code",
   "execution_count": 44,
   "metadata": {},
   "outputs": [],
   "source": [
    "def get_coord_fitsagg_duration(coord_df, worker_id):\n",
    "    coord_event_df = coord_df[coord_df[\"EventType\"].str.contains(\"FitSagg\", regex=False)]\n",
    "    coord_event_df = coord_event_df[coord_event_df[\"ID\"] == worker_id]\n",
    "    coord_event_df = coord_event_df.reset_index()\n",
    "    \n",
    "    del coord_event_df['index']\n",
    "    \n",
    "    return coord_event_df"
   ]
  },
  {
   "cell_type": "code",
   "execution_count": 45,
   "metadata": {},
   "outputs": [],
   "source": [
    "hpc1_fs_df = get_coord_fitsagg_duration(coord_df, \"alice\")"
   ]
  },
  {
   "cell_type": "code",
   "execution_count": 46,
   "metadata": {},
   "outputs": [],
   "source": [
    "hpc2_fs_df = get_coord_fitsagg_duration(coord_df, \"bob\")"
   ]
  },
  {
   "cell_type": "code",
   "execution_count": 47,
   "metadata": {},
   "outputs": [],
   "source": [
    "hpc3_fs_df = get_coord_fitsagg_duration(coord_df, \"charlie\")"
   ]
  },
  {
   "cell_type": "code",
   "execution_count": 48,
   "metadata": {},
   "outputs": [
    {
     "data": {
      "text/plain": [
       "92.98966790437699"
      ]
     },
     "execution_count": 48,
     "metadata": {},
     "output_type": "execute_result"
    }
   ],
   "source": [
    "hpc1_fs_df['Time'][1:].mean()"
   ]
  },
  {
   "cell_type": "code",
   "execution_count": 49,
   "metadata": {},
   "outputs": [
    {
     "data": {
      "text/plain": [
       "98.00929516553879"
      ]
     },
     "execution_count": 49,
     "metadata": {},
     "output_type": "execute_result"
    }
   ],
   "source": [
    "hpc2_fs_df['Time'][1:].mean()"
   ]
  },
  {
   "cell_type": "code",
   "execution_count": 50,
   "metadata": {},
   "outputs": [
    {
     "data": {
      "text/plain": [
       "98.64103366136551"
      ]
     },
     "execution_count": 50,
     "metadata": {},
     "output_type": "execute_result"
    }
   ],
   "source": [
    "hpc3_fs_df['Time'][1:].mean()"
   ]
  },
  {
   "cell_type": "markdown",
   "metadata": {},
   "source": [
    "## EncryptMultiply Duration"
   ]
  },
  {
   "cell_type": "code",
   "execution_count": 51,
   "metadata": {},
   "outputs": [],
   "source": [
    "hpc1_em_df = get_worker_duration(\"alice\", worker_dfs, \"EncryptMultiply\")"
   ]
  },
  {
   "cell_type": "code",
   "execution_count": 52,
   "metadata": {},
   "outputs": [],
   "source": [
    "hpc2_em_df = get_worker_duration(\"bob\", worker_dfs, \"EncryptMultiply\")"
   ]
  },
  {
   "cell_type": "code",
   "execution_count": 53,
   "metadata": {},
   "outputs": [],
   "source": [
    "hpc3_em_df = get_worker_duration(\"charlie\", worker_dfs, \"EncryptMultiply\")"
   ]
  },
  {
   "cell_type": "code",
   "execution_count": 54,
   "metadata": {},
   "outputs": [
    {
     "data": {
      "text/plain": [
       "72.92684103250504"
      ]
     },
     "execution_count": 54,
     "metadata": {},
     "output_type": "execute_result"
    }
   ],
   "source": [
    "hpc1_em_df['Time'][1:].mean()"
   ]
  },
  {
   "cell_type": "code",
   "execution_count": 55,
   "metadata": {},
   "outputs": [
    {
     "data": {
      "text/plain": [
       "85.04863657951356"
      ]
     },
     "execution_count": 55,
     "metadata": {},
     "output_type": "execute_result"
    }
   ],
   "source": [
    "hpc2_em_df['Time'][1:].mean()"
   ]
  },
  {
   "cell_type": "code",
   "execution_count": 56,
   "metadata": {},
   "outputs": [
    {
     "data": {
      "text/plain": [
       "82.33616433143615"
      ]
     },
     "execution_count": 56,
     "metadata": {},
     "output_type": "execute_result"
    }
   ],
   "source": [
    "hpc3_em_df['Time'][1:].mean()"
   ]
  },
  {
   "cell_type": "code",
   "execution_count": 57,
   "metadata": {},
   "outputs": [
    {
     "data": {
      "text/html": [
       "<div>\n",
       "<style scoped>\n",
       "    .dataframe tbody tr th:only-of-type {\n",
       "        vertical-align: middle;\n",
       "    }\n",
       "\n",
       "    .dataframe tbody tr th {\n",
       "        vertical-align: top;\n",
       "    }\n",
       "\n",
       "    .dataframe thead th {\n",
       "        text-align: right;\n",
       "    }\n",
       "</style>\n",
       "<table border=\"1\" class=\"dataframe\">\n",
       "  <thead>\n",
       "    <tr style=\"text-align: right;\">\n",
       "      <th></th>\n",
       "      <th>WorkerID</th>\n",
       "      <th>EventType</th>\n",
       "      <th>EventState</th>\n",
       "      <th>Time</th>\n",
       "    </tr>\n",
       "  </thead>\n",
       "  <tbody>\n",
       "    <tr>\n",
       "      <th>0</th>\n",
       "      <td>alice</td>\n",
       "      <td>EncryptMultiply</td>\n",
       "      <td>duration</td>\n",
       "      <td>211.737648</td>\n",
       "    </tr>\n",
       "    <tr>\n",
       "      <th>1</th>\n",
       "      <td>alice</td>\n",
       "      <td>EncryptMultiply</td>\n",
       "      <td>duration</td>\n",
       "      <td>210.702761</td>\n",
       "    </tr>\n",
       "    <tr>\n",
       "      <th>2</th>\n",
       "      <td>alice</td>\n",
       "      <td>EncryptMultiply</td>\n",
       "      <td>duration</td>\n",
       "      <td>221.539311</td>\n",
       "    </tr>\n",
       "    <tr>\n",
       "      <th>3</th>\n",
       "      <td>alice</td>\n",
       "      <td>EncryptMultiply</td>\n",
       "      <td>duration</td>\n",
       "      <td>211.035815</td>\n",
       "    </tr>\n",
       "    <tr>\n",
       "      <th>4</th>\n",
       "      <td>alice</td>\n",
       "      <td>EncryptMultiply</td>\n",
       "      <td>duration</td>\n",
       "      <td>210.830552</td>\n",
       "    </tr>\n",
       "    <tr>\n",
       "      <th>5</th>\n",
       "      <td>alice</td>\n",
       "      <td>EncryptMultiply</td>\n",
       "      <td>duration</td>\n",
       "      <td>210.901063</td>\n",
       "    </tr>\n",
       "    <tr>\n",
       "      <th>6</th>\n",
       "      <td>alice</td>\n",
       "      <td>EncryptMultiply</td>\n",
       "      <td>duration</td>\n",
       "      <td>210.987177</td>\n",
       "    </tr>\n",
       "    <tr>\n",
       "      <th>7</th>\n",
       "      <td>alice</td>\n",
       "      <td>EncryptMultiply</td>\n",
       "      <td>duration</td>\n",
       "      <td>211.577678</td>\n",
       "    </tr>\n",
       "    <tr>\n",
       "      <th>8</th>\n",
       "      <td>alice</td>\n",
       "      <td>EncryptMultiply</td>\n",
       "      <td>duration</td>\n",
       "      <td>210.910632</td>\n",
       "    </tr>\n",
       "    <tr>\n",
       "      <th>9</th>\n",
       "      <td>alice</td>\n",
       "      <td>EncryptMultiply</td>\n",
       "      <td>duration</td>\n",
       "      <td>212.308907</td>\n",
       "    </tr>\n",
       "    <tr>\n",
       "      <th>10</th>\n",
       "      <td>alice</td>\n",
       "      <td>EncryptMultiply</td>\n",
       "      <td>duration</td>\n",
       "      <td>211.880019</td>\n",
       "    </tr>\n",
       "    <tr>\n",
       "      <th>11</th>\n",
       "      <td>alice</td>\n",
       "      <td>EncryptMultiply</td>\n",
       "      <td>duration</td>\n",
       "      <td>211.751946</td>\n",
       "    </tr>\n",
       "    <tr>\n",
       "      <th>12</th>\n",
       "      <td>alice</td>\n",
       "      <td>EncryptMultiply</td>\n",
       "      <td>duration</td>\n",
       "      <td>210.721572</td>\n",
       "    </tr>\n",
       "    <tr>\n",
       "      <th>13</th>\n",
       "      <td>alice</td>\n",
       "      <td>EncryptMultiply</td>\n",
       "      <td>duration</td>\n",
       "      <td>211.072914</td>\n",
       "    </tr>\n",
       "    <tr>\n",
       "      <th>14</th>\n",
       "      <td>alice</td>\n",
       "      <td>EncryptMultiply</td>\n",
       "      <td>duration</td>\n",
       "      <td>220.623001</td>\n",
       "    </tr>\n",
       "    <tr>\n",
       "      <th>15</th>\n",
       "      <td>alice</td>\n",
       "      <td>EncryptMultiply</td>\n",
       "      <td>duration</td>\n",
       "      <td>210.454226</td>\n",
       "    </tr>\n",
       "    <tr>\n",
       "      <th>16</th>\n",
       "      <td>alice</td>\n",
       "      <td>EncryptMultiply</td>\n",
       "      <td>duration</td>\n",
       "      <td>210.503593</td>\n",
       "    </tr>\n",
       "    <tr>\n",
       "      <th>17</th>\n",
       "      <td>alice</td>\n",
       "      <td>EncryptMultiply</td>\n",
       "      <td>duration</td>\n",
       "      <td>211.477242</td>\n",
       "    </tr>\n",
       "    <tr>\n",
       "      <th>18</th>\n",
       "      <td>alice</td>\n",
       "      <td>EncryptMultiply</td>\n",
       "      <td>duration</td>\n",
       "      <td>210.993534</td>\n",
       "    </tr>\n",
       "    <tr>\n",
       "      <th>19</th>\n",
       "      <td>alice</td>\n",
       "      <td>EncryptMultiply</td>\n",
       "      <td>duration</td>\n",
       "      <td>211.862855</td>\n",
       "    </tr>\n",
       "    <tr>\n",
       "      <th>20</th>\n",
       "      <td>alice</td>\n",
       "      <td>EncryptMultiply</td>\n",
       "      <td>duration</td>\n",
       "      <td>210.747291</td>\n",
       "    </tr>\n",
       "  </tbody>\n",
       "</table>\n",
       "</div>"
      ],
      "text/plain": [
       "   WorkerID        EventType EventState        Time\n",
       "0     alice  EncryptMultiply   duration  211.737648\n",
       "1     alice  EncryptMultiply   duration  210.702761\n",
       "2     alice  EncryptMultiply   duration  221.539311\n",
       "3     alice  EncryptMultiply   duration  211.035815\n",
       "4     alice  EncryptMultiply   duration  210.830552\n",
       "5     alice  EncryptMultiply   duration  210.901063\n",
       "6     alice  EncryptMultiply   duration  210.987177\n",
       "7     alice  EncryptMultiply   duration  211.577678\n",
       "8     alice  EncryptMultiply   duration  210.910632\n",
       "9     alice  EncryptMultiply   duration  212.308907\n",
       "10    alice  EncryptMultiply   duration  211.880019\n",
       "11    alice  EncryptMultiply   duration  211.751946\n",
       "12    alice  EncryptMultiply   duration  210.721572\n",
       "13    alice  EncryptMultiply   duration  211.072914\n",
       "14    alice  EncryptMultiply   duration  220.623001\n",
       "15    alice  EncryptMultiply   duration  210.454226\n",
       "16    alice  EncryptMultiply   duration  210.503593\n",
       "17    alice  EncryptMultiply   duration  211.477242\n",
       "18    alice  EncryptMultiply   duration  210.993534\n",
       "19    alice  EncryptMultiply   duration  211.862855\n",
       "20    alice  EncryptMultiply   duration  210.747291"
      ]
     },
     "execution_count": 57,
     "metadata": {},
     "output_type": "execute_result"
    }
   ],
   "source": [
    "hpc1_em_df"
   ]
  },
  {
   "cell_type": "code",
   "execution_count": 58,
   "metadata": {},
   "outputs": [
    {
     "data": {
      "text/html": [
       "<div>\n",
       "<style scoped>\n",
       "    .dataframe tbody tr th:only-of-type {\n",
       "        vertical-align: middle;\n",
       "    }\n",
       "\n",
       "    .dataframe tbody tr th {\n",
       "        vertical-align: top;\n",
       "    }\n",
       "\n",
       "    .dataframe thead th {\n",
       "        text-align: right;\n",
       "    }\n",
       "</style>\n",
       "<table border=\"1\" class=\"dataframe\">\n",
       "  <thead>\n",
       "    <tr style=\"text-align: right;\">\n",
       "      <th></th>\n",
       "      <th>WorkerID</th>\n",
       "      <th>EventType</th>\n",
       "      <th>EventState</th>\n",
       "      <th>Time</th>\n",
       "    </tr>\n",
       "  </thead>\n",
       "  <tbody>\n",
       "    <tr>\n",
       "      <th>0</th>\n",
       "      <td>bob</td>\n",
       "      <td>EncryptMultiply</td>\n",
       "      <td>duration</td>\n",
       "      <td>233.724081</td>\n",
       "    </tr>\n",
       "    <tr>\n",
       "      <th>1</th>\n",
       "      <td>bob</td>\n",
       "      <td>EncryptMultiply</td>\n",
       "      <td>duration</td>\n",
       "      <td>233.994982</td>\n",
       "    </tr>\n",
       "    <tr>\n",
       "      <th>2</th>\n",
       "      <td>bob</td>\n",
       "      <td>EncryptMultiply</td>\n",
       "      <td>duration</td>\n",
       "      <td>216.604090</td>\n",
       "    </tr>\n",
       "    <tr>\n",
       "      <th>3</th>\n",
       "      <td>bob</td>\n",
       "      <td>EncryptMultiply</td>\n",
       "      <td>duration</td>\n",
       "      <td>233.318352</td>\n",
       "    </tr>\n",
       "    <tr>\n",
       "      <th>4</th>\n",
       "      <td>bob</td>\n",
       "      <td>EncryptMultiply</td>\n",
       "      <td>duration</td>\n",
       "      <td>232.208992</td>\n",
       "    </tr>\n",
       "    <tr>\n",
       "      <th>5</th>\n",
       "      <td>bob</td>\n",
       "      <td>EncryptMultiply</td>\n",
       "      <td>duration</td>\n",
       "      <td>233.171974</td>\n",
       "    </tr>\n",
       "    <tr>\n",
       "      <th>6</th>\n",
       "      <td>bob</td>\n",
       "      <td>EncryptMultiply</td>\n",
       "      <td>duration</td>\n",
       "      <td>233.528935</td>\n",
       "    </tr>\n",
       "    <tr>\n",
       "      <th>7</th>\n",
       "      <td>bob</td>\n",
       "      <td>EncryptMultiply</td>\n",
       "      <td>duration</td>\n",
       "      <td>233.360581</td>\n",
       "    </tr>\n",
       "    <tr>\n",
       "      <th>8</th>\n",
       "      <td>bob</td>\n",
       "      <td>EncryptMultiply</td>\n",
       "      <td>duration</td>\n",
       "      <td>232.415484</td>\n",
       "    </tr>\n",
       "    <tr>\n",
       "      <th>9</th>\n",
       "      <td>bob</td>\n",
       "      <td>EncryptMultiply</td>\n",
       "      <td>duration</td>\n",
       "      <td>234.987400</td>\n",
       "    </tr>\n",
       "    <tr>\n",
       "      <th>10</th>\n",
       "      <td>bob</td>\n",
       "      <td>EncryptMultiply</td>\n",
       "      <td>duration</td>\n",
       "      <td>234.459281</td>\n",
       "    </tr>\n",
       "    <tr>\n",
       "      <th>11</th>\n",
       "      <td>bob</td>\n",
       "      <td>EncryptMultiply</td>\n",
       "      <td>duration</td>\n",
       "      <td>234.079323</td>\n",
       "    </tr>\n",
       "    <tr>\n",
       "      <th>12</th>\n",
       "      <td>bob</td>\n",
       "      <td>EncryptMultiply</td>\n",
       "      <td>duration</td>\n",
       "      <td>231.520055</td>\n",
       "    </tr>\n",
       "    <tr>\n",
       "      <th>13</th>\n",
       "      <td>bob</td>\n",
       "      <td>EncryptMultiply</td>\n",
       "      <td>duration</td>\n",
       "      <td>231.251611</td>\n",
       "    </tr>\n",
       "    <tr>\n",
       "      <th>14</th>\n",
       "      <td>bob</td>\n",
       "      <td>EncryptMultiply</td>\n",
       "      <td>duration</td>\n",
       "      <td>215.711213</td>\n",
       "    </tr>\n",
       "    <tr>\n",
       "      <th>15</th>\n",
       "      <td>bob</td>\n",
       "      <td>EncryptMultiply</td>\n",
       "      <td>duration</td>\n",
       "      <td>233.025335</td>\n",
       "    </tr>\n",
       "    <tr>\n",
       "      <th>16</th>\n",
       "      <td>bob</td>\n",
       "      <td>EncryptMultiply</td>\n",
       "      <td>duration</td>\n",
       "      <td>231.432178</td>\n",
       "    </tr>\n",
       "    <tr>\n",
       "      <th>17</th>\n",
       "      <td>bob</td>\n",
       "      <td>EncryptMultiply</td>\n",
       "      <td>duration</td>\n",
       "      <td>234.237413</td>\n",
       "    </tr>\n",
       "    <tr>\n",
       "      <th>18</th>\n",
       "      <td>bob</td>\n",
       "      <td>EncryptMultiply</td>\n",
       "      <td>duration</td>\n",
       "      <td>231.690866</td>\n",
       "    </tr>\n",
       "    <tr>\n",
       "      <th>19</th>\n",
       "      <td>bob</td>\n",
       "      <td>EncryptMultiply</td>\n",
       "      <td>duration</td>\n",
       "      <td>234.091778</td>\n",
       "    </tr>\n",
       "    <tr>\n",
       "      <th>20</th>\n",
       "      <td>bob</td>\n",
       "      <td>EncryptMultiply</td>\n",
       "      <td>duration</td>\n",
       "      <td>232.251294</td>\n",
       "    </tr>\n",
       "  </tbody>\n",
       "</table>\n",
       "</div>"
      ],
      "text/plain": [
       "   WorkerID        EventType EventState        Time\n",
       "0       bob  EncryptMultiply   duration  233.724081\n",
       "1       bob  EncryptMultiply   duration  233.994982\n",
       "2       bob  EncryptMultiply   duration  216.604090\n",
       "3       bob  EncryptMultiply   duration  233.318352\n",
       "4       bob  EncryptMultiply   duration  232.208992\n",
       "5       bob  EncryptMultiply   duration  233.171974\n",
       "6       bob  EncryptMultiply   duration  233.528935\n",
       "7       bob  EncryptMultiply   duration  233.360581\n",
       "8       bob  EncryptMultiply   duration  232.415484\n",
       "9       bob  EncryptMultiply   duration  234.987400\n",
       "10      bob  EncryptMultiply   duration  234.459281\n",
       "11      bob  EncryptMultiply   duration  234.079323\n",
       "12      bob  EncryptMultiply   duration  231.520055\n",
       "13      bob  EncryptMultiply   duration  231.251611\n",
       "14      bob  EncryptMultiply   duration  215.711213\n",
       "15      bob  EncryptMultiply   duration  233.025335\n",
       "16      bob  EncryptMultiply   duration  231.432178\n",
       "17      bob  EncryptMultiply   duration  234.237413\n",
       "18      bob  EncryptMultiply   duration  231.690866\n",
       "19      bob  EncryptMultiply   duration  234.091778\n",
       "20      bob  EncryptMultiply   duration  232.251294"
      ]
     },
     "execution_count": 58,
     "metadata": {},
     "output_type": "execute_result"
    }
   ],
   "source": [
    "hpc2_em_df"
   ]
  },
  {
   "cell_type": "markdown",
   "metadata": {},
   "source": [
    "## EncryptParameter Duration"
   ]
  },
  {
   "cell_type": "code",
   "execution_count": 59,
   "metadata": {},
   "outputs": [],
   "source": [
    "def get_encrypt_parameter_duration(worker_id, worker_dfs):\n",
    "    worker_df = worker_dfs[worker_id]\n",
    "    worker_ep_df = worker_df[worker_df[\"EventType\"].str.contains('EncryptParameter', regex=False)]\n",
    "    worker_ep_df = worker_ep_df.reset_index()\n",
    "    \n",
    "    del worker_ep_df[\"index\"]\n",
    "    del worker_ep_df[\"ID\"]\n",
    "    \n",
    "    return worker_ep_df\n",
    "    "
   ]
  },
  {
   "cell_type": "code",
   "execution_count": 60,
   "metadata": {},
   "outputs": [],
   "source": [
    "# hpc1_ep_df = get_encrypt_parameter_duration(\"alice\", worker_dfs)\n",
    "hpc1_ep_df = get_worker_duration(\"alice\", worker_dfs, \"EncryptParameter\")\n",
    "hpc2_ep_df = get_worker_duration(\"bob\", worker_dfs, \"EncryptParameter\")\n",
    "hpc3_ep_df = get_worker_duration(\"charlie\", worker_dfs, \"EncryptParameter\")"
   ]
  },
  {
   "cell_type": "code",
   "execution_count": 61,
   "metadata": {},
   "outputs": [
    {
     "data": {
      "text/html": [
       "<div>\n",
       "<style scoped>\n",
       "    .dataframe tbody tr th:only-of-type {\n",
       "        vertical-align: middle;\n",
       "    }\n",
       "\n",
       "    .dataframe tbody tr th {\n",
       "        vertical-align: top;\n",
       "    }\n",
       "\n",
       "    .dataframe thead th {\n",
       "        text-align: right;\n",
       "    }\n",
       "</style>\n",
       "<table border=\"1\" class=\"dataframe\">\n",
       "  <thead>\n",
       "    <tr style=\"text-align: right;\">\n",
       "      <th></th>\n",
       "      <th>WorkerID</th>\n",
       "      <th>EventType</th>\n",
       "      <th>EventState</th>\n",
       "      <th>Time</th>\n",
       "    </tr>\n",
       "  </thead>\n",
       "  <tbody>\n",
       "    <tr>\n",
       "      <th>0</th>\n",
       "      <td>alice</td>\n",
       "      <td>EncryptParameter0</td>\n",
       "      <td>duration</td>\n",
       "      <td>0.009029</td>\n",
       "    </tr>\n",
       "    <tr>\n",
       "      <th>1</th>\n",
       "      <td>alice</td>\n",
       "      <td>EncryptParameter1</td>\n",
       "      <td>duration</td>\n",
       "      <td>0.005699</td>\n",
       "    </tr>\n",
       "    <tr>\n",
       "      <th>2</th>\n",
       "      <td>alice</td>\n",
       "      <td>EncryptParameter2</td>\n",
       "      <td>duration</td>\n",
       "      <td>0.476333</td>\n",
       "    </tr>\n",
       "    <tr>\n",
       "      <th>3</th>\n",
       "      <td>alice</td>\n",
       "      <td>EncryptParameter3</td>\n",
       "      <td>duration</td>\n",
       "      <td>0.004884</td>\n",
       "    </tr>\n",
       "    <tr>\n",
       "      <th>4</th>\n",
       "      <td>alice</td>\n",
       "      <td>EncryptParameter4</td>\n",
       "      <td>duration</td>\n",
       "      <td>130.180951</td>\n",
       "    </tr>\n",
       "    <tr>\n",
       "      <th>5</th>\n",
       "      <td>alice</td>\n",
       "      <td>EncryptParameter5</td>\n",
       "      <td>duration</td>\n",
       "      <td>0.169991</td>\n",
       "    </tr>\n",
       "    <tr>\n",
       "      <th>6</th>\n",
       "      <td>alice</td>\n",
       "      <td>EncryptParameter6</td>\n",
       "      <td>duration</td>\n",
       "      <td>80.360515</td>\n",
       "    </tr>\n",
       "    <tr>\n",
       "      <th>7</th>\n",
       "      <td>alice</td>\n",
       "      <td>EncryptParameter7</td>\n",
       "      <td>duration</td>\n",
       "      <td>0.019217</td>\n",
       "    </tr>\n",
       "  </tbody>\n",
       "</table>\n",
       "</div>"
      ],
      "text/plain": [
       "  WorkerID          EventType EventState        Time\n",
       "0    alice  EncryptParameter0   duration    0.009029\n",
       "1    alice  EncryptParameter1   duration    0.005699\n",
       "2    alice  EncryptParameter2   duration    0.476333\n",
       "3    alice  EncryptParameter3   duration    0.004884\n",
       "4    alice  EncryptParameter4   duration  130.180951\n",
       "5    alice  EncryptParameter5   duration    0.169991\n",
       "6    alice  EncryptParameter6   duration   80.360515\n",
       "7    alice  EncryptParameter7   duration    0.019217"
      ]
     },
     "execution_count": 61,
     "metadata": {},
     "output_type": "execute_result"
    }
   ],
   "source": [
    "hpc1_ep_df[0:8]"
   ]
  },
  {
   "cell_type": "code",
   "execution_count": 81,
   "metadata": {},
   "outputs": [
    {
     "name": "stdout",
     "output_type": "stream",
     "text": [
      "0: 0.00933792477562314\n",
      "1: 0.005080416089012509\n",
      "2: 0.4695088409242176\n",
      "3: 0.047009797323317754\n",
      "4: 130.38696922574724\n",
      "5: 0.17132852191016787\n",
      "6: 79.92306349391029\n",
      "7: 0.021012158620925175\n"
     ]
    }
   ],
   "source": [
    "mean_values = []\n",
    "for i in range(8):\n",
    "    mean_value = hpc1_ep_df[hpc1_ep_df[\"EventType\"] == \"EncryptParameter\"+str(i)][\"Time\"].mean()\n",
    "    mean_values.append(mean_value)\n",
    "    print(str(i)+\":\", mean_value)"
   ]
  },
  {
   "cell_type": "code",
   "execution_count": 82,
   "metadata": {},
   "outputs": [
    {
     "data": {
      "text/plain": [
       "211.0333103793008"
      ]
     },
     "execution_count": 82,
     "metadata": {},
     "output_type": "execute_result"
    }
   ],
   "source": [
    "sum(mean_values)"
   ]
  },
  {
   "cell_type": "code",
   "execution_count": 85,
   "metadata": {},
   "outputs": [
    {
     "name": "stdout",
     "output_type": "stream",
     "text": [
      "0: 7.9473661581675215\n",
      "1: 0.0047116393134707495\n",
      "2: 0.46585534867786227\n",
      "3: 0.005139362244378953\n",
      "4: 120.36462834903172\n",
      "5: 0.1791796116601853\n",
      "6: 90.33547802198501\n",
      "7: 0.015599489212036133\n"
     ]
    }
   ],
   "source": [
    "for i in range(8):\n",
    "    mean_value = hpc3_ep_df[hpc1_ep_df[\"EventType\"] == \"EncryptParameter\"+str(i)][\"Time\"].mean()\n",
    "    print(str(i)+\":\", mean_value)"
   ]
  },
  {
   "cell_type": "code",
   "execution_count": 84,
   "metadata": {},
   "outputs": [
    {
     "name": "stdout",
     "output_type": "stream",
     "text": [
      "0: 7.9473661581675215\n",
      "1: 0.0047116393134707495\n",
      "2: 0.46585534867786227\n",
      "3: 0.005139362244378953\n",
      "4: 120.36462834903172\n",
      "5: 0.1791796116601853\n",
      "6: 90.33547802198501\n",
      "7: 0.015599489212036133\n"
     ]
    }
   ],
   "source": [
    "for i in range(8):\n",
    "    mean_value = hpc3_ep_df[hpc1_ep_df[\"EventType\"] == \"EncryptParameter\"+str(i)][\"Time\"].mean()\n",
    "    print(str(i)+\":\", mean_value)"
   ]
  },
  {
   "cell_type": "code",
   "execution_count": 66,
   "metadata": {},
   "outputs": [
    {
     "data": {
      "text/plain": [
       "0      0.009029\n",
       "1      0.005699\n",
       "2      0.476333\n",
       "3      0.004884\n",
       "4    130.180951\n",
       "5      0.169991\n",
       "6     80.360515\n",
       "7      0.019217\n",
       "Name: Time, dtype: float64"
      ]
     },
     "execution_count": 66,
     "metadata": {},
     "output_type": "execute_result"
    }
   ],
   "source": [
    "hpc1_ep_df[\"Time\"][0:8]"
   ]
  },
  {
   "cell_type": "code",
   "execution_count": 70,
   "metadata": {},
   "outputs": [
    {
     "data": {
      "text/plain": [
       "0      8.251601\n",
       "1      0.004555\n",
       "2      0.472421\n",
       "3      0.005668\n",
       "4    142.546268\n",
       "5      0.168032\n",
       "6     81.985369\n",
       "7      0.007378\n",
       "Name: Time, dtype: float64"
      ]
     },
     "execution_count": 70,
     "metadata": {},
     "output_type": "execute_result"
    }
   ],
   "source": [
    "hpc2_ep_df[\"Time\"][0:8]"
   ]
  },
  {
   "cell_type": "code",
   "execution_count": 67,
   "metadata": {},
   "outputs": [
    {
     "data": {
      "text/plain": [
       "21.115078750110808"
      ]
     },
     "execution_count": 67,
     "metadata": {},
     "output_type": "execute_result"
    }
   ],
   "source": [
    "hpc1_ep_df[\"Time\"].mean()"
   ]
  },
  {
   "cell_type": "code",
   "execution_count": 68,
   "metadata": {},
   "outputs": [
    {
     "data": {
      "text/plain": [
       "23.066314332825797"
      ]
     },
     "execution_count": 68,
     "metadata": {},
     "output_type": "execute_result"
    }
   ],
   "source": [
    "hpc2_ep_df[\"Time\"].mean()"
   ]
  },
  {
   "cell_type": "code",
   "execution_count": 69,
   "metadata": {},
   "outputs": [
    {
     "data": {
      "text/plain": [
       "21.94343036129361"
      ]
     },
     "execution_count": 69,
     "metadata": {},
     "output_type": "execute_result"
    }
   ],
   "source": [
    "hpc3_ep_df[\"Time\"].mean()"
   ]
  },
  {
   "cell_type": "markdown",
   "metadata": {},
   "source": [
    "## MultiplyParameter Duration"
   ]
  },
  {
   "cell_type": "code",
   "execution_count": 70,
   "metadata": {},
   "outputs": [],
   "source": [
    "def get_multiply_parameter_duration(worker_id, worker_dfs):\n",
    "    worker_df = worker_dfs[worker_id]\n",
    "    worker_ep_df = worker_df[worker_df[\"EventType\"].str.contains('MultiplyParameter', regex=False)]\n",
    "    worker_ep_df = worker_ep_df.reset_index()\n",
    "    \n",
    "    del worker_ep_df[\"index\"]\n",
    "    del worker_ep_df[\"ID\"]\n",
    "    \n",
    "    return worker_ep_df"
   ]
  },
  {
   "cell_type": "code",
   "execution_count": 71,
   "metadata": {},
   "outputs": [],
   "source": [
    "# hpc1_mp_df = get_multiply_parameter_duration(\"alice\", worker_dfs)\n",
    "hpc1_mp_df = get_worker_duration(\"alice\", worker_dfs, \"MultiplyParameter\")\n",
    "hpc2_mp_df = get_worker_duration(\"bob\", worker_dfs, \"MultiplyParameter\")\n",
    "hpc3_mp_df = get_worker_duration(\"charlie\", worker_dfs, \"MultiplyParameter\")"
   ]
  },
  {
   "cell_type": "code",
   "execution_count": 72,
   "metadata": {},
   "outputs": [
    {
     "data": {
      "text/plain": [
       "3.198965549468994"
      ]
     },
     "execution_count": 72,
     "metadata": {},
     "output_type": "execute_result"
    }
   ],
   "source": [
    "hpc1_mp_df[:8][\"Time\"].sum()"
   ]
  },
  {
   "cell_type": "code",
   "execution_count": 73,
   "metadata": {},
   "outputs": [
    {
     "data": {
      "text/plain": [
       "0.4327079852422078"
      ]
     },
     "execution_count": 73,
     "metadata": {},
     "output_type": "execute_result"
    }
   ],
   "source": [
    "hpc1_mp_df[\"Time\"].mean()"
   ]
  },
  {
   "cell_type": "code",
   "execution_count": 74,
   "metadata": {},
   "outputs": [
    {
     "data": {
      "text/plain": [
       "0.4213984591620309"
      ]
     },
     "execution_count": 74,
     "metadata": {},
     "output_type": "execute_result"
    }
   ],
   "source": [
    "hpc2_mp_df[\"Time\"].mean()"
   ]
  },
  {
   "cell_type": "code",
   "execution_count": 75,
   "metadata": {},
   "outputs": [
    {
     "data": {
      "text/plain": [
       "0.9123388494764055"
      ]
     },
     "execution_count": 75,
     "metadata": {},
     "output_type": "execute_result"
    }
   ],
   "source": [
    "hpc3_mp_df[\"Time\"].mean()"
   ]
  },
  {
   "cell_type": "markdown",
   "metadata": {},
   "source": [
    "## RetrieveTime duration"
   ]
  },
  {
   "cell_type": "code",
   "execution_count": 76,
   "metadata": {},
   "outputs": [],
   "source": [
    "def get_coord_retrieve_duration(coord_df, worker_id):\n",
    "    coord_event_df = coord_df[coord_df[\"EventType\"].str.contains(\"RetrieveTime\", regex=False)]\n",
    "    coord_event_df = coord_event_df[coord_event_df[\"ID\"] == worker_id]\n",
    "    coord_event_df = coord_event_df.reset_index()\n",
    "    \n",
    "    del coord_event_df['index']\n",
    "    \n",
    "    return coord_event_df"
   ]
  },
  {
   "cell_type": "code",
   "execution_count": 77,
   "metadata": {},
   "outputs": [],
   "source": [
    "hpc1_ret_df = get_coord_retrieve_duration(coord_df, \"alice\")"
   ]
  },
  {
   "cell_type": "code",
   "execution_count": 78,
   "metadata": {},
   "outputs": [],
   "source": [
    "hpc2_ret_df = get_coord_retrieve_duration(coord_df, \"bob\")"
   ]
  },
  {
   "cell_type": "code",
   "execution_count": 79,
   "metadata": {},
   "outputs": [],
   "source": [
    "hpc3_ret_df = get_coord_retrieve_duration(coord_df, \"charlie\")"
   ]
  },
  {
   "cell_type": "code",
   "execution_count": 80,
   "metadata": {},
   "outputs": [
    {
     "data": {
      "text/plain": [
       "0.019368553161621095"
      ]
     },
     "execution_count": 80,
     "metadata": {},
     "output_type": "execute_result"
    }
   ],
   "source": [
    "hpc1_ret_df[\"Time\"][1:].mean()"
   ]
  },
  {
   "cell_type": "code",
   "execution_count": 81,
   "metadata": {},
   "outputs": [
    {
     "data": {
      "text/plain": [
       "0.018344151973724365"
      ]
     },
     "execution_count": 81,
     "metadata": {},
     "output_type": "execute_result"
    }
   ],
   "source": [
    "hpc2_ret_df[\"Time\"][1:].mean()"
   ]
  },
  {
   "cell_type": "code",
   "execution_count": 82,
   "metadata": {},
   "outputs": [
    {
     "data": {
      "text/plain": [
       "0.018260812759399413"
      ]
     },
     "execution_count": 82,
     "metadata": {},
     "output_type": "execute_result"
    }
   ],
   "source": [
    "hpc3_ret_df[\"Time\"][1:].mean()"
   ]
  },
  {
   "cell_type": "markdown",
   "metadata": {},
   "source": [
    "## ShareSend Duration"
   ]
  },
  {
   "cell_type": "code",
   "execution_count": 83,
   "metadata": {},
   "outputs": [],
   "source": [
    "def calculate_share_send_duration(worker_id, worker_dfs, nr_parameters):\n",
    "    worker_df = worker_dfs[worker_id]\n",
    "    worker_send_share_df = worker_df[worker_df[\"EventType\"].str.contains('SendShare', regex=False)]\n",
    "    \n",
    "    worker_send_share_start_df = worker_send_share_df[worker_send_share_df[\"EventState\"] == 'start']\n",
    "    worker_send_share_start_df = worker_send_share_start_df.reset_index()\n",
    "    worker_send_share_start_df = worker_send_share_start_df[[\"WorkerID\", \"EventType\", \"ID\", \"Time\"]]\n",
    "    worker_send_share_start_df.columns = [\"WorkerID\", \"EventType\", \"ID\", \"StartTime\"]\n",
    "    \n",
    "    worker_send_share_end_df = worker_send_share_df[worker_send_share_df[\"EventState\"] == 'end']\n",
    "    worker_send_share_end_df = worker_send_share_end_df.reset_index()\n",
    "    \n",
    "    send_share_df_cat = pd.concat([worker_send_share_start_df, worker_send_share_end_df[\"Time\"]], axis=1)\n",
    "    send_share_df_cat.columns = [\"WorkerID\", \"EventType\", \"ID\", \"StartTime\", \"EndTime\"]\n",
    "    send_share_df_cat[\"Duration\"] = send_share_df_cat.apply(lambda x: x[\"EndTime\"] - x[\"StartTime\"], axis=1)\n",
    "    \n",
    "    parameter_index = []\n",
    "    nr_worker = len(worker_dfs)\n",
    "    p_index = -1\n",
    "\n",
    "    for i in range(len(send_share_df_cat)):\n",
    "        tmp_index = (i%nr_worker)\n",
    "        if tmp_index == 0:\n",
    "            p_index += 1\n",
    "            p_index = p_index % nr_parameters\n",
    "        parameter_index.append(p_index)\n",
    "        \n",
    "    send_share_df_cat.insert(2, \"p_idx\", parameter_index)\n",
    "    obj_id_list = send_share_df_cat.apply(lambda x: x[\"EventType\"].split(\"_\")[1], axis=1)\n",
    "    send_share_df_cat.insert(2, \"obj_id\", obj_id_list)\n",
    "    \n",
    "    del send_share_df_cat[\"EventType\"]\n",
    "    send_share_df_cat.insert(1, \"EventType\", \"SendShare\")\n",
    "    \n",
    "    return send_share_df_cat\n"
   ]
  },
  {
   "cell_type": "code",
   "execution_count": 84,
   "metadata": {},
   "outputs": [],
   "source": [
    "alice_send_share_df_cat = calculate_share_send_duration(\"alice\", worker_dfs, 8)\n",
    "bob_send_share_df_cat = calculate_share_send_duration(\"bob\", worker_dfs, 8)\n",
    "charlie_send_share_df_cat = calculate_share_send_duration(\"charlie\", worker_dfs, 8)"
   ]
  },
  {
   "cell_type": "code",
   "execution_count": 85,
   "metadata": {},
   "outputs": [
    {
     "data": {
      "text/html": [
       "<div>\n",
       "<style scoped>\n",
       "    .dataframe tbody tr th:only-of-type {\n",
       "        vertical-align: middle;\n",
       "    }\n",
       "\n",
       "    .dataframe tbody tr th {\n",
       "        vertical-align: top;\n",
       "    }\n",
       "\n",
       "    .dataframe thead th {\n",
       "        text-align: right;\n",
       "    }\n",
       "</style>\n",
       "<table border=\"1\" class=\"dataframe\">\n",
       "  <thead>\n",
       "    <tr style=\"text-align: right;\">\n",
       "      <th></th>\n",
       "      <th>WorkerID</th>\n",
       "      <th>EventType</th>\n",
       "      <th>obj_id</th>\n",
       "      <th>p_idx</th>\n",
       "      <th>ID</th>\n",
       "      <th>StartTime</th>\n",
       "      <th>EndTime</th>\n",
       "      <th>Duration</th>\n",
       "    </tr>\n",
       "  </thead>\n",
       "  <tbody>\n",
       "    <tr>\n",
       "      <th>0</th>\n",
       "      <td>alice</td>\n",
       "      <td>SendShare</td>\n",
       "      <td>7611270575</td>\n",
       "      <td>0</td>\n",
       "      <td>alice</td>\n",
       "      <td>1.603614e+09</td>\n",
       "      <td>1.603614e+09</td>\n",
       "      <td>0.000829</td>\n",
       "    </tr>\n",
       "    <tr>\n",
       "      <th>1</th>\n",
       "      <td>alice</td>\n",
       "      <td>SendShare</td>\n",
       "      <td>61904364723</td>\n",
       "      <td>0</td>\n",
       "      <td>bob</td>\n",
       "      <td>1.603614e+09</td>\n",
       "      <td>1.603614e+09</td>\n",
       "      <td>0.003386</td>\n",
       "    </tr>\n",
       "    <tr>\n",
       "      <th>2</th>\n",
       "      <td>alice</td>\n",
       "      <td>SendShare</td>\n",
       "      <td>86059624810</td>\n",
       "      <td>0</td>\n",
       "      <td>charlie</td>\n",
       "      <td>1.603614e+09</td>\n",
       "      <td>1.603614e+09</td>\n",
       "      <td>0.003282</td>\n",
       "    </tr>\n",
       "    <tr>\n",
       "      <th>3</th>\n",
       "      <td>alice</td>\n",
       "      <td>SendShare</td>\n",
       "      <td>17410712336</td>\n",
       "      <td>1</td>\n",
       "      <td>alice</td>\n",
       "      <td>1.603614e+09</td>\n",
       "      <td>1.603614e+09</td>\n",
       "      <td>0.000545</td>\n",
       "    </tr>\n",
       "    <tr>\n",
       "      <th>4</th>\n",
       "      <td>alice</td>\n",
       "      <td>SendShare</td>\n",
       "      <td>33161346880</td>\n",
       "      <td>1</td>\n",
       "      <td>bob</td>\n",
       "      <td>1.603614e+09</td>\n",
       "      <td>1.603614e+09</td>\n",
       "      <td>0.001775</td>\n",
       "    </tr>\n",
       "    <tr>\n",
       "      <th>...</th>\n",
       "      <td>...</td>\n",
       "      <td>...</td>\n",
       "      <td>...</td>\n",
       "      <td>...</td>\n",
       "      <td>...</td>\n",
       "      <td>...</td>\n",
       "      <td>...</td>\n",
       "      <td>...</td>\n",
       "    </tr>\n",
       "    <tr>\n",
       "      <th>625</th>\n",
       "      <td>alice</td>\n",
       "      <td>SendShare</td>\n",
       "      <td>30995103264</td>\n",
       "      <td>0</td>\n",
       "      <td>bob</td>\n",
       "      <td>1.603616e+09</td>\n",
       "      <td>1.603616e+09</td>\n",
       "      <td>0.012489</td>\n",
       "    </tr>\n",
       "    <tr>\n",
       "      <th>626</th>\n",
       "      <td>alice</td>\n",
       "      <td>SendShare</td>\n",
       "      <td>48833848601</td>\n",
       "      <td>0</td>\n",
       "      <td>charlie</td>\n",
       "      <td>1.603616e+09</td>\n",
       "      <td>1.603616e+09</td>\n",
       "      <td>0.022400</td>\n",
       "    </tr>\n",
       "    <tr>\n",
       "      <th>627</th>\n",
       "      <td>alice</td>\n",
       "      <td>SendShare</td>\n",
       "      <td>88464557323</td>\n",
       "      <td>1</td>\n",
       "      <td>alice</td>\n",
       "      <td>1.603616e+09</td>\n",
       "      <td>1.603616e+09</td>\n",
       "      <td>0.000906</td>\n",
       "    </tr>\n",
       "    <tr>\n",
       "      <th>628</th>\n",
       "      <td>alice</td>\n",
       "      <td>SendShare</td>\n",
       "      <td>44445403221</td>\n",
       "      <td>1</td>\n",
       "      <td>bob</td>\n",
       "      <td>1.603616e+09</td>\n",
       "      <td>1.603616e+09</td>\n",
       "      <td>0.001732</td>\n",
       "    </tr>\n",
       "    <tr>\n",
       "      <th>629</th>\n",
       "      <td>alice</td>\n",
       "      <td>SendShare</td>\n",
       "      <td>86313945076</td>\n",
       "      <td>1</td>\n",
       "      <td>charlie</td>\n",
       "      <td>1.603616e+09</td>\n",
       "      <td>1.603616e+09</td>\n",
       "      <td>0.005360</td>\n",
       "    </tr>\n",
       "  </tbody>\n",
       "</table>\n",
       "<p>630 rows × 8 columns</p>\n",
       "</div>"
      ],
      "text/plain": [
       "    WorkerID  EventType       obj_id  p_idx       ID     StartTime  \\\n",
       "0      alice  SendShare   7611270575      0    alice  1.603614e+09   \n",
       "1      alice  SendShare  61904364723      0      bob  1.603614e+09   \n",
       "2      alice  SendShare  86059624810      0  charlie  1.603614e+09   \n",
       "3      alice  SendShare  17410712336      1    alice  1.603614e+09   \n",
       "4      alice  SendShare  33161346880      1      bob  1.603614e+09   \n",
       "..       ...        ...          ...    ...      ...           ...   \n",
       "625    alice  SendShare  30995103264      0      bob  1.603616e+09   \n",
       "626    alice  SendShare  48833848601      0  charlie  1.603616e+09   \n",
       "627    alice  SendShare  88464557323      1    alice  1.603616e+09   \n",
       "628    alice  SendShare  44445403221      1      bob  1.603616e+09   \n",
       "629    alice  SendShare  86313945076      1  charlie  1.603616e+09   \n",
       "\n",
       "          EndTime  Duration  \n",
       "0    1.603614e+09  0.000829  \n",
       "1    1.603614e+09  0.003386  \n",
       "2    1.603614e+09  0.003282  \n",
       "3    1.603614e+09  0.000545  \n",
       "4    1.603614e+09  0.001775  \n",
       "..            ...       ...  \n",
       "625  1.603616e+09  0.012489  \n",
       "626  1.603616e+09  0.022400  \n",
       "627  1.603616e+09  0.000906  \n",
       "628  1.603616e+09  0.001732  \n",
       "629  1.603616e+09  0.005360  \n",
       "\n",
       "[630 rows x 8 columns]"
      ]
     },
     "execution_count": 85,
     "metadata": {},
     "output_type": "execute_result"
    }
   ],
   "source": [
    "alice_send_share_df_cat"
   ]
  },
  {
   "cell_type": "code",
   "execution_count": 86,
   "metadata": {},
   "outputs": [
    {
     "data": {
      "text/html": [
       "<div>\n",
       "<style scoped>\n",
       "    .dataframe tbody tr th:only-of-type {\n",
       "        vertical-align: middle;\n",
       "    }\n",
       "\n",
       "    .dataframe tbody tr th {\n",
       "        vertical-align: top;\n",
       "    }\n",
       "\n",
       "    .dataframe thead th {\n",
       "        text-align: right;\n",
       "    }\n",
       "</style>\n",
       "<table border=\"1\" class=\"dataframe\">\n",
       "  <thead>\n",
       "    <tr style=\"text-align: right;\">\n",
       "      <th></th>\n",
       "      <th>WorkerID</th>\n",
       "      <th>EventType</th>\n",
       "      <th>obj_id</th>\n",
       "      <th>p_idx</th>\n",
       "      <th>ID</th>\n",
       "      <th>StartTime</th>\n",
       "      <th>EndTime</th>\n",
       "      <th>Duration</th>\n",
       "    </tr>\n",
       "  </thead>\n",
       "  <tbody>\n",
       "    <tr>\n",
       "      <th>0</th>\n",
       "      <td>bob</td>\n",
       "      <td>SendShare</td>\n",
       "      <td>36203251608</td>\n",
       "      <td>0</td>\n",
       "      <td>alice</td>\n",
       "      <td>1.603614e+09</td>\n",
       "      <td>1.603614e+09</td>\n",
       "      <td>8.448553</td>\n",
       "    </tr>\n",
       "    <tr>\n",
       "      <th>1</th>\n",
       "      <td>bob</td>\n",
       "      <td>SendShare</td>\n",
       "      <td>55651927346</td>\n",
       "      <td>0</td>\n",
       "      <td>bob</td>\n",
       "      <td>1.603614e+09</td>\n",
       "      <td>1.603614e+09</td>\n",
       "      <td>0.001036</td>\n",
       "    </tr>\n",
       "    <tr>\n",
       "      <th>2</th>\n",
       "      <td>bob</td>\n",
       "      <td>SendShare</td>\n",
       "      <td>63878039959</td>\n",
       "      <td>0</td>\n",
       "      <td>charlie</td>\n",
       "      <td>1.603614e+09</td>\n",
       "      <td>1.603614e+09</td>\n",
       "      <td>0.004267</td>\n",
       "    </tr>\n",
       "    <tr>\n",
       "      <th>3</th>\n",
       "      <td>bob</td>\n",
       "      <td>SendShare</td>\n",
       "      <td>74822626216</td>\n",
       "      <td>1</td>\n",
       "      <td>alice</td>\n",
       "      <td>1.603614e+09</td>\n",
       "      <td>1.603614e+09</td>\n",
       "      <td>0.001704</td>\n",
       "    </tr>\n",
       "    <tr>\n",
       "      <th>4</th>\n",
       "      <td>bob</td>\n",
       "      <td>SendShare</td>\n",
       "      <td>42676332037</td>\n",
       "      <td>1</td>\n",
       "      <td>bob</td>\n",
       "      <td>1.603614e+09</td>\n",
       "      <td>1.603614e+09</td>\n",
       "      <td>0.000607</td>\n",
       "    </tr>\n",
       "    <tr>\n",
       "      <th>...</th>\n",
       "      <td>...</td>\n",
       "      <td>...</td>\n",
       "      <td>...</td>\n",
       "      <td>...</td>\n",
       "      <td>...</td>\n",
       "      <td>...</td>\n",
       "      <td>...</td>\n",
       "      <td>...</td>\n",
       "    </tr>\n",
       "    <tr>\n",
       "      <th>625</th>\n",
       "      <td>bob</td>\n",
       "      <td>SendShare</td>\n",
       "      <td>11686709192</td>\n",
       "      <td>0</td>\n",
       "      <td>bob</td>\n",
       "      <td>1.603616e+09</td>\n",
       "      <td>1.603616e+09</td>\n",
       "      <td>0.001081</td>\n",
       "    </tr>\n",
       "    <tr>\n",
       "      <th>626</th>\n",
       "      <td>bob</td>\n",
       "      <td>SendShare</td>\n",
       "      <td>66087521754</td>\n",
       "      <td>0</td>\n",
       "      <td>charlie</td>\n",
       "      <td>1.603616e+09</td>\n",
       "      <td>1.603616e+09</td>\n",
       "      <td>0.014263</td>\n",
       "    </tr>\n",
       "    <tr>\n",
       "      <th>627</th>\n",
       "      <td>bob</td>\n",
       "      <td>SendShare</td>\n",
       "      <td>82060761398</td>\n",
       "      <td>1</td>\n",
       "      <td>alice</td>\n",
       "      <td>1.603616e+09</td>\n",
       "      <td>1.603616e+09</td>\n",
       "      <td>0.002541</td>\n",
       "    </tr>\n",
       "    <tr>\n",
       "      <th>628</th>\n",
       "      <td>bob</td>\n",
       "      <td>SendShare</td>\n",
       "      <td>6133340990</td>\n",
       "      <td>1</td>\n",
       "      <td>bob</td>\n",
       "      <td>1.603616e+09</td>\n",
       "      <td>1.603616e+09</td>\n",
       "      <td>0.000944</td>\n",
       "    </tr>\n",
       "    <tr>\n",
       "      <th>629</th>\n",
       "      <td>bob</td>\n",
       "      <td>SendShare</td>\n",
       "      <td>3858586108</td>\n",
       "      <td>1</td>\n",
       "      <td>charlie</td>\n",
       "      <td>1.603616e+09</td>\n",
       "      <td>1.603616e+09</td>\n",
       "      <td>0.003409</td>\n",
       "    </tr>\n",
       "  </tbody>\n",
       "</table>\n",
       "<p>630 rows × 8 columns</p>\n",
       "</div>"
      ],
      "text/plain": [
       "    WorkerID  EventType       obj_id  p_idx       ID     StartTime  \\\n",
       "0        bob  SendShare  36203251608      0    alice  1.603614e+09   \n",
       "1        bob  SendShare  55651927346      0      bob  1.603614e+09   \n",
       "2        bob  SendShare  63878039959      0  charlie  1.603614e+09   \n",
       "3        bob  SendShare  74822626216      1    alice  1.603614e+09   \n",
       "4        bob  SendShare  42676332037      1      bob  1.603614e+09   \n",
       "..       ...        ...          ...    ...      ...           ...   \n",
       "625      bob  SendShare  11686709192      0      bob  1.603616e+09   \n",
       "626      bob  SendShare  66087521754      0  charlie  1.603616e+09   \n",
       "627      bob  SendShare  82060761398      1    alice  1.603616e+09   \n",
       "628      bob  SendShare   6133340990      1      bob  1.603616e+09   \n",
       "629      bob  SendShare   3858586108      1  charlie  1.603616e+09   \n",
       "\n",
       "          EndTime  Duration  \n",
       "0    1.603614e+09  8.448553  \n",
       "1    1.603614e+09  0.001036  \n",
       "2    1.603614e+09  0.004267  \n",
       "3    1.603614e+09  0.001704  \n",
       "4    1.603614e+09  0.000607  \n",
       "..            ...       ...  \n",
       "625  1.603616e+09  0.001081  \n",
       "626  1.603616e+09  0.014263  \n",
       "627  1.603616e+09  0.002541  \n",
       "628  1.603616e+09  0.000944  \n",
       "629  1.603616e+09  0.003409  \n",
       "\n",
       "[630 rows x 8 columns]"
      ]
     },
     "execution_count": 86,
     "metadata": {},
     "output_type": "execute_result"
    }
   ],
   "source": [
    "bob_send_share_df_cat"
   ]
  },
  {
   "cell_type": "code",
   "execution_count": 87,
   "metadata": {},
   "outputs": [
    {
     "data": {
      "text/html": [
       "<div>\n",
       "<style scoped>\n",
       "    .dataframe tbody tr th:only-of-type {\n",
       "        vertical-align: middle;\n",
       "    }\n",
       "\n",
       "    .dataframe tbody tr th {\n",
       "        vertical-align: top;\n",
       "    }\n",
       "\n",
       "    .dataframe thead th {\n",
       "        text-align: right;\n",
       "    }\n",
       "</style>\n",
       "<table border=\"1\" class=\"dataframe\">\n",
       "  <thead>\n",
       "    <tr style=\"text-align: right;\">\n",
       "      <th></th>\n",
       "      <th>WorkerID</th>\n",
       "      <th>EventType</th>\n",
       "      <th>obj_id</th>\n",
       "      <th>p_idx</th>\n",
       "      <th>ID</th>\n",
       "      <th>StartTime</th>\n",
       "      <th>EndTime</th>\n",
       "      <th>Duration</th>\n",
       "    </tr>\n",
       "  </thead>\n",
       "  <tbody>\n",
       "    <tr>\n",
       "      <th>0</th>\n",
       "      <td>charlie</td>\n",
       "      <td>SendShare</td>\n",
       "      <td>84232349682</td>\n",
       "      <td>0</td>\n",
       "      <td>alice</td>\n",
       "      <td>1.603614e+09</td>\n",
       "      <td>1.603614e+09</td>\n",
       "      <td>7.354068</td>\n",
       "    </tr>\n",
       "    <tr>\n",
       "      <th>1</th>\n",
       "      <td>charlie</td>\n",
       "      <td>SendShare</td>\n",
       "      <td>8936010956</td>\n",
       "      <td>0</td>\n",
       "      <td>bob</td>\n",
       "      <td>1.603614e+09</td>\n",
       "      <td>1.603614e+09</td>\n",
       "      <td>0.006361</td>\n",
       "    </tr>\n",
       "    <tr>\n",
       "      <th>2</th>\n",
       "      <td>charlie</td>\n",
       "      <td>SendShare</td>\n",
       "      <td>46379652235</td>\n",
       "      <td>0</td>\n",
       "      <td>charlie</td>\n",
       "      <td>1.603614e+09</td>\n",
       "      <td>1.603614e+09</td>\n",
       "      <td>0.000968</td>\n",
       "    </tr>\n",
       "    <tr>\n",
       "      <th>3</th>\n",
       "      <td>charlie</td>\n",
       "      <td>SendShare</td>\n",
       "      <td>28758671673</td>\n",
       "      <td>1</td>\n",
       "      <td>alice</td>\n",
       "      <td>1.603614e+09</td>\n",
       "      <td>1.603614e+09</td>\n",
       "      <td>0.002265</td>\n",
       "    </tr>\n",
       "    <tr>\n",
       "      <th>4</th>\n",
       "      <td>charlie</td>\n",
       "      <td>SendShare</td>\n",
       "      <td>58929676202</td>\n",
       "      <td>1</td>\n",
       "      <td>bob</td>\n",
       "      <td>1.603614e+09</td>\n",
       "      <td>1.603614e+09</td>\n",
       "      <td>0.001569</td>\n",
       "    </tr>\n",
       "    <tr>\n",
       "      <th>...</th>\n",
       "      <td>...</td>\n",
       "      <td>...</td>\n",
       "      <td>...</td>\n",
       "      <td>...</td>\n",
       "      <td>...</td>\n",
       "      <td>...</td>\n",
       "      <td>...</td>\n",
       "      <td>...</td>\n",
       "    </tr>\n",
       "    <tr>\n",
       "      <th>625</th>\n",
       "      <td>charlie</td>\n",
       "      <td>SendShare</td>\n",
       "      <td>12398153</td>\n",
       "      <td>0</td>\n",
       "      <td>bob</td>\n",
       "      <td>1.603616e+09</td>\n",
       "      <td>1.603616e+09</td>\n",
       "      <td>0.015157</td>\n",
       "    </tr>\n",
       "    <tr>\n",
       "      <th>626</th>\n",
       "      <td>charlie</td>\n",
       "      <td>SendShare</td>\n",
       "      <td>51605127601</td>\n",
       "      <td>0</td>\n",
       "      <td>charlie</td>\n",
       "      <td>1.603616e+09</td>\n",
       "      <td>1.603616e+09</td>\n",
       "      <td>0.000778</td>\n",
       "    </tr>\n",
       "    <tr>\n",
       "      <th>627</th>\n",
       "      <td>charlie</td>\n",
       "      <td>SendShare</td>\n",
       "      <td>22153551532</td>\n",
       "      <td>1</td>\n",
       "      <td>alice</td>\n",
       "      <td>1.603616e+09</td>\n",
       "      <td>1.603616e+09</td>\n",
       "      <td>0.001763</td>\n",
       "    </tr>\n",
       "    <tr>\n",
       "      <th>628</th>\n",
       "      <td>charlie</td>\n",
       "      <td>SendShare</td>\n",
       "      <td>88084886423</td>\n",
       "      <td>1</td>\n",
       "      <td>bob</td>\n",
       "      <td>1.603616e+09</td>\n",
       "      <td>1.603616e+09</td>\n",
       "      <td>0.001354</td>\n",
       "    </tr>\n",
       "    <tr>\n",
       "      <th>629</th>\n",
       "      <td>charlie</td>\n",
       "      <td>SendShare</td>\n",
       "      <td>40413269687</td>\n",
       "      <td>1</td>\n",
       "      <td>charlie</td>\n",
       "      <td>1.603616e+09</td>\n",
       "      <td>1.603616e+09</td>\n",
       "      <td>0.001079</td>\n",
       "    </tr>\n",
       "  </tbody>\n",
       "</table>\n",
       "<p>630 rows × 8 columns</p>\n",
       "</div>"
      ],
      "text/plain": [
       "    WorkerID  EventType       obj_id  p_idx       ID     StartTime  \\\n",
       "0    charlie  SendShare  84232349682      0    alice  1.603614e+09   \n",
       "1    charlie  SendShare   8936010956      0      bob  1.603614e+09   \n",
       "2    charlie  SendShare  46379652235      0  charlie  1.603614e+09   \n",
       "3    charlie  SendShare  28758671673      1    alice  1.603614e+09   \n",
       "4    charlie  SendShare  58929676202      1      bob  1.603614e+09   \n",
       "..       ...        ...          ...    ...      ...           ...   \n",
       "625  charlie  SendShare     12398153      0      bob  1.603616e+09   \n",
       "626  charlie  SendShare  51605127601      0  charlie  1.603616e+09   \n",
       "627  charlie  SendShare  22153551532      1    alice  1.603616e+09   \n",
       "628  charlie  SendShare  88084886423      1      bob  1.603616e+09   \n",
       "629  charlie  SendShare  40413269687      1  charlie  1.603616e+09   \n",
       "\n",
       "          EndTime  Duration  \n",
       "0    1.603614e+09  7.354068  \n",
       "1    1.603614e+09  0.006361  \n",
       "2    1.603614e+09  0.000968  \n",
       "3    1.603614e+09  0.002265  \n",
       "4    1.603614e+09  0.001569  \n",
       "..            ...       ...  \n",
       "625  1.603616e+09  0.015157  \n",
       "626  1.603616e+09  0.000778  \n",
       "627  1.603616e+09  0.001763  \n",
       "628  1.603616e+09  0.001354  \n",
       "629  1.603616e+09  0.001079  \n",
       "\n",
       "[630 rows x 8 columns]"
      ]
     },
     "execution_count": 87,
     "metadata": {},
     "output_type": "execute_result"
    }
   ],
   "source": [
    "charlie_send_share_df_cat"
   ]
  },
  {
   "cell_type": "markdown",
   "metadata": {},
   "source": [
    "## ShareSend Send Time"
   ]
  },
  {
   "cell_type": "code",
   "execution_count": 88,
   "metadata": {},
   "outputs": [],
   "source": [
    "def calculate_share_send_time(sender_id, receiver_id, worker_dfs, nr_parameter):\n",
    "    sender_df = worker_dfs[sender_id]\n",
    "    receiver_df = worker_dfs[receiver_id]\n",
    "    \n",
    "    sender_send_share_df = sender_df[sender_df[\"EventType\"].str.contains('SendShare', regex=False)]\n",
    "    receiver_get_share_df = receiver_df[receiver_df[\"EventType\"].str.contains('GetShare', regex=False)]\n",
    "    \n",
    "    send_share_start_df = sender_send_share_df[(sender_send_share_df[\"ID\"] == receiver_id) & (sender_send_share_df[\"EventState\"] == 'start')]\n",
    "    get_share_df = receiver_get_share_df[receiver_get_share_df[\"ID\"] == sender_id]\n",
    "    send_share_start_df = send_share_start_df.reset_index()\n",
    "    get_share_df = get_share_df.reset_index()\n",
    "    \n",
    "    del send_share_start_df['index']\n",
    "    del send_share_start_df['EventState']\n",
    "    \n",
    "    send_time_df = pd.concat([send_share_start_df, get_share_df[\"Time\"]], axis=1)\n",
    "    send_time_df.columns = [\"WorkerID\", \"EventType\", \"ID\", \"StartTime\", \"RecvTime\"]\n",
    "    send_time_df[\"SendTime\"] = send_time_df.apply(lambda x: x[\"RecvTime\"] - x[\"StartTime\"], axis=1)\n",
    "    \n",
    "    nr_parameter = 8\n",
    "    parameter_index = []\n",
    "\n",
    "    for i in range(len(send_time_df)):\n",
    "        tmp_index = (i%nr_parameter)\n",
    "        parameter_index.append(tmp_index)\n",
    "        \n",
    "    send_time_df.insert(2, \"p_idx\", parameter_index)\n",
    "    \n",
    "    obj_id_list = send_time_df.apply(lambda x: x[\"EventType\"].split(\"_\")[1], axis=1)\n",
    "    send_time_df.insert(2, \"obj_id\", obj_id_list)\n",
    "    \n",
    "    del send_time_df[\"EventType\"]\n",
    "    send_time_df.insert(1, \"EventType\", \"SendShare\")\n",
    "    \n",
    "    return send_time_df"
   ]
  },
  {
   "cell_type": "code",
   "execution_count": 89,
   "metadata": {},
   "outputs": [],
   "source": [
    "send_time_df = calculate_share_send_time(\"alice\", \"bob\", worker_dfs, 8)"
   ]
  },
  {
   "cell_type": "code",
   "execution_count": 90,
   "metadata": {},
   "outputs": [
    {
     "data": {
      "text/html": [
       "<div>\n",
       "<style scoped>\n",
       "    .dataframe tbody tr th:only-of-type {\n",
       "        vertical-align: middle;\n",
       "    }\n",
       "\n",
       "    .dataframe tbody tr th {\n",
       "        vertical-align: top;\n",
       "    }\n",
       "\n",
       "    .dataframe thead th {\n",
       "        text-align: right;\n",
       "    }\n",
       "</style>\n",
       "<table border=\"1\" class=\"dataframe\">\n",
       "  <thead>\n",
       "    <tr style=\"text-align: right;\">\n",
       "      <th></th>\n",
       "      <th>WorkerID</th>\n",
       "      <th>EventType</th>\n",
       "      <th>obj_id</th>\n",
       "      <th>p_idx</th>\n",
       "      <th>ID</th>\n",
       "      <th>StartTime</th>\n",
       "      <th>RecvTime</th>\n",
       "      <th>SendTime</th>\n",
       "    </tr>\n",
       "  </thead>\n",
       "  <tbody>\n",
       "    <tr>\n",
       "      <th>0</th>\n",
       "      <td>alice</td>\n",
       "      <td>SendShare</td>\n",
       "      <td>61904364723</td>\n",
       "      <td>0</td>\n",
       "      <td>bob</td>\n",
       "      <td>1.603614e+09</td>\n",
       "      <td>1.603614e+09</td>\n",
       "      <td>-0.016973</td>\n",
       "    </tr>\n",
       "    <tr>\n",
       "      <th>1</th>\n",
       "      <td>alice</td>\n",
       "      <td>SendShare</td>\n",
       "      <td>33161346880</td>\n",
       "      <td>1</td>\n",
       "      <td>bob</td>\n",
       "      <td>1.603614e+09</td>\n",
       "      <td>1.603614e+09</td>\n",
       "      <td>-0.018621</td>\n",
       "    </tr>\n",
       "    <tr>\n",
       "      <th>2</th>\n",
       "      <td>alice</td>\n",
       "      <td>SendShare</td>\n",
       "      <td>7896894442</td>\n",
       "      <td>2</td>\n",
       "      <td>bob</td>\n",
       "      <td>1.603614e+09</td>\n",
       "      <td>1.603614e+09</td>\n",
       "      <td>0.026093</td>\n",
       "    </tr>\n",
       "    <tr>\n",
       "      <th>3</th>\n",
       "      <td>alice</td>\n",
       "      <td>SendShare</td>\n",
       "      <td>82748437727</td>\n",
       "      <td>3</td>\n",
       "      <td>bob</td>\n",
       "      <td>1.603614e+09</td>\n",
       "      <td>1.603614e+09</td>\n",
       "      <td>0.023020</td>\n",
       "    </tr>\n",
       "    <tr>\n",
       "      <th>4</th>\n",
       "      <td>alice</td>\n",
       "      <td>SendShare</td>\n",
       "      <td>6354039845</td>\n",
       "      <td>4</td>\n",
       "      <td>bob</td>\n",
       "      <td>1.603614e+09</td>\n",
       "      <td>1.603614e+09</td>\n",
       "      <td>19.603234</td>\n",
       "    </tr>\n",
       "    <tr>\n",
       "      <th>...</th>\n",
       "      <td>...</td>\n",
       "      <td>...</td>\n",
       "      <td>...</td>\n",
       "      <td>...</td>\n",
       "      <td>...</td>\n",
       "      <td>...</td>\n",
       "      <td>...</td>\n",
       "      <td>...</td>\n",
       "    </tr>\n",
       "    <tr>\n",
       "      <th>205</th>\n",
       "      <td>alice</td>\n",
       "      <td>SendShare</td>\n",
       "      <td>95774474162</td>\n",
       "      <td>5</td>\n",
       "      <td>bob</td>\n",
       "      <td>1.603616e+09</td>\n",
       "      <td>1.603616e+09</td>\n",
       "      <td>0.936910</td>\n",
       "    </tr>\n",
       "    <tr>\n",
       "      <th>206</th>\n",
       "      <td>alice</td>\n",
       "      <td>SendShare</td>\n",
       "      <td>97485782738</td>\n",
       "      <td>6</td>\n",
       "      <td>bob</td>\n",
       "      <td>1.603616e+09</td>\n",
       "      <td>1.603616e+09</td>\n",
       "      <td>18.748248</td>\n",
       "    </tr>\n",
       "    <tr>\n",
       "      <th>207</th>\n",
       "      <td>alice</td>\n",
       "      <td>SendShare</td>\n",
       "      <td>89049343302</td>\n",
       "      <td>7</td>\n",
       "      <td>bob</td>\n",
       "      <td>1.603616e+09</td>\n",
       "      <td>1.603616e+09</td>\n",
       "      <td>-0.017776</td>\n",
       "    </tr>\n",
       "    <tr>\n",
       "      <th>208</th>\n",
       "      <td>alice</td>\n",
       "      <td>SendShare</td>\n",
       "      <td>30995103264</td>\n",
       "      <td>0</td>\n",
       "      <td>bob</td>\n",
       "      <td>1.603616e+09</td>\n",
       "      <td>1.603616e+09</td>\n",
       "      <td>-0.008539</td>\n",
       "    </tr>\n",
       "    <tr>\n",
       "      <th>209</th>\n",
       "      <td>alice</td>\n",
       "      <td>SendShare</td>\n",
       "      <td>44445403221</td>\n",
       "      <td>1</td>\n",
       "      <td>bob</td>\n",
       "      <td>1.603616e+09</td>\n",
       "      <td>1.603616e+09</td>\n",
       "      <td>-0.019289</td>\n",
       "    </tr>\n",
       "  </tbody>\n",
       "</table>\n",
       "<p>210 rows × 8 columns</p>\n",
       "</div>"
      ],
      "text/plain": [
       "    WorkerID  EventType       obj_id  p_idx   ID     StartTime      RecvTime  \\\n",
       "0      alice  SendShare  61904364723      0  bob  1.603614e+09  1.603614e+09   \n",
       "1      alice  SendShare  33161346880      1  bob  1.603614e+09  1.603614e+09   \n",
       "2      alice  SendShare   7896894442      2  bob  1.603614e+09  1.603614e+09   \n",
       "3      alice  SendShare  82748437727      3  bob  1.603614e+09  1.603614e+09   \n",
       "4      alice  SendShare   6354039845      4  bob  1.603614e+09  1.603614e+09   \n",
       "..       ...        ...          ...    ...  ...           ...           ...   \n",
       "205    alice  SendShare  95774474162      5  bob  1.603616e+09  1.603616e+09   \n",
       "206    alice  SendShare  97485782738      6  bob  1.603616e+09  1.603616e+09   \n",
       "207    alice  SendShare  89049343302      7  bob  1.603616e+09  1.603616e+09   \n",
       "208    alice  SendShare  30995103264      0  bob  1.603616e+09  1.603616e+09   \n",
       "209    alice  SendShare  44445403221      1  bob  1.603616e+09  1.603616e+09   \n",
       "\n",
       "      SendTime  \n",
       "0    -0.016973  \n",
       "1    -0.018621  \n",
       "2     0.026093  \n",
       "3     0.023020  \n",
       "4    19.603234  \n",
       "..         ...  \n",
       "205   0.936910  \n",
       "206  18.748248  \n",
       "207  -0.017776  \n",
       "208  -0.008539  \n",
       "209  -0.019289  \n",
       "\n",
       "[210 rows x 8 columns]"
      ]
     },
     "execution_count": 90,
     "metadata": {},
     "output_type": "execute_result"
    }
   ],
   "source": [
    "send_time_df"
   ]
  },
  {
   "cell_type": "markdown",
   "metadata": {},
   "source": [
    "## AllWorkersTrainingTime Duration"
   ]
  },
  {
   "cell_type": "code",
   "execution_count": 91,
   "metadata": {},
   "outputs": [],
   "source": [
    "coord_awtt_df = get_coord_duration(coord_df, \"AllWorkersTrainingTime\")"
   ]
  },
  {
   "cell_type": "code",
   "execution_count": 92,
   "metadata": {},
   "outputs": [
    {
     "data": {
      "text/plain": [
       "100.00995072126389"
      ]
     },
     "execution_count": 92,
     "metadata": {},
     "output_type": "execute_result"
    }
   ],
   "source": [
    "coord_awtt_df['Time'][1:].mean()"
   ]
  },
  {
   "cell_type": "code",
   "execution_count": 93,
   "metadata": {},
   "outputs": [
    {
     "data": {
      "text/html": [
       "<div>\n",
       "<style scoped>\n",
       "    .dataframe tbody tr th:only-of-type {\n",
       "        vertical-align: middle;\n",
       "    }\n",
       "\n",
       "    .dataframe tbody tr th {\n",
       "        vertical-align: top;\n",
       "    }\n",
       "\n",
       "    .dataframe thead th {\n",
       "        text-align: right;\n",
       "    }\n",
       "</style>\n",
       "<table border=\"1\" class=\"dataframe\">\n",
       "  <thead>\n",
       "    <tr style=\"text-align: right;\">\n",
       "      <th></th>\n",
       "      <th>EventType</th>\n",
       "      <th>EventState</th>\n",
       "      <th>Time</th>\n",
       "    </tr>\n",
       "  </thead>\n",
       "  <tbody>\n",
       "    <tr>\n",
       "      <th>0</th>\n",
       "      <td>AllWorkersTrainingTime</td>\n",
       "      <td>duration</td>\n",
       "      <td>102.239992</td>\n",
       "    </tr>\n",
       "    <tr>\n",
       "      <th>1</th>\n",
       "      <td>AllWorkersTrainingTime</td>\n",
       "      <td>duration</td>\n",
       "      <td>107.253419</td>\n",
       "    </tr>\n",
       "    <tr>\n",
       "      <th>2</th>\n",
       "      <td>AllWorkersTrainingTime</td>\n",
       "      <td>duration</td>\n",
       "      <td>96.193710</td>\n",
       "    </tr>\n",
       "    <tr>\n",
       "      <th>3</th>\n",
       "      <td>AllWorkersTrainingTime</td>\n",
       "      <td>duration</td>\n",
       "      <td>106.637033</td>\n",
       "    </tr>\n",
       "    <tr>\n",
       "      <th>4</th>\n",
       "      <td>AllWorkersTrainingTime</td>\n",
       "      <td>duration</td>\n",
       "      <td>97.999094</td>\n",
       "    </tr>\n",
       "    <tr>\n",
       "      <th>5</th>\n",
       "      <td>AllWorkersTrainingTime</td>\n",
       "      <td>duration</td>\n",
       "      <td>96.269811</td>\n",
       "    </tr>\n",
       "    <tr>\n",
       "      <th>6</th>\n",
       "      <td>AllWorkersTrainingTime</td>\n",
       "      <td>duration</td>\n",
       "      <td>107.040473</td>\n",
       "    </tr>\n",
       "    <tr>\n",
       "      <th>7</th>\n",
       "      <td>AllWorkersTrainingTime</td>\n",
       "      <td>duration</td>\n",
       "      <td>99.219020</td>\n",
       "    </tr>\n",
       "    <tr>\n",
       "      <th>8</th>\n",
       "      <td>AllWorkersTrainingTime</td>\n",
       "      <td>duration</td>\n",
       "      <td>97.069740</td>\n",
       "    </tr>\n",
       "    <tr>\n",
       "      <th>9</th>\n",
       "      <td>AllWorkersTrainingTime</td>\n",
       "      <td>duration</td>\n",
       "      <td>99.601255</td>\n",
       "    </tr>\n",
       "    <tr>\n",
       "      <th>10</th>\n",
       "      <td>AllWorkersTrainingTime</td>\n",
       "      <td>duration</td>\n",
       "      <td>101.444530</td>\n",
       "    </tr>\n",
       "    <tr>\n",
       "      <th>11</th>\n",
       "      <td>AllWorkersTrainingTime</td>\n",
       "      <td>duration</td>\n",
       "      <td>96.619078</td>\n",
       "    </tr>\n",
       "    <tr>\n",
       "      <th>12</th>\n",
       "      <td>AllWorkersTrainingTime</td>\n",
       "      <td>duration</td>\n",
       "      <td>95.407284</td>\n",
       "    </tr>\n",
       "    <tr>\n",
       "      <th>13</th>\n",
       "      <td>AllWorkersTrainingTime</td>\n",
       "      <td>duration</td>\n",
       "      <td>96.981897</td>\n",
       "    </tr>\n",
       "    <tr>\n",
       "      <th>14</th>\n",
       "      <td>AllWorkersTrainingTime</td>\n",
       "      <td>duration</td>\n",
       "      <td>95.540134</td>\n",
       "    </tr>\n",
       "    <tr>\n",
       "      <th>15</th>\n",
       "      <td>AllWorkersTrainingTime</td>\n",
       "      <td>duration</td>\n",
       "      <td>95.049465</td>\n",
       "    </tr>\n",
       "    <tr>\n",
       "      <th>16</th>\n",
       "      <td>AllWorkersTrainingTime</td>\n",
       "      <td>duration</td>\n",
       "      <td>103.776803</td>\n",
       "    </tr>\n",
       "    <tr>\n",
       "      <th>17</th>\n",
       "      <td>AllWorkersTrainingTime</td>\n",
       "      <td>duration</td>\n",
       "      <td>96.370699</td>\n",
       "    </tr>\n",
       "    <tr>\n",
       "      <th>18</th>\n",
       "      <td>AllWorkersTrainingTime</td>\n",
       "      <td>duration</td>\n",
       "      <td>102.289288</td>\n",
       "    </tr>\n",
       "    <tr>\n",
       "      <th>19</th>\n",
       "      <td>AllWorkersTrainingTime</td>\n",
       "      <td>duration</td>\n",
       "      <td>101.875338</td>\n",
       "    </tr>\n",
       "    <tr>\n",
       "      <th>20</th>\n",
       "      <td>AllWorkersTrainingTime</td>\n",
       "      <td>duration</td>\n",
       "      <td>107.560941</td>\n",
       "    </tr>\n",
       "  </tbody>\n",
       "</table>\n",
       "</div>"
      ],
      "text/plain": [
       "                 EventType EventState        Time\n",
       "0   AllWorkersTrainingTime   duration  102.239992\n",
       "1   AllWorkersTrainingTime   duration  107.253419\n",
       "2   AllWorkersTrainingTime   duration   96.193710\n",
       "3   AllWorkersTrainingTime   duration  106.637033\n",
       "4   AllWorkersTrainingTime   duration   97.999094\n",
       "5   AllWorkersTrainingTime   duration   96.269811\n",
       "6   AllWorkersTrainingTime   duration  107.040473\n",
       "7   AllWorkersTrainingTime   duration   99.219020\n",
       "8   AllWorkersTrainingTime   duration   97.069740\n",
       "9   AllWorkersTrainingTime   duration   99.601255\n",
       "10  AllWorkersTrainingTime   duration  101.444530\n",
       "11  AllWorkersTrainingTime   duration   96.619078\n",
       "12  AllWorkersTrainingTime   duration   95.407284\n",
       "13  AllWorkersTrainingTime   duration   96.981897\n",
       "14  AllWorkersTrainingTime   duration   95.540134\n",
       "15  AllWorkersTrainingTime   duration   95.049465\n",
       "16  AllWorkersTrainingTime   duration  103.776803\n",
       "17  AllWorkersTrainingTime   duration   96.370699\n",
       "18  AllWorkersTrainingTime   duration  102.289288\n",
       "19  AllWorkersTrainingTime   duration  101.875338\n",
       "20  AllWorkersTrainingTime   duration  107.560941"
      ]
     },
     "execution_count": 93,
     "metadata": {},
     "output_type": "execute_result"
    }
   ],
   "source": [
    "coord_awtt_df"
   ]
  },
  {
   "cell_type": "markdown",
   "metadata": {},
   "source": [
    "## AggregationTime"
   ]
  },
  {
   "cell_type": "code",
   "execution_count": 94,
   "metadata": {},
   "outputs": [],
   "source": [
    "coord_aggt_df = get_coord_duration(coord_df, \"AggregationTime\")"
   ]
  },
  {
   "cell_type": "code",
   "execution_count": 95,
   "metadata": {},
   "outputs": [
    {
     "data": {
      "text/plain": [
       "0.22990245819091798"
      ]
     },
     "execution_count": 95,
     "metadata": {},
     "output_type": "execute_result"
    }
   ],
   "source": [
    "coord_aggt_df[\"Time\"][1:].mean()"
   ]
  },
  {
   "cell_type": "code",
   "execution_count": 96,
   "metadata": {},
   "outputs": [
    {
     "data": {
      "text/html": [
       "<div>\n",
       "<style scoped>\n",
       "    .dataframe tbody tr th:only-of-type {\n",
       "        vertical-align: middle;\n",
       "    }\n",
       "\n",
       "    .dataframe tbody tr th {\n",
       "        vertical-align: top;\n",
       "    }\n",
       "\n",
       "    .dataframe thead th {\n",
       "        text-align: right;\n",
       "    }\n",
       "</style>\n",
       "<table border=\"1\" class=\"dataframe\">\n",
       "  <thead>\n",
       "    <tr style=\"text-align: right;\">\n",
       "      <th></th>\n",
       "      <th>EventType</th>\n",
       "      <th>EventState</th>\n",
       "      <th>Time</th>\n",
       "    </tr>\n",
       "  </thead>\n",
       "  <tbody>\n",
       "    <tr>\n",
       "      <th>0</th>\n",
       "      <td>AggregationTime</td>\n",
       "      <td>duration</td>\n",
       "      <td>0.245026</td>\n",
       "    </tr>\n",
       "    <tr>\n",
       "      <th>1</th>\n",
       "      <td>AggregationTime</td>\n",
       "      <td>duration</td>\n",
       "      <td>0.228312</td>\n",
       "    </tr>\n",
       "    <tr>\n",
       "      <th>2</th>\n",
       "      <td>AggregationTime</td>\n",
       "      <td>duration</td>\n",
       "      <td>0.216894</td>\n",
       "    </tr>\n",
       "    <tr>\n",
       "      <th>3</th>\n",
       "      <td>AggregationTime</td>\n",
       "      <td>duration</td>\n",
       "      <td>0.232062</td>\n",
       "    </tr>\n",
       "    <tr>\n",
       "      <th>4</th>\n",
       "      <td>AggregationTime</td>\n",
       "      <td>duration</td>\n",
       "      <td>0.215400</td>\n",
       "    </tr>\n",
       "    <tr>\n",
       "      <th>5</th>\n",
       "      <td>AggregationTime</td>\n",
       "      <td>duration</td>\n",
       "      <td>0.232104</td>\n",
       "    </tr>\n",
       "    <tr>\n",
       "      <th>6</th>\n",
       "      <td>AggregationTime</td>\n",
       "      <td>duration</td>\n",
       "      <td>0.231468</td>\n",
       "    </tr>\n",
       "    <tr>\n",
       "      <th>7</th>\n",
       "      <td>AggregationTime</td>\n",
       "      <td>duration</td>\n",
       "      <td>0.244203</td>\n",
       "    </tr>\n",
       "    <tr>\n",
       "      <th>8</th>\n",
       "      <td>AggregationTime</td>\n",
       "      <td>duration</td>\n",
       "      <td>0.219201</td>\n",
       "    </tr>\n",
       "    <tr>\n",
       "      <th>9</th>\n",
       "      <td>AggregationTime</td>\n",
       "      <td>duration</td>\n",
       "      <td>0.229891</td>\n",
       "    </tr>\n",
       "    <tr>\n",
       "      <th>10</th>\n",
       "      <td>AggregationTime</td>\n",
       "      <td>duration</td>\n",
       "      <td>0.244524</td>\n",
       "    </tr>\n",
       "    <tr>\n",
       "      <th>11</th>\n",
       "      <td>AggregationTime</td>\n",
       "      <td>duration</td>\n",
       "      <td>0.219732</td>\n",
       "    </tr>\n",
       "    <tr>\n",
       "      <th>12</th>\n",
       "      <td>AggregationTime</td>\n",
       "      <td>duration</td>\n",
       "      <td>0.235471</td>\n",
       "    </tr>\n",
       "    <tr>\n",
       "      <th>13</th>\n",
       "      <td>AggregationTime</td>\n",
       "      <td>duration</td>\n",
       "      <td>0.236350</td>\n",
       "    </tr>\n",
       "    <tr>\n",
       "      <th>14</th>\n",
       "      <td>AggregationTime</td>\n",
       "      <td>duration</td>\n",
       "      <td>0.250236</td>\n",
       "    </tr>\n",
       "    <tr>\n",
       "      <th>15</th>\n",
       "      <td>AggregationTime</td>\n",
       "      <td>duration</td>\n",
       "      <td>0.213599</td>\n",
       "    </tr>\n",
       "    <tr>\n",
       "      <th>16</th>\n",
       "      <td>AggregationTime</td>\n",
       "      <td>duration</td>\n",
       "      <td>0.251806</td>\n",
       "    </tr>\n",
       "    <tr>\n",
       "      <th>17</th>\n",
       "      <td>AggregationTime</td>\n",
       "      <td>duration</td>\n",
       "      <td>0.218313</td>\n",
       "    </tr>\n",
       "    <tr>\n",
       "      <th>18</th>\n",
       "      <td>AggregationTime</td>\n",
       "      <td>duration</td>\n",
       "      <td>0.233998</td>\n",
       "    </tr>\n",
       "    <tr>\n",
       "      <th>19</th>\n",
       "      <td>AggregationTime</td>\n",
       "      <td>duration</td>\n",
       "      <td>0.221313</td>\n",
       "    </tr>\n",
       "    <tr>\n",
       "      <th>20</th>\n",
       "      <td>AggregationTime</td>\n",
       "      <td>duration</td>\n",
       "      <td>0.223172</td>\n",
       "    </tr>\n",
       "  </tbody>\n",
       "</table>\n",
       "</div>"
      ],
      "text/plain": [
       "          EventType EventState      Time\n",
       "0   AggregationTime   duration  0.245026\n",
       "1   AggregationTime   duration  0.228312\n",
       "2   AggregationTime   duration  0.216894\n",
       "3   AggregationTime   duration  0.232062\n",
       "4   AggregationTime   duration  0.215400\n",
       "5   AggregationTime   duration  0.232104\n",
       "6   AggregationTime   duration  0.231468\n",
       "7   AggregationTime   duration  0.244203\n",
       "8   AggregationTime   duration  0.219201\n",
       "9   AggregationTime   duration  0.229891\n",
       "10  AggregationTime   duration  0.244524\n",
       "11  AggregationTime   duration  0.219732\n",
       "12  AggregationTime   duration  0.235471\n",
       "13  AggregationTime   duration  0.236350\n",
       "14  AggregationTime   duration  0.250236\n",
       "15  AggregationTime   duration  0.213599\n",
       "16  AggregationTime   duration  0.251806\n",
       "17  AggregationTime   duration  0.218313\n",
       "18  AggregationTime   duration  0.233998\n",
       "19  AggregationTime   duration  0.221313\n",
       "20  AggregationTime   duration  0.223172"
      ]
     },
     "execution_count": 96,
     "metadata": {},
     "output_type": "execute_result"
    }
   ],
   "source": [
    "coord_aggt_df"
   ]
  },
  {
   "cell_type": "markdown",
   "metadata": {},
   "source": [
    "## DecryptionTime"
   ]
  },
  {
   "cell_type": "code",
   "execution_count": 97,
   "metadata": {},
   "outputs": [],
   "source": [
    "coord_decrypt_df = get_coord_duration(coord_df, \"DecryptionTime\")"
   ]
  },
  {
   "cell_type": "code",
   "execution_count": 98,
   "metadata": {},
   "outputs": [
    {
     "data": {
      "text/plain": [
       "7.425192427635193"
      ]
     },
     "execution_count": 98,
     "metadata": {},
     "output_type": "execute_result"
    }
   ],
   "source": [
    "coord_decrypt_df['Time'][1:].mean()"
   ]
  },
  {
   "cell_type": "code",
   "execution_count": 99,
   "metadata": {},
   "outputs": [
    {
     "data": {
      "text/html": [
       "<div>\n",
       "<style scoped>\n",
       "    .dataframe tbody tr th:only-of-type {\n",
       "        vertical-align: middle;\n",
       "    }\n",
       "\n",
       "    .dataframe tbody tr th {\n",
       "        vertical-align: top;\n",
       "    }\n",
       "\n",
       "    .dataframe thead th {\n",
       "        text-align: right;\n",
       "    }\n",
       "</style>\n",
       "<table border=\"1\" class=\"dataframe\">\n",
       "  <thead>\n",
       "    <tr style=\"text-align: right;\">\n",
       "      <th></th>\n",
       "      <th>EventType</th>\n",
       "      <th>EventState</th>\n",
       "      <th>Time</th>\n",
       "    </tr>\n",
       "  </thead>\n",
       "  <tbody>\n",
       "    <tr>\n",
       "      <th>0</th>\n",
       "      <td>DecryptionTime</td>\n",
       "      <td>duration</td>\n",
       "      <td>7.546542</td>\n",
       "    </tr>\n",
       "    <tr>\n",
       "      <th>1</th>\n",
       "      <td>DecryptionTime</td>\n",
       "      <td>duration</td>\n",
       "      <td>7.498196</td>\n",
       "    </tr>\n",
       "    <tr>\n",
       "      <th>2</th>\n",
       "      <td>DecryptionTime</td>\n",
       "      <td>duration</td>\n",
       "      <td>7.235712</td>\n",
       "    </tr>\n",
       "    <tr>\n",
       "      <th>3</th>\n",
       "      <td>DecryptionTime</td>\n",
       "      <td>duration</td>\n",
       "      <td>7.486921</td>\n",
       "    </tr>\n",
       "    <tr>\n",
       "      <th>4</th>\n",
       "      <td>DecryptionTime</td>\n",
       "      <td>duration</td>\n",
       "      <td>7.378316</td>\n",
       "    </tr>\n",
       "    <tr>\n",
       "      <th>5</th>\n",
       "      <td>DecryptionTime</td>\n",
       "      <td>duration</td>\n",
       "      <td>7.479644</td>\n",
       "    </tr>\n",
       "    <tr>\n",
       "      <th>6</th>\n",
       "      <td>DecryptionTime</td>\n",
       "      <td>duration</td>\n",
       "      <td>7.512646</td>\n",
       "    </tr>\n",
       "    <tr>\n",
       "      <th>7</th>\n",
       "      <td>DecryptionTime</td>\n",
       "      <td>duration</td>\n",
       "      <td>7.537995</td>\n",
       "    </tr>\n",
       "    <tr>\n",
       "      <th>8</th>\n",
       "      <td>DecryptionTime</td>\n",
       "      <td>duration</td>\n",
       "      <td>7.534792</td>\n",
       "    </tr>\n",
       "    <tr>\n",
       "      <th>9</th>\n",
       "      <td>DecryptionTime</td>\n",
       "      <td>duration</td>\n",
       "      <td>7.465533</td>\n",
       "    </tr>\n",
       "    <tr>\n",
       "      <th>10</th>\n",
       "      <td>DecryptionTime</td>\n",
       "      <td>duration</td>\n",
       "      <td>7.491041</td>\n",
       "    </tr>\n",
       "    <tr>\n",
       "      <th>11</th>\n",
       "      <td>DecryptionTime</td>\n",
       "      <td>duration</td>\n",
       "      <td>7.265305</td>\n",
       "    </tr>\n",
       "    <tr>\n",
       "      <th>12</th>\n",
       "      <td>DecryptionTime</td>\n",
       "      <td>duration</td>\n",
       "      <td>7.509725</td>\n",
       "    </tr>\n",
       "    <tr>\n",
       "      <th>13</th>\n",
       "      <td>DecryptionTime</td>\n",
       "      <td>duration</td>\n",
       "      <td>7.238505</td>\n",
       "    </tr>\n",
       "    <tr>\n",
       "      <th>14</th>\n",
       "      <td>DecryptionTime</td>\n",
       "      <td>duration</td>\n",
       "      <td>7.523868</td>\n",
       "    </tr>\n",
       "    <tr>\n",
       "      <th>15</th>\n",
       "      <td>DecryptionTime</td>\n",
       "      <td>duration</td>\n",
       "      <td>7.488305</td>\n",
       "    </tr>\n",
       "    <tr>\n",
       "      <th>16</th>\n",
       "      <td>DecryptionTime</td>\n",
       "      <td>duration</td>\n",
       "      <td>7.507878</td>\n",
       "    </tr>\n",
       "    <tr>\n",
       "      <th>17</th>\n",
       "      <td>DecryptionTime</td>\n",
       "      <td>duration</td>\n",
       "      <td>7.095948</td>\n",
       "    </tr>\n",
       "    <tr>\n",
       "      <th>18</th>\n",
       "      <td>DecryptionTime</td>\n",
       "      <td>duration</td>\n",
       "      <td>7.552524</td>\n",
       "    </tr>\n",
       "    <tr>\n",
       "      <th>19</th>\n",
       "      <td>DecryptionTime</td>\n",
       "      <td>duration</td>\n",
       "      <td>7.357369</td>\n",
       "    </tr>\n",
       "    <tr>\n",
       "      <th>20</th>\n",
       "      <td>DecryptionTime</td>\n",
       "      <td>duration</td>\n",
       "      <td>7.343625</td>\n",
       "    </tr>\n",
       "  </tbody>\n",
       "</table>\n",
       "</div>"
      ],
      "text/plain": [
       "         EventType EventState      Time\n",
       "0   DecryptionTime   duration  7.546542\n",
       "1   DecryptionTime   duration  7.498196\n",
       "2   DecryptionTime   duration  7.235712\n",
       "3   DecryptionTime   duration  7.486921\n",
       "4   DecryptionTime   duration  7.378316\n",
       "5   DecryptionTime   duration  7.479644\n",
       "6   DecryptionTime   duration  7.512646\n",
       "7   DecryptionTime   duration  7.537995\n",
       "8   DecryptionTime   duration  7.534792\n",
       "9   DecryptionTime   duration  7.465533\n",
       "10  DecryptionTime   duration  7.491041\n",
       "11  DecryptionTime   duration  7.265305\n",
       "12  DecryptionTime   duration  7.509725\n",
       "13  DecryptionTime   duration  7.238505\n",
       "14  DecryptionTime   duration  7.523868\n",
       "15  DecryptionTime   duration  7.488305\n",
       "16  DecryptionTime   duration  7.507878\n",
       "17  DecryptionTime   duration  7.095948\n",
       "18  DecryptionTime   duration  7.552524\n",
       "19  DecryptionTime   duration  7.357369\n",
       "20  DecryptionTime   duration  7.343625"
      ]
     },
     "execution_count": 99,
     "metadata": {},
     "output_type": "execute_result"
    }
   ],
   "source": [
    "coord_decrypt_df"
   ]
  },
  {
   "cell_type": "markdown",
   "metadata": {},
   "source": [
    "## RoundTime"
   ]
  },
  {
   "cell_type": "code",
   "execution_count": 100,
   "metadata": {},
   "outputs": [],
   "source": [
    "coord_round_time_df = get_coord_duration(coord_df, \"RoundTime\")"
   ]
  },
  {
   "cell_type": "code",
   "execution_count": 101,
   "metadata": {},
   "outputs": [
    {
     "data": {
      "text/plain": [
       "107.74317790269852"
      ]
     },
     "execution_count": 101,
     "metadata": {},
     "output_type": "execute_result"
    }
   ],
   "source": [
    "coord_round_time_df[\"Time\"][1:].mean()"
   ]
  },
  {
   "cell_type": "code",
   "execution_count": 100,
   "metadata": {},
   "outputs": [
    {
     "data": {
      "text/html": [
       "<div>\n",
       "<style scoped>\n",
       "    .dataframe tbody tr th:only-of-type {\n",
       "        vertical-align: middle;\n",
       "    }\n",
       "\n",
       "    .dataframe tbody tr th {\n",
       "        vertical-align: top;\n",
       "    }\n",
       "\n",
       "    .dataframe thead th {\n",
       "        text-align: right;\n",
       "    }\n",
       "</style>\n",
       "<table border=\"1\" class=\"dataframe\">\n",
       "  <thead>\n",
       "    <tr style=\"text-align: right;\">\n",
       "      <th></th>\n",
       "      <th>EventType</th>\n",
       "      <th>EventState</th>\n",
       "      <th>Time</th>\n",
       "    </tr>\n",
       "  </thead>\n",
       "  <tbody>\n",
       "    <tr>\n",
       "      <th>0</th>\n",
       "      <td>RoundTime</td>\n",
       "      <td>duration</td>\n",
       "      <td>19.145947</td>\n",
       "    </tr>\n",
       "    <tr>\n",
       "      <th>1</th>\n",
       "      <td>RoundTime</td>\n",
       "      <td>duration</td>\n",
       "      <td>18.873726</td>\n",
       "    </tr>\n",
       "    <tr>\n",
       "      <th>2</th>\n",
       "      <td>RoundTime</td>\n",
       "      <td>duration</td>\n",
       "      <td>19.465924</td>\n",
       "    </tr>\n",
       "    <tr>\n",
       "      <th>3</th>\n",
       "      <td>RoundTime</td>\n",
       "      <td>duration</td>\n",
       "      <td>19.579201</td>\n",
       "    </tr>\n",
       "    <tr>\n",
       "      <th>4</th>\n",
       "      <td>RoundTime</td>\n",
       "      <td>duration</td>\n",
       "      <td>19.174881</td>\n",
       "    </tr>\n",
       "    <tr>\n",
       "      <th>5</th>\n",
       "      <td>RoundTime</td>\n",
       "      <td>duration</td>\n",
       "      <td>18.636325</td>\n",
       "    </tr>\n",
       "    <tr>\n",
       "      <th>6</th>\n",
       "      <td>RoundTime</td>\n",
       "      <td>duration</td>\n",
       "      <td>19.162090</td>\n",
       "    </tr>\n",
       "    <tr>\n",
       "      <th>7</th>\n",
       "      <td>RoundTime</td>\n",
       "      <td>duration</td>\n",
       "      <td>18.452327</td>\n",
       "    </tr>\n",
       "    <tr>\n",
       "      <th>8</th>\n",
       "      <td>RoundTime</td>\n",
       "      <td>duration</td>\n",
       "      <td>19.007770</td>\n",
       "    </tr>\n",
       "    <tr>\n",
       "      <th>9</th>\n",
       "      <td>RoundTime</td>\n",
       "      <td>duration</td>\n",
       "      <td>19.201967</td>\n",
       "    </tr>\n",
       "    <tr>\n",
       "      <th>10</th>\n",
       "      <td>RoundTime</td>\n",
       "      <td>duration</td>\n",
       "      <td>18.682697</td>\n",
       "    </tr>\n",
       "    <tr>\n",
       "      <th>11</th>\n",
       "      <td>RoundTime</td>\n",
       "      <td>duration</td>\n",
       "      <td>19.605116</td>\n",
       "    </tr>\n",
       "    <tr>\n",
       "      <th>12</th>\n",
       "      <td>RoundTime</td>\n",
       "      <td>duration</td>\n",
       "      <td>19.041746</td>\n",
       "    </tr>\n",
       "    <tr>\n",
       "      <th>13</th>\n",
       "      <td>RoundTime</td>\n",
       "      <td>duration</td>\n",
       "      <td>18.909328</td>\n",
       "    </tr>\n",
       "    <tr>\n",
       "      <th>14</th>\n",
       "      <td>RoundTime</td>\n",
       "      <td>duration</td>\n",
       "      <td>19.175711</td>\n",
       "    </tr>\n",
       "    <tr>\n",
       "      <th>15</th>\n",
       "      <td>RoundTime</td>\n",
       "      <td>duration</td>\n",
       "      <td>19.134600</td>\n",
       "    </tr>\n",
       "    <tr>\n",
       "      <th>16</th>\n",
       "      <td>RoundTime</td>\n",
       "      <td>duration</td>\n",
       "      <td>18.412678</td>\n",
       "    </tr>\n",
       "    <tr>\n",
       "      <th>17</th>\n",
       "      <td>RoundTime</td>\n",
       "      <td>duration</td>\n",
       "      <td>19.126152</td>\n",
       "    </tr>\n",
       "    <tr>\n",
       "      <th>18</th>\n",
       "      <td>RoundTime</td>\n",
       "      <td>duration</td>\n",
       "      <td>19.037894</td>\n",
       "    </tr>\n",
       "    <tr>\n",
       "      <th>19</th>\n",
       "      <td>RoundTime</td>\n",
       "      <td>duration</td>\n",
       "      <td>19.154944</td>\n",
       "    </tr>\n",
       "    <tr>\n",
       "      <th>20</th>\n",
       "      <td>RoundTime</td>\n",
       "      <td>duration</td>\n",
       "      <td>19.036083</td>\n",
       "    </tr>\n",
       "  </tbody>\n",
       "</table>\n",
       "</div>"
      ],
      "text/plain": [
       "    EventType EventState       Time\n",
       "0   RoundTime   duration  19.145947\n",
       "1   RoundTime   duration  18.873726\n",
       "2   RoundTime   duration  19.465924\n",
       "3   RoundTime   duration  19.579201\n",
       "4   RoundTime   duration  19.174881\n",
       "5   RoundTime   duration  18.636325\n",
       "6   RoundTime   duration  19.162090\n",
       "7   RoundTime   duration  18.452327\n",
       "8   RoundTime   duration  19.007770\n",
       "9   RoundTime   duration  19.201967\n",
       "10  RoundTime   duration  18.682697\n",
       "11  RoundTime   duration  19.605116\n",
       "12  RoundTime   duration  19.041746\n",
       "13  RoundTime   duration  18.909328\n",
       "14  RoundTime   duration  19.175711\n",
       "15  RoundTime   duration  19.134600\n",
       "16  RoundTime   duration  18.412678\n",
       "17  RoundTime   duration  19.126152\n",
       "18  RoundTime   duration  19.037894\n",
       "19  RoundTime   duration  19.154944\n",
       "20  RoundTime   duration  19.036083"
      ]
     },
     "execution_count": 100,
     "metadata": {},
     "output_type": "execute_result"
    }
   ],
   "source": [
    "coord_round_time_df"
   ]
  },
  {
   "cell_type": "code",
   "execution_count": null,
   "metadata": {},
   "outputs": [],
   "source": []
  },
  {
   "cell_type": "code",
   "execution_count": null,
   "metadata": {},
   "outputs": [],
   "source": []
  },
  {
   "cell_type": "code",
   "execution_count": null,
   "metadata": {},
   "outputs": [],
   "source": []
  },
  {
   "cell_type": "code",
   "execution_count": null,
   "metadata": {},
   "outputs": [],
   "source": []
  },
  {
   "cell_type": "code",
   "execution_count": null,
   "metadata": {},
   "outputs": [],
   "source": []
  }
 ],
 "metadata": {
  "kernelspec": {
   "display_name": "Python 3",
   "language": "python",
   "name": "python3"
  },
  "language_info": {
   "codemirror_mode": {
    "name": "ipython",
    "version": 3
   },
   "file_extension": ".py",
   "mimetype": "text/x-python",
   "name": "python",
   "nbconvert_exporter": "python",
   "pygments_lexer": "ipython3",
   "version": "3.6.10"
  }
 },
 "nbformat": 4,
 "nbformat_minor": 4
}

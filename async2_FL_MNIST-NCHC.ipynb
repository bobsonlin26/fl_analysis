{
 "cells": [
  {
   "cell_type": "code",
   "execution_count": 1,
   "metadata": {},
   "outputs": [],
   "source": [
    "import pandas as pd\n",
    "from io import StringIO\n",
    "import os"
   ]
  },
  {
   "cell_type": "markdown",
   "metadata": {},
   "source": [
    "## Read trace"
   ]
  },
  {
   "cell_type": "code",
   "execution_count": 2,
   "metadata": {},
   "outputs": [],
   "source": [
    "def read_trace(trace_dir, trace_file, worker_id=None):\n",
    "    trace_filepath = os.path.join(trace_dir, trace_file)\n",
    "    \n",
    "    with open(trace_filepath,\"r\") as rf:\n",
    "        new_trace = StringIO()\n",
    "        line = rf.readline()\n",
    "        while line:\n",
    "            line_list = line.split()\n",
    "            if line_list[0] == \"[trace]\":\n",
    "                new_trace.write(line)\n",
    "            line = rf.readline()\n",
    "       \n",
    "    new_trace.seek(0)\n",
    "    df = pd.read_csv(new_trace, sep=\" \", names=[\"InfoType\", \"EventType\", \"EventState\", \"ID\", \"Time\"])\n",
    "    del df[\"InfoType\"]\n",
    "    \n",
    "    if worker_id is not None:\n",
    "        df.insert(0, \"WorkerID\", worker_id)\n",
    "        \n",
    "    new_trace.close()\n",
    "    \n",
    "    return df"
   ]
  },
  {
   "cell_type": "markdown",
   "metadata": {},
   "source": [
    "### COORD"
   ]
  },
  {
   "cell_type": "code",
   "execution_count": 3,
   "metadata": {},
   "outputs": [],
   "source": [
    "nr_worker = 12\n",
    "sub_dir = str(nr_worker) + \"rm\"\n",
    "trace_dir = \"/home/posheng/billy_ws/fl_025/fl_experiment_trace/nchc/\" + sub_dir + \"/mnist\"\n",
    "coord_trace_file = \"coord.txt\"\n",
    "\n",
    "worker_files = []\n",
    "for i in range(2, 2+nr_worker):\n",
    "    worker_files.append(\"flvm-{}.txt\".format(i))\n",
    "\n",
    "# hpc0_trace_file = \"hpc0.txt\"\n",
    "# hpc1_trace_file = \"hpc1.txt\"\n",
    "# hpc2_trace_file = \"hpc2.txt\"\n",
    "# hpc3_trace_file = \"hpc3_trace.txt\""
   ]
  },
  {
   "cell_type": "code",
   "execution_count": 4,
   "metadata": {},
   "outputs": [],
   "source": [
    "# coord_df = read_trace(trace_dir, coord_trace_file)\n",
    "# hpc1_df = read_trace(trace_dir, hpc1_trace_file, \"alice\")\n",
    "# hpc2_df = read_trace(trace_dir, hpc2_trace_file, \"bob\")\n",
    "# hpc3_df = read_trace(trace_dir, hpc3_trace_file, \"charlie\")\n",
    "\n",
    "coord_df = read_trace(trace_dir, coord_trace_file)\n",
    "# w0_df = read_trace(trace_dir, hpc0_trace_file, \"alice\")\n",
    "# w1_df = read_trace(trace_dir, hpc1_trace_file, \"bob\")\n",
    "# w2_df = read_trace(trace_dir, hpc2_trace_file, \"charlie\")\n",
    "\n",
    "worker_dfs = {}\n",
    "for i in range(len(worker_files)):\n",
    "    worker_df = read_trace(trace_dir, worker_files[i], worker_files[i].split(\".\")[0])\n",
    "    worker_dfs[worker_files[i].split(\".\")[0]] = worker_df"
   ]
  },
  {
   "cell_type": "markdown",
   "metadata": {},
   "source": [
    "## Duration"
   ]
  },
  {
   "cell_type": "code",
   "execution_count": 5,
   "metadata": {},
   "outputs": [],
   "source": [
    "def get_worker_duration(worker_id, worker_dfs, event_type):\n",
    "    worker_df = worker_dfs[worker_id]\n",
    "    worker_event_df = worker_df[worker_df[\"EventType\"].str.contains(event_type, regex=False)]\n",
    "    worker_event_df = worker_event_df.reset_index()\n",
    "    \n",
    "    del worker_event_df['index']\n",
    "    del worker_event_df['ID']\n",
    "    \n",
    "    return worker_event_df"
   ]
  },
  {
   "cell_type": "code",
   "execution_count": 6,
   "metadata": {},
   "outputs": [],
   "source": [
    "def get_coord_duration(coord_df, event_type):\n",
    "    coord_event_df = coord_df[coord_df[\"EventType\"].str.contains(event_type, regex=False)]\n",
    "    coord_event_df = coord_event_df.reset_index()\n",
    "    \n",
    "    del coord_event_df['index']\n",
    "    del coord_event_df['ID']\n",
    "    \n",
    "    return coord_event_df"
   ]
  },
  {
   "cell_type": "code",
   "execution_count": 7,
   "metadata": {},
   "outputs": [],
   "source": [
    "def calculate_duration(event_type, df):\n",
    "    event_df = df[df[\"EventType\"] == event_type][[\"EventType\", \"EventState\", \"ID\", \"Time\"]]\n",
    "    event_start_df = event_df[event_df[\"EventState\"] == \"start\"][[\"ID\", \"Time\"]]\n",
    "    event_start_df = event_start_df.reset_index()\n",
    "\n",
    "    event_end_df = event_df[event_df[\"EventState\"] == \"end\"][[\"Time\"]]\n",
    "    event_end_df = event_end_df.reset_index()\n",
    "    \n",
    "    event_df_cat = pd.concat([event_start_df, event_end_df], axis=1)\n",
    "    del event_df_cat['index']\n",
    "    event_df_cat.columns = [\"ID\", \"StartTime\", \"EndTime\"]\n",
    "    \n",
    "    event_df_cat[\"Duration\"] = event_df_cat.apply(lambda x: x[\"EndTime\"] - x[\"StartTime\"], axis=1)\n",
    "    event_df_cat.insert(0, \"EventType\", event_type)\n",
    "    return event_df_cat\n"
   ]
  },
  {
   "cell_type": "code",
   "execution_count": 8,
   "metadata": {},
   "outputs": [],
   "source": [
    "GlobalModelSendDuration = calculate_duration(\"GlobalModelSend\", coord_df)"
   ]
  },
  {
   "cell_type": "code",
   "execution_count": 9,
   "metadata": {},
   "outputs": [],
   "source": [
    "LossFuncSendDuration = calculate_duration(\"LossFuncSend\", coord_df)"
   ]
  },
  {
   "cell_type": "code",
   "execution_count": 10,
   "metadata": {},
   "outputs": [],
   "source": [
    "ModelConfigSendDuration = calculate_duration(\"ModelConfigSend\", coord_df)"
   ]
  },
  {
   "cell_type": "markdown",
   "metadata": {},
   "source": [
    "### GlobalModelSendDuration"
   ]
  },
  {
   "cell_type": "code",
   "execution_count": 11,
   "metadata": {},
   "outputs": [
    {
     "name": "stdout",
     "output_type": "stream",
     "text": [
      "GlobalModelSendDuration flvm-2 0.24629971981048585\n",
      "GlobalModelSendDuration flvm-3 0.25056484937667844\n",
      "GlobalModelSendDuration flvm-4 0.24529136419296266\n",
      "GlobalModelSendDuration flvm-5 0.25251442193984985\n",
      "GlobalModelSendDuration flvm-6 0.25657633543014524\n",
      "GlobalModelSendDuration flvm-7 0.25854196548461916\n",
      "GlobalModelSendDuration flvm-8 0.24981902837753295\n",
      "GlobalModelSendDuration flvm-9 0.2549518346786499\n",
      "GlobalModelSendDuration flvm-10 0.2536608338356018\n",
      "GlobalModelSendDuration flvm-11 0.2572828531265259\n",
      "GlobalModelSendDuration flvm-12 0.25408540964126586\n",
      "GlobalModelSendDuration flvm-13 0.2504128456115723\n"
     ]
    }
   ],
   "source": [
    "for worker_id in worker_dfs.keys():\n",
    "    gms_mean = GlobalModelSendDuration[GlobalModelSendDuration[\"ID\"] == worker_id][1:]['Duration'].mean()\n",
    "    print(\"GlobalModelSendDuration\", worker_id, gms_mean)"
   ]
  },
  {
   "cell_type": "markdown",
   "metadata": {},
   "source": [
    "### LossFuncSendDuration"
   ]
  },
  {
   "cell_type": "code",
   "execution_count": 12,
   "metadata": {},
   "outputs": [
    {
     "name": "stdout",
     "output_type": "stream",
     "text": [
      "LossFuncSendDuration flvm-2 0.0013613104820251465\n",
      "LossFuncSendDuration flvm-3 0.0012704730033874512\n",
      "LossFuncSendDuration flvm-4 0.0012420296669006347\n",
      "LossFuncSendDuration flvm-5 0.0014421701431274413\n",
      "LossFuncSendDuration flvm-6 0.0014762163162231445\n",
      "LossFuncSendDuration flvm-7 0.001211237907409668\n",
      "LossFuncSendDuration flvm-8 0.0011418461799621582\n",
      "LossFuncSendDuration flvm-9 0.0013916373252868652\n",
      "LossFuncSendDuration flvm-10 0.0010529756546020508\n",
      "LossFuncSendDuration flvm-11 0.0011195778846740724\n",
      "LossFuncSendDuration flvm-12 0.0011324644088745116\n",
      "LossFuncSendDuration flvm-13 0.0010709643363952636\n"
     ]
    }
   ],
   "source": [
    "for worker_id in worker_dfs.keys():\n",
    "    lfs_mean = LossFuncSendDuration[LossFuncSendDuration[\"ID\"] == worker_id][1:]['Duration'].mean()\n",
    "    print(\"LossFuncSendDuration\", worker_id, lfs_mean)"
   ]
  },
  {
   "cell_type": "markdown",
   "metadata": {},
   "source": [
    "### ModelConfigSendDuration"
   ]
  },
  {
   "cell_type": "code",
   "execution_count": 13,
   "metadata": {},
   "outputs": [
    {
     "name": "stdout",
     "output_type": "stream",
     "text": [
      "ModelConfigSendDuration flvm-2 0.0007476925849914551\n",
      "ModelConfigSendDuration flvm-3 0.000826263427734375\n",
      "ModelConfigSendDuration flvm-4 0.0007968306541442871\n",
      "ModelConfigSendDuration flvm-5 0.0008943557739257812\n",
      "ModelConfigSendDuration flvm-6 0.0007627010345458984\n",
      "ModelConfigSendDuration flvm-7 0.0008275032043457032\n",
      "ModelConfigSendDuration flvm-8 0.0008067727088928222\n",
      "ModelConfigSendDuration flvm-9 0.0006778240203857422\n",
      "ModelConfigSendDuration flvm-10 0.0006256461143493653\n",
      "ModelConfigSendDuration flvm-11 0.0006460785865783691\n",
      "ModelConfigSendDuration flvm-12 0.0007846593856811523\n",
      "ModelConfigSendDuration flvm-13 0.0007852673530578613\n"
     ]
    }
   ],
   "source": [
    "for worker_id in worker_dfs.keys():\n",
    "    mcs_mean = ModelConfigSendDuration[ModelConfigSendDuration[\"ID\"] == worker_id][1:]['Duration'].mean()\n",
    "    print(\"ModelConfigSendDuration\", worker_id, mcs_mean)"
   ]
  },
  {
   "cell_type": "markdown",
   "metadata": {},
   "source": [
    "## GlobalInformationSend Duration"
   ]
  },
  {
   "cell_type": "code",
   "execution_count": 14,
   "metadata": {},
   "outputs": [],
   "source": [
    "def get_coord_global_send_duration(coord_df, worker_id):\n",
    "    coord_event_df = coord_df[coord_df[\"EventType\"].str.contains(\"GlobalInformationSend\", regex=False)]\n",
    "    coord_event_df = coord_event_df[coord_event_df[\"ID\"] == worker_id]\n",
    "    coord_event_df = coord_event_df.reset_index()\n",
    "    \n",
    "    del coord_event_df['index']\n",
    "    \n",
    "    return coord_event_df"
   ]
  },
  {
   "cell_type": "code",
   "execution_count": 15,
   "metadata": {},
   "outputs": [
    {
     "name": "stdout",
     "output_type": "stream",
     "text": [
      "GlobalInformationSend flvm-2 0.24548329114913942\n",
      "GlobalInformationSend flvm-3 0.24831517934799194\n",
      "GlobalInformationSend flvm-4 0.24452987909317017\n",
      "GlobalInformationSend flvm-5 0.26234028339385984\n",
      "GlobalInformationSend flvm-6 0.2594756603240967\n",
      "GlobalInformationSend flvm-7 0.25748342275619507\n",
      "GlobalInformationSend flvm-8 0.25332571268081666\n",
      "GlobalInformationSend flvm-9 0.2485412359237671\n",
      "GlobalInformationSend flvm-10 0.2567511796951294\n",
      "GlobalInformationSend flvm-11 0.2628637790679932\n",
      "GlobalInformationSend flvm-12 0.25974788665771487\n",
      "GlobalInformationSend flvm-13 0.2555647850036621\n"
     ]
    }
   ],
   "source": [
    "for worker_id in worker_dfs.keys():\n",
    "    gs_df = get_coord_global_send_duration(coord_df, worker_id)\n",
    "    print(\"GlobalInformationSend\", worker_id, gs_df['Time'][1:].mean())"
   ]
  },
  {
   "cell_type": "markdown",
   "metadata": {},
   "source": [
    "## Send Time"
   ]
  },
  {
   "cell_type": "code",
   "execution_count": 16,
   "metadata": {},
   "outputs": [],
   "source": [
    "## EventType:\n",
    "##     * GlobalModelSend\n",
    "##     * LossFuncSend\n",
    "##     * ModelConfigSend\n",
    "def calculate_send_time(coord_df, worker_dfs, event_type):\n",
    "    event_start_df = coord_df[(coord_df[\"EventType\"] == event_type) & (coord_df[\"EventState\"] == \"start\")]\n",
    "    worker_event_send_time_dfs = {}\n",
    "    \n",
    "    for worker_id in worker_dfs.keys():\n",
    "        worker_event_start_df = event_start_df[event_start_df[\"ID\"] == worker_id]\n",
    "        worker_event_start_df = worker_event_start_df.reset_index()\n",
    "        del worker_event_start_df['index']\n",
    "        worker_event_start_df.columns = [\"EventType\", \"EventState\", \"ID\", \"StartTime\"]\n",
    "        \n",
    "        worker_df = worker_dfs[worker_id]\n",
    "        worker_event_recv_df = worker_df[worker_df[\"EventType\"] == event_type]\n",
    "        worker_event_recv_df = worker_event_recv_df.reset_index()\n",
    "        del worker_event_recv_df['index']\n",
    "        worker_event_recv_df.columns = [\"WorkerID\", \"EventType\", \"EventState\", \"ID\", \"RecvTime\"]\n",
    "        \n",
    "        worker_recv_time_series = worker_event_recv_df[\"RecvTime\"]\n",
    "        worker_event_send_time_df = pd.concat([worker_event_start_df, worker_recv_time_series], axis=1)\n",
    "        worker_event_send_time_df[\"SendTime\"] = worker_event_send_time_df.apply(lambda x: x[\"RecvTime\"] - x[\"StartTime\"], axis=1)\n",
    "        del worker_event_send_time_df[\"EventState\"]\n",
    "        \n",
    "        worker_event_send_time_dfs[worker_id] = worker_event_send_time_df\n",
    "        \n",
    "    return worker_event_send_time_dfs"
   ]
  },
  {
   "cell_type": "code",
   "execution_count": 17,
   "metadata": {},
   "outputs": [],
   "source": [
    "# worker_gms_send_time_dfs = calculate_send_time(coord_df, worker_dfs, \"GlobalModelSend\")"
   ]
  },
  {
   "cell_type": "code",
   "execution_count": 18,
   "metadata": {},
   "outputs": [],
   "source": [
    "# worker_gms_send_time_dfs['alice']['SendTime'].mean()"
   ]
  },
  {
   "cell_type": "code",
   "execution_count": 19,
   "metadata": {},
   "outputs": [],
   "source": [
    "# worker_gms_send_time_dfs['alice']"
   ]
  },
  {
   "cell_type": "code",
   "execution_count": 20,
   "metadata": {},
   "outputs": [],
   "source": [
    "# worker_gms_send_time_dfs['charlie']['SendTime'].mean()"
   ]
  },
  {
   "cell_type": "code",
   "execution_count": 21,
   "metadata": {},
   "outputs": [],
   "source": [
    "# coord_df = read_trace(trace_dir, coord_trace_file)\n",
    "# hpc1_df = read_trace(trace_dir, hpc1_trace_file, \"alice\")\n",
    "# hpc2_df = read_trace(trace_dir, hpc2_trace_file, \"bob\")\n",
    "# hpc3_df = read_trace(trace_dir, hpc3_trace_file, \"charlie\")"
   ]
  },
  {
   "cell_type": "markdown",
   "metadata": {},
   "source": [
    "## LocalTraining Duration"
   ]
  },
  {
   "cell_type": "code",
   "execution_count": 22,
   "metadata": {},
   "outputs": [
    {
     "name": "stdout",
     "output_type": "stream",
     "text": [
      "LocalTrainingDuration flvm-2 7.2970305442810055\n",
      "LocalTrainingDuration flvm-3 9.358078587055207\n",
      "LocalTrainingDuration flvm-4 6.418660485744477\n",
      "LocalTrainingDuration flvm-5 7.354958999156952\n",
      "LocalTrainingDuration flvm-6 8.44422767162323\n",
      "LocalTrainingDuration flvm-7 5.800836300849914\n",
      "LocalTrainingDuration flvm-8 7.598092746734619\n",
      "LocalTrainingDuration flvm-9 8.45603688955307\n",
      "LocalTrainingDuration flvm-10 6.092562031745911\n",
      "LocalTrainingDuration flvm-11 7.206096565723419\n",
      "LocalTrainingDuration flvm-12 9.471288347244263\n",
      "LocalTrainingDuration flvm-13 6.922492897510528\n"
     ]
    }
   ],
   "source": [
    "for worker_id in worker_dfs.keys():\n",
    "    lt_df = get_worker_duration(worker_id, worker_dfs, \"LocalTraining\")\n",
    "    print(\"LocalTrainingDuration\", worker_id, lt_df['Time'][1:].mean())"
   ]
  },
  {
   "cell_type": "markdown",
   "metadata": {},
   "source": [
    "## FitSagg Duration"
   ]
  },
  {
   "cell_type": "code",
   "execution_count": 23,
   "metadata": {},
   "outputs": [],
   "source": [
    "def get_coord_fitsagg_duration(coord_df, worker_id):\n",
    "    coord_event_df = coord_df[coord_df[\"EventType\"].str.contains(\"FitSagg\", regex=False)]\n",
    "    coord_event_df = coord_event_df[coord_event_df[\"ID\"] == worker_id]\n",
    "    coord_event_df = coord_event_df.reset_index()\n",
    "    \n",
    "    del coord_event_df['index']\n",
    "    \n",
    "    return coord_event_df"
   ]
  },
  {
   "cell_type": "code",
   "execution_count": 24,
   "metadata": {},
   "outputs": [
    {
     "name": "stdout",
     "output_type": "stream",
     "text": [
      "FitSaggDuration flvm-2 22.1480850815773\n",
      "FitSaggDuration flvm-3 21.69628118276596\n",
      "FitSaggDuration flvm-4 21.748558700084686\n",
      "FitSaggDuration flvm-5 21.784575867652894\n",
      "FitSaggDuration flvm-6 21.728962624073027\n",
      "FitSaggDuration flvm-7 21.758643019199372\n",
      "FitSaggDuration flvm-8 21.88845728635788\n",
      "FitSaggDuration flvm-9 21.72841008901596\n",
      "FitSaggDuration flvm-10 21.841166031360626\n",
      "FitSaggDuration flvm-11 22.02138956785202\n",
      "FitSaggDuration flvm-12 22.144763255119322\n",
      "FitSaggDuration flvm-13 22.094984889030457\n"
     ]
    }
   ],
   "source": [
    "for worker_id in worker_dfs.keys():\n",
    "    fs_df = get_coord_fitsagg_duration(coord_df, worker_id)\n",
    "    print(\"FitSaggDuration\", worker_id, fs_df['Time'][1:].mean())"
   ]
  },
  {
   "cell_type": "markdown",
   "metadata": {},
   "source": [
    "## EncryptMultiply Duration"
   ]
  },
  {
   "cell_type": "code",
   "execution_count": 26,
   "metadata": {},
   "outputs": [
    {
     "name": "stdout",
     "output_type": "stream",
     "text": [
      "EncryptMultiplyDuration flvm-2 14.525941503047942\n",
      "EncryptMultiplyDuration flvm-3 11.960908591747284\n",
      "EncryptMultiplyDuration flvm-4 14.996360528469086\n",
      "EncryptMultiplyDuration flvm-5 14.084626173973083\n",
      "EncryptMultiplyDuration flvm-6 12.925717628002166\n",
      "EncryptMultiplyDuration flvm-7 15.631257152557373\n",
      "EncryptMultiplyDuration flvm-8 13.904936039447785\n",
      "EncryptMultiplyDuration flvm-9 12.887753629684449\n",
      "EncryptMultiplyDuration flvm-10 15.362527978420257\n",
      "EncryptMultiplyDuration flvm-11 14.462584698200226\n",
      "EncryptMultiplyDuration flvm-12 12.294977128505707\n",
      "EncryptMultiplyDuration flvm-13 14.80768300294876\n"
     ]
    }
   ],
   "source": [
    "for worker_id in worker_dfs.keys():\n",
    "    em_df = get_worker_duration(worker_id, worker_dfs, \"EncryptMultiply\")\n",
    "    print(\"EncryptMultiplyDuration\", worker_id, em_df['Time'][1:].mean())"
   ]
  },
  {
   "cell_type": "markdown",
   "metadata": {},
   "source": [
    "## EncryptParameter Duration"
   ]
  },
  {
   "cell_type": "code",
   "execution_count": 27,
   "metadata": {},
   "outputs": [],
   "source": [
    "def get_encrypt_parameter_duration(worker_id, worker_dfs):\n",
    "    worker_df = worker_dfs[worker_id]\n",
    "    worker_ep_df = worker_df[worker_df[\"EventType\"].str.contains('EncryptParameter', regex=False)]\n",
    "    worker_ep_df = worker_ep_df.reset_index()\n",
    "    \n",
    "    del worker_ep_df[\"index\"]\n",
    "    del worker_ep_df[\"ID\"]\n",
    "    \n",
    "    return worker_ep_df\n",
    "    "
   ]
  },
  {
   "cell_type": "code",
   "execution_count": 28,
   "metadata": {},
   "outputs": [],
   "source": [
    "# # hpc1_ep_df = get_encrypt_parameter_duration(\"alice\", worker_dfs)\n",
    "# hpc1_ep_df = get_worker_duration(\"alice\", worker_dfs, \"EncryptParameter\")\n",
    "# hpc2_ep_df = get_worker_duration(\"bob\", worker_dfs, \"EncryptParameter\")\n",
    "# hpc3_ep_df = get_worker_duration(\"charlie\", worker_dfs, \"EncryptParameter\")"
   ]
  },
  {
   "cell_type": "code",
   "execution_count": 29,
   "metadata": {},
   "outputs": [],
   "source": [
    "# mean_values = []\n",
    "# for i in range(8):\n",
    "#     mean_value = hpc1_ep_df[hpc1_ep_df[\"EventType\"] == \"EncryptParameter\"+str(i)][\"Time\"].mean()\n",
    "#     mean_values.append(mean_value)\n",
    "#     print(str(i)+\":\", mean_value)"
   ]
  },
  {
   "cell_type": "code",
   "execution_count": 30,
   "metadata": {},
   "outputs": [],
   "source": [
    "# sum(mean_values)"
   ]
  },
  {
   "cell_type": "code",
   "execution_count": null,
   "metadata": {},
   "outputs": [],
   "source": []
  },
  {
   "cell_type": "code",
   "execution_count": 31,
   "metadata": {},
   "outputs": [],
   "source": [
    "# for i in range(8):\n",
    "#     mean_value = hpc2_ep_df[hpc1_ep_df[\"EventType\"] == \"EncryptParameter\"+str(i)][\"Time\"].mean()\n",
    "#     print(str(i)+\":\", mean_value)"
   ]
  },
  {
   "cell_type": "code",
   "execution_count": 32,
   "metadata": {},
   "outputs": [],
   "source": [
    "# for i in range(8):\n",
    "#     mean_value = hpc3_ep_df[hpc1_ep_df[\"EventType\"] == \"EncryptParameter\"+str(i)][\"Time\"].mean()\n",
    "#     print(str(i)+\":\", mean_value)"
   ]
  },
  {
   "cell_type": "markdown",
   "metadata": {},
   "source": [
    "## MultiplyParameter Duration"
   ]
  },
  {
   "cell_type": "code",
   "execution_count": 33,
   "metadata": {},
   "outputs": [],
   "source": [
    "def get_multiply_parameter_duration(worker_id, worker_dfs):\n",
    "    worker_df = worker_dfs[worker_id]\n",
    "    worker_ep_df = worker_df[worker_df[\"EventType\"].str.contains('MultiplyParameter', regex=False)]\n",
    "    worker_ep_df = worker_ep_df.reset_index()\n",
    "    \n",
    "    del worker_ep_df[\"index\"]\n",
    "    del worker_ep_df[\"ID\"]\n",
    "    \n",
    "    return worker_ep_df"
   ]
  },
  {
   "cell_type": "code",
   "execution_count": 34,
   "metadata": {},
   "outputs": [],
   "source": [
    "# # hpc1_mp_df = get_multiply_parameter_duration(\"alice\", worker_dfs)\n",
    "# hpc1_mp_df = get_worker_duration(\"alice\", worker_dfs, \"MultiplyParameter\")\n",
    "# hpc2_mp_df = get_worker_duration(\"bob\", worker_dfs, \"MultiplyParameter\")\n",
    "# hpc3_mp_df = get_worker_duration(\"charlie\", worker_dfs, \"MultiplyParameter\")"
   ]
  },
  {
   "cell_type": "code",
   "execution_count": 35,
   "metadata": {},
   "outputs": [],
   "source": [
    "# hpc1_mp_df[:8]"
   ]
  },
  {
   "cell_type": "code",
   "execution_count": 36,
   "metadata": {},
   "outputs": [],
   "source": [
    "# hpc1_mp_df[:8][\"Time\"].sum()"
   ]
  },
  {
   "cell_type": "markdown",
   "metadata": {},
   "source": [
    "## RetrieveTime duration"
   ]
  },
  {
   "cell_type": "code",
   "execution_count": 37,
   "metadata": {},
   "outputs": [],
   "source": [
    "def get_coord_retrieve_duration(coord_df, worker_id):\n",
    "    coord_event_df = coord_df[coord_df[\"EventType\"].str.contains(\"RetrieveTime\", regex=False)]\n",
    "    coord_event_df = coord_event_df[coord_event_df[\"ID\"] == worker_id]\n",
    "    coord_event_df = coord_event_df.reset_index()\n",
    "    \n",
    "    del coord_event_df['index']\n",
    "    \n",
    "    return coord_event_df"
   ]
  },
  {
   "cell_type": "code",
   "execution_count": 38,
   "metadata": {},
   "outputs": [
    {
     "name": "stdout",
     "output_type": "stream",
     "text": [
      "RetrieveTimeDuration flvm-2 0.011370086669921875\n",
      "RetrieveTimeDuration flvm-3 0.01518188714981079\n",
      "RetrieveTimeDuration flvm-4 0.013814663887023926\n",
      "RetrieveTimeDuration flvm-5 0.014360058307647704\n",
      "RetrieveTimeDuration flvm-6 0.012369930744171143\n",
      "RetrieveTimeDuration flvm-7 0.014160335063934326\n",
      "RetrieveTimeDuration flvm-8 0.012493717670440673\n",
      "RetrieveTimeDuration flvm-9 0.029947268962860107\n",
      "RetrieveTimeDuration flvm-10 0.03087482452392578\n",
      "RetrieveTimeDuration flvm-11 0.011914980411529542\n",
      "RetrieveTimeDuration flvm-12 0.014117348194122314\n",
      "RetrieveTimeDuration flvm-13 0.04642891883850098\n"
     ]
    }
   ],
   "source": [
    "for worker_id in worker_dfs.keys():\n",
    "    ret_df = get_coord_retrieve_duration(coord_df, worker_id)\n",
    "    print(\"RetrieveTimeDuration\", worker_id, ret_df[\"Time\"][1:].mean())"
   ]
  },
  {
   "cell_type": "markdown",
   "metadata": {},
   "source": [
    "## ShareSend Duration"
   ]
  },
  {
   "cell_type": "code",
   "execution_count": 39,
   "metadata": {},
   "outputs": [],
   "source": [
    "def calculate_share_send_duration(worker_id, worker_dfs, nr_parameters):\n",
    "    worker_df = worker_dfs[worker_id]\n",
    "    worker_send_share_df = worker_df[worker_df[\"EventType\"].str.contains('SendShare', regex=False)]\n",
    "    \n",
    "    worker_send_share_start_df = worker_send_share_df[worker_send_share_df[\"EventState\"] == 'start']\n",
    "    worker_send_share_start_df = worker_send_share_start_df.reset_index()\n",
    "    worker_send_share_start_df = worker_send_share_start_df[[\"WorkerID\", \"EventType\", \"ID\", \"Time\"]]\n",
    "    worker_send_share_start_df.columns = [\"WorkerID\", \"EventType\", \"ID\", \"StartTime\"]\n",
    "    \n",
    "    worker_send_share_end_df = worker_send_share_df[worker_send_share_df[\"EventState\"] == 'end']\n",
    "    worker_send_share_end_df = worker_send_share_end_df.reset_index()\n",
    "    \n",
    "    send_share_df_cat = pd.concat([worker_send_share_start_df, worker_send_share_end_df[\"Time\"]], axis=1)\n",
    "    send_share_df_cat.columns = [\"WorkerID\", \"EventType\", \"ID\", \"StartTime\", \"EndTime\"]\n",
    "    send_share_df_cat[\"Duration\"] = send_share_df_cat.apply(lambda x: x[\"EndTime\"] - x[\"StartTime\"], axis=1)\n",
    "    \n",
    "    parameter_index = []\n",
    "    nr_worker = len(worker_dfs)\n",
    "    p_index = -1\n",
    "\n",
    "    for i in range(len(send_share_df_cat)):\n",
    "        tmp_index = (i%nr_worker)\n",
    "        if tmp_index == 0:\n",
    "            p_index += 1\n",
    "            p_index = p_index % nr_parameters\n",
    "        parameter_index.append(p_index)\n",
    "        \n",
    "    send_share_df_cat.insert(2, \"p_idx\", parameter_index)\n",
    "    obj_id_list = send_share_df_cat.apply(lambda x: x[\"EventType\"].split(\"_\")[1], axis=1)\n",
    "    send_share_df_cat.insert(2, \"obj_id\", obj_id_list)\n",
    "    \n",
    "    del send_share_df_cat[\"EventType\"]\n",
    "    send_share_df_cat.insert(1, \"EventType\", \"SendShare\")\n",
    "    \n",
    "    return send_share_df_cat\n"
   ]
  },
  {
   "cell_type": "code",
   "execution_count": 40,
   "metadata": {},
   "outputs": [],
   "source": [
    "# alice_send_share_df_cat = calculate_share_send_duration(\"alice\", worker_dfs, 8)\n",
    "# bob_send_share_df_cat = calculate_share_send_duration(\"bob\", worker_dfs, 8)\n",
    "# charlie_send_share_df_cat = calculate_share_send_duration(\"charlie\", worker_dfs, 8)"
   ]
  },
  {
   "cell_type": "markdown",
   "metadata": {},
   "source": [
    "## ShareSend Send Time"
   ]
  },
  {
   "cell_type": "code",
   "execution_count": 41,
   "metadata": {},
   "outputs": [],
   "source": [
    "def calculate_share_send_time(sender_id, receiver_id, worker_dfs, nr_parameter):\n",
    "    sender_df = worker_dfs[sender_id]\n",
    "    receiver_df = worker_dfs[receiver_id]\n",
    "    \n",
    "    sender_send_share_df = sender_df[sender_df[\"EventType\"].str.contains('SendShare', regex=False)]\n",
    "    receiver_get_share_df = receiver_df[receiver_df[\"EventType\"].str.contains('GetShare', regex=False)]\n",
    "    \n",
    "    send_share_start_df = sender_send_share_df[(sender_send_share_df[\"ID\"] == receiver_id) & (sender_send_share_df[\"EventState\"] == 'start')]\n",
    "    get_share_df = receiver_get_share_df[receiver_get_share_df[\"ID\"] == sender_id]\n",
    "    send_share_start_df = send_share_start_df.reset_index()\n",
    "    get_share_df = get_share_df.reset_index()\n",
    "    \n",
    "    del send_share_start_df['index']\n",
    "    del send_share_start_df['EventState']\n",
    "    \n",
    "    send_time_df = pd.concat([send_share_start_df, get_share_df[\"Time\"]], axis=1)\n",
    "    send_time_df.columns = [\"WorkerID\", \"EventType\", \"ID\", \"StartTime\", \"RecvTime\"]\n",
    "    send_time_df[\"SendTime\"] = send_time_df.apply(lambda x: x[\"RecvTime\"] - x[\"StartTime\"], axis=1)\n",
    "    \n",
    "    nr_parameter = 8\n",
    "    parameter_index = []\n",
    "\n",
    "    for i in range(len(send_time_df)):\n",
    "        tmp_index = (i%nr_parameter)\n",
    "        parameter_index.append(tmp_index)\n",
    "        \n",
    "    send_time_df.insert(2, \"p_idx\", parameter_index)\n",
    "    \n",
    "    obj_id_list = send_time_df.apply(lambda x: x[\"EventType\"].split(\"_\")[1], axis=1)\n",
    "    send_time_df.insert(2, \"obj_id\", obj_id_list)\n",
    "    \n",
    "    del send_time_df[\"EventType\"]\n",
    "    send_time_df.insert(1, \"EventType\", \"SendShare\")\n",
    "    \n",
    "    return send_time_df"
   ]
  },
  {
   "cell_type": "code",
   "execution_count": 42,
   "metadata": {},
   "outputs": [],
   "source": [
    "# send_time_df = calculate_share_send_time(\"alice\", \"bob\", worker_dfs, 8)"
   ]
  },
  {
   "cell_type": "markdown",
   "metadata": {},
   "source": [
    "## AllWorkersTrainingTime Duration"
   ]
  },
  {
   "cell_type": "code",
   "execution_count": 43,
   "metadata": {},
   "outputs": [],
   "source": [
    "coord_awtt_df = get_coord_duration(coord_df, \"AllWorkersTrainingTime\")"
   ]
  },
  {
   "cell_type": "code",
   "execution_count": 44,
   "metadata": {},
   "outputs": [
    {
     "data": {
      "text/plain": [
       "22.249258148670197"
      ]
     },
     "execution_count": 44,
     "metadata": {},
     "output_type": "execute_result"
    }
   ],
   "source": [
    "coord_awtt_df['Time'][1:].mean()"
   ]
  },
  {
   "cell_type": "code",
   "execution_count": 45,
   "metadata": {},
   "outputs": [
    {
     "data": {
      "text/html": [
       "<div>\n",
       "<style scoped>\n",
       "    .dataframe tbody tr th:only-of-type {\n",
       "        vertical-align: middle;\n",
       "    }\n",
       "\n",
       "    .dataframe tbody tr th {\n",
       "        vertical-align: top;\n",
       "    }\n",
       "\n",
       "    .dataframe thead th {\n",
       "        text-align: right;\n",
       "    }\n",
       "</style>\n",
       "<table border=\"1\" class=\"dataframe\">\n",
       "  <thead>\n",
       "    <tr style=\"text-align: right;\">\n",
       "      <th></th>\n",
       "      <th>EventType</th>\n",
       "      <th>EventState</th>\n",
       "      <th>Time</th>\n",
       "    </tr>\n",
       "  </thead>\n",
       "  <tbody>\n",
       "    <tr>\n",
       "      <th>0</th>\n",
       "      <td>AllWorkersTrainingTime</td>\n",
       "      <td>duration</td>\n",
       "      <td>22.346575</td>\n",
       "    </tr>\n",
       "    <tr>\n",
       "      <th>1</th>\n",
       "      <td>AllWorkersTrainingTime</td>\n",
       "      <td>duration</td>\n",
       "      <td>21.525356</td>\n",
       "    </tr>\n",
       "    <tr>\n",
       "      <th>2</th>\n",
       "      <td>AllWorkersTrainingTime</td>\n",
       "      <td>duration</td>\n",
       "      <td>20.572899</td>\n",
       "    </tr>\n",
       "    <tr>\n",
       "      <th>3</th>\n",
       "      <td>AllWorkersTrainingTime</td>\n",
       "      <td>duration</td>\n",
       "      <td>22.773884</td>\n",
       "    </tr>\n",
       "    <tr>\n",
       "      <th>4</th>\n",
       "      <td>AllWorkersTrainingTime</td>\n",
       "      <td>duration</td>\n",
       "      <td>22.912983</td>\n",
       "    </tr>\n",
       "    <tr>\n",
       "      <th>5</th>\n",
       "      <td>AllWorkersTrainingTime</td>\n",
       "      <td>duration</td>\n",
       "      <td>21.939624</td>\n",
       "    </tr>\n",
       "    <tr>\n",
       "      <th>6</th>\n",
       "      <td>AllWorkersTrainingTime</td>\n",
       "      <td>duration</td>\n",
       "      <td>21.741649</td>\n",
       "    </tr>\n",
       "    <tr>\n",
       "      <th>7</th>\n",
       "      <td>AllWorkersTrainingTime</td>\n",
       "      <td>duration</td>\n",
       "      <td>22.493547</td>\n",
       "    </tr>\n",
       "    <tr>\n",
       "      <th>8</th>\n",
       "      <td>AllWorkersTrainingTime</td>\n",
       "      <td>duration</td>\n",
       "      <td>22.373742</td>\n",
       "    </tr>\n",
       "    <tr>\n",
       "      <th>9</th>\n",
       "      <td>AllWorkersTrainingTime</td>\n",
       "      <td>duration</td>\n",
       "      <td>22.001366</td>\n",
       "    </tr>\n",
       "    <tr>\n",
       "      <th>10</th>\n",
       "      <td>AllWorkersTrainingTime</td>\n",
       "      <td>duration</td>\n",
       "      <td>23.997254</td>\n",
       "    </tr>\n",
       "    <tr>\n",
       "      <th>11</th>\n",
       "      <td>AllWorkersTrainingTime</td>\n",
       "      <td>duration</td>\n",
       "      <td>22.028172</td>\n",
       "    </tr>\n",
       "    <tr>\n",
       "      <th>12</th>\n",
       "      <td>AllWorkersTrainingTime</td>\n",
       "      <td>duration</td>\n",
       "      <td>21.249144</td>\n",
       "    </tr>\n",
       "    <tr>\n",
       "      <th>13</th>\n",
       "      <td>AllWorkersTrainingTime</td>\n",
       "      <td>duration</td>\n",
       "      <td>21.151743</td>\n",
       "    </tr>\n",
       "    <tr>\n",
       "      <th>14</th>\n",
       "      <td>AllWorkersTrainingTime</td>\n",
       "      <td>duration</td>\n",
       "      <td>23.316075</td>\n",
       "    </tr>\n",
       "    <tr>\n",
       "      <th>15</th>\n",
       "      <td>AllWorkersTrainingTime</td>\n",
       "      <td>duration</td>\n",
       "      <td>21.887788</td>\n",
       "    </tr>\n",
       "    <tr>\n",
       "      <th>16</th>\n",
       "      <td>AllWorkersTrainingTime</td>\n",
       "      <td>duration</td>\n",
       "      <td>21.176531</td>\n",
       "    </tr>\n",
       "    <tr>\n",
       "      <th>17</th>\n",
       "      <td>AllWorkersTrainingTime</td>\n",
       "      <td>duration</td>\n",
       "      <td>21.890710</td>\n",
       "    </tr>\n",
       "    <tr>\n",
       "      <th>18</th>\n",
       "      <td>AllWorkersTrainingTime</td>\n",
       "      <td>duration</td>\n",
       "      <td>24.027315</td>\n",
       "    </tr>\n",
       "    <tr>\n",
       "      <th>19</th>\n",
       "      <td>AllWorkersTrainingTime</td>\n",
       "      <td>duration</td>\n",
       "      <td>22.998352</td>\n",
       "    </tr>\n",
       "    <tr>\n",
       "      <th>20</th>\n",
       "      <td>AllWorkersTrainingTime</td>\n",
       "      <td>duration</td>\n",
       "      <td>22.927031</td>\n",
       "    </tr>\n",
       "  </tbody>\n",
       "</table>\n",
       "</div>"
      ],
      "text/plain": [
       "                 EventType EventState       Time\n",
       "0   AllWorkersTrainingTime   duration  22.346575\n",
       "1   AllWorkersTrainingTime   duration  21.525356\n",
       "2   AllWorkersTrainingTime   duration  20.572899\n",
       "3   AllWorkersTrainingTime   duration  22.773884\n",
       "4   AllWorkersTrainingTime   duration  22.912983\n",
       "5   AllWorkersTrainingTime   duration  21.939624\n",
       "6   AllWorkersTrainingTime   duration  21.741649\n",
       "7   AllWorkersTrainingTime   duration  22.493547\n",
       "8   AllWorkersTrainingTime   duration  22.373742\n",
       "9   AllWorkersTrainingTime   duration  22.001366\n",
       "10  AllWorkersTrainingTime   duration  23.997254\n",
       "11  AllWorkersTrainingTime   duration  22.028172\n",
       "12  AllWorkersTrainingTime   duration  21.249144\n",
       "13  AllWorkersTrainingTime   duration  21.151743\n",
       "14  AllWorkersTrainingTime   duration  23.316075\n",
       "15  AllWorkersTrainingTime   duration  21.887788\n",
       "16  AllWorkersTrainingTime   duration  21.176531\n",
       "17  AllWorkersTrainingTime   duration  21.890710\n",
       "18  AllWorkersTrainingTime   duration  24.027315\n",
       "19  AllWorkersTrainingTime   duration  22.998352\n",
       "20  AllWorkersTrainingTime   duration  22.927031"
      ]
     },
     "execution_count": 45,
     "metadata": {},
     "output_type": "execute_result"
    }
   ],
   "source": [
    "coord_awtt_df"
   ]
  },
  {
   "cell_type": "markdown",
   "metadata": {},
   "source": [
    "## AggregationTime"
   ]
  },
  {
   "cell_type": "code",
   "execution_count": 46,
   "metadata": {},
   "outputs": [],
   "source": [
    "coord_aggt_df = get_coord_duration(coord_df, \"AggregationTime\")"
   ]
  },
  {
   "cell_type": "code",
   "execution_count": 47,
   "metadata": {},
   "outputs": [
    {
     "data": {
      "text/plain": [
       "1.9175887942314147"
      ]
     },
     "execution_count": 47,
     "metadata": {},
     "output_type": "execute_result"
    }
   ],
   "source": [
    "coord_aggt_df[\"Time\"][1:].mean()"
   ]
  },
  {
   "cell_type": "code",
   "execution_count": 48,
   "metadata": {},
   "outputs": [
    {
     "data": {
      "text/html": [
       "<div>\n",
       "<style scoped>\n",
       "    .dataframe tbody tr th:only-of-type {\n",
       "        vertical-align: middle;\n",
       "    }\n",
       "\n",
       "    .dataframe tbody tr th {\n",
       "        vertical-align: top;\n",
       "    }\n",
       "\n",
       "    .dataframe thead th {\n",
       "        text-align: right;\n",
       "    }\n",
       "</style>\n",
       "<table border=\"1\" class=\"dataframe\">\n",
       "  <thead>\n",
       "    <tr style=\"text-align: right;\">\n",
       "      <th></th>\n",
       "      <th>EventType</th>\n",
       "      <th>EventState</th>\n",
       "      <th>Time</th>\n",
       "    </tr>\n",
       "  </thead>\n",
       "  <tbody>\n",
       "    <tr>\n",
       "      <th>0</th>\n",
       "      <td>AggregationTime</td>\n",
       "      <td>duration</td>\n",
       "      <td>1.888433</td>\n",
       "    </tr>\n",
       "    <tr>\n",
       "      <th>1</th>\n",
       "      <td>AggregationTime</td>\n",
       "      <td>duration</td>\n",
       "      <td>2.052640</td>\n",
       "    </tr>\n",
       "    <tr>\n",
       "      <th>2</th>\n",
       "      <td>AggregationTime</td>\n",
       "      <td>duration</td>\n",
       "      <td>1.919819</td>\n",
       "    </tr>\n",
       "    <tr>\n",
       "      <th>3</th>\n",
       "      <td>AggregationTime</td>\n",
       "      <td>duration</td>\n",
       "      <td>2.011430</td>\n",
       "    </tr>\n",
       "    <tr>\n",
       "      <th>4</th>\n",
       "      <td>AggregationTime</td>\n",
       "      <td>duration</td>\n",
       "      <td>1.841063</td>\n",
       "    </tr>\n",
       "    <tr>\n",
       "      <th>5</th>\n",
       "      <td>AggregationTime</td>\n",
       "      <td>duration</td>\n",
       "      <td>2.017970</td>\n",
       "    </tr>\n",
       "    <tr>\n",
       "      <th>6</th>\n",
       "      <td>AggregationTime</td>\n",
       "      <td>duration</td>\n",
       "      <td>1.969205</td>\n",
       "    </tr>\n",
       "    <tr>\n",
       "      <th>7</th>\n",
       "      <td>AggregationTime</td>\n",
       "      <td>duration</td>\n",
       "      <td>1.968130</td>\n",
       "    </tr>\n",
       "    <tr>\n",
       "      <th>8</th>\n",
       "      <td>AggregationTime</td>\n",
       "      <td>duration</td>\n",
       "      <td>1.896335</td>\n",
       "    </tr>\n",
       "    <tr>\n",
       "      <th>9</th>\n",
       "      <td>AggregationTime</td>\n",
       "      <td>duration</td>\n",
       "      <td>1.918465</td>\n",
       "    </tr>\n",
       "    <tr>\n",
       "      <th>10</th>\n",
       "      <td>AggregationTime</td>\n",
       "      <td>duration</td>\n",
       "      <td>1.920839</td>\n",
       "    </tr>\n",
       "    <tr>\n",
       "      <th>11</th>\n",
       "      <td>AggregationTime</td>\n",
       "      <td>duration</td>\n",
       "      <td>1.841745</td>\n",
       "    </tr>\n",
       "    <tr>\n",
       "      <th>12</th>\n",
       "      <td>AggregationTime</td>\n",
       "      <td>duration</td>\n",
       "      <td>1.875591</td>\n",
       "    </tr>\n",
       "    <tr>\n",
       "      <th>13</th>\n",
       "      <td>AggregationTime</td>\n",
       "      <td>duration</td>\n",
       "      <td>1.929918</td>\n",
       "    </tr>\n",
       "    <tr>\n",
       "      <th>14</th>\n",
       "      <td>AggregationTime</td>\n",
       "      <td>duration</td>\n",
       "      <td>1.921145</td>\n",
       "    </tr>\n",
       "    <tr>\n",
       "      <th>15</th>\n",
       "      <td>AggregationTime</td>\n",
       "      <td>duration</td>\n",
       "      <td>1.809591</td>\n",
       "    </tr>\n",
       "    <tr>\n",
       "      <th>16</th>\n",
       "      <td>AggregationTime</td>\n",
       "      <td>duration</td>\n",
       "      <td>1.791806</td>\n",
       "    </tr>\n",
       "    <tr>\n",
       "      <th>17</th>\n",
       "      <td>AggregationTime</td>\n",
       "      <td>duration</td>\n",
       "      <td>1.849721</td>\n",
       "    </tr>\n",
       "    <tr>\n",
       "      <th>18</th>\n",
       "      <td>AggregationTime</td>\n",
       "      <td>duration</td>\n",
       "      <td>1.971859</td>\n",
       "    </tr>\n",
       "    <tr>\n",
       "      <th>19</th>\n",
       "      <td>AggregationTime</td>\n",
       "      <td>duration</td>\n",
       "      <td>1.869386</td>\n",
       "    </tr>\n",
       "    <tr>\n",
       "      <th>20</th>\n",
       "      <td>AggregationTime</td>\n",
       "      <td>duration</td>\n",
       "      <td>1.975117</td>\n",
       "    </tr>\n",
       "  </tbody>\n",
       "</table>\n",
       "</div>"
      ],
      "text/plain": [
       "          EventType EventState      Time\n",
       "0   AggregationTime   duration  1.888433\n",
       "1   AggregationTime   duration  2.052640\n",
       "2   AggregationTime   duration  1.919819\n",
       "3   AggregationTime   duration  2.011430\n",
       "4   AggregationTime   duration  1.841063\n",
       "5   AggregationTime   duration  2.017970\n",
       "6   AggregationTime   duration  1.969205\n",
       "7   AggregationTime   duration  1.968130\n",
       "8   AggregationTime   duration  1.896335\n",
       "9   AggregationTime   duration  1.918465\n",
       "10  AggregationTime   duration  1.920839\n",
       "11  AggregationTime   duration  1.841745\n",
       "12  AggregationTime   duration  1.875591\n",
       "13  AggregationTime   duration  1.929918\n",
       "14  AggregationTime   duration  1.921145\n",
       "15  AggregationTime   duration  1.809591\n",
       "16  AggregationTime   duration  1.791806\n",
       "17  AggregationTime   duration  1.849721\n",
       "18  AggregationTime   duration  1.971859\n",
       "19  AggregationTime   duration  1.869386\n",
       "20  AggregationTime   duration  1.975117"
      ]
     },
     "execution_count": 48,
     "metadata": {},
     "output_type": "execute_result"
    }
   ],
   "source": [
    "coord_aggt_df"
   ]
  },
  {
   "cell_type": "markdown",
   "metadata": {},
   "source": [
    "## DecryptionTime"
   ]
  },
  {
   "cell_type": "code",
   "execution_count": 49,
   "metadata": {},
   "outputs": [],
   "source": [
    "coord_decrypt_df = get_coord_duration(coord_df, \"DecryptionTime\")"
   ]
  },
  {
   "cell_type": "code",
   "execution_count": 50,
   "metadata": {},
   "outputs": [
    {
     "data": {
      "text/plain": [
       "0.3619753956794739"
      ]
     },
     "execution_count": 50,
     "metadata": {},
     "output_type": "execute_result"
    }
   ],
   "source": [
    "coord_decrypt_df['Time'][1:].mean()"
   ]
  },
  {
   "cell_type": "code",
   "execution_count": 51,
   "metadata": {},
   "outputs": [
    {
     "data": {
      "text/html": [
       "<div>\n",
       "<style scoped>\n",
       "    .dataframe tbody tr th:only-of-type {\n",
       "        vertical-align: middle;\n",
       "    }\n",
       "\n",
       "    .dataframe tbody tr th {\n",
       "        vertical-align: top;\n",
       "    }\n",
       "\n",
       "    .dataframe thead th {\n",
       "        text-align: right;\n",
       "    }\n",
       "</style>\n",
       "<table border=\"1\" class=\"dataframe\">\n",
       "  <thead>\n",
       "    <tr style=\"text-align: right;\">\n",
       "      <th></th>\n",
       "      <th>EventType</th>\n",
       "      <th>EventState</th>\n",
       "      <th>Time</th>\n",
       "    </tr>\n",
       "  </thead>\n",
       "  <tbody>\n",
       "    <tr>\n",
       "      <th>0</th>\n",
       "      <td>DecryptionTime</td>\n",
       "      <td>duration</td>\n",
       "      <td>0.364583</td>\n",
       "    </tr>\n",
       "    <tr>\n",
       "      <th>1</th>\n",
       "      <td>DecryptionTime</td>\n",
       "      <td>duration</td>\n",
       "      <td>0.366611</td>\n",
       "    </tr>\n",
       "    <tr>\n",
       "      <th>2</th>\n",
       "      <td>DecryptionTime</td>\n",
       "      <td>duration</td>\n",
       "      <td>0.354712</td>\n",
       "    </tr>\n",
       "    <tr>\n",
       "      <th>3</th>\n",
       "      <td>DecryptionTime</td>\n",
       "      <td>duration</td>\n",
       "      <td>0.380493</td>\n",
       "    </tr>\n",
       "    <tr>\n",
       "      <th>4</th>\n",
       "      <td>DecryptionTime</td>\n",
       "      <td>duration</td>\n",
       "      <td>0.359309</td>\n",
       "    </tr>\n",
       "    <tr>\n",
       "      <th>5</th>\n",
       "      <td>DecryptionTime</td>\n",
       "      <td>duration</td>\n",
       "      <td>0.365365</td>\n",
       "    </tr>\n",
       "    <tr>\n",
       "      <th>6</th>\n",
       "      <td>DecryptionTime</td>\n",
       "      <td>duration</td>\n",
       "      <td>0.377740</td>\n",
       "    </tr>\n",
       "    <tr>\n",
       "      <th>7</th>\n",
       "      <td>DecryptionTime</td>\n",
       "      <td>duration</td>\n",
       "      <td>0.362204</td>\n",
       "    </tr>\n",
       "    <tr>\n",
       "      <th>8</th>\n",
       "      <td>DecryptionTime</td>\n",
       "      <td>duration</td>\n",
       "      <td>0.362259</td>\n",
       "    </tr>\n",
       "    <tr>\n",
       "      <th>9</th>\n",
       "      <td>DecryptionTime</td>\n",
       "      <td>duration</td>\n",
       "      <td>0.355664</td>\n",
       "    </tr>\n",
       "    <tr>\n",
       "      <th>10</th>\n",
       "      <td>DecryptionTime</td>\n",
       "      <td>duration</td>\n",
       "      <td>0.338382</td>\n",
       "    </tr>\n",
       "    <tr>\n",
       "      <th>11</th>\n",
       "      <td>DecryptionTime</td>\n",
       "      <td>duration</td>\n",
       "      <td>0.369240</td>\n",
       "    </tr>\n",
       "    <tr>\n",
       "      <th>12</th>\n",
       "      <td>DecryptionTime</td>\n",
       "      <td>duration</td>\n",
       "      <td>0.379152</td>\n",
       "    </tr>\n",
       "    <tr>\n",
       "      <th>13</th>\n",
       "      <td>DecryptionTime</td>\n",
       "      <td>duration</td>\n",
       "      <td>0.350304</td>\n",
       "    </tr>\n",
       "    <tr>\n",
       "      <th>14</th>\n",
       "      <td>DecryptionTime</td>\n",
       "      <td>duration</td>\n",
       "      <td>0.371447</td>\n",
       "    </tr>\n",
       "    <tr>\n",
       "      <th>15</th>\n",
       "      <td>DecryptionTime</td>\n",
       "      <td>duration</td>\n",
       "      <td>0.332051</td>\n",
       "    </tr>\n",
       "    <tr>\n",
       "      <th>16</th>\n",
       "      <td>DecryptionTime</td>\n",
       "      <td>duration</td>\n",
       "      <td>0.348320</td>\n",
       "    </tr>\n",
       "    <tr>\n",
       "      <th>17</th>\n",
       "      <td>DecryptionTime</td>\n",
       "      <td>duration</td>\n",
       "      <td>0.360965</td>\n",
       "    </tr>\n",
       "    <tr>\n",
       "      <th>18</th>\n",
       "      <td>DecryptionTime</td>\n",
       "      <td>duration</td>\n",
       "      <td>0.374947</td>\n",
       "    </tr>\n",
       "    <tr>\n",
       "      <th>19</th>\n",
       "      <td>DecryptionTime</td>\n",
       "      <td>duration</td>\n",
       "      <td>0.355444</td>\n",
       "    </tr>\n",
       "    <tr>\n",
       "      <th>20</th>\n",
       "      <td>DecryptionTime</td>\n",
       "      <td>duration</td>\n",
       "      <td>0.374898</td>\n",
       "    </tr>\n",
       "  </tbody>\n",
       "</table>\n",
       "</div>"
      ],
      "text/plain": [
       "         EventType EventState      Time\n",
       "0   DecryptionTime   duration  0.364583\n",
       "1   DecryptionTime   duration  0.366611\n",
       "2   DecryptionTime   duration  0.354712\n",
       "3   DecryptionTime   duration  0.380493\n",
       "4   DecryptionTime   duration  0.359309\n",
       "5   DecryptionTime   duration  0.365365\n",
       "6   DecryptionTime   duration  0.377740\n",
       "7   DecryptionTime   duration  0.362204\n",
       "8   DecryptionTime   duration  0.362259\n",
       "9   DecryptionTime   duration  0.355664\n",
       "10  DecryptionTime   duration  0.338382\n",
       "11  DecryptionTime   duration  0.369240\n",
       "12  DecryptionTime   duration  0.379152\n",
       "13  DecryptionTime   duration  0.350304\n",
       "14  DecryptionTime   duration  0.371447\n",
       "15  DecryptionTime   duration  0.332051\n",
       "16  DecryptionTime   duration  0.348320\n",
       "17  DecryptionTime   duration  0.360965\n",
       "18  DecryptionTime   duration  0.374947\n",
       "19  DecryptionTime   duration  0.355444\n",
       "20  DecryptionTime   duration  0.374898"
      ]
     },
     "execution_count": 51,
     "metadata": {},
     "output_type": "execute_result"
    }
   ],
   "source": [
    "coord_decrypt_df"
   ]
  },
  {
   "cell_type": "markdown",
   "metadata": {},
   "source": [
    "## RoundTime"
   ]
  },
  {
   "cell_type": "code",
   "execution_count": 52,
   "metadata": {},
   "outputs": [],
   "source": [
    "coord_round_time_df = get_coord_duration(coord_df, \"RoundTime\")"
   ]
  },
  {
   "cell_type": "code",
   "execution_count": 53,
   "metadata": {},
   "outputs": [
    {
     "data": {
      "text/plain": [
       "25.242705980936687"
      ]
     },
     "execution_count": 53,
     "metadata": {},
     "output_type": "execute_result"
    }
   ],
   "source": [
    "coord_round_time_df[\"Time\"].mean()"
   ]
  },
  {
   "cell_type": "code",
   "execution_count": 53,
   "metadata": {},
   "outputs": [
    {
     "data": {
      "text/html": [
       "<div>\n",
       "<style scoped>\n",
       "    .dataframe tbody tr th:only-of-type {\n",
       "        vertical-align: middle;\n",
       "    }\n",
       "\n",
       "    .dataframe tbody tr th {\n",
       "        vertical-align: top;\n",
       "    }\n",
       "\n",
       "    .dataframe thead th {\n",
       "        text-align: right;\n",
       "    }\n",
       "</style>\n",
       "<table border=\"1\" class=\"dataframe\">\n",
       "  <thead>\n",
       "    <tr style=\"text-align: right;\">\n",
       "      <th></th>\n",
       "      <th>EventType</th>\n",
       "      <th>EventState</th>\n",
       "      <th>Time</th>\n",
       "    </tr>\n",
       "  </thead>\n",
       "  <tbody>\n",
       "    <tr>\n",
       "      <th>0</th>\n",
       "      <td>RoundTime</td>\n",
       "      <td>duration</td>\n",
       "      <td>15.261874</td>\n",
       "    </tr>\n",
       "    <tr>\n",
       "      <th>1</th>\n",
       "      <td>RoundTime</td>\n",
       "      <td>duration</td>\n",
       "      <td>15.257234</td>\n",
       "    </tr>\n",
       "    <tr>\n",
       "      <th>2</th>\n",
       "      <td>RoundTime</td>\n",
       "      <td>duration</td>\n",
       "      <td>15.425665</td>\n",
       "    </tr>\n",
       "    <tr>\n",
       "      <th>3</th>\n",
       "      <td>RoundTime</td>\n",
       "      <td>duration</td>\n",
       "      <td>15.299137</td>\n",
       "    </tr>\n",
       "    <tr>\n",
       "      <th>4</th>\n",
       "      <td>RoundTime</td>\n",
       "      <td>duration</td>\n",
       "      <td>15.608480</td>\n",
       "    </tr>\n",
       "    <tr>\n",
       "      <th>5</th>\n",
       "      <td>RoundTime</td>\n",
       "      <td>duration</td>\n",
       "      <td>15.205121</td>\n",
       "    </tr>\n",
       "    <tr>\n",
       "      <th>6</th>\n",
       "      <td>RoundTime</td>\n",
       "      <td>duration</td>\n",
       "      <td>16.361328</td>\n",
       "    </tr>\n",
       "    <tr>\n",
       "      <th>7</th>\n",
       "      <td>RoundTime</td>\n",
       "      <td>duration</td>\n",
       "      <td>15.100507</td>\n",
       "    </tr>\n",
       "    <tr>\n",
       "      <th>8</th>\n",
       "      <td>RoundTime</td>\n",
       "      <td>duration</td>\n",
       "      <td>15.772338</td>\n",
       "    </tr>\n",
       "    <tr>\n",
       "      <th>9</th>\n",
       "      <td>RoundTime</td>\n",
       "      <td>duration</td>\n",
       "      <td>15.867190</td>\n",
       "    </tr>\n",
       "    <tr>\n",
       "      <th>10</th>\n",
       "      <td>RoundTime</td>\n",
       "      <td>duration</td>\n",
       "      <td>15.988202</td>\n",
       "    </tr>\n",
       "    <tr>\n",
       "      <th>11</th>\n",
       "      <td>RoundTime</td>\n",
       "      <td>duration</td>\n",
       "      <td>16.282331</td>\n",
       "    </tr>\n",
       "    <tr>\n",
       "      <th>12</th>\n",
       "      <td>RoundTime</td>\n",
       "      <td>duration</td>\n",
       "      <td>15.293309</td>\n",
       "    </tr>\n",
       "    <tr>\n",
       "      <th>13</th>\n",
       "      <td>RoundTime</td>\n",
       "      <td>duration</td>\n",
       "      <td>15.672807</td>\n",
       "    </tr>\n",
       "    <tr>\n",
       "      <th>14</th>\n",
       "      <td>RoundTime</td>\n",
       "      <td>duration</td>\n",
       "      <td>16.348728</td>\n",
       "    </tr>\n",
       "    <tr>\n",
       "      <th>15</th>\n",
       "      <td>RoundTime</td>\n",
       "      <td>duration</td>\n",
       "      <td>15.230392</td>\n",
       "    </tr>\n",
       "    <tr>\n",
       "      <th>16</th>\n",
       "      <td>RoundTime</td>\n",
       "      <td>duration</td>\n",
       "      <td>15.261174</td>\n",
       "    </tr>\n",
       "    <tr>\n",
       "      <th>17</th>\n",
       "      <td>RoundTime</td>\n",
       "      <td>duration</td>\n",
       "      <td>15.734122</td>\n",
       "    </tr>\n",
       "    <tr>\n",
       "      <th>18</th>\n",
       "      <td>RoundTime</td>\n",
       "      <td>duration</td>\n",
       "      <td>15.659360</td>\n",
       "    </tr>\n",
       "    <tr>\n",
       "      <th>19</th>\n",
       "      <td>RoundTime</td>\n",
       "      <td>duration</td>\n",
       "      <td>15.704296</td>\n",
       "    </tr>\n",
       "    <tr>\n",
       "      <th>20</th>\n",
       "      <td>RoundTime</td>\n",
       "      <td>duration</td>\n",
       "      <td>15.173604</td>\n",
       "    </tr>\n",
       "  </tbody>\n",
       "</table>\n",
       "</div>"
      ],
      "text/plain": [
       "    EventType EventState       Time\n",
       "0   RoundTime   duration  15.261874\n",
       "1   RoundTime   duration  15.257234\n",
       "2   RoundTime   duration  15.425665\n",
       "3   RoundTime   duration  15.299137\n",
       "4   RoundTime   duration  15.608480\n",
       "5   RoundTime   duration  15.205121\n",
       "6   RoundTime   duration  16.361328\n",
       "7   RoundTime   duration  15.100507\n",
       "8   RoundTime   duration  15.772338\n",
       "9   RoundTime   duration  15.867190\n",
       "10  RoundTime   duration  15.988202\n",
       "11  RoundTime   duration  16.282331\n",
       "12  RoundTime   duration  15.293309\n",
       "13  RoundTime   duration  15.672807\n",
       "14  RoundTime   duration  16.348728\n",
       "15  RoundTime   duration  15.230392\n",
       "16  RoundTime   duration  15.261174\n",
       "17  RoundTime   duration  15.734122\n",
       "18  RoundTime   duration  15.659360\n",
       "19  RoundTime   duration  15.704296\n",
       "20  RoundTime   duration  15.173604"
      ]
     },
     "execution_count": 53,
     "metadata": {},
     "output_type": "execute_result"
    }
   ],
   "source": [
    "coord_round_time_df"
   ]
  },
  {
   "cell_type": "code",
   "execution_count": null,
   "metadata": {},
   "outputs": [],
   "source": []
  },
  {
   "cell_type": "code",
   "execution_count": null,
   "metadata": {},
   "outputs": [],
   "source": []
  }
 ],
 "metadata": {
  "kernelspec": {
   "display_name": "Python 3",
   "language": "python",
   "name": "python3"
  },
  "language_info": {
   "codemirror_mode": {
    "name": "ipython",
    "version": 3
   },
   "file_extension": ".py",
   "mimetype": "text/x-python",
   "name": "python",
   "nbconvert_exporter": "python",
   "pygments_lexer": "ipython3",
   "version": "3.6.10"
  }
 },
 "nbformat": 4,
 "nbformat_minor": 4
}

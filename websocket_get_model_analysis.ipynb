{
 "cells": [
  {
   "cell_type": "code",
   "execution_count": 1,
   "metadata": {},
   "outputs": [],
   "source": [
    "import os\n",
    "from io import StringIO\n",
    "import numpy as np\n",
    "import pandas as pd\n",
    "from pandas import Series, DataFrame\n",
    "import matplotlib.pyplot as plt\n",
    "\n",
    "# data1 = [23,85, 72, 43, 52]\n",
    "# data2 = [42, 35, 21, 16, 9]\n",
    "# plt.bar(range(len(data1)), data1)\n",
    "# plt.bar(range(len(data2)), data2, bottom=data1)"
   ]
  },
  {
   "cell_type": "code",
   "execution_count": 2,
   "metadata": {},
   "outputs": [],
   "source": [
    "def average(lst): \n",
    "    return sum(lst) / len(lst)"
   ]
  },
  {
   "cell_type": "code",
   "execution_count": 4,
   "metadata": {},
   "outputs": [],
   "source": [
    "bw_list = [\"10M\", \"100M\", \"500M\", \"1000M\"]\n",
    "\n",
    "comm_time_dict = {}\n",
    "deserial_time_dict = {}\n",
    "get_time_dict = {}\n",
    "\n",
    "for bw in bw_list:\n",
    "    trace_dir = \"/home/posheng/billy_ws/fl_025/paslab/trace/get_model_analysis/node_num_5000000/\"\n",
    "    coord_trace_file = \"coord_\" + bw + \".txt\"\n",
    "    trace_filepath = os.path.join(trace_dir, coord_trace_file)\n",
    "    \n",
    "    with open(trace_filepath,\"r\") as rf:\n",
    "        new_trace = StringIO()\n",
    "        line = rf.readline()\n",
    "        while line:\n",
    "            line_list = line.split()\n",
    "            if line_list[0] == \"[trace]\" or line_list[0] == \"[PROF]\":\n",
    "                new_trace.write(line)\n",
    "            line = rf.readline()\n",
    "\n",
    "    new_trace.seek(0)\n",
    "    df = pd.read_csv(new_trace, sep=\" \", names=[\"InfoType\", \"EventType\", \"EventState\", \"ID\", \"Time\"])\n",
    "    del df[\"InfoType\"]\n",
    "    \n",
    "    get_time_index = list(df[df[\"EventType\"] == \"GetTime\"].index)\n",
    "    \n",
    "    comm_time_list = []\n",
    "    deserial_time_list = []\n",
    "    get_time_list = []\n",
    "    for idx in get_time_index[1:]:\n",
    "        comm_time_list.append(df.loc[idx-2][\"Time\"])\n",
    "        deserial_time_list.append(df.loc[idx-1][\"Time\"])\n",
    "        get_time_list.append(df.loc[idx][\"Time\"])\n",
    "        \n",
    "    comm_time_dict[bw] = average(comm_time_list)\n",
    "    deserial_time_dict[bw] = average(deserial_time_list)\n",
    "    get_time_dict[bw] = average(get_time_list)"
   ]
  },
  {
   "cell_type": "code",
   "execution_count": 5,
   "metadata": {},
   "outputs": [
    {
     "data": {
      "text/plain": [
       "{'10M': 50.46744320392609,\n",
       " '100M': 5.282662308216095,\n",
       " '500M': 1.2482212901115417,\n",
       " '1000M': 0.763195252418518}"
      ]
     },
     "execution_count": 5,
     "metadata": {},
     "output_type": "execute_result"
    }
   ],
   "source": [
    "comm_time_dict"
   ]
  },
  {
   "cell_type": "code",
   "execution_count": 6,
   "metadata": {},
   "outputs": [
    {
     "data": {
      "text/plain": [
       "{'10M': 0.1864861488342285,\n",
       " '100M': 0.186708664894104,\n",
       " '500M': 0.1644994616508484,\n",
       " '1000M': 0.16145471334457398}"
      ]
     },
     "execution_count": 6,
     "metadata": {},
     "output_type": "execute_result"
    }
   ],
   "source": [
    "deserial_time_dict"
   ]
  },
  {
   "cell_type": "code",
   "execution_count": 7,
   "metadata": {},
   "outputs": [
    {
     "data": {
      "text/plain": [
       "{'10M': 50.65451523065567,\n",
       " '100M': 5.470369708538056,\n",
       " '500M': 1.4135547757148743,\n",
       " '1000M': 0.9256592392921448}"
      ]
     },
     "execution_count": 7,
     "metadata": {},
     "output_type": "execute_result"
    }
   ],
   "source": [
    "get_time_dict"
   ]
  },
  {
   "cell_type": "code",
   "execution_count": 10,
   "metadata": {},
   "outputs": [
    {
     "data": {
      "text/plain": [
       "<BarContainer object of 4 artists>"
      ]
     },
     "execution_count": 10,
     "metadata": {},
     "output_type": "execute_result"
    },
    {
     "data": {
      "image/png": "[encoded data removed]",
      "text/plain": [
       "<Figure size 432x288 with 1 Axes>"
      ]
     },
     "metadata": {
      "needs_background": "light"
     },
     "output_type": "display_data"
    }
   ],
   "source": [
    "data1 = list(comm_time_dict.values())\n",
    "data2 = list(deserial_time_dict.values())\n",
    "plt.bar(range(len(data1)), data1)\n",
    "plt.bar(range(len(data2)), data2, bottom=data1)"
   ]
  },
  {
   "cell_type": "code",
   "execution_count": null,
   "metadata": {},
   "outputs": [],
   "source": []
  },
  {
   "cell_type": "code",
   "execution_count": null,
   "metadata": {},
   "outputs": [],
   "source": []
  },
  {
   "cell_type": "code",
   "execution_count": 9,
   "metadata": {},
   "outputs": [],
   "source": [
    "bw = \"1000M\"\n",
    "\n",
    "trace_dir = \"/home/posheng/billy_ws/fl_025/paslab/trace/get_model_analysis/node_num_5000000/\"\n",
    "coord_trace_file = \"coord_\" + bw + \".txt\"\n",
    "trace_filepath = os.path.join(trace_dir, coord_trace_file)"
   ]
  },
  {
   "cell_type": "code",
   "execution_count": 10,
   "metadata": {},
   "outputs": [
    {
     "data": {
      "text/plain": [
       "'/home/posheng/billy_ws/fl_025/paslab/trace/get_model_analysis/node_num_5000000/coord_1000M.txt'"
      ]
     },
     "execution_count": 10,
     "metadata": {},
     "output_type": "execute_result"
    }
   ],
   "source": [
    "trace_filepath"
   ]
  },
  {
   "cell_type": "code",
   "execution_count": 13,
   "metadata": {},
   "outputs": [],
   "source": [
    "with open(trace_filepath,\"r\") as rf:\n",
    "    new_trace = StringIO()\n",
    "    line = rf.readline()\n",
    "    while line:\n",
    "        line_list = line.split()\n",
    "        if line_list[0] == \"[trace]\" or line_list[0] == \"[PROF]\":\n",
    "            new_trace.write(line)\n",
    "        line = rf.readline()\n",
    "\n",
    "new_trace.seek(0)\n",
    "df = pd.read_csv(new_trace, sep=\" \", names=[\"InfoType\", \"EventType\", \"EventState\", \"ID\", \"Time\"])"
   ]
  },
  {
   "cell_type": "code",
   "execution_count": 15,
   "metadata": {},
   "outputs": [],
   "source": [
    "del df[\"InfoType\"]"
   ]
  },
  {
   "cell_type": "code",
   "execution_count": 18,
   "metadata": {},
   "outputs": [
    {
     "data": {
      "text/plain": [
       "21"
      ]
     },
     "execution_count": 18,
     "metadata": {},
     "output_type": "execute_result"
    }
   ],
   "source": [
    "len(df[df[\"EventType\"] == \"GetTime\"])"
   ]
  },
  {
   "cell_type": "code",
   "execution_count": 28,
   "metadata": {},
   "outputs": [],
   "source": [
    "get_time_index = list(df[df[\"EventType\"] == \"GetTime\"].index)"
   ]
  },
  {
   "cell_type": "code",
   "execution_count": 43,
   "metadata": {},
   "outputs": [],
   "source": [
    "comm_time = []\n",
    "deserial_time = []\n",
    "get_time = []\n",
    "for idx in get_time_index[1:]:\n",
    "    comm_time.append(df.loc[idx-2][\"Time\"])\n",
    "    deserial_time.append(df.loc[idx-1][\"Time\"])\n",
    "    get_time.append(df.loc[idx][\"Time\"])"
   ]
  },
  {
   "cell_type": "code",
   "execution_count": 48,
   "metadata": {},
   "outputs": [
    {
     "data": {
      "text/plain": [
       "0.763195252418518"
      ]
     },
     "execution_count": 48,
     "metadata": {},
     "output_type": "execute_result"
    }
   ],
   "source": [
    "average(comm_time)"
   ]
  },
  {
   "cell_type": "code",
   "execution_count": 49,
   "metadata": {},
   "outputs": [
    {
     "data": {
      "text/plain": [
       "0.16145471334457398"
      ]
     },
     "execution_count": 49,
     "metadata": {},
     "output_type": "execute_result"
    }
   ],
   "source": [
    "average(deserial_time)"
   ]
  },
  {
   "cell_type": "code",
   "execution_count": 50,
   "metadata": {},
   "outputs": [
    {
     "data": {
      "text/plain": [
       "0.9256592392921448"
      ]
     },
     "execution_count": 50,
     "metadata": {},
     "output_type": "execute_result"
    }
   ],
   "source": [
    "average(get_time)"
   ]
  }
 ],
 "metadata": {
  "kernelspec": {
   "display_name": "Python 3",
   "language": "python",
   "name": "python3"
  },
  "language_info": {
   "codemirror_mode": {
    "name": "ipython",
    "version": 3
   },
   "file_extension": ".py",
   "mimetype": "text/x-python",
   "name": "python",
   "nbconvert_exporter": "python",
   "pygments_lexer": "ipython3",
   "version": "3.6.10"
  }
 },
 "nbformat": 4,
 "nbformat_minor": 4
}

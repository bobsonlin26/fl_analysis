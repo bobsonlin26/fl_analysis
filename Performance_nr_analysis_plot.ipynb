{
 "cells": [
  {
   "cell_type": "code",
   "execution_count": 8,
   "metadata": {},
   "outputs": [],
   "source": [
    "import numpy as np\n",
    "import matplotlib.pyplot as plt"
   ]
  },
  {
   "cell_type": "code",
   "execution_count": 9,
   "metadata": {},
   "outputs": [],
   "source": [
    "def gis_prediction():\n",
    "    return model_size / bandwidth_dict[\"s2c\"] + model_size / bandwidth_dict[\"s2c\"] * (1-recv_ratio) * (nr_worker-1)\n",
    "def emp_prediction():\n",
    "    time_fixed_model = (2 * model_size) / bandwidth_dict[\"c2c\"]\n",
    "    return (nr_worker - 1) * (1 + recv_ratio) * time_fixed_model + mul_time_per_million * (param_size/1000000)\n",
    "def agg_prediction():\n",
    "    return 2 * nr_layer * ((nr_worker - 1) * (nr_worker * time_cmd)) + (nr_worker - 1) * nr_worker *  (param_size/1000000) * add_p\n",
    "def dec_prediction():\n",
    "    return nr_worker * (model_size * 2 / bandwidth_dict[\"c2w\"])"
   ]
  },
  {
   "cell_type": "code",
   "execution_count": 15,
   "metadata": {},
   "outputs": [],
   "source": [
    "# resnet 18 (1000mbps)\n",
    "param_size = 11689512\n",
    "model_size = param_size * 32\n",
    "add_p = 0.0014\n",
    "add_time_per_million = 0.012\n",
    "mul_time_per_million = 0\n",
    "\n",
    "nr_layer = 62\n",
    "nr_worker = 24\n",
    "recv_ratio = 91.55/100\n",
    "\n",
    "bandwidth_dict = {}\n",
    "bandwidth_dict[\"s2c\"] = 47.2 * 1000 * 1000\n",
    "bandwidth_dict[\"c2c\"] = 48.97 * 1000 * 1000\n",
    "bandwidth_dict[\"c2w\"] = 465 * 1000 * 1000\n",
    "\n",
    "time_cmd = 0.002"
   ]
  },
  {
   "cell_type": "code",
   "execution_count": null,
   "metadata": {},
   "outputs": [],
   "source": []
  },
  {
   "cell_type": "code",
   "execution_count": null,
   "metadata": {},
   "outputs": [],
   "source": []
  },
  {
   "cell_type": "code",
   "execution_count": 16,
   "metadata": {},
   "outputs": [
    {
     "data": {
      "text/plain": [
       "23.32751089627119"
      ]
     },
     "execution_count": 16,
     "metadata": {},
     "output_type": "execute_result"
    }
   ],
   "source": [
    "gis_prediction()"
   ]
  },
  {
   "cell_type": "code",
   "execution_count": 17,
   "metadata": {},
   "outputs": [
    {
     "data": {
      "text/plain": [
       "673.0638159565449"
      ]
     },
     "execution_count": 17,
     "metadata": {},
     "output_type": "execute_result"
    }
   ],
   "source": [
    "emp_prediction()"
   ]
  },
  {
   "cell_type": "code",
   "execution_count": 18,
   "metadata": {},
   "outputs": [
    {
     "data": {
      "text/plain": [
       "145.92965487360001"
      ]
     },
     "execution_count": 18,
     "metadata": {},
     "output_type": "execute_result"
    }
   ],
   "source": [
    "agg_prediction()"
   ]
  },
  {
   "cell_type": "code",
   "execution_count": 19,
   "metadata": {},
   "outputs": [
    {
     "data": {
      "text/plain": [
       "38.613097703225804"
      ]
     },
     "execution_count": 19,
     "metadata": {},
     "output_type": "execute_result"
    }
   ],
   "source": [
    "dec_prediction()"
   ]
  },
  {
   "cell_type": "code",
   "execution_count": null,
   "metadata": {},
   "outputs": [],
   "source": []
  },
  {
   "cell_type": "code",
   "execution_count": null,
   "metadata": {},
   "outputs": [],
   "source": []
  },
  {
   "cell_type": "code",
   "execution_count": 21,
   "metadata": {},
   "outputs": [
    {
     "data": {
      "text/plain": [
       "<matplotlib.legend.Legend at 0x7f0708db8f98>"
      ]
     },
     "execution_count": 21,
     "metadata": {},
     "output_type": "execute_result"
    },
    {
     "data": {
      "image/png": "[encoded data removed]",
      "text/plain": [
       "<Figure size 432x288 with 1 Axes>"
      ]
     },
     "metadata": {
      "needs_background": "light"
     },
     "output_type": "display_data"
    }
   ],
   "source": [
    "N = 4\n",
    "width = 0.35\n",
    "x = (\"3\", '6', '12', '24')\n",
    "\n",
    "gis = (9.264, 11.273, 15.29, 23.33)\n",
    "lt = tuple([124.91] * N)\n",
    "emp = (58.5273, 146.32, 321.9, 673.064)\n",
    "b_emp = list(np.add(gis, lt))\n",
    "agg = (1.5862, 7.931, 34.896, 145.93)\n",
    "b_agg = list(np.add(b_emp, emp))\n",
    "dec = (4.8266, 9.6533, 19.3, 38.6131)\n",
    "b_dec = list(np.add(b_agg, agg))\n",
    "\n",
    "plt.bar(x, gis, width)\n",
    "plt.bar(x, lt, width, bottom=gis)\n",
    "plt.bar(x, emp, width, bottom=b_emp)\n",
    "plt.bar(x, agg, width, bottom=b_agg)\n",
    "plt.bar(x, dec, width, bottom=b_dec)\n",
    "\n",
    "plt.ylabel('Time (sec)')\n",
    "plt.xlabel('number of workers')\n",
    "plt.title('')\n",
    "plt.legend(labels=['GIS', 'LT', \"EMP\", \"AGG\", \"DEC\"])"
   ]
  },
  {
   "cell_type": "code",
   "execution_count": null,
   "metadata": {},
   "outputs": [],
   "source": []
  }
 ],
 "metadata": {
  "kernelspec": {
   "display_name": "Python 3",
   "language": "python",
   "name": "python3"
  },
  "language_info": {
   "codemirror_mode": {
    "name": "ipython",
    "version": 3
   },
   "file_extension": ".py",
   "mimetype": "text/x-python",
   "name": "python",
   "nbconvert_exporter": "python",
   "pygments_lexer": "ipython3",
   "version": "3.6.10"
  }
 },
 "nbformat": 4,
 "nbformat_minor": 4
}

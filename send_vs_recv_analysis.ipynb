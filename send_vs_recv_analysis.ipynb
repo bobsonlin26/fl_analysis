{
 "cells": [
  {
   "cell_type": "code",
   "execution_count": 62,
   "metadata": {},
   "outputs": [],
   "source": [
    "import pandas as pd\n",
    "from io import StringIO\n",
    "import os\n",
    "import numpy as np\n",
    "import matplotlib.pyplot as plt"
   ]
  },
  {
   "cell_type": "code",
   "execution_count": 63,
   "metadata": {},
   "outputs": [],
   "source": [
    "bw = \"10mbps\"\n",
    "dir_id = \"hpc3-hpc0\""
   ]
  },
  {
   "cell_type": "code",
   "execution_count": 64,
   "metadata": {},
   "outputs": [],
   "source": [
    "trace_dir = \"/home/posheng/billy_ws/fl_025/paslab/trace/async2_fl_bw_3rm/\" + bw + \"/send_vs_recv/\" + dir_id\n",
    "trace_file = \"coord.txt\""
   ]
  },
  {
   "cell_type": "code",
   "execution_count": 65,
   "metadata": {},
   "outputs": [
    {
     "data": {
      "text/plain": [
       "0.8501557702598481"
      ]
     },
     "execution_count": 65,
     "metadata": {},
     "output_type": "execute_result"
    }
   ],
   "source": [
    "send_ratio_list = []\n",
    "\n",
    "trace_filepath = os.path.join(trace_dir, trace_file)\n",
    "with open(trace_filepath,\"r\") as rf:\n",
    "    new_trace = StringIO()\n",
    "    line = rf.readline()\n",
    "    while line:\n",
    "        line_list = line.split()\n",
    "        if line_list[0] == \"[trace]\" or line_list[0] == \"[PROF]\":\n",
    "            new_trace.write(line)\n",
    "        line = rf.readline()\n",
    "\n",
    "new_trace.seek(0)\n",
    "df = pd.read_csv(new_trace, sep=\" \", names=[\"InfoType\", \"EventType\", \"EventState\", \"ID\", \"Time\"])\n",
    "del df[\"InfoType\"]\n",
    "\n",
    "df = df[4:]\n",
    "start_indices = list(df[df[\"EventType\"] == \"MessageSize\"].index)\n",
    "for start_index in start_indices[1:]:\n",
    "    send_time = df.loc[start_index+2][\"Time\"] - df.loc[start_index+1][\"Time\"]\n",
    "    recv_time = df.loc[start_index+3][\"Time\"] - df.loc[start_index+2][\"Time\"]\n",
    "    send_ratio = send_time / (send_time + recv_time)\n",
    "    send_ratio_list.append(send_ratio)\n",
    "    \n",
    "sum(send_ratio_list) / len(send_ratio_list)"
   ]
  },
  {
   "cell_type": "code",
   "execution_count": 66,
   "metadata": {},
   "outputs": [
    {
     "data": {
      "text/plain": [
       "0.8501557702598481"
      ]
     },
     "execution_count": 66,
     "metadata": {},
     "output_type": "execute_result"
    }
   ],
   "source": [
    "sum(send_ratio_list) / len(send_ratio_list)"
   ]
  },
  {
   "cell_type": "code",
   "execution_count": 67,
   "metadata": {},
   "outputs": [
    {
     "data": {
      "text/plain": [
       "[0.85113708614965,\n",
       " 0.838082305467876,\n",
       " 0.8506316835469669,\n",
       " 0.8516403351408236,\n",
       " 0.8515348598521866,\n",
       " 0.8520726675734953,\n",
       " 0.8467914738132647,\n",
       " 0.85151526207859,\n",
       " 0.8489039486531079,\n",
       " 0.851544275512357,\n",
       " 0.851433044598031,\n",
       " 0.8477142293711784,\n",
       " 0.8521489831639576,\n",
       " 0.8513086353926602,\n",
       " 0.8520914230092003,\n",
       " 0.8512626934273346,\n",
       " 0.8516964714299713,\n",
       " 0.8520675421816499,\n",
       " 0.8489280334628397,\n",
       " 0.8506104513718225]"
      ]
     },
     "execution_count": 67,
     "metadata": {},
     "output_type": "execute_result"
    }
   ],
   "source": [
    "send_ratio_list"
   ]
  },
  {
   "cell_type": "code",
   "execution_count": null,
   "metadata": {},
   "outputs": [],
   "source": []
  },
  {
   "cell_type": "code",
   "execution_count": 68,
   "metadata": {},
   "outputs": [],
   "source": [
    "import torch"
   ]
  },
  {
   "cell_type": "code",
   "execution_count": 71,
   "metadata": {},
   "outputs": [],
   "source": [
    "a = torch.ones([1000, 1000])"
   ]
  },
  {
   "cell_type": "code",
   "execution_count": 74,
   "metadata": {},
   "outputs": [],
   "source": [
    "a = a * 3"
   ]
  },
  {
   "cell_type": "code",
   "execution_count": 75,
   "metadata": {},
   "outputs": [],
   "source": [
    "b = torch.ones([1000, 1000])"
   ]
  },
  {
   "cell_type": "code",
   "execution_count": 76,
   "metadata": {},
   "outputs": [],
   "source": [
    "b = b * 4"
   ]
  },
  {
   "cell_type": "code",
   "execution_count": 77,
   "metadata": {},
   "outputs": [],
   "source": [
    "c = a + b"
   ]
  },
  {
   "cell_type": "code",
   "execution_count": null,
   "metadata": {},
   "outputs": [],
   "source": []
  }
 ],
 "metadata": {
  "kernelspec": {
   "display_name": "Python 3",
   "language": "python",
   "name": "python3"
  },
  "language_info": {
   "codemirror_mode": {
    "name": "ipython",
    "version": 3
   },
   "file_extension": ".py",
   "mimetype": "text/x-python",
   "name": "python",
   "nbconvert_exporter": "python",
   "pygments_lexer": "ipython3",
   "version": "3.6.10"
  }
 },
 "nbformat": 4,
 "nbformat_minor": 4
}

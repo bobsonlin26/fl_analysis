{
 "cells": [
  {
   "cell_type": "code",
   "execution_count": 1,
   "metadata": {},
   "outputs": [],
   "source": [
    "import pandas as pd\n",
    "from io import StringIO\n",
    "import os"
   ]
  },
  {
   "cell_type": "markdown",
   "metadata": {},
   "source": [
    "## Read trace"
   ]
  },
  {
   "cell_type": "code",
   "execution_count": 2,
   "metadata": {},
   "outputs": [],
   "source": [
    "def read_trace(trace_dir, trace_file, worker_id=None):\n",
    "    trace_filepath = os.path.join(trace_dir, trace_file)\n",
    "    \n",
    "    with open(trace_filepath,\"r\") as rf:\n",
    "        new_trace = StringIO()\n",
    "        line = rf.readline()\n",
    "        while line:\n",
    "            line_list = line.split()\n",
    "            if line_list[0] == \"[trace]\":\n",
    "                new_trace.write(line)\n",
    "            line = rf.readline()\n",
    "       \n",
    "    new_trace.seek(0)\n",
    "    df = pd.read_csv(new_trace, sep=\" \", names=[\"InfoType\", \"EventType\", \"EventState\", \"ID\", \"Time\"])\n",
    "    del df[\"InfoType\"]\n",
    "    \n",
    "    if worker_id is not None:\n",
    "        df.insert(0, \"WorkerID\", worker_id)\n",
    "        \n",
    "    new_trace.close()\n",
    "    \n",
    "    return df"
   ]
  },
  {
   "cell_type": "markdown",
   "metadata": {},
   "source": [
    "### COORD"
   ]
  },
  {
   "cell_type": "code",
   "execution_count": 3,
   "metadata": {},
   "outputs": [],
   "source": [
    "trace_dir = \"/home/posheng/billy_ws/fl_025/paslab/trace/async2_fl_sagg_3rm_mask_nossl/0901\"\n",
    "coord_trace_file = \"coord_trace.txt\"\n",
    "hpc0_trace_file = \"hpc0_trace.txt\"\n",
    "hpc1_trace_file = \"hpc1_trace.txt\"\n",
    "hpc2_trace_file = \"hpc2_trace.txt\"\n",
    "# hpc3_trace_file = \"hpc3_trace.txt\""
   ]
  },
  {
   "cell_type": "code",
   "execution_count": 4,
   "metadata": {},
   "outputs": [],
   "source": [
    "# coord_df = read_trace(trace_dir, coord_trace_file)\n",
    "# hpc1_df = read_trace(trace_dir, hpc1_trace_file, \"alice\")\n",
    "# hpc2_df = read_trace(trace_dir, hpc2_trace_file, \"bob\")\n",
    "# hpc3_df = read_trace(trace_dir, hpc3_trace_file, \"charlie\")\n",
    "\n",
    "coord_df = read_trace(trace_dir, coord_trace_file)\n",
    "w0_df = read_trace(trace_dir, hpc0_trace_file, \"alice\")\n",
    "w1_df = read_trace(trace_dir, hpc1_trace_file, \"bob\")\n",
    "w2_df = read_trace(trace_dir, hpc2_trace_file, \"charlie\")"
   ]
  },
  {
   "cell_type": "code",
   "execution_count": 5,
   "metadata": {},
   "outputs": [],
   "source": [
    "hpc1_df = w0_df\n",
    "hpc2_df = w1_df\n",
    "hpc3_df = w2_df"
   ]
  },
  {
   "cell_type": "code",
   "execution_count": 6,
   "metadata": {},
   "outputs": [],
   "source": [
    "worker_dfs = {\n",
    "    \"alice\": hpc1_df,\n",
    "    \"bob\": hpc2_df,\n",
    "    \"charlie\": hpc3_df\n",
    "}"
   ]
  },
  {
   "cell_type": "markdown",
   "metadata": {},
   "source": [
    "## Duration"
   ]
  },
  {
   "cell_type": "code",
   "execution_count": 7,
   "metadata": {},
   "outputs": [],
   "source": [
    "def get_worker_duration(worker_id, worker_dfs, event_type):\n",
    "    worker_df = worker_dfs[worker_id]\n",
    "    worker_event_df = worker_df[worker_df[\"EventType\"].str.contains(event_type, regex=False)]\n",
    "    worker_event_df = worker_event_df.reset_index()\n",
    "    \n",
    "    del worker_event_df['index']\n",
    "    del worker_event_df['ID']\n",
    "    \n",
    "    return worker_event_df"
   ]
  },
  {
   "cell_type": "code",
   "execution_count": 8,
   "metadata": {},
   "outputs": [],
   "source": [
    "def get_coord_duration(coord_df, event_type):\n",
    "    coord_event_df = coord_df[coord_df[\"EventType\"].str.contains(event_type, regex=False)]\n",
    "    coord_event_df = coord_event_df.reset_index()\n",
    "    \n",
    "    del coord_event_df['index']\n",
    "    del coord_event_df['ID']\n",
    "    \n",
    "    return coord_event_df"
   ]
  },
  {
   "cell_type": "code",
   "execution_count": 9,
   "metadata": {},
   "outputs": [],
   "source": [
    "def calculate_duration(event_type, df):\n",
    "    event_df = df[df[\"EventType\"] == event_type][[\"EventType\", \"EventState\", \"ID\", \"Time\"]]\n",
    "    event_start_df = event_df[event_df[\"EventState\"] == \"start\"][[\"ID\", \"Time\"]]\n",
    "    event_start_df = event_start_df.reset_index()\n",
    "\n",
    "    event_end_df = event_df[event_df[\"EventState\"] == \"end\"][[\"Time\"]]\n",
    "    event_end_df = event_end_df.reset_index()\n",
    "    \n",
    "    event_df_cat = pd.concat([event_start_df, event_end_df], axis=1)\n",
    "    del event_df_cat['index']\n",
    "    event_df_cat.columns = [\"ID\", \"StartTime\", \"EndTime\"]\n",
    "    \n",
    "    event_df_cat[\"Duration\"] = event_df_cat.apply(lambda x: x[\"EndTime\"] - x[\"StartTime\"], axis=1)\n",
    "    event_df_cat.insert(0, \"EventType\", event_type)\n",
    "    return event_df_cat\n"
   ]
  },
  {
   "cell_type": "code",
   "execution_count": 10,
   "metadata": {},
   "outputs": [],
   "source": [
    "GlobalModelSendDuration = calculate_duration(\"GlobalModelSend\", coord_df)"
   ]
  },
  {
   "cell_type": "code",
   "execution_count": 11,
   "metadata": {},
   "outputs": [],
   "source": [
    "LossFuncSendDuration = calculate_duration(\"LossFuncSend\", coord_df)"
   ]
  },
  {
   "cell_type": "code",
   "execution_count": 12,
   "metadata": {},
   "outputs": [],
   "source": [
    "ModelConfigSendDuration = calculate_duration(\"ModelConfigSend\", coord_df)"
   ]
  },
  {
   "cell_type": "markdown",
   "metadata": {},
   "source": [
    "### GlobalModelSendDuration"
   ]
  },
  {
   "cell_type": "code",
   "execution_count": 13,
   "metadata": {
    "scrolled": true
   },
   "outputs": [
    {
     "data": {
      "text/plain": [
       "0.3205100893974304"
      ]
     },
     "execution_count": 13,
     "metadata": {},
     "output_type": "execute_result"
    }
   ],
   "source": [
    "GlobalModelSendDuration[GlobalModelSendDuration[\"ID\"] == \"alice\"]['Duration'].mean()"
   ]
  },
  {
   "cell_type": "code",
   "execution_count": 14,
   "metadata": {},
   "outputs": [
    {
     "data": {
      "text/plain": [
       "0.3117477774620056"
      ]
     },
     "execution_count": 14,
     "metadata": {},
     "output_type": "execute_result"
    }
   ],
   "source": [
    "GlobalModelSendDuration[GlobalModelSendDuration[\"ID\"] == \"bob\"]['Duration'].mean()"
   ]
  },
  {
   "cell_type": "code",
   "execution_count": 15,
   "metadata": {},
   "outputs": [
    {
     "data": {
      "text/plain": [
       "0.31217079162597655"
      ]
     },
     "execution_count": 15,
     "metadata": {},
     "output_type": "execute_result"
    }
   ],
   "source": [
    "GlobalModelSendDuration[GlobalModelSendDuration[\"ID\"] == \"charlie\"]['Duration'].mean()"
   ]
  },
  {
   "cell_type": "markdown",
   "metadata": {},
   "source": [
    "### LossFuncSendDuration"
   ]
  },
  {
   "cell_type": "code",
   "execution_count": 16,
   "metadata": {},
   "outputs": [
    {
     "data": {
      "text/plain": [
       "0.0012658357620239258"
      ]
     },
     "execution_count": 16,
     "metadata": {},
     "output_type": "execute_result"
    }
   ],
   "source": [
    "LossFuncSendDuration[LossFuncSendDuration[\"ID\"] == \"alice\"]['Duration'].mean()"
   ]
  },
  {
   "cell_type": "code",
   "execution_count": 17,
   "metadata": {},
   "outputs": [
    {
     "data": {
      "text/plain": [
       "0.0012076854705810546"
      ]
     },
     "execution_count": 17,
     "metadata": {},
     "output_type": "execute_result"
    }
   ],
   "source": [
    "LossFuncSendDuration[LossFuncSendDuration[\"ID\"] == \"bob\"]['Duration'].mean()"
   ]
  },
  {
   "cell_type": "code",
   "execution_count": 18,
   "metadata": {},
   "outputs": [
    {
     "data": {
      "text/plain": [
       "0.0012090802192687988"
      ]
     },
     "execution_count": 18,
     "metadata": {},
     "output_type": "execute_result"
    }
   ],
   "source": [
    "LossFuncSendDuration[LossFuncSendDuration[\"ID\"] == \"charlie\"]['Duration'].mean()"
   ]
  },
  {
   "cell_type": "markdown",
   "metadata": {},
   "source": [
    "### ModelConfigSendDuration"
   ]
  },
  {
   "cell_type": "code",
   "execution_count": 19,
   "metadata": {},
   "outputs": [
    {
     "data": {
      "text/plain": [
       "0.0009699940681457519"
      ]
     },
     "execution_count": 19,
     "metadata": {},
     "output_type": "execute_result"
    }
   ],
   "source": [
    "ModelConfigSendDuration[ModelConfigSendDuration[\"ID\"] == \"alice\"]['Duration'].mean()"
   ]
  },
  {
   "cell_type": "code",
   "execution_count": 20,
   "metadata": {},
   "outputs": [
    {
     "data": {
      "text/plain": [
       "0.0009421586990356445"
      ]
     },
     "execution_count": 20,
     "metadata": {},
     "output_type": "execute_result"
    }
   ],
   "source": [
    "ModelConfigSendDuration[ModelConfigSendDuration[\"ID\"] == \"bob\"]['Duration'].mean()"
   ]
  },
  {
   "cell_type": "code",
   "execution_count": 21,
   "metadata": {},
   "outputs": [
    {
     "data": {
      "text/plain": [
       "0.0009432077407836914"
      ]
     },
     "execution_count": 21,
     "metadata": {},
     "output_type": "execute_result"
    }
   ],
   "source": [
    "ModelConfigSendDuration[ModelConfigSendDuration[\"ID\"] == \"charlie\"]['Duration'].mean()"
   ]
  },
  {
   "cell_type": "markdown",
   "metadata": {},
   "source": [
    "## GlobalInformationSend Duration"
   ]
  },
  {
   "cell_type": "code",
   "execution_count": 22,
   "metadata": {},
   "outputs": [],
   "source": [
    "def get_coord_global_send_duration(coord_df, worker_id):\n",
    "    coord_event_df = coord_df[coord_df[\"EventType\"].str.contains(\"GlobalInformationSend\", regex=False)]\n",
    "    coord_event_df = coord_event_df[coord_event_df[\"ID\"] == worker_id]\n",
    "    coord_event_df = coord_event_df.reset_index()\n",
    "    \n",
    "    del coord_event_df['index']\n",
    "    \n",
    "    return coord_event_df"
   ]
  },
  {
   "cell_type": "code",
   "execution_count": 23,
   "metadata": {},
   "outputs": [],
   "source": [
    "hpc1_gs_df = get_coord_global_send_duration(coord_df, \"alice\")"
   ]
  },
  {
   "cell_type": "code",
   "execution_count": 24,
   "metadata": {},
   "outputs": [],
   "source": [
    "hpc2_gs_df = get_coord_global_send_duration(coord_df, \"bob\")"
   ]
  },
  {
   "cell_type": "code",
   "execution_count": 25,
   "metadata": {},
   "outputs": [],
   "source": [
    "hpc3_gs_df = get_coord_global_send_duration(coord_df, \"charlie\")"
   ]
  },
  {
   "cell_type": "code",
   "execution_count": 26,
   "metadata": {},
   "outputs": [
    {
     "data": {
      "text/plain": [
       "0.3133407115936279"
      ]
     },
     "execution_count": 26,
     "metadata": {},
     "output_type": "execute_result"
    }
   ],
   "source": [
    "hpc1_gs_df['Time'].mean()"
   ]
  },
  {
   "cell_type": "code",
   "execution_count": 27,
   "metadata": {},
   "outputs": [
    {
     "data": {
      "text/plain": [
       "0.3175040721893311"
      ]
     },
     "execution_count": 27,
     "metadata": {},
     "output_type": "execute_result"
    }
   ],
   "source": [
    "hpc2_gs_df['Time'].mean()"
   ]
  },
  {
   "cell_type": "code",
   "execution_count": 28,
   "metadata": {},
   "outputs": [
    {
     "data": {
      "text/plain": [
       "0.32024874687194826"
      ]
     },
     "execution_count": 28,
     "metadata": {},
     "output_type": "execute_result"
    }
   ],
   "source": [
    "hpc3_gs_df['Time'].mean()"
   ]
  },
  {
   "cell_type": "markdown",
   "metadata": {},
   "source": [
    "## Send Time"
   ]
  },
  {
   "cell_type": "code",
   "execution_count": 29,
   "metadata": {},
   "outputs": [],
   "source": [
    "## EventType:\n",
    "##     * GlobalModelSend\n",
    "##     * LossFuncSend\n",
    "##     * ModelConfigSend\n",
    "def calculate_send_time(coord_df, worker_dfs, event_type):\n",
    "    event_start_df = coord_df[(coord_df[\"EventType\"] == event_type) & (coord_df[\"EventState\"] == \"start\")]\n",
    "    worker_event_send_time_dfs = {}\n",
    "    \n",
    "    for worker_id in worker_dfs.keys():\n",
    "        worker_event_start_df = event_start_df[event_start_df[\"ID\"] == worker_id]\n",
    "        worker_event_start_df = worker_event_start_df.reset_index()\n",
    "        del worker_event_start_df['index']\n",
    "        worker_event_start_df.columns = [\"EventType\", \"EventState\", \"ID\", \"StartTime\"]\n",
    "        \n",
    "        worker_df = worker_dfs[worker_id]\n",
    "        worker_event_recv_df = worker_df[worker_df[\"EventType\"] == event_type]\n",
    "        worker_event_recv_df = worker_event_recv_df.reset_index()\n",
    "        del worker_event_recv_df['index']\n",
    "        worker_event_recv_df.columns = [\"WorkerID\", \"EventType\", \"EventState\", \"ID\", \"RecvTime\"]\n",
    "        \n",
    "        worker_recv_time_series = worker_event_recv_df[\"RecvTime\"]\n",
    "        worker_event_send_time_df = pd.concat([worker_event_start_df, worker_recv_time_series], axis=1)\n",
    "        worker_event_send_time_df[\"SendTime\"] = worker_event_send_time_df.apply(lambda x: x[\"RecvTime\"] - x[\"StartTime\"], axis=1)\n",
    "        del worker_event_send_time_df[\"EventState\"]\n",
    "        \n",
    "        worker_event_send_time_dfs[worker_id] = worker_event_send_time_df\n",
    "        \n",
    "    return worker_event_send_time_dfs"
   ]
  },
  {
   "cell_type": "code",
   "execution_count": 30,
   "metadata": {},
   "outputs": [],
   "source": [
    "worker_gms_send_time_dfs = calculate_send_time(coord_df, worker_dfs, \"GlobalModelSend\")"
   ]
  },
  {
   "cell_type": "code",
   "execution_count": 31,
   "metadata": {},
   "outputs": [
    {
     "data": {
      "text/plain": [
       "0.31011366844177246"
      ]
     },
     "execution_count": 31,
     "metadata": {},
     "output_type": "execute_result"
    }
   ],
   "source": [
    "worker_gms_send_time_dfs['alice']['SendTime'].mean()"
   ]
  },
  {
   "cell_type": "code",
   "execution_count": 32,
   "metadata": {},
   "outputs": [
    {
     "data": {
      "text/html": [
       "<div>\n",
       "<style scoped>\n",
       "    .dataframe tbody tr th:only-of-type {\n",
       "        vertical-align: middle;\n",
       "    }\n",
       "\n",
       "    .dataframe tbody tr th {\n",
       "        vertical-align: top;\n",
       "    }\n",
       "\n",
       "    .dataframe thead th {\n",
       "        text-align: right;\n",
       "    }\n",
       "</style>\n",
       "<table border=\"1\" class=\"dataframe\">\n",
       "  <thead>\n",
       "    <tr style=\"text-align: right;\">\n",
       "      <th></th>\n",
       "      <th>EventType</th>\n",
       "      <th>ID</th>\n",
       "      <th>StartTime</th>\n",
       "      <th>RecvTime</th>\n",
       "      <th>SendTime</th>\n",
       "    </tr>\n",
       "  </thead>\n",
       "  <tbody>\n",
       "    <tr>\n",
       "      <th>0</th>\n",
       "      <td>GlobalModelSend</td>\n",
       "      <td>alice</td>\n",
       "      <td>1.598988e+09</td>\n",
       "      <td>1.598988e+09</td>\n",
       "      <td>0.361677</td>\n",
       "    </tr>\n",
       "    <tr>\n",
       "      <th>1</th>\n",
       "      <td>GlobalModelSend</td>\n",
       "      <td>alice</td>\n",
       "      <td>1.598988e+09</td>\n",
       "      <td>1.598988e+09</td>\n",
       "      <td>0.296891</td>\n",
       "    </tr>\n",
       "    <tr>\n",
       "      <th>2</th>\n",
       "      <td>GlobalModelSend</td>\n",
       "      <td>alice</td>\n",
       "      <td>1.598988e+09</td>\n",
       "      <td>1.598988e+09</td>\n",
       "      <td>0.315485</td>\n",
       "    </tr>\n",
       "    <tr>\n",
       "      <th>3</th>\n",
       "      <td>GlobalModelSend</td>\n",
       "      <td>alice</td>\n",
       "      <td>1.598988e+09</td>\n",
       "      <td>1.598988e+09</td>\n",
       "      <td>0.301552</td>\n",
       "    </tr>\n",
       "    <tr>\n",
       "      <th>4</th>\n",
       "      <td>GlobalModelSend</td>\n",
       "      <td>alice</td>\n",
       "      <td>1.598988e+09</td>\n",
       "      <td>1.598988e+09</td>\n",
       "      <td>0.336071</td>\n",
       "    </tr>\n",
       "    <tr>\n",
       "      <th>5</th>\n",
       "      <td>GlobalModelSend</td>\n",
       "      <td>alice</td>\n",
       "      <td>1.598988e+09</td>\n",
       "      <td>1.598988e+09</td>\n",
       "      <td>0.307584</td>\n",
       "    </tr>\n",
       "    <tr>\n",
       "      <th>6</th>\n",
       "      <td>GlobalModelSend</td>\n",
       "      <td>alice</td>\n",
       "      <td>1.598988e+09</td>\n",
       "      <td>1.598988e+09</td>\n",
       "      <td>0.309776</td>\n",
       "    </tr>\n",
       "    <tr>\n",
       "      <th>7</th>\n",
       "      <td>GlobalModelSend</td>\n",
       "      <td>alice</td>\n",
       "      <td>1.598988e+09</td>\n",
       "      <td>1.598988e+09</td>\n",
       "      <td>0.306883</td>\n",
       "    </tr>\n",
       "    <tr>\n",
       "      <th>8</th>\n",
       "      <td>GlobalModelSend</td>\n",
       "      <td>alice</td>\n",
       "      <td>1.598988e+09</td>\n",
       "      <td>1.598988e+09</td>\n",
       "      <td>0.310315</td>\n",
       "    </tr>\n",
       "    <tr>\n",
       "      <th>9</th>\n",
       "      <td>GlobalModelSend</td>\n",
       "      <td>alice</td>\n",
       "      <td>1.598988e+09</td>\n",
       "      <td>1.598988e+09</td>\n",
       "      <td>0.315312</td>\n",
       "    </tr>\n",
       "    <tr>\n",
       "      <th>10</th>\n",
       "      <td>GlobalModelSend</td>\n",
       "      <td>alice</td>\n",
       "      <td>1.598988e+09</td>\n",
       "      <td>1.598988e+09</td>\n",
       "      <td>0.314173</td>\n",
       "    </tr>\n",
       "    <tr>\n",
       "      <th>11</th>\n",
       "      <td>GlobalModelSend</td>\n",
       "      <td>alice</td>\n",
       "      <td>1.598988e+09</td>\n",
       "      <td>1.598988e+09</td>\n",
       "      <td>0.302668</td>\n",
       "    </tr>\n",
       "    <tr>\n",
       "      <th>12</th>\n",
       "      <td>GlobalModelSend</td>\n",
       "      <td>alice</td>\n",
       "      <td>1.598989e+09</td>\n",
       "      <td>1.598989e+09</td>\n",
       "      <td>0.291637</td>\n",
       "    </tr>\n",
       "    <tr>\n",
       "      <th>13</th>\n",
       "      <td>GlobalModelSend</td>\n",
       "      <td>alice</td>\n",
       "      <td>1.598989e+09</td>\n",
       "      <td>1.598989e+09</td>\n",
       "      <td>0.303019</td>\n",
       "    </tr>\n",
       "    <tr>\n",
       "      <th>14</th>\n",
       "      <td>GlobalModelSend</td>\n",
       "      <td>alice</td>\n",
       "      <td>1.598989e+09</td>\n",
       "      <td>1.598989e+09</td>\n",
       "      <td>0.309483</td>\n",
       "    </tr>\n",
       "    <tr>\n",
       "      <th>15</th>\n",
       "      <td>GlobalModelSend</td>\n",
       "      <td>alice</td>\n",
       "      <td>1.598989e+09</td>\n",
       "      <td>1.598989e+09</td>\n",
       "      <td>0.296386</td>\n",
       "    </tr>\n",
       "    <tr>\n",
       "      <th>16</th>\n",
       "      <td>GlobalModelSend</td>\n",
       "      <td>alice</td>\n",
       "      <td>1.598989e+09</td>\n",
       "      <td>1.598989e+09</td>\n",
       "      <td>0.312040</td>\n",
       "    </tr>\n",
       "    <tr>\n",
       "      <th>17</th>\n",
       "      <td>GlobalModelSend</td>\n",
       "      <td>alice</td>\n",
       "      <td>1.598989e+09</td>\n",
       "      <td>1.598989e+09</td>\n",
       "      <td>0.304141</td>\n",
       "    </tr>\n",
       "    <tr>\n",
       "      <th>18</th>\n",
       "      <td>GlobalModelSend</td>\n",
       "      <td>alice</td>\n",
       "      <td>1.598989e+09</td>\n",
       "      <td>1.598989e+09</td>\n",
       "      <td>0.297991</td>\n",
       "    </tr>\n",
       "    <tr>\n",
       "      <th>19</th>\n",
       "      <td>GlobalModelSend</td>\n",
       "      <td>alice</td>\n",
       "      <td>1.598989e+09</td>\n",
       "      <td>1.598989e+09</td>\n",
       "      <td>0.309190</td>\n",
       "    </tr>\n",
       "  </tbody>\n",
       "</table>\n",
       "</div>"
      ],
      "text/plain": [
       "          EventType     ID     StartTime      RecvTime  SendTime\n",
       "0   GlobalModelSend  alice  1.598988e+09  1.598988e+09  0.361677\n",
       "1   GlobalModelSend  alice  1.598988e+09  1.598988e+09  0.296891\n",
       "2   GlobalModelSend  alice  1.598988e+09  1.598988e+09  0.315485\n",
       "3   GlobalModelSend  alice  1.598988e+09  1.598988e+09  0.301552\n",
       "4   GlobalModelSend  alice  1.598988e+09  1.598988e+09  0.336071\n",
       "5   GlobalModelSend  alice  1.598988e+09  1.598988e+09  0.307584\n",
       "6   GlobalModelSend  alice  1.598988e+09  1.598988e+09  0.309776\n",
       "7   GlobalModelSend  alice  1.598988e+09  1.598988e+09  0.306883\n",
       "8   GlobalModelSend  alice  1.598988e+09  1.598988e+09  0.310315\n",
       "9   GlobalModelSend  alice  1.598988e+09  1.598988e+09  0.315312\n",
       "10  GlobalModelSend  alice  1.598988e+09  1.598988e+09  0.314173\n",
       "11  GlobalModelSend  alice  1.598988e+09  1.598988e+09  0.302668\n",
       "12  GlobalModelSend  alice  1.598989e+09  1.598989e+09  0.291637\n",
       "13  GlobalModelSend  alice  1.598989e+09  1.598989e+09  0.303019\n",
       "14  GlobalModelSend  alice  1.598989e+09  1.598989e+09  0.309483\n",
       "15  GlobalModelSend  alice  1.598989e+09  1.598989e+09  0.296386\n",
       "16  GlobalModelSend  alice  1.598989e+09  1.598989e+09  0.312040\n",
       "17  GlobalModelSend  alice  1.598989e+09  1.598989e+09  0.304141\n",
       "18  GlobalModelSend  alice  1.598989e+09  1.598989e+09  0.297991\n",
       "19  GlobalModelSend  alice  1.598989e+09  1.598989e+09  0.309190"
      ]
     },
     "execution_count": 32,
     "metadata": {},
     "output_type": "execute_result"
    }
   ],
   "source": [
    "worker_gms_send_time_dfs['alice']"
   ]
  },
  {
   "cell_type": "code",
   "execution_count": 33,
   "metadata": {},
   "outputs": [
    {
     "data": {
      "text/plain": [
       "0.31753212213516235"
      ]
     },
     "execution_count": 33,
     "metadata": {},
     "output_type": "execute_result"
    }
   ],
   "source": [
    "worker_gms_send_time_dfs['charlie']['SendTime'].mean()"
   ]
  },
  {
   "cell_type": "code",
   "execution_count": 34,
   "metadata": {},
   "outputs": [],
   "source": [
    "# coord_df = read_trace(trace_dir, coord_trace_file)\n",
    "# hpc1_df = read_trace(trace_dir, hpc1_trace_file, \"alice\")\n",
    "# hpc2_df = read_trace(trace_dir, hpc2_trace_file, \"bob\")\n",
    "# hpc3_df = read_trace(trace_dir, hpc3_trace_file, \"charlie\")"
   ]
  },
  {
   "cell_type": "markdown",
   "metadata": {},
   "source": [
    "## LocalTraining Duration"
   ]
  },
  {
   "cell_type": "code",
   "execution_count": 35,
   "metadata": {},
   "outputs": [],
   "source": [
    "hpc1_lt_df = get_worker_duration(\"alice\", worker_dfs, \"LocalTraining\")"
   ]
  },
  {
   "cell_type": "code",
   "execution_count": 36,
   "metadata": {},
   "outputs": [],
   "source": [
    "hpc2_lt_df = get_worker_duration(\"bob\", worker_dfs, \"LocalTraining\")"
   ]
  },
  {
   "cell_type": "code",
   "execution_count": 37,
   "metadata": {},
   "outputs": [],
   "source": [
    "hpc3_lt_df = get_worker_duration(\"charlie\", worker_dfs, \"LocalTraining\")"
   ]
  },
  {
   "cell_type": "code",
   "execution_count": 38,
   "metadata": {},
   "outputs": [
    {
     "data": {
      "text/plain": [
       "13.574540662765504"
      ]
     },
     "execution_count": 38,
     "metadata": {},
     "output_type": "execute_result"
    }
   ],
   "source": [
    "hpc1_lt_df['Time'].mean()"
   ]
  },
  {
   "cell_type": "code",
   "execution_count": 39,
   "metadata": {},
   "outputs": [
    {
     "data": {
      "text/plain": [
       "9.33016802072525"
      ]
     },
     "execution_count": 39,
     "metadata": {},
     "output_type": "execute_result"
    }
   ],
   "source": [
    "hpc2_lt_df['Time'].mean()"
   ]
  },
  {
   "cell_type": "code",
   "execution_count": 40,
   "metadata": {},
   "outputs": [
    {
     "data": {
      "text/plain": [
       "10.005344891548157"
      ]
     },
     "execution_count": 40,
     "metadata": {},
     "output_type": "execute_result"
    }
   ],
   "source": [
    "hpc3_lt_df['Time'].mean()"
   ]
  },
  {
   "cell_type": "code",
   "execution_count": 41,
   "metadata": {},
   "outputs": [
    {
     "data": {
      "text/html": [
       "<div>\n",
       "<style scoped>\n",
       "    .dataframe tbody tr th:only-of-type {\n",
       "        vertical-align: middle;\n",
       "    }\n",
       "\n",
       "    .dataframe tbody tr th {\n",
       "        vertical-align: top;\n",
       "    }\n",
       "\n",
       "    .dataframe thead th {\n",
       "        text-align: right;\n",
       "    }\n",
       "</style>\n",
       "<table border=\"1\" class=\"dataframe\">\n",
       "  <thead>\n",
       "    <tr style=\"text-align: right;\">\n",
       "      <th></th>\n",
       "      <th>WorkerID</th>\n",
       "      <th>EventType</th>\n",
       "      <th>EventState</th>\n",
       "      <th>Time</th>\n",
       "    </tr>\n",
       "  </thead>\n",
       "  <tbody>\n",
       "    <tr>\n",
       "      <th>0</th>\n",
       "      <td>alice</td>\n",
       "      <td>LocalTraining</td>\n",
       "      <td>duration</td>\n",
       "      <td>13.436776</td>\n",
       "    </tr>\n",
       "    <tr>\n",
       "      <th>1</th>\n",
       "      <td>alice</td>\n",
       "      <td>LocalTraining</td>\n",
       "      <td>duration</td>\n",
       "      <td>13.715997</td>\n",
       "    </tr>\n",
       "    <tr>\n",
       "      <th>2</th>\n",
       "      <td>alice</td>\n",
       "      <td>LocalTraining</td>\n",
       "      <td>duration</td>\n",
       "      <td>13.842978</td>\n",
       "    </tr>\n",
       "    <tr>\n",
       "      <th>3</th>\n",
       "      <td>alice</td>\n",
       "      <td>LocalTraining</td>\n",
       "      <td>duration</td>\n",
       "      <td>13.538459</td>\n",
       "    </tr>\n",
       "    <tr>\n",
       "      <th>4</th>\n",
       "      <td>alice</td>\n",
       "      <td>LocalTraining</td>\n",
       "      <td>duration</td>\n",
       "      <td>13.876474</td>\n",
       "    </tr>\n",
       "    <tr>\n",
       "      <th>5</th>\n",
       "      <td>alice</td>\n",
       "      <td>LocalTraining</td>\n",
       "      <td>duration</td>\n",
       "      <td>13.841714</td>\n",
       "    </tr>\n",
       "    <tr>\n",
       "      <th>6</th>\n",
       "      <td>alice</td>\n",
       "      <td>LocalTraining</td>\n",
       "      <td>duration</td>\n",
       "      <td>13.838154</td>\n",
       "    </tr>\n",
       "    <tr>\n",
       "      <th>7</th>\n",
       "      <td>alice</td>\n",
       "      <td>LocalTraining</td>\n",
       "      <td>duration</td>\n",
       "      <td>12.937228</td>\n",
       "    </tr>\n",
       "    <tr>\n",
       "      <th>8</th>\n",
       "      <td>alice</td>\n",
       "      <td>LocalTraining</td>\n",
       "      <td>duration</td>\n",
       "      <td>13.488678</td>\n",
       "    </tr>\n",
       "    <tr>\n",
       "      <th>9</th>\n",
       "      <td>alice</td>\n",
       "      <td>LocalTraining</td>\n",
       "      <td>duration</td>\n",
       "      <td>13.137236</td>\n",
       "    </tr>\n",
       "    <tr>\n",
       "      <th>10</th>\n",
       "      <td>alice</td>\n",
       "      <td>LocalTraining</td>\n",
       "      <td>duration</td>\n",
       "      <td>12.931992</td>\n",
       "    </tr>\n",
       "    <tr>\n",
       "      <th>11</th>\n",
       "      <td>alice</td>\n",
       "      <td>LocalTraining</td>\n",
       "      <td>duration</td>\n",
       "      <td>13.812181</td>\n",
       "    </tr>\n",
       "    <tr>\n",
       "      <th>12</th>\n",
       "      <td>alice</td>\n",
       "      <td>LocalTraining</td>\n",
       "      <td>duration</td>\n",
       "      <td>13.162348</td>\n",
       "    </tr>\n",
       "    <tr>\n",
       "      <th>13</th>\n",
       "      <td>alice</td>\n",
       "      <td>LocalTraining</td>\n",
       "      <td>duration</td>\n",
       "      <td>13.701554</td>\n",
       "    </tr>\n",
       "    <tr>\n",
       "      <th>14</th>\n",
       "      <td>alice</td>\n",
       "      <td>LocalTraining</td>\n",
       "      <td>duration</td>\n",
       "      <td>13.090073</td>\n",
       "    </tr>\n",
       "    <tr>\n",
       "      <th>15</th>\n",
       "      <td>alice</td>\n",
       "      <td>LocalTraining</td>\n",
       "      <td>duration</td>\n",
       "      <td>14.213078</td>\n",
       "    </tr>\n",
       "    <tr>\n",
       "      <th>16</th>\n",
       "      <td>alice</td>\n",
       "      <td>LocalTraining</td>\n",
       "      <td>duration</td>\n",
       "      <td>14.013216</td>\n",
       "    </tr>\n",
       "    <tr>\n",
       "      <th>17</th>\n",
       "      <td>alice</td>\n",
       "      <td>LocalTraining</td>\n",
       "      <td>duration</td>\n",
       "      <td>13.210348</td>\n",
       "    </tr>\n",
       "    <tr>\n",
       "      <th>18</th>\n",
       "      <td>alice</td>\n",
       "      <td>LocalTraining</td>\n",
       "      <td>duration</td>\n",
       "      <td>13.701715</td>\n",
       "    </tr>\n",
       "    <tr>\n",
       "      <th>19</th>\n",
       "      <td>alice</td>\n",
       "      <td>LocalTraining</td>\n",
       "      <td>duration</td>\n",
       "      <td>14.000614</td>\n",
       "    </tr>\n",
       "  </tbody>\n",
       "</table>\n",
       "</div>"
      ],
      "text/plain": [
       "   WorkerID      EventType EventState       Time\n",
       "0     alice  LocalTraining   duration  13.436776\n",
       "1     alice  LocalTraining   duration  13.715997\n",
       "2     alice  LocalTraining   duration  13.842978\n",
       "3     alice  LocalTraining   duration  13.538459\n",
       "4     alice  LocalTraining   duration  13.876474\n",
       "5     alice  LocalTraining   duration  13.841714\n",
       "6     alice  LocalTraining   duration  13.838154\n",
       "7     alice  LocalTraining   duration  12.937228\n",
       "8     alice  LocalTraining   duration  13.488678\n",
       "9     alice  LocalTraining   duration  13.137236\n",
       "10    alice  LocalTraining   duration  12.931992\n",
       "11    alice  LocalTraining   duration  13.812181\n",
       "12    alice  LocalTraining   duration  13.162348\n",
       "13    alice  LocalTraining   duration  13.701554\n",
       "14    alice  LocalTraining   duration  13.090073\n",
       "15    alice  LocalTraining   duration  14.213078\n",
       "16    alice  LocalTraining   duration  14.013216\n",
       "17    alice  LocalTraining   duration  13.210348\n",
       "18    alice  LocalTraining   duration  13.701715\n",
       "19    alice  LocalTraining   duration  14.000614"
      ]
     },
     "execution_count": 41,
     "metadata": {},
     "output_type": "execute_result"
    }
   ],
   "source": [
    "hpc1_lt_df"
   ]
  },
  {
   "cell_type": "markdown",
   "metadata": {},
   "source": [
    "## FitSagg Duration"
   ]
  },
  {
   "cell_type": "code",
   "execution_count": 42,
   "metadata": {},
   "outputs": [],
   "source": [
    "def get_coord_fitsagg_duration(coord_df, worker_id):\n",
    "    coord_event_df = coord_df[coord_df[\"EventType\"].str.contains(\"FitSagg\", regex=False)]\n",
    "    coord_event_df = coord_event_df[coord_event_df[\"ID\"] == worker_id]\n",
    "    coord_event_df = coord_event_df.reset_index()\n",
    "    \n",
    "    del coord_event_df['index']\n",
    "    \n",
    "    return coord_event_df"
   ]
  },
  {
   "cell_type": "code",
   "execution_count": 43,
   "metadata": {},
   "outputs": [],
   "source": [
    "hpc1_fs_df = get_coord_fitsagg_duration(coord_df, \"alice\")"
   ]
  },
  {
   "cell_type": "code",
   "execution_count": 44,
   "metadata": {},
   "outputs": [],
   "source": [
    "hpc2_fs_df = get_coord_fitsagg_duration(coord_df, \"bob\")"
   ]
  },
  {
   "cell_type": "code",
   "execution_count": 45,
   "metadata": {},
   "outputs": [],
   "source": [
    "hpc3_fs_df = get_coord_fitsagg_duration(coord_df, \"charlie\")"
   ]
  },
  {
   "cell_type": "code",
   "execution_count": 46,
   "metadata": {},
   "outputs": [
    {
     "data": {
      "text/plain": [
       "16.672366213798522"
      ]
     },
     "execution_count": 46,
     "metadata": {},
     "output_type": "execute_result"
    }
   ],
   "source": [
    "hpc1_fs_df['Time'].mean()"
   ]
  },
  {
   "cell_type": "code",
   "execution_count": 47,
   "metadata": {},
   "outputs": [
    {
     "data": {
      "text/plain": [
       "16.675291442871092"
      ]
     },
     "execution_count": 47,
     "metadata": {},
     "output_type": "execute_result"
    }
   ],
   "source": [
    "hpc2_fs_df['Time'].mean()"
   ]
  },
  {
   "cell_type": "code",
   "execution_count": 48,
   "metadata": {},
   "outputs": [
    {
     "data": {
      "text/plain": [
       "16.664860916137695"
      ]
     },
     "execution_count": 48,
     "metadata": {},
     "output_type": "execute_result"
    }
   ],
   "source": [
    "hpc3_fs_df['Time'].mean()"
   ]
  },
  {
   "cell_type": "markdown",
   "metadata": {},
   "source": [
    "## EncryptMultiply Duration"
   ]
  },
  {
   "cell_type": "code",
   "execution_count": 49,
   "metadata": {},
   "outputs": [],
   "source": [
    "hpc1_em_df = get_worker_duration(\"alice\", worker_dfs, \"EncryptMultiply\")"
   ]
  },
  {
   "cell_type": "code",
   "execution_count": 50,
   "metadata": {},
   "outputs": [],
   "source": [
    "hpc2_em_df = get_worker_duration(\"bob\", worker_dfs, \"EncryptMultiply\")"
   ]
  },
  {
   "cell_type": "code",
   "execution_count": 51,
   "metadata": {},
   "outputs": [],
   "source": [
    "hpc3_em_df = get_worker_duration(\"charlie\", worker_dfs, \"EncryptMultiply\")"
   ]
  },
  {
   "cell_type": "code",
   "execution_count": 52,
   "metadata": {},
   "outputs": [
    {
     "data": {
      "text/plain": [
       "2.7414315342903137"
      ]
     },
     "execution_count": 52,
     "metadata": {},
     "output_type": "execute_result"
    }
   ],
   "source": [
    "hpc1_em_df['Time'].mean()"
   ]
  },
  {
   "cell_type": "code",
   "execution_count": 53,
   "metadata": {},
   "outputs": [
    {
     "data": {
      "text/plain": [
       "6.980119740962982"
      ]
     },
     "execution_count": 53,
     "metadata": {},
     "output_type": "execute_result"
    }
   ],
   "source": [
    "hpc2_em_df['Time'].mean()"
   ]
  },
  {
   "cell_type": "code",
   "execution_count": 54,
   "metadata": {},
   "outputs": [
    {
     "data": {
      "text/plain": [
       "6.294533228874206"
      ]
     },
     "execution_count": 54,
     "metadata": {},
     "output_type": "execute_result"
    }
   ],
   "source": [
    "hpc3_em_df['Time'].mean()"
   ]
  },
  {
   "cell_type": "code",
   "execution_count": 55,
   "metadata": {},
   "outputs": [
    {
     "data": {
      "text/html": [
       "<div>\n",
       "<style scoped>\n",
       "    .dataframe tbody tr th:only-of-type {\n",
       "        vertical-align: middle;\n",
       "    }\n",
       "\n",
       "    .dataframe tbody tr th {\n",
       "        vertical-align: top;\n",
       "    }\n",
       "\n",
       "    .dataframe thead th {\n",
       "        text-align: right;\n",
       "    }\n",
       "</style>\n",
       "<table border=\"1\" class=\"dataframe\">\n",
       "  <thead>\n",
       "    <tr style=\"text-align: right;\">\n",
       "      <th></th>\n",
       "      <th>WorkerID</th>\n",
       "      <th>EventType</th>\n",
       "      <th>EventState</th>\n",
       "      <th>Time</th>\n",
       "    </tr>\n",
       "  </thead>\n",
       "  <tbody>\n",
       "    <tr>\n",
       "      <th>0</th>\n",
       "      <td>alice</td>\n",
       "      <td>EncryptMultiply</td>\n",
       "      <td>duration</td>\n",
       "      <td>2.655156</td>\n",
       "    </tr>\n",
       "    <tr>\n",
       "      <th>1</th>\n",
       "      <td>alice</td>\n",
       "      <td>EncryptMultiply</td>\n",
       "      <td>duration</td>\n",
       "      <td>2.488327</td>\n",
       "    </tr>\n",
       "    <tr>\n",
       "      <th>2</th>\n",
       "      <td>alice</td>\n",
       "      <td>EncryptMultiply</td>\n",
       "      <td>duration</td>\n",
       "      <td>2.495913</td>\n",
       "    </tr>\n",
       "    <tr>\n",
       "      <th>3</th>\n",
       "      <td>alice</td>\n",
       "      <td>EncryptMultiply</td>\n",
       "      <td>duration</td>\n",
       "      <td>3.104249</td>\n",
       "    </tr>\n",
       "    <tr>\n",
       "      <th>4</th>\n",
       "      <td>alice</td>\n",
       "      <td>EncryptMultiply</td>\n",
       "      <td>duration</td>\n",
       "      <td>3.039503</td>\n",
       "    </tr>\n",
       "    <tr>\n",
       "      <th>5</th>\n",
       "      <td>alice</td>\n",
       "      <td>EncryptMultiply</td>\n",
       "      <td>duration</td>\n",
       "      <td>3.137661</td>\n",
       "    </tr>\n",
       "    <tr>\n",
       "      <th>6</th>\n",
       "      <td>alice</td>\n",
       "      <td>EncryptMultiply</td>\n",
       "      <td>duration</td>\n",
       "      <td>3.068573</td>\n",
       "    </tr>\n",
       "    <tr>\n",
       "      <th>7</th>\n",
       "      <td>alice</td>\n",
       "      <td>EncryptMultiply</td>\n",
       "      <td>duration</td>\n",
       "      <td>2.553304</td>\n",
       "    </tr>\n",
       "    <tr>\n",
       "      <th>8</th>\n",
       "      <td>alice</td>\n",
       "      <td>EncryptMultiply</td>\n",
       "      <td>duration</td>\n",
       "      <td>2.505005</td>\n",
       "    </tr>\n",
       "    <tr>\n",
       "      <th>9</th>\n",
       "      <td>alice</td>\n",
       "      <td>EncryptMultiply</td>\n",
       "      <td>duration</td>\n",
       "      <td>3.034689</td>\n",
       "    </tr>\n",
       "    <tr>\n",
       "      <th>10</th>\n",
       "      <td>alice</td>\n",
       "      <td>EncryptMultiply</td>\n",
       "      <td>duration</td>\n",
       "      <td>3.155524</td>\n",
       "    </tr>\n",
       "    <tr>\n",
       "      <th>11</th>\n",
       "      <td>alice</td>\n",
       "      <td>EncryptMultiply</td>\n",
       "      <td>duration</td>\n",
       "      <td>3.100145</td>\n",
       "    </tr>\n",
       "    <tr>\n",
       "      <th>12</th>\n",
       "      <td>alice</td>\n",
       "      <td>EncryptMultiply</td>\n",
       "      <td>duration</td>\n",
       "      <td>2.511175</td>\n",
       "    </tr>\n",
       "    <tr>\n",
       "      <th>13</th>\n",
       "      <td>alice</td>\n",
       "      <td>EncryptMultiply</td>\n",
       "      <td>duration</td>\n",
       "      <td>2.626102</td>\n",
       "    </tr>\n",
       "    <tr>\n",
       "      <th>14</th>\n",
       "      <td>alice</td>\n",
       "      <td>EncryptMultiply</td>\n",
       "      <td>duration</td>\n",
       "      <td>2.529233</td>\n",
       "    </tr>\n",
       "    <tr>\n",
       "      <th>15</th>\n",
       "      <td>alice</td>\n",
       "      <td>EncryptMultiply</td>\n",
       "      <td>duration</td>\n",
       "      <td>2.536510</td>\n",
       "    </tr>\n",
       "    <tr>\n",
       "      <th>16</th>\n",
       "      <td>alice</td>\n",
       "      <td>EncryptMultiply</td>\n",
       "      <td>duration</td>\n",
       "      <td>2.632583</td>\n",
       "    </tr>\n",
       "    <tr>\n",
       "      <th>17</th>\n",
       "      <td>alice</td>\n",
       "      <td>EncryptMultiply</td>\n",
       "      <td>duration</td>\n",
       "      <td>2.579963</td>\n",
       "    </tr>\n",
       "    <tr>\n",
       "      <th>18</th>\n",
       "      <td>alice</td>\n",
       "      <td>EncryptMultiply</td>\n",
       "      <td>duration</td>\n",
       "      <td>2.501049</td>\n",
       "    </tr>\n",
       "    <tr>\n",
       "      <th>19</th>\n",
       "      <td>alice</td>\n",
       "      <td>EncryptMultiply</td>\n",
       "      <td>duration</td>\n",
       "      <td>2.573966</td>\n",
       "    </tr>\n",
       "  </tbody>\n",
       "</table>\n",
       "</div>"
      ],
      "text/plain": [
       "   WorkerID        EventType EventState      Time\n",
       "0     alice  EncryptMultiply   duration  2.655156\n",
       "1     alice  EncryptMultiply   duration  2.488327\n",
       "2     alice  EncryptMultiply   duration  2.495913\n",
       "3     alice  EncryptMultiply   duration  3.104249\n",
       "4     alice  EncryptMultiply   duration  3.039503\n",
       "5     alice  EncryptMultiply   duration  3.137661\n",
       "6     alice  EncryptMultiply   duration  3.068573\n",
       "7     alice  EncryptMultiply   duration  2.553304\n",
       "8     alice  EncryptMultiply   duration  2.505005\n",
       "9     alice  EncryptMultiply   duration  3.034689\n",
       "10    alice  EncryptMultiply   duration  3.155524\n",
       "11    alice  EncryptMultiply   duration  3.100145\n",
       "12    alice  EncryptMultiply   duration  2.511175\n",
       "13    alice  EncryptMultiply   duration  2.626102\n",
       "14    alice  EncryptMultiply   duration  2.529233\n",
       "15    alice  EncryptMultiply   duration  2.536510\n",
       "16    alice  EncryptMultiply   duration  2.632583\n",
       "17    alice  EncryptMultiply   duration  2.579963\n",
       "18    alice  EncryptMultiply   duration  2.501049\n",
       "19    alice  EncryptMultiply   duration  2.573966"
      ]
     },
     "execution_count": 55,
     "metadata": {},
     "output_type": "execute_result"
    }
   ],
   "source": [
    "hpc1_em_df"
   ]
  },
  {
   "cell_type": "code",
   "execution_count": 56,
   "metadata": {},
   "outputs": [
    {
     "data": {
      "text/html": [
       "<div>\n",
       "<style scoped>\n",
       "    .dataframe tbody tr th:only-of-type {\n",
       "        vertical-align: middle;\n",
       "    }\n",
       "\n",
       "    .dataframe tbody tr th {\n",
       "        vertical-align: top;\n",
       "    }\n",
       "\n",
       "    .dataframe thead th {\n",
       "        text-align: right;\n",
       "    }\n",
       "</style>\n",
       "<table border=\"1\" class=\"dataframe\">\n",
       "  <thead>\n",
       "    <tr style=\"text-align: right;\">\n",
       "      <th></th>\n",
       "      <th>WorkerID</th>\n",
       "      <th>EventType</th>\n",
       "      <th>EventState</th>\n",
       "      <th>Time</th>\n",
       "    </tr>\n",
       "  </thead>\n",
       "  <tbody>\n",
       "    <tr>\n",
       "      <th>0</th>\n",
       "      <td>charlie</td>\n",
       "      <td>EncryptMultiply</td>\n",
       "      <td>duration</td>\n",
       "      <td>5.838547</td>\n",
       "    </tr>\n",
       "    <tr>\n",
       "      <th>1</th>\n",
       "      <td>charlie</td>\n",
       "      <td>EncryptMultiply</td>\n",
       "      <td>duration</td>\n",
       "      <td>6.201904</td>\n",
       "    </tr>\n",
       "    <tr>\n",
       "      <th>2</th>\n",
       "      <td>charlie</td>\n",
       "      <td>EncryptMultiply</td>\n",
       "      <td>duration</td>\n",
       "      <td>6.667344</td>\n",
       "    </tr>\n",
       "    <tr>\n",
       "      <th>3</th>\n",
       "      <td>charlie</td>\n",
       "      <td>EncryptMultiply</td>\n",
       "      <td>duration</td>\n",
       "      <td>6.498047</td>\n",
       "    </tr>\n",
       "    <tr>\n",
       "      <th>4</th>\n",
       "      <td>charlie</td>\n",
       "      <td>EncryptMultiply</td>\n",
       "      <td>duration</td>\n",
       "      <td>6.964555</td>\n",
       "    </tr>\n",
       "    <tr>\n",
       "      <th>5</th>\n",
       "      <td>charlie</td>\n",
       "      <td>EncryptMultiply</td>\n",
       "      <td>duration</td>\n",
       "      <td>7.083305</td>\n",
       "    </tr>\n",
       "    <tr>\n",
       "      <th>6</th>\n",
       "      <td>charlie</td>\n",
       "      <td>EncryptMultiply</td>\n",
       "      <td>duration</td>\n",
       "      <td>6.509825</td>\n",
       "    </tr>\n",
       "    <tr>\n",
       "      <th>7</th>\n",
       "      <td>charlie</td>\n",
       "      <td>EncryptMultiply</td>\n",
       "      <td>duration</td>\n",
       "      <td>5.604012</td>\n",
       "    </tr>\n",
       "    <tr>\n",
       "      <th>8</th>\n",
       "      <td>charlie</td>\n",
       "      <td>EncryptMultiply</td>\n",
       "      <td>duration</td>\n",
       "      <td>6.116922</td>\n",
       "    </tr>\n",
       "    <tr>\n",
       "      <th>9</th>\n",
       "      <td>charlie</td>\n",
       "      <td>EncryptMultiply</td>\n",
       "      <td>duration</td>\n",
       "      <td>5.742249</td>\n",
       "    </tr>\n",
       "    <tr>\n",
       "      <th>10</th>\n",
       "      <td>charlie</td>\n",
       "      <td>EncryptMultiply</td>\n",
       "      <td>duration</td>\n",
       "      <td>6.184570</td>\n",
       "    </tr>\n",
       "    <tr>\n",
       "      <th>11</th>\n",
       "      <td>charlie</td>\n",
       "      <td>EncryptMultiply</td>\n",
       "      <td>duration</td>\n",
       "      <td>6.803852</td>\n",
       "    </tr>\n",
       "    <tr>\n",
       "      <th>12</th>\n",
       "      <td>charlie</td>\n",
       "      <td>EncryptMultiply</td>\n",
       "      <td>duration</td>\n",
       "      <td>5.529182</td>\n",
       "    </tr>\n",
       "    <tr>\n",
       "      <th>13</th>\n",
       "      <td>charlie</td>\n",
       "      <td>EncryptMultiply</td>\n",
       "      <td>duration</td>\n",
       "      <td>6.299864</td>\n",
       "    </tr>\n",
       "    <tr>\n",
       "      <th>14</th>\n",
       "      <td>charlie</td>\n",
       "      <td>EncryptMultiply</td>\n",
       "      <td>duration</td>\n",
       "      <td>5.588569</td>\n",
       "    </tr>\n",
       "    <tr>\n",
       "      <th>15</th>\n",
       "      <td>charlie</td>\n",
       "      <td>EncryptMultiply</td>\n",
       "      <td>duration</td>\n",
       "      <td>6.718212</td>\n",
       "    </tr>\n",
       "    <tr>\n",
       "      <th>16</th>\n",
       "      <td>charlie</td>\n",
       "      <td>EncryptMultiply</td>\n",
       "      <td>duration</td>\n",
       "      <td>6.390249</td>\n",
       "    </tr>\n",
       "    <tr>\n",
       "      <th>17</th>\n",
       "      <td>charlie</td>\n",
       "      <td>EncryptMultiply</td>\n",
       "      <td>duration</td>\n",
       "      <td>5.737938</td>\n",
       "    </tr>\n",
       "    <tr>\n",
       "      <th>18</th>\n",
       "      <td>charlie</td>\n",
       "      <td>EncryptMultiply</td>\n",
       "      <td>duration</td>\n",
       "      <td>6.457286</td>\n",
       "    </tr>\n",
       "    <tr>\n",
       "      <th>19</th>\n",
       "      <td>charlie</td>\n",
       "      <td>EncryptMultiply</td>\n",
       "      <td>duration</td>\n",
       "      <td>6.954234</td>\n",
       "    </tr>\n",
       "  </tbody>\n",
       "</table>\n",
       "</div>"
      ],
      "text/plain": [
       "   WorkerID        EventType EventState      Time\n",
       "0   charlie  EncryptMultiply   duration  5.838547\n",
       "1   charlie  EncryptMultiply   duration  6.201904\n",
       "2   charlie  EncryptMultiply   duration  6.667344\n",
       "3   charlie  EncryptMultiply   duration  6.498047\n",
       "4   charlie  EncryptMultiply   duration  6.964555\n",
       "5   charlie  EncryptMultiply   duration  7.083305\n",
       "6   charlie  EncryptMultiply   duration  6.509825\n",
       "7   charlie  EncryptMultiply   duration  5.604012\n",
       "8   charlie  EncryptMultiply   duration  6.116922\n",
       "9   charlie  EncryptMultiply   duration  5.742249\n",
       "10  charlie  EncryptMultiply   duration  6.184570\n",
       "11  charlie  EncryptMultiply   duration  6.803852\n",
       "12  charlie  EncryptMultiply   duration  5.529182\n",
       "13  charlie  EncryptMultiply   duration  6.299864\n",
       "14  charlie  EncryptMultiply   duration  5.588569\n",
       "15  charlie  EncryptMultiply   duration  6.718212\n",
       "16  charlie  EncryptMultiply   duration  6.390249\n",
       "17  charlie  EncryptMultiply   duration  5.737938\n",
       "18  charlie  EncryptMultiply   duration  6.457286\n",
       "19  charlie  EncryptMultiply   duration  6.954234"
      ]
     },
     "execution_count": 56,
     "metadata": {},
     "output_type": "execute_result"
    }
   ],
   "source": [
    "hpc3_em_df"
   ]
  },
  {
   "cell_type": "markdown",
   "metadata": {},
   "source": [
    "## EncryptParameter Duration"
   ]
  },
  {
   "cell_type": "code",
   "execution_count": 57,
   "metadata": {},
   "outputs": [],
   "source": [
    "def get_encrypt_parameter_duration(worker_id, worker_dfs):\n",
    "    worker_df = worker_dfs[worker_id]\n",
    "    worker_ep_df = worker_df[worker_df[\"EventType\"].str.contains('EncryptParameter', regex=False)]\n",
    "    worker_ep_df = worker_ep_df.reset_index()\n",
    "    \n",
    "    del worker_ep_df[\"index\"]\n",
    "    del worker_ep_df[\"ID\"]\n",
    "    \n",
    "    return worker_ep_df\n",
    "    "
   ]
  },
  {
   "cell_type": "code",
   "execution_count": 58,
   "metadata": {},
   "outputs": [],
   "source": [
    "# hpc1_ep_df = get_encrypt_parameter_duration(\"alice\", worker_dfs)\n",
    "hpc1_ep_df = get_worker_duration(\"alice\", worker_dfs, \"EncryptParameter\")\n",
    "hpc2_ep_df = get_worker_duration(\"bob\", worker_dfs, \"EncryptParameter\")\n",
    "hpc3_ep_df = get_worker_duration(\"charlie\", worker_dfs, \"EncryptParameter\")"
   ]
  },
  {
   "cell_type": "code",
   "execution_count": 59,
   "metadata": {},
   "outputs": [
    {
     "data": {
      "text/html": [
       "<div>\n",
       "<style scoped>\n",
       "    .dataframe tbody tr th:only-of-type {\n",
       "        vertical-align: middle;\n",
       "    }\n",
       "\n",
       "    .dataframe tbody tr th {\n",
       "        vertical-align: top;\n",
       "    }\n",
       "\n",
       "    .dataframe thead th {\n",
       "        text-align: right;\n",
       "    }\n",
       "</style>\n",
       "<table border=\"1\" class=\"dataframe\">\n",
       "  <thead>\n",
       "    <tr style=\"text-align: right;\">\n",
       "      <th></th>\n",
       "      <th>WorkerID</th>\n",
       "      <th>EventType</th>\n",
       "      <th>EventState</th>\n",
       "      <th>Time</th>\n",
       "    </tr>\n",
       "  </thead>\n",
       "  <tbody>\n",
       "    <tr>\n",
       "      <th>0</th>\n",
       "      <td>alice</td>\n",
       "      <td>EncryptParameter0</td>\n",
       "      <td>duration</td>\n",
       "      <td>0.008208</td>\n",
       "    </tr>\n",
       "    <tr>\n",
       "      <th>1</th>\n",
       "      <td>alice</td>\n",
       "      <td>EncryptParameter1</td>\n",
       "      <td>duration</td>\n",
       "      <td>0.007254</td>\n",
       "    </tr>\n",
       "    <tr>\n",
       "      <th>2</th>\n",
       "      <td>alice</td>\n",
       "      <td>EncryptParameter2</td>\n",
       "      <td>duration</td>\n",
       "      <td>0.096836</td>\n",
       "    </tr>\n",
       "    <tr>\n",
       "      <th>3</th>\n",
       "      <td>alice</td>\n",
       "      <td>EncryptParameter3</td>\n",
       "      <td>duration</td>\n",
       "      <td>0.005957</td>\n",
       "    </tr>\n",
       "    <tr>\n",
       "      <th>4</th>\n",
       "      <td>alice</td>\n",
       "      <td>EncryptParameter4</td>\n",
       "      <td>duration</td>\n",
       "      <td>2.371753</td>\n",
       "    </tr>\n",
       "    <tr>\n",
       "      <th>5</th>\n",
       "      <td>alice</td>\n",
       "      <td>EncryptParameter5</td>\n",
       "      <td>duration</td>\n",
       "      <td>0.015386</td>\n",
       "    </tr>\n",
       "    <tr>\n",
       "      <th>6</th>\n",
       "      <td>alice</td>\n",
       "      <td>EncryptParameter6</td>\n",
       "      <td>duration</td>\n",
       "      <td>0.022224</td>\n",
       "    </tr>\n",
       "    <tr>\n",
       "      <th>7</th>\n",
       "      <td>alice</td>\n",
       "      <td>EncryptParameter7</td>\n",
       "      <td>duration</td>\n",
       "      <td>0.004442</td>\n",
       "    </tr>\n",
       "  </tbody>\n",
       "</table>\n",
       "</div>"
      ],
      "text/plain": [
       "  WorkerID          EventType EventState      Time\n",
       "0    alice  EncryptParameter0   duration  0.008208\n",
       "1    alice  EncryptParameter1   duration  0.007254\n",
       "2    alice  EncryptParameter2   duration  0.096836\n",
       "3    alice  EncryptParameter3   duration  0.005957\n",
       "4    alice  EncryptParameter4   duration  2.371753\n",
       "5    alice  EncryptParameter5   duration  0.015386\n",
       "6    alice  EncryptParameter6   duration  0.022224\n",
       "7    alice  EncryptParameter7   duration  0.004442"
      ]
     },
     "execution_count": 59,
     "metadata": {},
     "output_type": "execute_result"
    }
   ],
   "source": [
    "hpc1_ep_df[0:8]"
   ]
  },
  {
   "cell_type": "code",
   "execution_count": 60,
   "metadata": {},
   "outputs": [
    {
     "name": "stdout",
     "output_type": "stream",
     "text": [
      "0: 0.008632922172546386\n",
      "1: 0.004727673530578613\n",
      "2: 0.11859222650527954\n",
      "3: 0.03444761037826538\n",
      "4: 2.174571084976196\n",
      "5: 0.14334408044815064\n",
      "6: 0.09053375720977783\n",
      "7: 0.009077227115631104\n"
     ]
    }
   ],
   "source": [
    "mean_values = []\n",
    "for i in range(8):\n",
    "    mean_value = hpc1_ep_df[hpc1_ep_df[\"EventType\"] == \"EncryptParameter\"+str(i)][\"Time\"].mean()\n",
    "    mean_values.append(mean_value)\n",
    "    print(str(i)+\":\", mean_value)"
   ]
  },
  {
   "cell_type": "code",
   "execution_count": 61,
   "metadata": {},
   "outputs": [
    {
     "data": {
      "text/plain": [
       "2.5839265823364257"
      ]
     },
     "execution_count": 61,
     "metadata": {},
     "output_type": "execute_result"
    }
   ],
   "source": [
    "sum(mean_values)"
   ]
  },
  {
   "cell_type": "code",
   "execution_count": null,
   "metadata": {},
   "outputs": [],
   "source": []
  },
  {
   "cell_type": "code",
   "execution_count": 62,
   "metadata": {},
   "outputs": [
    {
     "name": "stdout",
     "output_type": "stream",
     "text": [
      "0: 4.250299048423767\n",
      "1: 0.006587338447570801\n",
      "2: 0.14224008321762086\n",
      "3: 0.07622889280319214\n",
      "4: 2.0606893420219423\n",
      "5: 0.10327472686767578\n",
      "6: 0.09056872129440308\n",
      "7: 0.006265199184417725\n"
     ]
    }
   ],
   "source": [
    "for i in range(8):\n",
    "    mean_value = hpc2_ep_df[hpc1_ep_df[\"EventType\"] == \"EncryptParameter\"+str(i)][\"Time\"].mean()\n",
    "    print(str(i)+\":\", mean_value)"
   ]
  },
  {
   "cell_type": "code",
   "execution_count": 63,
   "metadata": {},
   "outputs": [
    {
     "name": "stdout",
     "output_type": "stream",
     "text": [
      "0: 3.571883976459503\n",
      "1: 0.004579067230224609\n",
      "2: 0.1086920976638794\n",
      "3: 0.03220844268798828\n",
      "4: 1.700234878063202\n",
      "5: 0.24840887784957885\n",
      "6: 0.2065204381942749\n",
      "7: 0.0079475998878479\n"
     ]
    }
   ],
   "source": [
    "for i in range(8):\n",
    "    mean_value = hpc3_ep_df[hpc1_ep_df[\"EventType\"] == \"EncryptParameter\"+str(i)][\"Time\"].mean()\n",
    "    print(str(i)+\":\", mean_value)"
   ]
  },
  {
   "cell_type": "code",
   "execution_count": 64,
   "metadata": {},
   "outputs": [
    {
     "data": {
      "text/plain": [
       "0    0.008208\n",
       "1    0.007254\n",
       "2    0.096836\n",
       "3    0.005957\n",
       "4    2.371753\n",
       "5    0.015386\n",
       "6    0.022224\n",
       "7    0.004442\n",
       "Name: Time, dtype: float64"
      ]
     },
     "execution_count": 64,
     "metadata": {},
     "output_type": "execute_result"
    }
   ],
   "source": [
    "hpc1_ep_df[\"Time\"][0:8]"
   ]
  },
  {
   "cell_type": "code",
   "execution_count": 65,
   "metadata": {},
   "outputs": [
    {
     "data": {
      "text/plain": [
       "0.3229908227920532"
      ]
     },
     "execution_count": 65,
     "metadata": {},
     "output_type": "execute_result"
    }
   ],
   "source": [
    "hpc1_ep_df[\"Time\"].mean()"
   ]
  },
  {
   "cell_type": "code",
   "execution_count": 66,
   "metadata": {},
   "outputs": [
    {
     "data": {
      "text/plain": [
       "0.8420191690325737"
      ]
     },
     "execution_count": 66,
     "metadata": {},
     "output_type": "execute_result"
    }
   ],
   "source": [
    "hpc2_ep_df[\"Time\"].mean()"
   ]
  },
  {
   "cell_type": "code",
   "execution_count": 67,
   "metadata": {},
   "outputs": [
    {
     "data": {
      "text/plain": [
       "0.7350594222545623"
      ]
     },
     "execution_count": 67,
     "metadata": {},
     "output_type": "execute_result"
    }
   ],
   "source": [
    "hpc3_ep_df[\"Time\"].mean()"
   ]
  },
  {
   "cell_type": "markdown",
   "metadata": {},
   "source": [
    "## MultiplyParameter Duration"
   ]
  },
  {
   "cell_type": "code",
   "execution_count": 68,
   "metadata": {},
   "outputs": [],
   "source": [
    "def get_multiply_parameter_duration(worker_id, worker_dfs):\n",
    "    worker_df = worker_dfs[worker_id]\n",
    "    worker_ep_df = worker_df[worker_df[\"EventType\"].str.contains('MultiplyParameter', regex=False)]\n",
    "    worker_ep_df = worker_ep_df.reset_index()\n",
    "    \n",
    "    del worker_ep_df[\"index\"]\n",
    "    del worker_ep_df[\"ID\"]\n",
    "    \n",
    "    return worker_ep_df"
   ]
  },
  {
   "cell_type": "code",
   "execution_count": 69,
   "metadata": {},
   "outputs": [],
   "source": [
    "# hpc1_mp_df = get_multiply_parameter_duration(\"alice\", worker_dfs)\n",
    "hpc1_mp_df = get_worker_duration(\"alice\", worker_dfs, \"MultiplyParameter\")\n",
    "hpc2_mp_df = get_worker_duration(\"bob\", worker_dfs, \"MultiplyParameter\")\n",
    "hpc3_mp_df = get_worker_duration(\"charlie\", worker_dfs, \"MultiplyParameter\")"
   ]
  },
  {
   "cell_type": "code",
   "execution_count": 70,
   "metadata": {},
   "outputs": [
    {
     "data": {
      "text/plain": [
       "0.11918282508850099"
      ]
     },
     "execution_count": 70,
     "metadata": {},
     "output_type": "execute_result"
    }
   ],
   "source": [
    "hpc1_mp_df[:8][\"Time\"].sum()"
   ]
  },
  {
   "cell_type": "code",
   "execution_count": 71,
   "metadata": {},
   "outputs": [
    {
     "data": {
      "text/plain": [
       "0.019214098155498505"
      ]
     },
     "execution_count": 71,
     "metadata": {},
     "output_type": "execute_result"
    }
   ],
   "source": [
    "hpc1_mp_df[\"Time\"].mean()"
   ]
  },
  {
   "cell_type": "code",
   "execution_count": 72,
   "metadata": {},
   "outputs": [
    {
     "data": {
      "text/plain": [
       "0.029996877908706664"
      ]
     },
     "execution_count": 72,
     "metadata": {},
     "output_type": "execute_result"
    }
   ],
   "source": [
    "hpc2_mp_df[\"Time\"].mean()"
   ]
  },
  {
   "cell_type": "code",
   "execution_count": 73,
   "metadata": {},
   "outputs": [
    {
     "data": {
      "text/plain": [
       "0.05132453441619873"
      ]
     },
     "execution_count": 73,
     "metadata": {},
     "output_type": "execute_result"
    }
   ],
   "source": [
    "hpc3_mp_df[\"Time\"].mean()"
   ]
  },
  {
   "cell_type": "markdown",
   "metadata": {},
   "source": [
    "## RetrieveTime duration"
   ]
  },
  {
   "cell_type": "code",
   "execution_count": 74,
   "metadata": {},
   "outputs": [],
   "source": [
    "def get_coord_retrieve_duration(coord_df, worker_id):\n",
    "    coord_event_df = coord_df[coord_df[\"EventType\"].str.contains(\"RetrieveTime\", regex=False)]\n",
    "    coord_event_df = coord_event_df[coord_event_df[\"ID\"] == worker_id]\n",
    "    coord_event_df = coord_event_df.reset_index()\n",
    "    \n",
    "    del coord_event_df['index']\n",
    "    \n",
    "    return coord_event_df"
   ]
  },
  {
   "cell_type": "code",
   "execution_count": 75,
   "metadata": {},
   "outputs": [],
   "source": [
    "hpc1_ret_df = get_coord_retrieve_duration(coord_df, \"alice\")"
   ]
  },
  {
   "cell_type": "code",
   "execution_count": 76,
   "metadata": {},
   "outputs": [],
   "source": [
    "hpc2_ret_df = get_coord_retrieve_duration(coord_df, \"bob\")"
   ]
  },
  {
   "cell_type": "code",
   "execution_count": 77,
   "metadata": {},
   "outputs": [],
   "source": [
    "hpc3_ret_df = get_coord_retrieve_duration(coord_df, \"charlie\")"
   ]
  },
  {
   "cell_type": "code",
   "execution_count": 78,
   "metadata": {},
   "outputs": [
    {
     "data": {
      "text/plain": [
       "0.01607893705368042"
      ]
     },
     "execution_count": 78,
     "metadata": {},
     "output_type": "execute_result"
    }
   ],
   "source": [
    "hpc1_ret_df[\"Time\"].mean()"
   ]
  },
  {
   "cell_type": "code",
   "execution_count": 79,
   "metadata": {},
   "outputs": [
    {
     "data": {
      "text/plain": [
       "0.016192054748535155"
      ]
     },
     "execution_count": 79,
     "metadata": {},
     "output_type": "execute_result"
    }
   ],
   "source": [
    "hpc2_ret_df[\"Time\"].mean()"
   ]
  },
  {
   "cell_type": "code",
   "execution_count": 80,
   "metadata": {},
   "outputs": [
    {
     "data": {
      "text/plain": [
       "0.018958091735839844"
      ]
     },
     "execution_count": 80,
     "metadata": {},
     "output_type": "execute_result"
    }
   ],
   "source": [
    "hpc3_ret_df[\"Time\"].mean()"
   ]
  },
  {
   "cell_type": "markdown",
   "metadata": {},
   "source": [
    "## ShareSend Duration"
   ]
  },
  {
   "cell_type": "code",
   "execution_count": 81,
   "metadata": {},
   "outputs": [],
   "source": [
    "def calculate_share_send_duration(worker_id, worker_dfs, nr_parameters):\n",
    "    worker_df = worker_dfs[worker_id]\n",
    "    worker_send_share_df = worker_df[worker_df[\"EventType\"].str.contains('SendShare', regex=False)]\n",
    "    \n",
    "    worker_send_share_start_df = worker_send_share_df[worker_send_share_df[\"EventState\"] == 'start']\n",
    "    worker_send_share_start_df = worker_send_share_start_df.reset_index()\n",
    "    worker_send_share_start_df = worker_send_share_start_df[[\"WorkerID\", \"EventType\", \"ID\", \"Time\"]]\n",
    "    worker_send_share_start_df.columns = [\"WorkerID\", \"EventType\", \"ID\", \"StartTime\"]\n",
    "    \n",
    "    worker_send_share_end_df = worker_send_share_df[worker_send_share_df[\"EventState\"] == 'end']\n",
    "    worker_send_share_end_df = worker_send_share_end_df.reset_index()\n",
    "    \n",
    "    send_share_df_cat = pd.concat([worker_send_share_start_df, worker_send_share_end_df[\"Time\"]], axis=1)\n",
    "    send_share_df_cat.columns = [\"WorkerID\", \"EventType\", \"ID\", \"StartTime\", \"EndTime\"]\n",
    "    send_share_df_cat[\"Duration\"] = send_share_df_cat.apply(lambda x: x[\"EndTime\"] - x[\"StartTime\"], axis=1)\n",
    "    \n",
    "    parameter_index = []\n",
    "    nr_worker = len(worker_dfs)\n",
    "    p_index = -1\n",
    "\n",
    "    for i in range(len(send_share_df_cat)):\n",
    "        tmp_index = (i%nr_worker)\n",
    "        if tmp_index == 0:\n",
    "            p_index += 1\n",
    "            p_index = p_index % nr_parameters\n",
    "        parameter_index.append(p_index)\n",
    "        \n",
    "    send_share_df_cat.insert(2, \"p_idx\", parameter_index)\n",
    "    obj_id_list = send_share_df_cat.apply(lambda x: x[\"EventType\"].split(\"_\")[1], axis=1)\n",
    "    send_share_df_cat.insert(2, \"obj_id\", obj_id_list)\n",
    "    \n",
    "    del send_share_df_cat[\"EventType\"]\n",
    "    send_share_df_cat.insert(1, \"EventType\", \"SendShare\")\n",
    "    \n",
    "    return send_share_df_cat\n"
   ]
  },
  {
   "cell_type": "code",
   "execution_count": 82,
   "metadata": {},
   "outputs": [],
   "source": [
    "alice_send_share_df_cat = calculate_share_send_duration(\"alice\", worker_dfs, 8)\n",
    "bob_send_share_df_cat = calculate_share_send_duration(\"bob\", worker_dfs, 8)\n",
    "charlie_send_share_df_cat = calculate_share_send_duration(\"charlie\", worker_dfs, 8)"
   ]
  },
  {
   "cell_type": "code",
   "execution_count": 83,
   "metadata": {},
   "outputs": [
    {
     "data": {
      "text/html": [
       "<div>\n",
       "<style scoped>\n",
       "    .dataframe tbody tr th:only-of-type {\n",
       "        vertical-align: middle;\n",
       "    }\n",
       "\n",
       "    .dataframe tbody tr th {\n",
       "        vertical-align: top;\n",
       "    }\n",
       "\n",
       "    .dataframe thead th {\n",
       "        text-align: right;\n",
       "    }\n",
       "</style>\n",
       "<table border=\"1\" class=\"dataframe\">\n",
       "  <thead>\n",
       "    <tr style=\"text-align: right;\">\n",
       "      <th></th>\n",
       "      <th>WorkerID</th>\n",
       "      <th>EventType</th>\n",
       "      <th>obj_id</th>\n",
       "      <th>p_idx</th>\n",
       "      <th>ID</th>\n",
       "      <th>StartTime</th>\n",
       "      <th>EndTime</th>\n",
       "      <th>Duration</th>\n",
       "    </tr>\n",
       "  </thead>\n",
       "  <tbody>\n",
       "    <tr>\n",
       "      <th>0</th>\n",
       "      <td>alice</td>\n",
       "      <td>SendShare</td>\n",
       "      <td>23997006610</td>\n",
       "      <td>0</td>\n",
       "      <td>alice</td>\n",
       "      <td>1.598988e+09</td>\n",
       "      <td>1.598988e+09</td>\n",
       "      <td>0.001037</td>\n",
       "    </tr>\n",
       "    <tr>\n",
       "      <th>1</th>\n",
       "      <td>alice</td>\n",
       "      <td>SendShare</td>\n",
       "      <td>75182669587</td>\n",
       "      <td>0</td>\n",
       "      <td>bob</td>\n",
       "      <td>1.598988e+09</td>\n",
       "      <td>1.598988e+09</td>\n",
       "      <td>0.003384</td>\n",
       "    </tr>\n",
       "    <tr>\n",
       "      <th>2</th>\n",
       "      <td>alice</td>\n",
       "      <td>SendShare</td>\n",
       "      <td>5023164647</td>\n",
       "      <td>0</td>\n",
       "      <td>charlie</td>\n",
       "      <td>1.598988e+09</td>\n",
       "      <td>1.598988e+09</td>\n",
       "      <td>0.003255</td>\n",
       "    </tr>\n",
       "    <tr>\n",
       "      <th>3</th>\n",
       "      <td>alice</td>\n",
       "      <td>SendShare</td>\n",
       "      <td>80407731133</td>\n",
       "      <td>1</td>\n",
       "      <td>alice</td>\n",
       "      <td>1.598988e+09</td>\n",
       "      <td>1.598988e+09</td>\n",
       "      <td>0.000543</td>\n",
       "    </tr>\n",
       "    <tr>\n",
       "      <th>4</th>\n",
       "      <td>alice</td>\n",
       "      <td>SendShare</td>\n",
       "      <td>66576630703</td>\n",
       "      <td>1</td>\n",
       "      <td>bob</td>\n",
       "      <td>1.598988e+09</td>\n",
       "      <td>1.598988e+09</td>\n",
       "      <td>0.002545</td>\n",
       "    </tr>\n",
       "    <tr>\n",
       "      <th>...</th>\n",
       "      <td>...</td>\n",
       "      <td>...</td>\n",
       "      <td>...</td>\n",
       "      <td>...</td>\n",
       "      <td>...</td>\n",
       "      <td>...</td>\n",
       "      <td>...</td>\n",
       "      <td>...</td>\n",
       "    </tr>\n",
       "    <tr>\n",
       "      <th>475</th>\n",
       "      <td>alice</td>\n",
       "      <td>SendShare</td>\n",
       "      <td>8660112579</td>\n",
       "      <td>6</td>\n",
       "      <td>bob</td>\n",
       "      <td>1.598989e+09</td>\n",
       "      <td>1.598989e+09</td>\n",
       "      <td>0.014551</td>\n",
       "    </tr>\n",
       "    <tr>\n",
       "      <th>476</th>\n",
       "      <td>alice</td>\n",
       "      <td>SendShare</td>\n",
       "      <td>20585141147</td>\n",
       "      <td>6</td>\n",
       "      <td>charlie</td>\n",
       "      <td>1.598989e+09</td>\n",
       "      <td>1.598989e+09</td>\n",
       "      <td>0.011652</td>\n",
       "    </tr>\n",
       "    <tr>\n",
       "      <th>477</th>\n",
       "      <td>alice</td>\n",
       "      <td>SendShare</td>\n",
       "      <td>16580334952</td>\n",
       "      <td>7</td>\n",
       "      <td>alice</td>\n",
       "      <td>1.598989e+09</td>\n",
       "      <td>1.598989e+09</td>\n",
       "      <td>0.000613</td>\n",
       "    </tr>\n",
       "    <tr>\n",
       "      <th>478</th>\n",
       "      <td>alice</td>\n",
       "      <td>SendShare</td>\n",
       "      <td>20844511931</td>\n",
       "      <td>7</td>\n",
       "      <td>bob</td>\n",
       "      <td>1.598989e+09</td>\n",
       "      <td>1.598989e+09</td>\n",
       "      <td>0.002126</td>\n",
       "    </tr>\n",
       "    <tr>\n",
       "      <th>479</th>\n",
       "      <td>alice</td>\n",
       "      <td>SendShare</td>\n",
       "      <td>6734623441</td>\n",
       "      <td>7</td>\n",
       "      <td>charlie</td>\n",
       "      <td>1.598989e+09</td>\n",
       "      <td>1.598989e+09</td>\n",
       "      <td>0.009248</td>\n",
       "    </tr>\n",
       "  </tbody>\n",
       "</table>\n",
       "<p>480 rows × 8 columns</p>\n",
       "</div>"
      ],
      "text/plain": [
       "    WorkerID  EventType       obj_id  p_idx       ID     StartTime  \\\n",
       "0      alice  SendShare  23997006610      0    alice  1.598988e+09   \n",
       "1      alice  SendShare  75182669587      0      bob  1.598988e+09   \n",
       "2      alice  SendShare   5023164647      0  charlie  1.598988e+09   \n",
       "3      alice  SendShare  80407731133      1    alice  1.598988e+09   \n",
       "4      alice  SendShare  66576630703      1      bob  1.598988e+09   \n",
       "..       ...        ...          ...    ...      ...           ...   \n",
       "475    alice  SendShare   8660112579      6      bob  1.598989e+09   \n",
       "476    alice  SendShare  20585141147      6  charlie  1.598989e+09   \n",
       "477    alice  SendShare  16580334952      7    alice  1.598989e+09   \n",
       "478    alice  SendShare  20844511931      7      bob  1.598989e+09   \n",
       "479    alice  SendShare   6734623441      7  charlie  1.598989e+09   \n",
       "\n",
       "          EndTime  Duration  \n",
       "0    1.598988e+09  0.001037  \n",
       "1    1.598988e+09  0.003384  \n",
       "2    1.598988e+09  0.003255  \n",
       "3    1.598988e+09  0.000543  \n",
       "4    1.598988e+09  0.002545  \n",
       "..            ...       ...  \n",
       "475  1.598989e+09  0.014551  \n",
       "476  1.598989e+09  0.011652  \n",
       "477  1.598989e+09  0.000613  \n",
       "478  1.598989e+09  0.002126  \n",
       "479  1.598989e+09  0.009248  \n",
       "\n",
       "[480 rows x 8 columns]"
      ]
     },
     "execution_count": 83,
     "metadata": {},
     "output_type": "execute_result"
    }
   ],
   "source": [
    "alice_send_share_df_cat"
   ]
  },
  {
   "cell_type": "code",
   "execution_count": 84,
   "metadata": {},
   "outputs": [
    {
     "data": {
      "text/html": [
       "<div>\n",
       "<style scoped>\n",
       "    .dataframe tbody tr th:only-of-type {\n",
       "        vertical-align: middle;\n",
       "    }\n",
       "\n",
       "    .dataframe tbody tr th {\n",
       "        vertical-align: top;\n",
       "    }\n",
       "\n",
       "    .dataframe thead th {\n",
       "        text-align: right;\n",
       "    }\n",
       "</style>\n",
       "<table border=\"1\" class=\"dataframe\">\n",
       "  <thead>\n",
       "    <tr style=\"text-align: right;\">\n",
       "      <th></th>\n",
       "      <th>WorkerID</th>\n",
       "      <th>EventType</th>\n",
       "      <th>obj_id</th>\n",
       "      <th>p_idx</th>\n",
       "      <th>ID</th>\n",
       "      <th>StartTime</th>\n",
       "      <th>EndTime</th>\n",
       "      <th>Duration</th>\n",
       "    </tr>\n",
       "  </thead>\n",
       "  <tbody>\n",
       "    <tr>\n",
       "      <th>0</th>\n",
       "      <td>bob</td>\n",
       "      <td>SendShare</td>\n",
       "      <td>9659550396</td>\n",
       "      <td>0</td>\n",
       "      <td>alice</td>\n",
       "      <td>1.598988e+09</td>\n",
       "      <td>1.598988e+09</td>\n",
       "      <td>4.018958</td>\n",
       "    </tr>\n",
       "    <tr>\n",
       "      <th>1</th>\n",
       "      <td>bob</td>\n",
       "      <td>SendShare</td>\n",
       "      <td>41166973424</td>\n",
       "      <td>0</td>\n",
       "      <td>bob</td>\n",
       "      <td>1.598988e+09</td>\n",
       "      <td>1.598988e+09</td>\n",
       "      <td>0.000987</td>\n",
       "    </tr>\n",
       "    <tr>\n",
       "      <th>2</th>\n",
       "      <td>bob</td>\n",
       "      <td>SendShare</td>\n",
       "      <td>58600117538</td>\n",
       "      <td>0</td>\n",
       "      <td>charlie</td>\n",
       "      <td>1.598988e+09</td>\n",
       "      <td>1.598988e+09</td>\n",
       "      <td>0.004365</td>\n",
       "    </tr>\n",
       "    <tr>\n",
       "      <th>3</th>\n",
       "      <td>bob</td>\n",
       "      <td>SendShare</td>\n",
       "      <td>28100465353</td>\n",
       "      <td>1</td>\n",
       "      <td>alice</td>\n",
       "      <td>1.598988e+09</td>\n",
       "      <td>1.598988e+09</td>\n",
       "      <td>0.002429</td>\n",
       "    </tr>\n",
       "    <tr>\n",
       "      <th>4</th>\n",
       "      <td>bob</td>\n",
       "      <td>SendShare</td>\n",
       "      <td>37063113338</td>\n",
       "      <td>1</td>\n",
       "      <td>bob</td>\n",
       "      <td>1.598988e+09</td>\n",
       "      <td>1.598988e+09</td>\n",
       "      <td>0.000874</td>\n",
       "    </tr>\n",
       "    <tr>\n",
       "      <th>...</th>\n",
       "      <td>...</td>\n",
       "      <td>...</td>\n",
       "      <td>...</td>\n",
       "      <td>...</td>\n",
       "      <td>...</td>\n",
       "      <td>...</td>\n",
       "      <td>...</td>\n",
       "      <td>...</td>\n",
       "    </tr>\n",
       "    <tr>\n",
       "      <th>475</th>\n",
       "      <td>bob</td>\n",
       "      <td>SendShare</td>\n",
       "      <td>22649445386</td>\n",
       "      <td>6</td>\n",
       "      <td>bob</td>\n",
       "      <td>1.598989e+09</td>\n",
       "      <td>1.598989e+09</td>\n",
       "      <td>0.000551</td>\n",
       "    </tr>\n",
       "    <tr>\n",
       "      <th>476</th>\n",
       "      <td>bob</td>\n",
       "      <td>SendShare</td>\n",
       "      <td>96922076436</td>\n",
       "      <td>6</td>\n",
       "      <td>charlie</td>\n",
       "      <td>1.598989e+09</td>\n",
       "      <td>1.598989e+09</td>\n",
       "      <td>0.009544</td>\n",
       "    </tr>\n",
       "    <tr>\n",
       "      <th>477</th>\n",
       "      <td>bob</td>\n",
       "      <td>SendShare</td>\n",
       "      <td>76620535</td>\n",
       "      <td>7</td>\n",
       "      <td>alice</td>\n",
       "      <td>1.598989e+09</td>\n",
       "      <td>1.598989e+09</td>\n",
       "      <td>0.002061</td>\n",
       "    </tr>\n",
       "    <tr>\n",
       "      <th>478</th>\n",
       "      <td>bob</td>\n",
       "      <td>SendShare</td>\n",
       "      <td>5931891331</td>\n",
       "      <td>7</td>\n",
       "      <td>bob</td>\n",
       "      <td>1.598989e+09</td>\n",
       "      <td>1.598989e+09</td>\n",
       "      <td>0.000813</td>\n",
       "    </tr>\n",
       "    <tr>\n",
       "      <th>479</th>\n",
       "      <td>bob</td>\n",
       "      <td>SendShare</td>\n",
       "      <td>48536435931</td>\n",
       "      <td>7</td>\n",
       "      <td>charlie</td>\n",
       "      <td>1.598989e+09</td>\n",
       "      <td>1.598989e+09</td>\n",
       "      <td>0.001466</td>\n",
       "    </tr>\n",
       "  </tbody>\n",
       "</table>\n",
       "<p>480 rows × 8 columns</p>\n",
       "</div>"
      ],
      "text/plain": [
       "    WorkerID  EventType       obj_id  p_idx       ID     StartTime  \\\n",
       "0        bob  SendShare   9659550396      0    alice  1.598988e+09   \n",
       "1        bob  SendShare  41166973424      0      bob  1.598988e+09   \n",
       "2        bob  SendShare  58600117538      0  charlie  1.598988e+09   \n",
       "3        bob  SendShare  28100465353      1    alice  1.598988e+09   \n",
       "4        bob  SendShare  37063113338      1      bob  1.598988e+09   \n",
       "..       ...        ...          ...    ...      ...           ...   \n",
       "475      bob  SendShare  22649445386      6      bob  1.598989e+09   \n",
       "476      bob  SendShare  96922076436      6  charlie  1.598989e+09   \n",
       "477      bob  SendShare     76620535      7    alice  1.598989e+09   \n",
       "478      bob  SendShare   5931891331      7      bob  1.598989e+09   \n",
       "479      bob  SendShare  48536435931      7  charlie  1.598989e+09   \n",
       "\n",
       "          EndTime  Duration  \n",
       "0    1.598988e+09  4.018958  \n",
       "1    1.598988e+09  0.000987  \n",
       "2    1.598988e+09  0.004365  \n",
       "3    1.598988e+09  0.002429  \n",
       "4    1.598988e+09  0.000874  \n",
       "..            ...       ...  \n",
       "475  1.598989e+09  0.000551  \n",
       "476  1.598989e+09  0.009544  \n",
       "477  1.598989e+09  0.002061  \n",
       "478  1.598989e+09  0.000813  \n",
       "479  1.598989e+09  0.001466  \n",
       "\n",
       "[480 rows x 8 columns]"
      ]
     },
     "execution_count": 84,
     "metadata": {},
     "output_type": "execute_result"
    }
   ],
   "source": [
    "bob_send_share_df_cat"
   ]
  },
  {
   "cell_type": "code",
   "execution_count": 85,
   "metadata": {},
   "outputs": [
    {
     "data": {
      "text/html": [
       "<div>\n",
       "<style scoped>\n",
       "    .dataframe tbody tr th:only-of-type {\n",
       "        vertical-align: middle;\n",
       "    }\n",
       "\n",
       "    .dataframe tbody tr th {\n",
       "        vertical-align: top;\n",
       "    }\n",
       "\n",
       "    .dataframe thead th {\n",
       "        text-align: right;\n",
       "    }\n",
       "</style>\n",
       "<table border=\"1\" class=\"dataframe\">\n",
       "  <thead>\n",
       "    <tr style=\"text-align: right;\">\n",
       "      <th></th>\n",
       "      <th>WorkerID</th>\n",
       "      <th>EventType</th>\n",
       "      <th>obj_id</th>\n",
       "      <th>p_idx</th>\n",
       "      <th>ID</th>\n",
       "      <th>StartTime</th>\n",
       "      <th>EndTime</th>\n",
       "      <th>Duration</th>\n",
       "    </tr>\n",
       "  </thead>\n",
       "  <tbody>\n",
       "    <tr>\n",
       "      <th>0</th>\n",
       "      <td>charlie</td>\n",
       "      <td>SendShare</td>\n",
       "      <td>97943374482</td>\n",
       "      <td>0</td>\n",
       "      <td>alice</td>\n",
       "      <td>1.598988e+09</td>\n",
       "      <td>1.598988e+09</td>\n",
       "      <td>3.196364</td>\n",
       "    </tr>\n",
       "    <tr>\n",
       "      <th>1</th>\n",
       "      <td>charlie</td>\n",
       "      <td>SendShare</td>\n",
       "      <td>59551409359</td>\n",
       "      <td>0</td>\n",
       "      <td>bob</td>\n",
       "      <td>1.598988e+09</td>\n",
       "      <td>1.598988e+09</td>\n",
       "      <td>0.006402</td>\n",
       "    </tr>\n",
       "    <tr>\n",
       "      <th>2</th>\n",
       "      <td>charlie</td>\n",
       "      <td>SendShare</td>\n",
       "      <td>91895774378</td>\n",
       "      <td>0</td>\n",
       "      <td>charlie</td>\n",
       "      <td>1.598988e+09</td>\n",
       "      <td>1.598988e+09</td>\n",
       "      <td>0.000946</td>\n",
       "    </tr>\n",
       "    <tr>\n",
       "      <th>3</th>\n",
       "      <td>charlie</td>\n",
       "      <td>SendShare</td>\n",
       "      <td>19624518335</td>\n",
       "      <td>1</td>\n",
       "      <td>alice</td>\n",
       "      <td>1.598988e+09</td>\n",
       "      <td>1.598988e+09</td>\n",
       "      <td>0.001811</td>\n",
       "    </tr>\n",
       "    <tr>\n",
       "      <th>4</th>\n",
       "      <td>charlie</td>\n",
       "      <td>SendShare</td>\n",
       "      <td>88952952227</td>\n",
       "      <td>1</td>\n",
       "      <td>bob</td>\n",
       "      <td>1.598988e+09</td>\n",
       "      <td>1.598988e+09</td>\n",
       "      <td>0.001456</td>\n",
       "    </tr>\n",
       "    <tr>\n",
       "      <th>...</th>\n",
       "      <td>...</td>\n",
       "      <td>...</td>\n",
       "      <td>...</td>\n",
       "      <td>...</td>\n",
       "      <td>...</td>\n",
       "      <td>...</td>\n",
       "      <td>...</td>\n",
       "      <td>...</td>\n",
       "    </tr>\n",
       "    <tr>\n",
       "      <th>475</th>\n",
       "      <td>charlie</td>\n",
       "      <td>SendShare</td>\n",
       "      <td>56920097722</td>\n",
       "      <td>6</td>\n",
       "      <td>bob</td>\n",
       "      <td>1.598989e+09</td>\n",
       "      <td>1.598989e+09</td>\n",
       "      <td>0.012220</td>\n",
       "    </tr>\n",
       "    <tr>\n",
       "      <th>476</th>\n",
       "      <td>charlie</td>\n",
       "      <td>SendShare</td>\n",
       "      <td>13710880754</td>\n",
       "      <td>6</td>\n",
       "      <td>charlie</td>\n",
       "      <td>1.598989e+09</td>\n",
       "      <td>1.598989e+09</td>\n",
       "      <td>0.000418</td>\n",
       "    </tr>\n",
       "    <tr>\n",
       "      <th>477</th>\n",
       "      <td>charlie</td>\n",
       "      <td>SendShare</td>\n",
       "      <td>65150237747</td>\n",
       "      <td>7</td>\n",
       "      <td>alice</td>\n",
       "      <td>1.598989e+09</td>\n",
       "      <td>1.598989e+09</td>\n",
       "      <td>0.001266</td>\n",
       "    </tr>\n",
       "    <tr>\n",
       "      <th>478</th>\n",
       "      <td>charlie</td>\n",
       "      <td>SendShare</td>\n",
       "      <td>24243605242</td>\n",
       "      <td>7</td>\n",
       "      <td>bob</td>\n",
       "      <td>1.598989e+09</td>\n",
       "      <td>1.598989e+09</td>\n",
       "      <td>0.001101</td>\n",
       "    </tr>\n",
       "    <tr>\n",
       "      <th>479</th>\n",
       "      <td>charlie</td>\n",
       "      <td>SendShare</td>\n",
       "      <td>6265008515</td>\n",
       "      <td>7</td>\n",
       "      <td>charlie</td>\n",
       "      <td>1.598989e+09</td>\n",
       "      <td>1.598989e+09</td>\n",
       "      <td>0.000375</td>\n",
       "    </tr>\n",
       "  </tbody>\n",
       "</table>\n",
       "<p>480 rows × 8 columns</p>\n",
       "</div>"
      ],
      "text/plain": [
       "    WorkerID  EventType       obj_id  p_idx       ID     StartTime  \\\n",
       "0    charlie  SendShare  97943374482      0    alice  1.598988e+09   \n",
       "1    charlie  SendShare  59551409359      0      bob  1.598988e+09   \n",
       "2    charlie  SendShare  91895774378      0  charlie  1.598988e+09   \n",
       "3    charlie  SendShare  19624518335      1    alice  1.598988e+09   \n",
       "4    charlie  SendShare  88952952227      1      bob  1.598988e+09   \n",
       "..       ...        ...          ...    ...      ...           ...   \n",
       "475  charlie  SendShare  56920097722      6      bob  1.598989e+09   \n",
       "476  charlie  SendShare  13710880754      6  charlie  1.598989e+09   \n",
       "477  charlie  SendShare  65150237747      7    alice  1.598989e+09   \n",
       "478  charlie  SendShare  24243605242      7      bob  1.598989e+09   \n",
       "479  charlie  SendShare   6265008515      7  charlie  1.598989e+09   \n",
       "\n",
       "          EndTime  Duration  \n",
       "0    1.598988e+09  3.196364  \n",
       "1    1.598988e+09  0.006402  \n",
       "2    1.598988e+09  0.000946  \n",
       "3    1.598988e+09  0.001811  \n",
       "4    1.598988e+09  0.001456  \n",
       "..            ...       ...  \n",
       "475  1.598989e+09  0.012220  \n",
       "476  1.598989e+09  0.000418  \n",
       "477  1.598989e+09  0.001266  \n",
       "478  1.598989e+09  0.001101  \n",
       "479  1.598989e+09  0.000375  \n",
       "\n",
       "[480 rows x 8 columns]"
      ]
     },
     "execution_count": 85,
     "metadata": {},
     "output_type": "execute_result"
    }
   ],
   "source": [
    "charlie_send_share_df_cat"
   ]
  },
  {
   "cell_type": "markdown",
   "metadata": {},
   "source": [
    "## ShareSend Send Time"
   ]
  },
  {
   "cell_type": "code",
   "execution_count": 86,
   "metadata": {},
   "outputs": [],
   "source": [
    "def calculate_share_send_time(sender_id, receiver_id, worker_dfs, nr_parameter):\n",
    "    sender_df = worker_dfs[sender_id]\n",
    "    receiver_df = worker_dfs[receiver_id]\n",
    "    \n",
    "    sender_send_share_df = sender_df[sender_df[\"EventType\"].str.contains('SendShare', regex=False)]\n",
    "    receiver_get_share_df = receiver_df[receiver_df[\"EventType\"].str.contains('GetShare', regex=False)]\n",
    "    \n",
    "    send_share_start_df = sender_send_share_df[(sender_send_share_df[\"ID\"] == receiver_id) & (sender_send_share_df[\"EventState\"] == 'start')]\n",
    "    get_share_df = receiver_get_share_df[receiver_get_share_df[\"ID\"] == sender_id]\n",
    "    send_share_start_df = send_share_start_df.reset_index()\n",
    "    get_share_df = get_share_df.reset_index()\n",
    "    \n",
    "    del send_share_start_df['index']\n",
    "    del send_share_start_df['EventState']\n",
    "    \n",
    "    send_time_df = pd.concat([send_share_start_df, get_share_df[\"Time\"]], axis=1)\n",
    "    send_time_df.columns = [\"WorkerID\", \"EventType\", \"ID\", \"StartTime\", \"RecvTime\"]\n",
    "    send_time_df[\"SendTime\"] = send_time_df.apply(lambda x: x[\"RecvTime\"] - x[\"StartTime\"], axis=1)\n",
    "    \n",
    "    nr_parameter = 8\n",
    "    parameter_index = []\n",
    "\n",
    "    for i in range(len(send_time_df)):\n",
    "        tmp_index = (i%nr_parameter)\n",
    "        parameter_index.append(tmp_index)\n",
    "        \n",
    "    send_time_df.insert(2, \"p_idx\", parameter_index)\n",
    "    \n",
    "    obj_id_list = send_time_df.apply(lambda x: x[\"EventType\"].split(\"_\")[1], axis=1)\n",
    "    send_time_df.insert(2, \"obj_id\", obj_id_list)\n",
    "    \n",
    "    del send_time_df[\"EventType\"]\n",
    "    send_time_df.insert(1, \"EventType\", \"SendShare\")\n",
    "    \n",
    "    return send_time_df"
   ]
  },
  {
   "cell_type": "code",
   "execution_count": 87,
   "metadata": {},
   "outputs": [],
   "source": [
    "send_time_df = calculate_share_send_time(\"alice\", \"bob\", worker_dfs, 8)"
   ]
  },
  {
   "cell_type": "code",
   "execution_count": 88,
   "metadata": {},
   "outputs": [
    {
     "data": {
      "text/html": [
       "<div>\n",
       "<style scoped>\n",
       "    .dataframe tbody tr th:only-of-type {\n",
       "        vertical-align: middle;\n",
       "    }\n",
       "\n",
       "    .dataframe tbody tr th {\n",
       "        vertical-align: top;\n",
       "    }\n",
       "\n",
       "    .dataframe thead th {\n",
       "        text-align: right;\n",
       "    }\n",
       "</style>\n",
       "<table border=\"1\" class=\"dataframe\">\n",
       "  <thead>\n",
       "    <tr style=\"text-align: right;\">\n",
       "      <th></th>\n",
       "      <th>WorkerID</th>\n",
       "      <th>EventType</th>\n",
       "      <th>obj_id</th>\n",
       "      <th>p_idx</th>\n",
       "      <th>ID</th>\n",
       "      <th>StartTime</th>\n",
       "      <th>RecvTime</th>\n",
       "      <th>SendTime</th>\n",
       "    </tr>\n",
       "  </thead>\n",
       "  <tbody>\n",
       "    <tr>\n",
       "      <th>0</th>\n",
       "      <td>alice</td>\n",
       "      <td>SendShare</td>\n",
       "      <td>75182669587</td>\n",
       "      <td>0</td>\n",
       "      <td>bob</td>\n",
       "      <td>1.598988e+09</td>\n",
       "      <td>1.598988e+09</td>\n",
       "      <td>0.002891</td>\n",
       "    </tr>\n",
       "    <tr>\n",
       "      <th>1</th>\n",
       "      <td>alice</td>\n",
       "      <td>SendShare</td>\n",
       "      <td>66576630703</td>\n",
       "      <td>1</td>\n",
       "      <td>bob</td>\n",
       "      <td>1.598988e+09</td>\n",
       "      <td>1.598988e+09</td>\n",
       "      <td>0.002126</td>\n",
       "    </tr>\n",
       "    <tr>\n",
       "      <th>2</th>\n",
       "      <td>alice</td>\n",
       "      <td>SendShare</td>\n",
       "      <td>46212799352</td>\n",
       "      <td>2</td>\n",
       "      <td>bob</td>\n",
       "      <td>1.598988e+09</td>\n",
       "      <td>1.598988e+09</td>\n",
       "      <td>0.043050</td>\n",
       "    </tr>\n",
       "    <tr>\n",
       "      <th>3</th>\n",
       "      <td>alice</td>\n",
       "      <td>SendShare</td>\n",
       "      <td>79009060855</td>\n",
       "      <td>3</td>\n",
       "      <td>bob</td>\n",
       "      <td>1.598988e+09</td>\n",
       "      <td>1.598988e+09</td>\n",
       "      <td>0.002898</td>\n",
       "    </tr>\n",
       "    <tr>\n",
       "      <th>4</th>\n",
       "      <td>alice</td>\n",
       "      <td>SendShare</td>\n",
       "      <td>54346801011</td>\n",
       "      <td>4</td>\n",
       "      <td>bob</td>\n",
       "      <td>1.598988e+09</td>\n",
       "      <td>1.598988e+09</td>\n",
       "      <td>1.252096</td>\n",
       "    </tr>\n",
       "    <tr>\n",
       "      <th>...</th>\n",
       "      <td>...</td>\n",
       "      <td>...</td>\n",
       "      <td>...</td>\n",
       "      <td>...</td>\n",
       "      <td>...</td>\n",
       "      <td>...</td>\n",
       "      <td>...</td>\n",
       "      <td>...</td>\n",
       "    </tr>\n",
       "    <tr>\n",
       "      <th>155</th>\n",
       "      <td>alice</td>\n",
       "      <td>SendShare</td>\n",
       "      <td>76956495691</td>\n",
       "      <td>3</td>\n",
       "      <td>bob</td>\n",
       "      <td>1.598989e+09</td>\n",
       "      <td>1.598989e+09</td>\n",
       "      <td>0.001013</td>\n",
       "    </tr>\n",
       "    <tr>\n",
       "      <th>156</th>\n",
       "      <td>alice</td>\n",
       "      <td>SendShare</td>\n",
       "      <td>64148944601</td>\n",
       "      <td>4</td>\n",
       "      <td>bob</td>\n",
       "      <td>1.598989e+09</td>\n",
       "      <td>1.598989e+09</td>\n",
       "      <td>1.220871</td>\n",
       "    </tr>\n",
       "    <tr>\n",
       "      <th>157</th>\n",
       "      <td>alice</td>\n",
       "      <td>SendShare</td>\n",
       "      <td>445149044</td>\n",
       "      <td>5</td>\n",
       "      <td>bob</td>\n",
       "      <td>1.598989e+09</td>\n",
       "      <td>1.598989e+09</td>\n",
       "      <td>0.002263</td>\n",
       "    </tr>\n",
       "    <tr>\n",
       "      <th>158</th>\n",
       "      <td>alice</td>\n",
       "      <td>SendShare</td>\n",
       "      <td>8660112579</td>\n",
       "      <td>6</td>\n",
       "      <td>bob</td>\n",
       "      <td>1.598989e+09</td>\n",
       "      <td>1.598989e+09</td>\n",
       "      <td>0.012199</td>\n",
       "    </tr>\n",
       "    <tr>\n",
       "      <th>159</th>\n",
       "      <td>alice</td>\n",
       "      <td>SendShare</td>\n",
       "      <td>20844511931</td>\n",
       "      <td>7</td>\n",
       "      <td>bob</td>\n",
       "      <td>1.598989e+09</td>\n",
       "      <td>1.598989e+09</td>\n",
       "      <td>0.001326</td>\n",
       "    </tr>\n",
       "  </tbody>\n",
       "</table>\n",
       "<p>160 rows × 8 columns</p>\n",
       "</div>"
      ],
      "text/plain": [
       "    WorkerID  EventType       obj_id  p_idx   ID     StartTime      RecvTime  \\\n",
       "0      alice  SendShare  75182669587      0  bob  1.598988e+09  1.598988e+09   \n",
       "1      alice  SendShare  66576630703      1  bob  1.598988e+09  1.598988e+09   \n",
       "2      alice  SendShare  46212799352      2  bob  1.598988e+09  1.598988e+09   \n",
       "3      alice  SendShare  79009060855      3  bob  1.598988e+09  1.598988e+09   \n",
       "4      alice  SendShare  54346801011      4  bob  1.598988e+09  1.598988e+09   \n",
       "..       ...        ...          ...    ...  ...           ...           ...   \n",
       "155    alice  SendShare  76956495691      3  bob  1.598989e+09  1.598989e+09   \n",
       "156    alice  SendShare  64148944601      4  bob  1.598989e+09  1.598989e+09   \n",
       "157    alice  SendShare    445149044      5  bob  1.598989e+09  1.598989e+09   \n",
       "158    alice  SendShare   8660112579      6  bob  1.598989e+09  1.598989e+09   \n",
       "159    alice  SendShare  20844511931      7  bob  1.598989e+09  1.598989e+09   \n",
       "\n",
       "     SendTime  \n",
       "0    0.002891  \n",
       "1    0.002126  \n",
       "2    0.043050  \n",
       "3    0.002898  \n",
       "4    1.252096  \n",
       "..        ...  \n",
       "155  0.001013  \n",
       "156  1.220871  \n",
       "157  0.002263  \n",
       "158  0.012199  \n",
       "159  0.001326  \n",
       "\n",
       "[160 rows x 8 columns]"
      ]
     },
     "execution_count": 88,
     "metadata": {},
     "output_type": "execute_result"
    }
   ],
   "source": [
    "send_time_df"
   ]
  },
  {
   "cell_type": "markdown",
   "metadata": {},
   "source": [
    "## AllWorkersTrainingTime Duration"
   ]
  },
  {
   "cell_type": "code",
   "execution_count": 89,
   "metadata": {},
   "outputs": [],
   "source": [
    "coord_awtt_df = get_coord_duration(coord_df, \"AllWorkersTrainingTime\")"
   ]
  },
  {
   "cell_type": "code",
   "execution_count": 90,
   "metadata": {},
   "outputs": [
    {
     "data": {
      "text/plain": [
       "16.693915832042695"
      ]
     },
     "execution_count": 90,
     "metadata": {},
     "output_type": "execute_result"
    }
   ],
   "source": [
    "coord_awtt_df['Time'].mean()"
   ]
  },
  {
   "cell_type": "code",
   "execution_count": 91,
   "metadata": {},
   "outputs": [
    {
     "data": {
      "text/html": [
       "<div>\n",
       "<style scoped>\n",
       "    .dataframe tbody tr th:only-of-type {\n",
       "        vertical-align: middle;\n",
       "    }\n",
       "\n",
       "    .dataframe tbody tr th {\n",
       "        vertical-align: top;\n",
       "    }\n",
       "\n",
       "    .dataframe thead th {\n",
       "        text-align: right;\n",
       "    }\n",
       "</style>\n",
       "<table border=\"1\" class=\"dataframe\">\n",
       "  <thead>\n",
       "    <tr style=\"text-align: right;\">\n",
       "      <th></th>\n",
       "      <th>EventType</th>\n",
       "      <th>EventState</th>\n",
       "      <th>Time</th>\n",
       "    </tr>\n",
       "  </thead>\n",
       "  <tbody>\n",
       "    <tr>\n",
       "      <th>0</th>\n",
       "      <td>AllWorkersTrainingTime</td>\n",
       "      <td>duration</td>\n",
       "      <td>16.511965</td>\n",
       "    </tr>\n",
       "    <tr>\n",
       "      <th>1</th>\n",
       "      <td>AllWorkersTrainingTime</td>\n",
       "      <td>duration</td>\n",
       "      <td>16.590312</td>\n",
       "    </tr>\n",
       "    <tr>\n",
       "      <th>2</th>\n",
       "      <td>AllWorkersTrainingTime</td>\n",
       "      <td>duration</td>\n",
       "      <td>16.724470</td>\n",
       "    </tr>\n",
       "    <tr>\n",
       "      <th>3</th>\n",
       "      <td>AllWorkersTrainingTime</td>\n",
       "      <td>duration</td>\n",
       "      <td>17.008052</td>\n",
       "    </tr>\n",
       "    <tr>\n",
       "      <th>4</th>\n",
       "      <td>AllWorkersTrainingTime</td>\n",
       "      <td>duration</td>\n",
       "      <td>17.301688</td>\n",
       "    </tr>\n",
       "    <tr>\n",
       "      <th>5</th>\n",
       "      <td>AllWorkersTrainingTime</td>\n",
       "      <td>duration</td>\n",
       "      <td>17.346246</td>\n",
       "    </tr>\n",
       "    <tr>\n",
       "      <th>6</th>\n",
       "      <td>AllWorkersTrainingTime</td>\n",
       "      <td>duration</td>\n",
       "      <td>17.267323</td>\n",
       "    </tr>\n",
       "    <tr>\n",
       "      <th>7</th>\n",
       "      <td>AllWorkersTrainingTime</td>\n",
       "      <td>duration</td>\n",
       "      <td>15.868551</td>\n",
       "    </tr>\n",
       "    <tr>\n",
       "      <th>8</th>\n",
       "      <td>AllWorkersTrainingTime</td>\n",
       "      <td>duration</td>\n",
       "      <td>16.366584</td>\n",
       "    </tr>\n",
       "    <tr>\n",
       "      <th>9</th>\n",
       "      <td>AllWorkersTrainingTime</td>\n",
       "      <td>duration</td>\n",
       "      <td>16.535329</td>\n",
       "    </tr>\n",
       "    <tr>\n",
       "      <th>10</th>\n",
       "      <td>AllWorkersTrainingTime</td>\n",
       "      <td>duration</td>\n",
       "      <td>16.445592</td>\n",
       "    </tr>\n",
       "    <tr>\n",
       "      <th>11</th>\n",
       "      <td>AllWorkersTrainingTime</td>\n",
       "      <td>duration</td>\n",
       "      <td>17.276366</td>\n",
       "    </tr>\n",
       "    <tr>\n",
       "      <th>12</th>\n",
       "      <td>AllWorkersTrainingTime</td>\n",
       "      <td>duration</td>\n",
       "      <td>16.053963</td>\n",
       "    </tr>\n",
       "    <tr>\n",
       "      <th>13</th>\n",
       "      <td>AllWorkersTrainingTime</td>\n",
       "      <td>duration</td>\n",
       "      <td>16.702223</td>\n",
       "    </tr>\n",
       "    <tr>\n",
       "      <th>14</th>\n",
       "      <td>AllWorkersTrainingTime</td>\n",
       "      <td>duration</td>\n",
       "      <td>15.998633</td>\n",
       "    </tr>\n",
       "    <tr>\n",
       "      <th>15</th>\n",
       "      <td>AllWorkersTrainingTime</td>\n",
       "      <td>duration</td>\n",
       "      <td>17.130184</td>\n",
       "    </tr>\n",
       "    <tr>\n",
       "      <th>16</th>\n",
       "      <td>AllWorkersTrainingTime</td>\n",
       "      <td>duration</td>\n",
       "      <td>17.029413</td>\n",
       "    </tr>\n",
       "    <tr>\n",
       "      <th>17</th>\n",
       "      <td>AllWorkersTrainingTime</td>\n",
       "      <td>duration</td>\n",
       "      <td>16.174005</td>\n",
       "    </tr>\n",
       "    <tr>\n",
       "      <th>18</th>\n",
       "      <td>AllWorkersTrainingTime</td>\n",
       "      <td>duration</td>\n",
       "      <td>16.583571</td>\n",
       "    </tr>\n",
       "    <tr>\n",
       "      <th>19</th>\n",
       "      <td>AllWorkersTrainingTime</td>\n",
       "      <td>duration</td>\n",
       "      <td>16.963846</td>\n",
       "    </tr>\n",
       "  </tbody>\n",
       "</table>\n",
       "</div>"
      ],
      "text/plain": [
       "                 EventType EventState       Time\n",
       "0   AllWorkersTrainingTime   duration  16.511965\n",
       "1   AllWorkersTrainingTime   duration  16.590312\n",
       "2   AllWorkersTrainingTime   duration  16.724470\n",
       "3   AllWorkersTrainingTime   duration  17.008052\n",
       "4   AllWorkersTrainingTime   duration  17.301688\n",
       "5   AllWorkersTrainingTime   duration  17.346246\n",
       "6   AllWorkersTrainingTime   duration  17.267323\n",
       "7   AllWorkersTrainingTime   duration  15.868551\n",
       "8   AllWorkersTrainingTime   duration  16.366584\n",
       "9   AllWorkersTrainingTime   duration  16.535329\n",
       "10  AllWorkersTrainingTime   duration  16.445592\n",
       "11  AllWorkersTrainingTime   duration  17.276366\n",
       "12  AllWorkersTrainingTime   duration  16.053963\n",
       "13  AllWorkersTrainingTime   duration  16.702223\n",
       "14  AllWorkersTrainingTime   duration  15.998633\n",
       "15  AllWorkersTrainingTime   duration  17.130184\n",
       "16  AllWorkersTrainingTime   duration  17.029413\n",
       "17  AllWorkersTrainingTime   duration  16.174005\n",
       "18  AllWorkersTrainingTime   duration  16.583571\n",
       "19  AllWorkersTrainingTime   duration  16.963846"
      ]
     },
     "execution_count": 91,
     "metadata": {},
     "output_type": "execute_result"
    }
   ],
   "source": [
    "coord_awtt_df"
   ]
  },
  {
   "cell_type": "markdown",
   "metadata": {},
   "source": [
    "## AggregationTime"
   ]
  },
  {
   "cell_type": "code",
   "execution_count": 92,
   "metadata": {},
   "outputs": [],
   "source": [
    "coord_aggt_df = get_coord_duration(coord_df, \"AggregationTime\")"
   ]
  },
  {
   "cell_type": "code",
   "execution_count": 93,
   "metadata": {},
   "outputs": [
    {
     "data": {
      "text/plain": [
       "0.10683181285858154"
      ]
     },
     "execution_count": 93,
     "metadata": {},
     "output_type": "execute_result"
    }
   ],
   "source": [
    "coord_aggt_df[\"Time\"].mean()"
   ]
  },
  {
   "cell_type": "code",
   "execution_count": 94,
   "metadata": {},
   "outputs": [
    {
     "data": {
      "text/html": [
       "<div>\n",
       "<style scoped>\n",
       "    .dataframe tbody tr th:only-of-type {\n",
       "        vertical-align: middle;\n",
       "    }\n",
       "\n",
       "    .dataframe tbody tr th {\n",
       "        vertical-align: top;\n",
       "    }\n",
       "\n",
       "    .dataframe thead th {\n",
       "        text-align: right;\n",
       "    }\n",
       "</style>\n",
       "<table border=\"1\" class=\"dataframe\">\n",
       "  <thead>\n",
       "    <tr style=\"text-align: right;\">\n",
       "      <th></th>\n",
       "      <th>EventType</th>\n",
       "      <th>EventState</th>\n",
       "      <th>Time</th>\n",
       "    </tr>\n",
       "  </thead>\n",
       "  <tbody>\n",
       "    <tr>\n",
       "      <th>0</th>\n",
       "      <td>AggregationTime</td>\n",
       "      <td>duration</td>\n",
       "      <td>0.104095</td>\n",
       "    </tr>\n",
       "    <tr>\n",
       "      <th>1</th>\n",
       "      <td>AggregationTime</td>\n",
       "      <td>duration</td>\n",
       "      <td>0.107789</td>\n",
       "    </tr>\n",
       "    <tr>\n",
       "      <th>2</th>\n",
       "      <td>AggregationTime</td>\n",
       "      <td>duration</td>\n",
       "      <td>0.105432</td>\n",
       "    </tr>\n",
       "    <tr>\n",
       "      <th>3</th>\n",
       "      <td>AggregationTime</td>\n",
       "      <td>duration</td>\n",
       "      <td>0.107143</td>\n",
       "    </tr>\n",
       "    <tr>\n",
       "      <th>4</th>\n",
       "      <td>AggregationTime</td>\n",
       "      <td>duration</td>\n",
       "      <td>0.107304</td>\n",
       "    </tr>\n",
       "    <tr>\n",
       "      <th>5</th>\n",
       "      <td>AggregationTime</td>\n",
       "      <td>duration</td>\n",
       "      <td>0.106201</td>\n",
       "    </tr>\n",
       "    <tr>\n",
       "      <th>6</th>\n",
       "      <td>AggregationTime</td>\n",
       "      <td>duration</td>\n",
       "      <td>0.107841</td>\n",
       "    </tr>\n",
       "    <tr>\n",
       "      <th>7</th>\n",
       "      <td>AggregationTime</td>\n",
       "      <td>duration</td>\n",
       "      <td>0.103993</td>\n",
       "    </tr>\n",
       "    <tr>\n",
       "      <th>8</th>\n",
       "      <td>AggregationTime</td>\n",
       "      <td>duration</td>\n",
       "      <td>0.107758</td>\n",
       "    </tr>\n",
       "    <tr>\n",
       "      <th>9</th>\n",
       "      <td>AggregationTime</td>\n",
       "      <td>duration</td>\n",
       "      <td>0.106346</td>\n",
       "    </tr>\n",
       "    <tr>\n",
       "      <th>10</th>\n",
       "      <td>AggregationTime</td>\n",
       "      <td>duration</td>\n",
       "      <td>0.108968</td>\n",
       "    </tr>\n",
       "    <tr>\n",
       "      <th>11</th>\n",
       "      <td>AggregationTime</td>\n",
       "      <td>duration</td>\n",
       "      <td>0.102850</td>\n",
       "    </tr>\n",
       "    <tr>\n",
       "      <th>12</th>\n",
       "      <td>AggregationTime</td>\n",
       "      <td>duration</td>\n",
       "      <td>0.105881</td>\n",
       "    </tr>\n",
       "    <tr>\n",
       "      <th>13</th>\n",
       "      <td>AggregationTime</td>\n",
       "      <td>duration</td>\n",
       "      <td>0.110474</td>\n",
       "    </tr>\n",
       "    <tr>\n",
       "      <th>14</th>\n",
       "      <td>AggregationTime</td>\n",
       "      <td>duration</td>\n",
       "      <td>0.109035</td>\n",
       "    </tr>\n",
       "    <tr>\n",
       "      <th>15</th>\n",
       "      <td>AggregationTime</td>\n",
       "      <td>duration</td>\n",
       "      <td>0.108015</td>\n",
       "    </tr>\n",
       "    <tr>\n",
       "      <th>16</th>\n",
       "      <td>AggregationTime</td>\n",
       "      <td>duration</td>\n",
       "      <td>0.107066</td>\n",
       "    </tr>\n",
       "    <tr>\n",
       "      <th>17</th>\n",
       "      <td>AggregationTime</td>\n",
       "      <td>duration</td>\n",
       "      <td>0.107842</td>\n",
       "    </tr>\n",
       "    <tr>\n",
       "      <th>18</th>\n",
       "      <td>AggregationTime</td>\n",
       "      <td>duration</td>\n",
       "      <td>0.105527</td>\n",
       "    </tr>\n",
       "    <tr>\n",
       "      <th>19</th>\n",
       "      <td>AggregationTime</td>\n",
       "      <td>duration</td>\n",
       "      <td>0.107076</td>\n",
       "    </tr>\n",
       "  </tbody>\n",
       "</table>\n",
       "</div>"
      ],
      "text/plain": [
       "          EventType EventState      Time\n",
       "0   AggregationTime   duration  0.104095\n",
       "1   AggregationTime   duration  0.107789\n",
       "2   AggregationTime   duration  0.105432\n",
       "3   AggregationTime   duration  0.107143\n",
       "4   AggregationTime   duration  0.107304\n",
       "5   AggregationTime   duration  0.106201\n",
       "6   AggregationTime   duration  0.107841\n",
       "7   AggregationTime   duration  0.103993\n",
       "8   AggregationTime   duration  0.107758\n",
       "9   AggregationTime   duration  0.106346\n",
       "10  AggregationTime   duration  0.108968\n",
       "11  AggregationTime   duration  0.102850\n",
       "12  AggregationTime   duration  0.105881\n",
       "13  AggregationTime   duration  0.110474\n",
       "14  AggregationTime   duration  0.109035\n",
       "15  AggregationTime   duration  0.108015\n",
       "16  AggregationTime   duration  0.107066\n",
       "17  AggregationTime   duration  0.107842\n",
       "18  AggregationTime   duration  0.105527\n",
       "19  AggregationTime   duration  0.107076"
      ]
     },
     "execution_count": 94,
     "metadata": {},
     "output_type": "execute_result"
    }
   ],
   "source": [
    "coord_aggt_df"
   ]
  },
  {
   "cell_type": "markdown",
   "metadata": {},
   "source": [
    "## DecryptionTime"
   ]
  },
  {
   "cell_type": "code",
   "execution_count": 95,
   "metadata": {},
   "outputs": [],
   "source": [
    "coord_decrypt_df = get_coord_duration(coord_df, \"DecryptionTime\")"
   ]
  },
  {
   "cell_type": "code",
   "execution_count": 96,
   "metadata": {},
   "outputs": [
    {
     "data": {
      "text/plain": [
       "0.1773815393447876"
      ]
     },
     "execution_count": 96,
     "metadata": {},
     "output_type": "execute_result"
    }
   ],
   "source": [
    "coord_decrypt_df['Time'].mean()"
   ]
  },
  {
   "cell_type": "code",
   "execution_count": 97,
   "metadata": {},
   "outputs": [
    {
     "data": {
      "text/html": [
       "<div>\n",
       "<style scoped>\n",
       "    .dataframe tbody tr th:only-of-type {\n",
       "        vertical-align: middle;\n",
       "    }\n",
       "\n",
       "    .dataframe tbody tr th {\n",
       "        vertical-align: top;\n",
       "    }\n",
       "\n",
       "    .dataframe thead th {\n",
       "        text-align: right;\n",
       "    }\n",
       "</style>\n",
       "<table border=\"1\" class=\"dataframe\">\n",
       "  <thead>\n",
       "    <tr style=\"text-align: right;\">\n",
       "      <th></th>\n",
       "      <th>EventType</th>\n",
       "      <th>EventState</th>\n",
       "      <th>Time</th>\n",
       "    </tr>\n",
       "  </thead>\n",
       "  <tbody>\n",
       "    <tr>\n",
       "      <th>0</th>\n",
       "      <td>DecryptionTime</td>\n",
       "      <td>duration</td>\n",
       "      <td>0.183629</td>\n",
       "    </tr>\n",
       "    <tr>\n",
       "      <th>1</th>\n",
       "      <td>DecryptionTime</td>\n",
       "      <td>duration</td>\n",
       "      <td>0.174788</td>\n",
       "    </tr>\n",
       "    <tr>\n",
       "      <th>2</th>\n",
       "      <td>DecryptionTime</td>\n",
       "      <td>duration</td>\n",
       "      <td>0.176217</td>\n",
       "    </tr>\n",
       "    <tr>\n",
       "      <th>3</th>\n",
       "      <td>DecryptionTime</td>\n",
       "      <td>duration</td>\n",
       "      <td>0.178724</td>\n",
       "    </tr>\n",
       "    <tr>\n",
       "      <th>4</th>\n",
       "      <td>DecryptionTime</td>\n",
       "      <td>duration</td>\n",
       "      <td>0.197265</td>\n",
       "    </tr>\n",
       "    <tr>\n",
       "      <th>5</th>\n",
       "      <td>DecryptionTime</td>\n",
       "      <td>duration</td>\n",
       "      <td>0.183573</td>\n",
       "    </tr>\n",
       "    <tr>\n",
       "      <th>6</th>\n",
       "      <td>DecryptionTime</td>\n",
       "      <td>duration</td>\n",
       "      <td>0.177899</td>\n",
       "    </tr>\n",
       "    <tr>\n",
       "      <th>7</th>\n",
       "      <td>DecryptionTime</td>\n",
       "      <td>duration</td>\n",
       "      <td>0.187322</td>\n",
       "    </tr>\n",
       "    <tr>\n",
       "      <th>8</th>\n",
       "      <td>DecryptionTime</td>\n",
       "      <td>duration</td>\n",
       "      <td>0.175537</td>\n",
       "    </tr>\n",
       "    <tr>\n",
       "      <th>9</th>\n",
       "      <td>DecryptionTime</td>\n",
       "      <td>duration</td>\n",
       "      <td>0.175527</td>\n",
       "    </tr>\n",
       "    <tr>\n",
       "      <th>10</th>\n",
       "      <td>DecryptionTime</td>\n",
       "      <td>duration</td>\n",
       "      <td>0.174754</td>\n",
       "    </tr>\n",
       "    <tr>\n",
       "      <th>11</th>\n",
       "      <td>DecryptionTime</td>\n",
       "      <td>duration</td>\n",
       "      <td>0.172297</td>\n",
       "    </tr>\n",
       "    <tr>\n",
       "      <th>12</th>\n",
       "      <td>DecryptionTime</td>\n",
       "      <td>duration</td>\n",
       "      <td>0.174844</td>\n",
       "    </tr>\n",
       "    <tr>\n",
       "      <th>13</th>\n",
       "      <td>DecryptionTime</td>\n",
       "      <td>duration</td>\n",
       "      <td>0.176092</td>\n",
       "    </tr>\n",
       "    <tr>\n",
       "      <th>14</th>\n",
       "      <td>DecryptionTime</td>\n",
       "      <td>duration</td>\n",
       "      <td>0.174438</td>\n",
       "    </tr>\n",
       "    <tr>\n",
       "      <th>15</th>\n",
       "      <td>DecryptionTime</td>\n",
       "      <td>duration</td>\n",
       "      <td>0.170594</td>\n",
       "    </tr>\n",
       "    <tr>\n",
       "      <th>16</th>\n",
       "      <td>DecryptionTime</td>\n",
       "      <td>duration</td>\n",
       "      <td>0.178854</td>\n",
       "    </tr>\n",
       "    <tr>\n",
       "      <th>17</th>\n",
       "      <td>DecryptionTime</td>\n",
       "      <td>duration</td>\n",
       "      <td>0.173542</td>\n",
       "    </tr>\n",
       "    <tr>\n",
       "      <th>18</th>\n",
       "      <td>DecryptionTime</td>\n",
       "      <td>duration</td>\n",
       "      <td>0.169852</td>\n",
       "    </tr>\n",
       "    <tr>\n",
       "      <th>19</th>\n",
       "      <td>DecryptionTime</td>\n",
       "      <td>duration</td>\n",
       "      <td>0.171886</td>\n",
       "    </tr>\n",
       "  </tbody>\n",
       "</table>\n",
       "</div>"
      ],
      "text/plain": [
       "         EventType EventState      Time\n",
       "0   DecryptionTime   duration  0.183629\n",
       "1   DecryptionTime   duration  0.174788\n",
       "2   DecryptionTime   duration  0.176217\n",
       "3   DecryptionTime   duration  0.178724\n",
       "4   DecryptionTime   duration  0.197265\n",
       "5   DecryptionTime   duration  0.183573\n",
       "6   DecryptionTime   duration  0.177899\n",
       "7   DecryptionTime   duration  0.187322\n",
       "8   DecryptionTime   duration  0.175537\n",
       "9   DecryptionTime   duration  0.175527\n",
       "10  DecryptionTime   duration  0.174754\n",
       "11  DecryptionTime   duration  0.172297\n",
       "12  DecryptionTime   duration  0.174844\n",
       "13  DecryptionTime   duration  0.176092\n",
       "14  DecryptionTime   duration  0.174438\n",
       "15  DecryptionTime   duration  0.170594\n",
       "16  DecryptionTime   duration  0.178854\n",
       "17  DecryptionTime   duration  0.173542\n",
       "18  DecryptionTime   duration  0.169852\n",
       "19  DecryptionTime   duration  0.171886"
      ]
     },
     "execution_count": 97,
     "metadata": {},
     "output_type": "execute_result"
    }
   ],
   "source": [
    "coord_decrypt_df"
   ]
  },
  {
   "cell_type": "markdown",
   "metadata": {},
   "source": [
    "## RoundTime"
   ]
  },
  {
   "cell_type": "code",
   "execution_count": 98,
   "metadata": {},
   "outputs": [],
   "source": [
    "coord_round_time_df = get_coord_duration(coord_df, \"RoundTime\")"
   ]
  },
  {
   "cell_type": "code",
   "execution_count": 99,
   "metadata": {},
   "outputs": [
    {
     "data": {
      "text/plain": [
       "17.017746257781983"
      ]
     },
     "execution_count": 99,
     "metadata": {},
     "output_type": "execute_result"
    }
   ],
   "source": [
    "coord_round_time_df[\"Time\"].mean()"
   ]
  },
  {
   "cell_type": "code",
   "execution_count": 100,
   "metadata": {},
   "outputs": [
    {
     "data": {
      "text/html": [
       "<div>\n",
       "<style scoped>\n",
       "    .dataframe tbody tr th:only-of-type {\n",
       "        vertical-align: middle;\n",
       "    }\n",
       "\n",
       "    .dataframe tbody tr th {\n",
       "        vertical-align: top;\n",
       "    }\n",
       "\n",
       "    .dataframe thead th {\n",
       "        text-align: right;\n",
       "    }\n",
       "</style>\n",
       "<table border=\"1\" class=\"dataframe\">\n",
       "  <thead>\n",
       "    <tr style=\"text-align: right;\">\n",
       "      <th></th>\n",
       "      <th>EventType</th>\n",
       "      <th>EventState</th>\n",
       "      <th>Time</th>\n",
       "    </tr>\n",
       "  </thead>\n",
       "  <tbody>\n",
       "    <tr>\n",
       "      <th>0</th>\n",
       "      <td>RoundTime</td>\n",
       "      <td>duration</td>\n",
       "      <td>16.799823</td>\n",
       "    </tr>\n",
       "    <tr>\n",
       "      <th>1</th>\n",
       "      <td>RoundTime</td>\n",
       "      <td>duration</td>\n",
       "      <td>16.914645</td>\n",
       "    </tr>\n",
       "    <tr>\n",
       "      <th>2</th>\n",
       "      <td>RoundTime</td>\n",
       "      <td>duration</td>\n",
       "      <td>17.047378</td>\n",
       "    </tr>\n",
       "    <tr>\n",
       "      <th>3</th>\n",
       "      <td>RoundTime</td>\n",
       "      <td>duration</td>\n",
       "      <td>17.335857</td>\n",
       "    </tr>\n",
       "    <tr>\n",
       "      <th>4</th>\n",
       "      <td>RoundTime</td>\n",
       "      <td>duration</td>\n",
       "      <td>17.649704</td>\n",
       "    </tr>\n",
       "    <tr>\n",
       "      <th>5</th>\n",
       "      <td>RoundTime</td>\n",
       "      <td>duration</td>\n",
       "      <td>17.678650</td>\n",
       "    </tr>\n",
       "    <tr>\n",
       "      <th>6</th>\n",
       "      <td>RoundTime</td>\n",
       "      <td>duration</td>\n",
       "      <td>17.594516</td>\n",
       "    </tr>\n",
       "    <tr>\n",
       "      <th>7</th>\n",
       "      <td>RoundTime</td>\n",
       "      <td>duration</td>\n",
       "      <td>16.201091</td>\n",
       "    </tr>\n",
       "    <tr>\n",
       "      <th>8</th>\n",
       "      <td>RoundTime</td>\n",
       "      <td>duration</td>\n",
       "      <td>16.692443</td>\n",
       "    </tr>\n",
       "    <tr>\n",
       "      <th>9</th>\n",
       "      <td>RoundTime</td>\n",
       "      <td>duration</td>\n",
       "      <td>16.859439</td>\n",
       "    </tr>\n",
       "    <tr>\n",
       "      <th>10</th>\n",
       "      <td>RoundTime</td>\n",
       "      <td>duration</td>\n",
       "      <td>16.771433</td>\n",
       "    </tr>\n",
       "    <tr>\n",
       "      <th>11</th>\n",
       "      <td>RoundTime</td>\n",
       "      <td>duration</td>\n",
       "      <td>17.589107</td>\n",
       "    </tr>\n",
       "    <tr>\n",
       "      <th>12</th>\n",
       "      <td>RoundTime</td>\n",
       "      <td>duration</td>\n",
       "      <td>16.374736</td>\n",
       "    </tr>\n",
       "    <tr>\n",
       "      <th>13</th>\n",
       "      <td>RoundTime</td>\n",
       "      <td>duration</td>\n",
       "      <td>17.031996</td>\n",
       "    </tr>\n",
       "    <tr>\n",
       "      <th>14</th>\n",
       "      <td>RoundTime</td>\n",
       "      <td>duration</td>\n",
       "      <td>16.323340</td>\n",
       "    </tr>\n",
       "    <tr>\n",
       "      <th>15</th>\n",
       "      <td>RoundTime</td>\n",
       "      <td>duration</td>\n",
       "      <td>17.451070</td>\n",
       "    </tr>\n",
       "    <tr>\n",
       "      <th>16</th>\n",
       "      <td>RoundTime</td>\n",
       "      <td>duration</td>\n",
       "      <td>17.358217</td>\n",
       "    </tr>\n",
       "    <tr>\n",
       "      <th>17</th>\n",
       "      <td>RoundTime</td>\n",
       "      <td>duration</td>\n",
       "      <td>16.495940</td>\n",
       "    </tr>\n",
       "    <tr>\n",
       "      <th>18</th>\n",
       "      <td>RoundTime</td>\n",
       "      <td>duration</td>\n",
       "      <td>16.900771</td>\n",
       "    </tr>\n",
       "    <tr>\n",
       "      <th>19</th>\n",
       "      <td>RoundTime</td>\n",
       "      <td>duration</td>\n",
       "      <td>17.284769</td>\n",
       "    </tr>\n",
       "  </tbody>\n",
       "</table>\n",
       "</div>"
      ],
      "text/plain": [
       "    EventType EventState       Time\n",
       "0   RoundTime   duration  16.799823\n",
       "1   RoundTime   duration  16.914645\n",
       "2   RoundTime   duration  17.047378\n",
       "3   RoundTime   duration  17.335857\n",
       "4   RoundTime   duration  17.649704\n",
       "5   RoundTime   duration  17.678650\n",
       "6   RoundTime   duration  17.594516\n",
       "7   RoundTime   duration  16.201091\n",
       "8   RoundTime   duration  16.692443\n",
       "9   RoundTime   duration  16.859439\n",
       "10  RoundTime   duration  16.771433\n",
       "11  RoundTime   duration  17.589107\n",
       "12  RoundTime   duration  16.374736\n",
       "13  RoundTime   duration  17.031996\n",
       "14  RoundTime   duration  16.323340\n",
       "15  RoundTime   duration  17.451070\n",
       "16  RoundTime   duration  17.358217\n",
       "17  RoundTime   duration  16.495940\n",
       "18  RoundTime   duration  16.900771\n",
       "19  RoundTime   duration  17.284769"
      ]
     },
     "execution_count": 100,
     "metadata": {},
     "output_type": "execute_result"
    }
   ],
   "source": [
    "coord_round_time_df"
   ]
  },
  {
   "cell_type": "code",
   "execution_count": null,
   "metadata": {},
   "outputs": [],
   "source": []
  }
 ],
 "metadata": {
  "kernelspec": {
   "display_name": "Python 3",
   "language": "python",
   "name": "python3"
  },
  "language_info": {
   "codemirror_mode": {
    "name": "ipython",
    "version": 3
   },
   "file_extension": ".py",
   "mimetype": "text/x-python",
   "name": "python",
   "nbconvert_exporter": "python",
   "pygments_lexer": "ipython3",
   "version": "3.6.10"
  }
 },
 "nbformat": 4,
 "nbformat_minor": 4
}

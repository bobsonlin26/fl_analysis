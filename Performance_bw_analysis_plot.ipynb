{
 "cells": [
  {
   "cell_type": "code",
   "execution_count": 67,
   "metadata": {},
   "outputs": [],
   "source": [
    "import numpy as np\n",
    "import matplotlib.pyplot as plt"
   ]
  },
  {
   "cell_type": "code",
   "execution_count": 68,
   "metadata": {},
   "outputs": [],
   "source": [
    "def gis_prediction():\n",
    "    return model_size / bandwidth_dict[\"s2c\"] + model_size / bandwidth_dict[\"s2c\"] * (1-recv_ratio) * (nr_worker-1)\n",
    "def emp_prediction():\n",
    "    time_fixed_model = (2 * model_size) / bandwidth_dict[\"c2c\"]\n",
    "    return (nr_worker - 1) * (1 + recv_ratio) * time_fixed_model + mul_time_per_million * (param_size/1000000)\n",
    "def agg_prediction():\n",
    "    return 2 * nr_layer * ((nr_worker - 1) * (nr_worker * time_cmd)) + (nr_worker - 1) * nr_worker *  (param_size/1000000) * add_p\n",
    "def dec_prediction():\n",
    "    return nr_worker * (model_size * 2 / bandwidth_dict[\"c2w\"])"
   ]
  },
  {
   "cell_type": "code",
   "execution_count": 69,
   "metadata": {},
   "outputs": [],
   "source": [
    "# # resnet 18 (1000mbps)\n",
    "# param_size = 11689512\n",
    "# model_size = param_size * 32\n",
    "# add_p = 0.0014\n",
    "# add_time_per_million = 0.012\n",
    "# mul_time_per_million = 0\n",
    "\n",
    "# nr_layer = 62\n",
    "# nr_worker = 3\n",
    "# recv_ratio = 91.55/100\n",
    "\n",
    "# bandwidth_dict = {}\n",
    "# bandwidth_dict[\"s2c\"] = 47.2 * 1000 * 1000\n",
    "# bandwidth_dict[\"c2c\"] = 48.97 * 1000 * 1000\n",
    "# bandwidth_dict[\"c2w\"] = 465 * 1000 * 1000\n",
    "\n",
    "# time_cmd = 0.002"
   ]
  },
  {
   "cell_type": "code",
   "execution_count": 70,
   "metadata": {},
   "outputs": [],
   "source": [
    "# # resnet 18 (500mbps)\n",
    "# param_size = 11689512\n",
    "# model_size = param_size * 32\n",
    "# add_p = 0.0014\n",
    "# add_time_per_million = 0.012\n",
    "# mul_time_per_million = 0\n",
    "\n",
    "# nr_layer = 62\n",
    "# nr_worker = 3\n",
    "# recv_ratio = 88/100\n",
    "\n",
    "# bandwidth_dict = {}\n",
    "# bandwidth_dict[\"s2c\"] = 43.85 * 1000 * 1000\n",
    "# bandwidth_dict[\"c2c\"] = 46.42 * 1000 * 1000\n",
    "# bandwidth_dict[\"c2w\"] = 313.92 * 1000 * 1000\n",
    "\n",
    "# time_cmd = 0.002"
   ]
  },
  {
   "cell_type": "code",
   "execution_count": 62,
   "metadata": {},
   "outputs": [],
   "source": [
    "# # resnet 18 (100mbps)\n",
    "# param_size = 11689512\n",
    "# model_size = param_size * 32\n",
    "# add_p = 0.0014\n",
    "# add_time_per_million = 0.012\n",
    "# mul_time_per_million = 0\n",
    "\n",
    "# nr_layer = 62\n",
    "# nr_worker = 3\n",
    "# recv_ratio = 63.38/100\n",
    "\n",
    "# bandwidth_dict = {}\n",
    "# bandwidth_dict[\"s2c\"] = 33.28 * 1000 * 1000\n",
    "# bandwidth_dict[\"c2c\"] = 34.1 * 1000 * 1000\n",
    "# bandwidth_dict[\"c2w\"] = 86.41 * 1000 * 1000\n",
    "\n",
    "# time_cmd = 0.002"
   ]
  },
  {
   "cell_type": "code",
   "execution_count": 71,
   "metadata": {},
   "outputs": [],
   "source": [
    "# resnet 18 (10mbps)\n",
    "param_size = 11689512\n",
    "model_size = param_size * 32\n",
    "add_p = 0.0014\n",
    "add_time_per_million = 0.012\n",
    "mul_time_per_million = 0\n",
    "\n",
    "nr_layer = 62\n",
    "nr_worker = 3\n",
    "recv_ratio = (100-85)/100\n",
    "\n",
    "bandwidth_dict = {}\n",
    "bandwidth_dict[\"s2c\"] = 8.07 * 1000 * 1000\n",
    "bandwidth_dict[\"c2c\"] = 8.1 * 1000 * 1000\n",
    "bandwidth_dict[\"c2w\"] = 9.46 * 1000 * 1000\n",
    "\n",
    "time_cmd = 0.002"
   ]
  },
  {
   "cell_type": "code",
   "execution_count": null,
   "metadata": {},
   "outputs": [],
   "source": []
  },
  {
   "cell_type": "code",
   "execution_count": null,
   "metadata": {},
   "outputs": [],
   "source": []
  },
  {
   "cell_type": "code",
   "execution_count": 72,
   "metadata": {},
   "outputs": [
    {
     "data": {
      "text/plain": [
       "125.1516526394052"
      ]
     },
     "execution_count": 72,
     "metadata": {},
     "output_type": "execute_result"
    }
   ],
   "source": [
    "gis_prediction()"
   ]
  },
  {
   "cell_type": "code",
   "execution_count": 73,
   "metadata": {},
   "outputs": [
    {
     "data": {
      "text/plain": [
       "212.43162548148146"
      ]
     },
     "execution_count": 73,
     "metadata": {},
     "output_type": "execute_result"
    }
   ],
   "source": [
    "emp_prediction()"
   ]
  },
  {
   "cell_type": "code",
   "execution_count": 74,
   "metadata": {},
   "outputs": [
    {
     "data": {
      "text/plain": [
       "1.5861919008"
      ]
     },
     "execution_count": 74,
     "metadata": {},
     "output_type": "execute_result"
    }
   ],
   "source": [
    "agg_prediction()"
   ]
  },
  {
   "cell_type": "code",
   "execution_count": 75,
   "metadata": {},
   "outputs": [
    {
     "data": {
      "text/plain": [
       "237.2501378435518"
      ]
     },
     "execution_count": 75,
     "metadata": {},
     "output_type": "execute_result"
    }
   ],
   "source": [
    "dec_prediction()"
   ]
  },
  {
   "cell_type": "code",
   "execution_count": null,
   "metadata": {},
   "outputs": [],
   "source": []
  },
  {
   "cell_type": "code",
   "execution_count": null,
   "metadata": {},
   "outputs": [],
   "source": []
  },
  {
   "cell_type": "code",
   "execution_count": 76,
   "metadata": {},
   "outputs": [
    {
     "data": {
      "image/png": "[encoded data removed]",
      "text/plain": [
       "<Figure size 432x288 with 1 Axes>"
      ]
     },
     "metadata": {
      "needs_background": "light"
     },
     "output_type": "display_data"
    }
   ],
   "source": [
    "N = 4\n",
    "width = 0.35\n",
    "x = (\"10\", '100', '500', '1000')\n",
    "\n",
    "gis = (125.15, 19.472, 10.578, 9.264)\n",
    "lt = tuple([124.91] * N)\n",
    "emp = (212.43, 71.689, 60.598, 58.5273)\n",
    "b_emp = list(np.add(gis, lt))\n",
    "agg = (1.5862, 1.5862, 1.5862, 1.5862)\n",
    "b_agg = list(np.add(b_emp, emp))\n",
    "dec = (237.25, 25.9737, 7.14955, 4.8266)\n",
    "b_dec = list(np.add(b_agg, agg))\n",
    "\n",
    "plt.bar(x, gis, width)\n",
    "plt.bar(x, lt, width, bottom=gis)\n",
    "plt.bar(x, emp, width, bottom=b_emp)\n",
    "plt.bar(x, agg, width, bottom=b_agg)\n",
    "plt.bar(x, dec, width, bottom=b_dec)\n",
    "\n",
    "plt.ylabel('Time (sec)')\n",
    "plt.xlabel('Bandwidth (mbps)')\n",
    "plt.title('')\n",
    "plt.legend(labels=['GIS', 'LT', \"EMP\", \"AGG\", \"DEC\"])\n",
    "plt.show()"
   ]
  },
  {
   "cell_type": "code",
   "execution_count": null,
   "metadata": {},
   "outputs": [],
   "source": []
  }
 ],
 "metadata": {
  "kernelspec": {
   "display_name": "Python 3",
   "language": "python",
   "name": "python3"
  },
  "language_info": {
   "codemirror_mode": {
    "name": "ipython",
    "version": 3
   },
   "file_extension": ".py",
   "mimetype": "text/x-python",
   "name": "python",
   "nbconvert_exporter": "python",
   "pygments_lexer": "ipython3",
   "version": "3.6.10"
  }
 },
 "nbformat": 4,
 "nbformat_minor": 4
}

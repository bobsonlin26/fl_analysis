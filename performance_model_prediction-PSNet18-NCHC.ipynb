{
 "cells": [
  {
   "cell_type": "code",
   "execution_count": 1,
   "metadata": {},
   "outputs": [],
   "source": [
    "import math"
   ]
  },
  {
   "cell_type": "markdown",
   "metadata": {},
   "source": [
    "## Setup"
   ]
  },
  {
   "cell_type": "code",
   "execution_count": 2,
   "metadata": {},
   "outputs": [],
   "source": [
    "# ((0.046 - 0.0042) / 7080000) * 1000000"
   ]
  },
  {
   "cell_type": "code",
   "execution_count": 3,
   "metadata": {},
   "outputs": [],
   "source": [
    "# # 3rm\n",
    "# model_size = 11544930 * 4 * 8\n",
    "# param_size = round(model_size / 32)\n",
    "# add_p = 0.0023\n",
    "# mul_time_per_million = 0\n",
    "\n",
    "# nr_layer = 5\n",
    "# nr_worker = 3\n",
    "# recv_ratio = 98.35 / 100\n",
    "\n",
    "# bandwidth_dict = {}\n",
    "# bandwidth_dict[\"s2c\"] = 60.42 * 1000 * 1000\n",
    "# bandwidth_dict[\"c2c\"] = 60.42 * 1000 * 1000\n",
    "# bandwidth_dict[\"c2w\"] = 851.1 * 1000 * 1000\n",
    "\n",
    "# time_cmd = 0.0014\n",
    "\n",
    "# gis_real_value = 6\n",
    "# emp_real_value = 52.5\n",
    "# agg_real_value = 0.28\n",
    "# dec_real_value = 2.83"
   ]
  },
  {
   "cell_type": "code",
   "execution_count": 4,
   "metadata": {},
   "outputs": [],
   "source": [
    "# # 6rm\n",
    "# model_size = 11544930 * 4 * 8\n",
    "# param_size = round(model_size / 32)\n",
    "# add_time_per_million = 0.0195\n",
    "# add_p = 0.0023\n",
    "# mul_time_per_million = 0\n",
    "\n",
    "# nr_layer = 5\n",
    "# nr_worker = 6\n",
    "# recv_ratio = 98.35 / 100\n",
    "\n",
    "# bandwidth_dict = {}\n",
    "# bandwidth_dict[\"s2c\"] = 60.42 * 1000 * 1000\n",
    "# bandwidth_dict[\"c2c\"] = 60.42 * 1000 * 1000\n",
    "# bandwidth_dict[\"c2w\"] = 851.1 * 1000 * 1000\n",
    "\n",
    "# time_cmd = 0.0014\n",
    "\n",
    "# gis_real_value = 6.5\n",
    "# emp_real_value = 140.7\n",
    "# agg_real_value = 1.185\n",
    "# dec_real_value = 5.4"
   ]
  },
  {
   "cell_type": "code",
   "execution_count": 5,
   "metadata": {},
   "outputs": [],
   "source": [
    "# 12rm\n",
    "model_size = 11544930 * 4 * 8\n",
    "param_size = round(model_size / 32)\n",
    "add_time_per_million = 0.0195\n",
    "add_p = 0.0023\n",
    "mul_time_per_million = 0\n",
    "\n",
    "nr_layer = 5\n",
    "nr_worker = 12\n",
    "recv_ratio = 98.35 / 100\n",
    "\n",
    "bandwidth_dict = {}\n",
    "bandwidth_dict[\"s2c\"] = 60.42 * 1000 * 1000\n",
    "bandwidth_dict[\"c2c\"] = 60.42 * 1000 * 1000\n",
    "bandwidth_dict[\"c2w\"] = 851.1 * 1000 * 1000\n",
    "\n",
    "time_cmd = 0.0016\n",
    "\n",
    "gis_real_value = 7.6\n",
    "emp_real_value = 311.8\n",
    "agg_real_value = 5.62\n",
    "dec_real_value = 10.2"
   ]
  },
  {
   "cell_type": "code",
   "execution_count": 6,
   "metadata": {},
   "outputs": [],
   "source": [
    "def ratio(pred_value, real_value):\n",
    "    return pred_value / real_value"
   ]
  },
  {
   "cell_type": "markdown",
   "metadata": {},
   "source": [
    "## GIS Prediction"
   ]
  },
  {
   "cell_type": "code",
   "execution_count": 7,
   "metadata": {},
   "outputs": [],
   "source": [
    "def gis_prediction():\n",
    "    return model_size / bandwidth_dict[\"s2c\"] + model_size / bandwidth_dict[\"s2c\"] * (1-recv_ratio) * (nr_worker-1)"
   ]
  },
  {
   "cell_type": "code",
   "execution_count": 8,
   "metadata": {},
   "outputs": [
    {
     "data": {
      "text/plain": [
       "7.224275296921554"
      ]
     },
     "execution_count": 8,
     "metadata": {},
     "output_type": "execute_result"
    }
   ],
   "source": [
    "gis_prediction()"
   ]
  },
  {
   "cell_type": "code",
   "execution_count": 9,
   "metadata": {},
   "outputs": [
    {
     "data": {
      "text/plain": [
       "7.6"
      ]
     },
     "execution_count": 9,
     "metadata": {},
     "output_type": "execute_result"
    }
   ],
   "source": [
    "gis_real_value"
   ]
  },
  {
   "cell_type": "code",
   "execution_count": 10,
   "metadata": {},
   "outputs": [
    {
     "data": {
      "text/plain": [
       "0.9505625390686255"
      ]
     },
     "execution_count": 10,
     "metadata": {},
     "output_type": "execute_result"
    }
   ],
   "source": [
    "ratio(gis_prediction(), gis_real_value)"
   ]
  },
  {
   "cell_type": "markdown",
   "metadata": {},
   "source": [
    "## Local Training Prediction"
   ]
  },
  {
   "cell_type": "code",
   "execution_count": 11,
   "metadata": {},
   "outputs": [],
   "source": [
    "\"\"\"\n",
    "data_kargs:\n",
    "    * data.shape: List\n",
    "    * nr_bits for the type of data: int\n",
    "    * label.shape: List\n",
    "    * nr_bits for the type of label: int\n",
    "fb_kargs:\n",
    "    * bandwidth (Mbps): float\n",
    "    * constant: float\n",
    "cmp_kargs:\n",
    "    * gflops: float\n",
    "    * constant: float\n",
    "\"\"\"\n",
    "def local_training_predictor(model_flops, data_kargs, fb_kargs, cmp_kargs):\n",
    "    nr_data_element = 1\n",
    "    for nr in data_kargs[\"data\"][\"shape\"]:\n",
    "        nr_data_element = nr * nr_data_element\n",
    "        \n",
    "    nr_data_bits = nr_data_element * data_kargs[\"data\"][\"type_bits\"]\n",
    "    \n",
    "    nr_label_element = 1\n",
    "    for nr in data_kargs[\"label\"][\"shape\"]:\n",
    "        nr_label_element = nr * nr_label_element\n",
    "        \n",
    "    nr_label_bits = nr_label_element * data_kargs[\"label\"][\"type_bits\"]\n",
    "    \n",
    "    nr_batch_bits = data_kargs[\"batch_size\"] * (nr_label_bits + nr_data_bits)\n",
    "    nr_batch = math.ceil(data_kargs[\"data_size\"] / data_kargs[\"batch_size\"])\n",
    "    fetch_batch_time = nr_batch_bits / (fb_kargs[\"mbps\"] * 1024 * 1024) + fb_kargs[\"constant\"]\n",
    "    comp_batch_time = (data_kargs[\"batch_size\"] * model_flops) / (cmp_kargs[\"gflops\"] * 1024 * 1024 * 1024) + cmp_kargs[\"constant\"]\n",
    "    \n",
    "    predict_value = nr_batch * (fetch_batch_time + comp_batch_time)\n",
    "    \n",
    "    return fetch_batch_time, comp_batch_time, predict_value"
   ]
  },
  {
   "cell_type": "code",
   "execution_count": 12,
   "metadata": {},
   "outputs": [],
   "source": [
    "label_name = \"resnet_18\"\n",
    "\n",
    "model_flops_dict = {\n",
    "    \"original\": 2307720 * 2 * 3,\n",
    "    \"resnet_18\": 13412720 * 2 * 3,\n",
    "    \"resnet_34\": 23747720 * 2 * 3,\n",
    "    \"resnet_50\": 25437720 * 2 * 3\n",
    "}\n",
    "\n",
    "lt_real_value_dict = {\n",
    "    \"original\": 13.57,\n",
    "    \"resnet_18\": 26.76,\n",
    "    \"resnet_34\": 42.67,\n",
    "    \"resnet_50\": 45.167\n",
    "}\n",
    "\n",
    "model_flops = model_flops_dict[label_name]\n",
    "\n",
    "data_kargs = {}\n",
    "data_kargs[\"data\"] = {}\n",
    "data_kargs[\"label\"] = {}\n",
    "data_kargs[\"data_size\"] = 24754\n",
    "data_kargs[\"batch_size\"] = 64\n",
    "data_kargs[\"data\"][\"shape\"] = [28, 28]\n",
    "data_kargs[\"data\"][\"type_bits\"] = 32\n",
    "data_kargs[\"label\"][\"shape\"] = [1]\n",
    "data_kargs[\"label\"][\"type_bits\"] = 64\n",
    "\n",
    "fb_kargs = {}\n",
    "fb_kargs[\"mbps\"] = 180.93\n",
    "fb_kargs[\"constant\"] = 0.0082\n",
    "\n",
    "cmp_kargs = {}\n",
    "cmp_kargs[\"gflops\"] = 92\n",
    "cmp_kargs[\"constant\"] = 0.00623\n",
    "\n",
    "lt_real_value = lt_real_value_dict[label_name]"
   ]
  },
  {
   "cell_type": "code",
   "execution_count": 13,
   "metadata": {},
   "outputs": [
    {
     "data": {
      "text/plain": [
       "80476320"
      ]
     },
     "execution_count": 13,
     "metadata": {},
     "output_type": "execute_result"
    }
   ],
   "source": [
    "model_flops"
   ]
  },
  {
   "cell_type": "code",
   "execution_count": 14,
   "metadata": {},
   "outputs": [],
   "source": [
    "_, _, pred_time = local_training_predictor(model_flops, data_kargs, fb_kargs, cmp_kargs)"
   ]
  },
  {
   "cell_type": "code",
   "execution_count": 15,
   "metadata": {},
   "outputs": [
    {
     "data": {
      "text/plain": [
       "29.045716157068497"
      ]
     },
     "execution_count": 15,
     "metadata": {},
     "output_type": "execute_result"
    }
   ],
   "source": [
    "pred_time"
   ]
  },
  {
   "cell_type": "code",
   "execution_count": 16,
   "metadata": {},
   "outputs": [
    {
     "data": {
      "text/plain": [
       "26.76"
      ]
     },
     "execution_count": 16,
     "metadata": {},
     "output_type": "execute_result"
    }
   ],
   "source": [
    "lt_real_value"
   ]
  },
  {
   "cell_type": "code",
   "execution_count": 17,
   "metadata": {},
   "outputs": [
    {
     "data": {
      "text/plain": [
       "1.4093020939868266"
      ]
     },
     "execution_count": 17,
     "metadata": {},
     "output_type": "execute_result"
    }
   ],
   "source": [
    "pred_time / 20.61"
   ]
  },
  {
   "cell_type": "markdown",
   "metadata": {},
   "source": [
    "## EMP"
   ]
  },
  {
   "cell_type": "code",
   "execution_count": 18,
   "metadata": {},
   "outputs": [],
   "source": [
    "def emp_prediction():\n",
    "    time_fixed_model = (2 * model_size) / bandwidth_dict[\"c2c\"]\n",
    "    return (nr_worker - 1) * (1 + recv_ratio) * time_fixed_model + mul_time_per_million * (param_size/1000000)"
   ]
  },
  {
   "cell_type": "code",
   "execution_count": 19,
   "metadata": {},
   "outputs": [
    {
     "data": {
      "text/plain": [
       "266.818198164846"
      ]
     },
     "execution_count": 19,
     "metadata": {},
     "output_type": "execute_result"
    }
   ],
   "source": [
    "emp_prediction()"
   ]
  },
  {
   "cell_type": "code",
   "execution_count": 20,
   "metadata": {},
   "outputs": [
    {
     "data": {
      "text/plain": [
       "311.8"
      ]
     },
     "execution_count": 20,
     "metadata": {},
     "output_type": "execute_result"
    }
   ],
   "source": [
    "emp_real_value"
   ]
  },
  {
   "cell_type": "code",
   "execution_count": 21,
   "metadata": {},
   "outputs": [
    {
     "data": {
      "text/plain": [
       "0.8557350807082938"
      ]
     },
     "execution_count": 21,
     "metadata": {},
     "output_type": "execute_result"
    }
   ],
   "source": [
    "ratio(emp_prediction(), emp_real_value)"
   ]
  },
  {
   "cell_type": "code",
   "execution_count": null,
   "metadata": {},
   "outputs": [],
   "source": []
  },
  {
   "cell_type": "markdown",
   "metadata": {},
   "source": [
    "## Aggregation prediction"
   ]
  },
  {
   "cell_type": "code",
   "execution_count": 22,
   "metadata": {},
   "outputs": [
    {
     "data": {
      "text/plain": [
       "5"
      ]
     },
     "execution_count": 22,
     "metadata": {},
     "output_type": "execute_result"
    }
   ],
   "source": [
    "nr_layer"
   ]
  },
  {
   "cell_type": "code",
   "execution_count": 23,
   "metadata": {},
   "outputs": [
    {
     "data": {
      "text/plain": [
       "0.0023"
      ]
     },
     "execution_count": 23,
     "metadata": {},
     "output_type": "execute_result"
    }
   ],
   "source": [
    "add_p"
   ]
  },
  {
   "cell_type": "code",
   "execution_count": 24,
   "metadata": {},
   "outputs": [],
   "source": [
    "# p_list = [500, 20, 25000, 50, 7080000, 8850, 4425000, 500, 5000, 10]\n",
    "# agg_time = 0\n",
    "# for p in p_list:\n",
    "#     single_add_time = add_p * (p / 1000000) + time_cmd * nr_worker\n",
    "#     layer_time = single_add_time * (nr_worker-1)\n",
    "#     print(single_add_time, layer_time)\n",
    "#     agg_time += layer_time"
   ]
  },
  {
   "cell_type": "code",
   "execution_count": 25,
   "metadata": {},
   "outputs": [],
   "source": [
    "def agg_prediction():\n",
    "    return 2 * nr_layer * ((nr_worker - 1) * (nr_worker * time_cmd)) + (nr_worker - 1) * nr_worker *  (param_size/1000000) * add_p"
   ]
  },
  {
   "cell_type": "code",
   "execution_count": 26,
   "metadata": {},
   "outputs": [],
   "source": [
    "# def agg_prediction():\n",
    "#     return 2 * nr_layer * ((nr_worker - 1) * (nr_worker * time_cmd)) + (nr_worker - 1) *  (param_size/1000000) * add_p"
   ]
  },
  {
   "cell_type": "code",
   "execution_count": 27,
   "metadata": {},
   "outputs": [
    {
     "data": {
      "text/plain": [
       "5.617040748000001"
      ]
     },
     "execution_count": 27,
     "metadata": {},
     "output_type": "execute_result"
    }
   ],
   "source": [
    "agg_prediction()"
   ]
  },
  {
   "cell_type": "code",
   "execution_count": 28,
   "metadata": {},
   "outputs": [
    {
     "data": {
      "text/plain": [
       "5.62"
      ]
     },
     "execution_count": 28,
     "metadata": {},
     "output_type": "execute_result"
    }
   ],
   "source": [
    "agg_real_value"
   ]
  },
  {
   "cell_type": "code",
   "execution_count": 29,
   "metadata": {},
   "outputs": [
    {
     "data": {
      "text/plain": [
       "0.9994734427046265"
      ]
     },
     "execution_count": 29,
     "metadata": {},
     "output_type": "execute_result"
    }
   ],
   "source": [
    "ratio(agg_prediction(), agg_real_value)"
   ]
  },
  {
   "cell_type": "code",
   "execution_count": null,
   "metadata": {},
   "outputs": [],
   "source": []
  },
  {
   "cell_type": "markdown",
   "metadata": {},
   "source": [
    "## Decryption prediction"
   ]
  },
  {
   "cell_type": "code",
   "execution_count": 30,
   "metadata": {},
   "outputs": [],
   "source": [
    "def dec_prediction():\n",
    "    return nr_worker * (model_size * 2 / bandwidth_dict[\"c2w\"])"
   ]
  },
  {
   "cell_type": "code",
   "execution_count": 31,
   "metadata": {},
   "outputs": [
    {
     "data": {
      "text/plain": [
       "10.417702079661614"
      ]
     },
     "execution_count": 31,
     "metadata": {},
     "output_type": "execute_result"
    }
   ],
   "source": [
    "dec_prediction()"
   ]
  },
  {
   "cell_type": "code",
   "execution_count": 32,
   "metadata": {},
   "outputs": [
    {
     "data": {
      "text/plain": [
       "10.2"
      ]
     },
     "execution_count": 32,
     "metadata": {},
     "output_type": "execute_result"
    }
   ],
   "source": [
    "dec_real_value"
   ]
  },
  {
   "cell_type": "code",
   "execution_count": 33,
   "metadata": {},
   "outputs": [
    {
     "data": {
      "text/plain": [
       "1.0213433411432955"
      ]
     },
     "execution_count": 33,
     "metadata": {},
     "output_type": "execute_result"
    }
   ],
   "source": [
    "ratio(dec_prediction(), dec_real_value)"
   ]
  },
  {
   "cell_type": "code",
   "execution_count": null,
   "metadata": {},
   "outputs": [],
   "source": []
  },
  {
   "cell_type": "code",
   "execution_count": null,
   "metadata": {},
   "outputs": [],
   "source": []
  },
  {
   "cell_type": "raw",
   "metadata": {},
   "source": []
  },
  {
   "cell_type": "code",
   "execution_count": 60,
   "metadata": {},
   "outputs": [
    {
     "name": "stderr",
     "output_type": "stream",
     "text": [
      "/home/posheng/miniconda3/envs/syft-0.2.5/lib/python3.6/site-packages/ipykernel_launcher.py:14: MatplotlibDeprecationWarning: Passing the minor parameter of set_ticks() positionally is deprecated since Matplotlib 3.2; the parameter will become keyword-only two minor releases later.\n",
      "  \n"
     ]
    },
    {
     "data": {
      "image/png": "[encoded data removed]",
      "text/plain": [
       "<Figure size 432x288 with 1 Axes>"
      ]
     },
     "metadata": {
      "needs_background": "light"
     },
     "output_type": "display_data"
    }
   ],
   "source": [
    "import numpy as np\n",
    "import matplotlib.pyplot as plt\n",
    "N = 5\n",
    "menMeans = (20, 35, 30, 35, 27)\n",
    "womenMeans = (25, 32, 34, 20, 25)\n",
    "ind = np.arange(N) # the x locations for the groups\n",
    "width = 0.35\n",
    "fig = plt.figure()\n",
    "ax = fig.add_axes([0,0,1,1])\n",
    "ax.bar(ind, menMeans, width, color='r')\n",
    "ax.bar(ind, womenMeans, width,bottom=menMeans, color='b')\n",
    "ax.set_ylabel('Scores')\n",
    "ax.set_title('Scores by group and gender')\n",
    "ax.set_xticks(ind, ('G1', 'G2', 'G3', 'G4', 'G5'))\n",
    "ax.set_yticks(np.arange(0, 81, 10))\n",
    "ax.legend(labels=['Men', 'Women'])\n",
    "plt.show()"
   ]
  },
  {
   "cell_type": "markdown",
   "metadata": {},
   "source": [
    "### Model Size"
   ]
  },
  {
   "cell_type": "code",
   "execution_count": 73,
   "metadata": {},
   "outputs": [
    {
     "name": "stderr",
     "output_type": "stream",
     "text": [
      "/home/posheng/miniconda3/envs/syft-0.2.5/lib/python3.6/site-packages/ipykernel_launcher.py:15: UserWarning: FixedFormatter should only be used together with FixedLocator\n",
      "  from ipykernel import kernelapp as app\n"
     ]
    },
    {
     "data": {
      "image/png": "[encoded data removed]",
      "text/plain": [
       "<Figure size 432x288 with 1 Axes>"
      ]
     },
     "metadata": {
      "needs_background": "light"
     },
     "output_type": "display_data"
    }
   ],
   "source": [
    "import numpy as np\n",
    "import matplotlib.pyplot as plt\n",
    "N = 5\n",
    "gis = (20, 35, 30, 35, 27)\n",
    "womenMeans = (25, 32, 34, 20, 25)\n",
    "ind = np.arange(N) # the x locations for the groups\n",
    "width = 0.35\n",
    "fig = plt.figure()\n",
    "ax = fig.add_axes([0,0,1,1])\n",
    "ax.bar(ind, menMeans, width, color='r')\n",
    "ax.bar(ind, womenMeans, width,bottom=menMeans, color='b')\n",
    "ax.set_ylabel('Scores')\n",
    "ax.set_title('Scores by group and gender')\n",
    "# ax.set_xticks(('G1', 'G2', 'G3', 'G4', 'G5'))\n",
    "ax.set_xticklabels([\"G0\", 'G1', 'G2', 'G3', 'G4', 'G5']) \n",
    "ax.set_yticks(np.arange(0, 81, 10))\n",
    "ax.legend(labels=['Men', 'Women'])\n",
    "plt.show()"
   ]
  },
  {
   "cell_type": "code",
   "execution_count": null,
   "metadata": {},
   "outputs": [],
   "source": []
  }
 ],
 "metadata": {
  "kernelspec": {
   "display_name": "Python 3",
   "language": "python",
   "name": "python3"
  },
  "language_info": {
   "codemirror_mode": {
    "name": "ipython",
    "version": 3
   },
   "file_extension": ".py",
   "mimetype": "text/x-python",
   "name": "python",
   "nbconvert_exporter": "python",
   "pygments_lexer": "ipython3",
   "version": "3.6.10"
  }
 },
 "nbformat": 4,
 "nbformat_minor": 4
}

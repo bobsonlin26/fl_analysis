{
 "cells": [
  {
   "cell_type": "code",
   "execution_count": 1,
   "metadata": {},
   "outputs": [],
   "source": [
    "import numpy as np\n",
    "import matplotlib.pyplot as plt"
   ]
  },
  {
   "cell_type": "code",
   "execution_count": 100,
   "metadata": {},
   "outputs": [],
   "source": [
    "import math\n",
    "from functools import reduce"
   ]
  },
  {
   "cell_type": "code",
   "execution_count": 3,
   "metadata": {},
   "outputs": [],
   "source": [
    "# label_name = \"resnet_18\"\n",
    "\n",
    "# model_flops_dict = {\n",
    "#     \"original\": 2307720 * 2 * 3,\n",
    "#     \"resnet_18\": 13412720 * 2 * 3,\n",
    "#     \"resnet_34\": 23747720 * 2 * 3,\n",
    "#     \"resnet_50\": 25437720 * 2 * 3\n",
    "# }\n",
    "\n",
    "# lt_real_value_dict = {\n",
    "#     \"original\": 13.57,\n",
    "#     \"resnet_18\": 26.76,\n",
    "#     \"resnet_34\": 42.67,\n",
    "#     \"resnet_50\": 45.167\n",
    "# }\n",
    "\n",
    "# model_flops = model_flops_dict[label_name]\n",
    "\n",
    "# data_kargs = {}\n",
    "# data_kargs[\"data\"] = {}\n",
    "# data_kargs[\"label\"] = {}\n",
    "# data_kargs[\"data_size\"] = 24754\n",
    "# data_kargs[\"batch_size\"] = 64\n",
    "# data_kargs[\"data\"][\"shape\"] = [28, 28]\n",
    "# data_kargs[\"data\"][\"type_bits\"] = 32\n",
    "# data_kargs[\"label\"][\"shape\"] = [1]\n",
    "# data_kargs[\"label\"][\"type_bits\"] = 64\n",
    "\n",
    "# fb_kargs = {}\n",
    "# fb_kargs[\"mbps\"] = 186.615\n",
    "# fb_kargs[\"constant\"] = 0.0138\n",
    "\n",
    "# cmp_kargs = {}\n",
    "# cmp_kargs[\"gflops\"] = 94.86\n",
    "# cmp_kargs[\"constant\"] = 0.016\n",
    "\n",
    "# lt_real_value = lt_real_value_dict[label_name]"
   ]
  },
  {
   "cell_type": "code",
   "execution_count": 4,
   "metadata": {},
   "outputs": [],
   "source": [
    "import torch\n",
    "import torchvision\n",
    "import torchvision.models as models\n",
    "import torchvision.transforms as transforms\n",
    "import numpy as np\n",
    "import sys\n",
    "\n",
    "import torch.nn as nn\n",
    "import torch.optim as optim\n",
    "import torch.nn.functional as F\n",
    "import matplotlib.pyplot as plt\n",
    "import pkbar\n",
    "import pdb"
   ]
  },
  {
   "cell_type": "code",
   "execution_count": 5,
   "metadata": {},
   "outputs": [],
   "source": [
    "from thop import profile"
   ]
  },
  {
   "cell_type": "code",
   "execution_count": 26,
   "metadata": {},
   "outputs": [],
   "source": [
    "\"\"\"\n",
    "data_kargs:\n",
    "    * data.shape: List\n",
    "    * nr_bits for the type of data: int\n",
    "    * label.shape: List\n",
    "    * nr_bits for the type of label: int\n",
    "fb_kargs:\n",
    "    * bandwidth (Mbps): float\n",
    "    * constant: float\n",
    "cmp_kargs:\n",
    "    * gflops: float\n",
    "    * constant: float\n",
    "\"\"\"\n",
    "def local_training_predictor(model_flops, data_kargs, fb_kargs, cmp_kargs):\n",
    "    nr_data_element = 1\n",
    "    for nr in data_kargs[\"data\"][\"shape\"]:\n",
    "        nr_data_element = nr * nr_data_element\n",
    "        \n",
    "    nr_data_bits = nr_data_element * data_kargs[\"data\"][\"type_bits\"]\n",
    "    \n",
    "    nr_label_element = 1\n",
    "    for nr in data_kargs[\"label\"][\"shape\"]:\n",
    "        nr_label_element = nr * nr_label_element\n",
    "        \n",
    "    nr_label_bits = nr_label_element * data_kargs[\"label\"][\"type_bits\"]\n",
    "    \n",
    "    nr_batch_bits = data_kargs[\"batch_size\"] * (nr_label_bits + nr_data_bits)\n",
    "    nr_batch = math.ceil(data_kargs[\"data_size\"] / data_kargs[\"batch_size\"])\n",
    "    fetch_batch_time = nr_batch_bits / (fb_kargs[\"mbps\"] * 1024 * 1024) + fb_kargs[\"constant\"]\n",
    "    comp_batch_time = (data_kargs[\"batch_size\"] * model_flops) / (cmp_kargs[\"gflops\"] * 1024 * 1024 * 1024) + cmp_kargs[\"constant\"]\n",
    "    print(fetch_batch_time, comp_batch_time)\n",
    "    predict_value = nr_batch * (fetch_batch_time + comp_batch_time)\n",
    "    \n",
    "    return fetch_batch_time, comp_batch_time, predict_value"
   ]
  },
  {
   "cell_type": "code",
   "execution_count": 105,
   "metadata": {},
   "outputs": [],
   "source": [
    "# # resnet 18\n",
    "# param_size = 11689512\n",
    "# model_size = param_size * 32\n",
    "# add_p = 0.0014\n",
    "# add_time_per_million = 0.012\n",
    "# mul_time_per_million = 0\n",
    "\n",
    "# nr_layer = 62\n",
    "# nr_worker = 3\n",
    "# recv_ratio = 91.55/100\n",
    "\n",
    "# bandwidth_dict = {}\n",
    "# bandwidth_dict[\"s2c\"] = 47.2 * 1000 * 1000\n",
    "# bandwidth_dict[\"c2c\"] = 48.97 * 1000 * 1000\n",
    "# bandwidth_dict[\"c2w\"] = 465 * 1000 * 1000\n",
    "\n",
    "# time_cmd = 0.002"
   ]
  },
  {
   "cell_type": "code",
   "execution_count": 119,
   "metadata": {},
   "outputs": [],
   "source": [
    "# # resnet 34\n",
    "# param_size = 21797672\n",
    "# model_size = param_size * 32\n",
    "# add_p = 0.0014\n",
    "# mul_time_per_million = 0\n",
    "# # mul_time_per_million = 0.636\n",
    "\n",
    "# nr_layer = 110\n",
    "# nr_worker = 3\n",
    "# recv_ratio = 91.55/100\n",
    "\n",
    "# bandwidth_dict = {}\n",
    "# bandwidth_dict[\"s2c\"] = 47.2 * 1000 * 1000\n",
    "# bandwidth_dict[\"c2c\"] = 48.97 * 1000 * 1000\n",
    "# bandwidth_dict[\"c2w\"] = 465 * 1000 * 1000\n",
    "\n",
    "# time_cmd = 0.002"
   ]
  },
  {
   "cell_type": "code",
   "execution_count": 131,
   "metadata": {},
   "outputs": [],
   "source": [
    "# # resnet 50\n",
    "# param_size = 25557032\n",
    "# model_size = param_size * 32\n",
    "# add_p = 0.0014\n",
    "# mul_time_per_million = 0\n",
    "\n",
    "# nr_layer = 161\n",
    "# nr_worker = 3\n",
    "# recv_ratio = 91.55/100\n",
    "# # recv_ratio = (100-8.33)/100\n",
    "\n",
    "# bandwidth_dict = {}\n",
    "# bandwidth_dict[\"s2c\"] = 47.2 * 1000 * 1000\n",
    "# bandwidth_dict[\"c2c\"] = 48.97 * 1000 * 1000\n",
    "# bandwidth_dict[\"c2w\"] = 465 * 1000 * 1000\n",
    "\n",
    "# time_cmd = 0.002"
   ]
  },
  {
   "cell_type": "code",
   "execution_count": 150,
   "metadata": {},
   "outputs": [],
   "source": [
    "# resnet 101\n",
    "param_size = 44549160\n",
    "model_size = param_size * 32\n",
    "add_p = 0.0014\n",
    "mul_time_per_million = 0\n",
    "\n",
    "nr_layer = 314\n",
    "nr_worker = 3\n",
    "recv_ratio = 87.089/100\n",
    "# recv_ratio = (100-8.33)/100\n",
    "\n",
    "bandwidth_dict = {}\n",
    "bandwidth_dict[\"s2c\"] = 47.2 * 1000 * 1000\n",
    "bandwidth_dict[\"c2c\"] = 48.97 * 1000 * 1000\n",
    "bandwidth_dict[\"c2w\"] = 465 * 1000 * 1000\n",
    "\n",
    "time_cmd = 0.002"
   ]
  },
  {
   "cell_type": "code",
   "execution_count": 151,
   "metadata": {},
   "outputs": [],
   "source": [
    "def gis_prediction():\n",
    "    return model_size / bandwidth_dict[\"s2c\"] + model_size / bandwidth_dict[\"s2c\"] * (1-recv_ratio) * (nr_worker-1)\n",
    "def emp_prediction():\n",
    "    time_fixed_model = (2 * model_size) / bandwidth_dict[\"c2c\"]\n",
    "    return (nr_worker - 1) * (1 + recv_ratio) * time_fixed_model + mul_time_per_million * (param_size/1000000)\n",
    "def agg_prediction():\n",
    "    return 2 * nr_layer * ((nr_worker - 1) * (nr_worker * time_cmd)) + (nr_worker - 1) * nr_worker *  (param_size/1000000) * add_p\n",
    "def dec_prediction():\n",
    "    return nr_worker * (model_size * 2 / bandwidth_dict[\"c2w\"])"
   ]
  },
  {
   "cell_type": "code",
   "execution_count": 152,
   "metadata": {},
   "outputs": [
    {
     "data": {
      "text/plain": [
       "38.00179260691526"
      ]
     },
     "execution_count": 152,
     "metadata": {},
     "output_type": "execute_result"
    }
   ],
   "source": [
    "gis_prediction()"
   ]
  },
  {
   "cell_type": "code",
   "execution_count": 153,
   "metadata": {},
   "outputs": [
    {
     "data": {
      "text/plain": [
       "217.85505366361446"
      ]
     },
     "execution_count": 153,
     "metadata": {},
     "output_type": "execute_result"
    }
   ],
   "source": [
    "emp_prediction()"
   ]
  },
  {
   "cell_type": "code",
   "execution_count": 154,
   "metadata": {},
   "outputs": [
    {
     "data": {
      "text/plain": [
       "7.910212944"
      ]
     },
     "execution_count": 154,
     "metadata": {},
     "output_type": "execute_result"
    }
   ],
   "source": [
    "agg_prediction()"
   ]
  },
  {
   "cell_type": "code",
   "execution_count": 155,
   "metadata": {},
   "outputs": [
    {
     "data": {
      "text/plain": [
       "18.39449187096774"
      ]
     },
     "execution_count": 155,
     "metadata": {},
     "output_type": "execute_result"
    }
   ],
   "source": [
    "dec_prediction()"
   ]
  },
  {
   "cell_type": "code",
   "execution_count": null,
   "metadata": {},
   "outputs": [],
   "source": []
  },
  {
   "cell_type": "code",
   "execution_count": null,
   "metadata": {},
   "outputs": [],
   "source": []
  },
  {
   "cell_type": "code",
   "execution_count": 137,
   "metadata": {},
   "outputs": [],
   "source": [
    "device = torch.device(\"cpu\")\n",
    "worker_id = \"alice\"\n",
    "batch_size = 64\n",
    "lr = 0.1\n",
    "epoch_num = 20\n",
    "\n",
    "KEEP_LABELS_DICT = {\n",
    " \"alice\": [0, 1, 2, 3],\n",
    " \"bob\": [4, 5, 6],\n",
    " \"charlie\": [7, 8, 9],\n",
    " \"testing\": list(range(10)),\n",
    " None: list(range(10)),\n",
    "}\n",
    "\n",
    "keep_labels = KEEP_LABELS_DICT[worker_id]\n",
    "net = models.resnet101()"
   ]
  },
  {
   "cell_type": "code",
   "execution_count": 138,
   "metadata": {},
   "outputs": [],
   "source": [
    "x = torch.ones([1, 3, 32, 32])"
   ]
  },
  {
   "cell_type": "code",
   "execution_count": 139,
   "metadata": {},
   "outputs": [],
   "source": [
    "params = list(net.parameters())"
   ]
  },
  {
   "cell_type": "code",
   "execution_count": 140,
   "metadata": {},
   "outputs": [
    {
     "data": {
      "text/plain": [
       "314"
      ]
     },
     "execution_count": 140,
     "metadata": {},
     "output_type": "execute_result"
    }
   ],
   "source": [
    "len(params)"
   ]
  },
  {
   "cell_type": "code",
   "execution_count": 141,
   "metadata": {},
   "outputs": [],
   "source": [
    "total_params = 0\n",
    "for p in params:\n",
    "    nr_params = reduce(lambda x, y: x*y, list(p.shape))\n",
    "    total_params += nr_params"
   ]
  },
  {
   "cell_type": "code",
   "execution_count": 142,
   "metadata": {},
   "outputs": [
    {
     "data": {
      "text/plain": [
       "44549160"
      ]
     },
     "execution_count": 142,
     "metadata": {},
     "output_type": "execute_result"
    }
   ],
   "source": [
    "total_params"
   ]
  },
  {
   "cell_type": "code",
   "execution_count": 89,
   "metadata": {},
   "outputs": [],
   "source": [
    "label_name = \"resnet_101\"\n",
    "\n",
    "model_flops_dict = {\n",
    "    \"original\": 2307720 * 2 * 3,\n",
    "    \"resnet_18\": 1.8 * 1000000000,\n",
    "    \"resnet_34\": 3.6 * 1000000000,\n",
    "    \"resnet_50\": 3.8 * 1000000000,\n",
    "    \"resnet_101\": 7.6 * 1000000000\n",
    "}\n",
    "\n",
    "# model_flops_dict = {\n",
    "#     \"original\": 2307720 * 2 * 3,\n",
    "#     \"resnet_18\": 37625856 * 2 * 3 * 2,\n",
    "#     \"resnet_34\": 75425792 * 2 * 3 * 2,\n",
    "#     \"resnet_50\": 85916672 * 2 * 3 * 2,\n",
    "#     \"resnet_101\": 161885184 * 2 * 3 * 2\n",
    "# }\n",
    "\n",
    "model_nr_params_list_dict = {\n",
    "    \"original\": 8,\n",
    "    \"resnet_18\": 62,\n",
    "    \"resnet_34\": 110,\n",
    "    \"resnet_50\": 161,\n",
    "    \"resnet_101\": 314\n",
    "}\n",
    "\n",
    "# lt_real_value_dict = {\n",
    "#     \"original\": 13.57,\n",
    "#     \"resnet_18\": 26.76,\n",
    "#     \"resnet_34\": 42.67,\n",
    "#     \"resnet_50\": 45.167\n",
    "# }\n",
    "\n",
    "# model_flops = model_flops_dict[label_name]\n",
    "\n",
    "data_kargs = {}\n",
    "data_kargs[\"data\"] = {}\n",
    "data_kargs[\"label\"] = {}\n",
    "data_kargs[\"data_size\"] = 20000\n",
    "data_kargs[\"batch_size\"] = 64\n",
    "data_kargs[\"data\"][\"shape\"] = [3, 32, 32]\n",
    "data_kargs[\"data\"][\"type_bits\"] = 32\n",
    "data_kargs[\"label\"][\"shape\"] = [1]\n",
    "data_kargs[\"label\"][\"type_bits\"] = 64\n",
    "\n",
    "fb_kargs = {}\n",
    "fb_kargs[\"mbps\"] = 9769.176\n",
    "fb_kargs[\"constant\"] = 0.0016\n",
    "\n",
    "## 101\n",
    "# cmp_kargs = {}\n",
    "# cmp_kargs[\"gflops\"] = 1591.4\n",
    "# cmp_kargs[\"constant\"] = 1.35\n",
    "\n",
    "# # 50\n",
    "# cmp_kargs = {}\n",
    "# cmp_kargs[\"gflops\"] = 914.28\n",
    "# cmp_kargs[\"constant\"] = 0.645\n",
    "\n",
    "# # 34\n",
    "# cmp_kargs = {}\n",
    "# cmp_kargs[\"gflops\"] = 873.28\n",
    "# cmp_kargs[\"constant\"] = 0.465\n",
    "\n",
    "# 18\n",
    "cmp_kargs = {}\n",
    "cmp_kargs[\"gflops\"] = 701.8865\n",
    "cmp_kargs[\"constant\"] = 0.244\n",
    "\n",
    "# lt_real_value = lt_real_value_dict[label_name]"
   ]
  },
  {
   "cell_type": "code",
   "execution_count": 90,
   "metadata": {},
   "outputs": [
    {
     "data": {
      "text/plain": [
       "7600000000.0"
      ]
     },
     "execution_count": 90,
     "metadata": {},
     "output_type": "execute_result"
    }
   ],
   "source": [
    "model_flops"
   ]
  },
  {
   "cell_type": "code",
   "execution_count": 91,
   "metadata": {},
   "outputs": [],
   "source": [
    "label_name = \"resnet_101\"\n",
    "model_flops = model_flops_dict[label_name]"
   ]
  },
  {
   "cell_type": "code",
   "execution_count": 160,
   "metadata": {},
   "outputs": [],
   "source": [
    "# for model_name in model_flops_dict.keys():\n",
    "#     model_flops = model_flops_dict[model_name]\n",
    "#     _, _, pred_time = local_training_predictor(model_flops, data_kargs, fb_kargs, cmp_kargs)\n",
    "#     print(model_name, pred_time)"
   ]
  },
  {
   "cell_type": "code",
   "execution_count": 161,
   "metadata": {},
   "outputs": [],
   "source": [
    "# _, _, pred_time = local_training_predictor(model_flops, data_kargs, fb_kargs, cmp_kargs)"
   ]
  },
  {
   "cell_type": "code",
   "execution_count": null,
   "metadata": {},
   "outputs": [],
   "source": []
  },
  {
   "cell_type": "code",
   "execution_count": null,
   "metadata": {},
   "outputs": [],
   "source": []
  },
  {
   "cell_type": "code",
   "execution_count": 159,
   "metadata": {},
   "outputs": [
    {
     "data": {
      "text/plain": [
       "<matplotlib.legend.Legend at 0x7f722dfc65f8>"
      ]
     },
     "execution_count": 159,
     "metadata": {},
     "output_type": "execute_result"
    },
    {
     "data": {
      "image/png": "[encoded data removed]",
      "text/plain": [
       "<Figure size 432x288 with 1 Axes>"
      ]
     },
     "metadata": {
      "needs_background": "light"
     },
     "output_type": "display_data"
    }
   ],
   "source": [
    "N = 4\n",
    "width = 0.35\n",
    "x = (\"Resnet18\", 'Resnet34', 'Resnet50', 'Resnet101')\n",
    "\n",
    "gis = (9.264, 17.275, 20.255, 38)\n",
    "lt = (124.91, 223, 280.1, 512)\n",
    "emp = (58.5273, 109.137, 127.96, 217.855)\n",
    "b_emp = list(np.add(gis, lt))\n",
    "agg = (1.5862, 2.8231, 4.08, 7.91)\n",
    "b_agg = list(np.add(b_emp, emp))\n",
    "dec = (4.8266, 9, 10.5526, 18.395)\n",
    "b_dec = list(np.add(b_agg, agg))\n",
    "\n",
    "plt.bar(x, gis, width)\n",
    "plt.bar(x, lt, width, bottom=gis)\n",
    "plt.bar(x, emp, width, bottom=b_emp)\n",
    "plt.bar(x, agg, width, bottom=b_agg)\n",
    "plt.bar(x, dec, width, bottom=b_dec)\n",
    "\n",
    "plt.ylabel('Time (sec)')\n",
    "plt.xlabel('model')\n",
    "plt.title('')\n",
    "plt.legend(labels=['GIS', 'LT', \"EMP\", \"AGG\", \"DEC\"], loc=2)\n",
    "# plt.show()"
   ]
  },
  {
   "cell_type": "code",
   "execution_count": null,
   "metadata": {},
   "outputs": [],
   "source": []
  }
 ],
 "metadata": {
  "kernelspec": {
   "display_name": "Python 3",
   "language": "python",
   "name": "python3"
  },
  "language_info": {
   "codemirror_mode": {
    "name": "ipython",
    "version": 3
   },
   "file_extension": ".py",
   "mimetype": "text/x-python",
   "name": "python",
   "nbconvert_exporter": "python",
   "pygments_lexer": "ipython3",
   "version": "3.6.10"
  }
 },
 "nbformat": 4,
 "nbformat_minor": 4
}

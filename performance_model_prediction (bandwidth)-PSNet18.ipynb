{
 "cells": [
  {
   "cell_type": "code",
   "execution_count": 1,
   "metadata": {},
   "outputs": [],
   "source": [
    "import math"
   ]
  },
  {
   "cell_type": "markdown",
   "metadata": {},
   "source": [
    "## Setup"
   ]
  },
  {
   "cell_type": "code",
   "execution_count": 2,
   "metadata": {},
   "outputs": [],
   "source": [
    "# original (1000Mbps)\n",
    "model_size = 11544930 * 4 * 8\n",
    "param_size = round(model_size / 32)\n",
    "add_p = 0.0014\n",
    "add_time_per_million = 0.012\n",
    "mul_time_per_million = 0\n",
    "\n",
    "nr_layer = 5\n",
    "nr_worker = 3\n",
    "recv_ratio = 91.55/100\n",
    "\n",
    "bandwidth_dict = {}\n",
    "bandwidth_dict[\"s2c\"] = 47.2 * 1000 * 1000\n",
    "bandwidth_dict[\"c2c\"] = 48.97 * 1000 * 1000\n",
    "bandwidth_dict[\"c2w\"] = 465 * 1000 * 1000\n",
    "\n",
    "time_cmd = 0.002\n",
    "\n",
    "gis_real_value = 8.66\n",
    "emp_real_value = 58\n",
    "agg_real_value = 0.23\n",
    "dec_real_value = 5.2"
   ]
  },
  {
   "cell_type": "code",
   "execution_count": 3,
   "metadata": {},
   "outputs": [],
   "source": [
    "# # 500Mbps\n",
    "# model_size = 11544930 * 4 * 8\n",
    "# param_size = round(model_size / 32)\n",
    "# add_p = 0.0014\n",
    "# add_time_per_million = 0.012\n",
    "# mul_time_per_million = 0\n",
    "\n",
    "# nr_layer = 5\n",
    "# nr_worker = 3\n",
    "# recv_ratio = 88/100\n",
    "# # recv_ratio = (100-12.3)/100\n",
    "\n",
    "# bandwidth_dict = {}\n",
    "# bandwidth_dict[\"s2c\"] = 43.85 * 1000 * 1000\n",
    "# bandwidth_dict[\"c2c\"] = 46.42 * 1000 * 1000\n",
    "# bandwidth_dict[\"c2w\"] = 313.92 * 1000 * 1000\n",
    "\n",
    "# time_cmd = 0.002\n",
    "\n",
    "# gis_real_value = 9.72\n",
    "# emp_real_value = 61.99\n",
    "# agg_real_value = 0.23\n",
    "# dec_real_value = 7.42"
   ]
  },
  {
   "cell_type": "code",
   "execution_count": 4,
   "metadata": {},
   "outputs": [],
   "source": [
    "# # 100Mbps\n",
    "# model_size = 11544930 * 4 * 8\n",
    "# param_size = round(model_size / 32)\n",
    "# add_p = 0.0014\n",
    "# add_time_per_million = 0.012\n",
    "# mul_time_per_million = 0\n",
    "\n",
    "# nr_layer = 5\n",
    "# nr_worker = 3\n",
    "# recv_ratio = 63.38/100\n",
    "# # recv_ratio = (100-37.3)/100\n",
    "\n",
    "# bandwidth_dict = {}\n",
    "# # bandwidth_dict[\"s2c\"] = 33.38 * 1000 * 1000\n",
    "# bandwidth_dict[\"s2c\"] = 33.28 * 1000 * 1000\n",
    "# bandwidth_dict[\"c2c\"] = 34.1 * 1000 * 1000\n",
    "# bandwidth_dict[\"c2w\"] = 86.41 * 1000 * 1000\n",
    "\n",
    "# time_cmd = 0.002\n",
    "\n",
    "# gis_real_value = 18.35\n",
    "# emp_real_value = 76.94\n",
    "# agg_real_value = 0.24\n",
    "# dec_real_value = 25.9"
   ]
  },
  {
   "cell_type": "code",
   "execution_count": 5,
   "metadata": {},
   "outputs": [],
   "source": [
    "# # 10Mbps\n",
    "# model_size = 11544930 * 4 * 8\n",
    "# param_size = round(model_size / 32)\n",
    "# add_p = 0.0014\n",
    "# add_time_per_million = 0.012\n",
    "# mul_time_per_million = 0\n",
    "\n",
    "# nr_layer = 5\n",
    "# nr_worker = 3\n",
    "# recv_ratio = (100-85)/100\n",
    "\n",
    "# bandwidth_dict = {}\n",
    "# bandwidth_dict[\"s2c\"] = 8.07 * 1000 * 1000\n",
    "# bandwidth_dict[\"c2c\"] = 8.1 * 1000 * 1000\n",
    "# bandwidth_dict[\"c2w\"] = 9.46 * 1000 * 1000\n",
    "\n",
    "# time_cmd = 0.002\n",
    "\n",
    "# gis_real_value = 122.5\n",
    "# emp_real_value = 222.5\n",
    "# agg_real_value = 0.24\n",
    "# dec_real_value = 234.6"
   ]
  },
  {
   "cell_type": "code",
   "execution_count": 6,
   "metadata": {},
   "outputs": [],
   "source": [
    "def ratio(pred_value, real_value):\n",
    "    return pred_value / real_value"
   ]
  },
  {
   "cell_type": "code",
   "execution_count": 7,
   "metadata": {},
   "outputs": [
    {
     "data": {
      "text/plain": [
       "0.9155"
      ]
     },
     "execution_count": 7,
     "metadata": {},
     "output_type": "execute_result"
    }
   ],
   "source": [
    "recv_ratio"
   ]
  },
  {
   "cell_type": "markdown",
   "metadata": {},
   "source": [
    "## GIS Prediction"
   ]
  },
  {
   "cell_type": "code",
   "execution_count": 8,
   "metadata": {},
   "outputs": [],
   "source": [
    "def gis_prediction():\n",
    "    return model_size / bandwidth_dict[\"s2c\"] + model_size / bandwidth_dict[\"s2c\"] * (1-recv_ratio) * (nr_worker-1)"
   ]
  },
  {
   "cell_type": "code",
   "execution_count": 9,
   "metadata": {},
   "outputs": [
    {
     "data": {
      "text/plain": [
       "9.149846216949154"
      ]
     },
     "execution_count": 9,
     "metadata": {},
     "output_type": "execute_result"
    }
   ],
   "source": [
    "gis_prediction()"
   ]
  },
  {
   "cell_type": "code",
   "execution_count": 10,
   "metadata": {},
   "outputs": [
    {
     "data": {
      "text/plain": [
       "8.66"
      ]
     },
     "execution_count": 10,
     "metadata": {},
     "output_type": "execute_result"
    }
   ],
   "source": [
    "gis_real_value"
   ]
  },
  {
   "cell_type": "code",
   "execution_count": 11,
   "metadata": {},
   "outputs": [
    {
     "data": {
      "text/plain": [
       "1.0565642282851218"
      ]
     },
     "execution_count": 11,
     "metadata": {},
     "output_type": "execute_result"
    }
   ],
   "source": [
    "ratio(gis_prediction(), gis_real_value)"
   ]
  },
  {
   "cell_type": "markdown",
   "metadata": {},
   "source": [
    "## Local Training Prediction"
   ]
  },
  {
   "cell_type": "markdown",
   "metadata": {},
   "source": [
    "## EMP"
   ]
  },
  {
   "cell_type": "code",
   "execution_count": 12,
   "metadata": {},
   "outputs": [],
   "source": [
    "def emp_prediction():\n",
    "    time_fixed_model = (2 * model_size) / bandwidth_dict[\"c2c\"]\n",
    "    return (nr_worker - 1) * (1 + recv_ratio) * time_fixed_model + mul_time_per_million * (param_size/1000000)"
   ]
  },
  {
   "cell_type": "code",
   "execution_count": 13,
   "metadata": {},
   "outputs": [
    {
     "data": {
      "text/plain": [
       "57.80339222217684"
      ]
     },
     "execution_count": 13,
     "metadata": {},
     "output_type": "execute_result"
    }
   ],
   "source": [
    "emp_prediction()"
   ]
  },
  {
   "cell_type": "code",
   "execution_count": 14,
   "metadata": {},
   "outputs": [
    {
     "data": {
      "text/plain": [
       "58"
      ]
     },
     "execution_count": 14,
     "metadata": {},
     "output_type": "execute_result"
    }
   ],
   "source": [
    "emp_real_value"
   ]
  },
  {
   "cell_type": "code",
   "execution_count": 15,
   "metadata": {},
   "outputs": [
    {
     "data": {
      "text/plain": [
       "0.9966102107271869"
      ]
     },
     "execution_count": 15,
     "metadata": {},
     "output_type": "execute_result"
    }
   ],
   "source": [
    "ratio(emp_prediction(), emp_real_value)"
   ]
  },
  {
   "cell_type": "code",
   "execution_count": null,
   "metadata": {},
   "outputs": [],
   "source": []
  },
  {
   "cell_type": "markdown",
   "metadata": {},
   "source": [
    "## Aggregation prediction"
   ]
  },
  {
   "cell_type": "code",
   "execution_count": 16,
   "metadata": {},
   "outputs": [
    {
     "data": {
      "text/plain": [
       "0.009912"
      ]
     },
     "execution_count": 16,
     "metadata": {},
     "output_type": "execute_result"
    }
   ],
   "source": [
    "add_p * (7080000 / 1000000)"
   ]
  },
  {
   "cell_type": "code",
   "execution_count": 17,
   "metadata": {},
   "outputs": [
    {
     "data": {
      "text/plain": [
       "0.002"
      ]
     },
     "execution_count": 17,
     "metadata": {},
     "output_type": "execute_result"
    }
   ],
   "source": [
    "time_cmd"
   ]
  },
  {
   "cell_type": "code",
   "execution_count": 18,
   "metadata": {},
   "outputs": [
    {
     "name": "stdout",
     "output_type": "stream",
     "text": [
      "0.0060007 0.0120014\n",
      "0.006000028 0.012000056\n",
      "0.006035 0.01207\n",
      "0.00600007 0.01200014\n",
      "0.015912000000000003 0.031824000000000005\n",
      "0.00601239 0.01202478\n",
      "0.012195000000000001 0.024390000000000002\n",
      "0.0060007 0.0120014\n",
      "0.006007 0.012014\n",
      "0.006000014 0.012000028\n"
     ]
    }
   ],
   "source": [
    "p_list = [500, 20, 25000, 50, 7080000, 8850, 4425000, 500, 5000, 10]\n",
    "agg_time = 0\n",
    "for p in p_list:\n",
    "    single_add_time = add_p * (p / 1000000) + time_cmd * nr_worker\n",
    "    layer_time = single_add_time * (nr_worker-1)\n",
    "    print(single_add_time, layer_time)\n",
    "    agg_time += layer_time"
   ]
  },
  {
   "cell_type": "code",
   "execution_count": 19,
   "metadata": {},
   "outputs": [
    {
     "data": {
      "text/plain": [
       "0.0014"
      ]
     },
     "execution_count": 19,
     "metadata": {},
     "output_type": "execute_result"
    }
   ],
   "source": [
    "add_p"
   ]
  },
  {
   "cell_type": "code",
   "execution_count": 20,
   "metadata": {},
   "outputs": [],
   "source": [
    "def agg_prediction():\n",
    "    return 2 * nr_layer * ((nr_worker - 1) * (nr_worker * time_cmd)) + (nr_worker - 1) * nr_worker *  (param_size/1000000) * add_p"
   ]
  },
  {
   "cell_type": "code",
   "execution_count": 21,
   "metadata": {},
   "outputs": [],
   "source": [
    "# def agg_prediction():\n",
    "#     return 2 * nr_layer * ((nr_worker - 1) * (nr_worker * time_cmd)) + (nr_worker - 1) *  (param_size/1000000) * add_p"
   ]
  },
  {
   "cell_type": "code",
   "execution_count": 22,
   "metadata": {},
   "outputs": [],
   "source": [
    "# def agg_prediction():\n",
    "#     return 2 * nr_layer * ((nr_worker - 1) * nr_worker * time_cmd) + (param_size/1000000) * add_time_per_million"
   ]
  },
  {
   "cell_type": "code",
   "execution_count": 23,
   "metadata": {},
   "outputs": [
    {
     "data": {
      "text/plain": [
       "0.21697741199999998"
      ]
     },
     "execution_count": 23,
     "metadata": {},
     "output_type": "execute_result"
    }
   ],
   "source": [
    "agg_prediction()"
   ]
  },
  {
   "cell_type": "code",
   "execution_count": 24,
   "metadata": {},
   "outputs": [
    {
     "data": {
      "text/plain": [
       "0.943380052173913"
      ]
     },
     "execution_count": 24,
     "metadata": {},
     "output_type": "execute_result"
    }
   ],
   "source": [
    "ratio(agg_prediction(), agg_real_value)"
   ]
  },
  {
   "cell_type": "code",
   "execution_count": null,
   "metadata": {},
   "outputs": [],
   "source": []
  },
  {
   "cell_type": "markdown",
   "metadata": {},
   "source": [
    "## Decryption prediction"
   ]
  },
  {
   "cell_type": "code",
   "execution_count": 25,
   "metadata": {},
   "outputs": [],
   "source": [
    "def dec_prediction():\n",
    "    return nr_worker * (model_size * 2 / bandwidth_dict[\"c2w\"])"
   ]
  },
  {
   "cell_type": "code",
   "execution_count": 26,
   "metadata": {},
   "outputs": [
    {
     "data": {
      "text/plain": [
       "4.766938838709677"
      ]
     },
     "execution_count": 26,
     "metadata": {},
     "output_type": "execute_result"
    }
   ],
   "source": [
    "dec_prediction()"
   ]
  },
  {
   "cell_type": "code",
   "execution_count": 29,
   "metadata": {},
   "outputs": [
    {
     "data": {
      "text/plain": [
       "5.2"
      ]
     },
     "execution_count": 29,
     "metadata": {},
     "output_type": "execute_result"
    }
   ],
   "source": [
    "dec_real_value"
   ]
  },
  {
   "cell_type": "code",
   "execution_count": 28,
   "metadata": {},
   "outputs": [
    {
     "data": {
      "text/plain": [
       "0.9167190074441687"
      ]
     },
     "execution_count": 28,
     "metadata": {},
     "output_type": "execute_result"
    }
   ],
   "source": [
    "ratio(dec_prediction(), dec_real_value)"
   ]
  },
  {
   "cell_type": "code",
   "execution_count": null,
   "metadata": {},
   "outputs": [],
   "source": []
  },
  {
   "cell_type": "code",
   "execution_count": null,
   "metadata": {},
   "outputs": [],
   "source": []
  }
 ],
 "metadata": {
  "kernelspec": {
   "display_name": "Python 3",
   "language": "python",
   "name": "python3"
  },
  "language_info": {
   "codemirror_mode": {
    "name": "ipython",
    "version": 3
   },
   "file_extension": ".py",
   "mimetype": "text/x-python",
   "name": "python",
   "nbconvert_exporter": "python",
   "pygments_lexer": "ipython3",
   "version": "3.6.10"
  }
 },
 "nbformat": 4,
 "nbformat_minor": 4
}

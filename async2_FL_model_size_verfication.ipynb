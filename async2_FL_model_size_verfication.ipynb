{
 "cells": [
  {
   "cell_type": "code",
   "execution_count": 1,
   "metadata": {},
   "outputs": [],
   "source": [
    "import pandas as pd\n",
    "from io import StringIO\n",
    "import os"
   ]
  },
  {
   "cell_type": "markdown",
   "metadata": {},
   "source": [
    "## Read trace"
   ]
  },
  {
   "cell_type": "code",
   "execution_count": 2,
   "metadata": {},
   "outputs": [],
   "source": [
    "def read_trace(trace_dir, trace_file, worker_id=None):\n",
    "    trace_filepath = os.path.join(trace_dir, trace_file)\n",
    "    \n",
    "    with open(trace_filepath,\"r\") as rf:\n",
    "        new_trace = StringIO()\n",
    "        line = rf.readline()\n",
    "        while line:\n",
    "            line_list = line.split()\n",
    "            if line_list[0] == \"[trace]\":\n",
    "                new_trace.write(line)\n",
    "            line = rf.readline()\n",
    "       \n",
    "    new_trace.seek(0)\n",
    "    df = pd.read_csv(new_trace, sep=\" \", names=[\"InfoType\", \"EventType\", \"EventState\", \"ID\", \"Time\"])\n",
    "    del df[\"InfoType\"]\n",
    "    \n",
    "    if worker_id is not None:\n",
    "        df.insert(0, \"WorkerID\", worker_id)\n",
    "        \n",
    "    new_trace.close()\n",
    "    \n",
    "    return df"
   ]
  },
  {
   "cell_type": "markdown",
   "metadata": {},
   "source": [
    "### COORD"
   ]
  },
  {
   "cell_type": "code",
   "execution_count": 3,
   "metadata": {},
   "outputs": [],
   "source": [
    "trace_dir = \"/home/posheng/billy_ws/fl_025/paslab/trace/async2_fl_mp_3rm/resnet_18\"\n",
    "coord_trace_file = \"coord.txt\"\n",
    "hpc0_trace_file = \"hpc0.txt\"\n",
    "hpc1_trace_file = \"hpc1.txt\"\n",
    "hpc2_trace_file = \"hpc2.txt\"\n",
    "# hpc3_trace_file = \"hpc3_trace.txt\""
   ]
  },
  {
   "cell_type": "code",
   "execution_count": 4,
   "metadata": {},
   "outputs": [],
   "source": [
    "# coord_df = read_trace(trace_dir, coord_trace_file)\n",
    "# hpc1_df = read_trace(trace_dir, hpc1_trace_file, \"alice\")\n",
    "# hpc2_df = read_trace(trace_dir, hpc2_trace_file, \"bob\")\n",
    "# hpc3_df = read_trace(trace_dir, hpc3_trace_file, \"charlie\")\n",
    "\n",
    "coord_df = read_trace(trace_dir, coord_trace_file)\n",
    "w0_df = read_trace(trace_dir, hpc0_trace_file, \"alice\")\n",
    "w1_df = read_trace(trace_dir, hpc1_trace_file, \"bob\")\n",
    "w2_df = read_trace(trace_dir, hpc2_trace_file, \"charlie\")"
   ]
  },
  {
   "cell_type": "code",
   "execution_count": 5,
   "metadata": {},
   "outputs": [],
   "source": [
    "hpc1_df = w0_df\n",
    "hpc2_df = w1_df\n",
    "hpc3_df = w2_df"
   ]
  },
  {
   "cell_type": "code",
   "execution_count": 6,
   "metadata": {},
   "outputs": [],
   "source": [
    "worker_dfs = {\n",
    "    \"alice\": hpc1_df,\n",
    "    \"bob\": hpc2_df,\n",
    "    \"charlie\": hpc3_df\n",
    "}"
   ]
  },
  {
   "cell_type": "markdown",
   "metadata": {},
   "source": [
    "## Duration"
   ]
  },
  {
   "cell_type": "code",
   "execution_count": 7,
   "metadata": {},
   "outputs": [],
   "source": [
    "def get_worker_duration(worker_id, worker_dfs, event_type):\n",
    "    worker_df = worker_dfs[worker_id]\n",
    "    worker_event_df = worker_df[worker_df[\"EventType\"].str.contains(event_type, regex=False)]\n",
    "    worker_event_df = worker_event_df.reset_index()\n",
    "    \n",
    "    del worker_event_df['index']\n",
    "    del worker_event_df['ID']\n",
    "    \n",
    "    return worker_event_df"
   ]
  },
  {
   "cell_type": "code",
   "execution_count": 8,
   "metadata": {},
   "outputs": [],
   "source": [
    "def get_coord_duration(coord_df, event_type):\n",
    "    coord_event_df = coord_df[coord_df[\"EventType\"].str.contains(event_type, regex=False)]\n",
    "    coord_event_df = coord_event_df.reset_index()\n",
    "    \n",
    "    del coord_event_df['index']\n",
    "    del coord_event_df['ID']\n",
    "    \n",
    "    return coord_event_df"
   ]
  },
  {
   "cell_type": "code",
   "execution_count": 9,
   "metadata": {},
   "outputs": [],
   "source": [
    "def calculate_duration(event_type, df):\n",
    "    event_df = df[df[\"EventType\"] == event_type][[\"EventType\", \"EventState\", \"ID\", \"Time\"]]\n",
    "    event_start_df = event_df[event_df[\"EventState\"] == \"start\"][[\"ID\", \"Time\"]]\n",
    "    event_start_df = event_start_df.reset_index()\n",
    "\n",
    "    event_end_df = event_df[event_df[\"EventState\"] == \"end\"][[\"Time\"]]\n",
    "    event_end_df = event_end_df.reset_index()\n",
    "    \n",
    "    event_df_cat = pd.concat([event_start_df, event_end_df], axis=1)\n",
    "    del event_df_cat['index']\n",
    "    event_df_cat.columns = [\"ID\", \"StartTime\", \"EndTime\"]\n",
    "    \n",
    "    event_df_cat[\"Duration\"] = event_df_cat.apply(lambda x: x[\"EndTime\"] - x[\"StartTime\"], axis=1)\n",
    "    event_df_cat.insert(0, \"EventType\", event_type)\n",
    "    return event_df_cat\n"
   ]
  },
  {
   "cell_type": "code",
   "execution_count": 10,
   "metadata": {},
   "outputs": [],
   "source": [
    "GlobalModelSendDuration = calculate_duration(\"GlobalModelSend\", coord_df)"
   ]
  },
  {
   "cell_type": "code",
   "execution_count": 11,
   "metadata": {},
   "outputs": [],
   "source": [
    "LossFuncSendDuration = calculate_duration(\"LossFuncSend\", coord_df)"
   ]
  },
  {
   "cell_type": "code",
   "execution_count": 12,
   "metadata": {},
   "outputs": [],
   "source": [
    "ModelConfigSendDuration = calculate_duration(\"ModelConfigSend\", coord_df)"
   ]
  },
  {
   "cell_type": "markdown",
   "metadata": {},
   "source": [
    "### GlobalModelSendDuration"
   ]
  },
  {
   "cell_type": "code",
   "execution_count": 13,
   "metadata": {
    "scrolled": true
   },
   "outputs": [
    {
     "data": {
      "text/plain": [
       "8.621657371520996"
      ]
     },
     "execution_count": 13,
     "metadata": {},
     "output_type": "execute_result"
    }
   ],
   "source": [
    "GlobalModelSendDuration[GlobalModelSendDuration[\"ID\"] == \"alice\"][1:]['Duration'].mean()"
   ]
  },
  {
   "cell_type": "code",
   "execution_count": 14,
   "metadata": {},
   "outputs": [
    {
     "data": {
      "text/plain": [
       "8.60559024810791"
      ]
     },
     "execution_count": 14,
     "metadata": {},
     "output_type": "execute_result"
    }
   ],
   "source": [
    "GlobalModelSendDuration[GlobalModelSendDuration[\"ID\"] == \"bob\"][1:]['Duration'].mean()"
   ]
  },
  {
   "cell_type": "code",
   "execution_count": 15,
   "metadata": {},
   "outputs": [
    {
     "data": {
      "text/plain": [
       "8.568798160552978"
      ]
     },
     "execution_count": 15,
     "metadata": {},
     "output_type": "execute_result"
    }
   ],
   "source": [
    "GlobalModelSendDuration[GlobalModelSendDuration[\"ID\"] == \"charlie\"][1:]['Duration'].mean()"
   ]
  },
  {
   "cell_type": "markdown",
   "metadata": {},
   "source": [
    "### LossFuncSendDuration"
   ]
  },
  {
   "cell_type": "code",
   "execution_count": 16,
   "metadata": {},
   "outputs": [
    {
     "data": {
      "text/plain": [
       "0.0016753792762756348"
      ]
     },
     "execution_count": 16,
     "metadata": {},
     "output_type": "execute_result"
    }
   ],
   "source": [
    "LossFuncSendDuration[LossFuncSendDuration[\"ID\"] == \"alice\"][1:]['Duration'].mean()"
   ]
  },
  {
   "cell_type": "code",
   "execution_count": 17,
   "metadata": {},
   "outputs": [
    {
     "data": {
      "text/plain": [
       "0.0015579938888549804"
      ]
     },
     "execution_count": 17,
     "metadata": {},
     "output_type": "execute_result"
    }
   ],
   "source": [
    "LossFuncSendDuration[LossFuncSendDuration[\"ID\"] == \"bob\"][1:]['Duration'].mean()"
   ]
  },
  {
   "cell_type": "code",
   "execution_count": 18,
   "metadata": {},
   "outputs": [
    {
     "data": {
      "text/plain": [
       "0.0016451478004455566"
      ]
     },
     "execution_count": 18,
     "metadata": {},
     "output_type": "execute_result"
    }
   ],
   "source": [
    "LossFuncSendDuration[LossFuncSendDuration[\"ID\"] == \"charlie\"][1:]['Duration'].mean()"
   ]
  },
  {
   "cell_type": "markdown",
   "metadata": {},
   "source": [
    "### ModelConfigSendDuration"
   ]
  },
  {
   "cell_type": "code",
   "execution_count": 19,
   "metadata": {},
   "outputs": [
    {
     "data": {
      "text/plain": [
       "0.0009323477745056153"
      ]
     },
     "execution_count": 19,
     "metadata": {},
     "output_type": "execute_result"
    }
   ],
   "source": [
    "ModelConfigSendDuration[ModelConfigSendDuration[\"ID\"] == \"alice\"][1:]['Duration'].mean()"
   ]
  },
  {
   "cell_type": "code",
   "execution_count": 20,
   "metadata": {},
   "outputs": [
    {
     "data": {
      "text/plain": [
       "0.0009285807609558105"
      ]
     },
     "execution_count": 20,
     "metadata": {},
     "output_type": "execute_result"
    }
   ],
   "source": [
    "ModelConfigSendDuration[ModelConfigSendDuration[\"ID\"] == \"bob\"][1:]['Duration'].mean()"
   ]
  },
  {
   "cell_type": "code",
   "execution_count": 21,
   "metadata": {},
   "outputs": [
    {
     "data": {
      "text/plain": [
       "0.0010310530662536622"
      ]
     },
     "execution_count": 21,
     "metadata": {},
     "output_type": "execute_result"
    }
   ],
   "source": [
    "ModelConfigSendDuration[ModelConfigSendDuration[\"ID\"] == \"charlie\"][1:]['Duration'].mean()"
   ]
  },
  {
   "cell_type": "markdown",
   "metadata": {},
   "source": [
    "## GlobalInformationSend Duration"
   ]
  },
  {
   "cell_type": "code",
   "execution_count": 22,
   "metadata": {},
   "outputs": [],
   "source": [
    "def get_coord_global_send_duration(coord_df, worker_id):\n",
    "    coord_event_df = coord_df[coord_df[\"EventType\"].str.contains(\"GlobalInformationSend\", regex=False)]\n",
    "    coord_event_df = coord_event_df[coord_event_df[\"ID\"] == worker_id]\n",
    "    coord_event_df = coord_event_df.reset_index()\n",
    "    \n",
    "    del coord_event_df['index']\n",
    "    \n",
    "    return coord_event_df"
   ]
  },
  {
   "cell_type": "code",
   "execution_count": 23,
   "metadata": {},
   "outputs": [],
   "source": [
    "hpc1_gs_df = get_coord_global_send_duration(coord_df, \"alice\")"
   ]
  },
  {
   "cell_type": "code",
   "execution_count": 24,
   "metadata": {},
   "outputs": [],
   "source": [
    "hpc2_gs_df = get_coord_global_send_duration(coord_df, \"bob\")"
   ]
  },
  {
   "cell_type": "code",
   "execution_count": 25,
   "metadata": {},
   "outputs": [],
   "source": [
    "hpc3_gs_df = get_coord_global_send_duration(coord_df, \"charlie\")"
   ]
  },
  {
   "cell_type": "code",
   "execution_count": 26,
   "metadata": {},
   "outputs": [
    {
     "data": {
      "text/plain": [
       "8.664455854892731"
      ]
     },
     "execution_count": 26,
     "metadata": {},
     "output_type": "execute_result"
    }
   ],
   "source": [
    "hpc1_gs_df['Time'][1:].mean()"
   ]
  },
  {
   "cell_type": "code",
   "execution_count": 27,
   "metadata": {},
   "outputs": [
    {
     "data": {
      "text/plain": [
       "8.663996374607086"
      ]
     },
     "execution_count": 27,
     "metadata": {},
     "output_type": "execute_result"
    }
   ],
   "source": [
    "hpc2_gs_df['Time'][1:].mean()"
   ]
  },
  {
   "cell_type": "code",
   "execution_count": 28,
   "metadata": {},
   "outputs": [
    {
     "data": {
      "text/plain": [
       "8.475526988506317"
      ]
     },
     "execution_count": 28,
     "metadata": {},
     "output_type": "execute_result"
    }
   ],
   "source": [
    "hpc3_gs_df['Time'][1:].mean()"
   ]
  },
  {
   "cell_type": "markdown",
   "metadata": {},
   "source": [
    "## Send Time"
   ]
  },
  {
   "cell_type": "code",
   "execution_count": 29,
   "metadata": {},
   "outputs": [],
   "source": [
    "## EventType:\n",
    "##     * GlobalModelSend\n",
    "##     * LossFuncSend\n",
    "##     * ModelConfigSend\n",
    "def calculate_send_time(coord_df, worker_dfs, event_type):\n",
    "    event_start_df = coord_df[(coord_df[\"EventType\"] == event_type) & (coord_df[\"EventState\"] == \"start\")]\n",
    "    worker_event_send_time_dfs = {}\n",
    "    \n",
    "    for worker_id in worker_dfs.keys():\n",
    "        worker_event_start_df = event_start_df[event_start_df[\"ID\"] == worker_id]\n",
    "        worker_event_start_df = worker_event_start_df.reset_index()\n",
    "        del worker_event_start_df['index']\n",
    "        worker_event_start_df.columns = [\"EventType\", \"EventState\", \"ID\", \"StartTime\"]\n",
    "        \n",
    "        worker_df = worker_dfs[worker_id]\n",
    "        worker_event_recv_df = worker_df[worker_df[\"EventType\"] == event_type]\n",
    "        worker_event_recv_df = worker_event_recv_df.reset_index()\n",
    "        del worker_event_recv_df['index']\n",
    "        worker_event_recv_df.columns = [\"WorkerID\", \"EventType\", \"EventState\", \"ID\", \"RecvTime\"]\n",
    "        \n",
    "        worker_recv_time_series = worker_event_recv_df[\"RecvTime\"]\n",
    "        worker_event_send_time_df = pd.concat([worker_event_start_df, worker_recv_time_series], axis=1)\n",
    "        worker_event_send_time_df[\"SendTime\"] = worker_event_send_time_df.apply(lambda x: x[\"RecvTime\"] - x[\"StartTime\"], axis=1)\n",
    "        del worker_event_send_time_df[\"EventState\"]\n",
    "        \n",
    "        worker_event_send_time_dfs[worker_id] = worker_event_send_time_df\n",
    "        \n",
    "    return worker_event_send_time_dfs"
   ]
  },
  {
   "cell_type": "code",
   "execution_count": 30,
   "metadata": {},
   "outputs": [],
   "source": [
    "worker_gms_send_time_dfs = calculate_send_time(coord_df, worker_dfs, \"GlobalModelSend\")"
   ]
  },
  {
   "cell_type": "code",
   "execution_count": 31,
   "metadata": {},
   "outputs": [
    {
     "data": {
      "text/plain": [
       "8.680015881856283"
      ]
     },
     "execution_count": 31,
     "metadata": {},
     "output_type": "execute_result"
    }
   ],
   "source": [
    "worker_gms_send_time_dfs['alice']['SendTime'].mean()"
   ]
  },
  {
   "cell_type": "code",
   "execution_count": 32,
   "metadata": {},
   "outputs": [
    {
     "data": {
      "text/html": [
       "<div>\n",
       "<style scoped>\n",
       "    .dataframe tbody tr th:only-of-type {\n",
       "        vertical-align: middle;\n",
       "    }\n",
       "\n",
       "    .dataframe tbody tr th {\n",
       "        vertical-align: top;\n",
       "    }\n",
       "\n",
       "    .dataframe thead th {\n",
       "        text-align: right;\n",
       "    }\n",
       "</style>\n",
       "<table border=\"1\" class=\"dataframe\">\n",
       "  <thead>\n",
       "    <tr style=\"text-align: right;\">\n",
       "      <th></th>\n",
       "      <th>EventType</th>\n",
       "      <th>ID</th>\n",
       "      <th>StartTime</th>\n",
       "      <th>RecvTime</th>\n",
       "      <th>SendTime</th>\n",
       "    </tr>\n",
       "  </thead>\n",
       "  <tbody>\n",
       "    <tr>\n",
       "      <th>0</th>\n",
       "      <td>GlobalModelSend</td>\n",
       "      <td>alice</td>\n",
       "      <td>1.600982e+09</td>\n",
       "      <td>1.600982e+09</td>\n",
       "      <td>9.057966</td>\n",
       "    </tr>\n",
       "    <tr>\n",
       "      <th>1</th>\n",
       "      <td>GlobalModelSend</td>\n",
       "      <td>alice</td>\n",
       "      <td>1.600982e+09</td>\n",
       "      <td>1.600982e+09</td>\n",
       "      <td>8.450757</td>\n",
       "    </tr>\n",
       "    <tr>\n",
       "      <th>2</th>\n",
       "      <td>GlobalModelSend</td>\n",
       "      <td>alice</td>\n",
       "      <td>1.600983e+09</td>\n",
       "      <td>1.600983e+09</td>\n",
       "      <td>8.998788</td>\n",
       "    </tr>\n",
       "    <tr>\n",
       "      <th>3</th>\n",
       "      <td>GlobalModelSend</td>\n",
       "      <td>alice</td>\n",
       "      <td>1.600983e+09</td>\n",
       "      <td>1.600983e+09</td>\n",
       "      <td>8.528796</td>\n",
       "    </tr>\n",
       "    <tr>\n",
       "      <th>4</th>\n",
       "      <td>GlobalModelSend</td>\n",
       "      <td>alice</td>\n",
       "      <td>1.600983e+09</td>\n",
       "      <td>1.600983e+09</td>\n",
       "      <td>8.194410</td>\n",
       "    </tr>\n",
       "    <tr>\n",
       "      <th>5</th>\n",
       "      <td>GlobalModelSend</td>\n",
       "      <td>alice</td>\n",
       "      <td>1.600983e+09</td>\n",
       "      <td>1.600983e+09</td>\n",
       "      <td>9.077507</td>\n",
       "    </tr>\n",
       "    <tr>\n",
       "      <th>6</th>\n",
       "      <td>GlobalModelSend</td>\n",
       "      <td>alice</td>\n",
       "      <td>1.600983e+09</td>\n",
       "      <td>1.600983e+09</td>\n",
       "      <td>8.533570</td>\n",
       "    </tr>\n",
       "    <tr>\n",
       "      <th>7</th>\n",
       "      <td>GlobalModelSend</td>\n",
       "      <td>alice</td>\n",
       "      <td>1.600983e+09</td>\n",
       "      <td>1.600983e+09</td>\n",
       "      <td>8.500657</td>\n",
       "    </tr>\n",
       "    <tr>\n",
       "      <th>8</th>\n",
       "      <td>GlobalModelSend</td>\n",
       "      <td>alice</td>\n",
       "      <td>1.600983e+09</td>\n",
       "      <td>1.600983e+09</td>\n",
       "      <td>9.045883</td>\n",
       "    </tr>\n",
       "    <tr>\n",
       "      <th>9</th>\n",
       "      <td>GlobalModelSend</td>\n",
       "      <td>alice</td>\n",
       "      <td>1.600983e+09</td>\n",
       "      <td>1.600983e+09</td>\n",
       "      <td>8.692936</td>\n",
       "    </tr>\n",
       "    <tr>\n",
       "      <th>10</th>\n",
       "      <td>GlobalModelSend</td>\n",
       "      <td>alice</td>\n",
       "      <td>1.600983e+09</td>\n",
       "      <td>1.600983e+09</td>\n",
       "      <td>8.487540</td>\n",
       "    </tr>\n",
       "    <tr>\n",
       "      <th>11</th>\n",
       "      <td>GlobalModelSend</td>\n",
       "      <td>alice</td>\n",
       "      <td>1.600983e+09</td>\n",
       "      <td>1.600983e+09</td>\n",
       "      <td>8.926515</td>\n",
       "    </tr>\n",
       "    <tr>\n",
       "      <th>12</th>\n",
       "      <td>GlobalModelSend</td>\n",
       "      <td>alice</td>\n",
       "      <td>1.600984e+09</td>\n",
       "      <td>1.600984e+09</td>\n",
       "      <td>8.315271</td>\n",
       "    </tr>\n",
       "    <tr>\n",
       "      <th>13</th>\n",
       "      <td>GlobalModelSend</td>\n",
       "      <td>alice</td>\n",
       "      <td>1.600984e+09</td>\n",
       "      <td>1.600984e+09</td>\n",
       "      <td>8.570148</td>\n",
       "    </tr>\n",
       "    <tr>\n",
       "      <th>14</th>\n",
       "      <td>GlobalModelSend</td>\n",
       "      <td>alice</td>\n",
       "      <td>1.600984e+09</td>\n",
       "      <td>1.600984e+09</td>\n",
       "      <td>8.749817</td>\n",
       "    </tr>\n",
       "    <tr>\n",
       "      <th>15</th>\n",
       "      <td>GlobalModelSend</td>\n",
       "      <td>alice</td>\n",
       "      <td>1.600984e+09</td>\n",
       "      <td>1.600984e+09</td>\n",
       "      <td>8.337653</td>\n",
       "    </tr>\n",
       "    <tr>\n",
       "      <th>16</th>\n",
       "      <td>GlobalModelSend</td>\n",
       "      <td>alice</td>\n",
       "      <td>1.600984e+09</td>\n",
       "      <td>1.600984e+09</td>\n",
       "      <td>9.082257</td>\n",
       "    </tr>\n",
       "    <tr>\n",
       "      <th>17</th>\n",
       "      <td>GlobalModelSend</td>\n",
       "      <td>alice</td>\n",
       "      <td>1.600984e+09</td>\n",
       "      <td>1.600984e+09</td>\n",
       "      <td>9.102892</td>\n",
       "    </tr>\n",
       "    <tr>\n",
       "      <th>18</th>\n",
       "      <td>GlobalModelSend</td>\n",
       "      <td>alice</td>\n",
       "      <td>1.600984e+09</td>\n",
       "      <td>1.600984e+09</td>\n",
       "      <td>8.344173</td>\n",
       "    </tr>\n",
       "    <tr>\n",
       "      <th>19</th>\n",
       "      <td>GlobalModelSend</td>\n",
       "      <td>alice</td>\n",
       "      <td>1.600984e+09</td>\n",
       "      <td>1.600984e+09</td>\n",
       "      <td>8.844943</td>\n",
       "    </tr>\n",
       "    <tr>\n",
       "      <th>20</th>\n",
       "      <td>GlobalModelSend</td>\n",
       "      <td>alice</td>\n",
       "      <td>1.600984e+09</td>\n",
       "      <td>1.600984e+09</td>\n",
       "      <td>8.437855</td>\n",
       "    </tr>\n",
       "  </tbody>\n",
       "</table>\n",
       "</div>"
      ],
      "text/plain": [
       "          EventType     ID     StartTime      RecvTime  SendTime\n",
       "0   GlobalModelSend  alice  1.600982e+09  1.600982e+09  9.057966\n",
       "1   GlobalModelSend  alice  1.600982e+09  1.600982e+09  8.450757\n",
       "2   GlobalModelSend  alice  1.600983e+09  1.600983e+09  8.998788\n",
       "3   GlobalModelSend  alice  1.600983e+09  1.600983e+09  8.528796\n",
       "4   GlobalModelSend  alice  1.600983e+09  1.600983e+09  8.194410\n",
       "5   GlobalModelSend  alice  1.600983e+09  1.600983e+09  9.077507\n",
       "6   GlobalModelSend  alice  1.600983e+09  1.600983e+09  8.533570\n",
       "7   GlobalModelSend  alice  1.600983e+09  1.600983e+09  8.500657\n",
       "8   GlobalModelSend  alice  1.600983e+09  1.600983e+09  9.045883\n",
       "9   GlobalModelSend  alice  1.600983e+09  1.600983e+09  8.692936\n",
       "10  GlobalModelSend  alice  1.600983e+09  1.600983e+09  8.487540\n",
       "11  GlobalModelSend  alice  1.600983e+09  1.600983e+09  8.926515\n",
       "12  GlobalModelSend  alice  1.600984e+09  1.600984e+09  8.315271\n",
       "13  GlobalModelSend  alice  1.600984e+09  1.600984e+09  8.570148\n",
       "14  GlobalModelSend  alice  1.600984e+09  1.600984e+09  8.749817\n",
       "15  GlobalModelSend  alice  1.600984e+09  1.600984e+09  8.337653\n",
       "16  GlobalModelSend  alice  1.600984e+09  1.600984e+09  9.082257\n",
       "17  GlobalModelSend  alice  1.600984e+09  1.600984e+09  9.102892\n",
       "18  GlobalModelSend  alice  1.600984e+09  1.600984e+09  8.344173\n",
       "19  GlobalModelSend  alice  1.600984e+09  1.600984e+09  8.844943\n",
       "20  GlobalModelSend  alice  1.600984e+09  1.600984e+09  8.437855"
      ]
     },
     "execution_count": 32,
     "metadata": {},
     "output_type": "execute_result"
    }
   ],
   "source": [
    "worker_gms_send_time_dfs['alice']"
   ]
  },
  {
   "cell_type": "code",
   "execution_count": 33,
   "metadata": {},
   "outputs": [
    {
     "data": {
      "text/plain": [
       "8.478823775336856"
      ]
     },
     "execution_count": 33,
     "metadata": {},
     "output_type": "execute_result"
    }
   ],
   "source": [
    "worker_gms_send_time_dfs['charlie']['SendTime'].mean()"
   ]
  },
  {
   "cell_type": "code",
   "execution_count": 34,
   "metadata": {},
   "outputs": [],
   "source": [
    "# coord_df = read_trace(trace_dir, coord_trace_file)\n",
    "# hpc1_df = read_trace(trace_dir, hpc1_trace_file, \"alice\")\n",
    "# hpc2_df = read_trace(trace_dir, hpc2_trace_file, \"bob\")\n",
    "# hpc3_df = read_trace(trace_dir, hpc3_trace_file, \"charlie\")"
   ]
  },
  {
   "cell_type": "markdown",
   "metadata": {},
   "source": [
    "## LocalTraining Duration"
   ]
  },
  {
   "cell_type": "code",
   "execution_count": 35,
   "metadata": {},
   "outputs": [],
   "source": [
    "hpc1_lt_df = get_worker_duration(\"alice\", worker_dfs, \"LocalTraining\")"
   ]
  },
  {
   "cell_type": "code",
   "execution_count": 36,
   "metadata": {},
   "outputs": [],
   "source": [
    "hpc2_lt_df = get_worker_duration(\"bob\", worker_dfs, \"LocalTraining\")"
   ]
  },
  {
   "cell_type": "code",
   "execution_count": 37,
   "metadata": {},
   "outputs": [],
   "source": [
    "hpc3_lt_df = get_worker_duration(\"charlie\", worker_dfs, \"LocalTraining\")"
   ]
  },
  {
   "cell_type": "code",
   "execution_count": 38,
   "metadata": {},
   "outputs": [
    {
     "data": {
      "text/plain": [
       "26.757357597351074"
      ]
     },
     "execution_count": 38,
     "metadata": {},
     "output_type": "execute_result"
    }
   ],
   "source": [
    "hpc1_lt_df['Time'][1:].mean()"
   ]
  },
  {
   "cell_type": "code",
   "execution_count": 39,
   "metadata": {},
   "outputs": [
    {
     "data": {
      "text/plain": [
       "18.48927059173584"
      ]
     },
     "execution_count": 39,
     "metadata": {},
     "output_type": "execute_result"
    }
   ],
   "source": [
    "hpc2_lt_df['Time'][1:].mean()"
   ]
  },
  {
   "cell_type": "code",
   "execution_count": 40,
   "metadata": {},
   "outputs": [
    {
     "data": {
      "text/plain": [
       "19.464396154880525"
      ]
     },
     "execution_count": 40,
     "metadata": {},
     "output_type": "execute_result"
    }
   ],
   "source": [
    "hpc3_lt_df['Time'][1:].mean()"
   ]
  },
  {
   "cell_type": "code",
   "execution_count": 41,
   "metadata": {},
   "outputs": [
    {
     "data": {
      "text/html": [
       "<div>\n",
       "<style scoped>\n",
       "    .dataframe tbody tr th:only-of-type {\n",
       "        vertical-align: middle;\n",
       "    }\n",
       "\n",
       "    .dataframe tbody tr th {\n",
       "        vertical-align: top;\n",
       "    }\n",
       "\n",
       "    .dataframe thead th {\n",
       "        text-align: right;\n",
       "    }\n",
       "</style>\n",
       "<table border=\"1\" class=\"dataframe\">\n",
       "  <thead>\n",
       "    <tr style=\"text-align: right;\">\n",
       "      <th></th>\n",
       "      <th>WorkerID</th>\n",
       "      <th>EventType</th>\n",
       "      <th>EventState</th>\n",
       "      <th>Time</th>\n",
       "    </tr>\n",
       "  </thead>\n",
       "  <tbody>\n",
       "    <tr>\n",
       "      <th>0</th>\n",
       "      <td>alice</td>\n",
       "      <td>LocalTraining</td>\n",
       "      <td>duration</td>\n",
       "      <td>26.624156</td>\n",
       "    </tr>\n",
       "    <tr>\n",
       "      <th>1</th>\n",
       "      <td>alice</td>\n",
       "      <td>LocalTraining</td>\n",
       "      <td>duration</td>\n",
       "      <td>26.722337</td>\n",
       "    </tr>\n",
       "    <tr>\n",
       "      <th>2</th>\n",
       "      <td>alice</td>\n",
       "      <td>LocalTraining</td>\n",
       "      <td>duration</td>\n",
       "      <td>26.563231</td>\n",
       "    </tr>\n",
       "    <tr>\n",
       "      <th>3</th>\n",
       "      <td>alice</td>\n",
       "      <td>LocalTraining</td>\n",
       "      <td>duration</td>\n",
       "      <td>26.818083</td>\n",
       "    </tr>\n",
       "    <tr>\n",
       "      <th>4</th>\n",
       "      <td>alice</td>\n",
       "      <td>LocalTraining</td>\n",
       "      <td>duration</td>\n",
       "      <td>26.732565</td>\n",
       "    </tr>\n",
       "    <tr>\n",
       "      <th>5</th>\n",
       "      <td>alice</td>\n",
       "      <td>LocalTraining</td>\n",
       "      <td>duration</td>\n",
       "      <td>26.826841</td>\n",
       "    </tr>\n",
       "    <tr>\n",
       "      <th>6</th>\n",
       "      <td>alice</td>\n",
       "      <td>LocalTraining</td>\n",
       "      <td>duration</td>\n",
       "      <td>26.953744</td>\n",
       "    </tr>\n",
       "    <tr>\n",
       "      <th>7</th>\n",
       "      <td>alice</td>\n",
       "      <td>LocalTraining</td>\n",
       "      <td>duration</td>\n",
       "      <td>26.687086</td>\n",
       "    </tr>\n",
       "    <tr>\n",
       "      <th>8</th>\n",
       "      <td>alice</td>\n",
       "      <td>LocalTraining</td>\n",
       "      <td>duration</td>\n",
       "      <td>26.583683</td>\n",
       "    </tr>\n",
       "    <tr>\n",
       "      <th>9</th>\n",
       "      <td>alice</td>\n",
       "      <td>LocalTraining</td>\n",
       "      <td>duration</td>\n",
       "      <td>26.751819</td>\n",
       "    </tr>\n",
       "    <tr>\n",
       "      <th>10</th>\n",
       "      <td>alice</td>\n",
       "      <td>LocalTraining</td>\n",
       "      <td>duration</td>\n",
       "      <td>26.532453</td>\n",
       "    </tr>\n",
       "    <tr>\n",
       "      <th>11</th>\n",
       "      <td>alice</td>\n",
       "      <td>LocalTraining</td>\n",
       "      <td>duration</td>\n",
       "      <td>26.840524</td>\n",
       "    </tr>\n",
       "    <tr>\n",
       "      <th>12</th>\n",
       "      <td>alice</td>\n",
       "      <td>LocalTraining</td>\n",
       "      <td>duration</td>\n",
       "      <td>26.653209</td>\n",
       "    </tr>\n",
       "    <tr>\n",
       "      <th>13</th>\n",
       "      <td>alice</td>\n",
       "      <td>LocalTraining</td>\n",
       "      <td>duration</td>\n",
       "      <td>26.783450</td>\n",
       "    </tr>\n",
       "    <tr>\n",
       "      <th>14</th>\n",
       "      <td>alice</td>\n",
       "      <td>LocalTraining</td>\n",
       "      <td>duration</td>\n",
       "      <td>26.741618</td>\n",
       "    </tr>\n",
       "    <tr>\n",
       "      <th>15</th>\n",
       "      <td>alice</td>\n",
       "      <td>LocalTraining</td>\n",
       "      <td>duration</td>\n",
       "      <td>26.975325</td>\n",
       "    </tr>\n",
       "    <tr>\n",
       "      <th>16</th>\n",
       "      <td>alice</td>\n",
       "      <td>LocalTraining</td>\n",
       "      <td>duration</td>\n",
       "      <td>26.867665</td>\n",
       "    </tr>\n",
       "    <tr>\n",
       "      <th>17</th>\n",
       "      <td>alice</td>\n",
       "      <td>LocalTraining</td>\n",
       "      <td>duration</td>\n",
       "      <td>26.680060</td>\n",
       "    </tr>\n",
       "    <tr>\n",
       "      <th>18</th>\n",
       "      <td>alice</td>\n",
       "      <td>LocalTraining</td>\n",
       "      <td>duration</td>\n",
       "      <td>26.609037</td>\n",
       "    </tr>\n",
       "    <tr>\n",
       "      <th>19</th>\n",
       "      <td>alice</td>\n",
       "      <td>LocalTraining</td>\n",
       "      <td>duration</td>\n",
       "      <td>27.038532</td>\n",
       "    </tr>\n",
       "    <tr>\n",
       "      <th>20</th>\n",
       "      <td>alice</td>\n",
       "      <td>LocalTraining</td>\n",
       "      <td>duration</td>\n",
       "      <td>26.785888</td>\n",
       "    </tr>\n",
       "  </tbody>\n",
       "</table>\n",
       "</div>"
      ],
      "text/plain": [
       "   WorkerID      EventType EventState       Time\n",
       "0     alice  LocalTraining   duration  26.624156\n",
       "1     alice  LocalTraining   duration  26.722337\n",
       "2     alice  LocalTraining   duration  26.563231\n",
       "3     alice  LocalTraining   duration  26.818083\n",
       "4     alice  LocalTraining   duration  26.732565\n",
       "5     alice  LocalTraining   duration  26.826841\n",
       "6     alice  LocalTraining   duration  26.953744\n",
       "7     alice  LocalTraining   duration  26.687086\n",
       "8     alice  LocalTraining   duration  26.583683\n",
       "9     alice  LocalTraining   duration  26.751819\n",
       "10    alice  LocalTraining   duration  26.532453\n",
       "11    alice  LocalTraining   duration  26.840524\n",
       "12    alice  LocalTraining   duration  26.653209\n",
       "13    alice  LocalTraining   duration  26.783450\n",
       "14    alice  LocalTraining   duration  26.741618\n",
       "15    alice  LocalTraining   duration  26.975325\n",
       "16    alice  LocalTraining   duration  26.867665\n",
       "17    alice  LocalTraining   duration  26.680060\n",
       "18    alice  LocalTraining   duration  26.609037\n",
       "19    alice  LocalTraining   duration  27.038532\n",
       "20    alice  LocalTraining   duration  26.785888"
      ]
     },
     "execution_count": 41,
     "metadata": {},
     "output_type": "execute_result"
    }
   ],
   "source": [
    "hpc1_lt_df"
   ]
  },
  {
   "cell_type": "markdown",
   "metadata": {},
   "source": [
    "## FitSagg Duration"
   ]
  },
  {
   "cell_type": "code",
   "execution_count": 42,
   "metadata": {},
   "outputs": [],
   "source": [
    "def get_coord_fitsagg_duration(coord_df, worker_id):\n",
    "    coord_event_df = coord_df[coord_df[\"EventType\"].str.contains(\"FitSagg\", regex=False)]\n",
    "    coord_event_df = coord_event_df[coord_event_df[\"ID\"] == worker_id]\n",
    "    coord_event_df = coord_event_df.reset_index()\n",
    "    \n",
    "    del coord_event_df['index']\n",
    "    \n",
    "    return coord_event_df"
   ]
  },
  {
   "cell_type": "code",
   "execution_count": 43,
   "metadata": {},
   "outputs": [],
   "source": [
    "hpc1_fs_df = get_coord_fitsagg_duration(coord_df, \"alice\")"
   ]
  },
  {
   "cell_type": "code",
   "execution_count": 44,
   "metadata": {},
   "outputs": [],
   "source": [
    "hpc2_fs_df = get_coord_fitsagg_duration(coord_df, \"bob\")"
   ]
  },
  {
   "cell_type": "code",
   "execution_count": 45,
   "metadata": {},
   "outputs": [],
   "source": [
    "hpc3_fs_df = get_coord_fitsagg_duration(coord_df, \"charlie\")"
   ]
  },
  {
   "cell_type": "code",
   "execution_count": 46,
   "metadata": {},
   "outputs": [
    {
     "data": {
      "text/plain": [
       "0     84.453076\n",
       "1     85.615986\n",
       "2     85.717048\n",
       "3     91.836997\n",
       "4     86.045487\n",
       "5     86.111153\n",
       "6     98.351408\n",
       "7     97.899580\n",
       "8     86.157892\n",
       "9     86.350277\n",
       "10    92.211237\n",
       "11    92.692703\n",
       "12    86.314981\n",
       "13    97.601875\n",
       "14    85.350809\n",
       "15    97.979316\n",
       "16    97.995654\n",
       "17    86.370761\n",
       "18    83.190006\n",
       "19    85.936923\n",
       "20    86.306107\n",
       "Name: Time, dtype: float64"
      ]
     },
     "execution_count": 46,
     "metadata": {},
     "output_type": "execute_result"
    }
   ],
   "source": [
    "hpc1_fs_df['Time']"
   ]
  },
  {
   "cell_type": "code",
   "execution_count": 47,
   "metadata": {},
   "outputs": [
    {
     "data": {
      "text/plain": [
       "89.80181002616882"
      ]
     },
     "execution_count": 47,
     "metadata": {},
     "output_type": "execute_result"
    }
   ],
   "source": [
    "hpc1_fs_df['Time'][1:].mean()"
   ]
  },
  {
   "cell_type": "code",
   "execution_count": 48,
   "metadata": {},
   "outputs": [
    {
     "data": {
      "text/plain": [
       "94.73016160726547"
      ]
     },
     "execution_count": 48,
     "metadata": {},
     "output_type": "execute_result"
    }
   ],
   "source": [
    "hpc2_fs_df['Time'][1:].mean()"
   ]
  },
  {
   "cell_type": "code",
   "execution_count": 49,
   "metadata": {},
   "outputs": [
    {
     "data": {
      "text/plain": [
       "93.92386130094528"
      ]
     },
     "execution_count": 49,
     "metadata": {},
     "output_type": "execute_result"
    }
   ],
   "source": [
    "hpc3_fs_df['Time'][1:].mean()"
   ]
  },
  {
   "cell_type": "markdown",
   "metadata": {},
   "source": [
    "## EncryptMultiply Duration"
   ]
  },
  {
   "cell_type": "code",
   "execution_count": 50,
   "metadata": {},
   "outputs": [],
   "source": [
    "hpc1_em_df = get_worker_duration(\"alice\", worker_dfs, \"EncryptMultiply\")"
   ]
  },
  {
   "cell_type": "code",
   "execution_count": 51,
   "metadata": {},
   "outputs": [],
   "source": [
    "hpc2_em_df = get_worker_duration(\"bob\", worker_dfs, \"EncryptMultiply\")"
   ]
  },
  {
   "cell_type": "code",
   "execution_count": 52,
   "metadata": {},
   "outputs": [],
   "source": [
    "hpc3_em_df = get_worker_duration(\"charlie\", worker_dfs, \"EncryptMultiply\")"
   ]
  },
  {
   "cell_type": "code",
   "execution_count": 53,
   "metadata": {},
   "outputs": [
    {
     "data": {
      "text/plain": [
       "54.00186846256256"
      ]
     },
     "execution_count": 53,
     "metadata": {},
     "output_type": "execute_result"
    }
   ],
   "source": [
    "hpc1_em_df['Time'][1:].mean()"
   ]
  },
  {
   "cell_type": "code",
   "execution_count": 54,
   "metadata": {},
   "outputs": [
    {
     "data": {
      "text/plain": [
       "66.99678223133087"
      ]
     },
     "execution_count": 54,
     "metadata": {},
     "output_type": "execute_result"
    }
   ],
   "source": [
    "hpc2_em_df['Time'][1:].mean()"
   ]
  },
  {
   "cell_type": "code",
   "execution_count": 55,
   "metadata": {},
   "outputs": [
    {
     "data": {
      "text/plain": [
       "62.7054208278656"
      ]
     },
     "execution_count": 55,
     "metadata": {},
     "output_type": "execute_result"
    }
   ],
   "source": [
    "hpc3_em_df['Time'][1:].mean()"
   ]
  },
  {
   "cell_type": "code",
   "execution_count": 56,
   "metadata": {},
   "outputs": [
    {
     "data": {
      "text/html": [
       "<div>\n",
       "<style scoped>\n",
       "    .dataframe tbody tr th:only-of-type {\n",
       "        vertical-align: middle;\n",
       "    }\n",
       "\n",
       "    .dataframe tbody tr th {\n",
       "        vertical-align: top;\n",
       "    }\n",
       "\n",
       "    .dataframe thead th {\n",
       "        text-align: right;\n",
       "    }\n",
       "</style>\n",
       "<table border=\"1\" class=\"dataframe\">\n",
       "  <thead>\n",
       "    <tr style=\"text-align: right;\">\n",
       "      <th></th>\n",
       "      <th>WorkerID</th>\n",
       "      <th>EventType</th>\n",
       "      <th>EventState</th>\n",
       "      <th>Time</th>\n",
       "    </tr>\n",
       "  </thead>\n",
       "  <tbody>\n",
       "    <tr>\n",
       "      <th>0</th>\n",
       "      <td>alice</td>\n",
       "      <td>EncryptMultiply</td>\n",
       "      <td>duration</td>\n",
       "      <td>48.715663</td>\n",
       "    </tr>\n",
       "    <tr>\n",
       "      <th>1</th>\n",
       "      <td>alice</td>\n",
       "      <td>EncryptMultiply</td>\n",
       "      <td>duration</td>\n",
       "      <td>50.059990</td>\n",
       "    </tr>\n",
       "    <tr>\n",
       "      <th>2</th>\n",
       "      <td>alice</td>\n",
       "      <td>EncryptMultiply</td>\n",
       "      <td>duration</td>\n",
       "      <td>50.112348</td>\n",
       "    </tr>\n",
       "    <tr>\n",
       "      <th>3</th>\n",
       "      <td>alice</td>\n",
       "      <td>EncryptMultiply</td>\n",
       "      <td>duration</td>\n",
       "      <td>56.116772</td>\n",
       "    </tr>\n",
       "    <tr>\n",
       "      <th>4</th>\n",
       "      <td>alice</td>\n",
       "      <td>EncryptMultiply</td>\n",
       "      <td>duration</td>\n",
       "      <td>50.318476</td>\n",
       "    </tr>\n",
       "    <tr>\n",
       "      <th>5</th>\n",
       "      <td>alice</td>\n",
       "      <td>EncryptMultiply</td>\n",
       "      <td>duration</td>\n",
       "      <td>50.170261</td>\n",
       "    </tr>\n",
       "    <tr>\n",
       "      <th>6</th>\n",
       "      <td>alice</td>\n",
       "      <td>EncryptMultiply</td>\n",
       "      <td>duration</td>\n",
       "      <td>62.448335</td>\n",
       "    </tr>\n",
       "    <tr>\n",
       "      <th>7</th>\n",
       "      <td>alice</td>\n",
       "      <td>EncryptMultiply</td>\n",
       "      <td>duration</td>\n",
       "      <td>61.933868</td>\n",
       "    </tr>\n",
       "    <tr>\n",
       "      <th>8</th>\n",
       "      <td>alice</td>\n",
       "      <td>EncryptMultiply</td>\n",
       "      <td>duration</td>\n",
       "      <td>50.497008</td>\n",
       "    </tr>\n",
       "    <tr>\n",
       "      <th>9</th>\n",
       "      <td>alice</td>\n",
       "      <td>EncryptMultiply</td>\n",
       "      <td>duration</td>\n",
       "      <td>50.482827</td>\n",
       "    </tr>\n",
       "    <tr>\n",
       "      <th>10</th>\n",
       "      <td>alice</td>\n",
       "      <td>EncryptMultiply</td>\n",
       "      <td>duration</td>\n",
       "      <td>56.806353</td>\n",
       "    </tr>\n",
       "    <tr>\n",
       "      <th>11</th>\n",
       "      <td>alice</td>\n",
       "      <td>EncryptMultiply</td>\n",
       "      <td>duration</td>\n",
       "      <td>56.891182</td>\n",
       "    </tr>\n",
       "    <tr>\n",
       "      <th>12</th>\n",
       "      <td>alice</td>\n",
       "      <td>EncryptMultiply</td>\n",
       "      <td>duration</td>\n",
       "      <td>50.600990</td>\n",
       "    </tr>\n",
       "    <tr>\n",
       "      <th>13</th>\n",
       "      <td>alice</td>\n",
       "      <td>EncryptMultiply</td>\n",
       "      <td>duration</td>\n",
       "      <td>61.839139</td>\n",
       "    </tr>\n",
       "    <tr>\n",
       "      <th>14</th>\n",
       "      <td>alice</td>\n",
       "      <td>EncryptMultiply</td>\n",
       "      <td>duration</td>\n",
       "      <td>49.460297</td>\n",
       "    </tr>\n",
       "    <tr>\n",
       "      <th>15</th>\n",
       "      <td>alice</td>\n",
       "      <td>EncryptMultiply</td>\n",
       "      <td>duration</td>\n",
       "      <td>61.899823</td>\n",
       "    </tr>\n",
       "    <tr>\n",
       "      <th>16</th>\n",
       "      <td>alice</td>\n",
       "      <td>EncryptMultiply</td>\n",
       "      <td>duration</td>\n",
       "      <td>62.010736</td>\n",
       "    </tr>\n",
       "    <tr>\n",
       "      <th>17</th>\n",
       "      <td>alice</td>\n",
       "      <td>EncryptMultiply</td>\n",
       "      <td>duration</td>\n",
       "      <td>50.556004</td>\n",
       "    </tr>\n",
       "    <tr>\n",
       "      <th>18</th>\n",
       "      <td>alice</td>\n",
       "      <td>EncryptMultiply</td>\n",
       "      <td>duration</td>\n",
       "      <td>47.493616</td>\n",
       "    </tr>\n",
       "    <tr>\n",
       "      <th>19</th>\n",
       "      <td>alice</td>\n",
       "      <td>EncryptMultiply</td>\n",
       "      <td>duration</td>\n",
       "      <td>50.022374</td>\n",
       "    </tr>\n",
       "    <tr>\n",
       "      <th>20</th>\n",
       "      <td>alice</td>\n",
       "      <td>EncryptMultiply</td>\n",
       "      <td>duration</td>\n",
       "      <td>50.316970</td>\n",
       "    </tr>\n",
       "  </tbody>\n",
       "</table>\n",
       "</div>"
      ],
      "text/plain": [
       "   WorkerID        EventType EventState       Time\n",
       "0     alice  EncryptMultiply   duration  48.715663\n",
       "1     alice  EncryptMultiply   duration  50.059990\n",
       "2     alice  EncryptMultiply   duration  50.112348\n",
       "3     alice  EncryptMultiply   duration  56.116772\n",
       "4     alice  EncryptMultiply   duration  50.318476\n",
       "5     alice  EncryptMultiply   duration  50.170261\n",
       "6     alice  EncryptMultiply   duration  62.448335\n",
       "7     alice  EncryptMultiply   duration  61.933868\n",
       "8     alice  EncryptMultiply   duration  50.497008\n",
       "9     alice  EncryptMultiply   duration  50.482827\n",
       "10    alice  EncryptMultiply   duration  56.806353\n",
       "11    alice  EncryptMultiply   duration  56.891182\n",
       "12    alice  EncryptMultiply   duration  50.600990\n",
       "13    alice  EncryptMultiply   duration  61.839139\n",
       "14    alice  EncryptMultiply   duration  49.460297\n",
       "15    alice  EncryptMultiply   duration  61.899823\n",
       "16    alice  EncryptMultiply   duration  62.010736\n",
       "17    alice  EncryptMultiply   duration  50.556004\n",
       "18    alice  EncryptMultiply   duration  47.493616\n",
       "19    alice  EncryptMultiply   duration  50.022374\n",
       "20    alice  EncryptMultiply   duration  50.316970"
      ]
     },
     "execution_count": 56,
     "metadata": {},
     "output_type": "execute_result"
    }
   ],
   "source": [
    "hpc1_em_df"
   ]
  },
  {
   "cell_type": "code",
   "execution_count": 57,
   "metadata": {},
   "outputs": [
    {
     "data": {
      "text/html": [
       "<div>\n",
       "<style scoped>\n",
       "    .dataframe tbody tr th:only-of-type {\n",
       "        vertical-align: middle;\n",
       "    }\n",
       "\n",
       "    .dataframe tbody tr th {\n",
       "        vertical-align: top;\n",
       "    }\n",
       "\n",
       "    .dataframe thead th {\n",
       "        text-align: right;\n",
       "    }\n",
       "</style>\n",
       "<table border=\"1\" class=\"dataframe\">\n",
       "  <thead>\n",
       "    <tr style=\"text-align: right;\">\n",
       "      <th></th>\n",
       "      <th>WorkerID</th>\n",
       "      <th>EventType</th>\n",
       "      <th>EventState</th>\n",
       "      <th>Time</th>\n",
       "    </tr>\n",
       "  </thead>\n",
       "  <tbody>\n",
       "    <tr>\n",
       "      <th>0</th>\n",
       "      <td>charlie</td>\n",
       "      <td>EncryptMultiply</td>\n",
       "      <td>duration</td>\n",
       "      <td>61.433725</td>\n",
       "    </tr>\n",
       "    <tr>\n",
       "      <th>1</th>\n",
       "      <td>charlie</td>\n",
       "      <td>EncryptMultiply</td>\n",
       "      <td>duration</td>\n",
       "      <td>55.777690</td>\n",
       "    </tr>\n",
       "    <tr>\n",
       "      <th>2</th>\n",
       "      <td>charlie</td>\n",
       "      <td>EncryptMultiply</td>\n",
       "      <td>duration</td>\n",
       "      <td>63.421010</td>\n",
       "    </tr>\n",
       "    <tr>\n",
       "      <th>3</th>\n",
       "      <td>charlie</td>\n",
       "      <td>EncryptMultiply</td>\n",
       "      <td>duration</td>\n",
       "      <td>68.569799</td>\n",
       "    </tr>\n",
       "    <tr>\n",
       "      <th>4</th>\n",
       "      <td>charlie</td>\n",
       "      <td>EncryptMultiply</td>\n",
       "      <td>duration</td>\n",
       "      <td>57.262148</td>\n",
       "    </tr>\n",
       "    <tr>\n",
       "      <th>5</th>\n",
       "      <td>charlie</td>\n",
       "      <td>EncryptMultiply</td>\n",
       "      <td>duration</td>\n",
       "      <td>57.845465</td>\n",
       "    </tr>\n",
       "    <tr>\n",
       "      <th>6</th>\n",
       "      <td>charlie</td>\n",
       "      <td>EncryptMultiply</td>\n",
       "      <td>duration</td>\n",
       "      <td>69.089931</td>\n",
       "    </tr>\n",
       "    <tr>\n",
       "      <th>7</th>\n",
       "      <td>charlie</td>\n",
       "      <td>EncryptMultiply</td>\n",
       "      <td>duration</td>\n",
       "      <td>74.851400</td>\n",
       "    </tr>\n",
       "    <tr>\n",
       "      <th>8</th>\n",
       "      <td>charlie</td>\n",
       "      <td>EncryptMultiply</td>\n",
       "      <td>duration</td>\n",
       "      <td>57.915925</td>\n",
       "    </tr>\n",
       "    <tr>\n",
       "      <th>9</th>\n",
       "      <td>charlie</td>\n",
       "      <td>EncryptMultiply</td>\n",
       "      <td>duration</td>\n",
       "      <td>58.021731</td>\n",
       "    </tr>\n",
       "    <tr>\n",
       "      <th>10</th>\n",
       "      <td>charlie</td>\n",
       "      <td>EncryptMultiply</td>\n",
       "      <td>duration</td>\n",
       "      <td>63.951376</td>\n",
       "    </tr>\n",
       "    <tr>\n",
       "      <th>11</th>\n",
       "      <td>charlie</td>\n",
       "      <td>EncryptMultiply</td>\n",
       "      <td>duration</td>\n",
       "      <td>64.437804</td>\n",
       "    </tr>\n",
       "    <tr>\n",
       "      <th>12</th>\n",
       "      <td>charlie</td>\n",
       "      <td>EncryptMultiply</td>\n",
       "      <td>duration</td>\n",
       "      <td>58.093915</td>\n",
       "    </tr>\n",
       "    <tr>\n",
       "      <th>13</th>\n",
       "      <td>charlie</td>\n",
       "      <td>EncryptMultiply</td>\n",
       "      <td>duration</td>\n",
       "      <td>69.176828</td>\n",
       "    </tr>\n",
       "    <tr>\n",
       "      <th>14</th>\n",
       "      <td>charlie</td>\n",
       "      <td>EncryptMultiply</td>\n",
       "      <td>duration</td>\n",
       "      <td>56.941539</td>\n",
       "    </tr>\n",
       "    <tr>\n",
       "      <th>15</th>\n",
       "      <td>charlie</td>\n",
       "      <td>EncryptMultiply</td>\n",
       "      <td>duration</td>\n",
       "      <td>69.434742</td>\n",
       "    </tr>\n",
       "    <tr>\n",
       "      <th>16</th>\n",
       "      <td>charlie</td>\n",
       "      <td>EncryptMultiply</td>\n",
       "      <td>duration</td>\n",
       "      <td>75.015832</td>\n",
       "    </tr>\n",
       "    <tr>\n",
       "      <th>17</th>\n",
       "      <td>charlie</td>\n",
       "      <td>EncryptMultiply</td>\n",
       "      <td>duration</td>\n",
       "      <td>58.109102</td>\n",
       "    </tr>\n",
       "    <tr>\n",
       "      <th>18</th>\n",
       "      <td>charlie</td>\n",
       "      <td>EncryptMultiply</td>\n",
       "      <td>duration</td>\n",
       "      <td>60.422923</td>\n",
       "    </tr>\n",
       "    <tr>\n",
       "      <th>19</th>\n",
       "      <td>charlie</td>\n",
       "      <td>EncryptMultiply</td>\n",
       "      <td>duration</td>\n",
       "      <td>57.967161</td>\n",
       "    </tr>\n",
       "    <tr>\n",
       "      <th>20</th>\n",
       "      <td>charlie</td>\n",
       "      <td>EncryptMultiply</td>\n",
       "      <td>duration</td>\n",
       "      <td>57.802095</td>\n",
       "    </tr>\n",
       "  </tbody>\n",
       "</table>\n",
       "</div>"
      ],
      "text/plain": [
       "   WorkerID        EventType EventState       Time\n",
       "0   charlie  EncryptMultiply   duration  61.433725\n",
       "1   charlie  EncryptMultiply   duration  55.777690\n",
       "2   charlie  EncryptMultiply   duration  63.421010\n",
       "3   charlie  EncryptMultiply   duration  68.569799\n",
       "4   charlie  EncryptMultiply   duration  57.262148\n",
       "5   charlie  EncryptMultiply   duration  57.845465\n",
       "6   charlie  EncryptMultiply   duration  69.089931\n",
       "7   charlie  EncryptMultiply   duration  74.851400\n",
       "8   charlie  EncryptMultiply   duration  57.915925\n",
       "9   charlie  EncryptMultiply   duration  58.021731\n",
       "10  charlie  EncryptMultiply   duration  63.951376\n",
       "11  charlie  EncryptMultiply   duration  64.437804\n",
       "12  charlie  EncryptMultiply   duration  58.093915\n",
       "13  charlie  EncryptMultiply   duration  69.176828\n",
       "14  charlie  EncryptMultiply   duration  56.941539\n",
       "15  charlie  EncryptMultiply   duration  69.434742\n",
       "16  charlie  EncryptMultiply   duration  75.015832\n",
       "17  charlie  EncryptMultiply   duration  58.109102\n",
       "18  charlie  EncryptMultiply   duration  60.422923\n",
       "19  charlie  EncryptMultiply   duration  57.967161\n",
       "20  charlie  EncryptMultiply   duration  57.802095"
      ]
     },
     "execution_count": 57,
     "metadata": {},
     "output_type": "execute_result"
    }
   ],
   "source": [
    "hpc3_em_df"
   ]
  },
  {
   "cell_type": "markdown",
   "metadata": {},
   "source": [
    "## EncryptParameter Duration"
   ]
  },
  {
   "cell_type": "code",
   "execution_count": 58,
   "metadata": {},
   "outputs": [],
   "source": [
    "def get_encrypt_parameter_duration(worker_id, worker_dfs):\n",
    "    worker_df = worker_dfs[worker_id]\n",
    "    worker_ep_df = worker_df[worker_df[\"EventType\"].str.contains('EncryptParameter', regex=False)]\n",
    "    worker_ep_df = worker_ep_df.reset_index()\n",
    "    \n",
    "    del worker_ep_df[\"index\"]\n",
    "    del worker_ep_df[\"ID\"]\n",
    "    \n",
    "    return worker_ep_df\n",
    "    "
   ]
  },
  {
   "cell_type": "code",
   "execution_count": 59,
   "metadata": {},
   "outputs": [],
   "source": [
    "# hpc1_ep_df = get_encrypt_parameter_duration(\"alice\", worker_dfs)\n",
    "hpc1_ep_df = get_worker_duration(\"alice\", worker_dfs, \"EncryptParameter\")\n",
    "hpc2_ep_df = get_worker_duration(\"bob\", worker_dfs, \"EncryptParameter\")\n",
    "hpc3_ep_df = get_worker_duration(\"charlie\", worker_dfs, \"EncryptParameter\")"
   ]
  },
  {
   "cell_type": "code",
   "execution_count": 60,
   "metadata": {},
   "outputs": [
    {
     "data": {
      "text/html": [
       "<div>\n",
       "<style scoped>\n",
       "    .dataframe tbody tr th:only-of-type {\n",
       "        vertical-align: middle;\n",
       "    }\n",
       "\n",
       "    .dataframe tbody tr th {\n",
       "        vertical-align: top;\n",
       "    }\n",
       "\n",
       "    .dataframe thead th {\n",
       "        text-align: right;\n",
       "    }\n",
       "</style>\n",
       "<table border=\"1\" class=\"dataframe\">\n",
       "  <thead>\n",
       "    <tr style=\"text-align: right;\">\n",
       "      <th></th>\n",
       "      <th>WorkerID</th>\n",
       "      <th>EventType</th>\n",
       "      <th>EventState</th>\n",
       "      <th>Time</th>\n",
       "    </tr>\n",
       "  </thead>\n",
       "  <tbody>\n",
       "    <tr>\n",
       "      <th>0</th>\n",
       "      <td>alice</td>\n",
       "      <td>EncryptParameter0</td>\n",
       "      <td>duration</td>\n",
       "      <td>0.008006</td>\n",
       "    </tr>\n",
       "    <tr>\n",
       "      <th>1</th>\n",
       "      <td>alice</td>\n",
       "      <td>EncryptParameter1</td>\n",
       "      <td>duration</td>\n",
       "      <td>0.004122</td>\n",
       "    </tr>\n",
       "    <tr>\n",
       "      <th>2</th>\n",
       "      <td>alice</td>\n",
       "      <td>EncryptParameter2</td>\n",
       "      <td>duration</td>\n",
       "      <td>0.135807</td>\n",
       "    </tr>\n",
       "    <tr>\n",
       "      <th>3</th>\n",
       "      <td>alice</td>\n",
       "      <td>EncryptParameter3</td>\n",
       "      <td>duration</td>\n",
       "      <td>0.042323</td>\n",
       "    </tr>\n",
       "    <tr>\n",
       "      <th>4</th>\n",
       "      <td>alice</td>\n",
       "      <td>EncryptParameter4</td>\n",
       "      <td>duration</td>\n",
       "      <td>20.101438</td>\n",
       "    </tr>\n",
       "    <tr>\n",
       "      <th>5</th>\n",
       "      <td>alice</td>\n",
       "      <td>EncryptParameter5</td>\n",
       "      <td>duration</td>\n",
       "      <td>0.049372</td>\n",
       "    </tr>\n",
       "    <tr>\n",
       "      <th>6</th>\n",
       "      <td>alice</td>\n",
       "      <td>EncryptParameter6</td>\n",
       "      <td>duration</td>\n",
       "      <td>20.748300</td>\n",
       "    </tr>\n",
       "    <tr>\n",
       "      <th>7</th>\n",
       "      <td>alice</td>\n",
       "      <td>EncryptParameter7</td>\n",
       "      <td>duration</td>\n",
       "      <td>0.470586</td>\n",
       "    </tr>\n",
       "    <tr>\n",
       "      <th>8</th>\n",
       "      <td>alice</td>\n",
       "      <td>EncryptParameter8</td>\n",
       "      <td>duration</td>\n",
       "      <td>0.029997</td>\n",
       "    </tr>\n",
       "    <tr>\n",
       "      <th>9</th>\n",
       "      <td>alice</td>\n",
       "      <td>EncryptParameter9</td>\n",
       "      <td>duration</td>\n",
       "      <td>0.005698</td>\n",
       "    </tr>\n",
       "  </tbody>\n",
       "</table>\n",
       "</div>"
      ],
      "text/plain": [
       "  WorkerID          EventType EventState       Time\n",
       "0    alice  EncryptParameter0   duration   0.008006\n",
       "1    alice  EncryptParameter1   duration   0.004122\n",
       "2    alice  EncryptParameter2   duration   0.135807\n",
       "3    alice  EncryptParameter3   duration   0.042323\n",
       "4    alice  EncryptParameter4   duration  20.101438\n",
       "5    alice  EncryptParameter5   duration   0.049372\n",
       "6    alice  EncryptParameter6   duration  20.748300\n",
       "7    alice  EncryptParameter7   duration   0.470586\n",
       "8    alice  EncryptParameter8   duration   0.029997\n",
       "9    alice  EncryptParameter9   duration   0.005698"
      ]
     },
     "execution_count": 60,
     "metadata": {},
     "output_type": "execute_result"
    }
   ],
   "source": [
    "hpc1_ep_df[0:10]"
   ]
  },
  {
   "cell_type": "code",
   "execution_count": 61,
   "metadata": {},
   "outputs": [
    {
     "name": "stdout",
     "output_type": "stream",
     "text": [
      "0: 0.008286589667910621\n",
      "1: 0.004443316232590448\n",
      "2: 0.11157965660095215\n",
      "3: 0.08461517379397437\n",
      "4: 28.520718915121897\n",
      "5: 0.2607398260207403\n",
      "6: 16.35787110101609\n",
      "7: 0.48934257598150344\n"
     ]
    }
   ],
   "source": [
    "mean_values = []\n",
    "for i in range(8):\n",
    "    mean_value = hpc1_ep_df[hpc1_ep_df[\"EventType\"] == \"EncryptParameter\"+str(i)][\"Time\"].mean()\n",
    "    mean_values.append(mean_value)\n",
    "    print(str(i)+\":\", mean_value)"
   ]
  },
  {
   "cell_type": "code",
   "execution_count": 62,
   "metadata": {},
   "outputs": [
    {
     "data": {
      "text/plain": [
       "45.837597154435656"
      ]
     },
     "execution_count": 62,
     "metadata": {},
     "output_type": "execute_result"
    }
   ],
   "source": [
    "sum(mean_values)"
   ]
  },
  {
   "cell_type": "code",
   "execution_count": null,
   "metadata": {},
   "outputs": [],
   "source": []
  },
  {
   "cell_type": "code",
   "execution_count": 63,
   "metadata": {},
   "outputs": [
    {
     "name": "stdout",
     "output_type": "stream",
     "text": [
      "0: 8.331863948277064\n",
      "1: 0.004645381655011859\n",
      "2: 0.13638104711260116\n",
      "3: 1.0870293435596285\n",
      "4: 33.396468003590904\n",
      "5: 0.6185829298836845\n",
      "6: 16.398947988237655\n",
      "7: 0.006813072022937593\n"
     ]
    }
   ],
   "source": [
    "for i in range(8):\n",
    "    mean_value = hpc2_ep_df[hpc1_ep_df[\"EventType\"] == \"EncryptParameter\"+str(i)][\"Time\"].mean()\n",
    "    print(str(i)+\":\", mean_value)"
   ]
  },
  {
   "cell_type": "code",
   "execution_count": 64,
   "metadata": {},
   "outputs": [
    {
     "name": "stdout",
     "output_type": "stream",
     "text": [
      "0: 7.37497479575021\n",
      "1: 0.004630304518200103\n",
      "2: 0.10904356411525182\n",
      "3: 0.08928410212198894\n",
      "4: 26.07693376995268\n",
      "5: 0.1528927939278739\n",
      "6: 17.312533106122697\n",
      "7: 0.011078516642252604\n"
     ]
    }
   ],
   "source": [
    "for i in range(8):\n",
    "    mean_value = hpc3_ep_df[hpc1_ep_df[\"EventType\"] == \"EncryptParameter\"+str(i)][\"Time\"].mean()\n",
    "    print(str(i)+\":\", mean_value)"
   ]
  },
  {
   "cell_type": "code",
   "execution_count": 65,
   "metadata": {},
   "outputs": [
    {
     "data": {
      "text/plain": [
       "0     0.008006\n",
       "1     0.004122\n",
       "2     0.135807\n",
       "3     0.042323\n",
       "4    20.101438\n",
       "5     0.049372\n",
       "6    20.748300\n",
       "7     0.470586\n",
       "Name: Time, dtype: float64"
      ]
     },
     "execution_count": 65,
     "metadata": {},
     "output_type": "execute_result"
    }
   ],
   "source": [
    "hpc1_ep_df[\"Time\"][0:8]"
   ]
  },
  {
   "cell_type": "code",
   "execution_count": 66,
   "metadata": {},
   "outputs": [
    {
     "data": {
      "text/plain": [
       "4.670967030525207"
      ]
     },
     "execution_count": 66,
     "metadata": {},
     "output_type": "execute_result"
    }
   ],
   "source": [
    "hpc1_ep_df[\"Time\"].mean()"
   ]
  },
  {
   "cell_type": "code",
   "execution_count": 67,
   "metadata": {},
   "outputs": [
    {
     "data": {
      "text/plain": [
       "6.001383661088489"
      ]
     },
     "execution_count": 67,
     "metadata": {},
     "output_type": "execute_result"
    }
   ],
   "source": [
    "hpc2_ep_df[\"Time\"].mean()"
   ]
  },
  {
   "cell_type": "code",
   "execution_count": 68,
   "metadata": {},
   "outputs": [
    {
     "data": {
      "text/plain": [
       "5.1643153735569545"
      ]
     },
     "execution_count": 68,
     "metadata": {},
     "output_type": "execute_result"
    }
   ],
   "source": [
    "hpc3_ep_df[\"Time\"].mean()"
   ]
  },
  {
   "cell_type": "markdown",
   "metadata": {},
   "source": [
    "## MultiplyParameter Duration"
   ]
  },
  {
   "cell_type": "code",
   "execution_count": 69,
   "metadata": {},
   "outputs": [],
   "source": [
    "def get_multiply_parameter_duration(worker_id, worker_dfs):\n",
    "    worker_df = worker_dfs[worker_id]\n",
    "    worker_ep_df = worker_df[worker_df[\"EventType\"].str.contains('MultiplyParameter', regex=False)]\n",
    "    worker_ep_df = worker_ep_df.reset_index()\n",
    "    \n",
    "    del worker_ep_df[\"index\"]\n",
    "    del worker_ep_df[\"ID\"]\n",
    "    \n",
    "    return worker_ep_df"
   ]
  },
  {
   "cell_type": "code",
   "execution_count": 70,
   "metadata": {},
   "outputs": [],
   "source": [
    "# hpc1_mp_df = get_multiply_parameter_duration(\"alice\", worker_dfs)\n",
    "hpc1_mp_df = get_worker_duration(\"alice\", worker_dfs, \"MultiplyParameter\")\n",
    "hpc2_mp_df = get_worker_duration(\"bob\", worker_dfs, \"MultiplyParameter\")\n",
    "hpc3_mp_df = get_worker_duration(\"charlie\", worker_dfs, \"MultiplyParameter\")"
   ]
  },
  {
   "cell_type": "code",
   "execution_count": 71,
   "metadata": {},
   "outputs": [
    {
     "data": {
      "text/html": [
       "<div>\n",
       "<style scoped>\n",
       "    .dataframe tbody tr th:only-of-type {\n",
       "        vertical-align: middle;\n",
       "    }\n",
       "\n",
       "    .dataframe tbody tr th {\n",
       "        vertical-align: top;\n",
       "    }\n",
       "\n",
       "    .dataframe thead th {\n",
       "        text-align: right;\n",
       "    }\n",
       "</style>\n",
       "<table border=\"1\" class=\"dataframe\">\n",
       "  <thead>\n",
       "    <tr style=\"text-align: right;\">\n",
       "      <th></th>\n",
       "      <th>WorkerID</th>\n",
       "      <th>EventType</th>\n",
       "      <th>EventState</th>\n",
       "      <th>Time</th>\n",
       "    </tr>\n",
       "  </thead>\n",
       "  <tbody>\n",
       "    <tr>\n",
       "      <th>0</th>\n",
       "      <td>alice</td>\n",
       "      <td>MultiplyParameter0</td>\n",
       "      <td>duration</td>\n",
       "      <td>0.005097</td>\n",
       "    </tr>\n",
       "    <tr>\n",
       "      <th>1</th>\n",
       "      <td>alice</td>\n",
       "      <td>MultiplyParameter1</td>\n",
       "      <td>duration</td>\n",
       "      <td>0.004630</td>\n",
       "    </tr>\n",
       "    <tr>\n",
       "      <th>2</th>\n",
       "      <td>alice</td>\n",
       "      <td>MultiplyParameter2</td>\n",
       "      <td>duration</td>\n",
       "      <td>0.003384</td>\n",
       "    </tr>\n",
       "    <tr>\n",
       "      <th>3</th>\n",
       "      <td>alice</td>\n",
       "      <td>MultiplyParameter3</td>\n",
       "      <td>duration</td>\n",
       "      <td>0.002941</td>\n",
       "    </tr>\n",
       "    <tr>\n",
       "      <th>4</th>\n",
       "      <td>alice</td>\n",
       "      <td>MultiplyParameter4</td>\n",
       "      <td>duration</td>\n",
       "      <td>1.342498</td>\n",
       "    </tr>\n",
       "    <tr>\n",
       "      <th>5</th>\n",
       "      <td>alice</td>\n",
       "      <td>MultiplyParameter5</td>\n",
       "      <td>duration</td>\n",
       "      <td>0.006139</td>\n",
       "    </tr>\n",
       "    <tr>\n",
       "      <th>6</th>\n",
       "      <td>alice</td>\n",
       "      <td>MultiplyParameter6</td>\n",
       "      <td>duration</td>\n",
       "      <td>5.683403</td>\n",
       "    </tr>\n",
       "    <tr>\n",
       "      <th>7</th>\n",
       "      <td>alice</td>\n",
       "      <td>MultiplyParameter7</td>\n",
       "      <td>duration</td>\n",
       "      <td>0.004724</td>\n",
       "    </tr>\n",
       "  </tbody>\n",
       "</table>\n",
       "</div>"
      ],
      "text/plain": [
       "  WorkerID           EventType EventState      Time\n",
       "0    alice  MultiplyParameter0   duration  0.005097\n",
       "1    alice  MultiplyParameter1   duration  0.004630\n",
       "2    alice  MultiplyParameter2   duration  0.003384\n",
       "3    alice  MultiplyParameter3   duration  0.002941\n",
       "4    alice  MultiplyParameter4   duration  1.342498\n",
       "5    alice  MultiplyParameter5   duration  0.006139\n",
       "6    alice  MultiplyParameter6   duration  5.683403\n",
       "7    alice  MultiplyParameter7   duration  0.004724"
      ]
     },
     "execution_count": 71,
     "metadata": {},
     "output_type": "execute_result"
    }
   ],
   "source": [
    "hpc1_mp_df[:8]"
   ]
  },
  {
   "cell_type": "code",
   "execution_count": 72,
   "metadata": {},
   "outputs": [
    {
     "data": {
      "text/plain": [
       "7.05281662940979"
      ]
     },
     "execution_count": 72,
     "metadata": {},
     "output_type": "execute_result"
    }
   ],
   "source": [
    "hpc1_mp_df[:8][\"Time\"].sum()"
   ]
  },
  {
   "cell_type": "markdown",
   "metadata": {},
   "source": [
    "## RetrieveTime duration"
   ]
  },
  {
   "cell_type": "code",
   "execution_count": 73,
   "metadata": {},
   "outputs": [],
   "source": [
    "def get_coord_retrieve_duration(coord_df, worker_id):\n",
    "    coord_event_df = coord_df[coord_df[\"EventType\"].str.contains(\"RetrieveTime\", regex=False)]\n",
    "    coord_event_df = coord_event_df[coord_event_df[\"ID\"] == worker_id]\n",
    "    coord_event_df = coord_event_df.reset_index()\n",
    "    \n",
    "    del coord_event_df['index']\n",
    "    \n",
    "    return coord_event_df"
   ]
  },
  {
   "cell_type": "code",
   "execution_count": 74,
   "metadata": {},
   "outputs": [],
   "source": [
    "hpc1_ret_df = get_coord_retrieve_duration(coord_df, \"alice\")"
   ]
  },
  {
   "cell_type": "code",
   "execution_count": 75,
   "metadata": {},
   "outputs": [],
   "source": [
    "hpc2_ret_df = get_coord_retrieve_duration(coord_df, \"bob\")"
   ]
  },
  {
   "cell_type": "code",
   "execution_count": 76,
   "metadata": {},
   "outputs": [],
   "source": [
    "hpc3_ret_df = get_coord_retrieve_duration(coord_df, \"charlie\")"
   ]
  },
  {
   "cell_type": "code",
   "execution_count": 77,
   "metadata": {},
   "outputs": [
    {
     "data": {
      "text/plain": [
       "0.021232306957244873"
      ]
     },
     "execution_count": 77,
     "metadata": {},
     "output_type": "execute_result"
    }
   ],
   "source": [
    "hpc1_ret_df[\"Time\"][1:].mean()"
   ]
  },
  {
   "cell_type": "code",
   "execution_count": 78,
   "metadata": {},
   "outputs": [
    {
     "data": {
      "text/plain": [
       "0.019333517551422118"
      ]
     },
     "execution_count": 78,
     "metadata": {},
     "output_type": "execute_result"
    }
   ],
   "source": [
    "hpc2_ret_df[\"Time\"][1:].mean()"
   ]
  },
  {
   "cell_type": "code",
   "execution_count": 79,
   "metadata": {},
   "outputs": [
    {
     "data": {
      "text/plain": [
       "1.0614069104194641"
      ]
     },
     "execution_count": 79,
     "metadata": {},
     "output_type": "execute_result"
    }
   ],
   "source": [
    "hpc3_ret_df[\"Time\"][1:].mean()"
   ]
  },
  {
   "cell_type": "markdown",
   "metadata": {},
   "source": [
    "## ShareSend Duration"
   ]
  },
  {
   "cell_type": "code",
   "execution_count": 80,
   "metadata": {},
   "outputs": [],
   "source": [
    "def calculate_share_send_duration(worker_id, worker_dfs, nr_parameters):\n",
    "    worker_df = worker_dfs[worker_id]\n",
    "    worker_send_share_df = worker_df[worker_df[\"EventType\"].str.contains('SendShare', regex=False)]\n",
    "    \n",
    "    worker_send_share_start_df = worker_send_share_df[worker_send_share_df[\"EventState\"] == 'start']\n",
    "    worker_send_share_start_df = worker_send_share_start_df.reset_index()\n",
    "    worker_send_share_start_df = worker_send_share_start_df[[\"WorkerID\", \"EventType\", \"ID\", \"Time\"]]\n",
    "    worker_send_share_start_df.columns = [\"WorkerID\", \"EventType\", \"ID\", \"StartTime\"]\n",
    "    \n",
    "    worker_send_share_end_df = worker_send_share_df[worker_send_share_df[\"EventState\"] == 'end']\n",
    "    worker_send_share_end_df = worker_send_share_end_df.reset_index()\n",
    "    \n",
    "    send_share_df_cat = pd.concat([worker_send_share_start_df, worker_send_share_end_df[\"Time\"]], axis=1)\n",
    "    send_share_df_cat.columns = [\"WorkerID\", \"EventType\", \"ID\", \"StartTime\", \"EndTime\"]\n",
    "    send_share_df_cat[\"Duration\"] = send_share_df_cat.apply(lambda x: x[\"EndTime\"] - x[\"StartTime\"], axis=1)\n",
    "    \n",
    "    parameter_index = []\n",
    "    nr_worker = len(worker_dfs)\n",
    "    p_index = -1\n",
    "\n",
    "    for i in range(len(send_share_df_cat)):\n",
    "        tmp_index = (i%nr_worker)\n",
    "        if tmp_index == 0:\n",
    "            p_index += 1\n",
    "            p_index = p_index % nr_parameters\n",
    "        parameter_index.append(p_index)\n",
    "        \n",
    "    send_share_df_cat.insert(2, \"p_idx\", parameter_index)\n",
    "    obj_id_list = send_share_df_cat.apply(lambda x: x[\"EventType\"].split(\"_\")[1], axis=1)\n",
    "    send_share_df_cat.insert(2, \"obj_id\", obj_id_list)\n",
    "    \n",
    "    del send_share_df_cat[\"EventType\"]\n",
    "    send_share_df_cat.insert(1, \"EventType\", \"SendShare\")\n",
    "    \n",
    "    return send_share_df_cat\n"
   ]
  },
  {
   "cell_type": "code",
   "execution_count": 81,
   "metadata": {},
   "outputs": [],
   "source": [
    "alice_send_share_df_cat = calculate_share_send_duration(\"alice\", worker_dfs, 8)\n",
    "bob_send_share_df_cat = calculate_share_send_duration(\"bob\", worker_dfs, 8)\n",
    "charlie_send_share_df_cat = calculate_share_send_duration(\"charlie\", worker_dfs, 8)"
   ]
  },
  {
   "cell_type": "code",
   "execution_count": 82,
   "metadata": {},
   "outputs": [
    {
     "data": {
      "text/html": [
       "<div>\n",
       "<style scoped>\n",
       "    .dataframe tbody tr th:only-of-type {\n",
       "        vertical-align: middle;\n",
       "    }\n",
       "\n",
       "    .dataframe tbody tr th {\n",
       "        vertical-align: top;\n",
       "    }\n",
       "\n",
       "    .dataframe thead th {\n",
       "        text-align: right;\n",
       "    }\n",
       "</style>\n",
       "<table border=\"1\" class=\"dataframe\">\n",
       "  <thead>\n",
       "    <tr style=\"text-align: right;\">\n",
       "      <th></th>\n",
       "      <th>WorkerID</th>\n",
       "      <th>EventType</th>\n",
       "      <th>obj_id</th>\n",
       "      <th>p_idx</th>\n",
       "      <th>ID</th>\n",
       "      <th>StartTime</th>\n",
       "      <th>EndTime</th>\n",
       "      <th>Duration</th>\n",
       "    </tr>\n",
       "  </thead>\n",
       "  <tbody>\n",
       "    <tr>\n",
       "      <th>0</th>\n",
       "      <td>alice</td>\n",
       "      <td>SendShare</td>\n",
       "      <td>81726484208</td>\n",
       "      <td>0</td>\n",
       "      <td>alice</td>\n",
       "      <td>1.600989e+09</td>\n",
       "      <td>1.600989e+09</td>\n",
       "      <td>0.001325</td>\n",
       "    </tr>\n",
       "    <tr>\n",
       "      <th>1</th>\n",
       "      <td>alice</td>\n",
       "      <td>SendShare</td>\n",
       "      <td>7021502281</td>\n",
       "      <td>0</td>\n",
       "      <td>bob</td>\n",
       "      <td>1.600989e+09</td>\n",
       "      <td>1.600989e+09</td>\n",
       "      <td>0.004389</td>\n",
       "    </tr>\n",
       "    <tr>\n",
       "      <th>2</th>\n",
       "      <td>alice</td>\n",
       "      <td>SendShare</td>\n",
       "      <td>21102619797</td>\n",
       "      <td>0</td>\n",
       "      <td>charlie</td>\n",
       "      <td>1.600989e+09</td>\n",
       "      <td>1.600989e+09</td>\n",
       "      <td>0.003375</td>\n",
       "    </tr>\n",
       "    <tr>\n",
       "      <th>3</th>\n",
       "      <td>alice</td>\n",
       "      <td>SendShare</td>\n",
       "      <td>47368133411</td>\n",
       "      <td>1</td>\n",
       "      <td>alice</td>\n",
       "      <td>1.600989e+09</td>\n",
       "      <td>1.600989e+09</td>\n",
       "      <td>0.000543</td>\n",
       "    </tr>\n",
       "    <tr>\n",
       "      <th>4</th>\n",
       "      <td>alice</td>\n",
       "      <td>SendShare</td>\n",
       "      <td>42225915484</td>\n",
       "      <td>1</td>\n",
       "      <td>bob</td>\n",
       "      <td>1.600989e+09</td>\n",
       "      <td>1.600989e+09</td>\n",
       "      <td>0.001389</td>\n",
       "    </tr>\n",
       "    <tr>\n",
       "      <th>...</th>\n",
       "      <td>...</td>\n",
       "      <td>...</td>\n",
       "      <td>...</td>\n",
       "      <td>...</td>\n",
       "      <td>...</td>\n",
       "      <td>...</td>\n",
       "      <td>...</td>\n",
       "      <td>...</td>\n",
       "    </tr>\n",
       "    <tr>\n",
       "      <th>625</th>\n",
       "      <td>alice</td>\n",
       "      <td>SendShare</td>\n",
       "      <td>64725182585</td>\n",
       "      <td>0</td>\n",
       "      <td>bob</td>\n",
       "      <td>1.600993e+09</td>\n",
       "      <td>1.600993e+09</td>\n",
       "      <td>0.010800</td>\n",
       "    </tr>\n",
       "    <tr>\n",
       "      <th>626</th>\n",
       "      <td>alice</td>\n",
       "      <td>SendShare</td>\n",
       "      <td>47839148087</td>\n",
       "      <td>0</td>\n",
       "      <td>charlie</td>\n",
       "      <td>1.600993e+09</td>\n",
       "      <td>1.600993e+09</td>\n",
       "      <td>0.012750</td>\n",
       "    </tr>\n",
       "    <tr>\n",
       "      <th>627</th>\n",
       "      <td>alice</td>\n",
       "      <td>SendShare</td>\n",
       "      <td>30827963345</td>\n",
       "      <td>1</td>\n",
       "      <td>alice</td>\n",
       "      <td>1.600993e+09</td>\n",
       "      <td>1.600993e+09</td>\n",
       "      <td>0.000837</td>\n",
       "    </tr>\n",
       "    <tr>\n",
       "      <th>628</th>\n",
       "      <td>alice</td>\n",
       "      <td>SendShare</td>\n",
       "      <td>35995450102</td>\n",
       "      <td>1</td>\n",
       "      <td>bob</td>\n",
       "      <td>1.600993e+09</td>\n",
       "      <td>1.600993e+09</td>\n",
       "      <td>0.012508</td>\n",
       "    </tr>\n",
       "    <tr>\n",
       "      <th>629</th>\n",
       "      <td>alice</td>\n",
       "      <td>SendShare</td>\n",
       "      <td>67669241132</td>\n",
       "      <td>1</td>\n",
       "      <td>charlie</td>\n",
       "      <td>1.600993e+09</td>\n",
       "      <td>1.600993e+09</td>\n",
       "      <td>0.001668</td>\n",
       "    </tr>\n",
       "  </tbody>\n",
       "</table>\n",
       "<p>630 rows × 8 columns</p>\n",
       "</div>"
      ],
      "text/plain": [
       "    WorkerID  EventType       obj_id  p_idx       ID     StartTime  \\\n",
       "0      alice  SendShare  81726484208      0    alice  1.600989e+09   \n",
       "1      alice  SendShare   7021502281      0      bob  1.600989e+09   \n",
       "2      alice  SendShare  21102619797      0  charlie  1.600989e+09   \n",
       "3      alice  SendShare  47368133411      1    alice  1.600989e+09   \n",
       "4      alice  SendShare  42225915484      1      bob  1.600989e+09   \n",
       "..       ...        ...          ...    ...      ...           ...   \n",
       "625    alice  SendShare  64725182585      0      bob  1.600993e+09   \n",
       "626    alice  SendShare  47839148087      0  charlie  1.600993e+09   \n",
       "627    alice  SendShare  30827963345      1    alice  1.600993e+09   \n",
       "628    alice  SendShare  35995450102      1      bob  1.600993e+09   \n",
       "629    alice  SendShare  67669241132      1  charlie  1.600993e+09   \n",
       "\n",
       "          EndTime  Duration  \n",
       "0    1.600989e+09  0.001325  \n",
       "1    1.600989e+09  0.004389  \n",
       "2    1.600989e+09  0.003375  \n",
       "3    1.600989e+09  0.000543  \n",
       "4    1.600989e+09  0.001389  \n",
       "..            ...       ...  \n",
       "625  1.600993e+09  0.010800  \n",
       "626  1.600993e+09  0.012750  \n",
       "627  1.600993e+09  0.000837  \n",
       "628  1.600993e+09  0.012508  \n",
       "629  1.600993e+09  0.001668  \n",
       "\n",
       "[630 rows x 8 columns]"
      ]
     },
     "execution_count": 82,
     "metadata": {},
     "output_type": "execute_result"
    }
   ],
   "source": [
    "alice_send_share_df_cat"
   ]
  },
  {
   "cell_type": "code",
   "execution_count": 83,
   "metadata": {},
   "outputs": [
    {
     "data": {
      "text/html": [
       "<div>\n",
       "<style scoped>\n",
       "    .dataframe tbody tr th:only-of-type {\n",
       "        vertical-align: middle;\n",
       "    }\n",
       "\n",
       "    .dataframe tbody tr th {\n",
       "        vertical-align: top;\n",
       "    }\n",
       "\n",
       "    .dataframe thead th {\n",
       "        text-align: right;\n",
       "    }\n",
       "</style>\n",
       "<table border=\"1\" class=\"dataframe\">\n",
       "  <thead>\n",
       "    <tr style=\"text-align: right;\">\n",
       "      <th></th>\n",
       "      <th>WorkerID</th>\n",
       "      <th>EventType</th>\n",
       "      <th>obj_id</th>\n",
       "      <th>p_idx</th>\n",
       "      <th>ID</th>\n",
       "      <th>StartTime</th>\n",
       "      <th>EndTime</th>\n",
       "      <th>Duration</th>\n",
       "    </tr>\n",
       "  </thead>\n",
       "  <tbody>\n",
       "    <tr>\n",
       "      <th>0</th>\n",
       "      <td>bob</td>\n",
       "      <td>SendShare</td>\n",
       "      <td>86966281982</td>\n",
       "      <td>0</td>\n",
       "      <td>alice</td>\n",
       "      <td>1.600989e+09</td>\n",
       "      <td>1.600989e+09</td>\n",
       "      <td>14.264601</td>\n",
       "    </tr>\n",
       "    <tr>\n",
       "      <th>1</th>\n",
       "      <td>bob</td>\n",
       "      <td>SendShare</td>\n",
       "      <td>92796097644</td>\n",
       "      <td>0</td>\n",
       "      <td>bob</td>\n",
       "      <td>1.600989e+09</td>\n",
       "      <td>1.600989e+09</td>\n",
       "      <td>0.001018</td>\n",
       "    </tr>\n",
       "    <tr>\n",
       "      <th>2</th>\n",
       "      <td>bob</td>\n",
       "      <td>SendShare</td>\n",
       "      <td>47884369046</td>\n",
       "      <td>0</td>\n",
       "      <td>charlie</td>\n",
       "      <td>1.600989e+09</td>\n",
       "      <td>1.600989e+09</td>\n",
       "      <td>0.004379</td>\n",
       "    </tr>\n",
       "    <tr>\n",
       "      <th>3</th>\n",
       "      <td>bob</td>\n",
       "      <td>SendShare</td>\n",
       "      <td>15245692783</td>\n",
       "      <td>1</td>\n",
       "      <td>alice</td>\n",
       "      <td>1.600989e+09</td>\n",
       "      <td>1.600989e+09</td>\n",
       "      <td>0.001692</td>\n",
       "    </tr>\n",
       "    <tr>\n",
       "      <th>4</th>\n",
       "      <td>bob</td>\n",
       "      <td>SendShare</td>\n",
       "      <td>35723609579</td>\n",
       "      <td>1</td>\n",
       "      <td>bob</td>\n",
       "      <td>1.600989e+09</td>\n",
       "      <td>1.600989e+09</td>\n",
       "      <td>0.000601</td>\n",
       "    </tr>\n",
       "    <tr>\n",
       "      <th>...</th>\n",
       "      <td>...</td>\n",
       "      <td>...</td>\n",
       "      <td>...</td>\n",
       "      <td>...</td>\n",
       "      <td>...</td>\n",
       "      <td>...</td>\n",
       "      <td>...</td>\n",
       "      <td>...</td>\n",
       "    </tr>\n",
       "    <tr>\n",
       "      <th>625</th>\n",
       "      <td>bob</td>\n",
       "      <td>SendShare</td>\n",
       "      <td>74539441363</td>\n",
       "      <td>0</td>\n",
       "      <td>bob</td>\n",
       "      <td>1.600993e+09</td>\n",
       "      <td>1.600993e+09</td>\n",
       "      <td>0.000688</td>\n",
       "    </tr>\n",
       "    <tr>\n",
       "      <th>626</th>\n",
       "      <td>bob</td>\n",
       "      <td>SendShare</td>\n",
       "      <td>59367873517</td>\n",
       "      <td>0</td>\n",
       "      <td>charlie</td>\n",
       "      <td>1.600993e+09</td>\n",
       "      <td>1.600993e+09</td>\n",
       "      <td>0.014472</td>\n",
       "    </tr>\n",
       "    <tr>\n",
       "      <th>627</th>\n",
       "      <td>bob</td>\n",
       "      <td>SendShare</td>\n",
       "      <td>10555305712</td>\n",
       "      <td>1</td>\n",
       "      <td>alice</td>\n",
       "      <td>1.600993e+09</td>\n",
       "      <td>1.600993e+09</td>\n",
       "      <td>0.001903</td>\n",
       "    </tr>\n",
       "    <tr>\n",
       "      <th>628</th>\n",
       "      <td>bob</td>\n",
       "      <td>SendShare</td>\n",
       "      <td>99926598382</td>\n",
       "      <td>1</td>\n",
       "      <td>bob</td>\n",
       "      <td>1.600993e+09</td>\n",
       "      <td>1.600993e+09</td>\n",
       "      <td>0.000851</td>\n",
       "    </tr>\n",
       "    <tr>\n",
       "      <th>629</th>\n",
       "      <td>bob</td>\n",
       "      <td>SendShare</td>\n",
       "      <td>66240942752</td>\n",
       "      <td>1</td>\n",
       "      <td>charlie</td>\n",
       "      <td>1.600993e+09</td>\n",
       "      <td>1.600993e+09</td>\n",
       "      <td>0.001594</td>\n",
       "    </tr>\n",
       "  </tbody>\n",
       "</table>\n",
       "<p>630 rows × 8 columns</p>\n",
       "</div>"
      ],
      "text/plain": [
       "    WorkerID  EventType       obj_id  p_idx       ID     StartTime  \\\n",
       "0        bob  SendShare  86966281982      0    alice  1.600989e+09   \n",
       "1        bob  SendShare  92796097644      0      bob  1.600989e+09   \n",
       "2        bob  SendShare  47884369046      0  charlie  1.600989e+09   \n",
       "3        bob  SendShare  15245692783      1    alice  1.600989e+09   \n",
       "4        bob  SendShare  35723609579      1      bob  1.600989e+09   \n",
       "..       ...        ...          ...    ...      ...           ...   \n",
       "625      bob  SendShare  74539441363      0      bob  1.600993e+09   \n",
       "626      bob  SendShare  59367873517      0  charlie  1.600993e+09   \n",
       "627      bob  SendShare  10555305712      1    alice  1.600993e+09   \n",
       "628      bob  SendShare  99926598382      1      bob  1.600993e+09   \n",
       "629      bob  SendShare  66240942752      1  charlie  1.600993e+09   \n",
       "\n",
       "          EndTime   Duration  \n",
       "0    1.600989e+09  14.264601  \n",
       "1    1.600989e+09   0.001018  \n",
       "2    1.600989e+09   0.004379  \n",
       "3    1.600989e+09   0.001692  \n",
       "4    1.600989e+09   0.000601  \n",
       "..            ...        ...  \n",
       "625  1.600993e+09   0.000688  \n",
       "626  1.600993e+09   0.014472  \n",
       "627  1.600993e+09   0.001903  \n",
       "628  1.600993e+09   0.000851  \n",
       "629  1.600993e+09   0.001594  \n",
       "\n",
       "[630 rows x 8 columns]"
      ]
     },
     "execution_count": 83,
     "metadata": {},
     "output_type": "execute_result"
    }
   ],
   "source": [
    "bob_send_share_df_cat"
   ]
  },
  {
   "cell_type": "code",
   "execution_count": 84,
   "metadata": {},
   "outputs": [
    {
     "data": {
      "text/html": [
       "<div>\n",
       "<style scoped>\n",
       "    .dataframe tbody tr th:only-of-type {\n",
       "        vertical-align: middle;\n",
       "    }\n",
       "\n",
       "    .dataframe tbody tr th {\n",
       "        vertical-align: top;\n",
       "    }\n",
       "\n",
       "    .dataframe thead th {\n",
       "        text-align: right;\n",
       "    }\n",
       "</style>\n",
       "<table border=\"1\" class=\"dataframe\">\n",
       "  <thead>\n",
       "    <tr style=\"text-align: right;\">\n",
       "      <th></th>\n",
       "      <th>WorkerID</th>\n",
       "      <th>EventType</th>\n",
       "      <th>obj_id</th>\n",
       "      <th>p_idx</th>\n",
       "      <th>ID</th>\n",
       "      <th>StartTime</th>\n",
       "      <th>EndTime</th>\n",
       "      <th>Duration</th>\n",
       "    </tr>\n",
       "  </thead>\n",
       "  <tbody>\n",
       "    <tr>\n",
       "      <th>0</th>\n",
       "      <td>charlie</td>\n",
       "      <td>SendShare</td>\n",
       "      <td>58572881221</td>\n",
       "      <td>0</td>\n",
       "      <td>alice</td>\n",
       "      <td>1.600989e+09</td>\n",
       "      <td>1.600989e+09</td>\n",
       "      <td>12.746826</td>\n",
       "    </tr>\n",
       "    <tr>\n",
       "      <th>1</th>\n",
       "      <td>charlie</td>\n",
       "      <td>SendShare</td>\n",
       "      <td>19472077688</td>\n",
       "      <td>0</td>\n",
       "      <td>bob</td>\n",
       "      <td>1.600989e+09</td>\n",
       "      <td>1.600989e+09</td>\n",
       "      <td>0.004589</td>\n",
       "    </tr>\n",
       "    <tr>\n",
       "      <th>2</th>\n",
       "      <td>charlie</td>\n",
       "      <td>SendShare</td>\n",
       "      <td>10945524671</td>\n",
       "      <td>0</td>\n",
       "      <td>charlie</td>\n",
       "      <td>1.600989e+09</td>\n",
       "      <td>1.600989e+09</td>\n",
       "      <td>0.001003</td>\n",
       "    </tr>\n",
       "    <tr>\n",
       "      <th>3</th>\n",
       "      <td>charlie</td>\n",
       "      <td>SendShare</td>\n",
       "      <td>6105564876</td>\n",
       "      <td>1</td>\n",
       "      <td>alice</td>\n",
       "      <td>1.600989e+09</td>\n",
       "      <td>1.600989e+09</td>\n",
       "      <td>0.001767</td>\n",
       "    </tr>\n",
       "    <tr>\n",
       "      <th>4</th>\n",
       "      <td>charlie</td>\n",
       "      <td>SendShare</td>\n",
       "      <td>39157060471</td>\n",
       "      <td>1</td>\n",
       "      <td>bob</td>\n",
       "      <td>1.600989e+09</td>\n",
       "      <td>1.600989e+09</td>\n",
       "      <td>0.001618</td>\n",
       "    </tr>\n",
       "    <tr>\n",
       "      <th>...</th>\n",
       "      <td>...</td>\n",
       "      <td>...</td>\n",
       "      <td>...</td>\n",
       "      <td>...</td>\n",
       "      <td>...</td>\n",
       "      <td>...</td>\n",
       "      <td>...</td>\n",
       "      <td>...</td>\n",
       "    </tr>\n",
       "    <tr>\n",
       "      <th>625</th>\n",
       "      <td>charlie</td>\n",
       "      <td>SendShare</td>\n",
       "      <td>27670397130</td>\n",
       "      <td>0</td>\n",
       "      <td>bob</td>\n",
       "      <td>1.600993e+09</td>\n",
       "      <td>1.600993e+09</td>\n",
       "      <td>0.014488</td>\n",
       "    </tr>\n",
       "    <tr>\n",
       "      <th>626</th>\n",
       "      <td>charlie</td>\n",
       "      <td>SendShare</td>\n",
       "      <td>49790727356</td>\n",
       "      <td>0</td>\n",
       "      <td>charlie</td>\n",
       "      <td>1.600993e+09</td>\n",
       "      <td>1.600993e+09</td>\n",
       "      <td>0.000716</td>\n",
       "    </tr>\n",
       "    <tr>\n",
       "      <th>627</th>\n",
       "      <td>charlie</td>\n",
       "      <td>SendShare</td>\n",
       "      <td>5909691836</td>\n",
       "      <td>1</td>\n",
       "      <td>alice</td>\n",
       "      <td>1.600993e+09</td>\n",
       "      <td>1.600993e+09</td>\n",
       "      <td>0.001620</td>\n",
       "    </tr>\n",
       "    <tr>\n",
       "      <th>628</th>\n",
       "      <td>charlie</td>\n",
       "      <td>SendShare</td>\n",
       "      <td>94685771184</td>\n",
       "      <td>1</td>\n",
       "      <td>bob</td>\n",
       "      <td>1.600993e+09</td>\n",
       "      <td>1.600993e+09</td>\n",
       "      <td>10.437300</td>\n",
       "    </tr>\n",
       "    <tr>\n",
       "      <th>629</th>\n",
       "      <td>charlie</td>\n",
       "      <td>SendShare</td>\n",
       "      <td>5575145291</td>\n",
       "      <td>1</td>\n",
       "      <td>charlie</td>\n",
       "      <td>1.600993e+09</td>\n",
       "      <td>1.600993e+09</td>\n",
       "      <td>0.000519</td>\n",
       "    </tr>\n",
       "  </tbody>\n",
       "</table>\n",
       "<p>630 rows × 8 columns</p>\n",
       "</div>"
      ],
      "text/plain": [
       "    WorkerID  EventType       obj_id  p_idx       ID     StartTime  \\\n",
       "0    charlie  SendShare  58572881221      0    alice  1.600989e+09   \n",
       "1    charlie  SendShare  19472077688      0      bob  1.600989e+09   \n",
       "2    charlie  SendShare  10945524671      0  charlie  1.600989e+09   \n",
       "3    charlie  SendShare   6105564876      1    alice  1.600989e+09   \n",
       "4    charlie  SendShare  39157060471      1      bob  1.600989e+09   \n",
       "..       ...        ...          ...    ...      ...           ...   \n",
       "625  charlie  SendShare  27670397130      0      bob  1.600993e+09   \n",
       "626  charlie  SendShare  49790727356      0  charlie  1.600993e+09   \n",
       "627  charlie  SendShare   5909691836      1    alice  1.600993e+09   \n",
       "628  charlie  SendShare  94685771184      1      bob  1.600993e+09   \n",
       "629  charlie  SendShare   5575145291      1  charlie  1.600993e+09   \n",
       "\n",
       "          EndTime   Duration  \n",
       "0    1.600989e+09  12.746826  \n",
       "1    1.600989e+09   0.004589  \n",
       "2    1.600989e+09   0.001003  \n",
       "3    1.600989e+09   0.001767  \n",
       "4    1.600989e+09   0.001618  \n",
       "..            ...        ...  \n",
       "625  1.600993e+09   0.014488  \n",
       "626  1.600993e+09   0.000716  \n",
       "627  1.600993e+09   0.001620  \n",
       "628  1.600993e+09  10.437300  \n",
       "629  1.600993e+09   0.000519  \n",
       "\n",
       "[630 rows x 8 columns]"
      ]
     },
     "execution_count": 84,
     "metadata": {},
     "output_type": "execute_result"
    }
   ],
   "source": [
    "charlie_send_share_df_cat"
   ]
  },
  {
   "cell_type": "markdown",
   "metadata": {},
   "source": [
    "## ShareSend Send Time"
   ]
  },
  {
   "cell_type": "code",
   "execution_count": 85,
   "metadata": {},
   "outputs": [],
   "source": [
    "def calculate_share_send_time(sender_id, receiver_id, worker_dfs, nr_parameter):\n",
    "    sender_df = worker_dfs[sender_id]\n",
    "    receiver_df = worker_dfs[receiver_id]\n",
    "    \n",
    "    sender_send_share_df = sender_df[sender_df[\"EventType\"].str.contains('SendShare', regex=False)]\n",
    "    receiver_get_share_df = receiver_df[receiver_df[\"EventType\"].str.contains('GetShare', regex=False)]\n",
    "    \n",
    "    send_share_start_df = sender_send_share_df[(sender_send_share_df[\"ID\"] == receiver_id) & (sender_send_share_df[\"EventState\"] == 'start')]\n",
    "    get_share_df = receiver_get_share_df[receiver_get_share_df[\"ID\"] == sender_id]\n",
    "    send_share_start_df = send_share_start_df.reset_index()\n",
    "    get_share_df = get_share_df.reset_index()\n",
    "    \n",
    "    del send_share_start_df['index']\n",
    "    del send_share_start_df['EventState']\n",
    "    \n",
    "    send_time_df = pd.concat([send_share_start_df, get_share_df[\"Time\"]], axis=1)\n",
    "    send_time_df.columns = [\"WorkerID\", \"EventType\", \"ID\", \"StartTime\", \"RecvTime\"]\n",
    "    send_time_df[\"SendTime\"] = send_time_df.apply(lambda x: x[\"RecvTime\"] - x[\"StartTime\"], axis=1)\n",
    "    \n",
    "    nr_parameter = 8\n",
    "    parameter_index = []\n",
    "\n",
    "    for i in range(len(send_time_df)):\n",
    "        tmp_index = (i%nr_parameter)\n",
    "        parameter_index.append(tmp_index)\n",
    "        \n",
    "    send_time_df.insert(2, \"p_idx\", parameter_index)\n",
    "    \n",
    "    obj_id_list = send_time_df.apply(lambda x: x[\"EventType\"].split(\"_\")[1], axis=1)\n",
    "    send_time_df.insert(2, \"obj_id\", obj_id_list)\n",
    "    \n",
    "    del send_time_df[\"EventType\"]\n",
    "    send_time_df.insert(1, \"EventType\", \"SendShare\")\n",
    "    \n",
    "    return send_time_df"
   ]
  },
  {
   "cell_type": "code",
   "execution_count": 86,
   "metadata": {},
   "outputs": [],
   "source": [
    "send_time_df = calculate_share_send_time(\"alice\", \"bob\", worker_dfs, 8)"
   ]
  },
  {
   "cell_type": "code",
   "execution_count": 87,
   "metadata": {},
   "outputs": [
    {
     "data": {
      "text/html": [
       "<div>\n",
       "<style scoped>\n",
       "    .dataframe tbody tr th:only-of-type {\n",
       "        vertical-align: middle;\n",
       "    }\n",
       "\n",
       "    .dataframe tbody tr th {\n",
       "        vertical-align: top;\n",
       "    }\n",
       "\n",
       "    .dataframe thead th {\n",
       "        text-align: right;\n",
       "    }\n",
       "</style>\n",
       "<table border=\"1\" class=\"dataframe\">\n",
       "  <thead>\n",
       "    <tr style=\"text-align: right;\">\n",
       "      <th></th>\n",
       "      <th>WorkerID</th>\n",
       "      <th>EventType</th>\n",
       "      <th>obj_id</th>\n",
       "      <th>p_idx</th>\n",
       "      <th>ID</th>\n",
       "      <th>StartTime</th>\n",
       "      <th>RecvTime</th>\n",
       "      <th>SendTime</th>\n",
       "    </tr>\n",
       "  </thead>\n",
       "  <tbody>\n",
       "    <tr>\n",
       "      <th>0</th>\n",
       "      <td>alice</td>\n",
       "      <td>SendShare</td>\n",
       "      <td>7021502281</td>\n",
       "      <td>0</td>\n",
       "      <td>bob</td>\n",
       "      <td>1.600989e+09</td>\n",
       "      <td>1.600989e+09</td>\n",
       "      <td>0.002271</td>\n",
       "    </tr>\n",
       "    <tr>\n",
       "      <th>1</th>\n",
       "      <td>alice</td>\n",
       "      <td>SendShare</td>\n",
       "      <td>42225915484</td>\n",
       "      <td>1</td>\n",
       "      <td>bob</td>\n",
       "      <td>1.600989e+09</td>\n",
       "      <td>1.600989e+09</td>\n",
       "      <td>0.000004</td>\n",
       "    </tr>\n",
       "    <tr>\n",
       "      <th>2</th>\n",
       "      <td>alice</td>\n",
       "      <td>SendShare</td>\n",
       "      <td>95246673600</td>\n",
       "      <td>2</td>\n",
       "      <td>bob</td>\n",
       "      <td>1.600989e+09</td>\n",
       "      <td>1.600989e+09</td>\n",
       "      <td>0.046076</td>\n",
       "    </tr>\n",
       "    <tr>\n",
       "      <th>3</th>\n",
       "      <td>alice</td>\n",
       "      <td>SendShare</td>\n",
       "      <td>1788088392</td>\n",
       "      <td>3</td>\n",
       "      <td>bob</td>\n",
       "      <td>1.600989e+09</td>\n",
       "      <td>1.600989e+09</td>\n",
       "      <td>0.000487</td>\n",
       "    </tr>\n",
       "    <tr>\n",
       "      <th>4</th>\n",
       "      <td>alice</td>\n",
       "      <td>SendShare</td>\n",
       "      <td>9764687758</td>\n",
       "      <td>4</td>\n",
       "      <td>bob</td>\n",
       "      <td>1.600989e+09</td>\n",
       "      <td>1.600989e+09</td>\n",
       "      <td>19.329998</td>\n",
       "    </tr>\n",
       "    <tr>\n",
       "      <th>...</th>\n",
       "      <td>...</td>\n",
       "      <td>...</td>\n",
       "      <td>...</td>\n",
       "      <td>...</td>\n",
       "      <td>...</td>\n",
       "      <td>...</td>\n",
       "      <td>...</td>\n",
       "      <td>...</td>\n",
       "    </tr>\n",
       "    <tr>\n",
       "      <th>205</th>\n",
       "      <td>alice</td>\n",
       "      <td>SendShare</td>\n",
       "      <td>44234087574</td>\n",
       "      <td>5</td>\n",
       "      <td>bob</td>\n",
       "      <td>1.600993e+09</td>\n",
       "      <td>1.600993e+09</td>\n",
       "      <td>0.029216</td>\n",
       "    </tr>\n",
       "    <tr>\n",
       "      <th>206</th>\n",
       "      <td>alice</td>\n",
       "      <td>SendShare</td>\n",
       "      <td>94309519198</td>\n",
       "      <td>6</td>\n",
       "      <td>bob</td>\n",
       "      <td>1.600993e+09</td>\n",
       "      <td>1.600993e+09</td>\n",
       "      <td>11.570052</td>\n",
       "    </tr>\n",
       "    <tr>\n",
       "      <th>207</th>\n",
       "      <td>alice</td>\n",
       "      <td>SendShare</td>\n",
       "      <td>65707164086</td>\n",
       "      <td>7</td>\n",
       "      <td>bob</td>\n",
       "      <td>1.600993e+09</td>\n",
       "      <td>1.600993e+09</td>\n",
       "      <td>1.043782</td>\n",
       "    </tr>\n",
       "    <tr>\n",
       "      <th>208</th>\n",
       "      <td>alice</td>\n",
       "      <td>SendShare</td>\n",
       "      <td>64725182585</td>\n",
       "      <td>0</td>\n",
       "      <td>bob</td>\n",
       "      <td>1.600993e+09</td>\n",
       "      <td>1.600993e+09</td>\n",
       "      <td>0.009126</td>\n",
       "    </tr>\n",
       "    <tr>\n",
       "      <th>209</th>\n",
       "      <td>alice</td>\n",
       "      <td>SendShare</td>\n",
       "      <td>35995450102</td>\n",
       "      <td>1</td>\n",
       "      <td>bob</td>\n",
       "      <td>1.600993e+09</td>\n",
       "      <td>1.600993e+09</td>\n",
       "      <td>-0.000046</td>\n",
       "    </tr>\n",
       "  </tbody>\n",
       "</table>\n",
       "<p>210 rows × 8 columns</p>\n",
       "</div>"
      ],
      "text/plain": [
       "    WorkerID  EventType       obj_id  p_idx   ID     StartTime      RecvTime  \\\n",
       "0      alice  SendShare   7021502281      0  bob  1.600989e+09  1.600989e+09   \n",
       "1      alice  SendShare  42225915484      1  bob  1.600989e+09  1.600989e+09   \n",
       "2      alice  SendShare  95246673600      2  bob  1.600989e+09  1.600989e+09   \n",
       "3      alice  SendShare   1788088392      3  bob  1.600989e+09  1.600989e+09   \n",
       "4      alice  SendShare   9764687758      4  bob  1.600989e+09  1.600989e+09   \n",
       "..       ...        ...          ...    ...  ...           ...           ...   \n",
       "205    alice  SendShare  44234087574      5  bob  1.600993e+09  1.600993e+09   \n",
       "206    alice  SendShare  94309519198      6  bob  1.600993e+09  1.600993e+09   \n",
       "207    alice  SendShare  65707164086      7  bob  1.600993e+09  1.600993e+09   \n",
       "208    alice  SendShare  64725182585      0  bob  1.600993e+09  1.600993e+09   \n",
       "209    alice  SendShare  35995450102      1  bob  1.600993e+09  1.600993e+09   \n",
       "\n",
       "      SendTime  \n",
       "0     0.002271  \n",
       "1     0.000004  \n",
       "2     0.046076  \n",
       "3     0.000487  \n",
       "4    19.329998  \n",
       "..         ...  \n",
       "205   0.029216  \n",
       "206  11.570052  \n",
       "207   1.043782  \n",
       "208   0.009126  \n",
       "209  -0.000046  \n",
       "\n",
       "[210 rows x 8 columns]"
      ]
     },
     "execution_count": 87,
     "metadata": {},
     "output_type": "execute_result"
    }
   ],
   "source": [
    "send_time_df"
   ]
  },
  {
   "cell_type": "markdown",
   "metadata": {},
   "source": [
    "## AllWorkersTrainingTime Duration"
   ]
  },
  {
   "cell_type": "code",
   "execution_count": 88,
   "metadata": {},
   "outputs": [],
   "source": [
    "coord_awtt_df = get_coord_duration(coord_df, \"AllWorkersTrainingTime\")"
   ]
  },
  {
   "cell_type": "code",
   "execution_count": 89,
   "metadata": {},
   "outputs": [
    {
     "data": {
      "text/plain": [
       "191.40200626850128"
      ]
     },
     "execution_count": 89,
     "metadata": {},
     "output_type": "execute_result"
    }
   ],
   "source": [
    "coord_awtt_df['Time'][1:].mean()"
   ]
  },
  {
   "cell_type": "code",
   "execution_count": 90,
   "metadata": {},
   "outputs": [
    {
     "data": {
      "text/html": [
       "<div>\n",
       "<style scoped>\n",
       "    .dataframe tbody tr th:only-of-type {\n",
       "        vertical-align: middle;\n",
       "    }\n",
       "\n",
       "    .dataframe tbody tr th {\n",
       "        vertical-align: top;\n",
       "    }\n",
       "\n",
       "    .dataframe thead th {\n",
       "        text-align: right;\n",
       "    }\n",
       "</style>\n",
       "<table border=\"1\" class=\"dataframe\">\n",
       "  <thead>\n",
       "    <tr style=\"text-align: right;\">\n",
       "      <th></th>\n",
       "      <th>EventType</th>\n",
       "      <th>EventState</th>\n",
       "      <th>Time</th>\n",
       "    </tr>\n",
       "  </thead>\n",
       "  <tbody>\n",
       "    <tr>\n",
       "      <th>0</th>\n",
       "      <td>AllWorkersTrainingTime</td>\n",
       "      <td>duration</td>\n",
       "      <td>184.972239</td>\n",
       "    </tr>\n",
       "    <tr>\n",
       "      <th>1</th>\n",
       "      <td>AllWorkersTrainingTime</td>\n",
       "      <td>duration</td>\n",
       "      <td>189.774938</td>\n",
       "    </tr>\n",
       "    <tr>\n",
       "      <th>2</th>\n",
       "      <td>AllWorkersTrainingTime</td>\n",
       "      <td>duration</td>\n",
       "      <td>203.889259</td>\n",
       "    </tr>\n",
       "    <tr>\n",
       "      <th>3</th>\n",
       "      <td>AllWorkersTrainingTime</td>\n",
       "      <td>duration</td>\n",
       "      <td>178.882474</td>\n",
       "    </tr>\n",
       "    <tr>\n",
       "      <th>4</th>\n",
       "      <td>AllWorkersTrainingTime</td>\n",
       "      <td>duration</td>\n",
       "      <td>175.176354</td>\n",
       "    </tr>\n",
       "    <tr>\n",
       "      <th>5</th>\n",
       "      <td>AllWorkersTrainingTime</td>\n",
       "      <td>duration</td>\n",
       "      <td>187.177509</td>\n",
       "    </tr>\n",
       "    <tr>\n",
       "      <th>6</th>\n",
       "      <td>AllWorkersTrainingTime</td>\n",
       "      <td>duration</td>\n",
       "      <td>174.767891</td>\n",
       "    </tr>\n",
       "    <tr>\n",
       "      <th>7</th>\n",
       "      <td>AllWorkersTrainingTime</td>\n",
       "      <td>duration</td>\n",
       "      <td>185.905089</td>\n",
       "    </tr>\n",
       "    <tr>\n",
       "      <th>8</th>\n",
       "      <td>AllWorkersTrainingTime</td>\n",
       "      <td>duration</td>\n",
       "      <td>187.546048</td>\n",
       "    </tr>\n",
       "    <tr>\n",
       "      <th>9</th>\n",
       "      <td>AllWorkersTrainingTime</td>\n",
       "      <td>duration</td>\n",
       "      <td>207.651450</td>\n",
       "    </tr>\n",
       "    <tr>\n",
       "      <th>10</th>\n",
       "      <td>AllWorkersTrainingTime</td>\n",
       "      <td>duration</td>\n",
       "      <td>180.563135</td>\n",
       "    </tr>\n",
       "    <tr>\n",
       "      <th>11</th>\n",
       "      <td>AllWorkersTrainingTime</td>\n",
       "      <td>duration</td>\n",
       "      <td>202.380702</td>\n",
       "    </tr>\n",
       "    <tr>\n",
       "      <th>12</th>\n",
       "      <td>AllWorkersTrainingTime</td>\n",
       "      <td>duration</td>\n",
       "      <td>202.778088</td>\n",
       "    </tr>\n",
       "    <tr>\n",
       "      <th>13</th>\n",
       "      <td>AllWorkersTrainingTime</td>\n",
       "      <td>duration</td>\n",
       "      <td>203.561864</td>\n",
       "    </tr>\n",
       "    <tr>\n",
       "      <th>14</th>\n",
       "      <td>AllWorkersTrainingTime</td>\n",
       "      <td>duration</td>\n",
       "      <td>174.689269</td>\n",
       "    </tr>\n",
       "    <tr>\n",
       "      <th>15</th>\n",
       "      <td>AllWorkersTrainingTime</td>\n",
       "      <td>duration</td>\n",
       "      <td>202.622770</td>\n",
       "    </tr>\n",
       "    <tr>\n",
       "      <th>16</th>\n",
       "      <td>AllWorkersTrainingTime</td>\n",
       "      <td>duration</td>\n",
       "      <td>203.059298</td>\n",
       "    </tr>\n",
       "    <tr>\n",
       "      <th>17</th>\n",
       "      <td>AllWorkersTrainingTime</td>\n",
       "      <td>duration</td>\n",
       "      <td>207.306896</td>\n",
       "    </tr>\n",
       "    <tr>\n",
       "      <th>18</th>\n",
       "      <td>AllWorkersTrainingTime</td>\n",
       "      <td>duration</td>\n",
       "      <td>181.115053</td>\n",
       "    </tr>\n",
       "    <tr>\n",
       "      <th>19</th>\n",
       "      <td>AllWorkersTrainingTime</td>\n",
       "      <td>duration</td>\n",
       "      <td>189.007524</td>\n",
       "    </tr>\n",
       "    <tr>\n",
       "      <th>20</th>\n",
       "      <td>AllWorkersTrainingTime</td>\n",
       "      <td>duration</td>\n",
       "      <td>190.184515</td>\n",
       "    </tr>\n",
       "  </tbody>\n",
       "</table>\n",
       "</div>"
      ],
      "text/plain": [
       "                 EventType EventState        Time\n",
       "0   AllWorkersTrainingTime   duration  184.972239\n",
       "1   AllWorkersTrainingTime   duration  189.774938\n",
       "2   AllWorkersTrainingTime   duration  203.889259\n",
       "3   AllWorkersTrainingTime   duration  178.882474\n",
       "4   AllWorkersTrainingTime   duration  175.176354\n",
       "5   AllWorkersTrainingTime   duration  187.177509\n",
       "6   AllWorkersTrainingTime   duration  174.767891\n",
       "7   AllWorkersTrainingTime   duration  185.905089\n",
       "8   AllWorkersTrainingTime   duration  187.546048\n",
       "9   AllWorkersTrainingTime   duration  207.651450\n",
       "10  AllWorkersTrainingTime   duration  180.563135\n",
       "11  AllWorkersTrainingTime   duration  202.380702\n",
       "12  AllWorkersTrainingTime   duration  202.778088\n",
       "13  AllWorkersTrainingTime   duration  203.561864\n",
       "14  AllWorkersTrainingTime   duration  174.689269\n",
       "15  AllWorkersTrainingTime   duration  202.622770\n",
       "16  AllWorkersTrainingTime   duration  203.059298\n",
       "17  AllWorkersTrainingTime   duration  207.306896\n",
       "18  AllWorkersTrainingTime   duration  181.115053\n",
       "19  AllWorkersTrainingTime   duration  189.007524\n",
       "20  AllWorkersTrainingTime   duration  190.184515"
      ]
     },
     "execution_count": 90,
     "metadata": {},
     "output_type": "execute_result"
    }
   ],
   "source": [
    "coord_awtt_df"
   ]
  },
  {
   "cell_type": "markdown",
   "metadata": {},
   "source": [
    "## AggregationTime"
   ]
  },
  {
   "cell_type": "code",
   "execution_count": 91,
   "metadata": {},
   "outputs": [],
   "source": [
    "coord_aggt_df = get_coord_duration(coord_df, \"AggregationTime\")"
   ]
  },
  {
   "cell_type": "code",
   "execution_count": 92,
   "metadata": {},
   "outputs": [
    {
     "data": {
      "text/plain": [
       "0.3642228603363037"
      ]
     },
     "execution_count": 92,
     "metadata": {},
     "output_type": "execute_result"
    }
   ],
   "source": [
    "coord_aggt_df[\"Time\"][1:].mean()"
   ]
  },
  {
   "cell_type": "code",
   "execution_count": 93,
   "metadata": {},
   "outputs": [
    {
     "data": {
      "text/html": [
       "<div>\n",
       "<style scoped>\n",
       "    .dataframe tbody tr th:only-of-type {\n",
       "        vertical-align: middle;\n",
       "    }\n",
       "\n",
       "    .dataframe tbody tr th {\n",
       "        vertical-align: top;\n",
       "    }\n",
       "\n",
       "    .dataframe thead th {\n",
       "        text-align: right;\n",
       "    }\n",
       "</style>\n",
       "<table border=\"1\" class=\"dataframe\">\n",
       "  <thead>\n",
       "    <tr style=\"text-align: right;\">\n",
       "      <th></th>\n",
       "      <th>EventType</th>\n",
       "      <th>EventState</th>\n",
       "      <th>Time</th>\n",
       "    </tr>\n",
       "  </thead>\n",
       "  <tbody>\n",
       "    <tr>\n",
       "      <th>0</th>\n",
       "      <td>AggregationTime</td>\n",
       "      <td>duration</td>\n",
       "      <td>0.348947</td>\n",
       "    </tr>\n",
       "    <tr>\n",
       "      <th>1</th>\n",
       "      <td>AggregationTime</td>\n",
       "      <td>duration</td>\n",
       "      <td>0.372648</td>\n",
       "    </tr>\n",
       "    <tr>\n",
       "      <th>2</th>\n",
       "      <td>AggregationTime</td>\n",
       "      <td>duration</td>\n",
       "      <td>0.366201</td>\n",
       "    </tr>\n",
       "    <tr>\n",
       "      <th>3</th>\n",
       "      <td>AggregationTime</td>\n",
       "      <td>duration</td>\n",
       "      <td>0.359317</td>\n",
       "    </tr>\n",
       "    <tr>\n",
       "      <th>4</th>\n",
       "      <td>AggregationTime</td>\n",
       "      <td>duration</td>\n",
       "      <td>0.357176</td>\n",
       "    </tr>\n",
       "    <tr>\n",
       "      <th>5</th>\n",
       "      <td>AggregationTime</td>\n",
       "      <td>duration</td>\n",
       "      <td>0.364825</td>\n",
       "    </tr>\n",
       "    <tr>\n",
       "      <th>6</th>\n",
       "      <td>AggregationTime</td>\n",
       "      <td>duration</td>\n",
       "      <td>0.365436</td>\n",
       "    </tr>\n",
       "    <tr>\n",
       "      <th>7</th>\n",
       "      <td>AggregationTime</td>\n",
       "      <td>duration</td>\n",
       "      <td>0.366344</td>\n",
       "    </tr>\n",
       "    <tr>\n",
       "      <th>8</th>\n",
       "      <td>AggregationTime</td>\n",
       "      <td>duration</td>\n",
       "      <td>0.364848</td>\n",
       "    </tr>\n",
       "    <tr>\n",
       "      <th>9</th>\n",
       "      <td>AggregationTime</td>\n",
       "      <td>duration</td>\n",
       "      <td>0.376091</td>\n",
       "    </tr>\n",
       "    <tr>\n",
       "      <th>10</th>\n",
       "      <td>AggregationTime</td>\n",
       "      <td>duration</td>\n",
       "      <td>0.348689</td>\n",
       "    </tr>\n",
       "    <tr>\n",
       "      <th>11</th>\n",
       "      <td>AggregationTime</td>\n",
       "      <td>duration</td>\n",
       "      <td>0.352619</td>\n",
       "    </tr>\n",
       "    <tr>\n",
       "      <th>12</th>\n",
       "      <td>AggregationTime</td>\n",
       "      <td>duration</td>\n",
       "      <td>0.361436</td>\n",
       "    </tr>\n",
       "    <tr>\n",
       "      <th>13</th>\n",
       "      <td>AggregationTime</td>\n",
       "      <td>duration</td>\n",
       "      <td>0.366436</td>\n",
       "    </tr>\n",
       "    <tr>\n",
       "      <th>14</th>\n",
       "      <td>AggregationTime</td>\n",
       "      <td>duration</td>\n",
       "      <td>0.360721</td>\n",
       "    </tr>\n",
       "    <tr>\n",
       "      <th>15</th>\n",
       "      <td>AggregationTime</td>\n",
       "      <td>duration</td>\n",
       "      <td>0.375671</td>\n",
       "    </tr>\n",
       "    <tr>\n",
       "      <th>16</th>\n",
       "      <td>AggregationTime</td>\n",
       "      <td>duration</td>\n",
       "      <td>0.366937</td>\n",
       "    </tr>\n",
       "    <tr>\n",
       "      <th>17</th>\n",
       "      <td>AggregationTime</td>\n",
       "      <td>duration</td>\n",
       "      <td>0.367226</td>\n",
       "    </tr>\n",
       "    <tr>\n",
       "      <th>18</th>\n",
       "      <td>AggregationTime</td>\n",
       "      <td>duration</td>\n",
       "      <td>0.355227</td>\n",
       "    </tr>\n",
       "    <tr>\n",
       "      <th>19</th>\n",
       "      <td>AggregationTime</td>\n",
       "      <td>duration</td>\n",
       "      <td>0.371356</td>\n",
       "    </tr>\n",
       "    <tr>\n",
       "      <th>20</th>\n",
       "      <td>AggregationTime</td>\n",
       "      <td>duration</td>\n",
       "      <td>0.365252</td>\n",
       "    </tr>\n",
       "  </tbody>\n",
       "</table>\n",
       "</div>"
      ],
      "text/plain": [
       "          EventType EventState      Time\n",
       "0   AggregationTime   duration  0.348947\n",
       "1   AggregationTime   duration  0.372648\n",
       "2   AggregationTime   duration  0.366201\n",
       "3   AggregationTime   duration  0.359317\n",
       "4   AggregationTime   duration  0.357176\n",
       "5   AggregationTime   duration  0.364825\n",
       "6   AggregationTime   duration  0.365436\n",
       "7   AggregationTime   duration  0.366344\n",
       "8   AggregationTime   duration  0.364848\n",
       "9   AggregationTime   duration  0.376091\n",
       "10  AggregationTime   duration  0.348689\n",
       "11  AggregationTime   duration  0.352619\n",
       "12  AggregationTime   duration  0.361436\n",
       "13  AggregationTime   duration  0.366436\n",
       "14  AggregationTime   duration  0.360721\n",
       "15  AggregationTime   duration  0.375671\n",
       "16  AggregationTime   duration  0.366937\n",
       "17  AggregationTime   duration  0.367226\n",
       "18  AggregationTime   duration  0.355227\n",
       "19  AggregationTime   duration  0.371356\n",
       "20  AggregationTime   duration  0.365252"
      ]
     },
     "execution_count": 93,
     "metadata": {},
     "output_type": "execute_result"
    }
   ],
   "source": [
    "coord_aggt_df"
   ]
  },
  {
   "cell_type": "markdown",
   "metadata": {},
   "source": [
    "## DecryptionTime"
   ]
  },
  {
   "cell_type": "code",
   "execution_count": 94,
   "metadata": {},
   "outputs": [],
   "source": [
    "coord_decrypt_df = get_coord_duration(coord_df, \"DecryptionTime\")"
   ]
  },
  {
   "cell_type": "code",
   "execution_count": 95,
   "metadata": {},
   "outputs": [
    {
     "data": {
      "text/plain": [
       "10.786752891540527"
      ]
     },
     "execution_count": 95,
     "metadata": {},
     "output_type": "execute_result"
    }
   ],
   "source": [
    "coord_decrypt_df['Time'][1:].mean()"
   ]
  },
  {
   "cell_type": "code",
   "execution_count": 96,
   "metadata": {},
   "outputs": [
    {
     "data": {
      "text/html": [
       "<div>\n",
       "<style scoped>\n",
       "    .dataframe tbody tr th:only-of-type {\n",
       "        vertical-align: middle;\n",
       "    }\n",
       "\n",
       "    .dataframe tbody tr th {\n",
       "        vertical-align: top;\n",
       "    }\n",
       "\n",
       "    .dataframe thead th {\n",
       "        text-align: right;\n",
       "    }\n",
       "</style>\n",
       "<table border=\"1\" class=\"dataframe\">\n",
       "  <thead>\n",
       "    <tr style=\"text-align: right;\">\n",
       "      <th></th>\n",
       "      <th>EventType</th>\n",
       "      <th>EventState</th>\n",
       "      <th>Time</th>\n",
       "    </tr>\n",
       "  </thead>\n",
       "  <tbody>\n",
       "    <tr>\n",
       "      <th>0</th>\n",
       "      <td>DecryptionTime</td>\n",
       "      <td>duration</td>\n",
       "      <td>10.622688</td>\n",
       "    </tr>\n",
       "    <tr>\n",
       "      <th>1</th>\n",
       "      <td>DecryptionTime</td>\n",
       "      <td>duration</td>\n",
       "      <td>10.801486</td>\n",
       "    </tr>\n",
       "    <tr>\n",
       "      <th>2</th>\n",
       "      <td>DecryptionTime</td>\n",
       "      <td>duration</td>\n",
       "      <td>10.770778</td>\n",
       "    </tr>\n",
       "    <tr>\n",
       "      <th>3</th>\n",
       "      <td>DecryptionTime</td>\n",
       "      <td>duration</td>\n",
       "      <td>10.795599</td>\n",
       "    </tr>\n",
       "    <tr>\n",
       "      <th>4</th>\n",
       "      <td>DecryptionTime</td>\n",
       "      <td>duration</td>\n",
       "      <td>10.886293</td>\n",
       "    </tr>\n",
       "    <tr>\n",
       "      <th>5</th>\n",
       "      <td>DecryptionTime</td>\n",
       "      <td>duration</td>\n",
       "      <td>10.880650</td>\n",
       "    </tr>\n",
       "    <tr>\n",
       "      <th>6</th>\n",
       "      <td>DecryptionTime</td>\n",
       "      <td>duration</td>\n",
       "      <td>10.658896</td>\n",
       "    </tr>\n",
       "    <tr>\n",
       "      <th>7</th>\n",
       "      <td>DecryptionTime</td>\n",
       "      <td>duration</td>\n",
       "      <td>10.798456</td>\n",
       "    </tr>\n",
       "    <tr>\n",
       "      <th>8</th>\n",
       "      <td>DecryptionTime</td>\n",
       "      <td>duration</td>\n",
       "      <td>10.785601</td>\n",
       "    </tr>\n",
       "    <tr>\n",
       "      <th>9</th>\n",
       "      <td>DecryptionTime</td>\n",
       "      <td>duration</td>\n",
       "      <td>10.822168</td>\n",
       "    </tr>\n",
       "    <tr>\n",
       "      <th>10</th>\n",
       "      <td>DecryptionTime</td>\n",
       "      <td>duration</td>\n",
       "      <td>10.766419</td>\n",
       "    </tr>\n",
       "    <tr>\n",
       "      <th>11</th>\n",
       "      <td>DecryptionTime</td>\n",
       "      <td>duration</td>\n",
       "      <td>10.811120</td>\n",
       "    </tr>\n",
       "    <tr>\n",
       "      <th>12</th>\n",
       "      <td>DecryptionTime</td>\n",
       "      <td>duration</td>\n",
       "      <td>10.711292</td>\n",
       "    </tr>\n",
       "    <tr>\n",
       "      <th>13</th>\n",
       "      <td>DecryptionTime</td>\n",
       "      <td>duration</td>\n",
       "      <td>10.791167</td>\n",
       "    </tr>\n",
       "    <tr>\n",
       "      <th>14</th>\n",
       "      <td>DecryptionTime</td>\n",
       "      <td>duration</td>\n",
       "      <td>10.660379</td>\n",
       "    </tr>\n",
       "    <tr>\n",
       "      <th>15</th>\n",
       "      <td>DecryptionTime</td>\n",
       "      <td>duration</td>\n",
       "      <td>10.784518</td>\n",
       "    </tr>\n",
       "    <tr>\n",
       "      <th>16</th>\n",
       "      <td>DecryptionTime</td>\n",
       "      <td>duration</td>\n",
       "      <td>10.774181</td>\n",
       "    </tr>\n",
       "    <tr>\n",
       "      <th>17</th>\n",
       "      <td>DecryptionTime</td>\n",
       "      <td>duration</td>\n",
       "      <td>10.879596</td>\n",
       "    </tr>\n",
       "    <tr>\n",
       "      <th>18</th>\n",
       "      <td>DecryptionTime</td>\n",
       "      <td>duration</td>\n",
       "      <td>10.728534</td>\n",
       "    </tr>\n",
       "    <tr>\n",
       "      <th>19</th>\n",
       "      <td>DecryptionTime</td>\n",
       "      <td>duration</td>\n",
       "      <td>10.775722</td>\n",
       "    </tr>\n",
       "    <tr>\n",
       "      <th>20</th>\n",
       "      <td>DecryptionTime</td>\n",
       "      <td>duration</td>\n",
       "      <td>10.852204</td>\n",
       "    </tr>\n",
       "  </tbody>\n",
       "</table>\n",
       "</div>"
      ],
      "text/plain": [
       "         EventType EventState       Time\n",
       "0   DecryptionTime   duration  10.622688\n",
       "1   DecryptionTime   duration  10.801486\n",
       "2   DecryptionTime   duration  10.770778\n",
       "3   DecryptionTime   duration  10.795599\n",
       "4   DecryptionTime   duration  10.886293\n",
       "5   DecryptionTime   duration  10.880650\n",
       "6   DecryptionTime   duration  10.658896\n",
       "7   DecryptionTime   duration  10.798456\n",
       "8   DecryptionTime   duration  10.785601\n",
       "9   DecryptionTime   duration  10.822168\n",
       "10  DecryptionTime   duration  10.766419\n",
       "11  DecryptionTime   duration  10.811120\n",
       "12  DecryptionTime   duration  10.711292\n",
       "13  DecryptionTime   duration  10.791167\n",
       "14  DecryptionTime   duration  10.660379\n",
       "15  DecryptionTime   duration  10.784518\n",
       "16  DecryptionTime   duration  10.774181\n",
       "17  DecryptionTime   duration  10.879596\n",
       "18  DecryptionTime   duration  10.728534\n",
       "19  DecryptionTime   duration  10.775722\n",
       "20  DecryptionTime   duration  10.852204"
      ]
     },
     "execution_count": 96,
     "metadata": {},
     "output_type": "execute_result"
    }
   ],
   "source": [
    "coord_decrypt_df"
   ]
  },
  {
   "cell_type": "markdown",
   "metadata": {},
   "source": [
    "## RoundTime"
   ]
  },
  {
   "cell_type": "code",
   "execution_count": 97,
   "metadata": {},
   "outputs": [],
   "source": [
    "coord_round_time_df = get_coord_duration(coord_df, \"RoundTime\")"
   ]
  },
  {
   "cell_type": "code",
   "execution_count": 98,
   "metadata": {},
   "outputs": [
    {
     "data": {
      "text/plain": [
       "202.36223678361802"
      ]
     },
     "execution_count": 98,
     "metadata": {},
     "output_type": "execute_result"
    }
   ],
   "source": [
    "coord_round_time_df[\"Time\"].mean()"
   ]
  },
  {
   "cell_type": "code",
   "execution_count": 153,
   "metadata": {},
   "outputs": [
    {
     "data": {
      "text/html": [
       "<div>\n",
       "<style scoped>\n",
       "    .dataframe tbody tr th:only-of-type {\n",
       "        vertical-align: middle;\n",
       "    }\n",
       "\n",
       "    .dataframe tbody tr th {\n",
       "        vertical-align: top;\n",
       "    }\n",
       "\n",
       "    .dataframe thead th {\n",
       "        text-align: right;\n",
       "    }\n",
       "</style>\n",
       "<table border=\"1\" class=\"dataframe\">\n",
       "  <thead>\n",
       "    <tr style=\"text-align: right;\">\n",
       "      <th></th>\n",
       "      <th>EventType</th>\n",
       "      <th>EventState</th>\n",
       "      <th>Time</th>\n",
       "    </tr>\n",
       "  </thead>\n",
       "  <tbody>\n",
       "    <tr>\n",
       "      <th>0</th>\n",
       "      <td>RoundTime</td>\n",
       "      <td>duration</td>\n",
       "      <td>203.230953</td>\n",
       "    </tr>\n",
       "    <tr>\n",
       "      <th>1</th>\n",
       "      <td>RoundTime</td>\n",
       "      <td>duration</td>\n",
       "      <td>200.259282</td>\n",
       "    </tr>\n",
       "    <tr>\n",
       "      <th>2</th>\n",
       "      <td>RoundTime</td>\n",
       "      <td>duration</td>\n",
       "      <td>185.037489</td>\n",
       "    </tr>\n",
       "    <tr>\n",
       "      <th>3</th>\n",
       "      <td>RoundTime</td>\n",
       "      <td>duration</td>\n",
       "      <td>199.478490</td>\n",
       "    </tr>\n",
       "    <tr>\n",
       "      <th>4</th>\n",
       "      <td>RoundTime</td>\n",
       "      <td>duration</td>\n",
       "      <td>174.921678</td>\n",
       "    </tr>\n",
       "    <tr>\n",
       "      <th>5</th>\n",
       "      <td>RoundTime</td>\n",
       "      <td>duration</td>\n",
       "      <td>198.649328</td>\n",
       "    </tr>\n",
       "    <tr>\n",
       "      <th>6</th>\n",
       "      <td>RoundTime</td>\n",
       "      <td>duration</td>\n",
       "      <td>175.031498</td>\n",
       "    </tr>\n",
       "    <tr>\n",
       "      <th>7</th>\n",
       "      <td>RoundTime</td>\n",
       "      <td>duration</td>\n",
       "      <td>184.907219</td>\n",
       "    </tr>\n",
       "    <tr>\n",
       "      <th>8</th>\n",
       "      <td>RoundTime</td>\n",
       "      <td>duration</td>\n",
       "      <td>174.366345</td>\n",
       "    </tr>\n",
       "    <tr>\n",
       "      <th>9</th>\n",
       "      <td>RoundTime</td>\n",
       "      <td>duration</td>\n",
       "      <td>184.226114</td>\n",
       "    </tr>\n",
       "    <tr>\n",
       "      <th>10</th>\n",
       "      <td>RoundTime</td>\n",
       "      <td>duration</td>\n",
       "      <td>190.626951</td>\n",
       "    </tr>\n",
       "    <tr>\n",
       "      <th>11</th>\n",
       "      <td>RoundTime</td>\n",
       "      <td>duration</td>\n",
       "      <td>175.038977</td>\n",
       "    </tr>\n",
       "    <tr>\n",
       "      <th>12</th>\n",
       "      <td>RoundTime</td>\n",
       "      <td>duration</td>\n",
       "      <td>177.464204</td>\n",
       "    </tr>\n",
       "    <tr>\n",
       "      <th>13</th>\n",
       "      <td>RoundTime</td>\n",
       "      <td>duration</td>\n",
       "      <td>174.805845</td>\n",
       "    </tr>\n",
       "    <tr>\n",
       "      <th>14</th>\n",
       "      <td>RoundTime</td>\n",
       "      <td>duration</td>\n",
       "      <td>199.847708</td>\n",
       "    </tr>\n",
       "    <tr>\n",
       "      <th>15</th>\n",
       "      <td>RoundTime</td>\n",
       "      <td>duration</td>\n",
       "      <td>200.364390</td>\n",
       "    </tr>\n",
       "    <tr>\n",
       "      <th>16</th>\n",
       "      <td>RoundTime</td>\n",
       "      <td>duration</td>\n",
       "      <td>199.387582</td>\n",
       "    </tr>\n",
       "    <tr>\n",
       "      <th>17</th>\n",
       "      <td>RoundTime</td>\n",
       "      <td>duration</td>\n",
       "      <td>197.891679</td>\n",
       "    </tr>\n",
       "    <tr>\n",
       "      <th>18</th>\n",
       "      <td>RoundTime</td>\n",
       "      <td>duration</td>\n",
       "      <td>197.370037</td>\n",
       "    </tr>\n",
       "    <tr>\n",
       "      <th>19</th>\n",
       "      <td>RoundTime</td>\n",
       "      <td>duration</td>\n",
       "      <td>178.331126</td>\n",
       "    </tr>\n",
       "    <tr>\n",
       "      <th>20</th>\n",
       "      <td>RoundTime</td>\n",
       "      <td>duration</td>\n",
       "      <td>185.516958</td>\n",
       "    </tr>\n",
       "  </tbody>\n",
       "</table>\n",
       "</div>"
      ],
      "text/plain": [
       "    EventType EventState        Time\n",
       "0   RoundTime   duration  203.230953\n",
       "1   RoundTime   duration  200.259282\n",
       "2   RoundTime   duration  185.037489\n",
       "3   RoundTime   duration  199.478490\n",
       "4   RoundTime   duration  174.921678\n",
       "5   RoundTime   duration  198.649328\n",
       "6   RoundTime   duration  175.031498\n",
       "7   RoundTime   duration  184.907219\n",
       "8   RoundTime   duration  174.366345\n",
       "9   RoundTime   duration  184.226114\n",
       "10  RoundTime   duration  190.626951\n",
       "11  RoundTime   duration  175.038977\n",
       "12  RoundTime   duration  177.464204\n",
       "13  RoundTime   duration  174.805845\n",
       "14  RoundTime   duration  199.847708\n",
       "15  RoundTime   duration  200.364390\n",
       "16  RoundTime   duration  199.387582\n",
       "17  RoundTime   duration  197.891679\n",
       "18  RoundTime   duration  197.370037\n",
       "19  RoundTime   duration  178.331126\n",
       "20  RoundTime   duration  185.516958"
      ]
     },
     "execution_count": 153,
     "metadata": {},
     "output_type": "execute_result"
    }
   ],
   "source": [
    "coord_round_time_df"
   ]
  },
  {
   "cell_type": "code",
   "execution_count": null,
   "metadata": {},
   "outputs": [],
   "source": []
  },
  {
   "cell_type": "code",
   "execution_count": null,
   "metadata": {},
   "outputs": [],
   "source": []
  }
 ],
 "metadata": {
  "kernelspec": {
   "display_name": "Python 3",
   "language": "python",
   "name": "python3"
  },
  "language_info": {
   "codemirror_mode": {
    "name": "ipython",
    "version": 3
   },
   "file_extension": ".py",
   "mimetype": "text/x-python",
   "name": "python",
   "nbconvert_exporter": "python",
   "pygments_lexer": "ipython3",
   "version": "3.6.10"
  }
 },
 "nbformat": 4,
 "nbformat_minor": 4
}

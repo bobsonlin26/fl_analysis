{
 "cells": [
  {
   "cell_type": "code",
   "execution_count": 1,
   "metadata": {},
   "outputs": [],
   "source": [
    "import pandas as pd\n",
    "from io import StringIO\n",
    "import os\n",
    "import numpy as np\n",
    "import matplotlib.pyplot as plt"
   ]
  },
  {
   "cell_type": "code",
   "execution_count": 2,
   "metadata": {},
   "outputs": [],
   "source": [
    "def read_trace(trace_dir, trace_file, worker_id=None):\n",
    "    trace_filepath = os.path.join(trace_dir, trace_file)\n",
    "    \n",
    "    with open(trace_filepath,\"r\") as rf:\n",
    "        new_trace = StringIO()\n",
    "        line = rf.readline()\n",
    "        while line:\n",
    "            line_list = line.split()\n",
    "            if line_list[0] == \"[trace]\" or line_list[0] == \"[PROF]\":\n",
    "                new_trace.write(line)\n",
    "            line = rf.readline()\n",
    "       \n",
    "    new_trace.seek(0)\n",
    "    df = pd.read_csv(new_trace, sep=\" \", names=[\"InfoType\", \"EventType\", \"EventState\", \"ID\", \"Time\"])\n",
    "    del df[\"InfoType\"]\n",
    "    \n",
    "    if worker_id is not None:\n",
    "        df.insert(0, \"WorkerID\", worker_id)\n",
    "        \n",
    "    new_trace.close()\n",
    "    \n",
    "    return df"
   ]
  },
  {
   "cell_type": "markdown",
   "metadata": {},
   "source": [
    "## Compare masking/unmasking (hpc3 -> hpc0)"
   ]
  },
  {
   "cell_type": "code",
   "execution_count": 3,
   "metadata": {},
   "outputs": [],
   "source": [
    "dir_id = \"hpc3-hpc0_unmask_nossl\"\n",
    "params_size = [\"10000\", \"5000000\", \"10000000\"]\n",
    "message_size_list = []\n",
    "avg_durations = []\n",
    "avg_nc_send_time = []\n",
    "avg_nc_recv_time = []"
   ]
  },
  {
   "cell_type": "code",
   "execution_count": 4,
   "metadata": {},
   "outputs": [],
   "source": [
    "for p_size in params_size:\n",
    "    \n",
    "    trace_dir = \"/home/posheng/billy_ws/fl_025/paslab/trace/model_send_params/\" + dir_id + \"/node_num_\" + p_size\n",
    "    coord_trace_file = \"coord.txt\"\n",
    "    coord_df = read_trace(trace_dir, coord_trace_file)\n",
    "    \n",
    "    coord_df = coord_df[4:].reset_index()\n",
    "    del coord_df[\"index\"]\n",
    "    message_size = int(coord_df.iloc[1]['EventState'])\n",
    "    message_size_list.append(message_size)\n",
    "    \n",
    "    start_indices = list(coord_df[coord_df[\"EventType\"] == \"MessageSize\"].index)\n",
    "    durations = np.zeros(len(start_indices))\n",
    "    nc_send_durations = np.zeros(len(start_indices))\n",
    "    nc_recv_durations = np.zeros(len(start_indices))\n",
    "    \n",
    "    for i in range(len(start_indices)):\n",
    "        idx = start_indices[i]\n",
    "        durations[i] = coord_df.iloc[idx+4][\"Time\"]\n",
    "        nc_send_durations[i] = coord_df.iloc[idx+2][\"Time\"] - coord_df.iloc[idx+1][\"Time\"]\n",
    "        nc_recv_durations[i] = coord_df.iloc[idx+3][\"Time\"] - coord_df.iloc[idx+2][\"Time\"]\n",
    "\n",
    "    \n",
    "    avg_durations.append(durations.mean())\n",
    "    avg_nc_send_time.append(nc_send_durations.mean())\n",
    "    avg_nc_recv_time.append(nc_recv_durations.mean())"
   ]
  },
  {
   "cell_type": "code",
   "execution_count": 5,
   "metadata": {},
   "outputs": [
    {
     "data": {
      "text/plain": [
       "[0.006088125705718994, 1.1653847575187684, 3.0666594386100767]"
      ]
     },
     "execution_count": 5,
     "metadata": {},
     "output_type": "execute_result"
    }
   ],
   "source": [
    "avg_durations"
   ]
  },
  {
   "cell_type": "code",
   "execution_count": 6,
   "metadata": {},
   "outputs": [
    {
     "data": {
      "text/plain": [
       "[0.0001287221908569336, 0.6173547506332397, 1.8805806636810303]"
      ]
     },
     "execution_count": 6,
     "metadata": {},
     "output_type": "execute_result"
    }
   ],
   "source": [
    "avg_nc_send_time"
   ]
  },
  {
   "cell_type": "code",
   "execution_count": 7,
   "metadata": {},
   "outputs": [
    {
     "data": {
      "text/plain": [
       "[0.004267764091491699, 0.25637178421020507, 0.5533512949943542]"
      ]
     },
     "execution_count": 7,
     "metadata": {},
     "output_type": "execute_result"
    }
   ],
   "source": [
    "avg_nc_recv_time"
   ]
  },
  {
   "cell_type": "code",
   "execution_count": 8,
   "metadata": {},
   "outputs": [
    {
     "data": {
      "text/plain": [
       "[<matplotlib.lines.Line2D at 0x7f89ec92c2e8>,\n",
       " <matplotlib.lines.Line2D at 0x7f89ea8a5ef0>]"
      ]
     },
     "execution_count": 8,
     "metadata": {},
     "output_type": "execute_result"
    },
    {
     "data": {
      "image/png": "[encoded data removed]",
      "text/plain": [
       "<Figure size 432x288 with 1 Axes>"
      ]
     },
     "metadata": {
      "needs_background": "light"
     },
     "output_type": "display_data"
    }
   ],
   "source": [
    "index_list = [int(message_size)*8 for message_size in message_size_list]\n",
    "z2 = np.polyfit(index_list, avg_durations, 1)\n",
    "p2 = np.poly1d(z2)\n",
    "xp = np.linspace(index_list[0], index_list[-1], 1000)\n",
    "\n",
    "plt.title(dir_id)\n",
    "plt.xlabel('# of bits')\n",
    "plt.ylabel('time (sec)')\n",
    "plt.plot(index_list, avg_durations, '.', xp, p2(xp))"
   ]
  },
  {
   "cell_type": "code",
   "execution_count": 11,
   "metadata": {},
   "outputs": [],
   "source": [
    "unmask_no_ssl_avg_durations = avg_durations"
   ]
  },
  {
   "cell_type": "code",
   "execution_count": 12,
   "metadata": {},
   "outputs": [
    {
     "data": {
      "text/plain": [
       "313.3488929754325"
      ]
     },
     "execution_count": 12,
     "metadata": {},
     "output_type": "execute_result"
    }
   ],
   "source": [
    "1/z2[0] / 1000 / 1000"
   ]
  },
  {
   "cell_type": "code",
   "execution_count": null,
   "metadata": {},
   "outputs": [],
   "source": []
  },
  {
   "cell_type": "code",
   "execution_count": 13,
   "metadata": {},
   "outputs": [],
   "source": [
    "dir_id = \"hpc3-hpc0_mask_ssl\"\n",
    "worker_id = \"hpc0\"\n",
    "params_size = [\"10000\", \"5000000\", \"10000000\"]\n",
    "message_size_list = []\n",
    "avg_durations = []\n",
    "avg_nc_send_time = []\n",
    "avg_nc_recv_time = []\n",
    "\n",
    "for p_size in params_size:\n",
    "    trace_dir = \"/home/posheng/billy_ws/fl_025/paslab/trace/model_send_params/\" + dir_id + \"/node_num_\" + p_size\n",
    "    coord_trace_file = \"coord.txt\"\n",
    "    worker_trace_file = worker_id + \".txt\"\n",
    "\n",
    "    coord_df = read_trace(trace_dir, coord_trace_file)\n",
    "    \n",
    "    ## preproc\n",
    "    idx_list = []\n",
    "\n",
    "    for i in range(len(coord_df)):\n",
    "        row =  coord_df.iloc[i]\n",
    "        if row[\"EventType\"][:7] == \"WEBSOCK\":\n",
    "            idx_list.append(i)\n",
    "    \n",
    "    coord_df = coord_df.drop(idx_list)    \n",
    "    coord_df = coord_df[1:].reset_index()\n",
    "    \n",
    "    avg_durations.append(coord_df[\"Time\"][1:].mean())"
   ]
  },
  {
   "cell_type": "code",
   "execution_count": 15,
   "metadata": {},
   "outputs": [],
   "source": [
    "mask_ssl_avg_durations = avg_durations"
   ]
  },
  {
   "cell_type": "code",
   "execution_count": 18,
   "metadata": {},
   "outputs": [
    {
     "data": {
      "text/plain": [
       "[<matplotlib.lines.Line2D at 0x7f89ea76fc50>,\n",
       " <matplotlib.lines.Line2D at 0x7f89ea71e6a0>]"
      ]
     },
     "execution_count": 18,
     "metadata": {},
     "output_type": "execute_result"
    },
    {
     "data": {
      "image/png": "[encoded data removed]",
      "text/plain": [
       "<Figure size 432x288 with 1 Axes>"
      ]
     },
     "metadata": {
      "needs_background": "light"
     },
     "output_type": "display_data"
    }
   ],
   "source": [
    "message_size_list = [123417, 60007894, 120011202]\n",
    "index_list = [int(message_size)*8 for message_size in message_size_list]\n",
    "z2 = np.polyfit(index_list, avg_durations, 1)\n",
    "p2 = np.poly1d(z2)\n",
    "xp = np.linspace(index_list[0], index_list[-1], 1000)\n",
    "\n",
    "plt.title(dir_id)\n",
    "plt.xlabel('# of bits')\n",
    "plt.ylabel('time (sec)')\n",
    "plt.plot(index_list, avg_durations, '.', xp, p2(xp))"
   ]
  },
  {
   "cell_type": "code",
   "execution_count": 19,
   "metadata": {},
   "outputs": [
    {
     "data": {
      "text/plain": [
       "49.00481178735647"
      ]
     },
     "execution_count": 19,
     "metadata": {},
     "output_type": "execute_result"
    }
   ],
   "source": [
    "1/z2[0] / 1000 / 1000"
   ]
  },
  {
   "cell_type": "code",
   "execution_count": null,
   "metadata": {},
   "outputs": [],
   "source": []
  },
  {
   "cell_type": "code",
   "execution_count": 20,
   "metadata": {},
   "outputs": [],
   "source": [
    "dir_id = \"hpc3-hpc0_unmask_ssl\"\n",
    "worker_id = \"hpc0\"\n",
    "params_size = [\"10000\", \"5000000\", \"10000000\"]\n",
    "message_size_list = []\n",
    "avg_durations = []\n",
    "avg_nc_send_time = []\n",
    "avg_nc_recv_time = []\n",
    "\n",
    "for p_size in params_size:\n",
    "    trace_dir = \"/home/posheng/billy_ws/fl_025/paslab/trace/model_send_params/\" + dir_id + \"/node_num_\" + p_size\n",
    "    coord_trace_file = \"coord.txt\"\n",
    "    worker_trace_file = worker_id + \".txt\"\n",
    "\n",
    "    coord_df = read_trace(trace_dir, coord_trace_file)\n",
    "    \n",
    "    ## preproc\n",
    "    idx_list = []\n",
    "\n",
    "    for i in range(len(coord_df)):\n",
    "        row =  coord_df.iloc[i]\n",
    "        if row[\"EventType\"][:7] == \"WEBSOCK\":\n",
    "            idx_list.append(i)\n",
    "    \n",
    "    coord_df = coord_df.drop(idx_list)    \n",
    "    coord_df = coord_df[1:].reset_index()\n",
    "    \n",
    "    avg_durations.append(coord_df[\"Time\"][1:].mean())"
   ]
  },
  {
   "cell_type": "code",
   "execution_count": 21,
   "metadata": {},
   "outputs": [],
   "source": [
    "unmask_ssl_avg_durations = avg_durations"
   ]
  },
  {
   "cell_type": "code",
   "execution_count": 22,
   "metadata": {},
   "outputs": [
    {
     "data": {
      "text/plain": [
       "[<matplotlib.lines.Line2D at 0x7f89ea85c9e8>,\n",
       " <matplotlib.lines.Line2D at 0x7f89ea68eac8>]"
      ]
     },
     "execution_count": 22,
     "metadata": {},
     "output_type": "execute_result"
    },
    {
     "data": {
      "image/png": "[encoded data removed]",
      "text/plain": [
       "<Figure size 432x288 with 1 Axes>"
      ]
     },
     "metadata": {
      "needs_background": "light"
     },
     "output_type": "display_data"
    }
   ],
   "source": [
    "message_size_list = [123417, 60007894, 120011202]\n",
    "index_list = [int(message_size)*8 for message_size in message_size_list]\n",
    "z2 = np.polyfit(index_list, avg_durations, 1)\n",
    "p2 = np.poly1d(z2)\n",
    "xp = np.linspace(index_list[0], index_list[-1], 1000)\n",
    "\n",
    "plt.title(dir_id)\n",
    "plt.xlabel('# of bits')\n",
    "plt.ylabel('time (sec)')\n",
    "plt.plot(index_list, avg_durations, '.', xp, p2(xp))"
   ]
  },
  {
   "cell_type": "code",
   "execution_count": 23,
   "metadata": {},
   "outputs": [
    {
     "data": {
      "text/plain": [
       "424.82154272100183"
      ]
     },
     "execution_count": 23,
     "metadata": {},
     "output_type": "execute_result"
    }
   ],
   "source": [
    "1/z2[0] / 1000 / 1000"
   ]
  },
  {
   "cell_type": "code",
   "execution_count": null,
   "metadata": {},
   "outputs": [],
   "source": []
  },
  {
   "cell_type": "code",
   "execution_count": 24,
   "metadata": {},
   "outputs": [],
   "source": [
    "dir_id = \"hpc3-hpc0\"\n",
    "worker_id = \"hpc0\"\n",
    "params_size = [\"10000\", \"5000000\", \"10000000\"]\n",
    "message_size_list = []\n",
    "avg_durations = []\n",
    "avg_nc_send_time = []\n",
    "avg_nc_recv_time = []\n",
    "\n",
    "for p_size in params_size:\n",
    "    trace_dir = \"/home/posheng/billy_ws/fl_025/paslab/trace/model_send_params/\" + dir_id + \"/node_num_\" + p_size\n",
    "    coord_trace_file = \"coord.txt\"\n",
    "    worker_trace_file = worker_id + \".txt\"\n",
    "\n",
    "    coord_df = read_trace(trace_dir, coord_trace_file)\n",
    "    \n",
    "    ## preproc\n",
    "    idx_list = []\n",
    "\n",
    "    for i in range(len(coord_df)):\n",
    "        row =  coord_df.iloc[i]\n",
    "        if row[\"EventType\"][:7] == \"WEBSOCK\":\n",
    "            idx_list.append(i)\n",
    "    coord_df = coord_df.drop(idx_list)\n",
    "    \n",
    "    \n",
    "    coord_df = coord_df[4:].reset_index()\n",
    "    del coord_df[\"index\"]\n",
    "    message_size = int(coord_df.iloc[0]['EventState'])\n",
    "    message_size_list.append(message_size)\n",
    "    \n",
    "    w_df = read_trace(trace_dir, worker_trace_file, worker_id)\n",
    "\n",
    "    start_indices = list(coord_df[coord_df[\"EventType\"] == \"MessageSize\"].index)\n",
    "    \n",
    "    durations = np.zeros(len(start_indices))\n",
    "    nc_send_durations = np.zeros(len(start_indices))\n",
    "    nc_recv_durations = np.zeros(len(start_indices))\n",
    "    for i in range(len(start_indices)):\n",
    "        idx = start_indices[i]\n",
    "        durations[i] = coord_df.iloc[idx+4][\"Time\"]\n",
    "        nc_send_durations[i] = coord_df.iloc[idx+2][\"Time\"] - coord_df.iloc[idx+1][\"Time\"]\n",
    "        nc_recv_durations[i] = coord_df.iloc[idx+3][\"Time\"] - coord_df.iloc[idx+2][\"Time\"]\n",
    "    \n",
    "    avg_durations.append(durations.mean())\n",
    "    avg_nc_send_time.append(nc_send_durations.mean())\n",
    "    avg_nc_recv_time.append(nc_recv_durations.mean())"
   ]
  },
  {
   "cell_type": "code",
   "execution_count": 25,
   "metadata": {},
   "outputs": [],
   "source": [
    "message_size_list = [123417, 60007894, 120011202]"
   ]
  },
  {
   "cell_type": "code",
   "execution_count": 29,
   "metadata": {},
   "outputs": [
    {
     "data": {
      "text/plain": [
       "[<matplotlib.lines.Line2D at 0x7f89ea641320>,\n",
       " <matplotlib.lines.Line2D at 0x7f89ea5e7d68>]"
      ]
     },
     "execution_count": 29,
     "metadata": {},
     "output_type": "execute_result"
    },
    {
     "data": {
      "image/png": "[encoded data removed]",
      "text/plain": [
       "<Figure size 432x288 with 1 Axes>"
      ]
     },
     "metadata": {
      "needs_background": "light"
     },
     "output_type": "display_data"
    }
   ],
   "source": [
    "index_list = [int(message_size)*8 for message_size in message_size_list]\n",
    "z2 = np.polyfit(index_list, avg_durations, 1)\n",
    "p2 = np.poly1d(z2)\n",
    "xp = np.linspace(index_list[0], index_list[-1], 1000)\n",
    "\n",
    "plt.title('hpc3 to hpc0 mask no ssl')\n",
    "plt.xlabel('# of bits')\n",
    "plt.ylabel('time (sec)')\n",
    "plt.plot(index_list, avg_durations, '.', xp, p2(xp))"
   ]
  },
  {
   "cell_type": "code",
   "execution_count": 30,
   "metadata": {},
   "outputs": [],
   "source": [
    "mask_no_ssl_avg_durations = avg_durations"
   ]
  },
  {
   "cell_type": "code",
   "execution_count": 31,
   "metadata": {},
   "outputs": [
    {
     "data": {
      "text/plain": [
       "44.984149737077594"
      ]
     },
     "execution_count": 31,
     "metadata": {},
     "output_type": "execute_result"
    }
   ],
   "source": [
    "1/z2[0] / 1024 / 1024"
   ]
  },
  {
   "cell_type": "code",
   "execution_count": null,
   "metadata": {},
   "outputs": [],
   "source": []
  },
  {
   "cell_type": "code",
   "execution_count": null,
   "metadata": {},
   "outputs": [],
   "source": []
  },
  {
   "cell_type": "code",
   "execution_count": null,
   "metadata": {},
   "outputs": [],
   "source": []
  },
  {
   "cell_type": "code",
   "execution_count": 34,
   "metadata": {},
   "outputs": [
    {
     "data": {
      "text/plain": [
       "<matplotlib.legend.Legend at 0x7f89ea4789e8>"
      ]
     },
     "execution_count": 34,
     "metadata": {},
     "output_type": "execute_result"
    },
    {
     "data": {
      "image/png": "[encoded data removed]",
      "text/plain": [
       "<Figure size 432x288 with 1 Axes>"
      ]
     },
     "metadata": {
      "needs_background": "light"
     },
     "output_type": "display_data"
    }
   ],
   "source": [
    "index_list = [int(message_size)*8 for message_size in message_size_list]\n",
    "\n",
    "plt.title('Bandwidth Measurement (unmask v.s mask)')\n",
    "plt.xlabel('# of bits')\n",
    "plt.ylabel('time (sec)')\n",
    "\n",
    "p_list = []\n",
    "z_list = []\n",
    "\n",
    "# for label, values in results.items():\n",
    "\n",
    "## unmask_ssl\n",
    "z2 = np.polyfit(index_list, unmask_ssl_avg_durations, 1)\n",
    "z_list.append(z2)\n",
    "p2 = np.poly1d(z2)\n",
    "xp = np.linspace(index_list[0], index_list[-1], 1000)\n",
    "\n",
    "plt.plot(index_list, unmask_ssl_avg_durations, '.')\n",
    "p, = plt.plot(xp, p2(xp))\n",
    "p_list.append(p)\n",
    "\n",
    "## mask_ssl\n",
    "z2 = np.polyfit(index_list, mask_ssl_avg_durations, 1)\n",
    "z_list.append(z2)\n",
    "p2 = np.poly1d(z2)\n",
    "xp = np.linspace(index_list[0], index_list[-1], 1000)\n",
    "\n",
    "plt.plot(index_list, mask_ssl_avg_durations, '.')\n",
    "p, = plt.plot(xp, p2(xp))\n",
    "p_list.append(p)\n",
    "\n",
    "## unmask_no_ssl\n",
    "z2 = np.polyfit(index_list, unmask_no_ssl_avg_durations, 1)\n",
    "z_list.append(z2)\n",
    "p2 = np.poly1d(z2)\n",
    "xp = np.linspace(index_list[0], index_list[-1], 1000)\n",
    "\n",
    "plt.plot(index_list, unmask_no_ssl_avg_durations, '.')\n",
    "p, = plt.plot(xp, p2(xp))\n",
    "p_list.append(p)\n",
    "\n",
    "## mask_no_ssl\n",
    "z2 = np.polyfit(index_list, mask_no_ssl_avg_durations, 1)\n",
    "z_list.append(z2)\n",
    "p2 = np.poly1d(z2)\n",
    "xp = np.linspace(index_list[0], index_list[-1], 1000)\n",
    "\n",
    "plt.plot(index_list, mask_no_ssl_avg_durations, '.')\n",
    "p, = plt.plot(xp, p2(xp))\n",
    "p_list.append(p)\n",
    "    \n",
    "plt.legend(p_list, [\"mask_ssl\", \"unmask_w/o_ssl\", \"unmask_w/o_ssl\", \"mask_w/o_ssl\"], loc='upper left')"
   ]
  },
  {
   "cell_type": "code",
   "execution_count": null,
   "metadata": {},
   "outputs": [],
   "source": []
  },
  {
   "cell_type": "code",
   "execution_count": null,
   "metadata": {},
   "outputs": [],
   "source": []
  },
  {
   "cell_type": "code",
   "execution_count": null,
   "metadata": {},
   "outputs": [],
   "source": []
  }
 ],
 "metadata": {
  "kernelspec": {
   "display_name": "Python 3",
   "language": "python",
   "name": "python3"
  },
  "language_info": {
   "codemirror_mode": {
    "name": "ipython",
    "version": 3
   },
   "file_extension": ".py",
   "mimetype": "text/x-python",
   "name": "python",
   "nbconvert_exporter": "python",
   "pygments_lexer": "ipython3",
   "version": "3.6.10"
  }
 },
 "nbformat": 4,
 "nbformat_minor": 4
}

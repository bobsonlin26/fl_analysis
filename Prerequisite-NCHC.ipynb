{
 "cells": [
  {
   "cell_type": "code",
   "execution_count": 30,
   "metadata": {},
   "outputs": [],
   "source": [
    "import pandas as pd\n",
    "from io import StringIO\n",
    "import os\n",
    "import numpy as np\n",
    "import matplotlib.pyplot as plt"
   ]
  },
  {
   "cell_type": "code",
   "execution_count": 31,
   "metadata": {},
   "outputs": [],
   "source": [
    "# bw = \"100mbps\""
   ]
  },
  {
   "cell_type": "code",
   "execution_count": 32,
   "metadata": {},
   "outputs": [],
   "source": [
    "results = {}"
   ]
  },
  {
   "cell_type": "code",
   "execution_count": 33,
   "metadata": {},
   "outputs": [],
   "source": [
    "def read_trace(trace_dir, trace_file, worker_id=None):\n",
    "    trace_filepath = os.path.join(trace_dir, trace_file)\n",
    "    \n",
    "    with open(trace_filepath,\"r\") as rf:\n",
    "        new_trace = StringIO()\n",
    "        line = rf.readline()\n",
    "        while line:\n",
    "            line_list = line.split()\n",
    "            if line_list[0] == \"[trace]\" or line_list[0] == \"[PROF]\":\n",
    "                new_trace.write(line)\n",
    "            line = rf.readline()\n",
    "       \n",
    "    new_trace.seek(0)\n",
    "    df = pd.read_csv(new_trace, sep=\" \", names=[\"InfoType\", \"EventType\", \"EventState\", \"ID\", \"Time\"])\n",
    "    del df[\"InfoType\"]\n",
    "    \n",
    "    if worker_id is not None:\n",
    "        df.insert(0, \"WorkerID\", worker_id)\n",
    "        \n",
    "    new_trace.close()\n",
    "    \n",
    "    return df"
   ]
  },
  {
   "cell_type": "markdown",
   "metadata": {},
   "source": [
    "## vm1-vm2"
   ]
  },
  {
   "cell_type": "code",
   "execution_count": 34,
   "metadata": {},
   "outputs": [],
   "source": [
    "dir_id = \"vm1-vm2\"\n",
    "p_size_list = [\"10000\", \"5000000\", \"10000000\"]\n",
    "message_size_list = []\n",
    "avg_recv_ratio_list = []\n",
    "avg_duration_list = []\n",
    "\n",
    "for p_size in p_size_list:\n",
    "    recv_ratio_list = []\n",
    "    trace_dir = \"/home/posheng/billy_ws/fl_025/fl_experiment_trace/nchc/send_bench/\" + dir_id\n",
    "    coord_trace_file = \"coord_\" + p_size + \".txt\"\n",
    "    \n",
    "    coord_df = read_trace(trace_dir, coord_trace_file)\n",
    "    coord_df = coord_df[4:].reset_index()\n",
    "    del coord_df[\"index\"]\n",
    "    \n",
    "    avg_duration = coord_df[coord_df[\"EventType\"] == \"ModelSend\"][1:][\"Time\"].mean()\n",
    "    avg_duration_list.append(avg_duration)\n",
    "    \n",
    "    start_indices = list(coord_df[coord_df[\"EventType\"] == \"MessageSize\"].index)\n",
    "    for start_index in start_indices:\n",
    "        message_size = int(coord_df.loc[start_index][\"EventState\"])\n",
    "        send_time = coord_df.loc[start_index+2][\"Time\"] - coord_df.loc[start_index+1][\"Time\"]\n",
    "        recv_time = coord_df.loc[start_index+3][\"Time\"] - coord_df.loc[start_index+2][\"Time\"]\n",
    "        recv_ratio = recv_time / (send_time + recv_time)\n",
    "        recv_ratio_list.append(recv_ratio)\n",
    "    \n",
    "    message_size_list.append(message_size)\n",
    "    avg_recv_ratio = sum(recv_ratio_list) / len(recv_ratio_list)\n",
    "    avg_recv_ratio_list.append(avg_recv_ratio)"
   ]
  },
  {
   "cell_type": "code",
   "execution_count": 35,
   "metadata": {},
   "outputs": [
    {
     "data": {
      "text/plain": [
       "[123280, 60007874, 120011186]"
      ]
     },
     "execution_count": 35,
     "metadata": {},
     "output_type": "execute_result"
    }
   ],
   "source": [
    "message_size_list"
   ]
  },
  {
   "cell_type": "code",
   "execution_count": 36,
   "metadata": {},
   "outputs": [
    {
     "data": {
      "text/plain": [
       "[0.9835647192183921, 0.9562178940006673, 0.8945339935965093]"
      ]
     },
     "execution_count": 36,
     "metadata": {},
     "output_type": "execute_result"
    }
   ],
   "source": [
    "avg_recv_ratio_list"
   ]
  },
  {
   "cell_type": "code",
   "execution_count": 37,
   "metadata": {},
   "outputs": [
    {
     "data": {
      "text/plain": [
       "[0.018225085735321046, 7.364577639102936, 15.892740988731385]"
      ]
     },
     "execution_count": 37,
     "metadata": {},
     "output_type": "execute_result"
    }
   ],
   "source": [
    "avg_duration_list"
   ]
  },
  {
   "cell_type": "code",
   "execution_count": 38,
   "metadata": {},
   "outputs": [
    {
     "data": {
      "text/plain": [
       "[<matplotlib.lines.Line2D at 0x7f1435f0d400>,\n",
       " <matplotlib.lines.Line2D at 0x7f1435ec2208>]"
      ]
     },
     "execution_count": 38,
     "metadata": {},
     "output_type": "execute_result"
    },
    {
     "data": {
      "image/png": "[encoded data removed]",
      "text/plain": [
       "<Figure size 432x288 with 1 Axes>"
      ]
     },
     "metadata": {
      "needs_background": "light"
     },
     "output_type": "display_data"
    }
   ],
   "source": [
    "index_list = [int(message_size)*8 for message_size in message_size_list]\n",
    "z2 = np.polyfit(index_list, avg_duration_list, 1)\n",
    "p2 = np.poly1d(z2)\n",
    "xp = np.linspace(index_list[0], index_list[-1], 1000)\n",
    "\n",
    "plt.title('send (vm1 to vm2)')\n",
    "plt.xlabel('# of bits')\n",
    "plt.ylabel('time (sec)')\n",
    "plt.plot(index_list, avg_duration_list, '.', xp, p2(xp))"
   ]
  },
  {
   "cell_type": "code",
   "execution_count": 39,
   "metadata": {},
   "outputs": [
    {
     "data": {
      "text/plain": [
       "60.41633013437355"
      ]
     },
     "execution_count": 39,
     "metadata": {},
     "output_type": "execute_result"
    }
   ],
   "source": [
    "1/z2[0] / 1000 / 1000"
   ]
  },
  {
   "cell_type": "code",
   "execution_count": 40,
   "metadata": {},
   "outputs": [
    {
     "data": {
      "text/plain": [
       "[123280, 60007874, 120011186]"
      ]
     },
     "execution_count": 40,
     "metadata": {},
     "output_type": "execute_result"
    }
   ],
   "source": [
    "message_size_list"
   ]
  },
  {
   "cell_type": "code",
   "execution_count": 41,
   "metadata": {},
   "outputs": [],
   "source": [
    "p_size_list = [\"10000\", \"5000000\", \"10000000\"]\n",
    "\n",
    "avg_recv_ratio_list = []\n",
    "avg_duration_list = []\n",
    "\n",
    "for p_size in p_size_list:\n",
    "    trace_dir = \"/home/posheng/billy_ws/fl_025/fl_experiment_trace/nchc/get_bench\"\n",
    "    coord_trace_file = \"coord_\" + p_size + \".txt\"\n",
    "\n",
    "    coord_df = read_trace(trace_dir, coord_trace_file)\n",
    "    coord_df = coord_df[4:].reset_index()  \n",
    "    del coord_df[\"index\"]\n",
    "\n",
    "    avg_duration = coord_df[coord_df[\"EventType\"] == \"GetTime\"][1:][\"Time\"].mean()\n",
    "    avg_duration_list.append(avg_duration)"
   ]
  },
  {
   "cell_type": "code",
   "execution_count": 42,
   "metadata": {},
   "outputs": [
    {
     "data": {
      "text/plain": [
       "[0.0034865736961364746, 0.46815510988235476, 1.1303132772445679]"
      ]
     },
     "execution_count": 42,
     "metadata": {},
     "output_type": "execute_result"
    }
   ],
   "source": [
    "avg_duration_list"
   ]
  },
  {
   "cell_type": "code",
   "execution_count": 43,
   "metadata": {},
   "outputs": [
    {
     "data": {
      "text/plain": [
       "[<matplotlib.lines.Line2D at 0x7f1435e7d8d0>,\n",
       " <matplotlib.lines.Line2D at 0x7f1435eab5c0>]"
      ]
     },
     "execution_count": 43,
     "metadata": {},
     "output_type": "execute_result"
    },
    {
     "data": {
      "image/png": "[encoded data removed]",
      "text/plain": [
       "<Figure size 432x288 with 1 Axes>"
      ]
     },
     "metadata": {
      "needs_background": "light"
     },
     "output_type": "display_data"
    }
   ],
   "source": [
    "index_list = [int(message_size)*8 for message_size in message_size_list]\n",
    "z2 = np.polyfit(index_list, avg_duration_list, 1)\n",
    "p2 = np.poly1d(z2)\n",
    "xp = np.linspace(index_list[0], index_list[-1], 1000)\n",
    "\n",
    "plt.title('retrieve (vm1 to vm2)')\n",
    "plt.xlabel('# of bits')\n",
    "plt.ylabel('time (sec)')\n",
    "plt.plot(index_list, avg_duration_list, '.', xp, p2(xp))"
   ]
  },
  {
   "cell_type": "code",
   "execution_count": 44,
   "metadata": {},
   "outputs": [
    {
     "data": {
      "text/plain": [
       "851.1052117080615"
      ]
     },
     "execution_count": 44,
     "metadata": {},
     "output_type": "execute_result"
    }
   ],
   "source": [
    "1/z2[0] / 1000 / 1000"
   ]
  },
  {
   "cell_type": "code",
   "execution_count": null,
   "metadata": {},
   "outputs": [],
   "source": []
  },
  {
   "cell_type": "code",
   "execution_count": null,
   "metadata": {},
   "outputs": [],
   "source": []
  },
  {
   "cell_type": "code",
   "execution_count": null,
   "metadata": {},
   "outputs": [],
   "source": []
  }
 ],
 "metadata": {
  "kernelspec": {
   "display_name": "Python 3",
   "language": "python",
   "name": "python3"
  },
  "language_info": {
   "codemirror_mode": {
    "name": "ipython",
    "version": 3
   },
   "file_extension": ".py",
   "mimetype": "text/x-python",
   "name": "python",
   "nbconvert_exporter": "python",
   "pygments_lexer": "ipython3",
   "version": "3.6.10"
  }
 },
 "nbformat": 4,
 "nbformat_minor": 4
}

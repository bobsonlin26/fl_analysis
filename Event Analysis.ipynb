{
 "cells": [
  {
   "cell_type": "code",
   "execution_count": 16,
   "metadata": {},
   "outputs": [],
   "source": [
    "import pandas as pd\n",
    "from io import StringIO\n",
    "import os\n",
    "import matplotlib.pyplot as plt"
   ]
  },
  {
   "cell_type": "code",
   "execution_count": 2,
   "metadata": {},
   "outputs": [],
   "source": [
    "def read_trace(trace_dir, trace_file, worker_id=None):\n",
    "    trace_filepath = os.path.join(trace_dir, trace_file)\n",
    "    \n",
    "    with open(trace_filepath,\"r\") as rf:\n",
    "        new_trace = StringIO()\n",
    "        line = rf.readline()\n",
    "        while line:\n",
    "            line_list = line.split()\n",
    "            if line_list[0] == \"[trace]\":\n",
    "                new_trace.write(line)\n",
    "            line = rf.readline()\n",
    "       \n",
    "    new_trace.seek(0)\n",
    "    df = pd.read_csv(new_trace, sep=\" \", names=[\"InfoType\", \"EventType\", \"EventState\", \"ID\", \"Time\"])\n",
    "    del df[\"InfoType\"]\n",
    "    \n",
    "    if worker_id is not None:\n",
    "        df.insert(0, \"WorkerID\", worker_id)\n",
    "        \n",
    "    new_trace.close()\n",
    "    \n",
    "    return df"
   ]
  },
  {
   "cell_type": "code",
   "execution_count": 3,
   "metadata": {},
   "outputs": [],
   "source": [
    "trace_dir = \"/home/posheng/billy_ws/fl_025/paslab/trace/async2_fl_mp_3rm/resnet_50\"\n",
    "coord_trace_file = \"coord.txt\"\n",
    "hpc0_trace_file = \"hpc0.txt\"\n",
    "hpc1_trace_file = \"hpc1.txt\"\n",
    "hpc2_trace_file = \"hpc2.txt\""
   ]
  },
  {
   "cell_type": "code",
   "execution_count": 4,
   "metadata": {},
   "outputs": [],
   "source": [
    "coord_df = read_trace(trace_dir, coord_trace_file)\n",
    "w0_df = read_trace(trace_dir, hpc0_trace_file, \"alice\")\n",
    "w1_df = read_trace(trace_dir, hpc1_trace_file, \"bob\")\n",
    "w2_df = read_trace(trace_dir, hpc2_trace_file, \"charlie\")\n",
    "\n",
    "hpc1_df = w0_df\n",
    "hpc2_df = w1_df\n",
    "hpc3_df = w2_df\n",
    "\n",
    "worker_dfs = {\n",
    "    \"alice\": hpc1_df,\n",
    "    \"bob\": hpc2_df,\n",
    "    \"charlie\": hpc3_df\n",
    "}"
   ]
  },
  {
   "cell_type": "code",
   "execution_count": 10,
   "metadata": {},
   "outputs": [],
   "source": [
    "def get_worker_duration(worker_id, worker_dfs, event_type):\n",
    "    worker_df = worker_dfs[worker_id]\n",
    "    worker_event_df = worker_df[worker_df[\"EventType\"].str.contains(event_type, regex=False)]\n",
    "    worker_event_df = worker_event_df.reset_index()\n",
    "    \n",
    "    del worker_event_df['index']\n",
    "    del worker_event_df['ID']\n",
    "    \n",
    "    return worker_event_df\n",
    "\n",
    "def get_coord_duration(coord_df, event_type):\n",
    "    coord_event_df = coord_df[coord_df[\"EventType\"].str.contains(event_type, regex=False)]\n",
    "    coord_event_df = coord_event_df.reset_index()\n",
    "    \n",
    "    del coord_event_df['index']\n",
    "    del coord_event_df['ID']\n",
    "    \n",
    "    return coord_event_df\n",
    "\n",
    "def calculate_duration(event_type, df):\n",
    "    event_df = df[df[\"EventType\"] == event_type][[\"EventType\", \"EventState\", \"ID\", \"Time\"]]\n",
    "    event_start_df = event_df[event_df[\"EventState\"] == \"start\"][[\"ID\", \"Time\"]]\n",
    "    event_start_df = event_start_df.reset_index()\n",
    "\n",
    "    event_end_df = event_df[event_df[\"EventState\"] == \"end\"][[\"Time\"]]\n",
    "    event_end_df = event_end_df.reset_index()\n",
    "    \n",
    "    event_df_cat = pd.concat([event_start_df, event_end_df], axis=1)\n",
    "    del event_df_cat['index']\n",
    "    event_df_cat.columns = [\"ID\", \"StartTime\", \"EndTime\"]\n",
    "    \n",
    "    event_df_cat[\"Duration\"] = event_df_cat.apply(lambda x: x[\"EndTime\"] - x[\"StartTime\"], axis=1)\n",
    "    event_df_cat.insert(0, \"EventType\", event_type)\n",
    "    return event_df_cat\n",
    "\n",
    "def get_coord_global_send_duration(coord_df, worker_id):\n",
    "    coord_event_df = coord_df[coord_df[\"EventType\"].str.contains(\"GlobalInformationSend\", regex=False)]\n",
    "    coord_event_df = coord_event_df[coord_event_df[\"ID\"] == worker_id]\n",
    "    coord_event_df = coord_event_df.reset_index()\n",
    "    \n",
    "    del coord_event_df['index']\n",
    "    \n",
    "    return coord_event_df\n",
    "\n",
    "def get_coord_fitsagg_duration(coord_df, worker_id):\n",
    "    coord_event_df = coord_df[coord_df[\"EventType\"].str.contains(\"FitSagg\", regex=False)]\n",
    "    coord_event_df = coord_event_df[coord_event_df[\"ID\"] == worker_id]\n",
    "    coord_event_df = coord_event_df.reset_index()\n",
    "    \n",
    "    del coord_event_df['index']\n",
    "    \n",
    "    return coord_event_df"
   ]
  },
  {
   "cell_type": "markdown",
   "metadata": {},
   "source": [
    "## GIS"
   ]
  },
  {
   "cell_type": "markdown",
   "metadata": {},
   "source": [
    "### Model Size"
   ]
  },
  {
   "cell_type": "code",
   "execution_count": 15,
   "metadata": {},
   "outputs": [],
   "source": [
    "values = {\n",
    "    \"original\": 0.32,\n",
    "    \"resnet_18\": 8.66,\n",
    "    \"resnet_34\": 16.4,\n",
    "    \"resnet_50\": 17.6\n",
    "}"
   ]
  },
  {
   "cell_type": "code",
   "execution_count": 26,
   "metadata": {},
   "outputs": [
    {
     "data": {
      "text/plain": [
       "<BarContainer object of 4 artists>"
      ]
     },
     "execution_count": 26,
     "metadata": {},
     "output_type": "execute_result"
    },
    {
     "data": {
      "image/png": "[encoded data removed]",
      "text/plain": [
       "<Figure size 432x288 with 1 Axes>"
      ]
     },
     "metadata": {
      "needs_background": "light"
     },
     "output_type": "display_data"
    }
   ],
   "source": [
    "fig = plt.figure()\n",
    "plt.ylabel(\"time (sec)\")\n",
    "plt.bar(list(values.keys()), list(values.values()), width = 0.4)"
   ]
  },
  {
   "cell_type": "markdown",
   "metadata": {},
   "source": [
    "### Bandwidth"
   ]
  },
  {
   "cell_type": "code",
   "execution_count": 33,
   "metadata": {},
   "outputs": [],
   "source": [
    "values = {\n",
    "    10: 4.65,\n",
    "    100: 0.765,\n",
    "    500: 0.35,\n",
    "    1000: 0.32\n",
    "}"
   ]
  },
  {
   "cell_type": "code",
   "execution_count": 40,
   "metadata": {},
   "outputs": [
    {
     "data": {
      "text/plain": [
       "Text(0, 0.5, 'time (sec)')"
      ]
     },
     "execution_count": 40,
     "metadata": {},
     "output_type": "execute_result"
    },
    {
     "data": {
      "image/png": "[encoded data removed]",
      "text/plain": [
       "<Figure size 432x288 with 1 Axes>"
      ]
     },
     "metadata": {
      "needs_background": "light"
     },
     "output_type": "display_data"
    }
   ],
   "source": [
    "# x axis values \n",
    "x = list(values.keys())\n",
    "# corresponding y axis values \n",
    "y = list(values.values())\n",
    "\n",
    "plt.rc('grid', linestyle=\"--\", color='gray')\n",
    "plt.grid()\n",
    "  \n",
    "# plotting the points  \n",
    "plt.plot(x, y, marker='o') \n",
    "  \n",
    "# naming the x axis \n",
    "plt.xlabel('bandwidth (mbps)') \n",
    "# naming the y axis \n",
    "plt.ylabel('time (sec)') \n",
    "# giving a title to my graph \n",
    "# plt.title('My first graph!') "
   ]
  },
  {
   "cell_type": "markdown",
   "metadata": {},
   "source": [
    "## EMP"
   ]
  },
  {
   "cell_type": "markdown",
   "metadata": {},
   "source": [
    "### Model Size"
   ]
  },
  {
   "cell_type": "code",
   "execution_count": 41,
   "metadata": {},
   "outputs": [
    {
     "data": {
      "text/plain": [
       "<BarContainer object of 4 artists>"
      ]
     },
     "execution_count": 41,
     "metadata": {},
     "output_type": "execute_result"
    },
    {
     "data": {
      "image/png": "[encoded data removed]",
      "text/plain": [
       "<Figure size 432x288 with 1 Axes>"
      ]
     },
     "metadata": {
      "needs_background": "light"
     },
     "output_type": "display_data"
    }
   ],
   "source": [
    "values = {\n",
    "    \"original\": 2.74,\n",
    "    \"resnet_18\": 58,\n",
    "    \"resnet_34\": 114.9,\n",
    "    \"resnet_50\": 127.7\n",
    "}\n",
    "\n",
    "fig = plt.figure()\n",
    "plt.ylabel(\"time (sec)\")\n",
    "plt.bar(list(values.keys()), list(values.values()), width = 0.4)"
   ]
  },
  {
   "cell_type": "markdown",
   "metadata": {},
   "source": [
    "### Bandwidth"
   ]
  },
  {
   "cell_type": "code",
   "execution_count": 42,
   "metadata": {},
   "outputs": [
    {
     "data": {
      "text/plain": [
       "Text(0, 0.5, 'time (sec)')"
      ]
     },
     "execution_count": 42,
     "metadata": {},
     "output_type": "execute_result"
    },
    {
     "data": {
      "image/png": "[encoded data removed]",
      "text/plain": [
       "<Figure size 432x288 with 1 Axes>"
      ]
     },
     "metadata": {
      "needs_background": "light"
     },
     "output_type": "display_data"
    }
   ],
   "source": [
    "values = {\n",
    "    10: 8.144,\n",
    "    100: 2.965,\n",
    "    500: 2.63,\n",
    "    1000: 2.74\n",
    "}\n",
    "\n",
    "# x axis values \n",
    "x = list(values.keys())\n",
    "# corresponding y axis values \n",
    "y = list(values.values())\n",
    "\n",
    "plt.rc('grid', linestyle=\"--\", color='gray')\n",
    "plt.grid()\n",
    "  \n",
    "# plotting the points  \n",
    "plt.plot(x, y, marker='o') \n",
    "  \n",
    "# naming the x axis \n",
    "plt.xlabel('bandwidth (mbps)') \n",
    "# naming the y axis \n",
    "plt.ylabel('time (sec)') "
   ]
  },
  {
   "cell_type": "markdown",
   "metadata": {},
   "source": [
    "## AGG"
   ]
  },
  {
   "cell_type": "markdown",
   "metadata": {},
   "source": [
    "### Model Size"
   ]
  },
  {
   "cell_type": "code",
   "execution_count": 43,
   "metadata": {},
   "outputs": [
    {
     "data": {
      "text/plain": [
       "<BarContainer object of 4 artists>"
      ]
     },
     "execution_count": 43,
     "metadata": {},
     "output_type": "execute_result"
    },
    {
     "data": {
      "image/png": "[encoded data removed]",
      "text/plain": [
       "<Figure size 432x288 with 1 Axes>"
      ]
     },
     "metadata": {
      "needs_background": "light"
     },
     "output_type": "display_data"
    }
   ],
   "source": [
    "values = {\n",
    "    \"original\": 0.1,\n",
    "    \"resnet_18\": 0.23,\n",
    "    \"resnet_34\": 0.35,\n",
    "    \"resnet_50\": 0.364\n",
    "}\n",
    "\n",
    "fig = plt.figure()\n",
    "plt.ylabel(\"time (sec)\")\n",
    "plt.bar(list(values.keys()), list(values.values()), width = 0.4)"
   ]
  },
  {
   "cell_type": "markdown",
   "metadata": {},
   "source": [
    "### Bandwidth"
   ]
  },
  {
   "cell_type": "code",
   "execution_count": 49,
   "metadata": {},
   "outputs": [
    {
     "data": {
      "text/plain": [
       "Text(0, 0.5, 'time (sec)')"
      ]
     },
     "execution_count": 49,
     "metadata": {},
     "output_type": "execute_result"
    },
    {
     "data": {
      "image/png": "[encoded data removed]",
      "text/plain": [
       "<Figure size 432x288 with 1 Axes>"
      ]
     },
     "metadata": {
      "needs_background": "light"
     },
     "output_type": "display_data"
    }
   ],
   "source": [
    "values = {\n",
    "    10: 0.108,\n",
    "    100: 0.106,\n",
    "    500: 0.1065,\n",
    "    1000: 0.1\n",
    "}\n",
    "\n",
    "# x axis values \n",
    "x = list(values.keys())\n",
    "# corresponding y axis values \n",
    "y = list(values.values())\n",
    "\n",
    "plt.rc('grid', linestyle=\"--\", color='gray')\n",
    "plt.grid()\n",
    "  \n",
    "# plotting the points  \n",
    "plt.ylim(0.08, 0.12)\n",
    "plt.plot(x, y, marker='o') \n",
    "  \n",
    "# naming the x axis \n",
    "plt.xlabel('bandwidth (mbps)') \n",
    "# naming the y axis \n",
    "plt.ylabel('time (sec)') "
   ]
  },
  {
   "cell_type": "markdown",
   "metadata": {},
   "source": [
    "## DEC"
   ]
  },
  {
   "cell_type": "markdown",
   "metadata": {},
   "source": [
    "### Model Size"
   ]
  },
  {
   "cell_type": "code",
   "execution_count": 50,
   "metadata": {},
   "outputs": [
    {
     "data": {
      "text/plain": [
       "<BarContainer object of 4 artists>"
      ]
     },
     "execution_count": 50,
     "metadata": {},
     "output_type": "execute_result"
    },
    {
     "data": {
      "image/png": "[encoded data removed]",
      "text/plain": [
       "<Figure size 432x288 with 1 Axes>"
      ]
     },
     "metadata": {
      "needs_background": "light"
     },
     "output_type": "display_data"
    }
   ],
   "source": [
    "values = {\n",
    "    \"original\": 0.1774,\n",
    "    \"resnet_18\": 5.166,\n",
    "    \"resnet_34\": 10.04,\n",
    "    \"resnet_50\": 10.78\n",
    "}\n",
    "\n",
    "fig = plt.figure()\n",
    "plt.ylabel(\"time (sec)\")\n",
    "plt.bar(list(values.keys()), list(values.values()), width = 0.4)"
   ]
  },
  {
   "cell_type": "markdown",
   "metadata": {},
   "source": [
    "### Bandwidth"
   ]
  },
  {
   "cell_type": "code",
   "execution_count": 53,
   "metadata": {},
   "outputs": [
    {
     "data": {
      "text/plain": [
       "Text(0, 0.5, 'time (sec)')"
      ]
     },
     "execution_count": 53,
     "metadata": {},
     "output_type": "execute_result"
    },
    {
     "data": {
      "image/png": "[encoded data removed]",
      "text/plain": [
       "<Figure size 432x288 with 1 Axes>"
      ]
     },
     "metadata": {
      "needs_background": "light"
     },
     "output_type": "display_data"
    }
   ],
   "source": [
    "values = {\n",
    "    10: 8.706,\n",
    "    100: 0.95,\n",
    "    500: 0.26,\n",
    "    1000: 0.1774\n",
    "}\n",
    "\n",
    "# x axis values \n",
    "x = list(values.keys())\n",
    "# corresponding y axis values \n",
    "y = list(values.values())\n",
    "\n",
    "plt.rc('grid', linestyle=\"--\", color='gray')\n",
    "plt.grid()\n",
    "  \n",
    "# plotting the points  \n",
    "plt.plot(x, y, marker='o') \n",
    "  \n",
    "# naming the x axis \n",
    "plt.xlabel('bandwidth (mbps)') \n",
    "# naming the y axis \n",
    "plt.ylabel('time (sec)') "
   ]
  },
  {
   "cell_type": "code",
   "execution_count": null,
   "metadata": {},
   "outputs": [],
   "source": []
  }
 ],
 "metadata": {
  "kernelspec": {
   "display_name": "Python 3",
   "language": "python",
   "name": "python3"
  },
  "language_info": {
   "codemirror_mode": {
    "name": "ipython",
    "version": 3
   },
   "file_extension": ".py",
   "mimetype": "text/x-python",
   "name": "python",
   "nbconvert_exporter": "python",
   "pygments_lexer": "ipython3",
   "version": "3.6.10"
  }
 },
 "nbformat": 4,
 "nbformat_minor": 4
}

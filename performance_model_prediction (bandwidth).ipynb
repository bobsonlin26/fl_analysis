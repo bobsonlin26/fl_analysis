{
 "cells": [
  {
   "cell_type": "code",
   "execution_count": 261,
   "metadata": {},
   "outputs": [],
   "source": [
    "import math"
   ]
  },
  {
   "cell_type": "markdown",
   "metadata": {},
   "source": [
    "## Setup"
   ]
  },
  {
   "cell_type": "code",
   "execution_count": 262,
   "metadata": {},
   "outputs": [],
   "source": [
    "# # original (1000Mbps)\n",
    "# model_size = 431080 * 4 * 8\n",
    "# param_size = round(model_size / 32)\n",
    "# add_time_per_million = 0.012\n",
    "# mul_time_per_million = 0.636\n",
    "\n",
    "# nr_layer = 4\n",
    "# nr_worker = 3\n",
    "# recv_ratio = (100-8.33)/100\n",
    "\n",
    "# bandwidth_dict = {}\n",
    "# bandwidth_dict[\"s2c\"] = 47.2 * 1000 * 1000\n",
    "# bandwidth_dict[\"c2c\"] = 48.97 * 1000 * 1000\n",
    "# bandwidth_dict[\"c2w\"] = 465 * 1000 * 1000\n",
    "\n",
    "# time_cmd = 0.002\n",
    "\n",
    "# gis_real_value = 0.32\n",
    "# emp_real_value = 2.74\n",
    "# agg_real_value = 0.1\n",
    "# dec_real_value = 0.1774"
   ]
  },
  {
   "cell_type": "code",
   "execution_count": 263,
   "metadata": {},
   "outputs": [],
   "source": [
    "# # 500Mbps\n",
    "# model_size = 431080 * 4 * 8\n",
    "# param_size = round(model_size / 32)\n",
    "# add_time_per_million = 0.012\n",
    "# mul_time_per_million = 0.636\n",
    "\n",
    "# nr_layer = 4\n",
    "# nr_worker = 3\n",
    "# recv_ratio = (100-12.3)/100\n",
    "\n",
    "# bandwidth_dict = {}\n",
    "# bandwidth_dict[\"s2c\"] = 43.85 * 1000 * 1000\n",
    "# bandwidth_dict[\"c2c\"] = 46.42 * 1000 * 1000\n",
    "# bandwidth_dict[\"c2w\"] = 313.92 * 1000 * 1000\n",
    "\n",
    "# time_cmd = 0.002\n",
    "\n",
    "# gis_real_value = 0.35\n",
    "# emp_real_value = 2.63\n",
    "# agg_real_value = 0.1065\n",
    "# dec_real_value = 0.26"
   ]
  },
  {
   "cell_type": "code",
   "execution_count": 264,
   "metadata": {},
   "outputs": [],
   "source": [
    "# # 100Mbps\n",
    "# model_size = 431080 * 4 * 8\n",
    "# param_size = round(model_size / 32)\n",
    "# add_time_per_million = 0.012\n",
    "# mul_time_per_million = 0.636\n",
    "\n",
    "# nr_layer = 4\n",
    "# nr_worker = 3\n",
    "# recv_ratio = (100-37.3)/100\n",
    "\n",
    "# bandwidth_dict = {}\n",
    "# bandwidth_dict[\"s2c\"] = 33.38 * 1000 * 1000\n",
    "# bandwidth_dict[\"c2c\"] = 34.1 * 1000 * 1000\n",
    "# bandwidth_dict[\"c2w\"] = 86.41 * 1000 * 1000\n",
    "\n",
    "# time_cmd = 0.002\n",
    "\n",
    "# gis_real_value = 0.765\n",
    "# emp_real_value = 2.965\n",
    "# agg_real_value = 0.106\n",
    "# dec_real_value = 0.95"
   ]
  },
  {
   "cell_type": "code",
   "execution_count": 265,
   "metadata": {},
   "outputs": [],
   "source": [
    "# 10Mbps\n",
    "model_size = 431080 * 4 * 8\n",
    "param_size = round(model_size / 32)\n",
    "add_time_per_million = 0.012\n",
    "mul_time_per_million = 0.636\n",
    "\n",
    "nr_layer = 4\n",
    "nr_worker = 3\n",
    "recv_ratio = (100-85)/100\n",
    "\n",
    "bandwidth_dict = {}\n",
    "bandwidth_dict[\"s2c\"] = 8.07 * 1000 * 1000\n",
    "bandwidth_dict[\"c2c\"] = 8.1 * 1000 * 1000\n",
    "bandwidth_dict[\"c2w\"] = 9.46 * 1000 * 1000\n",
    "\n",
    "time_cmd = 0.002\n",
    "\n",
    "gis_real_value = 4.65\n",
    "emp_real_value = 8.144\n",
    "agg_real_value = 0.108\n",
    "dec_real_value = 8.706"
   ]
  },
  {
   "cell_type": "code",
   "execution_count": 266,
   "metadata": {},
   "outputs": [],
   "source": [
    "def ratio(pred_value, real_value):\n",
    "    return pred_value / real_value"
   ]
  },
  {
   "cell_type": "markdown",
   "metadata": {},
   "source": [
    "## GIS Prediction"
   ]
  },
  {
   "cell_type": "code",
   "execution_count": 267,
   "metadata": {},
   "outputs": [],
   "source": [
    "def gis_prediction():\n",
    "    return model_size / bandwidth_dict[\"s2c\"] + model_size / bandwidth_dict[\"s2c\"] * (1-recv_ratio) * nr_worker"
   ]
  },
  {
   "cell_type": "code",
   "execution_count": 268,
   "metadata": {},
   "outputs": [
    {
     "data": {
      "text/plain": [
       "6.068238909541511"
      ]
     },
     "execution_count": 268,
     "metadata": {},
     "output_type": "execute_result"
    }
   ],
   "source": [
    "gis_prediction()"
   ]
  },
  {
   "cell_type": "code",
   "execution_count": 269,
   "metadata": {},
   "outputs": [
    {
     "data": {
      "text/plain": [
       "4.65"
      ]
     },
     "execution_count": 269,
     "metadata": {},
     "output_type": "execute_result"
    }
   ],
   "source": [
    "gis_real_value"
   ]
  },
  {
   "cell_type": "code",
   "execution_count": 270,
   "metadata": {},
   "outputs": [
    {
     "data": {
      "text/plain": [
       "1.3049976149551634"
      ]
     },
     "execution_count": 270,
     "metadata": {},
     "output_type": "execute_result"
    }
   ],
   "source": [
    "ratio(gis_prediction(), gis_real_value)"
   ]
  },
  {
   "cell_type": "markdown",
   "metadata": {},
   "source": [
    "## Local Training Prediction"
   ]
  },
  {
   "cell_type": "markdown",
   "metadata": {},
   "source": [
    "## EMP"
   ]
  },
  {
   "cell_type": "code",
   "execution_count": 271,
   "metadata": {},
   "outputs": [],
   "source": [
    "def emp_prediction():\n",
    "    time_fixed_model = (2 * model_size) / bandwidth_dict[\"c2c\"]\n",
    "    return (nr_worker - 1) * (1 + recv_ratio) * time_fixed_model + mul_time_per_million * (param_size/1000000)"
   ]
  },
  {
   "cell_type": "code",
   "execution_count": 272,
   "metadata": {},
   "outputs": [
    {
     "data": {
      "text/plain": [
       "8.108114534320986"
      ]
     },
     "execution_count": 272,
     "metadata": {},
     "output_type": "execute_result"
    }
   ],
   "source": [
    "emp_prediction()"
   ]
  },
  {
   "cell_type": "code",
   "execution_count": 273,
   "metadata": {},
   "outputs": [],
   "source": [
    "real_value = 2.74"
   ]
  },
  {
   "cell_type": "code",
   "execution_count": 274,
   "metadata": {},
   "outputs": [
    {
     "data": {
      "text/plain": [
       "0.9955936314244825"
      ]
     },
     "execution_count": 274,
     "metadata": {},
     "output_type": "execute_result"
    }
   ],
   "source": [
    "ratio(emp_prediction(), emp_real_value)"
   ]
  },
  {
   "cell_type": "code",
   "execution_count": null,
   "metadata": {},
   "outputs": [],
   "source": []
  },
  {
   "cell_type": "markdown",
   "metadata": {},
   "source": [
    "## Aggregation prediction"
   ]
  },
  {
   "cell_type": "code",
   "execution_count": 275,
   "metadata": {},
   "outputs": [],
   "source": [
    "def agg_prediction():\n",
    "    return 2 * nr_layer * ((nr_worker - 1) * nr_worker * time_cmd) + (param_size/1000000) * add_time_per_million"
   ]
  },
  {
   "cell_type": "code",
   "execution_count": 276,
   "metadata": {},
   "outputs": [
    {
     "data": {
      "text/plain": [
       "0.10117296"
      ]
     },
     "execution_count": 276,
     "metadata": {},
     "output_type": "execute_result"
    }
   ],
   "source": [
    "agg_prediction()"
   ]
  },
  {
   "cell_type": "code",
   "execution_count": 277,
   "metadata": {},
   "outputs": [
    {
     "data": {
      "text/plain": [
       "0.9367866666666668"
      ]
     },
     "execution_count": 277,
     "metadata": {},
     "output_type": "execute_result"
    }
   ],
   "source": [
    "ratio(agg_prediction(), agg_real_value)"
   ]
  },
  {
   "cell_type": "code",
   "execution_count": null,
   "metadata": {},
   "outputs": [],
   "source": []
  },
  {
   "cell_type": "markdown",
   "metadata": {},
   "source": [
    "## Decryption prediction"
   ]
  },
  {
   "cell_type": "code",
   "execution_count": 278,
   "metadata": {},
   "outputs": [],
   "source": [
    "def dec_prediction():\n",
    "    return nr_worker * (model_size * 2 / bandwidth_dict[\"c2w\"])"
   ]
  },
  {
   "cell_type": "code",
   "execution_count": 279,
   "metadata": {},
   "outputs": [
    {
     "data": {
      "text/plain": [
       "8.749192389006343"
      ]
     },
     "execution_count": 279,
     "metadata": {},
     "output_type": "execute_result"
    }
   ],
   "source": [
    "dec_prediction()"
   ]
  },
  {
   "cell_type": "code",
   "execution_count": 280,
   "metadata": {},
   "outputs": [],
   "source": [
    "real_value = 0.1774"
   ]
  },
  {
   "cell_type": "code",
   "execution_count": 281,
   "metadata": {},
   "outputs": [
    {
     "data": {
      "text/plain": [
       "1.0049612208828789"
      ]
     },
     "execution_count": 281,
     "metadata": {},
     "output_type": "execute_result"
    }
   ],
   "source": [
    "ratio(dec_prediction(), dec_real_value)"
   ]
  },
  {
   "cell_type": "code",
   "execution_count": null,
   "metadata": {},
   "outputs": [],
   "source": []
  },
  {
   "cell_type": "code",
   "execution_count": null,
   "metadata": {},
   "outputs": [],
   "source": []
  },
  {
   "cell_type": "raw",
   "metadata": {},
   "source": []
  }
 ],
 "metadata": {
  "kernelspec": {
   "display_name": "Python 3",
   "language": "python",
   "name": "python3"
  },
  "language_info": {
   "codemirror_mode": {
    "name": "ipython",
    "version": 3
   },
   "file_extension": ".py",
   "mimetype": "text/x-python",
   "name": "python",
   "nbconvert_exporter": "python",
   "pygments_lexer": "ipython3",
   "version": "3.6.10"
  }
 },
 "nbformat": 4,
 "nbformat_minor": 4
}

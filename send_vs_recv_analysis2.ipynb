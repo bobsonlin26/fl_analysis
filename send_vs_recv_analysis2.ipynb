{
 "cells": [
  {
   "cell_type": "code",
   "execution_count": 39,
   "metadata": {},
   "outputs": [],
   "source": [
    "import pandas as pd\n",
    "from io import StringIO\n",
    "import os\n",
    "import numpy as np\n",
    "import matplotlib.pyplot as plt"
   ]
  },
  {
   "cell_type": "code",
   "execution_count": 40,
   "metadata": {},
   "outputs": [],
   "source": [
    "def read_trace(trace_dir, trace_file, worker_id=None):\n",
    "    trace_filepath = os.path.join(trace_dir, trace_file)\n",
    "    \n",
    "    with open(trace_filepath,\"r\") as rf:\n",
    "        new_trace = StringIO()\n",
    "        line = rf.readline()\n",
    "        while line:\n",
    "            line_list = line.split()\n",
    "            if line_list[0] == \"[trace]\" or line_list[0] == \"[PROF]\":\n",
    "                new_trace.write(line)\n",
    "            line = rf.readline()\n",
    "       \n",
    "    new_trace.seek(0)\n",
    "    df = pd.read_csv(new_trace, sep=\" \", names=[\"InfoType\", \"EventType\", \"EventState\", \"ID\", \"Time\"])\n",
    "    del df[\"InfoType\"]\n",
    "    \n",
    "    if worker_id is not None:\n",
    "        df.insert(0, \"WorkerID\", worker_id)\n",
    "        \n",
    "    new_trace.close()\n",
    "    \n",
    "    return df"
   ]
  },
  {
   "cell_type": "code",
   "execution_count": 41,
   "metadata": {},
   "outputs": [],
   "source": [
    "recv_ratio_list = []\n",
    "message_size_list = []\n",
    "avg_recv_ratio_list = []\n",
    "avg_duration_list = []\n",
    "# dir_id = \"0901\"\n",
    "# p_size = \"5000000\"\n",
    "# trace_dir = \"/home/posheng/billy_ws/fl_025/paslab/trace/async2_fl_sagg_3rm_mask_nossl/\" + dir_id + \"/send_vs_recv\"\n",
    "\n",
    "dir_id = \"async2_fl_bw2_3rm\"\n",
    "bw = \"100mbps\"\n",
    "p_size = \"4000000\"\n",
    "trace_dir = \"/home/posheng/billy_ws/fl_025/paslab/trace/\" + dir_id + \"/\" + bw + \"/send_vs_recv\"\n",
    "coord_trace_file = \"coord_\" + p_size + \".txt\"\n",
    "\n",
    "coord_df = read_trace(trace_dir, coord_trace_file)\n",
    "coord_df = coord_df[4:].reset_index()\n",
    "del coord_df[\"index\"]\n",
    "\n",
    "avg_duration = coord_df[coord_df[\"EventType\"] == \"ModelSend\"][1:][\"Time\"].mean()\n",
    "avg_duration_list.append(avg_duration)\n",
    "\n",
    "start_indices = list(coord_df[coord_df[\"EventType\"] == \"MessageSize\"].index)\n",
    "for start_index in start_indices:\n",
    "    message_size = int(coord_df.loc[start_index][\"EventState\"])\n",
    "    send_time = coord_df.loc[start_index+2][\"Time\"] - coord_df.loc[start_index+1][\"Time\"]\n",
    "    recv_time = coord_df.loc[start_index+3][\"Time\"] - coord_df.loc[start_index+2][\"Time\"]\n",
    "    recv_ratio = recv_time / (send_time + recv_time)\n",
    "    recv_ratio_list.append(recv_ratio)\n",
    "\n",
    "message_size_list.append(message_size)\n",
    "avg_recv_ratio = sum(recv_ratio_list) / len(recv_ratio_list)\n",
    "avg_recv_ratio_list.append(avg_recv_ratio)"
   ]
  },
  {
   "cell_type": "code",
   "execution_count": 42,
   "metadata": {},
   "outputs": [
    {
     "data": {
      "text/plain": [
       "[0.6338136808467709]"
      ]
     },
     "execution_count": 42,
     "metadata": {},
     "output_type": "execute_result"
    }
   ],
   "source": [
    "avg_recv_ratio_list"
   ]
  },
  {
   "cell_type": "code",
   "execution_count": 43,
   "metadata": {},
   "outputs": [
    {
     "data": {
      "text/plain": [
       "[48007125]"
      ]
     },
     "execution_count": 43,
     "metadata": {},
     "output_type": "execute_result"
    }
   ],
   "source": [
    "message_size_list"
   ]
  },
  {
   "cell_type": "code",
   "execution_count": 44,
   "metadata": {},
   "outputs": [
    {
     "data": {
      "text/plain": [
       "[48007125]"
      ]
     },
     "execution_count": 44,
     "metadata": {},
     "output_type": "execute_result"
    }
   ],
   "source": [
    "message_size_list"
   ]
  },
  {
   "cell_type": "code",
   "execution_count": 38,
   "metadata": {},
   "outputs": [
    {
     "data": {
      "text/plain": [
       "46179720"
      ]
     },
     "execution_count": 38,
     "metadata": {},
     "output_type": "execute_result"
    }
   ],
   "source": [
    "11544930 * 4"
   ]
  },
  {
   "cell_type": "code",
   "execution_count": null,
   "metadata": {},
   "outputs": [],
   "source": []
  }
 ],
 "metadata": {
  "kernelspec": {
   "display_name": "Python 3",
   "language": "python",
   "name": "python3"
  },
  "language_info": {
   "codemirror_mode": {
    "name": "ipython",
    "version": 3
   },
   "file_extension": ".py",
   "mimetype": "text/x-python",
   "name": "python",
   "nbconvert_exporter": "python",
   "pygments_lexer": "ipython3",
   "version": "3.6.10"
  }
 },
 "nbformat": 4,
 "nbformat_minor": 4
}

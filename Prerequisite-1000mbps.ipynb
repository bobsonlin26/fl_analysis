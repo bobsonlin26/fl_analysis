{
 "cells": [
  {
   "cell_type": "code",
   "execution_count": 1,
   "metadata": {},
   "outputs": [],
   "source": [
    "import pandas as pd\n",
    "from io import StringIO\n",
    "import os\n",
    "import numpy as np\n",
    "import matplotlib.pyplot as plt"
   ]
  },
  {
   "cell_type": "code",
   "execution_count": 2,
   "metadata": {},
   "outputs": [],
   "source": [
    "bw = \"1000mbps\""
   ]
  },
  {
   "cell_type": "code",
   "execution_count": 3,
   "metadata": {},
   "outputs": [],
   "source": [
    "results = {}"
   ]
  },
  {
   "cell_type": "code",
   "execution_count": 4,
   "metadata": {},
   "outputs": [],
   "source": [
    "def read_trace(trace_dir, trace_file, worker_id=None):\n",
    "    trace_filepath = os.path.join(trace_dir, trace_file)\n",
    "    \n",
    "    with open(trace_filepath,\"r\") as rf:\n",
    "        new_trace = StringIO()\n",
    "        line = rf.readline()\n",
    "        while line:\n",
    "            line_list = line.split()\n",
    "            if line_list[0] == \"[trace]\" or line_list[0] == \"[PROF]\":\n",
    "                new_trace.write(line)\n",
    "            line = rf.readline()\n",
    "       \n",
    "    new_trace.seek(0)\n",
    "    df = pd.read_csv(new_trace, sep=\" \", names=[\"InfoType\", \"EventType\", \"EventState\", \"ID\", \"Time\"])\n",
    "    del df[\"InfoType\"]\n",
    "    \n",
    "    if worker_id is not None:\n",
    "        df.insert(0, \"WorkerID\", worker_id)\n",
    "        \n",
    "    new_trace.close()\n",
    "    \n",
    "    return df"
   ]
  },
  {
   "cell_type": "markdown",
   "metadata": {},
   "source": [
    "## hpc0 -> hpc1"
   ]
  },
  {
   "cell_type": "code",
   "execution_count": 5,
   "metadata": {},
   "outputs": [],
   "source": [
    "dir_id = \"hpc0-hpc1\"\n",
    "worker_id = \"hpc1\"\n",
    "p_size = \"10000\"\n",
    "\n",
    "trace_dir = \"/home/posheng/billy_ws/fl_025/paslab/trace/async2_fl_bw_3rm/\" + bw + \"/model_send_params/\" + dir_id + \"/node_num_\" + p_size\n",
    "coord_trace_file = \"coord.txt\"\n",
    "worker_trace_file = worker_id + \".txt\"\n",
    "\n",
    "coord_df = read_trace(trace_dir, coord_trace_file)\n",
    "coord_df = coord_df[1:].reset_index()"
   ]
  },
  {
   "cell_type": "code",
   "execution_count": 6,
   "metadata": {},
   "outputs": [],
   "source": [
    "w_df = read_trace(trace_dir, worker_trace_file, worker_id)"
   ]
  },
  {
   "cell_type": "code",
   "execution_count": 7,
   "metadata": {},
   "outputs": [
    {
     "data": {
      "text/plain": [
       "0.02612595558166504"
      ]
     },
     "execution_count": 7,
     "metadata": {},
     "output_type": "execute_result"
    }
   ],
   "source": [
    "coord_df[\"Time\"].mean()"
   ]
  },
  {
   "cell_type": "code",
   "execution_count": null,
   "metadata": {},
   "outputs": [],
   "source": []
  },
  {
   "cell_type": "code",
   "execution_count": 8,
   "metadata": {},
   "outputs": [],
   "source": [
    "dir_id = \"hpc0-hpc1\"\n",
    "worker_id = \"hpc1\"\n",
    "params_size = [\"10000\", \"5000000\", \"10000000\"]\n",
    "message_size_list = [123272, 60007727, 120011202]\n",
    "avg_durations = []\n",
    "avg_nc_send_time = []\n",
    "avg_nc_recv_time = []\n",
    "\n",
    "for p_size in params_size:\n",
    "    trace_dir = \"/home/posheng/billy_ws/fl_025/paslab/trace/async2_fl_bw_3rm/\"+bw+\"/model_send_params/\" + dir_id + \"/node_num_\" + p_size\n",
    "    coord_trace_file = \"coord.txt\"\n",
    "    worker_trace_file = worker_id + \".txt\"\n",
    "\n",
    "    coord_df = read_trace(trace_dir, coord_trace_file)\n",
    "    coord_df = coord_df[1:].reset_index()\n",
    "    \n",
    "    w_df = read_trace(trace_dir, worker_trace_file, worker_id)\n",
    "    \n",
    "    avg_durations.append(coord_df[\"Time\"].mean())"
   ]
  },
  {
   "cell_type": "code",
   "execution_count": 9,
   "metadata": {},
   "outputs": [
    {
     "data": {
      "text/plain": [
       "[0.02612595558166504, 9.479930782318116, 19.611766076087953]"
      ]
     },
     "execution_count": 9,
     "metadata": {},
     "output_type": "execute_result"
    }
   ],
   "source": [
    "avg_durations"
   ]
  },
  {
   "cell_type": "code",
   "execution_count": 10,
   "metadata": {},
   "outputs": [],
   "source": [
    "results[\"worker->worker\"] = avg_durations"
   ]
  },
  {
   "cell_type": "code",
   "execution_count": 11,
   "metadata": {},
   "outputs": [
    {
     "data": {
      "text/plain": [
       "[<matplotlib.lines.Line2D at 0x7f3ce8cc0438>,\n",
       " <matplotlib.lines.Line2D at 0x7f3ce6c99f28>]"
      ]
     },
     "execution_count": 11,
     "metadata": {},
     "output_type": "execute_result"
    },
    {
     "data": {
      "image/png": "[encoded data removed]",
      "text/plain": [
       "<Figure size 432x288 with 1 Axes>"
      ]
     },
     "metadata": {
      "needs_background": "light"
     },
     "output_type": "display_data"
    }
   ],
   "source": [
    "index_list = [int(message_size)*8 for message_size in message_size_list]\n",
    "z2 = np.polyfit(index_list, avg_durations, 1)\n",
    "p2 = np.poly1d(z2)\n",
    "xp = np.linspace(index_list[0], index_list[-1], 1000)\n",
    "\n",
    "plt.title('hpc0 to hpc1')\n",
    "plt.xlabel('# of bits')\n",
    "plt.ylabel('time (sec)')\n",
    "plt.plot(index_list, avg_durations, '.', xp, p2(xp))"
   ]
  },
  {
   "cell_type": "code",
   "execution_count": 13,
   "metadata": {},
   "outputs": [
    {
     "data": {
      "text/plain": [
       "48.96918159319871"
      ]
     },
     "execution_count": 13,
     "metadata": {},
     "output_type": "execute_result"
    }
   ],
   "source": [
    "1/z2[0] / 1000 / 1000"
   ]
  },
  {
   "cell_type": "code",
   "execution_count": null,
   "metadata": {},
   "outputs": [],
   "source": []
  },
  {
   "cell_type": "code",
   "execution_count": 14,
   "metadata": {},
   "outputs": [],
   "source": [
    "dir_id = \"hpc3-hpc0\"\n",
    "worker_id = \"hpc0\"\n",
    "params_size = [\"10000\", \"5000000\", \"10000000\"]\n",
    "message_size_list = [123272, 60007727, 120011202]\n",
    "avg_durations = []\n",
    "avg_nc_send_time = []\n",
    "avg_nc_recv_time = []\n",
    "\n",
    "for p_size in params_size:\n",
    "    trace_dir = \"/home/posheng/billy_ws/fl_025/paslab/trace/async2_fl_bw_3rm/\"+bw+\"/model_send_params/\" + dir_id + \"/node_num_\" + p_size\n",
    "    coord_trace_file = \"coord.txt\"\n",
    "    worker_trace_file = worker_id + \".txt\"\n",
    "\n",
    "    coord_df = read_trace(trace_dir, coord_trace_file)\n",
    "    coord_df = coord_df[1:].reset_index()    \n",
    "    w_df = read_trace(trace_dir, worker_trace_file, worker_id)\n",
    "\n",
    "    avg_durations.append(coord_df[\"Time\"].mean())"
   ]
  },
  {
   "cell_type": "code",
   "execution_count": 15,
   "metadata": {},
   "outputs": [
    {
     "data": {
      "text/plain": [
       "[0.023767054080963135, 9.889800596237183, 20.328818666934968]"
      ]
     },
     "execution_count": 15,
     "metadata": {},
     "output_type": "execute_result"
    }
   ],
   "source": [
    "avg_durations"
   ]
  },
  {
   "cell_type": "code",
   "execution_count": 16,
   "metadata": {},
   "outputs": [],
   "source": [
    "results[\"coord->worker\"] = avg_durations"
   ]
  },
  {
   "cell_type": "code",
   "execution_count": 17,
   "metadata": {},
   "outputs": [
    {
     "data": {
      "text/plain": [
       "[<matplotlib.lines.Line2D at 0x7f3ce8d1e0f0>,\n",
       " <matplotlib.lines.Line2D at 0x7f3ce6b9f630>]"
      ]
     },
     "execution_count": 17,
     "metadata": {},
     "output_type": "execute_result"
    },
    {
     "data": {
      "image/png": "[encoded data removed]",
      "text/plain": [
       "<Figure size 432x288 with 1 Axes>"
      ]
     },
     "metadata": {
      "needs_background": "light"
     },
     "output_type": "display_data"
    }
   ],
   "source": [
    "index_list = [int(message_size)*8 for message_size in message_size_list]\n",
    "z2 = np.polyfit(index_list, avg_durations, 1)\n",
    "p2 = np.poly1d(z2)\n",
    "xp = np.linspace(index_list[0], index_list[-1], 1000)\n",
    "\n",
    "plt.title('hpc3 to hpc0')\n",
    "plt.xlabel('# of bits')\n",
    "plt.ylabel('time (sec)')\n",
    "plt.plot(index_list, avg_durations, '.', xp, p2(xp))"
   ]
  },
  {
   "cell_type": "code",
   "execution_count": 19,
   "metadata": {},
   "outputs": [
    {
     "data": {
      "text/plain": [
       "47.234295050317975"
      ]
     },
     "execution_count": 19,
     "metadata": {},
     "output_type": "execute_result"
    }
   ],
   "source": [
    "1/z2[0] / 1000 / 1000"
   ]
  },
  {
   "cell_type": "code",
   "execution_count": null,
   "metadata": {},
   "outputs": [],
   "source": []
  },
  {
   "cell_type": "code",
   "execution_count": 20,
   "metadata": {},
   "outputs": [],
   "source": [
    "params_size = [\"10000\", \"5000000\", \"10000000\"]\n",
    "worker_id = \"hpc3-hpc0\"\n",
    "trace_dir = \"/home/posheng/billy_ws/fl_025/paslab/trace/async2_fl_bw_3rm/\"+bw+\"/model_get_params/\" + worker_id\n",
    "message_size_list = [123272, 60007727, 120011202]\n",
    "avg_durations = []\n",
    "\n",
    "for param_size in params_size:\n",
    "    coord_trace_file = \"coord_\" + param_size + \".txt\"\n",
    "    coord_df = read_trace(trace_dir, coord_trace_file)\n",
    "    \n",
    "    get_time_df = coord_df[coord_df[\"EventType\"] == \"GetTime\"]\n",
    "    get_time_df = get_time_df.reset_index()\n",
    "    del get_time_df[\"index\"]\n",
    "    mean_value = get_time_df[\"Time\"][1:].mean()\n",
    "    avg_durations.append(mean_value)"
   ]
  },
  {
   "cell_type": "code",
   "execution_count": 21,
   "metadata": {},
   "outputs": [],
   "source": [
    "results[\"retrieve (worker->coord)\"] = avg_durations"
   ]
  },
  {
   "cell_type": "code",
   "execution_count": 22,
   "metadata": {},
   "outputs": [
    {
     "data": {
      "text/plain": [
       "[<matplotlib.lines.Line2D at 0x7f3ce6b61240>,\n",
       " <matplotlib.lines.Line2D at 0x7f3ce6b17240>]"
      ]
     },
     "execution_count": 22,
     "metadata": {},
     "output_type": "execute_result"
    },
    {
     "data": {
      "image/png": "[encoded data removed]",
      "text/plain": [
       "<Figure size 432x288 with 1 Axes>"
      ]
     },
     "metadata": {
      "needs_background": "light"
     },
     "output_type": "display_data"
    }
   ],
   "source": [
    "index_list = [int(message_size)*8 for message_size in message_size_list]\n",
    "z2 = np.polyfit(index_list, avg_durations, 1)\n",
    "p2 = np.poly1d(z2)\n",
    "xp = np.linspace(index_list[0], index_list[-1], 1000)\n",
    "\n",
    "plt.title('Retrieve model (hpc0 to hpc3)')\n",
    "plt.xlabel('# of bits')\n",
    "plt.ylabel('time (sec)')\n",
    "plt.plot(index_list, avg_durations, '.', xp, p2(xp))"
   ]
  },
  {
   "cell_type": "code",
   "execution_count": 24,
   "metadata": {},
   "outputs": [
    {
     "data": {
      "text/plain": [
       "465.0529084218439"
      ]
     },
     "execution_count": 24,
     "metadata": {},
     "output_type": "execute_result"
    }
   ],
   "source": [
    "1/z2[0] / 1000 / 1000"
   ]
  },
  {
   "cell_type": "code",
   "execution_count": null,
   "metadata": {},
   "outputs": [],
   "source": []
  },
  {
   "cell_type": "code",
   "execution_count": 25,
   "metadata": {},
   "outputs": [
    {
     "name": "stdout",
     "output_type": "stream",
     "text": [
      "\n",
      "\n",
      "\n"
     ]
    },
    {
     "data": {
      "text/plain": [
       "<matplotlib.legend.Legend at 0x7f3ce6afa9b0>"
      ]
     },
     "execution_count": 25,
     "metadata": {},
     "output_type": "execute_result"
    },
    {
     "data": {
      "image/png": "[encoded data removed]",
      "text/plain": [
       "<Figure size 432x288 with 1 Axes>"
      ]
     },
     "metadata": {
      "needs_background": "light"
     },
     "output_type": "display_data"
    }
   ],
   "source": [
    "index_list = [int(message_size)*8 for message_size in message_size_list]\n",
    "\n",
    "plt.title('Benchmarks for Bandwidth Measurement')\n",
    "plt.xlabel('# of bits')\n",
    "plt.ylabel('time (sec)')\n",
    "\n",
    "p_list = []\n",
    "z_list = []\n",
    "\n",
    "for label, values in results.items():\n",
    "    print()\n",
    "    z2 = np.polyfit(index_list, values, 1)\n",
    "    z_list.append(z2)\n",
    "    p2 = np.poly1d(z2)\n",
    "    xp = np.linspace(index_list[0], index_list[-1], 1000)\n",
    "\n",
    "    plt.plot(index_list, values, '.')\n",
    "    p, = plt.plot(xp, p2(xp))\n",
    "    p_list.append(p)\n",
    "    \n",
    "plt.legend(p_list, list(results.keys()), loc='upper left')"
   ]
  },
  {
   "cell_type": "code",
   "execution_count": 26,
   "metadata": {},
   "outputs": [],
   "source": [
    "label_list = ['client->client', 'server->client', 'retrieve (client->server)']"
   ]
  },
  {
   "cell_type": "code",
   "execution_count": 27,
   "metadata": {},
   "outputs": [
    {
     "name": "stdout",
     "output_type": "stream",
     "text": [
      "\n",
      "\n",
      "\n"
     ]
    },
    {
     "data": {
      "text/plain": [
       "<matplotlib.legend.Legend at 0x7f3ce6a74240>"
      ]
     },
     "execution_count": 27,
     "metadata": {},
     "output_type": "execute_result"
    },
    {
     "data": {
      "image/png": "[encoded data removed]",
      "text/plain": [
       "<Figure size 432x288 with 1 Axes>"
      ]
     },
     "metadata": {
      "needs_background": "light"
     },
     "output_type": "display_data"
    }
   ],
   "source": [
    "index_list = [int(message_size) for message_size in message_size_list]\n",
    "\n",
    "# plt.title('Benchmarks for Bandwidth Measurement')\n",
    "plt.xlabel('# of bytes')\n",
    "plt.ylabel('time (sec)')\n",
    "\n",
    "p_list = []\n",
    "z_list = []\n",
    "\n",
    "for label, values in results.items():\n",
    "    print()\n",
    "    z2 = np.polyfit(index_list, values, 1)\n",
    "    z_list.append(z2)\n",
    "    p2 = np.poly1d(z2)\n",
    "    xp = np.linspace(index_list[0], index_list[-1], 1000)\n",
    "\n",
    "    plt.plot(index_list, values, '.')\n",
    "    p, = plt.plot(xp, p2(xp))\n",
    "    p_list.append(p)\n",
    "    \n",
    "plt.legend(p_list, label_list, loc='upper left')"
   ]
  },
  {
   "cell_type": "code",
   "execution_count": 25,
   "metadata": {},
   "outputs": [
    {
     "name": "stdout",
     "output_type": "stream",
     "text": [
      "\n",
      "\n",
      "\n"
     ]
    },
    {
     "data": {
      "text/plain": [
       "<matplotlib.legend.Legend at 0x7fb2a554c0b8>"
      ]
     },
     "execution_count": 25,
     "metadata": {},
     "output_type": "execute_result"
    },
    {
     "data": {
      "image/png": "[encoded data removed]",
      "text/plain": [
       "<Figure size 432x288 with 1 Axes>"
      ]
     },
     "metadata": {
      "needs_background": "light"
     },
     "output_type": "display_data"
    }
   ],
   "source": [
    "index_list = [int(message_size)*8 for message_size in message_size_list]\n",
    "\n",
    "# plt.title('Benchmarks for Bandwidth Measurement')\n",
    "plt.xlabel('# of bits')\n",
    "plt.ylabel('time (sec)')\n",
    "\n",
    "p_list = []\n",
    "z_list = []\n",
    "\n",
    "for label, values in results.items():\n",
    "    print()\n",
    "    z2 = np.polyfit(index_list, values, 1)\n",
    "    z_list.append(z2)\n",
    "    p2 = np.poly1d(z2)\n",
    "    xp = np.linspace(index_list[0], index_list[-1], 1000)\n",
    "\n",
    "    plt.plot(index_list, values, '.')\n",
    "    p, = plt.plot(xp, p2(xp))\n",
    "    p_list.append(p)\n",
    "    \n",
    "plt.legend(p_list, label_list, loc='upper left')"
   ]
  },
  {
   "cell_type": "code",
   "execution_count": 26,
   "metadata": {},
   "outputs": [
    {
     "data": {
      "text/plain": [
       "['worker->worker', 'coord->worker', 'retrieve (worker->coord)']"
      ]
     },
     "execution_count": 26,
     "metadata": {},
     "output_type": "execute_result"
    }
   ],
   "source": [
    "list(results.keys())"
   ]
  },
  {
   "cell_type": "code",
   "execution_count": 27,
   "metadata": {},
   "outputs": [],
   "source": [
    "label_list = ['client->client', 'server->client', 'retrieve (client->server)']"
   ]
  },
  {
   "cell_type": "code",
   "execution_count": null,
   "metadata": {},
   "outputs": [],
   "source": []
  },
  {
   "cell_type": "code",
   "execution_count": null,
   "metadata": {},
   "outputs": [],
   "source": []
  },
  {
   "cell_type": "code",
   "execution_count": 20,
   "metadata": {},
   "outputs": [
    {
     "data": {
      "text/plain": [
       "0.559809258643617"
      ]
     },
     "execution_count": 20,
     "metadata": {},
     "output_type": "execute_result"
    }
   ],
   "source": [
    "(13794560 * 2) / (47 * 1024 * 1024)"
   ]
  },
  {
   "cell_type": "code",
   "execution_count": 21,
   "metadata": {},
   "outputs": [
    {
     "data": {
      "text/plain": [
       "2.128"
      ]
     },
     "execution_count": 21,
     "metadata": {},
     "output_type": "execute_result"
    }
   ],
   "source": [
    "0.28 * 2 * (1.9) * 2"
   ]
  },
  {
   "cell_type": "code",
   "execution_count": null,
   "metadata": {},
   "outputs": [],
   "source": []
  },
  {
   "cell_type": "code",
   "execution_count": null,
   "metadata": {},
   "outputs": [],
   "source": []
  },
  {
   "cell_type": "markdown",
   "metadata": {},
   "source": [
    "## Compare masking/unmasking (hpc3 -> hpc0)"
   ]
  },
  {
   "cell_type": "code",
   "execution_count": 22,
   "metadata": {},
   "outputs": [],
   "source": [
    "dir_id = \"hpc3-hpc0_unmask\"\n",
    "params_size = [\"10000\", \"500000\", \"1000000\", \"5000000\", \"10000000\"]\n",
    "message_size_list = []\n",
    "avg_durations = []\n",
    "avg_nc_send_time = []\n",
    "avg_nc_recv_time = []"
   ]
  },
  {
   "cell_type": "code",
   "execution_count": 23,
   "metadata": {},
   "outputs": [],
   "source": [
    "for p_size in params_size:\n",
    "    \n",
    "    trace_dir = \"/home/posheng/billy_ws/fl_025/paslab/trace/model_send_params/\" + dir_id + \"/node_num_\" + p_size\n",
    "    coord_trace_file = \"coord.txt\"\n",
    "    coord_df = read_trace(trace_dir, coord_trace_file)\n",
    "    \n",
    "    coord_df = coord_df[4:].reset_index()\n",
    "    del coord_df[\"index\"]\n",
    "    message_size = int(coord_df.iloc[1]['EventState'])\n",
    "    message_size_list.append(message_size)\n",
    "    \n",
    "    start_indices = list(coord_df[coord_df[\"EventType\"] == \"MessageSize\"].index)\n",
    "    durations = np.zeros(len(start_indices))\n",
    "    nc_send_durations = np.zeros(len(start_indices))\n",
    "    nc_recv_durations = np.zeros(len(start_indices))\n",
    "    \n",
    "    for i in range(len(start_indices)):\n",
    "        idx = start_indices[i]\n",
    "        durations[i] = coord_df.iloc[idx+4][\"Time\"]\n",
    "        nc_send_durations[i] = coord_df.iloc[idx+2][\"Time\"] - coord_df.iloc[idx+1][\"Time\"]\n",
    "        nc_recv_durations[i] = coord_df.iloc[idx+3][\"Time\"] - coord_df.iloc[idx+2][\"Time\"]\n",
    "\n",
    "    \n",
    "    avg_durations.append(durations.mean())\n",
    "    avg_nc_send_time.append(nc_send_durations.mean())\n",
    "    avg_nc_recv_time.append(nc_recv_durations.mean())"
   ]
  },
  {
   "cell_type": "code",
   "execution_count": 24,
   "metadata": {},
   "outputs": [
    {
     "data": {
      "text/plain": [
       "[0.006088125705718994,\n",
       " 0.07887066602706909,\n",
       " 0.15417519807815552,\n",
       " 1.1653847575187684,\n",
       " 3.0666594386100767]"
      ]
     },
     "execution_count": 24,
     "metadata": {},
     "output_type": "execute_result"
    }
   ],
   "source": [
    "avg_durations"
   ]
  },
  {
   "cell_type": "code",
   "execution_count": 25,
   "metadata": {},
   "outputs": [
    {
     "data": {
      "text/plain": [
       "[0.0001287221908569336,\n",
       " 0.04124709367752075,\n",
       " 0.08704640865325927,\n",
       " 0.6173547506332397,\n",
       " 1.8805806636810303]"
      ]
     },
     "execution_count": 25,
     "metadata": {},
     "output_type": "execute_result"
    }
   ],
   "source": [
    "avg_nc_send_time"
   ]
  },
  {
   "cell_type": "code",
   "execution_count": 26,
   "metadata": {},
   "outputs": [
    {
     "data": {
      "text/plain": [
       "[0.004267764091491699,\n",
       " 0.02627232074737549,\n",
       " 0.04446381330490112,\n",
       " 0.25637178421020507,\n",
       " 0.5533512949943542]"
      ]
     },
     "execution_count": 26,
     "metadata": {},
     "output_type": "execute_result"
    }
   ],
   "source": [
    "avg_nc_recv_time"
   ]
  },
  {
   "cell_type": "code",
   "execution_count": 27,
   "metadata": {},
   "outputs": [
    {
     "data": {
      "text/plain": [
       "[<matplotlib.lines.Line2D at 0x7f94e9da3978>,\n",
       " <matplotlib.lines.Line2D at 0x7f94e9d47470>]"
      ]
     },
     "execution_count": 27,
     "metadata": {},
     "output_type": "execute_result"
    },
    {
     "data": {
      "image/png": "[encoded data removed]",
      "text/plain": [
       "<Figure size 432x288 with 1 Axes>"
      ]
     },
     "metadata": {
      "needs_background": "light"
     },
     "output_type": "display_data"
    }
   ],
   "source": [
    "index_list = [int(message_size)*8 for message_size in message_size_list]\n",
    "z2 = np.polyfit(index_list, avg_durations, 1)\n",
    "p2 = np.poly1d(z2)\n",
    "xp = np.linspace(index_list[0], index_list[-1], 1000)\n",
    "\n",
    "plt.title(dir_id)\n",
    "plt.xlabel('# of bits')\n",
    "plt.ylabel('time (sec)')\n",
    "plt.plot(index_list, avg_durations, '.', xp, p2(xp))"
   ]
  },
  {
   "cell_type": "code",
   "execution_count": 28,
   "metadata": {},
   "outputs": [],
   "source": [
    "unmask_avg_durations = avg_durations"
   ]
  },
  {
   "cell_type": "code",
   "execution_count": 29,
   "metadata": {},
   "outputs": [
    {
     "data": {
      "text/plain": [
       "299.5829589882998"
      ]
     },
     "execution_count": 29,
     "metadata": {},
     "output_type": "execute_result"
    }
   ],
   "source": [
    "1/z2[0] / 1024 / 1024"
   ]
  },
  {
   "cell_type": "code",
   "execution_count": null,
   "metadata": {},
   "outputs": [],
   "source": []
  },
  {
   "cell_type": "code",
   "execution_count": null,
   "metadata": {},
   "outputs": [],
   "source": []
  },
  {
   "cell_type": "code",
   "execution_count": 30,
   "metadata": {},
   "outputs": [],
   "source": [
    "dir_id = \"hpc3-hpc0\"\n",
    "worker_id = \"hpc0\"\n",
    "params_size = [\"10000\", \"500000\", \"1000000\", \"5000000\", \"10000000\"]\n",
    "message_size_list = []\n",
    "avg_durations = []\n",
    "avg_nc_send_time = []\n",
    "avg_nc_recv_time = []\n",
    "\n",
    "for p_size in params_size:\n",
    "    trace_dir = \"/home/posheng/billy_ws/fl_025/paslab/trace/model_send_params/\" + dir_id + \"/node_num_\" + p_size\n",
    "    coord_trace_file = \"coord.txt\"\n",
    "    worker_trace_file = worker_id + \".txt\"\n",
    "\n",
    "    coord_df = read_trace(trace_dir, coord_trace_file)\n",
    "    \n",
    "    ## preproc\n",
    "    idx_list = []\n",
    "\n",
    "    for i in range(len(coord_df)):\n",
    "        row =  coord_df.iloc[i]\n",
    "        if row[\"EventType\"][:7] == \"WEBSOCK\":\n",
    "            idx_list.append(i)\n",
    "    coord_df = coord_df.drop(idx_list)\n",
    "    \n",
    "    \n",
    "    coord_df = coord_df[4:].reset_index()\n",
    "    del coord_df[\"index\"]\n",
    "    message_size = int(coord_df.iloc[0]['EventState'])\n",
    "    message_size_list.append(message_size)\n",
    "    \n",
    "    w_df = read_trace(trace_dir, worker_trace_file, worker_id)\n",
    "\n",
    "    start_indices = list(coord_df[coord_df[\"EventType\"] == \"MessageSize\"].index)\n",
    "    \n",
    "    durations = np.zeros(len(start_indices))\n",
    "    nc_send_durations = np.zeros(len(start_indices))\n",
    "    nc_recv_durations = np.zeros(len(start_indices))\n",
    "    for i in range(len(start_indices)):\n",
    "        idx = start_indices[i]\n",
    "        durations[i] = coord_df.iloc[idx+4][\"Time\"]\n",
    "        nc_send_durations[i] = coord_df.iloc[idx+2][\"Time\"] - coord_df.iloc[idx+1][\"Time\"]\n",
    "        nc_recv_durations[i] = coord_df.iloc[idx+3][\"Time\"] - coord_df.iloc[idx+2][\"Time\"]\n",
    "    \n",
    "    avg_durations.append(durations.mean())\n",
    "    avg_nc_send_time.append(nc_send_durations.mean())\n",
    "    avg_nc_recv_time.append(nc_recv_durations.mean())"
   ]
  },
  {
   "cell_type": "code",
   "execution_count": 31,
   "metadata": {},
   "outputs": [
    {
     "data": {
      "text/plain": [
       "[<matplotlib.lines.Line2D at 0x7f94e9cfc198>,\n",
       " <matplotlib.lines.Line2D at 0x7f94e9d31240>]"
      ]
     },
     "execution_count": 31,
     "metadata": {},
     "output_type": "execute_result"
    },
    {
     "data": {
      "image/png": "[encoded data removed]",
      "text/plain": [
       "<Figure size 432x288 with 1 Axes>"
      ]
     },
     "metadata": {
      "needs_background": "light"
     },
     "output_type": "display_data"
    }
   ],
   "source": [
    "index_list = [int(message_size)*8 for message_size in message_size_list]\n",
    "z2 = np.polyfit(index_list, avg_durations, 1)\n",
    "p2 = np.poly1d(z2)\n",
    "xp = np.linspace(index_list[0], index_list[-1], 1000)\n",
    "\n",
    "plt.title('hpc3 to hpc0')\n",
    "plt.xlabel('# of bits')\n",
    "plt.ylabel('time (sec)')\n",
    "plt.plot(index_list, avg_durations, '.', xp, p2(xp))"
   ]
  },
  {
   "cell_type": "code",
   "execution_count": 32,
   "metadata": {},
   "outputs": [],
   "source": [
    "mask_avg_durations = avg_durations"
   ]
  },
  {
   "cell_type": "code",
   "execution_count": 33,
   "metadata": {},
   "outputs": [
    {
     "data": {
      "text/plain": [
       "44.96870704625566"
      ]
     },
     "execution_count": 33,
     "metadata": {},
     "output_type": "execute_result"
    }
   ],
   "source": [
    "1/z2[0] / 1024 / 1024"
   ]
  },
  {
   "cell_type": "code",
   "execution_count": null,
   "metadata": {},
   "outputs": [],
   "source": []
  },
  {
   "cell_type": "code",
   "execution_count": null,
   "metadata": {},
   "outputs": [],
   "source": []
  },
  {
   "cell_type": "code",
   "execution_count": null,
   "metadata": {},
   "outputs": [],
   "source": []
  },
  {
   "cell_type": "code",
   "execution_count": 34,
   "metadata": {},
   "outputs": [
    {
     "data": {
      "text/plain": [
       "<matplotlib.legend.Legend at 0x7f94e9ca46a0>"
      ]
     },
     "execution_count": 34,
     "metadata": {},
     "output_type": "execute_result"
    },
    {
     "data": {
      "image/png": "[encoded data removed]",
      "text/plain": [
       "<Figure size 432x288 with 1 Axes>"
      ]
     },
     "metadata": {
      "needs_background": "light"
     },
     "output_type": "display_data"
    }
   ],
   "source": [
    "index_list = [int(message_size)*8 for message_size in message_size_list]\n",
    "\n",
    "plt.title('Bandwidth Measurement (unmask v.s mask)')\n",
    "plt.xlabel('# of bits')\n",
    "plt.ylabel('time (sec)')\n",
    "\n",
    "p_list = []\n",
    "z_list = []\n",
    "\n",
    "# for label, values in results.items():\n",
    "z2 = np.polyfit(index_list, unmask_avg_durations, 1)\n",
    "z_list.append(z2)\n",
    "p2 = np.poly1d(z2)\n",
    "xp = np.linspace(index_list[0], index_list[-1], 1000)\n",
    "\n",
    "plt.plot(index_list, unmask_avg_durations, '.')\n",
    "p, = plt.plot(xp, p2(xp))\n",
    "p_list.append(p)\n",
    "\n",
    "z2 = np.polyfit(index_list, mask_avg_durations, 1)\n",
    "z_list.append(z2)\n",
    "p2 = np.poly1d(z2)\n",
    "xp = np.linspace(index_list[0], index_list[-1], 1000)\n",
    "\n",
    "plt.plot(index_list, mask_avg_durations, '.')\n",
    "p, = plt.plot(xp, p2(xp))\n",
    "p_list.append(p)\n",
    "    \n",
    "plt.legend(p_list, [\"unmask\", \"mask\"], loc='upper left')"
   ]
  },
  {
   "cell_type": "code",
   "execution_count": null,
   "metadata": {},
   "outputs": [],
   "source": []
  },
  {
   "cell_type": "code",
   "execution_count": null,
   "metadata": {},
   "outputs": [],
   "source": []
  },
  {
   "cell_type": "code",
   "execution_count": null,
   "metadata": {},
   "outputs": [],
   "source": []
  }
 ],
 "metadata": {
  "kernelspec": {
   "display_name": "Python 3",
   "language": "python",
   "name": "python3"
  },
  "language_info": {
   "codemirror_mode": {
    "name": "ipython",
    "version": 3
   },
   "file_extension": ".py",
   "mimetype": "text/x-python",
   "name": "python",
   "nbconvert_exporter": "python",
   "pygments_lexer": "ipython3",
   "version": "3.6.10"
  }
 },
 "nbformat": 4,
 "nbformat_minor": 4
}

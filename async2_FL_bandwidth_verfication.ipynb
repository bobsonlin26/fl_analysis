{
 "cells": [
  {
   "cell_type": "code",
   "execution_count": 1,
   "metadata": {},
   "outputs": [],
   "source": [
    "import pandas as pd\n",
    "from io import StringIO\n",
    "import os"
   ]
  },
  {
   "cell_type": "markdown",
   "metadata": {},
   "source": [
    "## Read trace"
   ]
  },
  {
   "cell_type": "code",
   "execution_count": 2,
   "metadata": {},
   "outputs": [],
   "source": [
    "def read_trace(trace_dir, trace_file, worker_id=None):\n",
    "    trace_filepath = os.path.join(trace_dir, trace_file)\n",
    "    \n",
    "    with open(trace_filepath,\"r\") as rf:\n",
    "        new_trace = StringIO()\n",
    "        line = rf.readline()\n",
    "        while line:\n",
    "            line_list = line.split()\n",
    "            if line_list[0] == \"[trace]\":\n",
    "                new_trace.write(line)\n",
    "            line = rf.readline()\n",
    "       \n",
    "    new_trace.seek(0)\n",
    "    df = pd.read_csv(new_trace, sep=\" \", names=[\"InfoType\", \"EventType\", \"EventState\", \"ID\", \"Time\"])\n",
    "    del df[\"InfoType\"]\n",
    "    \n",
    "    if worker_id is not None:\n",
    "        df.insert(0, \"WorkerID\", worker_id)\n",
    "        \n",
    "    new_trace.close()\n",
    "    \n",
    "    return df"
   ]
  },
  {
   "cell_type": "markdown",
   "metadata": {},
   "source": [
    "### COORD"
   ]
  },
  {
   "cell_type": "code",
   "execution_count": 3,
   "metadata": {},
   "outputs": [],
   "source": [
    "trace_dir = \"/home/posheng/billy_ws/fl_025/paslab/trace/async2_fl_bw_3rm/100mbps\"\n",
    "coord_trace_file = \"coord.txt\"\n",
    "hpc0_trace_file = \"hpc0.txt\"\n",
    "hpc1_trace_file = \"hpc1.txt\"\n",
    "hpc2_trace_file = \"hpc2.txt\"\n",
    "# hpc3_trace_file = \"hpc3_trace.txt\""
   ]
  },
  {
   "cell_type": "code",
   "execution_count": 4,
   "metadata": {},
   "outputs": [],
   "source": [
    "# coord_df = read_trace(trace_dir, coord_trace_file)\n",
    "# hpc1_df = read_trace(trace_dir, hpc1_trace_file, \"alice\")\n",
    "# hpc2_df = read_trace(trace_dir, hpc2_trace_file, \"bob\")\n",
    "# hpc3_df = read_trace(trace_dir, hpc3_trace_file, \"charlie\")\n",
    "\n",
    "coord_df = read_trace(trace_dir, coord_trace_file)\n",
    "w0_df = read_trace(trace_dir, hpc0_trace_file, \"alice\")\n",
    "w1_df = read_trace(trace_dir, hpc1_trace_file, \"bob\")\n",
    "w2_df = read_trace(trace_dir, hpc2_trace_file, \"charlie\")"
   ]
  },
  {
   "cell_type": "code",
   "execution_count": 5,
   "metadata": {},
   "outputs": [],
   "source": [
    "hpc1_df = w0_df\n",
    "hpc2_df = w1_df\n",
    "hpc3_df = w2_df"
   ]
  },
  {
   "cell_type": "code",
   "execution_count": 6,
   "metadata": {},
   "outputs": [],
   "source": [
    "worker_dfs = {\n",
    "    \"alice\": hpc1_df,\n",
    "    \"bob\": hpc2_df,\n",
    "    \"charlie\": hpc3_df\n",
    "}"
   ]
  },
  {
   "cell_type": "markdown",
   "metadata": {},
   "source": [
    "## Duration"
   ]
  },
  {
   "cell_type": "code",
   "execution_count": 7,
   "metadata": {},
   "outputs": [],
   "source": [
    "def get_worker_duration(worker_id, worker_dfs, event_type):\n",
    "    worker_df = worker_dfs[worker_id]\n",
    "    worker_event_df = worker_df[worker_df[\"EventType\"].str.contains(event_type, regex=False)]\n",
    "    worker_event_df = worker_event_df.reset_index()\n",
    "    \n",
    "    del worker_event_df['index']\n",
    "    del worker_event_df['ID']\n",
    "    \n",
    "    return worker_event_df"
   ]
  },
  {
   "cell_type": "code",
   "execution_count": 8,
   "metadata": {},
   "outputs": [],
   "source": [
    "def get_coord_duration(coord_df, event_type):\n",
    "    coord_event_df = coord_df[coord_df[\"EventType\"].str.contains(event_type, regex=False)]\n",
    "    coord_event_df = coord_event_df.reset_index()\n",
    "    \n",
    "    del coord_event_df['index']\n",
    "    del coord_event_df['ID']\n",
    "    \n",
    "    return coord_event_df"
   ]
  },
  {
   "cell_type": "code",
   "execution_count": 9,
   "metadata": {},
   "outputs": [],
   "source": [
    "def calculate_duration(event_type, df):\n",
    "    event_df = df[df[\"EventType\"] == event_type][[\"EventType\", \"EventState\", \"ID\", \"Time\"]]\n",
    "    event_start_df = event_df[event_df[\"EventState\"] == \"start\"][[\"ID\", \"Time\"]]\n",
    "    event_start_df = event_start_df.reset_index()\n",
    "\n",
    "    event_end_df = event_df[event_df[\"EventState\"] == \"end\"][[\"Time\"]]\n",
    "    event_end_df = event_end_df.reset_index()\n",
    "    \n",
    "    event_df_cat = pd.concat([event_start_df, event_end_df], axis=1)\n",
    "    del event_df_cat['index']\n",
    "    event_df_cat.columns = [\"ID\", \"StartTime\", \"EndTime\"]\n",
    "    \n",
    "    event_df_cat[\"Duration\"] = event_df_cat.apply(lambda x: x[\"EndTime\"] - x[\"StartTime\"], axis=1)\n",
    "    event_df_cat.insert(0, \"EventType\", event_type)\n",
    "    return event_df_cat\n"
   ]
  },
  {
   "cell_type": "code",
   "execution_count": 10,
   "metadata": {},
   "outputs": [],
   "source": [
    "GlobalModelSendDuration = calculate_duration(\"GlobalModelSend\", coord_df)"
   ]
  },
  {
   "cell_type": "code",
   "execution_count": 11,
   "metadata": {},
   "outputs": [],
   "source": [
    "LossFuncSendDuration = calculate_duration(\"LossFuncSend\", coord_df)"
   ]
  },
  {
   "cell_type": "code",
   "execution_count": 12,
   "metadata": {},
   "outputs": [],
   "source": [
    "ModelConfigSendDuration = calculate_duration(\"ModelConfigSend\", coord_df)"
   ]
  },
  {
   "cell_type": "markdown",
   "metadata": {},
   "source": [
    "### GlobalModelSendDuration"
   ]
  },
  {
   "cell_type": "code",
   "execution_count": 13,
   "metadata": {
    "scrolled": true
   },
   "outputs": [
    {
     "data": {
      "text/plain": [
       "0.7651961922645569"
      ]
     },
     "execution_count": 13,
     "metadata": {},
     "output_type": "execute_result"
    }
   ],
   "source": [
    "GlobalModelSendDuration[GlobalModelSendDuration[\"ID\"] == \"alice\"][1:]['Duration'].mean()"
   ]
  },
  {
   "cell_type": "code",
   "execution_count": 14,
   "metadata": {},
   "outputs": [
    {
     "data": {
      "text/plain": [
       "0.7568269848823548"
      ]
     },
     "execution_count": 14,
     "metadata": {},
     "output_type": "execute_result"
    }
   ],
   "source": [
    "GlobalModelSendDuration[GlobalModelSendDuration[\"ID\"] == \"bob\"][1:]['Duration'].mean()"
   ]
  },
  {
   "cell_type": "code",
   "execution_count": 15,
   "metadata": {},
   "outputs": [
    {
     "data": {
      "text/plain": [
       "0.7636773109436035"
      ]
     },
     "execution_count": 15,
     "metadata": {},
     "output_type": "execute_result"
    }
   ],
   "source": [
    "GlobalModelSendDuration[GlobalModelSendDuration[\"ID\"] == \"charlie\"][1:]['Duration'].mean()"
   ]
  },
  {
   "cell_type": "markdown",
   "metadata": {},
   "source": [
    "### LossFuncSendDuration"
   ]
  },
  {
   "cell_type": "code",
   "execution_count": 16,
   "metadata": {},
   "outputs": [
    {
     "data": {
      "text/plain": [
       "0.0014116764068603516"
      ]
     },
     "execution_count": 16,
     "metadata": {},
     "output_type": "execute_result"
    }
   ],
   "source": [
    "LossFuncSendDuration[LossFuncSendDuration[\"ID\"] == \"alice\"][1:]['Duration'].mean()"
   ]
  },
  {
   "cell_type": "code",
   "execution_count": 17,
   "metadata": {},
   "outputs": [
    {
     "data": {
      "text/plain": [
       "0.001397240161895752"
      ]
     },
     "execution_count": 17,
     "metadata": {},
     "output_type": "execute_result"
    }
   ],
   "source": [
    "LossFuncSendDuration[LossFuncSendDuration[\"ID\"] == \"bob\"][1:]['Duration'].mean()"
   ]
  },
  {
   "cell_type": "code",
   "execution_count": 18,
   "metadata": {},
   "outputs": [
    {
     "data": {
      "text/plain": [
       "0.0013011336326599122"
      ]
     },
     "execution_count": 18,
     "metadata": {},
     "output_type": "execute_result"
    }
   ],
   "source": [
    "LossFuncSendDuration[LossFuncSendDuration[\"ID\"] == \"charlie\"][1:]['Duration'].mean()"
   ]
  },
  {
   "cell_type": "markdown",
   "metadata": {},
   "source": [
    "### ModelConfigSendDuration"
   ]
  },
  {
   "cell_type": "code",
   "execution_count": 19,
   "metadata": {},
   "outputs": [
    {
     "data": {
      "text/plain": [
       "0.0010106205940246583"
      ]
     },
     "execution_count": 19,
     "metadata": {},
     "output_type": "execute_result"
    }
   ],
   "source": [
    "ModelConfigSendDuration[ModelConfigSendDuration[\"ID\"] == \"alice\"][1:]['Duration'].mean()"
   ]
  },
  {
   "cell_type": "code",
   "execution_count": 20,
   "metadata": {},
   "outputs": [
    {
     "data": {
      "text/plain": [
       "0.0010421037673950194"
      ]
     },
     "execution_count": 20,
     "metadata": {},
     "output_type": "execute_result"
    }
   ],
   "source": [
    "ModelConfigSendDuration[ModelConfigSendDuration[\"ID\"] == \"bob\"][1:]['Duration'].mean()"
   ]
  },
  {
   "cell_type": "code",
   "execution_count": 21,
   "metadata": {},
   "outputs": [
    {
     "data": {
      "text/plain": [
       "0.0009946823120117188"
      ]
     },
     "execution_count": 21,
     "metadata": {},
     "output_type": "execute_result"
    }
   ],
   "source": [
    "ModelConfigSendDuration[ModelConfigSendDuration[\"ID\"] == \"charlie\"][1:]['Duration'].mean()"
   ]
  },
  {
   "cell_type": "markdown",
   "metadata": {},
   "source": [
    "## GlobalInformationSend Duration"
   ]
  },
  {
   "cell_type": "code",
   "execution_count": 22,
   "metadata": {},
   "outputs": [],
   "source": [
    "def get_coord_global_send_duration(coord_df, worker_id):\n",
    "    coord_event_df = coord_df[coord_df[\"EventType\"].str.contains(\"GlobalInformationSend\", regex=False)]\n",
    "    coord_event_df = coord_event_df[coord_event_df[\"ID\"] == worker_id]\n",
    "    coord_event_df = coord_event_df.reset_index()\n",
    "    \n",
    "    del coord_event_df['index']\n",
    "    \n",
    "    return coord_event_df"
   ]
  },
  {
   "cell_type": "code",
   "execution_count": 42,
   "metadata": {},
   "outputs": [
    {
     "data": {
      "text/plain": [
       "0.016039609909057617"
      ]
     },
     "execution_count": 42,
     "metadata": {},
     "output_type": "execute_result"
    }
   ],
   "source": [
    "1602055807.1283371 - 1602055807.1122975"
   ]
  },
  {
   "cell_type": "code",
   "execution_count": 23,
   "metadata": {},
   "outputs": [],
   "source": [
    "hpc1_gs_df = get_coord_global_send_duration(coord_df, \"alice\")"
   ]
  },
  {
   "cell_type": "code",
   "execution_count": 24,
   "metadata": {},
   "outputs": [],
   "source": [
    "hpc2_gs_df = get_coord_global_send_duration(coord_df, \"bob\")"
   ]
  },
  {
   "cell_type": "code",
   "execution_count": 25,
   "metadata": {},
   "outputs": [],
   "source": [
    "hpc3_gs_df = get_coord_global_send_duration(coord_df, \"charlie\")"
   ]
  },
  {
   "cell_type": "code",
   "execution_count": 30,
   "metadata": {},
   "outputs": [
    {
     "data": {
      "text/plain": [
       "0     0.768052\n",
       "1     0.778790\n",
       "2     0.749535\n",
       "3     0.753522\n",
       "4     0.783623\n",
       "5     0.687530\n",
       "6     0.724591\n",
       "7     0.790412\n",
       "8     0.706375\n",
       "9     0.795602\n",
       "10    0.777714\n",
       "11    0.763020\n",
       "12    0.791592\n",
       "13    0.790056\n",
       "14    0.788557\n",
       "15    0.772515\n",
       "16    0.786885\n",
       "17    0.755273\n",
       "18    0.740917\n",
       "19    0.778038\n",
       "20    0.788069\n",
       "Name: Time, dtype: float64"
      ]
     },
     "execution_count": 30,
     "metadata": {},
     "output_type": "execute_result"
    }
   ],
   "source": [
    "hpc1_gs_df['Time']"
   ]
  },
  {
   "cell_type": "code",
   "execution_count": 26,
   "metadata": {},
   "outputs": [
    {
     "data": {
      "text/plain": [
       "0.7651306986808777"
      ]
     },
     "execution_count": 26,
     "metadata": {},
     "output_type": "execute_result"
    }
   ],
   "source": [
    "hpc1_gs_df['Time'][1:].mean()"
   ]
  },
  {
   "cell_type": "code",
   "execution_count": 27,
   "metadata": {},
   "outputs": [
    {
     "data": {
      "text/plain": [
       "0.7618660926818848"
      ]
     },
     "execution_count": 27,
     "metadata": {},
     "output_type": "execute_result"
    }
   ],
   "source": [
    "hpc2_gs_df['Time'][1:].mean()"
   ]
  },
  {
   "cell_type": "code",
   "execution_count": 28,
   "metadata": {},
   "outputs": [
    {
     "data": {
      "text/plain": [
       "0.7659916877746582"
      ]
     },
     "execution_count": 28,
     "metadata": {},
     "output_type": "execute_result"
    }
   ],
   "source": [
    "hpc3_gs_df['Time'][1:].mean()"
   ]
  },
  {
   "cell_type": "markdown",
   "metadata": {},
   "source": [
    "## Send Time"
   ]
  },
  {
   "cell_type": "code",
   "execution_count": 29,
   "metadata": {},
   "outputs": [],
   "source": [
    "## EventType:\n",
    "##     * GlobalModelSend\n",
    "##     * LossFuncSend\n",
    "##     * ModelConfigSend\n",
    "def calculate_send_time(coord_df, worker_dfs, event_type):\n",
    "    event_start_df = coord_df[(coord_df[\"EventType\"] == event_type) & (coord_df[\"EventState\"] == \"start\")]\n",
    "    worker_event_send_time_dfs = {}\n",
    "    \n",
    "    for worker_id in worker_dfs.keys():\n",
    "        worker_event_start_df = event_start_df[event_start_df[\"ID\"] == worker_id]\n",
    "        worker_event_start_df = worker_event_start_df.reset_index()\n",
    "        del worker_event_start_df['index']\n",
    "        worker_event_start_df.columns = [\"EventType\", \"EventState\", \"ID\", \"StartTime\"]\n",
    "        \n",
    "        worker_df = worker_dfs[worker_id]\n",
    "        worker_event_recv_df = worker_df[worker_df[\"EventType\"] == event_type]\n",
    "        worker_event_recv_df = worker_event_recv_df.reset_index()\n",
    "        del worker_event_recv_df['index']\n",
    "        worker_event_recv_df.columns = [\"WorkerID\", \"EventType\", \"EventState\", \"ID\", \"RecvTime\"]\n",
    "        \n",
    "        worker_recv_time_series = worker_event_recv_df[\"RecvTime\"]\n",
    "        worker_event_send_time_df = pd.concat([worker_event_start_df, worker_recv_time_series], axis=1)\n",
    "        worker_event_send_time_df[\"SendTime\"] = worker_event_send_time_df.apply(lambda x: x[\"RecvTime\"] - x[\"StartTime\"], axis=1)\n",
    "        del worker_event_send_time_df[\"EventState\"]\n",
    "        \n",
    "        worker_event_send_time_dfs[worker_id] = worker_event_send_time_df\n",
    "        \n",
    "    return worker_event_send_time_dfs"
   ]
  },
  {
   "cell_type": "code",
   "execution_count": 30,
   "metadata": {},
   "outputs": [],
   "source": [
    "worker_gms_send_time_dfs = calculate_send_time(coord_df, worker_dfs, \"GlobalModelSend\")"
   ]
  },
  {
   "cell_type": "code",
   "execution_count": 31,
   "metadata": {},
   "outputs": [
    {
     "data": {
      "text/plain": [
       "0.7485054901668003"
      ]
     },
     "execution_count": 31,
     "metadata": {},
     "output_type": "execute_result"
    }
   ],
   "source": [
    "worker_gms_send_time_dfs['alice']['SendTime'].mean()"
   ]
  },
  {
   "cell_type": "code",
   "execution_count": 32,
   "metadata": {},
   "outputs": [
    {
     "data": {
      "text/html": [
       "<div>\n",
       "<style scoped>\n",
       "    .dataframe tbody tr th:only-of-type {\n",
       "        vertical-align: middle;\n",
       "    }\n",
       "\n",
       "    .dataframe tbody tr th {\n",
       "        vertical-align: top;\n",
       "    }\n",
       "\n",
       "    .dataframe thead th {\n",
       "        text-align: right;\n",
       "    }\n",
       "</style>\n",
       "<table border=\"1\" class=\"dataframe\">\n",
       "  <thead>\n",
       "    <tr style=\"text-align: right;\">\n",
       "      <th></th>\n",
       "      <th>EventType</th>\n",
       "      <th>ID</th>\n",
       "      <th>StartTime</th>\n",
       "      <th>RecvTime</th>\n",
       "      <th>SendTime</th>\n",
       "    </tr>\n",
       "  </thead>\n",
       "  <tbody>\n",
       "    <tr>\n",
       "      <th>0</th>\n",
       "      <td>GlobalModelSend</td>\n",
       "      <td>alice</td>\n",
       "      <td>1.601986e+09</td>\n",
       "      <td>1.601986e+09</td>\n",
       "      <td>0.751460</td>\n",
       "    </tr>\n",
       "    <tr>\n",
       "      <th>1</th>\n",
       "      <td>GlobalModelSend</td>\n",
       "      <td>alice</td>\n",
       "      <td>1.601986e+09</td>\n",
       "      <td>1.601986e+09</td>\n",
       "      <td>0.762440</td>\n",
       "    </tr>\n",
       "    <tr>\n",
       "      <th>2</th>\n",
       "      <td>GlobalModelSend</td>\n",
       "      <td>alice</td>\n",
       "      <td>1.601986e+09</td>\n",
       "      <td>1.601986e+09</td>\n",
       "      <td>0.732629</td>\n",
       "    </tr>\n",
       "    <tr>\n",
       "      <th>3</th>\n",
       "      <td>GlobalModelSend</td>\n",
       "      <td>alice</td>\n",
       "      <td>1.601986e+09</td>\n",
       "      <td>1.601986e+09</td>\n",
       "      <td>0.736666</td>\n",
       "    </tr>\n",
       "    <tr>\n",
       "      <th>4</th>\n",
       "      <td>GlobalModelSend</td>\n",
       "      <td>alice</td>\n",
       "      <td>1.601986e+09</td>\n",
       "      <td>1.601986e+09</td>\n",
       "      <td>0.765949</td>\n",
       "    </tr>\n",
       "    <tr>\n",
       "      <th>5</th>\n",
       "      <td>GlobalModelSend</td>\n",
       "      <td>alice</td>\n",
       "      <td>1.601986e+09</td>\n",
       "      <td>1.601986e+09</td>\n",
       "      <td>0.670759</td>\n",
       "    </tr>\n",
       "    <tr>\n",
       "      <th>6</th>\n",
       "      <td>GlobalModelSend</td>\n",
       "      <td>alice</td>\n",
       "      <td>1.601986e+09</td>\n",
       "      <td>1.601986e+09</td>\n",
       "      <td>0.707843</td>\n",
       "    </tr>\n",
       "    <tr>\n",
       "      <th>7</th>\n",
       "      <td>GlobalModelSend</td>\n",
       "      <td>alice</td>\n",
       "      <td>1.601987e+09</td>\n",
       "      <td>1.601987e+09</td>\n",
       "      <td>0.772914</td>\n",
       "    </tr>\n",
       "    <tr>\n",
       "      <th>8</th>\n",
       "      <td>GlobalModelSend</td>\n",
       "      <td>alice</td>\n",
       "      <td>1.601987e+09</td>\n",
       "      <td>1.601987e+09</td>\n",
       "      <td>0.689674</td>\n",
       "    </tr>\n",
       "    <tr>\n",
       "      <th>9</th>\n",
       "      <td>GlobalModelSend</td>\n",
       "      <td>alice</td>\n",
       "      <td>1.601987e+09</td>\n",
       "      <td>1.601987e+09</td>\n",
       "      <td>0.778400</td>\n",
       "    </tr>\n",
       "    <tr>\n",
       "      <th>10</th>\n",
       "      <td>GlobalModelSend</td>\n",
       "      <td>alice</td>\n",
       "      <td>1.601987e+09</td>\n",
       "      <td>1.601987e+09</td>\n",
       "      <td>0.761114</td>\n",
       "    </tr>\n",
       "    <tr>\n",
       "      <th>11</th>\n",
       "      <td>GlobalModelSend</td>\n",
       "      <td>alice</td>\n",
       "      <td>1.601987e+09</td>\n",
       "      <td>1.601987e+09</td>\n",
       "      <td>0.746384</td>\n",
       "    </tr>\n",
       "    <tr>\n",
       "      <th>12</th>\n",
       "      <td>GlobalModelSend</td>\n",
       "      <td>alice</td>\n",
       "      <td>1.601987e+09</td>\n",
       "      <td>1.601987e+09</td>\n",
       "      <td>0.774974</td>\n",
       "    </tr>\n",
       "    <tr>\n",
       "      <th>13</th>\n",
       "      <td>GlobalModelSend</td>\n",
       "      <td>alice</td>\n",
       "      <td>1.601987e+09</td>\n",
       "      <td>1.601987e+09</td>\n",
       "      <td>0.773540</td>\n",
       "    </tr>\n",
       "    <tr>\n",
       "      <th>14</th>\n",
       "      <td>GlobalModelSend</td>\n",
       "      <td>alice</td>\n",
       "      <td>1.601987e+09</td>\n",
       "      <td>1.601987e+09</td>\n",
       "      <td>0.771943</td>\n",
       "    </tr>\n",
       "    <tr>\n",
       "      <th>15</th>\n",
       "      <td>GlobalModelSend</td>\n",
       "      <td>alice</td>\n",
       "      <td>1.601987e+09</td>\n",
       "      <td>1.601987e+09</td>\n",
       "      <td>0.755949</td>\n",
       "    </tr>\n",
       "    <tr>\n",
       "      <th>16</th>\n",
       "      <td>GlobalModelSend</td>\n",
       "      <td>alice</td>\n",
       "      <td>1.601987e+09</td>\n",
       "      <td>1.601987e+09</td>\n",
       "      <td>0.770322</td>\n",
       "    </tr>\n",
       "    <tr>\n",
       "      <th>17</th>\n",
       "      <td>GlobalModelSend</td>\n",
       "      <td>alice</td>\n",
       "      <td>1.601987e+09</td>\n",
       "      <td>1.601987e+09</td>\n",
       "      <td>0.738916</td>\n",
       "    </tr>\n",
       "    <tr>\n",
       "      <th>18</th>\n",
       "      <td>GlobalModelSend</td>\n",
       "      <td>alice</td>\n",
       "      <td>1.601987e+09</td>\n",
       "      <td>1.601987e+09</td>\n",
       "      <td>0.724135</td>\n",
       "    </tr>\n",
       "    <tr>\n",
       "      <th>19</th>\n",
       "      <td>GlobalModelSend</td>\n",
       "      <td>alice</td>\n",
       "      <td>1.601987e+09</td>\n",
       "      <td>1.601987e+09</td>\n",
       "      <td>0.761290</td>\n",
       "    </tr>\n",
       "    <tr>\n",
       "      <th>20</th>\n",
       "      <td>GlobalModelSend</td>\n",
       "      <td>alice</td>\n",
       "      <td>1.601987e+09</td>\n",
       "      <td>1.601987e+09</td>\n",
       "      <td>0.771314</td>\n",
       "    </tr>\n",
       "  </tbody>\n",
       "</table>\n",
       "</div>"
      ],
      "text/plain": [
       "          EventType     ID     StartTime      RecvTime  SendTime\n",
       "0   GlobalModelSend  alice  1.601986e+09  1.601986e+09  0.751460\n",
       "1   GlobalModelSend  alice  1.601986e+09  1.601986e+09  0.762440\n",
       "2   GlobalModelSend  alice  1.601986e+09  1.601986e+09  0.732629\n",
       "3   GlobalModelSend  alice  1.601986e+09  1.601986e+09  0.736666\n",
       "4   GlobalModelSend  alice  1.601986e+09  1.601986e+09  0.765949\n",
       "5   GlobalModelSend  alice  1.601986e+09  1.601986e+09  0.670759\n",
       "6   GlobalModelSend  alice  1.601986e+09  1.601986e+09  0.707843\n",
       "7   GlobalModelSend  alice  1.601987e+09  1.601987e+09  0.772914\n",
       "8   GlobalModelSend  alice  1.601987e+09  1.601987e+09  0.689674\n",
       "9   GlobalModelSend  alice  1.601987e+09  1.601987e+09  0.778400\n",
       "10  GlobalModelSend  alice  1.601987e+09  1.601987e+09  0.761114\n",
       "11  GlobalModelSend  alice  1.601987e+09  1.601987e+09  0.746384\n",
       "12  GlobalModelSend  alice  1.601987e+09  1.601987e+09  0.774974\n",
       "13  GlobalModelSend  alice  1.601987e+09  1.601987e+09  0.773540\n",
       "14  GlobalModelSend  alice  1.601987e+09  1.601987e+09  0.771943\n",
       "15  GlobalModelSend  alice  1.601987e+09  1.601987e+09  0.755949\n",
       "16  GlobalModelSend  alice  1.601987e+09  1.601987e+09  0.770322\n",
       "17  GlobalModelSend  alice  1.601987e+09  1.601987e+09  0.738916\n",
       "18  GlobalModelSend  alice  1.601987e+09  1.601987e+09  0.724135\n",
       "19  GlobalModelSend  alice  1.601987e+09  1.601987e+09  0.761290\n",
       "20  GlobalModelSend  alice  1.601987e+09  1.601987e+09  0.771314"
      ]
     },
     "execution_count": 32,
     "metadata": {},
     "output_type": "execute_result"
    }
   ],
   "source": [
    "worker_gms_send_time_dfs['alice']"
   ]
  },
  {
   "cell_type": "code",
   "execution_count": 33,
   "metadata": {},
   "outputs": [
    {
     "data": {
      "text/plain": [
       "0.7464504241943359"
      ]
     },
     "execution_count": 33,
     "metadata": {},
     "output_type": "execute_result"
    }
   ],
   "source": [
    "worker_gms_send_time_dfs['charlie']['SendTime'].mean()"
   ]
  },
  {
   "cell_type": "code",
   "execution_count": 34,
   "metadata": {},
   "outputs": [],
   "source": [
    "# coord_df = read_trace(trace_dir, coord_trace_file)\n",
    "# hpc1_df = read_trace(trace_dir, hpc1_trace_file, \"alice\")\n",
    "# hpc2_df = read_trace(trace_dir, hpc2_trace_file, \"bob\")\n",
    "# hpc3_df = read_trace(trace_dir, hpc3_trace_file, \"charlie\")"
   ]
  },
  {
   "cell_type": "markdown",
   "metadata": {},
   "source": [
    "## LocalTraining Duration"
   ]
  },
  {
   "cell_type": "code",
   "execution_count": 35,
   "metadata": {},
   "outputs": [],
   "source": [
    "hpc1_lt_df = get_worker_duration(\"alice\", worker_dfs, \"LocalTraining\")"
   ]
  },
  {
   "cell_type": "code",
   "execution_count": 36,
   "metadata": {},
   "outputs": [],
   "source": [
    "hpc2_lt_df = get_worker_duration(\"bob\", worker_dfs, \"LocalTraining\")"
   ]
  },
  {
   "cell_type": "code",
   "execution_count": 37,
   "metadata": {},
   "outputs": [],
   "source": [
    "hpc3_lt_df = get_worker_duration(\"charlie\", worker_dfs, \"LocalTraining\")"
   ]
  },
  {
   "cell_type": "code",
   "execution_count": 38,
   "metadata": {},
   "outputs": [
    {
     "data": {
      "text/plain": [
       "13.869032680988312"
      ]
     },
     "execution_count": 38,
     "metadata": {},
     "output_type": "execute_result"
    }
   ],
   "source": [
    "hpc1_lt_df['Time'][1:].mean()"
   ]
  },
  {
   "cell_type": "code",
   "execution_count": 39,
   "metadata": {},
   "outputs": [
    {
     "data": {
      "text/plain": [
       "9.491367208957673"
      ]
     },
     "execution_count": 39,
     "metadata": {},
     "output_type": "execute_result"
    }
   ],
   "source": [
    "hpc2_lt_df['Time'][1:].mean()"
   ]
  },
  {
   "cell_type": "code",
   "execution_count": 40,
   "metadata": {},
   "outputs": [
    {
     "data": {
      "text/plain": [
       "10.143671476840973"
      ]
     },
     "execution_count": 40,
     "metadata": {},
     "output_type": "execute_result"
    }
   ],
   "source": [
    "hpc3_lt_df['Time'][1:].mean()"
   ]
  },
  {
   "cell_type": "code",
   "execution_count": 41,
   "metadata": {},
   "outputs": [
    {
     "data": {
      "text/html": [
       "<div>\n",
       "<style scoped>\n",
       "    .dataframe tbody tr th:only-of-type {\n",
       "        vertical-align: middle;\n",
       "    }\n",
       "\n",
       "    .dataframe tbody tr th {\n",
       "        vertical-align: top;\n",
       "    }\n",
       "\n",
       "    .dataframe thead th {\n",
       "        text-align: right;\n",
       "    }\n",
       "</style>\n",
       "<table border=\"1\" class=\"dataframe\">\n",
       "  <thead>\n",
       "    <tr style=\"text-align: right;\">\n",
       "      <th></th>\n",
       "      <th>WorkerID</th>\n",
       "      <th>EventType</th>\n",
       "      <th>EventState</th>\n",
       "      <th>Time</th>\n",
       "    </tr>\n",
       "  </thead>\n",
       "  <tbody>\n",
       "    <tr>\n",
       "      <th>0</th>\n",
       "      <td>alice</td>\n",
       "      <td>LocalTraining</td>\n",
       "      <td>duration</td>\n",
       "      <td>13.992475</td>\n",
       "    </tr>\n",
       "    <tr>\n",
       "      <th>1</th>\n",
       "      <td>alice</td>\n",
       "      <td>LocalTraining</td>\n",
       "      <td>duration</td>\n",
       "      <td>13.618030</td>\n",
       "    </tr>\n",
       "    <tr>\n",
       "      <th>2</th>\n",
       "      <td>alice</td>\n",
       "      <td>LocalTraining</td>\n",
       "      <td>duration</td>\n",
       "      <td>14.094082</td>\n",
       "    </tr>\n",
       "    <tr>\n",
       "      <th>3</th>\n",
       "      <td>alice</td>\n",
       "      <td>LocalTraining</td>\n",
       "      <td>duration</td>\n",
       "      <td>14.257969</td>\n",
       "    </tr>\n",
       "    <tr>\n",
       "      <th>4</th>\n",
       "      <td>alice</td>\n",
       "      <td>LocalTraining</td>\n",
       "      <td>duration</td>\n",
       "      <td>13.879264</td>\n",
       "    </tr>\n",
       "    <tr>\n",
       "      <th>5</th>\n",
       "      <td>alice</td>\n",
       "      <td>LocalTraining</td>\n",
       "      <td>duration</td>\n",
       "      <td>13.661154</td>\n",
       "    </tr>\n",
       "    <tr>\n",
       "      <th>6</th>\n",
       "      <td>alice</td>\n",
       "      <td>LocalTraining</td>\n",
       "      <td>duration</td>\n",
       "      <td>14.114460</td>\n",
       "    </tr>\n",
       "    <tr>\n",
       "      <th>7</th>\n",
       "      <td>alice</td>\n",
       "      <td>LocalTraining</td>\n",
       "      <td>duration</td>\n",
       "      <td>13.346154</td>\n",
       "    </tr>\n",
       "    <tr>\n",
       "      <th>8</th>\n",
       "      <td>alice</td>\n",
       "      <td>LocalTraining</td>\n",
       "      <td>duration</td>\n",
       "      <td>13.654593</td>\n",
       "    </tr>\n",
       "    <tr>\n",
       "      <th>9</th>\n",
       "      <td>alice</td>\n",
       "      <td>LocalTraining</td>\n",
       "      <td>duration</td>\n",
       "      <td>14.113661</td>\n",
       "    </tr>\n",
       "    <tr>\n",
       "      <th>10</th>\n",
       "      <td>alice</td>\n",
       "      <td>LocalTraining</td>\n",
       "      <td>duration</td>\n",
       "      <td>13.691008</td>\n",
       "    </tr>\n",
       "    <tr>\n",
       "      <th>11</th>\n",
       "      <td>alice</td>\n",
       "      <td>LocalTraining</td>\n",
       "      <td>duration</td>\n",
       "      <td>14.490455</td>\n",
       "    </tr>\n",
       "    <tr>\n",
       "      <th>12</th>\n",
       "      <td>alice</td>\n",
       "      <td>LocalTraining</td>\n",
       "      <td>duration</td>\n",
       "      <td>13.882024</td>\n",
       "    </tr>\n",
       "    <tr>\n",
       "      <th>13</th>\n",
       "      <td>alice</td>\n",
       "      <td>LocalTraining</td>\n",
       "      <td>duration</td>\n",
       "      <td>13.596246</td>\n",
       "    </tr>\n",
       "    <tr>\n",
       "      <th>14</th>\n",
       "      <td>alice</td>\n",
       "      <td>LocalTraining</td>\n",
       "      <td>duration</td>\n",
       "      <td>14.095031</td>\n",
       "    </tr>\n",
       "    <tr>\n",
       "      <th>15</th>\n",
       "      <td>alice</td>\n",
       "      <td>LocalTraining</td>\n",
       "      <td>duration</td>\n",
       "      <td>14.050479</td>\n",
       "    </tr>\n",
       "    <tr>\n",
       "      <th>16</th>\n",
       "      <td>alice</td>\n",
       "      <td>LocalTraining</td>\n",
       "      <td>duration</td>\n",
       "      <td>13.432487</td>\n",
       "    </tr>\n",
       "    <tr>\n",
       "      <th>17</th>\n",
       "      <td>alice</td>\n",
       "      <td>LocalTraining</td>\n",
       "      <td>duration</td>\n",
       "      <td>13.366269</td>\n",
       "    </tr>\n",
       "    <tr>\n",
       "      <th>18</th>\n",
       "      <td>alice</td>\n",
       "      <td>LocalTraining</td>\n",
       "      <td>duration</td>\n",
       "      <td>13.678365</td>\n",
       "    </tr>\n",
       "    <tr>\n",
       "      <th>19</th>\n",
       "      <td>alice</td>\n",
       "      <td>LocalTraining</td>\n",
       "      <td>duration</td>\n",
       "      <td>14.255922</td>\n",
       "    </tr>\n",
       "    <tr>\n",
       "      <th>20</th>\n",
       "      <td>alice</td>\n",
       "      <td>LocalTraining</td>\n",
       "      <td>duration</td>\n",
       "      <td>14.103001</td>\n",
       "    </tr>\n",
       "  </tbody>\n",
       "</table>\n",
       "</div>"
      ],
      "text/plain": [
       "   WorkerID      EventType EventState       Time\n",
       "0     alice  LocalTraining   duration  13.992475\n",
       "1     alice  LocalTraining   duration  13.618030\n",
       "2     alice  LocalTraining   duration  14.094082\n",
       "3     alice  LocalTraining   duration  14.257969\n",
       "4     alice  LocalTraining   duration  13.879264\n",
       "5     alice  LocalTraining   duration  13.661154\n",
       "6     alice  LocalTraining   duration  14.114460\n",
       "7     alice  LocalTraining   duration  13.346154\n",
       "8     alice  LocalTraining   duration  13.654593\n",
       "9     alice  LocalTraining   duration  14.113661\n",
       "10    alice  LocalTraining   duration  13.691008\n",
       "11    alice  LocalTraining   duration  14.490455\n",
       "12    alice  LocalTraining   duration  13.882024\n",
       "13    alice  LocalTraining   duration  13.596246\n",
       "14    alice  LocalTraining   duration  14.095031\n",
       "15    alice  LocalTraining   duration  14.050479\n",
       "16    alice  LocalTraining   duration  13.432487\n",
       "17    alice  LocalTraining   duration  13.366269\n",
       "18    alice  LocalTraining   duration  13.678365\n",
       "19    alice  LocalTraining   duration  14.255922\n",
       "20    alice  LocalTraining   duration  14.103001"
      ]
     },
     "execution_count": 41,
     "metadata": {},
     "output_type": "execute_result"
    }
   ],
   "source": [
    "hpc1_lt_df"
   ]
  },
  {
   "cell_type": "markdown",
   "metadata": {},
   "source": [
    "## FitSagg Duration"
   ]
  },
  {
   "cell_type": "code",
   "execution_count": 42,
   "metadata": {},
   "outputs": [],
   "source": [
    "def get_coord_fitsagg_duration(coord_df, worker_id):\n",
    "    coord_event_df = coord_df[coord_df[\"EventType\"].str.contains(\"FitSagg\", regex=False)]\n",
    "    coord_event_df = coord_event_df[coord_event_df[\"ID\"] == worker_id]\n",
    "    coord_event_df = coord_event_df.reset_index()\n",
    "    \n",
    "    del coord_event_df['index']\n",
    "    \n",
    "    return coord_event_df"
   ]
  },
  {
   "cell_type": "code",
   "execution_count": 43,
   "metadata": {},
   "outputs": [],
   "source": [
    "hpc1_fs_df = get_coord_fitsagg_duration(coord_df, \"alice\")"
   ]
  },
  {
   "cell_type": "code",
   "execution_count": 44,
   "metadata": {},
   "outputs": [],
   "source": [
    "hpc2_fs_df = get_coord_fitsagg_duration(coord_df, \"bob\")"
   ]
  },
  {
   "cell_type": "code",
   "execution_count": 45,
   "metadata": {},
   "outputs": [],
   "source": [
    "hpc3_fs_df = get_coord_fitsagg_duration(coord_df, \"charlie\")"
   ]
  },
  {
   "cell_type": "code",
   "execution_count": 46,
   "metadata": {},
   "outputs": [
    {
     "data": {
      "text/plain": [
       "17.528527224063872"
      ]
     },
     "execution_count": 46,
     "metadata": {},
     "output_type": "execute_result"
    }
   ],
   "source": [
    "hpc1_fs_df['Time'][1:].mean()"
   ]
  },
  {
   "cell_type": "code",
   "execution_count": 47,
   "metadata": {},
   "outputs": [
    {
     "data": {
      "text/plain": [
       "17.610635459423065"
      ]
     },
     "execution_count": 47,
     "metadata": {},
     "output_type": "execute_result"
    }
   ],
   "source": [
    "hpc2_fs_df['Time'][1:].mean()"
   ]
  },
  {
   "cell_type": "code",
   "execution_count": 48,
   "metadata": {},
   "outputs": [
    {
     "data": {
      "text/plain": [
       "17.66348727941513"
      ]
     },
     "execution_count": 48,
     "metadata": {},
     "output_type": "execute_result"
    }
   ],
   "source": [
    "hpc3_fs_df['Time'][1:].mean()"
   ]
  },
  {
   "cell_type": "markdown",
   "metadata": {},
   "source": [
    "## EncryptMultiply Duration"
   ]
  },
  {
   "cell_type": "code",
   "execution_count": 49,
   "metadata": {},
   "outputs": [],
   "source": [
    "hpc1_em_df = get_worker_duration(\"alice\", worker_dfs, \"EncryptMultiply\")"
   ]
  },
  {
   "cell_type": "code",
   "execution_count": 50,
   "metadata": {},
   "outputs": [],
   "source": [
    "hpc2_em_df = get_worker_duration(\"bob\", worker_dfs, \"EncryptMultiply\")"
   ]
  },
  {
   "cell_type": "code",
   "execution_count": 51,
   "metadata": {},
   "outputs": [],
   "source": [
    "hpc3_em_df = get_worker_duration(\"charlie\", worker_dfs, \"EncryptMultiply\")"
   ]
  },
  {
   "cell_type": "code",
   "execution_count": 52,
   "metadata": {},
   "outputs": [
    {
     "data": {
      "text/plain": [
       "2.8525857806205748"
      ]
     },
     "execution_count": 52,
     "metadata": {},
     "output_type": "execute_result"
    }
   ],
   "source": [
    "hpc1_em_df['Time'][1:].mean()"
   ]
  },
  {
   "cell_type": "code",
   "execution_count": 101,
   "metadata": {},
   "outputs": [
    {
     "data": {
      "text/plain": [
       "7.318153047561646"
      ]
     },
     "execution_count": 101,
     "metadata": {},
     "output_type": "execute_result"
    }
   ],
   "source": [
    "hpc2_em_df['Time'][1:].mean()"
   ]
  },
  {
   "cell_type": "code",
   "execution_count": 102,
   "metadata": {},
   "outputs": [
    {
     "data": {
      "text/plain": [
       "6.714117050170898"
      ]
     },
     "execution_count": 102,
     "metadata": {},
     "output_type": "execute_result"
    }
   ],
   "source": [
    "hpc3_em_df['Time'][1:].mean()"
   ]
  },
  {
   "cell_type": "code",
   "execution_count": 103,
   "metadata": {},
   "outputs": [
    {
     "data": {
      "text/html": [
       "<div>\n",
       "<style scoped>\n",
       "    .dataframe tbody tr th:only-of-type {\n",
       "        vertical-align: middle;\n",
       "    }\n",
       "\n",
       "    .dataframe tbody tr th {\n",
       "        vertical-align: top;\n",
       "    }\n",
       "\n",
       "    .dataframe thead th {\n",
       "        text-align: right;\n",
       "    }\n",
       "</style>\n",
       "<table border=\"1\" class=\"dataframe\">\n",
       "  <thead>\n",
       "    <tr style=\"text-align: right;\">\n",
       "      <th></th>\n",
       "      <th>WorkerID</th>\n",
       "      <th>EventType</th>\n",
       "      <th>EventState</th>\n",
       "      <th>Time</th>\n",
       "    </tr>\n",
       "  </thead>\n",
       "  <tbody>\n",
       "    <tr>\n",
       "      <th>0</th>\n",
       "      <td>alice</td>\n",
       "      <td>EncryptMultiply</td>\n",
       "      <td>duration</td>\n",
       "      <td>3.278606</td>\n",
       "    </tr>\n",
       "    <tr>\n",
       "      <th>1</th>\n",
       "      <td>alice</td>\n",
       "      <td>EncryptMultiply</td>\n",
       "      <td>duration</td>\n",
       "      <td>2.731663</td>\n",
       "    </tr>\n",
       "    <tr>\n",
       "      <th>2</th>\n",
       "      <td>alice</td>\n",
       "      <td>EncryptMultiply</td>\n",
       "      <td>duration</td>\n",
       "      <td>2.714762</td>\n",
       "    </tr>\n",
       "    <tr>\n",
       "      <th>3</th>\n",
       "      <td>alice</td>\n",
       "      <td>EncryptMultiply</td>\n",
       "      <td>duration</td>\n",
       "      <td>2.770517</td>\n",
       "    </tr>\n",
       "    <tr>\n",
       "      <th>4</th>\n",
       "      <td>alice</td>\n",
       "      <td>EncryptMultiply</td>\n",
       "      <td>duration</td>\n",
       "      <td>3.321286</td>\n",
       "    </tr>\n",
       "    <tr>\n",
       "      <th>5</th>\n",
       "      <td>alice</td>\n",
       "      <td>EncryptMultiply</td>\n",
       "      <td>duration</td>\n",
       "      <td>2.538695</td>\n",
       "    </tr>\n",
       "    <tr>\n",
       "      <th>6</th>\n",
       "      <td>alice</td>\n",
       "      <td>EncryptMultiply</td>\n",
       "      <td>duration</td>\n",
       "      <td>2.489272</td>\n",
       "    </tr>\n",
       "    <tr>\n",
       "      <th>7</th>\n",
       "      <td>alice</td>\n",
       "      <td>EncryptMultiply</td>\n",
       "      <td>duration</td>\n",
       "      <td>3.117352</td>\n",
       "    </tr>\n",
       "    <tr>\n",
       "      <th>8</th>\n",
       "      <td>alice</td>\n",
       "      <td>EncryptMultiply</td>\n",
       "      <td>duration</td>\n",
       "      <td>2.836988</td>\n",
       "    </tr>\n",
       "    <tr>\n",
       "      <th>9</th>\n",
       "      <td>alice</td>\n",
       "      <td>EncryptMultiply</td>\n",
       "      <td>duration</td>\n",
       "      <td>3.107404</td>\n",
       "    </tr>\n",
       "    <tr>\n",
       "      <th>10</th>\n",
       "      <td>alice</td>\n",
       "      <td>EncryptMultiply</td>\n",
       "      <td>duration</td>\n",
       "      <td>2.490111</td>\n",
       "    </tr>\n",
       "    <tr>\n",
       "      <th>11</th>\n",
       "      <td>alice</td>\n",
       "      <td>EncryptMultiply</td>\n",
       "      <td>duration</td>\n",
       "      <td>3.187013</td>\n",
       "    </tr>\n",
       "    <tr>\n",
       "      <th>12</th>\n",
       "      <td>alice</td>\n",
       "      <td>EncryptMultiply</td>\n",
       "      <td>duration</td>\n",
       "      <td>2.698475</td>\n",
       "    </tr>\n",
       "    <tr>\n",
       "      <th>13</th>\n",
       "      <td>alice</td>\n",
       "      <td>EncryptMultiply</td>\n",
       "      <td>duration</td>\n",
       "      <td>2.817605</td>\n",
       "    </tr>\n",
       "    <tr>\n",
       "      <th>14</th>\n",
       "      <td>alice</td>\n",
       "      <td>EncryptMultiply</td>\n",
       "      <td>duration</td>\n",
       "      <td>2.526660</td>\n",
       "    </tr>\n",
       "    <tr>\n",
       "      <th>15</th>\n",
       "      <td>alice</td>\n",
       "      <td>EncryptMultiply</td>\n",
       "      <td>duration</td>\n",
       "      <td>3.139937</td>\n",
       "    </tr>\n",
       "    <tr>\n",
       "      <th>16</th>\n",
       "      <td>alice</td>\n",
       "      <td>EncryptMultiply</td>\n",
       "      <td>duration</td>\n",
       "      <td>2.504216</td>\n",
       "    </tr>\n",
       "    <tr>\n",
       "      <th>17</th>\n",
       "      <td>alice</td>\n",
       "      <td>EncryptMultiply</td>\n",
       "      <td>duration</td>\n",
       "      <td>3.845091</td>\n",
       "    </tr>\n",
       "    <tr>\n",
       "      <th>18</th>\n",
       "      <td>alice</td>\n",
       "      <td>EncryptMultiply</td>\n",
       "      <td>duration</td>\n",
       "      <td>2.811725</td>\n",
       "    </tr>\n",
       "    <tr>\n",
       "      <th>19</th>\n",
       "      <td>alice</td>\n",
       "      <td>EncryptMultiply</td>\n",
       "      <td>duration</td>\n",
       "      <td>2.923720</td>\n",
       "    </tr>\n",
       "    <tr>\n",
       "      <th>20</th>\n",
       "      <td>alice</td>\n",
       "      <td>EncryptMultiply</td>\n",
       "      <td>duration</td>\n",
       "      <td>2.479225</td>\n",
       "    </tr>\n",
       "  </tbody>\n",
       "</table>\n",
       "</div>"
      ],
      "text/plain": [
       "   WorkerID        EventType EventState      Time\n",
       "0     alice  EncryptMultiply   duration  3.278606\n",
       "1     alice  EncryptMultiply   duration  2.731663\n",
       "2     alice  EncryptMultiply   duration  2.714762\n",
       "3     alice  EncryptMultiply   duration  2.770517\n",
       "4     alice  EncryptMultiply   duration  3.321286\n",
       "5     alice  EncryptMultiply   duration  2.538695\n",
       "6     alice  EncryptMultiply   duration  2.489272\n",
       "7     alice  EncryptMultiply   duration  3.117352\n",
       "8     alice  EncryptMultiply   duration  2.836988\n",
       "9     alice  EncryptMultiply   duration  3.107404\n",
       "10    alice  EncryptMultiply   duration  2.490111\n",
       "11    alice  EncryptMultiply   duration  3.187013\n",
       "12    alice  EncryptMultiply   duration  2.698475\n",
       "13    alice  EncryptMultiply   duration  2.817605\n",
       "14    alice  EncryptMultiply   duration  2.526660\n",
       "15    alice  EncryptMultiply   duration  3.139937\n",
       "16    alice  EncryptMultiply   duration  2.504216\n",
       "17    alice  EncryptMultiply   duration  3.845091\n",
       "18    alice  EncryptMultiply   duration  2.811725\n",
       "19    alice  EncryptMultiply   duration  2.923720\n",
       "20    alice  EncryptMultiply   duration  2.479225"
      ]
     },
     "execution_count": 103,
     "metadata": {},
     "output_type": "execute_result"
    }
   ],
   "source": [
    "hpc1_em_df"
   ]
  },
  {
   "cell_type": "code",
   "execution_count": 104,
   "metadata": {},
   "outputs": [
    {
     "data": {
      "text/html": [
       "<div>\n",
       "<style scoped>\n",
       "    .dataframe tbody tr th:only-of-type {\n",
       "        vertical-align: middle;\n",
       "    }\n",
       "\n",
       "    .dataframe tbody tr th {\n",
       "        vertical-align: top;\n",
       "    }\n",
       "\n",
       "    .dataframe thead th {\n",
       "        text-align: right;\n",
       "    }\n",
       "</style>\n",
       "<table border=\"1\" class=\"dataframe\">\n",
       "  <thead>\n",
       "    <tr style=\"text-align: right;\">\n",
       "      <th></th>\n",
       "      <th>WorkerID</th>\n",
       "      <th>EventType</th>\n",
       "      <th>EventState</th>\n",
       "      <th>Time</th>\n",
       "    </tr>\n",
       "  </thead>\n",
       "  <tbody>\n",
       "    <tr>\n",
       "      <th>0</th>\n",
       "      <td>charlie</td>\n",
       "      <td>EncryptMultiply</td>\n",
       "      <td>duration</td>\n",
       "      <td>7.060598</td>\n",
       "    </tr>\n",
       "    <tr>\n",
       "      <th>1</th>\n",
       "      <td>charlie</td>\n",
       "      <td>EncryptMultiply</td>\n",
       "      <td>duration</td>\n",
       "      <td>7.274583</td>\n",
       "    </tr>\n",
       "    <tr>\n",
       "      <th>2</th>\n",
       "      <td>charlie</td>\n",
       "      <td>EncryptMultiply</td>\n",
       "      <td>duration</td>\n",
       "      <td>7.501222</td>\n",
       "    </tr>\n",
       "    <tr>\n",
       "      <th>3</th>\n",
       "      <td>charlie</td>\n",
       "      <td>EncryptMultiply</td>\n",
       "      <td>duration</td>\n",
       "      <td>7.464529</td>\n",
       "    </tr>\n",
       "    <tr>\n",
       "      <th>4</th>\n",
       "      <td>charlie</td>\n",
       "      <td>EncryptMultiply</td>\n",
       "      <td>duration</td>\n",
       "      <td>7.319272</td>\n",
       "    </tr>\n",
       "    <tr>\n",
       "      <th>5</th>\n",
       "      <td>charlie</td>\n",
       "      <td>EncryptMultiply</td>\n",
       "      <td>duration</td>\n",
       "      <td>6.121235</td>\n",
       "    </tr>\n",
       "    <tr>\n",
       "      <th>6</th>\n",
       "      <td>charlie</td>\n",
       "      <td>EncryptMultiply</td>\n",
       "      <td>duration</td>\n",
       "      <td>6.372397</td>\n",
       "    </tr>\n",
       "    <tr>\n",
       "      <th>7</th>\n",
       "      <td>charlie</td>\n",
       "      <td>EncryptMultiply</td>\n",
       "      <td>duration</td>\n",
       "      <td>6.816015</td>\n",
       "    </tr>\n",
       "    <tr>\n",
       "      <th>8</th>\n",
       "      <td>charlie</td>\n",
       "      <td>EncryptMultiply</td>\n",
       "      <td>duration</td>\n",
       "      <td>7.042194</td>\n",
       "    </tr>\n",
       "    <tr>\n",
       "      <th>9</th>\n",
       "      <td>charlie</td>\n",
       "      <td>EncryptMultiply</td>\n",
       "      <td>duration</td>\n",
       "      <td>6.717224</td>\n",
       "    </tr>\n",
       "    <tr>\n",
       "      <th>10</th>\n",
       "      <td>charlie</td>\n",
       "      <td>EncryptMultiply</td>\n",
       "      <td>duration</td>\n",
       "      <td>6.371063</td>\n",
       "    </tr>\n",
       "    <tr>\n",
       "      <th>11</th>\n",
       "      <td>charlie</td>\n",
       "      <td>EncryptMultiply</td>\n",
       "      <td>duration</td>\n",
       "      <td>7.431827</td>\n",
       "    </tr>\n",
       "    <tr>\n",
       "      <th>12</th>\n",
       "      <td>charlie</td>\n",
       "      <td>EncryptMultiply</td>\n",
       "      <td>duration</td>\n",
       "      <td>6.294147</td>\n",
       "    </tr>\n",
       "    <tr>\n",
       "      <th>13</th>\n",
       "      <td>charlie</td>\n",
       "      <td>EncryptMultiply</td>\n",
       "      <td>duration</td>\n",
       "      <td>6.724852</td>\n",
       "    </tr>\n",
       "    <tr>\n",
       "      <th>14</th>\n",
       "      <td>charlie</td>\n",
       "      <td>EncryptMultiply</td>\n",
       "      <td>duration</td>\n",
       "      <td>6.558832</td>\n",
       "    </tr>\n",
       "    <tr>\n",
       "      <th>15</th>\n",
       "      <td>charlie</td>\n",
       "      <td>EncryptMultiply</td>\n",
       "      <td>duration</td>\n",
       "      <td>7.239607</td>\n",
       "    </tr>\n",
       "    <tr>\n",
       "      <th>16</th>\n",
       "      <td>charlie</td>\n",
       "      <td>EncryptMultiply</td>\n",
       "      <td>duration</td>\n",
       "      <td>5.410547</td>\n",
       "    </tr>\n",
       "    <tr>\n",
       "      <th>17</th>\n",
       "      <td>charlie</td>\n",
       "      <td>EncryptMultiply</td>\n",
       "      <td>duration</td>\n",
       "      <td>5.815022</td>\n",
       "    </tr>\n",
       "    <tr>\n",
       "      <th>18</th>\n",
       "      <td>charlie</td>\n",
       "      <td>EncryptMultiply</td>\n",
       "      <td>duration</td>\n",
       "      <td>6.868530</td>\n",
       "    </tr>\n",
       "    <tr>\n",
       "      <th>19</th>\n",
       "      <td>charlie</td>\n",
       "      <td>EncryptMultiply</td>\n",
       "      <td>duration</td>\n",
       "      <td>6.927032</td>\n",
       "    </tr>\n",
       "    <tr>\n",
       "      <th>20</th>\n",
       "      <td>charlie</td>\n",
       "      <td>EncryptMultiply</td>\n",
       "      <td>duration</td>\n",
       "      <td>6.012210</td>\n",
       "    </tr>\n",
       "  </tbody>\n",
       "</table>\n",
       "</div>"
      ],
      "text/plain": [
       "   WorkerID        EventType EventState      Time\n",
       "0   charlie  EncryptMultiply   duration  7.060598\n",
       "1   charlie  EncryptMultiply   duration  7.274583\n",
       "2   charlie  EncryptMultiply   duration  7.501222\n",
       "3   charlie  EncryptMultiply   duration  7.464529\n",
       "4   charlie  EncryptMultiply   duration  7.319272\n",
       "5   charlie  EncryptMultiply   duration  6.121235\n",
       "6   charlie  EncryptMultiply   duration  6.372397\n",
       "7   charlie  EncryptMultiply   duration  6.816015\n",
       "8   charlie  EncryptMultiply   duration  7.042194\n",
       "9   charlie  EncryptMultiply   duration  6.717224\n",
       "10  charlie  EncryptMultiply   duration  6.371063\n",
       "11  charlie  EncryptMultiply   duration  7.431827\n",
       "12  charlie  EncryptMultiply   duration  6.294147\n",
       "13  charlie  EncryptMultiply   duration  6.724852\n",
       "14  charlie  EncryptMultiply   duration  6.558832\n",
       "15  charlie  EncryptMultiply   duration  7.239607\n",
       "16  charlie  EncryptMultiply   duration  5.410547\n",
       "17  charlie  EncryptMultiply   duration  5.815022\n",
       "18  charlie  EncryptMultiply   duration  6.868530\n",
       "19  charlie  EncryptMultiply   duration  6.927032\n",
       "20  charlie  EncryptMultiply   duration  6.012210"
      ]
     },
     "execution_count": 104,
     "metadata": {},
     "output_type": "execute_result"
    }
   ],
   "source": [
    "hpc3_em_df"
   ]
  },
  {
   "cell_type": "markdown",
   "metadata": {},
   "source": [
    "## EncryptParameter Duration"
   ]
  },
  {
   "cell_type": "code",
   "execution_count": 105,
   "metadata": {},
   "outputs": [],
   "source": [
    "def get_encrypt_parameter_duration(worker_id, worker_dfs):\n",
    "    worker_df = worker_dfs[worker_id]\n",
    "    worker_ep_df = worker_df[worker_df[\"EventType\"].str.contains('EncryptParameter', regex=False)]\n",
    "    worker_ep_df = worker_ep_df.reset_index()\n",
    "    \n",
    "    del worker_ep_df[\"index\"]\n",
    "    del worker_ep_df[\"ID\"]\n",
    "    \n",
    "    return worker_ep_df\n",
    "    "
   ]
  },
  {
   "cell_type": "code",
   "execution_count": 106,
   "metadata": {},
   "outputs": [],
   "source": [
    "# hpc1_ep_df = get_encrypt_parameter_duration(\"alice\", worker_dfs)\n",
    "hpc1_ep_df = get_worker_duration(\"alice\", worker_dfs, \"EncryptParameter\")\n",
    "hpc2_ep_df = get_worker_duration(\"bob\", worker_dfs, \"EncryptParameter\")\n",
    "hpc3_ep_df = get_worker_duration(\"charlie\", worker_dfs, \"EncryptParameter\")"
   ]
  },
  {
   "cell_type": "code",
   "execution_count": 107,
   "metadata": {},
   "outputs": [
    {
     "data": {
      "text/html": [
       "<div>\n",
       "<style scoped>\n",
       "    .dataframe tbody tr th:only-of-type {\n",
       "        vertical-align: middle;\n",
       "    }\n",
       "\n",
       "    .dataframe tbody tr th {\n",
       "        vertical-align: top;\n",
       "    }\n",
       "\n",
       "    .dataframe thead th {\n",
       "        text-align: right;\n",
       "    }\n",
       "</style>\n",
       "<table border=\"1\" class=\"dataframe\">\n",
       "  <thead>\n",
       "    <tr style=\"text-align: right;\">\n",
       "      <th></th>\n",
       "      <th>WorkerID</th>\n",
       "      <th>EventType</th>\n",
       "      <th>EventState</th>\n",
       "      <th>Time</th>\n",
       "    </tr>\n",
       "  </thead>\n",
       "  <tbody>\n",
       "    <tr>\n",
       "      <th>0</th>\n",
       "      <td>alice</td>\n",
       "      <td>EncryptParameter0</td>\n",
       "      <td>duration</td>\n",
       "      <td>0.008179</td>\n",
       "    </tr>\n",
       "    <tr>\n",
       "      <th>1</th>\n",
       "      <td>alice</td>\n",
       "      <td>EncryptParameter1</td>\n",
       "      <td>duration</td>\n",
       "      <td>0.005694</td>\n",
       "    </tr>\n",
       "    <tr>\n",
       "      <th>2</th>\n",
       "      <td>alice</td>\n",
       "      <td>EncryptParameter2</td>\n",
       "      <td>duration</td>\n",
       "      <td>0.174992</td>\n",
       "    </tr>\n",
       "    <tr>\n",
       "      <th>3</th>\n",
       "      <td>alice</td>\n",
       "      <td>EncryptParameter3</td>\n",
       "      <td>duration</td>\n",
       "      <td>0.051831</td>\n",
       "    </tr>\n",
       "    <tr>\n",
       "      <th>4</th>\n",
       "      <td>alice</td>\n",
       "      <td>EncryptParameter4</td>\n",
       "      <td>duration</td>\n",
       "      <td>2.885745</td>\n",
       "    </tr>\n",
       "    <tr>\n",
       "      <th>5</th>\n",
       "      <td>alice</td>\n",
       "      <td>EncryptParameter5</td>\n",
       "      <td>duration</td>\n",
       "      <td>0.015123</td>\n",
       "    </tr>\n",
       "    <tr>\n",
       "      <th>6</th>\n",
       "      <td>alice</td>\n",
       "      <td>EncryptParameter6</td>\n",
       "      <td>duration</td>\n",
       "      <td>0.035656</td>\n",
       "    </tr>\n",
       "    <tr>\n",
       "      <th>7</th>\n",
       "      <td>alice</td>\n",
       "      <td>EncryptParameter7</td>\n",
       "      <td>duration</td>\n",
       "      <td>0.004223</td>\n",
       "    </tr>\n",
       "  </tbody>\n",
       "</table>\n",
       "</div>"
      ],
      "text/plain": [
       "  WorkerID          EventType EventState      Time\n",
       "0    alice  EncryptParameter0   duration  0.008179\n",
       "1    alice  EncryptParameter1   duration  0.005694\n",
       "2    alice  EncryptParameter2   duration  0.174992\n",
       "3    alice  EncryptParameter3   duration  0.051831\n",
       "4    alice  EncryptParameter4   duration  2.885745\n",
       "5    alice  EncryptParameter5   duration  0.015123\n",
       "6    alice  EncryptParameter6   duration  0.035656\n",
       "7    alice  EncryptParameter7   duration  0.004223"
      ]
     },
     "execution_count": 107,
     "metadata": {},
     "output_type": "execute_result"
    }
   ],
   "source": [
    "hpc1_ep_df[0:8]"
   ]
  },
  {
   "cell_type": "code",
   "execution_count": 108,
   "metadata": {},
   "outputs": [
    {
     "name": "stdout",
     "output_type": "stream",
     "text": [
      "0: 0.008680979410807291\n",
      "1: 0.005238044829595657\n",
      "2: 0.14933973266964867\n",
      "3: 0.024828740528651645\n",
      "4: 2.4432803222111295\n",
      "5: 0.010082619530814034\n",
      "6: 0.0348263354528518\n",
      "7: 0.007713851474580311\n"
     ]
    }
   ],
   "source": [
    "mean_values = []\n",
    "for i in range(8):\n",
    "    mean_value = hpc1_ep_df[hpc1_ep_df[\"EventType\"] == \"EncryptParameter\"+str(i)][\"Time\"].mean()\n",
    "    mean_values.append(mean_value)\n",
    "    print(str(i)+\":\", mean_value)"
   ]
  },
  {
   "cell_type": "code",
   "execution_count": 109,
   "metadata": {},
   "outputs": [
    {
     "data": {
      "text/plain": [
       "2.6839906261080793"
      ]
     },
     "execution_count": 109,
     "metadata": {},
     "output_type": "execute_result"
    }
   ],
   "source": [
    "sum(mean_values)"
   ]
  },
  {
   "cell_type": "code",
   "execution_count": null,
   "metadata": {},
   "outputs": [],
   "source": []
  },
  {
   "cell_type": "code",
   "execution_count": 110,
   "metadata": {},
   "outputs": [
    {
     "name": "stdout",
     "output_type": "stream",
     "text": [
      "0: 4.412874323981149\n",
      "1: 0.004431883494059245\n",
      "2: 0.17683457192920504\n",
      "3: 0.020685547874087377\n",
      "4: 2.4393782956259593\n",
      "5: 0.009996039526803153\n",
      "6: 0.07936409541538783\n",
      "7: 0.05307532492138091\n"
     ]
    }
   ],
   "source": [
    "for i in range(8):\n",
    "    mean_value = hpc2_ep_df[hpc1_ep_df[\"EventType\"] == \"EncryptParameter\"+str(i)][\"Time\"].mean()\n",
    "    print(str(i)+\":\", mean_value)"
   ]
  },
  {
   "cell_type": "code",
   "execution_count": 111,
   "metadata": {},
   "outputs": [
    {
     "name": "stdout",
     "output_type": "stream",
     "text": [
      "0: 3.738501094636463\n",
      "1: 0.004783607664562407\n",
      "2: 0.16044934590657553\n",
      "3: 0.0194485414595831\n",
      "4: 2.589001258214315\n",
      "5: 0.008306877953665597\n",
      "6: 0.03576522781735375\n",
      "7: 0.006612834476289295\n"
     ]
    }
   ],
   "source": [
    "for i in range(8):\n",
    "    mean_value = hpc3_ep_df[hpc1_ep_df[\"EventType\"] == \"EncryptParameter\"+str(i)][\"Time\"].mean()\n",
    "    print(str(i)+\":\", mean_value)"
   ]
  },
  {
   "cell_type": "code",
   "execution_count": 112,
   "metadata": {},
   "outputs": [
    {
     "data": {
      "text/plain": [
       "0    0.008179\n",
       "1    0.005694\n",
       "2    0.174992\n",
       "3    0.051831\n",
       "4    2.885745\n",
       "5    0.015123\n",
       "6    0.035656\n",
       "7    0.004223\n",
       "Name: Time, dtype: float64"
      ]
     },
     "execution_count": 112,
     "metadata": {},
     "output_type": "execute_result"
    }
   ],
   "source": [
    "hpc1_ep_df[\"Time\"][0:8]"
   ]
  },
  {
   "cell_type": "code",
   "execution_count": 113,
   "metadata": {},
   "outputs": [
    {
     "data": {
      "text/plain": [
       "0.33549882826350985"
      ]
     },
     "execution_count": 113,
     "metadata": {},
     "output_type": "execute_result"
    }
   ],
   "source": [
    "hpc1_ep_df[\"Time\"].mean()"
   ]
  },
  {
   "cell_type": "code",
   "execution_count": 114,
   "metadata": {},
   "outputs": [
    {
     "data": {
      "text/plain": [
       "0.899580010346004"
      ]
     },
     "execution_count": 114,
     "metadata": {},
     "output_type": "execute_result"
    }
   ],
   "source": [
    "hpc2_ep_df[\"Time\"].mean()"
   ]
  },
  {
   "cell_type": "code",
   "execution_count": 115,
   "metadata": {},
   "outputs": [
    {
     "data": {
      "text/plain": [
       "0.8203585985161009"
      ]
     },
     "execution_count": 115,
     "metadata": {},
     "output_type": "execute_result"
    }
   ],
   "source": [
    "hpc3_ep_df[\"Time\"].mean()"
   ]
  },
  {
   "cell_type": "markdown",
   "metadata": {},
   "source": [
    "## MultiplyParameter Duration"
   ]
  },
  {
   "cell_type": "code",
   "execution_count": 116,
   "metadata": {},
   "outputs": [],
   "source": [
    "def get_multiply_parameter_duration(worker_id, worker_dfs):\n",
    "    worker_df = worker_dfs[worker_id]\n",
    "    worker_ep_df = worker_df[worker_df[\"EventType\"].str.contains('MultiplyParameter', regex=False)]\n",
    "    worker_ep_df = worker_ep_df.reset_index()\n",
    "    \n",
    "    del worker_ep_df[\"index\"]\n",
    "    del worker_ep_df[\"ID\"]\n",
    "    \n",
    "    return worker_ep_df"
   ]
  },
  {
   "cell_type": "code",
   "execution_count": 117,
   "metadata": {},
   "outputs": [],
   "source": [
    "# hpc1_mp_df = get_multiply_parameter_duration(\"alice\", worker_dfs)\n",
    "hpc1_mp_df = get_worker_duration(\"alice\", worker_dfs, \"MultiplyParameter\")\n",
    "hpc2_mp_df = get_worker_duration(\"bob\", worker_dfs, \"MultiplyParameter\")\n",
    "hpc3_mp_df = get_worker_duration(\"charlie\", worker_dfs, \"MultiplyParameter\")"
   ]
  },
  {
   "cell_type": "code",
   "execution_count": 118,
   "metadata": {},
   "outputs": [
    {
     "data": {
      "text/plain": [
       "0.0924208164215088"
      ]
     },
     "execution_count": 118,
     "metadata": {},
     "output_type": "execute_result"
    }
   ],
   "source": [
    "hpc1_mp_df[:8][\"Time\"].sum()"
   ]
  },
  {
   "cell_type": "code",
   "execution_count": 119,
   "metadata": {},
   "outputs": [
    {
     "data": {
      "text/plain": [
       "0.02310183218547276"
      ]
     },
     "execution_count": 119,
     "metadata": {},
     "output_type": "execute_result"
    }
   ],
   "source": [
    "hpc1_mp_df[\"Time\"].mean()"
   ]
  },
  {
   "cell_type": "code",
   "execution_count": 120,
   "metadata": {},
   "outputs": [
    {
     "data": {
      "text/plain": [
       "0.018719817910875593"
      ]
     },
     "execution_count": 120,
     "metadata": {},
     "output_type": "execute_result"
    }
   ],
   "source": [
    "hpc2_mp_df[\"Time\"].mean()"
   ]
  },
  {
   "cell_type": "code",
   "execution_count": 121,
   "metadata": {},
   "outputs": [
    {
     "data": {
      "text/plain": [
       "0.020499879405612036"
      ]
     },
     "execution_count": 121,
     "metadata": {},
     "output_type": "execute_result"
    }
   ],
   "source": [
    "hpc3_mp_df[\"Time\"].mean()"
   ]
  },
  {
   "cell_type": "markdown",
   "metadata": {},
   "source": [
    "## RetrieveTime duration"
   ]
  },
  {
   "cell_type": "code",
   "execution_count": 122,
   "metadata": {},
   "outputs": [],
   "source": [
    "def get_coord_retrieve_duration(coord_df, worker_id):\n",
    "    coord_event_df = coord_df[coord_df[\"EventType\"].str.contains(\"RetrieveTime\", regex=False)]\n",
    "    coord_event_df = coord_event_df[coord_event_df[\"ID\"] == worker_id]\n",
    "    coord_event_df = coord_event_df.reset_index()\n",
    "    \n",
    "    del coord_event_df['index']\n",
    "    \n",
    "    return coord_event_df"
   ]
  },
  {
   "cell_type": "code",
   "execution_count": 123,
   "metadata": {},
   "outputs": [],
   "source": [
    "hpc1_ret_df = get_coord_retrieve_duration(coord_df, \"alice\")"
   ]
  },
  {
   "cell_type": "code",
   "execution_count": 124,
   "metadata": {},
   "outputs": [],
   "source": [
    "hpc2_ret_df = get_coord_retrieve_duration(coord_df, \"bob\")"
   ]
  },
  {
   "cell_type": "code",
   "execution_count": 125,
   "metadata": {},
   "outputs": [],
   "source": [
    "hpc3_ret_df = get_coord_retrieve_duration(coord_df, \"charlie\")"
   ]
  },
  {
   "cell_type": "code",
   "execution_count": 126,
   "metadata": {},
   "outputs": [
    {
     "data": {
      "text/plain": [
       "0.017100870609283447"
      ]
     },
     "execution_count": 126,
     "metadata": {},
     "output_type": "execute_result"
    }
   ],
   "source": [
    "hpc1_ret_df[\"Time\"][1:].mean()"
   ]
  },
  {
   "cell_type": "code",
   "execution_count": 127,
   "metadata": {},
   "outputs": [
    {
     "data": {
      "text/plain": [
       "0.015381324291229247"
      ]
     },
     "execution_count": 127,
     "metadata": {},
     "output_type": "execute_result"
    }
   ],
   "source": [
    "hpc2_ret_df[\"Time\"][1:].mean()"
   ]
  },
  {
   "cell_type": "code",
   "execution_count": 128,
   "metadata": {},
   "outputs": [
    {
     "data": {
      "text/plain": [
       "0.01484755277633667"
      ]
     },
     "execution_count": 128,
     "metadata": {},
     "output_type": "execute_result"
    }
   ],
   "source": [
    "hpc3_ret_df[\"Time\"][1:].mean()"
   ]
  },
  {
   "cell_type": "markdown",
   "metadata": {},
   "source": [
    "## ShareSend Duration"
   ]
  },
  {
   "cell_type": "code",
   "execution_count": 129,
   "metadata": {},
   "outputs": [],
   "source": [
    "def calculate_share_send_duration(worker_id, worker_dfs, nr_parameters):\n",
    "    worker_df = worker_dfs[worker_id]\n",
    "    worker_send_share_df = worker_df[worker_df[\"EventType\"].str.contains('SendShare', regex=False)]\n",
    "    \n",
    "    worker_send_share_start_df = worker_send_share_df[worker_send_share_df[\"EventState\"] == 'start']\n",
    "    worker_send_share_start_df = worker_send_share_start_df.reset_index()\n",
    "    worker_send_share_start_df = worker_send_share_start_df[[\"WorkerID\", \"EventType\", \"ID\", \"Time\"]]\n",
    "    worker_send_share_start_df.columns = [\"WorkerID\", \"EventType\", \"ID\", \"StartTime\"]\n",
    "    \n",
    "    worker_send_share_end_df = worker_send_share_df[worker_send_share_df[\"EventState\"] == 'end']\n",
    "    worker_send_share_end_df = worker_send_share_end_df.reset_index()\n",
    "    \n",
    "    send_share_df_cat = pd.concat([worker_send_share_start_df, worker_send_share_end_df[\"Time\"]], axis=1)\n",
    "    send_share_df_cat.columns = [\"WorkerID\", \"EventType\", \"ID\", \"StartTime\", \"EndTime\"]\n",
    "    send_share_df_cat[\"Duration\"] = send_share_df_cat.apply(lambda x: x[\"EndTime\"] - x[\"StartTime\"], axis=1)\n",
    "    \n",
    "    parameter_index = []\n",
    "    nr_worker = len(worker_dfs)\n",
    "    p_index = -1\n",
    "\n",
    "    for i in range(len(send_share_df_cat)):\n",
    "        tmp_index = (i%nr_worker)\n",
    "        if tmp_index == 0:\n",
    "            p_index += 1\n",
    "            p_index = p_index % nr_parameters\n",
    "        parameter_index.append(p_index)\n",
    "        \n",
    "    send_share_df_cat.insert(2, \"p_idx\", parameter_index)\n",
    "    obj_id_list = send_share_df_cat.apply(lambda x: x[\"EventType\"].split(\"_\")[1], axis=1)\n",
    "    send_share_df_cat.insert(2, \"obj_id\", obj_id_list)\n",
    "    \n",
    "    del send_share_df_cat[\"EventType\"]\n",
    "    send_share_df_cat.insert(1, \"EventType\", \"SendShare\")\n",
    "    \n",
    "    return send_share_df_cat\n"
   ]
  },
  {
   "cell_type": "code",
   "execution_count": 130,
   "metadata": {},
   "outputs": [],
   "source": [
    "alice_send_share_df_cat = calculate_share_send_duration(\"alice\", worker_dfs, 8)\n",
    "bob_send_share_df_cat = calculate_share_send_duration(\"bob\", worker_dfs, 8)\n",
    "charlie_send_share_df_cat = calculate_share_send_duration(\"charlie\", worker_dfs, 8)"
   ]
  },
  {
   "cell_type": "code",
   "execution_count": 131,
   "metadata": {},
   "outputs": [
    {
     "data": {
      "text/html": [
       "<div>\n",
       "<style scoped>\n",
       "    .dataframe tbody tr th:only-of-type {\n",
       "        vertical-align: middle;\n",
       "    }\n",
       "\n",
       "    .dataframe tbody tr th {\n",
       "        vertical-align: top;\n",
       "    }\n",
       "\n",
       "    .dataframe thead th {\n",
       "        text-align: right;\n",
       "    }\n",
       "</style>\n",
       "<table border=\"1\" class=\"dataframe\">\n",
       "  <thead>\n",
       "    <tr style=\"text-align: right;\">\n",
       "      <th></th>\n",
       "      <th>WorkerID</th>\n",
       "      <th>EventType</th>\n",
       "      <th>obj_id</th>\n",
       "      <th>p_idx</th>\n",
       "      <th>ID</th>\n",
       "      <th>StartTime</th>\n",
       "      <th>EndTime</th>\n",
       "      <th>Duration</th>\n",
       "    </tr>\n",
       "  </thead>\n",
       "  <tbody>\n",
       "    <tr>\n",
       "      <th>0</th>\n",
       "      <td>alice</td>\n",
       "      <td>SendShare</td>\n",
       "      <td>94631695399</td>\n",
       "      <td>0</td>\n",
       "      <td>alice</td>\n",
       "      <td>1.601986e+09</td>\n",
       "      <td>1.601986e+09</td>\n",
       "      <td>0.001004</td>\n",
       "    </tr>\n",
       "    <tr>\n",
       "      <th>1</th>\n",
       "      <td>alice</td>\n",
       "      <td>SendShare</td>\n",
       "      <td>51867600145</td>\n",
       "      <td>0</td>\n",
       "      <td>bob</td>\n",
       "      <td>1.601986e+09</td>\n",
       "      <td>1.601986e+09</td>\n",
       "      <td>0.003412</td>\n",
       "    </tr>\n",
       "    <tr>\n",
       "      <th>2</th>\n",
       "      <td>alice</td>\n",
       "      <td>SendShare</td>\n",
       "      <td>99017192652</td>\n",
       "      <td>0</td>\n",
       "      <td>charlie</td>\n",
       "      <td>1.601986e+09</td>\n",
       "      <td>1.601986e+09</td>\n",
       "      <td>0.003241</td>\n",
       "    </tr>\n",
       "    <tr>\n",
       "      <th>3</th>\n",
       "      <td>alice</td>\n",
       "      <td>SendShare</td>\n",
       "      <td>39209828862</td>\n",
       "      <td>1</td>\n",
       "      <td>alice</td>\n",
       "      <td>1.601986e+09</td>\n",
       "      <td>1.601986e+09</td>\n",
       "      <td>0.000537</td>\n",
       "    </tr>\n",
       "    <tr>\n",
       "      <th>4</th>\n",
       "      <td>alice</td>\n",
       "      <td>SendShare</td>\n",
       "      <td>2805691438</td>\n",
       "      <td>1</td>\n",
       "      <td>bob</td>\n",
       "      <td>1.601986e+09</td>\n",
       "      <td>1.601986e+09</td>\n",
       "      <td>0.003325</td>\n",
       "    </tr>\n",
       "    <tr>\n",
       "      <th>...</th>\n",
       "      <td>...</td>\n",
       "      <td>...</td>\n",
       "      <td>...</td>\n",
       "      <td>...</td>\n",
       "      <td>...</td>\n",
       "      <td>...</td>\n",
       "      <td>...</td>\n",
       "      <td>...</td>\n",
       "    </tr>\n",
       "    <tr>\n",
       "      <th>499</th>\n",
       "      <td>alice</td>\n",
       "      <td>SendShare</td>\n",
       "      <td>75768864211</td>\n",
       "      <td>6</td>\n",
       "      <td>bob</td>\n",
       "      <td>1.601987e+09</td>\n",
       "      <td>1.601987e+09</td>\n",
       "      <td>0.024134</td>\n",
       "    </tr>\n",
       "    <tr>\n",
       "      <th>500</th>\n",
       "      <td>alice</td>\n",
       "      <td>SendShare</td>\n",
       "      <td>45632418653</td>\n",
       "      <td>6</td>\n",
       "      <td>charlie</td>\n",
       "      <td>1.601987e+09</td>\n",
       "      <td>1.601987e+09</td>\n",
       "      <td>0.014672</td>\n",
       "    </tr>\n",
       "    <tr>\n",
       "      <th>501</th>\n",
       "      <td>alice</td>\n",
       "      <td>SendShare</td>\n",
       "      <td>74115743881</td>\n",
       "      <td>7</td>\n",
       "      <td>alice</td>\n",
       "      <td>1.601987e+09</td>\n",
       "      <td>1.601987e+09</td>\n",
       "      <td>0.000913</td>\n",
       "    </tr>\n",
       "    <tr>\n",
       "      <th>502</th>\n",
       "      <td>alice</td>\n",
       "      <td>SendShare</td>\n",
       "      <td>32437666830</td>\n",
       "      <td>7</td>\n",
       "      <td>bob</td>\n",
       "      <td>1.601987e+09</td>\n",
       "      <td>1.601987e+09</td>\n",
       "      <td>0.007008</td>\n",
       "    </tr>\n",
       "    <tr>\n",
       "      <th>503</th>\n",
       "      <td>alice</td>\n",
       "      <td>SendShare</td>\n",
       "      <td>28533437167</td>\n",
       "      <td>7</td>\n",
       "      <td>charlie</td>\n",
       "      <td>1.601987e+09</td>\n",
       "      <td>1.601987e+09</td>\n",
       "      <td>0.001706</td>\n",
       "    </tr>\n",
       "  </tbody>\n",
       "</table>\n",
       "<p>504 rows × 8 columns</p>\n",
       "</div>"
      ],
      "text/plain": [
       "    WorkerID  EventType       obj_id  p_idx       ID     StartTime  \\\n",
       "0      alice  SendShare  94631695399      0    alice  1.601986e+09   \n",
       "1      alice  SendShare  51867600145      0      bob  1.601986e+09   \n",
       "2      alice  SendShare  99017192652      0  charlie  1.601986e+09   \n",
       "3      alice  SendShare  39209828862      1    alice  1.601986e+09   \n",
       "4      alice  SendShare   2805691438      1      bob  1.601986e+09   \n",
       "..       ...        ...          ...    ...      ...           ...   \n",
       "499    alice  SendShare  75768864211      6      bob  1.601987e+09   \n",
       "500    alice  SendShare  45632418653      6  charlie  1.601987e+09   \n",
       "501    alice  SendShare  74115743881      7    alice  1.601987e+09   \n",
       "502    alice  SendShare  32437666830      7      bob  1.601987e+09   \n",
       "503    alice  SendShare  28533437167      7  charlie  1.601987e+09   \n",
       "\n",
       "          EndTime  Duration  \n",
       "0    1.601986e+09  0.001004  \n",
       "1    1.601986e+09  0.003412  \n",
       "2    1.601986e+09  0.003241  \n",
       "3    1.601986e+09  0.000537  \n",
       "4    1.601986e+09  0.003325  \n",
       "..            ...       ...  \n",
       "499  1.601987e+09  0.024134  \n",
       "500  1.601987e+09  0.014672  \n",
       "501  1.601987e+09  0.000913  \n",
       "502  1.601987e+09  0.007008  \n",
       "503  1.601987e+09  0.001706  \n",
       "\n",
       "[504 rows x 8 columns]"
      ]
     },
     "execution_count": 131,
     "metadata": {},
     "output_type": "execute_result"
    }
   ],
   "source": [
    "alice_send_share_df_cat"
   ]
  },
  {
   "cell_type": "code",
   "execution_count": 132,
   "metadata": {},
   "outputs": [
    {
     "data": {
      "text/html": [
       "<div>\n",
       "<style scoped>\n",
       "    .dataframe tbody tr th:only-of-type {\n",
       "        vertical-align: middle;\n",
       "    }\n",
       "\n",
       "    .dataframe tbody tr th {\n",
       "        vertical-align: top;\n",
       "    }\n",
       "\n",
       "    .dataframe thead th {\n",
       "        text-align: right;\n",
       "    }\n",
       "</style>\n",
       "<table border=\"1\" class=\"dataframe\">\n",
       "  <thead>\n",
       "    <tr style=\"text-align: right;\">\n",
       "      <th></th>\n",
       "      <th>WorkerID</th>\n",
       "      <th>EventType</th>\n",
       "      <th>obj_id</th>\n",
       "      <th>p_idx</th>\n",
       "      <th>ID</th>\n",
       "      <th>StartTime</th>\n",
       "      <th>EndTime</th>\n",
       "      <th>Duration</th>\n",
       "    </tr>\n",
       "  </thead>\n",
       "  <tbody>\n",
       "    <tr>\n",
       "      <th>0</th>\n",
       "      <td>bob</td>\n",
       "      <td>SendShare</td>\n",
       "      <td>71753566022</td>\n",
       "      <td>0</td>\n",
       "      <td>alice</td>\n",
       "      <td>1.601986e+09</td>\n",
       "      <td>1.601986e+09</td>\n",
       "      <td>4.754788</td>\n",
       "    </tr>\n",
       "    <tr>\n",
       "      <th>1</th>\n",
       "      <td>bob</td>\n",
       "      <td>SendShare</td>\n",
       "      <td>33316160301</td>\n",
       "      <td>0</td>\n",
       "      <td>bob</td>\n",
       "      <td>1.601986e+09</td>\n",
       "      <td>1.601986e+09</td>\n",
       "      <td>0.001015</td>\n",
       "    </tr>\n",
       "    <tr>\n",
       "      <th>2</th>\n",
       "      <td>bob</td>\n",
       "      <td>SendShare</td>\n",
       "      <td>70698033332</td>\n",
       "      <td>0</td>\n",
       "      <td>charlie</td>\n",
       "      <td>1.601986e+09</td>\n",
       "      <td>1.601986e+09</td>\n",
       "      <td>0.004194</td>\n",
       "    </tr>\n",
       "    <tr>\n",
       "      <th>3</th>\n",
       "      <td>bob</td>\n",
       "      <td>SendShare</td>\n",
       "      <td>30564881151</td>\n",
       "      <td>1</td>\n",
       "      <td>alice</td>\n",
       "      <td>1.601986e+09</td>\n",
       "      <td>1.601986e+09</td>\n",
       "      <td>0.001814</td>\n",
       "    </tr>\n",
       "    <tr>\n",
       "      <th>4</th>\n",
       "      <td>bob</td>\n",
       "      <td>SendShare</td>\n",
       "      <td>15935525561</td>\n",
       "      <td>1</td>\n",
       "      <td>bob</td>\n",
       "      <td>1.601986e+09</td>\n",
       "      <td>1.601986e+09</td>\n",
       "      <td>0.000603</td>\n",
       "    </tr>\n",
       "    <tr>\n",
       "      <th>...</th>\n",
       "      <td>...</td>\n",
       "      <td>...</td>\n",
       "      <td>...</td>\n",
       "      <td>...</td>\n",
       "      <td>...</td>\n",
       "      <td>...</td>\n",
       "      <td>...</td>\n",
       "      <td>...</td>\n",
       "    </tr>\n",
       "    <tr>\n",
       "      <th>499</th>\n",
       "      <td>bob</td>\n",
       "      <td>SendShare</td>\n",
       "      <td>23196229533</td>\n",
       "      <td>6</td>\n",
       "      <td>bob</td>\n",
       "      <td>1.601987e+09</td>\n",
       "      <td>1.601987e+09</td>\n",
       "      <td>0.000677</td>\n",
       "    </tr>\n",
       "    <tr>\n",
       "      <th>500</th>\n",
       "      <td>bob</td>\n",
       "      <td>SendShare</td>\n",
       "      <td>7419015346</td>\n",
       "      <td>6</td>\n",
       "      <td>charlie</td>\n",
       "      <td>1.601987e+09</td>\n",
       "      <td>1.601987e+09</td>\n",
       "      <td>0.015789</td>\n",
       "    </tr>\n",
       "    <tr>\n",
       "      <th>501</th>\n",
       "      <td>bob</td>\n",
       "      <td>SendShare</td>\n",
       "      <td>27199016963</td>\n",
       "      <td>7</td>\n",
       "      <td>alice</td>\n",
       "      <td>1.601987e+09</td>\n",
       "      <td>1.601987e+09</td>\n",
       "      <td>0.001944</td>\n",
       "    </tr>\n",
       "    <tr>\n",
       "      <th>502</th>\n",
       "      <td>bob</td>\n",
       "      <td>SendShare</td>\n",
       "      <td>64741868678</td>\n",
       "      <td>7</td>\n",
       "      <td>bob</td>\n",
       "      <td>1.601987e+09</td>\n",
       "      <td>1.601987e+09</td>\n",
       "      <td>0.000951</td>\n",
       "    </tr>\n",
       "    <tr>\n",
       "      <th>503</th>\n",
       "      <td>bob</td>\n",
       "      <td>SendShare</td>\n",
       "      <td>61337717318</td>\n",
       "      <td>7</td>\n",
       "      <td>charlie</td>\n",
       "      <td>1.601987e+09</td>\n",
       "      <td>1.601987e+09</td>\n",
       "      <td>0.001562</td>\n",
       "    </tr>\n",
       "  </tbody>\n",
       "</table>\n",
       "<p>504 rows × 8 columns</p>\n",
       "</div>"
      ],
      "text/plain": [
       "    WorkerID  EventType       obj_id  p_idx       ID     StartTime  \\\n",
       "0        bob  SendShare  71753566022      0    alice  1.601986e+09   \n",
       "1        bob  SendShare  33316160301      0      bob  1.601986e+09   \n",
       "2        bob  SendShare  70698033332      0  charlie  1.601986e+09   \n",
       "3        bob  SendShare  30564881151      1    alice  1.601986e+09   \n",
       "4        bob  SendShare  15935525561      1      bob  1.601986e+09   \n",
       "..       ...        ...          ...    ...      ...           ...   \n",
       "499      bob  SendShare  23196229533      6      bob  1.601987e+09   \n",
       "500      bob  SendShare   7419015346      6  charlie  1.601987e+09   \n",
       "501      bob  SendShare  27199016963      7    alice  1.601987e+09   \n",
       "502      bob  SendShare  64741868678      7      bob  1.601987e+09   \n",
       "503      bob  SendShare  61337717318      7  charlie  1.601987e+09   \n",
       "\n",
       "          EndTime  Duration  \n",
       "0    1.601986e+09  4.754788  \n",
       "1    1.601986e+09  0.001015  \n",
       "2    1.601986e+09  0.004194  \n",
       "3    1.601986e+09  0.001814  \n",
       "4    1.601986e+09  0.000603  \n",
       "..            ...       ...  \n",
       "499  1.601987e+09  0.000677  \n",
       "500  1.601987e+09  0.015789  \n",
       "501  1.601987e+09  0.001944  \n",
       "502  1.601987e+09  0.000951  \n",
       "503  1.601987e+09  0.001562  \n",
       "\n",
       "[504 rows x 8 columns]"
      ]
     },
     "execution_count": 132,
     "metadata": {},
     "output_type": "execute_result"
    }
   ],
   "source": [
    "bob_send_share_df_cat"
   ]
  },
  {
   "cell_type": "code",
   "execution_count": 133,
   "metadata": {},
   "outputs": [
    {
     "data": {
      "text/html": [
       "<div>\n",
       "<style scoped>\n",
       "    .dataframe tbody tr th:only-of-type {\n",
       "        vertical-align: middle;\n",
       "    }\n",
       "\n",
       "    .dataframe tbody tr th {\n",
       "        vertical-align: top;\n",
       "    }\n",
       "\n",
       "    .dataframe thead th {\n",
       "        text-align: right;\n",
       "    }\n",
       "</style>\n",
       "<table border=\"1\" class=\"dataframe\">\n",
       "  <thead>\n",
       "    <tr style=\"text-align: right;\">\n",
       "      <th></th>\n",
       "      <th>WorkerID</th>\n",
       "      <th>EventType</th>\n",
       "      <th>obj_id</th>\n",
       "      <th>p_idx</th>\n",
       "      <th>ID</th>\n",
       "      <th>StartTime</th>\n",
       "      <th>EndTime</th>\n",
       "      <th>Duration</th>\n",
       "    </tr>\n",
       "  </thead>\n",
       "  <tbody>\n",
       "    <tr>\n",
       "      <th>0</th>\n",
       "      <td>charlie</td>\n",
       "      <td>SendShare</td>\n",
       "      <td>74268282113</td>\n",
       "      <td>0</td>\n",
       "      <td>alice</td>\n",
       "      <td>1.601986e+09</td>\n",
       "      <td>1.601986e+09</td>\n",
       "      <td>3.793310</td>\n",
       "    </tr>\n",
       "    <tr>\n",
       "      <th>1</th>\n",
       "      <td>charlie</td>\n",
       "      <td>SendShare</td>\n",
       "      <td>33722881246</td>\n",
       "      <td>0</td>\n",
       "      <td>bob</td>\n",
       "      <td>1.601986e+09</td>\n",
       "      <td>1.601986e+09</td>\n",
       "      <td>0.006335</td>\n",
       "    </tr>\n",
       "    <tr>\n",
       "      <th>2</th>\n",
       "      <td>charlie</td>\n",
       "      <td>SendShare</td>\n",
       "      <td>21928928843</td>\n",
       "      <td>0</td>\n",
       "      <td>charlie</td>\n",
       "      <td>1.601986e+09</td>\n",
       "      <td>1.601986e+09</td>\n",
       "      <td>0.000960</td>\n",
       "    </tr>\n",
       "    <tr>\n",
       "      <th>3</th>\n",
       "      <td>charlie</td>\n",
       "      <td>SendShare</td>\n",
       "      <td>31942521795</td>\n",
       "      <td>1</td>\n",
       "      <td>alice</td>\n",
       "      <td>1.601986e+09</td>\n",
       "      <td>1.601986e+09</td>\n",
       "      <td>0.001678</td>\n",
       "    </tr>\n",
       "    <tr>\n",
       "      <th>4</th>\n",
       "      <td>charlie</td>\n",
       "      <td>SendShare</td>\n",
       "      <td>11292091875</td>\n",
       "      <td>1</td>\n",
       "      <td>bob</td>\n",
       "      <td>1.601986e+09</td>\n",
       "      <td>1.601986e+09</td>\n",
       "      <td>0.001790</td>\n",
       "    </tr>\n",
       "    <tr>\n",
       "      <th>...</th>\n",
       "      <td>...</td>\n",
       "      <td>...</td>\n",
       "      <td>...</td>\n",
       "      <td>...</td>\n",
       "      <td>...</td>\n",
       "      <td>...</td>\n",
       "      <td>...</td>\n",
       "      <td>...</td>\n",
       "    </tr>\n",
       "    <tr>\n",
       "      <th>499</th>\n",
       "      <td>charlie</td>\n",
       "      <td>SendShare</td>\n",
       "      <td>86031795622</td>\n",
       "      <td>6</td>\n",
       "      <td>bob</td>\n",
       "      <td>1.601987e+09</td>\n",
       "      <td>1.601987e+09</td>\n",
       "      <td>0.022573</td>\n",
       "    </tr>\n",
       "    <tr>\n",
       "      <th>500</th>\n",
       "      <td>charlie</td>\n",
       "      <td>SendShare</td>\n",
       "      <td>87419627585</td>\n",
       "      <td>6</td>\n",
       "      <td>charlie</td>\n",
       "      <td>1.601987e+09</td>\n",
       "      <td>1.601987e+09</td>\n",
       "      <td>0.000463</td>\n",
       "    </tr>\n",
       "    <tr>\n",
       "      <th>501</th>\n",
       "      <td>charlie</td>\n",
       "      <td>SendShare</td>\n",
       "      <td>17959139505</td>\n",
       "      <td>7</td>\n",
       "      <td>alice</td>\n",
       "      <td>1.601987e+09</td>\n",
       "      <td>1.601987e+09</td>\n",
       "      <td>0.001504</td>\n",
       "    </tr>\n",
       "    <tr>\n",
       "      <th>502</th>\n",
       "      <td>charlie</td>\n",
       "      <td>SendShare</td>\n",
       "      <td>52096714640</td>\n",
       "      <td>7</td>\n",
       "      <td>bob</td>\n",
       "      <td>1.601987e+09</td>\n",
       "      <td>1.601987e+09</td>\n",
       "      <td>0.003509</td>\n",
       "    </tr>\n",
       "    <tr>\n",
       "      <th>503</th>\n",
       "      <td>charlie</td>\n",
       "      <td>SendShare</td>\n",
       "      <td>76067249525</td>\n",
       "      <td>7</td>\n",
       "      <td>charlie</td>\n",
       "      <td>1.601987e+09</td>\n",
       "      <td>1.601987e+09</td>\n",
       "      <td>0.000485</td>\n",
       "    </tr>\n",
       "  </tbody>\n",
       "</table>\n",
       "<p>504 rows × 8 columns</p>\n",
       "</div>"
      ],
      "text/plain": [
       "    WorkerID  EventType       obj_id  p_idx       ID     StartTime  \\\n",
       "0    charlie  SendShare  74268282113      0    alice  1.601986e+09   \n",
       "1    charlie  SendShare  33722881246      0      bob  1.601986e+09   \n",
       "2    charlie  SendShare  21928928843      0  charlie  1.601986e+09   \n",
       "3    charlie  SendShare  31942521795      1    alice  1.601986e+09   \n",
       "4    charlie  SendShare  11292091875      1      bob  1.601986e+09   \n",
       "..       ...        ...          ...    ...      ...           ...   \n",
       "499  charlie  SendShare  86031795622      6      bob  1.601987e+09   \n",
       "500  charlie  SendShare  87419627585      6  charlie  1.601987e+09   \n",
       "501  charlie  SendShare  17959139505      7    alice  1.601987e+09   \n",
       "502  charlie  SendShare  52096714640      7      bob  1.601987e+09   \n",
       "503  charlie  SendShare  76067249525      7  charlie  1.601987e+09   \n",
       "\n",
       "          EndTime  Duration  \n",
       "0    1.601986e+09  3.793310  \n",
       "1    1.601986e+09  0.006335  \n",
       "2    1.601986e+09  0.000960  \n",
       "3    1.601986e+09  0.001678  \n",
       "4    1.601986e+09  0.001790  \n",
       "..            ...       ...  \n",
       "499  1.601987e+09  0.022573  \n",
       "500  1.601987e+09  0.000463  \n",
       "501  1.601987e+09  0.001504  \n",
       "502  1.601987e+09  0.003509  \n",
       "503  1.601987e+09  0.000485  \n",
       "\n",
       "[504 rows x 8 columns]"
      ]
     },
     "execution_count": 133,
     "metadata": {},
     "output_type": "execute_result"
    }
   ],
   "source": [
    "charlie_send_share_df_cat"
   ]
  },
  {
   "cell_type": "markdown",
   "metadata": {},
   "source": [
    "## ShareSend Send Time"
   ]
  },
  {
   "cell_type": "code",
   "execution_count": 134,
   "metadata": {},
   "outputs": [],
   "source": [
    "def calculate_share_send_time(sender_id, receiver_id, worker_dfs, nr_parameter):\n",
    "    sender_df = worker_dfs[sender_id]\n",
    "    receiver_df = worker_dfs[receiver_id]\n",
    "    \n",
    "    sender_send_share_df = sender_df[sender_df[\"EventType\"].str.contains('SendShare', regex=False)]\n",
    "    receiver_get_share_df = receiver_df[receiver_df[\"EventType\"].str.contains('GetShare', regex=False)]\n",
    "    \n",
    "    send_share_start_df = sender_send_share_df[(sender_send_share_df[\"ID\"] == receiver_id) & (sender_send_share_df[\"EventState\"] == 'start')]\n",
    "    get_share_df = receiver_get_share_df[receiver_get_share_df[\"ID\"] == sender_id]\n",
    "    send_share_start_df = send_share_start_df.reset_index()\n",
    "    get_share_df = get_share_df.reset_index()\n",
    "    \n",
    "    del send_share_start_df['index']\n",
    "    del send_share_start_df['EventState']\n",
    "    \n",
    "    send_time_df = pd.concat([send_share_start_df, get_share_df[\"Time\"]], axis=1)\n",
    "    send_time_df.columns = [\"WorkerID\", \"EventType\", \"ID\", \"StartTime\", \"RecvTime\"]\n",
    "    send_time_df[\"SendTime\"] = send_time_df.apply(lambda x: x[\"RecvTime\"] - x[\"StartTime\"], axis=1)\n",
    "    \n",
    "    nr_parameter = 8\n",
    "    parameter_index = []\n",
    "\n",
    "    for i in range(len(send_time_df)):\n",
    "        tmp_index = (i%nr_parameter)\n",
    "        parameter_index.append(tmp_index)\n",
    "        \n",
    "    send_time_df.insert(2, \"p_idx\", parameter_index)\n",
    "    \n",
    "    obj_id_list = send_time_df.apply(lambda x: x[\"EventType\"].split(\"_\")[1], axis=1)\n",
    "    send_time_df.insert(2, \"obj_id\", obj_id_list)\n",
    "    \n",
    "    del send_time_df[\"EventType\"]\n",
    "    send_time_df.insert(1, \"EventType\", \"SendShare\")\n",
    "    \n",
    "    return send_time_df"
   ]
  },
  {
   "cell_type": "code",
   "execution_count": 135,
   "metadata": {},
   "outputs": [],
   "source": [
    "send_time_df = calculate_share_send_time(\"alice\", \"bob\", worker_dfs, 8)"
   ]
  },
  {
   "cell_type": "code",
   "execution_count": 136,
   "metadata": {},
   "outputs": [
    {
     "data": {
      "text/html": [
       "<div>\n",
       "<style scoped>\n",
       "    .dataframe tbody tr th:only-of-type {\n",
       "        vertical-align: middle;\n",
       "    }\n",
       "\n",
       "    .dataframe tbody tr th {\n",
       "        vertical-align: top;\n",
       "    }\n",
       "\n",
       "    .dataframe thead th {\n",
       "        text-align: right;\n",
       "    }\n",
       "</style>\n",
       "<table border=\"1\" class=\"dataframe\">\n",
       "  <thead>\n",
       "    <tr style=\"text-align: right;\">\n",
       "      <th></th>\n",
       "      <th>WorkerID</th>\n",
       "      <th>EventType</th>\n",
       "      <th>obj_id</th>\n",
       "      <th>p_idx</th>\n",
       "      <th>ID</th>\n",
       "      <th>StartTime</th>\n",
       "      <th>RecvTime</th>\n",
       "      <th>SendTime</th>\n",
       "    </tr>\n",
       "  </thead>\n",
       "  <tbody>\n",
       "    <tr>\n",
       "      <th>0</th>\n",
       "      <td>alice</td>\n",
       "      <td>SendShare</td>\n",
       "      <td>51867600145</td>\n",
       "      <td>0</td>\n",
       "      <td>bob</td>\n",
       "      <td>1.601986e+09</td>\n",
       "      <td>1.601986e+09</td>\n",
       "      <td>0.002847</td>\n",
       "    </tr>\n",
       "    <tr>\n",
       "      <th>1</th>\n",
       "      <td>alice</td>\n",
       "      <td>SendShare</td>\n",
       "      <td>2805691438</td>\n",
       "      <td>1</td>\n",
       "      <td>bob</td>\n",
       "      <td>1.601986e+09</td>\n",
       "      <td>1.601986e+09</td>\n",
       "      <td>0.002742</td>\n",
       "    </tr>\n",
       "    <tr>\n",
       "      <th>2</th>\n",
       "      <td>alice</td>\n",
       "      <td>SendShare</td>\n",
       "      <td>84852166780</td>\n",
       "      <td>2</td>\n",
       "      <td>bob</td>\n",
       "      <td>1.601986e+09</td>\n",
       "      <td>1.601986e+09</td>\n",
       "      <td>0.060992</td>\n",
       "    </tr>\n",
       "    <tr>\n",
       "      <th>3</th>\n",
       "      <td>alice</td>\n",
       "      <td>SendShare</td>\n",
       "      <td>5603916406</td>\n",
       "      <td>3</td>\n",
       "      <td>bob</td>\n",
       "      <td>1.601986e+09</td>\n",
       "      <td>1.601986e+09</td>\n",
       "      <td>0.045604</td>\n",
       "    </tr>\n",
       "    <tr>\n",
       "      <th>4</th>\n",
       "      <td>alice</td>\n",
       "      <td>SendShare</td>\n",
       "      <td>38391999345</td>\n",
       "      <td>4</td>\n",
       "      <td>bob</td>\n",
       "      <td>1.601986e+09</td>\n",
       "      <td>1.601986e+09</td>\n",
       "      <td>1.486456</td>\n",
       "    </tr>\n",
       "    <tr>\n",
       "      <th>...</th>\n",
       "      <td>...</td>\n",
       "      <td>...</td>\n",
       "      <td>...</td>\n",
       "      <td>...</td>\n",
       "      <td>...</td>\n",
       "      <td>...</td>\n",
       "      <td>...</td>\n",
       "      <td>...</td>\n",
       "    </tr>\n",
       "    <tr>\n",
       "      <th>163</th>\n",
       "      <td>alice</td>\n",
       "      <td>SendShare</td>\n",
       "      <td>42879180074</td>\n",
       "      <td>3</td>\n",
       "      <td>bob</td>\n",
       "      <td>1.601987e+09</td>\n",
       "      <td>1.601987e+09</td>\n",
       "      <td>0.018521</td>\n",
       "    </tr>\n",
       "    <tr>\n",
       "      <th>164</th>\n",
       "      <td>alice</td>\n",
       "      <td>SendShare</td>\n",
       "      <td>41458084762</td>\n",
       "      <td>4</td>\n",
       "      <td>bob</td>\n",
       "      <td>1.601987e+09</td>\n",
       "      <td>1.601987e+09</td>\n",
       "      <td>0.920157</td>\n",
       "    </tr>\n",
       "    <tr>\n",
       "      <th>165</th>\n",
       "      <td>alice</td>\n",
       "      <td>SendShare</td>\n",
       "      <td>34103653186</td>\n",
       "      <td>5</td>\n",
       "      <td>bob</td>\n",
       "      <td>1.601987e+09</td>\n",
       "      <td>1.601987e+09</td>\n",
       "      <td>0.002619</td>\n",
       "    </tr>\n",
       "    <tr>\n",
       "      <th>166</th>\n",
       "      <td>alice</td>\n",
       "      <td>SendShare</td>\n",
       "      <td>75768864211</td>\n",
       "      <td>6</td>\n",
       "      <td>bob</td>\n",
       "      <td>1.601987e+09</td>\n",
       "      <td>1.601987e+09</td>\n",
       "      <td>0.020775</td>\n",
       "    </tr>\n",
       "    <tr>\n",
       "      <th>167</th>\n",
       "      <td>alice</td>\n",
       "      <td>SendShare</td>\n",
       "      <td>32437666830</td>\n",
       "      <td>7</td>\n",
       "      <td>bob</td>\n",
       "      <td>1.601987e+09</td>\n",
       "      <td>1.601987e+09</td>\n",
       "      <td>0.000935</td>\n",
       "    </tr>\n",
       "  </tbody>\n",
       "</table>\n",
       "<p>168 rows × 8 columns</p>\n",
       "</div>"
      ],
      "text/plain": [
       "    WorkerID  EventType       obj_id  p_idx   ID     StartTime      RecvTime  \\\n",
       "0      alice  SendShare  51867600145      0  bob  1.601986e+09  1.601986e+09   \n",
       "1      alice  SendShare   2805691438      1  bob  1.601986e+09  1.601986e+09   \n",
       "2      alice  SendShare  84852166780      2  bob  1.601986e+09  1.601986e+09   \n",
       "3      alice  SendShare   5603916406      3  bob  1.601986e+09  1.601986e+09   \n",
       "4      alice  SendShare  38391999345      4  bob  1.601986e+09  1.601986e+09   \n",
       "..       ...        ...          ...    ...  ...           ...           ...   \n",
       "163    alice  SendShare  42879180074      3  bob  1.601987e+09  1.601987e+09   \n",
       "164    alice  SendShare  41458084762      4  bob  1.601987e+09  1.601987e+09   \n",
       "165    alice  SendShare  34103653186      5  bob  1.601987e+09  1.601987e+09   \n",
       "166    alice  SendShare  75768864211      6  bob  1.601987e+09  1.601987e+09   \n",
       "167    alice  SendShare  32437666830      7  bob  1.601987e+09  1.601987e+09   \n",
       "\n",
       "     SendTime  \n",
       "0    0.002847  \n",
       "1    0.002742  \n",
       "2    0.060992  \n",
       "3    0.045604  \n",
       "4    1.486456  \n",
       "..        ...  \n",
       "163  0.018521  \n",
       "164  0.920157  \n",
       "165  0.002619  \n",
       "166  0.020775  \n",
       "167  0.000935  \n",
       "\n",
       "[168 rows x 8 columns]"
      ]
     },
     "execution_count": 136,
     "metadata": {},
     "output_type": "execute_result"
    }
   ],
   "source": [
    "send_time_df"
   ]
  },
  {
   "cell_type": "markdown",
   "metadata": {},
   "source": [
    "## AllWorkersTrainingTime Duration"
   ]
  },
  {
   "cell_type": "code",
   "execution_count": 137,
   "metadata": {},
   "outputs": [],
   "source": [
    "coord_awtt_df = get_coord_duration(coord_df, \"AllWorkersTrainingTime\")"
   ]
  },
  {
   "cell_type": "code",
   "execution_count": 138,
   "metadata": {},
   "outputs": [
    {
     "data": {
      "text/plain": [
       "17.94358605146408"
      ]
     },
     "execution_count": 138,
     "metadata": {},
     "output_type": "execute_result"
    }
   ],
   "source": [
    "coord_awtt_df['Time'][1:].mean()"
   ]
  },
  {
   "cell_type": "code",
   "execution_count": 139,
   "metadata": {},
   "outputs": [
    {
     "data": {
      "text/html": [
       "<div>\n",
       "<style scoped>\n",
       "    .dataframe tbody tr th:only-of-type {\n",
       "        vertical-align: middle;\n",
       "    }\n",
       "\n",
       "    .dataframe tbody tr th {\n",
       "        vertical-align: top;\n",
       "    }\n",
       "\n",
       "    .dataframe thead th {\n",
       "        text-align: right;\n",
       "    }\n",
       "</style>\n",
       "<table border=\"1\" class=\"dataframe\">\n",
       "  <thead>\n",
       "    <tr style=\"text-align: right;\">\n",
       "      <th></th>\n",
       "      <th>EventType</th>\n",
       "      <th>EventState</th>\n",
       "      <th>Time</th>\n",
       "    </tr>\n",
       "  </thead>\n",
       "  <tbody>\n",
       "    <tr>\n",
       "      <th>0</th>\n",
       "      <td>AllWorkersTrainingTime</td>\n",
       "      <td>duration</td>\n",
       "      <td>18.088955</td>\n",
       "    </tr>\n",
       "    <tr>\n",
       "      <th>1</th>\n",
       "      <td>AllWorkersTrainingTime</td>\n",
       "      <td>duration</td>\n",
       "      <td>17.760969</td>\n",
       "    </tr>\n",
       "    <tr>\n",
       "      <th>2</th>\n",
       "      <td>AllWorkersTrainingTime</td>\n",
       "      <td>duration</td>\n",
       "      <td>18.355916</td>\n",
       "    </tr>\n",
       "    <tr>\n",
       "      <th>3</th>\n",
       "      <td>AllWorkersTrainingTime</td>\n",
       "      <td>duration</td>\n",
       "      <td>18.476558</td>\n",
       "    </tr>\n",
       "    <tr>\n",
       "      <th>4</th>\n",
       "      <td>AllWorkersTrainingTime</td>\n",
       "      <td>duration</td>\n",
       "      <td>18.067665</td>\n",
       "    </tr>\n",
       "    <tr>\n",
       "      <th>5</th>\n",
       "      <td>AllWorkersTrainingTime</td>\n",
       "      <td>duration</td>\n",
       "      <td>17.527401</td>\n",
       "    </tr>\n",
       "    <tr>\n",
       "      <th>6</th>\n",
       "      <td>AllWorkersTrainingTime</td>\n",
       "      <td>duration</td>\n",
       "      <td>18.064381</td>\n",
       "    </tr>\n",
       "    <tr>\n",
       "      <th>7</th>\n",
       "      <td>AllWorkersTrainingTime</td>\n",
       "      <td>duration</td>\n",
       "      <td>17.344831</td>\n",
       "    </tr>\n",
       "    <tr>\n",
       "      <th>8</th>\n",
       "      <td>AllWorkersTrainingTime</td>\n",
       "      <td>duration</td>\n",
       "      <td>17.913636</td>\n",
       "    </tr>\n",
       "    <tr>\n",
       "      <th>9</th>\n",
       "      <td>AllWorkersTrainingTime</td>\n",
       "      <td>duration</td>\n",
       "      <td>18.107202</td>\n",
       "    </tr>\n",
       "    <tr>\n",
       "      <th>10</th>\n",
       "      <td>AllWorkersTrainingTime</td>\n",
       "      <td>duration</td>\n",
       "      <td>17.578079</td>\n",
       "    </tr>\n",
       "    <tr>\n",
       "      <th>11</th>\n",
       "      <td>AllWorkersTrainingTime</td>\n",
       "      <td>duration</td>\n",
       "      <td>18.499099</td>\n",
       "    </tr>\n",
       "    <tr>\n",
       "      <th>12</th>\n",
       "      <td>AllWorkersTrainingTime</td>\n",
       "      <td>duration</td>\n",
       "      <td>17.970101</td>\n",
       "    </tr>\n",
       "    <tr>\n",
       "      <th>13</th>\n",
       "      <td>AllWorkersTrainingTime</td>\n",
       "      <td>duration</td>\n",
       "      <td>17.810688</td>\n",
       "    </tr>\n",
       "    <tr>\n",
       "      <th>14</th>\n",
       "      <td>AllWorkersTrainingTime</td>\n",
       "      <td>duration</td>\n",
       "      <td>18.090381</td>\n",
       "    </tr>\n",
       "    <tr>\n",
       "      <th>15</th>\n",
       "      <td>AllWorkersTrainingTime</td>\n",
       "      <td>duration</td>\n",
       "      <td>18.039860</td>\n",
       "    </tr>\n",
       "    <tr>\n",
       "      <th>16</th>\n",
       "      <td>AllWorkersTrainingTime</td>\n",
       "      <td>duration</td>\n",
       "      <td>17.304324</td>\n",
       "    </tr>\n",
       "    <tr>\n",
       "      <th>17</th>\n",
       "      <td>AllWorkersTrainingTime</td>\n",
       "      <td>duration</td>\n",
       "      <td>18.016973</td>\n",
       "    </tr>\n",
       "    <tr>\n",
       "      <th>18</th>\n",
       "      <td>AllWorkersTrainingTime</td>\n",
       "      <td>duration</td>\n",
       "      <td>17.948773</td>\n",
       "    </tr>\n",
       "    <tr>\n",
       "      <th>19</th>\n",
       "      <td>AllWorkersTrainingTime</td>\n",
       "      <td>duration</td>\n",
       "      <td>18.059993</td>\n",
       "    </tr>\n",
       "    <tr>\n",
       "      <th>20</th>\n",
       "      <td>AllWorkersTrainingTime</td>\n",
       "      <td>duration</td>\n",
       "      <td>17.934889</td>\n",
       "    </tr>\n",
       "  </tbody>\n",
       "</table>\n",
       "</div>"
      ],
      "text/plain": [
       "                 EventType EventState       Time\n",
       "0   AllWorkersTrainingTime   duration  18.088955\n",
       "1   AllWorkersTrainingTime   duration  17.760969\n",
       "2   AllWorkersTrainingTime   duration  18.355916\n",
       "3   AllWorkersTrainingTime   duration  18.476558\n",
       "4   AllWorkersTrainingTime   duration  18.067665\n",
       "5   AllWorkersTrainingTime   duration  17.527401\n",
       "6   AllWorkersTrainingTime   duration  18.064381\n",
       "7   AllWorkersTrainingTime   duration  17.344831\n",
       "8   AllWorkersTrainingTime   duration  17.913636\n",
       "9   AllWorkersTrainingTime   duration  18.107202\n",
       "10  AllWorkersTrainingTime   duration  17.578079\n",
       "11  AllWorkersTrainingTime   duration  18.499099\n",
       "12  AllWorkersTrainingTime   duration  17.970101\n",
       "13  AllWorkersTrainingTime   duration  17.810688\n",
       "14  AllWorkersTrainingTime   duration  18.090381\n",
       "15  AllWorkersTrainingTime   duration  18.039860\n",
       "16  AllWorkersTrainingTime   duration  17.304324\n",
       "17  AllWorkersTrainingTime   duration  18.016973\n",
       "18  AllWorkersTrainingTime   duration  17.948773\n",
       "19  AllWorkersTrainingTime   duration  18.059993\n",
       "20  AllWorkersTrainingTime   duration  17.934889"
      ]
     },
     "execution_count": 139,
     "metadata": {},
     "output_type": "execute_result"
    }
   ],
   "source": [
    "coord_awtt_df"
   ]
  },
  {
   "cell_type": "markdown",
   "metadata": {},
   "source": [
    "## AggregationTime"
   ]
  },
  {
   "cell_type": "code",
   "execution_count": 140,
   "metadata": {},
   "outputs": [],
   "source": [
    "coord_aggt_df = get_coord_duration(coord_df, \"AggregationTime\")"
   ]
  },
  {
   "cell_type": "code",
   "execution_count": 141,
   "metadata": {},
   "outputs": [
    {
     "data": {
      "text/plain": [
       "0.1080413818359375"
      ]
     },
     "execution_count": 141,
     "metadata": {},
     "output_type": "execute_result"
    }
   ],
   "source": [
    "coord_aggt_df[\"Time\"][1:].mean()"
   ]
  },
  {
   "cell_type": "code",
   "execution_count": 142,
   "metadata": {},
   "outputs": [
    {
     "data": {
      "text/html": [
       "<div>\n",
       "<style scoped>\n",
       "    .dataframe tbody tr th:only-of-type {\n",
       "        vertical-align: middle;\n",
       "    }\n",
       "\n",
       "    .dataframe tbody tr th {\n",
       "        vertical-align: top;\n",
       "    }\n",
       "\n",
       "    .dataframe thead th {\n",
       "        text-align: right;\n",
       "    }\n",
       "</style>\n",
       "<table border=\"1\" class=\"dataframe\">\n",
       "  <thead>\n",
       "    <tr style=\"text-align: right;\">\n",
       "      <th></th>\n",
       "      <th>EventType</th>\n",
       "      <th>EventState</th>\n",
       "      <th>Time</th>\n",
       "    </tr>\n",
       "  </thead>\n",
       "  <tbody>\n",
       "    <tr>\n",
       "      <th>0</th>\n",
       "      <td>AggregationTime</td>\n",
       "      <td>duration</td>\n",
       "      <td>0.105232</td>\n",
       "    </tr>\n",
       "    <tr>\n",
       "      <th>1</th>\n",
       "      <td>AggregationTime</td>\n",
       "      <td>duration</td>\n",
       "      <td>0.112568</td>\n",
       "    </tr>\n",
       "    <tr>\n",
       "      <th>2</th>\n",
       "      <td>AggregationTime</td>\n",
       "      <td>duration</td>\n",
       "      <td>0.109736</td>\n",
       "    </tr>\n",
       "    <tr>\n",
       "      <th>3</th>\n",
       "      <td>AggregationTime</td>\n",
       "      <td>duration</td>\n",
       "      <td>0.108742</td>\n",
       "    </tr>\n",
       "    <tr>\n",
       "      <th>4</th>\n",
       "      <td>AggregationTime</td>\n",
       "      <td>duration</td>\n",
       "      <td>0.109940</td>\n",
       "    </tr>\n",
       "    <tr>\n",
       "      <th>5</th>\n",
       "      <td>AggregationTime</td>\n",
       "      <td>duration</td>\n",
       "      <td>0.105813</td>\n",
       "    </tr>\n",
       "    <tr>\n",
       "      <th>6</th>\n",
       "      <td>AggregationTime</td>\n",
       "      <td>duration</td>\n",
       "      <td>0.107059</td>\n",
       "    </tr>\n",
       "    <tr>\n",
       "      <th>7</th>\n",
       "      <td>AggregationTime</td>\n",
       "      <td>duration</td>\n",
       "      <td>0.107715</td>\n",
       "    </tr>\n",
       "    <tr>\n",
       "      <th>8</th>\n",
       "      <td>AggregationTime</td>\n",
       "      <td>duration</td>\n",
       "      <td>0.104943</td>\n",
       "    </tr>\n",
       "    <tr>\n",
       "      <th>9</th>\n",
       "      <td>AggregationTime</td>\n",
       "      <td>duration</td>\n",
       "      <td>0.107641</td>\n",
       "    </tr>\n",
       "    <tr>\n",
       "      <th>10</th>\n",
       "      <td>AggregationTime</td>\n",
       "      <td>duration</td>\n",
       "      <td>0.110761</td>\n",
       "    </tr>\n",
       "    <tr>\n",
       "      <th>11</th>\n",
       "      <td>AggregationTime</td>\n",
       "      <td>duration</td>\n",
       "      <td>0.107957</td>\n",
       "    </tr>\n",
       "    <tr>\n",
       "      <th>12</th>\n",
       "      <td>AggregationTime</td>\n",
       "      <td>duration</td>\n",
       "      <td>0.093673</td>\n",
       "    </tr>\n",
       "    <tr>\n",
       "      <th>13</th>\n",
       "      <td>AggregationTime</td>\n",
       "      <td>duration</td>\n",
       "      <td>0.110180</td>\n",
       "    </tr>\n",
       "    <tr>\n",
       "      <th>14</th>\n",
       "      <td>AggregationTime</td>\n",
       "      <td>duration</td>\n",
       "      <td>0.106168</td>\n",
       "    </tr>\n",
       "    <tr>\n",
       "      <th>15</th>\n",
       "      <td>AggregationTime</td>\n",
       "      <td>duration</td>\n",
       "      <td>0.109427</td>\n",
       "    </tr>\n",
       "    <tr>\n",
       "      <th>16</th>\n",
       "      <td>AggregationTime</td>\n",
       "      <td>duration</td>\n",
       "      <td>0.109318</td>\n",
       "    </tr>\n",
       "    <tr>\n",
       "      <th>17</th>\n",
       "      <td>AggregationTime</td>\n",
       "      <td>duration</td>\n",
       "      <td>0.111573</td>\n",
       "    </tr>\n",
       "    <tr>\n",
       "      <th>18</th>\n",
       "      <td>AggregationTime</td>\n",
       "      <td>duration</td>\n",
       "      <td>0.107629</td>\n",
       "    </tr>\n",
       "    <tr>\n",
       "      <th>19</th>\n",
       "      <td>AggregationTime</td>\n",
       "      <td>duration</td>\n",
       "      <td>0.109003</td>\n",
       "    </tr>\n",
       "    <tr>\n",
       "      <th>20</th>\n",
       "      <td>AggregationTime</td>\n",
       "      <td>duration</td>\n",
       "      <td>0.110983</td>\n",
       "    </tr>\n",
       "  </tbody>\n",
       "</table>\n",
       "</div>"
      ],
      "text/plain": [
       "          EventType EventState      Time\n",
       "0   AggregationTime   duration  0.105232\n",
       "1   AggregationTime   duration  0.112568\n",
       "2   AggregationTime   duration  0.109736\n",
       "3   AggregationTime   duration  0.108742\n",
       "4   AggregationTime   duration  0.109940\n",
       "5   AggregationTime   duration  0.105813\n",
       "6   AggregationTime   duration  0.107059\n",
       "7   AggregationTime   duration  0.107715\n",
       "8   AggregationTime   duration  0.104943\n",
       "9   AggregationTime   duration  0.107641\n",
       "10  AggregationTime   duration  0.110761\n",
       "11  AggregationTime   duration  0.107957\n",
       "12  AggregationTime   duration  0.093673\n",
       "13  AggregationTime   duration  0.110180\n",
       "14  AggregationTime   duration  0.106168\n",
       "15  AggregationTime   duration  0.109427\n",
       "16  AggregationTime   duration  0.109318\n",
       "17  AggregationTime   duration  0.111573\n",
       "18  AggregationTime   duration  0.107629\n",
       "19  AggregationTime   duration  0.109003\n",
       "20  AggregationTime   duration  0.110983"
      ]
     },
     "execution_count": 142,
     "metadata": {},
     "output_type": "execute_result"
    }
   ],
   "source": [
    "coord_aggt_df"
   ]
  },
  {
   "cell_type": "markdown",
   "metadata": {},
   "source": [
    "## DecryptionTime"
   ]
  },
  {
   "cell_type": "code",
   "execution_count": 143,
   "metadata": {},
   "outputs": [],
   "source": [
    "coord_decrypt_df = get_coord_duration(coord_df, \"DecryptionTime\")"
   ]
  },
  {
   "cell_type": "code",
   "execution_count": 144,
   "metadata": {},
   "outputs": [
    {
     "data": {
      "text/plain": [
       "0.9501947045326233"
      ]
     },
     "execution_count": 144,
     "metadata": {},
     "output_type": "execute_result"
    }
   ],
   "source": [
    "coord_decrypt_df['Time'][1:].mean()"
   ]
  },
  {
   "cell_type": "code",
   "execution_count": 145,
   "metadata": {},
   "outputs": [
    {
     "data": {
      "text/html": [
       "<div>\n",
       "<style scoped>\n",
       "    .dataframe tbody tr th:only-of-type {\n",
       "        vertical-align: middle;\n",
       "    }\n",
       "\n",
       "    .dataframe tbody tr th {\n",
       "        vertical-align: top;\n",
       "    }\n",
       "\n",
       "    .dataframe thead th {\n",
       "        text-align: right;\n",
       "    }\n",
       "</style>\n",
       "<table border=\"1\" class=\"dataframe\">\n",
       "  <thead>\n",
       "    <tr style=\"text-align: right;\">\n",
       "      <th></th>\n",
       "      <th>EventType</th>\n",
       "      <th>EventState</th>\n",
       "      <th>Time</th>\n",
       "    </tr>\n",
       "  </thead>\n",
       "  <tbody>\n",
       "    <tr>\n",
       "      <th>0</th>\n",
       "      <td>DecryptionTime</td>\n",
       "      <td>duration</td>\n",
       "      <td>0.951632</td>\n",
       "    </tr>\n",
       "    <tr>\n",
       "      <th>1</th>\n",
       "      <td>DecryptionTime</td>\n",
       "      <td>duration</td>\n",
       "      <td>0.957067</td>\n",
       "    </tr>\n",
       "    <tr>\n",
       "      <th>2</th>\n",
       "      <td>DecryptionTime</td>\n",
       "      <td>duration</td>\n",
       "      <td>0.958531</td>\n",
       "    </tr>\n",
       "    <tr>\n",
       "      <th>3</th>\n",
       "      <td>DecryptionTime</td>\n",
       "      <td>duration</td>\n",
       "      <td>0.952799</td>\n",
       "    </tr>\n",
       "    <tr>\n",
       "      <th>4</th>\n",
       "      <td>DecryptionTime</td>\n",
       "      <td>duration</td>\n",
       "      <td>0.954839</td>\n",
       "    </tr>\n",
       "    <tr>\n",
       "      <th>5</th>\n",
       "      <td>DecryptionTime</td>\n",
       "      <td>duration</td>\n",
       "      <td>0.961585</td>\n",
       "    </tr>\n",
       "    <tr>\n",
       "      <th>6</th>\n",
       "      <td>DecryptionTime</td>\n",
       "      <td>duration</td>\n",
       "      <td>0.948813</td>\n",
       "    </tr>\n",
       "    <tr>\n",
       "      <th>7</th>\n",
       "      <td>DecryptionTime</td>\n",
       "      <td>duration</td>\n",
       "      <td>0.957397</td>\n",
       "    </tr>\n",
       "    <tr>\n",
       "      <th>8</th>\n",
       "      <td>DecryptionTime</td>\n",
       "      <td>duration</td>\n",
       "      <td>0.950274</td>\n",
       "    </tr>\n",
       "    <tr>\n",
       "      <th>9</th>\n",
       "      <td>DecryptionTime</td>\n",
       "      <td>duration</td>\n",
       "      <td>0.946351</td>\n",
       "    </tr>\n",
       "    <tr>\n",
       "      <th>10</th>\n",
       "      <td>DecryptionTime</td>\n",
       "      <td>duration</td>\n",
       "      <td>0.951458</td>\n",
       "    </tr>\n",
       "    <tr>\n",
       "      <th>11</th>\n",
       "      <td>DecryptionTime</td>\n",
       "      <td>duration</td>\n",
       "      <td>0.957028</td>\n",
       "    </tr>\n",
       "    <tr>\n",
       "      <th>12</th>\n",
       "      <td>DecryptionTime</td>\n",
       "      <td>duration</td>\n",
       "      <td>0.943058</td>\n",
       "    </tr>\n",
       "    <tr>\n",
       "      <th>13</th>\n",
       "      <td>DecryptionTime</td>\n",
       "      <td>duration</td>\n",
       "      <td>0.944698</td>\n",
       "    </tr>\n",
       "    <tr>\n",
       "      <th>14</th>\n",
       "      <td>DecryptionTime</td>\n",
       "      <td>duration</td>\n",
       "      <td>0.936544</td>\n",
       "    </tr>\n",
       "    <tr>\n",
       "      <th>15</th>\n",
       "      <td>DecryptionTime</td>\n",
       "      <td>duration</td>\n",
       "      <td>0.942721</td>\n",
       "    </tr>\n",
       "    <tr>\n",
       "      <th>16</th>\n",
       "      <td>DecryptionTime</td>\n",
       "      <td>duration</td>\n",
       "      <td>0.956399</td>\n",
       "    </tr>\n",
       "    <tr>\n",
       "      <th>17</th>\n",
       "      <td>DecryptionTime</td>\n",
       "      <td>duration</td>\n",
       "      <td>0.954781</td>\n",
       "    </tr>\n",
       "    <tr>\n",
       "      <th>18</th>\n",
       "      <td>DecryptionTime</td>\n",
       "      <td>duration</td>\n",
       "      <td>0.938452</td>\n",
       "    </tr>\n",
       "    <tr>\n",
       "      <th>19</th>\n",
       "      <td>DecryptionTime</td>\n",
       "      <td>duration</td>\n",
       "      <td>0.944193</td>\n",
       "    </tr>\n",
       "    <tr>\n",
       "      <th>20</th>\n",
       "      <td>DecryptionTime</td>\n",
       "      <td>duration</td>\n",
       "      <td>0.946907</td>\n",
       "    </tr>\n",
       "  </tbody>\n",
       "</table>\n",
       "</div>"
      ],
      "text/plain": [
       "         EventType EventState      Time\n",
       "0   DecryptionTime   duration  0.951632\n",
       "1   DecryptionTime   duration  0.957067\n",
       "2   DecryptionTime   duration  0.958531\n",
       "3   DecryptionTime   duration  0.952799\n",
       "4   DecryptionTime   duration  0.954839\n",
       "5   DecryptionTime   duration  0.961585\n",
       "6   DecryptionTime   duration  0.948813\n",
       "7   DecryptionTime   duration  0.957397\n",
       "8   DecryptionTime   duration  0.950274\n",
       "9   DecryptionTime   duration  0.946351\n",
       "10  DecryptionTime   duration  0.951458\n",
       "11  DecryptionTime   duration  0.957028\n",
       "12  DecryptionTime   duration  0.943058\n",
       "13  DecryptionTime   duration  0.944698\n",
       "14  DecryptionTime   duration  0.936544\n",
       "15  DecryptionTime   duration  0.942721\n",
       "16  DecryptionTime   duration  0.956399\n",
       "17  DecryptionTime   duration  0.954781\n",
       "18  DecryptionTime   duration  0.938452\n",
       "19  DecryptionTime   duration  0.944193\n",
       "20  DecryptionTime   duration  0.946907"
      ]
     },
     "execution_count": 145,
     "metadata": {},
     "output_type": "execute_result"
    }
   ],
   "source": [
    "coord_decrypt_df"
   ]
  },
  {
   "cell_type": "markdown",
   "metadata": {},
   "source": [
    "## RoundTime"
   ]
  },
  {
   "cell_type": "code",
   "execution_count": 146,
   "metadata": {},
   "outputs": [],
   "source": [
    "coord_round_time_df = get_coord_duration(coord_df, \"RoundTime\")"
   ]
  },
  {
   "cell_type": "code",
   "execution_count": 147,
   "metadata": {},
   "outputs": [
    {
     "data": {
      "text/plain": [
       "19.043557941913605"
      ]
     },
     "execution_count": 147,
     "metadata": {},
     "output_type": "execute_result"
    }
   ],
   "source": [
    "coord_round_time_df[\"Time\"][1:].mean()"
   ]
  },
  {
   "cell_type": "code",
   "execution_count": 100,
   "metadata": {},
   "outputs": [
    {
     "data": {
      "text/html": [
       "<div>\n",
       "<style scoped>\n",
       "    .dataframe tbody tr th:only-of-type {\n",
       "        vertical-align: middle;\n",
       "    }\n",
       "\n",
       "    .dataframe tbody tr th {\n",
       "        vertical-align: top;\n",
       "    }\n",
       "\n",
       "    .dataframe thead th {\n",
       "        text-align: right;\n",
       "    }\n",
       "</style>\n",
       "<table border=\"1\" class=\"dataframe\">\n",
       "  <thead>\n",
       "    <tr style=\"text-align: right;\">\n",
       "      <th></th>\n",
       "      <th>EventType</th>\n",
       "      <th>EventState</th>\n",
       "      <th>Time</th>\n",
       "    </tr>\n",
       "  </thead>\n",
       "  <tbody>\n",
       "    <tr>\n",
       "      <th>0</th>\n",
       "      <td>RoundTime</td>\n",
       "      <td>duration</td>\n",
       "      <td>19.145947</td>\n",
       "    </tr>\n",
       "    <tr>\n",
       "      <th>1</th>\n",
       "      <td>RoundTime</td>\n",
       "      <td>duration</td>\n",
       "      <td>18.873726</td>\n",
       "    </tr>\n",
       "    <tr>\n",
       "      <th>2</th>\n",
       "      <td>RoundTime</td>\n",
       "      <td>duration</td>\n",
       "      <td>19.465924</td>\n",
       "    </tr>\n",
       "    <tr>\n",
       "      <th>3</th>\n",
       "      <td>RoundTime</td>\n",
       "      <td>duration</td>\n",
       "      <td>19.579201</td>\n",
       "    </tr>\n",
       "    <tr>\n",
       "      <th>4</th>\n",
       "      <td>RoundTime</td>\n",
       "      <td>duration</td>\n",
       "      <td>19.174881</td>\n",
       "    </tr>\n",
       "    <tr>\n",
       "      <th>5</th>\n",
       "      <td>RoundTime</td>\n",
       "      <td>duration</td>\n",
       "      <td>18.636325</td>\n",
       "    </tr>\n",
       "    <tr>\n",
       "      <th>6</th>\n",
       "      <td>RoundTime</td>\n",
       "      <td>duration</td>\n",
       "      <td>19.162090</td>\n",
       "    </tr>\n",
       "    <tr>\n",
       "      <th>7</th>\n",
       "      <td>RoundTime</td>\n",
       "      <td>duration</td>\n",
       "      <td>18.452327</td>\n",
       "    </tr>\n",
       "    <tr>\n",
       "      <th>8</th>\n",
       "      <td>RoundTime</td>\n",
       "      <td>duration</td>\n",
       "      <td>19.007770</td>\n",
       "    </tr>\n",
       "    <tr>\n",
       "      <th>9</th>\n",
       "      <td>RoundTime</td>\n",
       "      <td>duration</td>\n",
       "      <td>19.201967</td>\n",
       "    </tr>\n",
       "    <tr>\n",
       "      <th>10</th>\n",
       "      <td>RoundTime</td>\n",
       "      <td>duration</td>\n",
       "      <td>18.682697</td>\n",
       "    </tr>\n",
       "    <tr>\n",
       "      <th>11</th>\n",
       "      <td>RoundTime</td>\n",
       "      <td>duration</td>\n",
       "      <td>19.605116</td>\n",
       "    </tr>\n",
       "    <tr>\n",
       "      <th>12</th>\n",
       "      <td>RoundTime</td>\n",
       "      <td>duration</td>\n",
       "      <td>19.041746</td>\n",
       "    </tr>\n",
       "    <tr>\n",
       "      <th>13</th>\n",
       "      <td>RoundTime</td>\n",
       "      <td>duration</td>\n",
       "      <td>18.909328</td>\n",
       "    </tr>\n",
       "    <tr>\n",
       "      <th>14</th>\n",
       "      <td>RoundTime</td>\n",
       "      <td>duration</td>\n",
       "      <td>19.175711</td>\n",
       "    </tr>\n",
       "    <tr>\n",
       "      <th>15</th>\n",
       "      <td>RoundTime</td>\n",
       "      <td>duration</td>\n",
       "      <td>19.134600</td>\n",
       "    </tr>\n",
       "    <tr>\n",
       "      <th>16</th>\n",
       "      <td>RoundTime</td>\n",
       "      <td>duration</td>\n",
       "      <td>18.412678</td>\n",
       "    </tr>\n",
       "    <tr>\n",
       "      <th>17</th>\n",
       "      <td>RoundTime</td>\n",
       "      <td>duration</td>\n",
       "      <td>19.126152</td>\n",
       "    </tr>\n",
       "    <tr>\n",
       "      <th>18</th>\n",
       "      <td>RoundTime</td>\n",
       "      <td>duration</td>\n",
       "      <td>19.037894</td>\n",
       "    </tr>\n",
       "    <tr>\n",
       "      <th>19</th>\n",
       "      <td>RoundTime</td>\n",
       "      <td>duration</td>\n",
       "      <td>19.154944</td>\n",
       "    </tr>\n",
       "    <tr>\n",
       "      <th>20</th>\n",
       "      <td>RoundTime</td>\n",
       "      <td>duration</td>\n",
       "      <td>19.036083</td>\n",
       "    </tr>\n",
       "  </tbody>\n",
       "</table>\n",
       "</div>"
      ],
      "text/plain": [
       "    EventType EventState       Time\n",
       "0   RoundTime   duration  19.145947\n",
       "1   RoundTime   duration  18.873726\n",
       "2   RoundTime   duration  19.465924\n",
       "3   RoundTime   duration  19.579201\n",
       "4   RoundTime   duration  19.174881\n",
       "5   RoundTime   duration  18.636325\n",
       "6   RoundTime   duration  19.162090\n",
       "7   RoundTime   duration  18.452327\n",
       "8   RoundTime   duration  19.007770\n",
       "9   RoundTime   duration  19.201967\n",
       "10  RoundTime   duration  18.682697\n",
       "11  RoundTime   duration  19.605116\n",
       "12  RoundTime   duration  19.041746\n",
       "13  RoundTime   duration  18.909328\n",
       "14  RoundTime   duration  19.175711\n",
       "15  RoundTime   duration  19.134600\n",
       "16  RoundTime   duration  18.412678\n",
       "17  RoundTime   duration  19.126152\n",
       "18  RoundTime   duration  19.037894\n",
       "19  RoundTime   duration  19.154944\n",
       "20  RoundTime   duration  19.036083"
      ]
     },
     "execution_count": 100,
     "metadata": {},
     "output_type": "execute_result"
    }
   ],
   "source": [
    "coord_round_time_df"
   ]
  },
  {
   "cell_type": "code",
   "execution_count": null,
   "metadata": {},
   "outputs": [],
   "source": []
  },
  {
   "cell_type": "code",
   "execution_count": null,
   "metadata": {},
   "outputs": [],
   "source": []
  },
  {
   "cell_type": "code",
   "execution_count": null,
   "metadata": {},
   "outputs": [],
   "source": []
  },
  {
   "cell_type": "code",
   "execution_count": null,
   "metadata": {},
   "outputs": [],
   "source": []
  },
  {
   "cell_type": "code",
   "execution_count": null,
   "metadata": {},
   "outputs": [],
   "source": []
  }
 ],
 "metadata": {
  "kernelspec": {
   "display_name": "Python 3",
   "language": "python",
   "name": "python3"
  },
  "language_info": {
   "codemirror_mode": {
    "name": "ipython",
    "version": 3
   },
   "file_extension": ".py",
   "mimetype": "text/x-python",
   "name": "python",
   "nbconvert_exporter": "python",
   "pygments_lexer": "ipython3",
   "version": "3.6.10"
  }
 },
 "nbformat": 4,
 "nbformat_minor": 4
}
